{
 "cells": [
  {
   "cell_type": "markdown",
   "metadata": {
    "toc": true
   },
   "source": [
    "<h1>Содержание<span class=\"tocSkip\"></span></h1>\n",
    "<div class=\"toc\"><ul class=\"toc-item\"><li><span><a href=\"#Загрузка-данных\" data-toc-modified-id=\"Загрузка-данных-1\"><span class=\"toc-item-num\">1&nbsp;&nbsp;</span>Загрузка данных</a></span></li><li><span><a href=\"#Умножение-матриц\" data-toc-modified-id=\"Умножение-матриц-2\"><span class=\"toc-item-num\">2&nbsp;&nbsp;</span>Умножение матриц</a></span></li><li><span><a href=\"#Алгоритм-преобразования\" data-toc-modified-id=\"Алгоритм-преобразования-3\"><span class=\"toc-item-num\">3&nbsp;&nbsp;</span>Алгоритм преобразования</a></span></li><li><span><a href=\"#Проверка-алгоритма\" data-toc-modified-id=\"Проверка-алгоритма-4\"><span class=\"toc-item-num\">4&nbsp;&nbsp;</span>Проверка алгоритма</a></span></li></ul></div>"
   ]
  },
  {
   "cell_type": "markdown",
   "metadata": {},
   "source": [
    "# Защита персональных данных клиентов"
   ]
  },
  {
   "cell_type": "markdown",
   "metadata": {},
   "source": [
    "Вам нужно защитить данные клиентов страховой компании «Хоть потоп». Разработайте такой метод преобразования данных, чтобы по ним было сложно восстановить персональную информацию. Обоснуйте корректность его работы.\n",
    "\n",
    "Нужно защитить данные, чтобы при преобразовании качество моделей машинного обучения не ухудшилось. Подбирать наилучшую модель не требуется."
   ]
  },
  {
   "cell_type": "markdown",
   "metadata": {},
   "source": [
    "## Загрузка данных"
   ]
  },
  {
   "cell_type": "code",
   "execution_count": 1,
   "metadata": {},
   "outputs": [],
   "source": [
    "import pandas as pd\n",
    "import numpy as np\n",
    "from sklearn.linear_model import LinearRegression\n",
    "from sklearn.metrics import r2_score\n",
    "from sklearn.model_selection import train_test_split"
   ]
  },
  {
   "cell_type": "code",
   "execution_count": 2,
   "metadata": {},
   "outputs": [],
   "source": [
    "try:\n",
    "    data = pd.read_csv('/datasets/insurance.csv')\n",
    "except FileNotFoundError:\n",
    "    data = pd.read_csv(r'C:\\Users\\ASUS\\Desktop\\Практикум\\Data\\insurance.csv')"
   ]
  },
  {
   "cell_type": "code",
   "execution_count": 3,
   "metadata": {
    "scrolled": true
   },
   "outputs": [
    {
     "data": {
      "text/html": [
       "<div>\n",
       "<style scoped>\n",
       "    .dataframe tbody tr th:only-of-type {\n",
       "        vertical-align: middle;\n",
       "    }\n",
       "\n",
       "    .dataframe tbody tr th {\n",
       "        vertical-align: top;\n",
       "    }\n",
       "\n",
       "    .dataframe thead th {\n",
       "        text-align: right;\n",
       "    }\n",
       "</style>\n",
       "<table border=\"1\" class=\"dataframe\">\n",
       "  <thead>\n",
       "    <tr style=\"text-align: right;\">\n",
       "      <th></th>\n",
       "      <th>Пол</th>\n",
       "      <th>Возраст</th>\n",
       "      <th>Зарплата</th>\n",
       "      <th>Члены семьи</th>\n",
       "      <th>Страховые выплаты</th>\n",
       "    </tr>\n",
       "  </thead>\n",
       "  <tbody>\n",
       "    <tr>\n",
       "      <th>0</th>\n",
       "      <td>1</td>\n",
       "      <td>41.0</td>\n",
       "      <td>49600.0</td>\n",
       "      <td>1</td>\n",
       "      <td>0</td>\n",
       "    </tr>\n",
       "    <tr>\n",
       "      <th>1</th>\n",
       "      <td>0</td>\n",
       "      <td>46.0</td>\n",
       "      <td>38000.0</td>\n",
       "      <td>1</td>\n",
       "      <td>1</td>\n",
       "    </tr>\n",
       "    <tr>\n",
       "      <th>2</th>\n",
       "      <td>0</td>\n",
       "      <td>29.0</td>\n",
       "      <td>21000.0</td>\n",
       "      <td>0</td>\n",
       "      <td>0</td>\n",
       "    </tr>\n",
       "    <tr>\n",
       "      <th>3</th>\n",
       "      <td>0</td>\n",
       "      <td>21.0</td>\n",
       "      <td>41700.0</td>\n",
       "      <td>2</td>\n",
       "      <td>0</td>\n",
       "    </tr>\n",
       "    <tr>\n",
       "      <th>4</th>\n",
       "      <td>1</td>\n",
       "      <td>28.0</td>\n",
       "      <td>26100.0</td>\n",
       "      <td>0</td>\n",
       "      <td>0</td>\n",
       "    </tr>\n",
       "  </tbody>\n",
       "</table>\n",
       "</div>"
      ],
      "text/plain": [
       "   Пол  Возраст  Зарплата  Члены семьи  Страховые выплаты\n",
       "0    1     41.0   49600.0            1                  0\n",
       "1    0     46.0   38000.0            1                  1\n",
       "2    0     29.0   21000.0            0                  0\n",
       "3    0     21.0   41700.0            2                  0\n",
       "4    1     28.0   26100.0            0                  0"
      ]
     },
     "execution_count": 3,
     "metadata": {},
     "output_type": "execute_result"
    }
   ],
   "source": [
    "data.head()"
   ]
  },
  {
   "cell_type": "code",
   "execution_count": 4,
   "metadata": {
    "scrolled": true
   },
   "outputs": [
    {
     "name": "stdout",
     "output_type": "stream",
     "text": [
      "<class 'pandas.core.frame.DataFrame'>\n",
      "RangeIndex: 5000 entries, 0 to 4999\n",
      "Data columns (total 5 columns):\n",
      " #   Column             Non-Null Count  Dtype  \n",
      "---  ------             --------------  -----  \n",
      " 0   Пол                5000 non-null   int64  \n",
      " 1   Возраст            5000 non-null   float64\n",
      " 2   Зарплата           5000 non-null   float64\n",
      " 3   Члены семьи        5000 non-null   int64  \n",
      " 4   Страховые выплаты  5000 non-null   int64  \n",
      "dtypes: float64(2), int64(3)\n",
      "memory usage: 195.4 KB\n"
     ]
    }
   ],
   "source": [
    "data.info()"
   ]
  },
  {
   "cell_type": "code",
   "execution_count": 5,
   "metadata": {},
   "outputs": [],
   "source": [
    "data = data.rename(columns = {'Пол':'sex','Возраст':'age','Зарплата':'salary','Члены семьи':'family_members','Страховые выплаты':'insurance_payments'})"
   ]
  },
  {
   "cell_type": "code",
   "execution_count": 6,
   "metadata": {},
   "outputs": [],
   "source": [
    "data['age'] = data['age'].astype('int64')\n",
    "data['salary'] = data['salary'].astype('int64')"
   ]
  },
  {
   "cell_type": "code",
   "execution_count": 7,
   "metadata": {},
   "outputs": [
    {
     "data": {
      "text/plain": [
       "sex                   0\n",
       "age                   0\n",
       "salary                0\n",
       "family_members        0\n",
       "insurance_payments    0\n",
       "dtype: int64"
      ]
     },
     "execution_count": 7,
     "metadata": {},
     "output_type": "execute_result"
    }
   ],
   "source": [
    "data.isna().sum()"
   ]
  },
  {
   "cell_type": "code",
   "execution_count": 8,
   "metadata": {},
   "outputs": [
    {
     "data": {
      "text/plain": [
       "153"
      ]
     },
     "execution_count": 8,
     "metadata": {},
     "output_type": "execute_result"
    }
   ],
   "source": [
    "data.duplicated().sum()"
   ]
  },
  {
   "cell_type": "code",
   "execution_count": 9,
   "metadata": {},
   "outputs": [
    {
     "name": "stdout",
     "output_type": "stream",
     "text": [
      "<class 'pandas.core.frame.DataFrame'>\n",
      "RangeIndex: 5000 entries, 0 to 4999\n",
      "Data columns (total 5 columns):\n",
      " #   Column              Non-Null Count  Dtype\n",
      "---  ------              --------------  -----\n",
      " 0   sex                 5000 non-null   int64\n",
      " 1   age                 5000 non-null   int64\n",
      " 2   salary              5000 non-null   int64\n",
      " 3   family_members      5000 non-null   int64\n",
      " 4   insurance_payments  5000 non-null   int64\n",
      "dtypes: int64(5)\n",
      "memory usage: 195.4 KB\n"
     ]
    }
   ],
   "source": [
    "data.info()"
   ]
  },
  {
   "cell_type": "code",
   "execution_count": 10,
   "metadata": {},
   "outputs": [
    {
     "data": {
      "image/png": "[encoded data removed]",
      "text/plain": [
       "<Figure size 640x480 with 1 Axes>"
      ]
     },
     "metadata": {},
     "output_type": "display_data"
    }
   ],
   "source": [
    "data['sex'].hist();"
   ]
  },
  {
   "cell_type": "code",
   "execution_count": 11,
   "metadata": {},
   "outputs": [
    {
     "data": {
      "image/png": "[encoded data removed]",
      "text/plain": [
       "<Figure size 640x480 with 1 Axes>"
      ]
     },
     "metadata": {},
     "output_type": "display_data"
    }
   ],
   "source": [
    "data['age'].hist();"
   ]
  },
  {
   "cell_type": "code",
   "execution_count": 12,
   "metadata": {},
   "outputs": [
    {
     "data": {
      "image/png": "[encoded data removed]",
      "text/plain": [
       "<Figure size 640x480 with 1 Axes>"
      ]
     },
     "metadata": {},
     "output_type": "display_data"
    }
   ],
   "source": [
    "data['salary'].hist();"
   ]
  },
  {
   "cell_type": "code",
   "execution_count": 13,
   "metadata": {},
   "outputs": [
    {
     "data": {
      "image/png": "[encoded data removed]",
      "text/plain": [
       "<Figure size 640x480 with 1 Axes>"
      ]
     },
     "metadata": {},
     "output_type": "display_data"
    }
   ],
   "source": [
    "data['family_members'].hist(bins = 7);"
   ]
  },
  {
   "cell_type": "code",
   "execution_count": 14,
   "metadata": {},
   "outputs": [
    {
     "data": {
      "image/png": "[encoded data removed]",
      "text/plain": [
       "<Figure size 640x480 with 1 Axes>"
      ]
     },
     "metadata": {},
     "output_type": "display_data"
    }
   ],
   "source": [
    "data['insurance_payments'].hist(bins=5);"
   ]
  },
  {
   "cell_type": "markdown",
   "metadata": {},
   "source": [
    "В первом этапе была проведена работа:\n",
    "* Изучение данных\n",
    "* Изменение типа данных в столбцах age и salary\n",
    "* Приведение назания столбцов к одному формату\n",
    "* Визуализация данных"
   ]
  },
  {
   "cell_type": "markdown",
   "metadata": {},
   "source": [
    "## Умножение матриц"
   ]
  },
  {
   "cell_type": "markdown",
   "metadata": {},
   "source": [
    "В этом задании вы можете записывать формулы в *Jupyter Notebook.*\n",
    "\n",
    "Чтобы записать формулу внутри текста, окружите её символами доллара \\\\$; если снаружи —  двойными символами \\\\$\\\\$. Эти формулы записываются на языке вёрстки *LaTeX.* \n",
    "\n",
    "Для примера мы записали формулы линейной регрессии. Можете их скопировать и отредактировать, чтобы решить задачу.\n",
    "\n",
    "Работать в *LaTeX* необязательно."
   ]
  },
  {
   "cell_type": "markdown",
   "metadata": {},
   "source": [
    "Обозначения:\n",
    "\n",
    "- $X$ — матрица признаков (нулевой столбец состоит из единиц)\n",
    "\n",
    "- $y$ — вектор целевого признака\n",
    "\n",
    "- $P$ — матрица, на которую умножаются признаки\n",
    "\n",
    "- $w$ — вектор весов линейной регрессии (нулевой элемент равен сдвигу)"
   ]
  },
  {
   "cell_type": "markdown",
   "metadata": {},
   "source": [
    "Ответьте на вопрос и обоснуйте решение. \n",
    "\n",
    " Признаки умножают на обратимую матрицу. Изменится ли качество линейной регрессии? (Её можно обучить заново.)\n",
    " a. Изменится. Приведите примеры матриц.\n",
    " b. Не изменится. Укажите, как связаны параметры линейной регрессии в исходной задаче и в преобразованной."
   ]
  },
  {
   "cell_type": "markdown",
   "metadata": {},
   "source": [
    "Предсказания:\n",
    "\n",
    "$$\n",
    "a = Xw\n",
    "$$\n",
    "\n",
    "Задача обучения:\n",
    "\n",
    "$$\n",
    "w = \\arg\\min_w MSE(Xw, y)\n",
    "$$\n",
    "\n",
    "Формула обучения:\n",
    "\n",
    "$$\n",
    "w = (X^T X)^{-1} X^T y\n",
    "$$"
   ]
  },
  {
   "cell_type": "markdown",
   "metadata": {},
   "source": [
    "**Ответ:**  b.\n",
    "\n",
    "**Обоснование:** Качество линейной регрессии зависит от значений признаков и их взаимосвязи. Если мы умножим признаки на обратимую матрицу, то мы получим новые признаки, которые являются линейной комбинацией исходных признаков. Таким образом, новые признаки будут иметь ту же взаимосвязь, что и исходные признаки, но будут выражены в других координатах."
   ]
  },
  {
   "cell_type": "markdown",
   "metadata": {},
   "source": [
    "## Алгоритм преобразования"
   ]
  },
  {
   "cell_type": "markdown",
   "metadata": {},
   "source": [
    "**Алгоритм**\n",
    "* Создадим произвольную обратимую матрицу\n",
    "* Рассчетаем произведение призноков на обратимую матрицу\n",
    "* Обучим две модели одну с переобразованием данных и одну без\n",
    "* Сравним метрику R2 для каждой матрицы "
   ]
  },
  {
   "cell_type": "markdown",
   "metadata": {},
   "source": [
    "**Обоснование**\n",
    "Таким образом мы можем зашифровать данные клиента и как сказанно выше качество модели не измениться. Сравнением метрик R2 мы можем подтвердить качество модели "
   ]
  },
  {
   "cell_type": "markdown",
   "metadata": {},
   "source": [
    "## Проверка алгоритма"
   ]
  },
  {
   "cell_type": "code",
   "execution_count": 15,
   "metadata": {},
   "outputs": [],
   "source": [
    "features = data.drop(['insurance_payments'], axis=1)\n",
    "target = data['insurance_payments']"
   ]
  },
  {
   "cell_type": "code",
   "execution_count": 16,
   "metadata": {},
   "outputs": [],
   "source": [
    "features_train, features_test, target_train, target_test = train_test_split(features, target, test_size=0.2)"
   ]
  },
  {
   "cell_type": "code",
   "execution_count": 17,
   "metadata": {},
   "outputs": [
    {
     "name": "stdout",
     "output_type": "stream",
     "text": [
      "R2: 0.39501805497631315\n"
     ]
    }
   ],
   "source": [
    "model = LinearRegression()\n",
    "model.fit(features_train, target_train)\n",
    "\n",
    "predictions_train = model.predict(features_test)\n",
    "r2_train = r2_score(target_test, predictions_train)\n",
    "print('R2:', r2_train)"
   ]
  },
  {
   "cell_type": "markdown",
   "metadata": {},
   "source": [
    "Шанс сгенерировать случайную матрицу каторая не будет обратимой очень мал, но попробуем этого избежать "
   ]
  },
  {
   "cell_type": "code",
   "execution_count": 18,
   "metadata": {},
   "outputs": [],
   "source": [
    "matrix = 0\n",
    "invertible_matrix = 0"
   ]
  },
  {
   "cell_type": "code",
   "execution_count": 19,
   "metadata": {},
   "outputs": [],
   "source": [
    "while matrix == 0:\n",
    "    invertible_matrix = np.random.normal(size = (4, 4))\n",
    "    matrix = np.linalg.det(invertible_matrix)"
   ]
  },
  {
   "cell_type": "code",
   "execution_count": 20,
   "metadata": {},
   "outputs": [],
   "source": [
    "features_inv_train = features_train.dot(invertible_matrix)\n",
    "features_inv_test = features_test.dot(invertible_matrix)"
   ]
  },
  {
   "cell_type": "code",
   "execution_count": 21,
   "metadata": {},
   "outputs": [
    {
     "name": "stdout",
     "output_type": "stream",
     "text": [
      "R2: 0.39501805497624687\n"
     ]
    }
   ],
   "source": [
    "model_inv = LinearRegression()\n",
    "model_inv.fit(features_inv_train, target_train)\n",
    "\n",
    "predictions_inv_train = model_inv.predict(features_inv_test)\n",
    "r2v2 = r2_score(target_test, predictions_inv_train)\n",
    "print('R2:', r2v2)"
   ]
  },
  {
   "cell_type": "code",
   "execution_count": 22,
   "metadata": {},
   "outputs": [
    {
     "name": "stdout",
     "output_type": "stream",
     "text": [
      "6.628031457012185e-14\n"
     ]
    }
   ],
   "source": [
    "print(r2_train-r2v2)"
   ]
  },
  {
   "cell_type": "markdown",
   "metadata": {},
   "source": [
    "        Мы построили две модели линейной регресии по данным страховой компаниию, в одной мы ничего не меняли а во второй мы инвертировали матрицу. Сравнеие матрики R2 покажет на сколько близки модели по качеству и можно ли шифровать данные без потери точности модели.\n",
    "    \n",
    "        Как мы видим разница бежду R2 метриками незначительна. Таким образом можно обеспечть безопасность данных клиентов не жертвуя качеством модели "
   ]
  },
  {
   "cell_type": "code",
   "execution_count": null,
   "metadata": {},
   "outputs": [],
   "source": []
  }
 ],
 "metadata": {
  "ExecuteTimeLog": [
   {
    "duration": 430,
    "start_time": "2023-08-28T03:11:47.800Z"
   },
   {
    "duration": 96,
    "start_time": "2023-08-28T03:11:48.337Z"
   },
   {
    "duration": 17,
    "start_time": "2023-08-28T03:11:59.948Z"
   },
   {
    "duration": 69,
    "start_time": "2023-08-28T03:13:37.242Z"
   },
   {
    "duration": 11,
    "start_time": "2023-08-28T03:13:40.732Z"
   },
   {
    "duration": 18,
    "start_time": "2023-08-28T03:14:07.406Z"
   },
   {
    "duration": 9,
    "start_time": "2023-08-28T03:21:54.902Z"
   },
   {
    "duration": 9,
    "start_time": "2023-08-28T03:22:07.982Z"
   },
   {
    "duration": 505,
    "start_time": "2023-08-28T03:22:35.680Z"
   },
   {
    "duration": 4,
    "start_time": "2023-08-28T03:23:00.640Z"
   },
   {
    "duration": 31,
    "start_time": "2023-08-28T03:23:01.258Z"
   },
   {
    "duration": 24,
    "start_time": "2023-08-28T03:23:01.668Z"
   },
   {
    "duration": 18,
    "start_time": "2023-08-28T03:23:02.500Z"
   },
   {
    "duration": 12,
    "start_time": "2023-08-28T03:23:02.967Z"
   },
   {
    "duration": 9,
    "start_time": "2023-08-28T03:23:05.320Z"
   },
   {
    "duration": 7069,
    "start_time": "2023-08-28T03:23:41.117Z"
   },
   {
    "duration": 1082,
    "start_time": "2023-08-28T03:23:51.285Z"
   },
   {
    "duration": 4,
    "start_time": "2023-08-28T03:23:52.446Z"
   },
   {
    "duration": 16,
    "start_time": "2023-08-28T03:24:06.912Z"
   },
   {
    "duration": 84,
    "start_time": "2023-08-28T03:30:55.108Z"
   },
   {
    "duration": 5,
    "start_time": "2023-08-28T03:31:02.866Z"
   },
   {
    "duration": 16,
    "start_time": "2023-08-28T03:31:15.710Z"
   },
   {
    "duration": 5,
    "start_time": "2023-08-28T03:31:32.207Z"
   },
   {
    "duration": 17,
    "start_time": "2023-08-28T03:31:32.675Z"
   },
   {
    "duration": 368,
    "start_time": "2023-08-28T03:31:49.357Z"
   },
   {
    "duration": 29,
    "start_time": "2023-08-28T03:31:49.782Z"
   },
   {
    "duration": 16,
    "start_time": "2023-08-28T03:31:50.402Z"
   },
   {
    "duration": 14,
    "start_time": "2023-08-28T03:31:50.615Z"
   },
   {
    "duration": 4,
    "start_time": "2023-08-28T03:31:50.794Z"
   },
   {
    "duration": 12,
    "start_time": "2023-08-28T03:31:50.971Z"
   },
   {
    "duration": 7,
    "start_time": "2023-08-28T03:32:30.174Z"
   },
   {
    "duration": 6,
    "start_time": "2023-08-28T03:33:13.305Z"
   },
   {
    "duration": 6,
    "start_time": "2023-08-28T03:35:10.608Z"
   },
   {
    "duration": 7,
    "start_time": "2023-08-28T03:35:11.515Z"
   },
   {
    "duration": 7,
    "start_time": "2023-08-28T03:35:12.277Z"
   },
   {
    "duration": 9,
    "start_time": "2023-08-28T03:35:13.296Z"
   },
   {
    "duration": 14,
    "start_time": "2023-08-28T03:35:21.286Z"
   },
   {
    "duration": 6,
    "start_time": "2023-08-28T04:53:42.410Z"
   },
   {
    "duration": 69,
    "start_time": "2023-08-28T04:53:43.089Z"
   },
   {
    "duration": 856,
    "start_time": "2023-08-28T04:54:08.043Z"
   },
   {
    "duration": 41,
    "start_time": "2023-08-28T04:54:12.796Z"
   },
   {
    "duration": 3,
    "start_time": "2023-08-28T04:57:22.569Z"
   },
   {
    "duration": 41,
    "start_time": "2023-08-28T05:02:39.738Z"
   },
   {
    "duration": 3,
    "start_time": "2023-08-28T05:14:04.827Z"
   },
   {
    "duration": 10,
    "start_time": "2023-08-28T05:14:14.243Z"
   },
   {
    "duration": 9,
    "start_time": "2023-08-28T05:14:27.623Z"
   },
   {
    "duration": 5,
    "start_time": "2023-08-28T05:14:35.259Z"
   },
   {
    "duration": 6,
    "start_time": "2023-08-28T05:14:47.516Z"
   },
   {
    "duration": 6,
    "start_time": "2023-08-28T05:15:46.868Z"
   },
   {
    "duration": 7,
    "start_time": "2023-08-28T05:15:51.936Z"
   },
   {
    "duration": 4,
    "start_time": "2023-08-28T05:19:12.831Z"
   },
   {
    "duration": 17,
    "start_time": "2023-08-28T05:19:13.722Z"
   },
   {
    "duration": 3,
    "start_time": "2023-08-28T05:20:01.977Z"
   },
   {
    "duration": 3,
    "start_time": "2023-08-28T05:40:09.884Z"
   },
   {
    "duration": 9,
    "start_time": "2023-08-28T05:40:13.028Z"
   },
   {
    "duration": 4,
    "start_time": "2023-08-28T05:40:36.235Z"
   },
   {
    "duration": 137,
    "start_time": "2023-08-28T05:40:39.076Z"
   },
   {
    "duration": 4,
    "start_time": "2023-08-28T05:40:40.693Z"
   },
   {
    "duration": 1309,
    "start_time": "2023-08-28T05:40:54.073Z"
   },
   {
    "duration": 39,
    "start_time": "2023-08-28T05:40:55.383Z"
   },
   {
    "duration": 21,
    "start_time": "2023-08-28T05:40:55.426Z"
   },
   {
    "duration": 16,
    "start_time": "2023-08-28T05:40:55.449Z"
   },
   {
    "duration": 5,
    "start_time": "2023-08-28T05:40:55.468Z"
   },
   {
    "duration": 7,
    "start_time": "2023-08-28T05:40:55.475Z"
   },
   {
    "duration": 33,
    "start_time": "2023-08-28T05:40:55.484Z"
   },
   {
    "duration": 10,
    "start_time": "2023-08-28T05:40:55.524Z"
   },
   {
    "duration": 17,
    "start_time": "2023-08-28T05:40:55.537Z"
   },
   {
    "duration": 9,
    "start_time": "2023-08-28T05:40:55.557Z"
   },
   {
    "duration": 59,
    "start_time": "2023-08-28T05:40:55.568Z"
   },
   {
    "duration": 294,
    "start_time": "2023-08-28T05:40:55.629Z"
   },
   {
    "duration": 0,
    "start_time": "2023-08-28T05:40:55.925Z"
   },
   {
    "duration": 0,
    "start_time": "2023-08-28T05:40:55.927Z"
   },
   {
    "duration": 0,
    "start_time": "2023-08-28T05:40:55.928Z"
   },
   {
    "duration": 5,
    "start_time": "2023-08-28T05:41:31.832Z"
   },
   {
    "duration": 3,
    "start_time": "2023-08-28T05:41:33.461Z"
   },
   {
    "duration": 59,
    "start_time": "2023-08-28T05:41:34.158Z"
   },
   {
    "duration": 4,
    "start_time": "2023-08-28T05:41:34.631Z"
   },
   {
    "duration": 12,
    "start_time": "2023-08-28T05:42:02.344Z"
   },
   {
    "duration": 3,
    "start_time": "2023-08-28T05:42:03.739Z"
   },
   {
    "duration": 3,
    "start_time": "2023-08-28T05:42:04.267Z"
   },
   {
    "duration": 36,
    "start_time": "2023-08-28T05:42:04.723Z"
   },
   {
    "duration": 3,
    "start_time": "2023-08-28T05:42:05.653Z"
   },
   {
    "duration": 11,
    "start_time": "2023-08-28T05:42:10.482Z"
   },
   {
    "duration": 4,
    "start_time": "2023-08-28T05:42:11.681Z"
   },
   {
    "duration": 3,
    "start_time": "2023-08-28T05:42:11.965Z"
   },
   {
    "duration": 15,
    "start_time": "2023-08-28T05:42:12.389Z"
   },
   {
    "duration": 4,
    "start_time": "2023-08-28T05:42:15.836Z"
   },
   {
    "duration": 1158,
    "start_time": "2023-08-28T05:43:11.900Z"
   },
   {
    "duration": 31,
    "start_time": "2023-08-28T05:43:13.060Z"
   },
   {
    "duration": 27,
    "start_time": "2023-08-28T05:43:13.093Z"
   },
   {
    "duration": 12,
    "start_time": "2023-08-28T05:43:13.122Z"
   },
   {
    "duration": 4,
    "start_time": "2023-08-28T05:43:13.137Z"
   },
   {
    "duration": 17,
    "start_time": "2023-08-28T05:43:13.143Z"
   },
   {
    "duration": 6,
    "start_time": "2023-08-28T05:43:13.162Z"
   },
   {
    "duration": 11,
    "start_time": "2023-08-28T05:43:13.170Z"
   },
   {
    "duration": 29,
    "start_time": "2023-08-28T05:43:13.183Z"
   },
   {
    "duration": 5,
    "start_time": "2023-08-28T05:43:13.214Z"
   },
   {
    "duration": 18,
    "start_time": "2023-08-28T05:43:13.222Z"
   },
   {
    "duration": 17,
    "start_time": "2023-08-28T05:43:13.312Z"
   },
   {
    "duration": 85,
    "start_time": "2023-08-28T05:43:13.331Z"
   },
   {
    "duration": 14,
    "start_time": "2023-08-28T05:43:13.419Z"
   },
   {
    "duration": 5,
    "start_time": "2023-08-28T05:43:13.507Z"
   },
   {
    "duration": 1278,
    "start_time": "2023-08-28T05:43:51.842Z"
   },
   {
    "duration": 30,
    "start_time": "2023-08-28T05:43:53.126Z"
   },
   {
    "duration": 15,
    "start_time": "2023-08-28T05:43:53.158Z"
   },
   {
    "duration": 165,
    "start_time": "2023-08-28T05:43:53.175Z"
   },
   {
    "duration": 4,
    "start_time": "2023-08-28T05:43:53.343Z"
   },
   {
    "duration": 7,
    "start_time": "2023-08-28T05:43:53.349Z"
   },
   {
    "duration": 27,
    "start_time": "2023-08-28T05:43:53.358Z"
   },
   {
    "duration": 39,
    "start_time": "2023-08-28T05:43:53.386Z"
   },
   {
    "duration": 12,
    "start_time": "2023-08-28T05:43:53.426Z"
   },
   {
    "duration": 5,
    "start_time": "2023-08-28T05:43:53.440Z"
   },
   {
    "duration": 68,
    "start_time": "2023-08-28T05:43:53.447Z"
   },
   {
    "duration": 5,
    "start_time": "2023-08-28T05:43:53.518Z"
   },
   {
    "duration": 86,
    "start_time": "2023-08-28T05:43:53.525Z"
   },
   {
    "duration": 22,
    "start_time": "2023-08-28T05:43:53.614Z"
   },
   {
    "duration": 75,
    "start_time": "2023-08-28T05:43:53.639Z"
   },
   {
    "duration": 5,
    "start_time": "2023-08-28T05:43:53.716Z"
   },
   {
    "duration": 1317,
    "start_time": "2023-08-28T11:50:26.725Z"
   },
   {
    "duration": 53,
    "start_time": "2023-08-28T11:50:28.046Z"
   },
   {
    "duration": 15,
    "start_time": "2023-08-28T11:50:28.101Z"
   },
   {
    "duration": 20,
    "start_time": "2023-08-28T11:50:28.118Z"
   },
   {
    "duration": 5,
    "start_time": "2023-08-28T11:50:28.149Z"
   },
   {
    "duration": 35,
    "start_time": "2023-08-28T11:50:28.157Z"
   },
   {
    "duration": 27,
    "start_time": "2023-08-28T11:50:28.193Z"
   },
   {
    "duration": 11,
    "start_time": "2023-08-28T11:50:28.221Z"
   },
   {
    "duration": 37,
    "start_time": "2023-08-28T11:50:28.237Z"
   },
   {
    "duration": 10,
    "start_time": "2023-08-28T11:50:28.284Z"
   },
   {
    "duration": 14,
    "start_time": "2023-08-28T11:50:28.296Z"
   },
   {
    "duration": 44,
    "start_time": "2023-08-28T11:50:28.312Z"
   },
   {
    "duration": 14,
    "start_time": "2023-08-28T11:50:28.358Z"
   },
   {
    "duration": 18,
    "start_time": "2023-08-28T11:50:28.374Z"
   },
   {
    "duration": 37,
    "start_time": "2023-08-28T11:50:28.442Z"
   },
   {
    "duration": 6,
    "start_time": "2023-08-28T11:50:28.486Z"
   },
   {
    "duration": 10,
    "start_time": "2023-08-28T12:25:50.355Z"
   },
   {
    "duration": 1379,
    "start_time": "2023-08-31T10:42:29.194Z"
   },
   {
    "duration": 101,
    "start_time": "2023-08-31T10:42:30.588Z"
   },
   {
    "duration": 18,
    "start_time": "2023-08-31T10:42:30.691Z"
   },
   {
    "duration": 60,
    "start_time": "2023-08-31T10:42:30.711Z"
   },
   {
    "duration": 31,
    "start_time": "2023-08-31T10:42:30.774Z"
   },
   {
    "duration": 38,
    "start_time": "2023-08-31T10:42:30.808Z"
   },
   {
    "duration": 55,
    "start_time": "2023-08-31T10:42:30.852Z"
   },
   {
    "duration": 69,
    "start_time": "2023-08-31T10:42:30.909Z"
   },
   {
    "duration": 134,
    "start_time": "2023-08-31T10:42:30.985Z"
   },
   {
    "duration": 97,
    "start_time": "2023-08-31T10:42:31.122Z"
   },
   {
    "duration": 115,
    "start_time": "2023-08-31T10:42:31.221Z"
   },
   {
    "duration": 47,
    "start_time": "2023-08-31T10:42:31.338Z"
   },
   {
    "duration": 118,
    "start_time": "2023-08-31T10:42:31.387Z"
   },
   {
    "duration": 53,
    "start_time": "2023-08-31T10:42:31.508Z"
   },
   {
    "duration": 62,
    "start_time": "2023-08-31T10:42:31.567Z"
   },
   {
    "duration": 131,
    "start_time": "2023-08-31T10:42:31.632Z"
   },
   {
    "duration": 7,
    "start_time": "2023-08-31T10:42:43.911Z"
   },
   {
    "duration": 789,
    "start_time": "2023-08-31T10:44:09.112Z"
   },
   {
    "duration": 145,
    "start_time": "2023-08-31T10:44:10.472Z"
   },
   {
    "duration": 216,
    "start_time": "2023-08-31T10:44:12.307Z"
   },
   {
    "duration": 150,
    "start_time": "2023-08-31T10:44:13.276Z"
   },
   {
    "duration": 141,
    "start_time": "2023-08-31T10:44:14.087Z"
   },
   {
    "duration": 160,
    "start_time": "2023-08-31T10:44:35.806Z"
   },
   {
    "duration": 223,
    "start_time": "2023-08-31T10:44:42.198Z"
   },
   {
    "duration": 194,
    "start_time": "2023-08-31T10:44:45.672Z"
   },
   {
    "duration": 147,
    "start_time": "2023-08-31T10:44:49.343Z"
   },
   {
    "duration": 144,
    "start_time": "2023-08-31T10:44:55.079Z"
   },
   {
    "duration": 149,
    "start_time": "2023-08-31T10:44:59.771Z"
   },
   {
    "duration": 166,
    "start_time": "2023-08-31T10:45:04.282Z"
   },
   {
    "duration": 3,
    "start_time": "2023-08-31T10:51:27.386Z"
   },
   {
    "duration": 7,
    "start_time": "2023-08-31T10:51:33.875Z"
   },
   {
    "duration": 288,
    "start_time": "2023-08-31T10:53:20.202Z"
   },
   {
    "duration": 17,
    "start_time": "2023-08-31T10:53:36.956Z"
   },
   {
    "duration": 9,
    "start_time": "2023-08-31T10:54:12.722Z"
   },
   {
    "duration": 3,
    "start_time": "2023-08-31T10:54:14.006Z"
   },
   {
    "duration": 3,
    "start_time": "2023-08-31T10:54:14.304Z"
   },
   {
    "duration": 4,
    "start_time": "2023-08-31T10:54:14.688Z"
   },
   {
    "duration": 162,
    "start_time": "2023-08-31T10:54:16.698Z"
   },
   {
    "duration": 4,
    "start_time": "2023-08-31T10:54:46.315Z"
   },
   {
    "duration": 176,
    "start_time": "2023-08-31T10:54:46.876Z"
   },
   {
    "duration": 1230,
    "start_time": "2023-08-31T10:55:27.878Z"
   },
   {
    "duration": 29,
    "start_time": "2023-08-31T10:55:29.110Z"
   },
   {
    "duration": 20,
    "start_time": "2023-08-31T10:55:29.141Z"
   },
   {
    "duration": 21,
    "start_time": "2023-08-31T10:55:29.162Z"
   },
   {
    "duration": 6,
    "start_time": "2023-08-31T10:55:29.186Z"
   },
   {
    "duration": 16,
    "start_time": "2023-08-31T10:55:29.195Z"
   },
   {
    "duration": 17,
    "start_time": "2023-08-31T10:55:29.213Z"
   },
   {
    "duration": 26,
    "start_time": "2023-08-31T10:55:29.232Z"
   },
   {
    "duration": 24,
    "start_time": "2023-08-31T10:55:29.259Z"
   },
   {
    "duration": 489,
    "start_time": "2023-08-31T10:55:29.288Z"
   },
   {
    "duration": 140,
    "start_time": "2023-08-31T10:55:29.779Z"
   },
   {
    "duration": 186,
    "start_time": "2023-08-31T10:55:29.921Z"
   },
   {
    "duration": 183,
    "start_time": "2023-08-31T10:55:30.110Z"
   },
   {
    "duration": 166,
    "start_time": "2023-08-31T10:55:30.296Z"
   },
   {
    "duration": 7,
    "start_time": "2023-08-31T10:55:30.464Z"
   },
   {
    "duration": 24,
    "start_time": "2023-08-31T10:55:30.474Z"
   },
   {
    "duration": 37,
    "start_time": "2023-08-31T10:55:30.500Z"
   },
   {
    "duration": 45,
    "start_time": "2023-08-31T10:55:30.539Z"
   },
   {
    "duration": 34,
    "start_time": "2023-08-31T10:55:30.586Z"
   },
   {
    "duration": 38,
    "start_time": "2023-08-31T10:55:30.622Z"
   },
   {
    "duration": 317,
    "start_time": "2023-08-31T10:55:30.662Z"
   },
   {
    "duration": 0,
    "start_time": "2023-08-31T10:55:30.981Z"
   },
   {
    "duration": 86,
    "start_time": "2023-08-31T10:55:53.972Z"
   },
   {
    "duration": 4,
    "start_time": "2023-08-31T10:56:46.660Z"
   },
   {
    "duration": 17,
    "start_time": "2023-08-31T10:56:47.500Z"
   },
   {
    "duration": 16,
    "start_time": "2023-08-31T10:57:08.001Z"
   },
   {
    "duration": 5,
    "start_time": "2023-08-31T10:57:50.463Z"
   },
   {
    "duration": 4,
    "start_time": "2023-08-31T10:57:50.851Z"
   },
   {
    "duration": 3,
    "start_time": "2023-08-31T10:57:51.126Z"
   },
   {
    "duration": 11,
    "start_time": "2023-08-31T10:57:51.328Z"
   },
   {
    "duration": 3,
    "start_time": "2023-08-31T10:57:52.584Z"
   },
   {
    "duration": 11,
    "start_time": "2023-08-31T10:57:56.774Z"
   },
   {
    "duration": 3,
    "start_time": "2023-08-31T10:57:57.880Z"
   },
   {
    "duration": 5,
    "start_time": "2023-08-31T10:57:58.075Z"
   },
   {
    "duration": 3,
    "start_time": "2023-08-31T10:57:58.220Z"
   },
   {
    "duration": 11,
    "start_time": "2023-08-31T10:57:58.403Z"
   },
   {
    "duration": 6,
    "start_time": "2023-08-31T10:57:58.574Z"
   },
   {
    "duration": 3,
    "start_time": "2023-08-31T10:58:01.737Z"
   },
   {
    "duration": 11,
    "start_time": "2023-08-31T10:58:03.851Z"
   },
   {
    "duration": 157,
    "start_time": "2023-08-31T11:03:02.755Z"
   },
   {
    "duration": 244,
    "start_time": "2023-08-31T11:03:06.841Z"
   },
   {
    "duration": 136,
    "start_time": "2023-08-31T11:03:11.461Z"
   },
   {
    "duration": 136,
    "start_time": "2023-08-31T11:03:16.537Z"
   },
   {
    "duration": 156,
    "start_time": "2023-08-31T11:03:21.399Z"
   },
   {
    "duration": 154,
    "start_time": "2023-08-31T11:03:32.539Z"
   },
   {
    "duration": 141,
    "start_time": "2023-08-31T11:03:47.603Z"
   },
   {
    "duration": 129,
    "start_time": "2023-08-31T11:03:52.301Z"
   },
   {
    "duration": 1216,
    "start_time": "2023-08-31T11:10:28.420Z"
   },
   {
    "duration": 39,
    "start_time": "2023-08-31T11:10:29.638Z"
   },
   {
    "duration": 16,
    "start_time": "2023-08-31T11:10:29.678Z"
   },
   {
    "duration": 13,
    "start_time": "2023-08-31T11:10:29.696Z"
   },
   {
    "duration": 4,
    "start_time": "2023-08-31T11:10:29.711Z"
   },
   {
    "duration": 14,
    "start_time": "2023-08-31T11:10:29.717Z"
   },
   {
    "duration": 9,
    "start_time": "2023-08-31T11:10:29.733Z"
   },
   {
    "duration": 20,
    "start_time": "2023-08-31T11:10:29.744Z"
   },
   {
    "duration": 18,
    "start_time": "2023-08-31T11:10:29.767Z"
   },
   {
    "duration": 482,
    "start_time": "2023-08-31T11:10:29.788Z"
   },
   {
    "duration": 152,
    "start_time": "2023-08-31T11:10:30.272Z"
   },
   {
    "duration": 169,
    "start_time": "2023-08-31T11:10:30.426Z"
   },
   {
    "duration": 155,
    "start_time": "2023-08-31T11:10:30.597Z"
   },
   {
    "duration": 126,
    "start_time": "2023-08-31T11:10:30.758Z"
   },
   {
    "duration": 5,
    "start_time": "2023-08-31T11:10:30.886Z"
   },
   {
    "duration": 38,
    "start_time": "2023-08-31T11:10:30.892Z"
   },
   {
    "duration": 135,
    "start_time": "2023-08-31T11:10:30.948Z"
   },
   {
    "duration": 57,
    "start_time": "2023-08-31T11:10:31.085Z"
   },
   {
    "duration": 38,
    "start_time": "2023-08-31T11:10:31.145Z"
   },
   {
    "duration": 40,
    "start_time": "2023-08-31T11:10:31.185Z"
   },
   {
    "duration": 26,
    "start_time": "2023-08-31T11:10:31.228Z"
   },
   {
    "duration": 60,
    "start_time": "2023-09-01T02:10:44.203Z"
   },
   {
    "duration": 1147,
    "start_time": "2023-09-01T02:10:52.354Z"
   },
   {
    "duration": 80,
    "start_time": "2023-09-01T02:10:53.505Z"
   },
   {
    "duration": 19,
    "start_time": "2023-09-01T02:10:53.587Z"
   },
   {
    "duration": 21,
    "start_time": "2023-09-01T02:10:53.607Z"
   },
   {
    "duration": 5,
    "start_time": "2023-09-01T02:10:53.630Z"
   },
   {
    "duration": 8,
    "start_time": "2023-09-01T02:10:53.637Z"
   },
   {
    "duration": 8,
    "start_time": "2023-09-01T02:10:53.646Z"
   },
   {
    "duration": 19,
    "start_time": "2023-09-01T02:10:53.656Z"
   },
   {
    "duration": 12,
    "start_time": "2023-09-01T02:10:53.676Z"
   },
   {
    "duration": 610,
    "start_time": "2023-09-01T02:10:53.690Z"
   },
   {
    "duration": 175,
    "start_time": "2023-09-01T02:10:54.302Z"
   },
   {
    "duration": 196,
    "start_time": "2023-09-01T02:10:54.479Z"
   },
   {
    "duration": 192,
    "start_time": "2023-09-01T02:10:54.677Z"
   },
   {
    "duration": 147,
    "start_time": "2023-09-01T02:10:54.873Z"
   },
   {
    "duration": 5,
    "start_time": "2023-09-01T02:10:55.021Z"
   },
   {
    "duration": 36,
    "start_time": "2023-09-01T02:10:55.028Z"
   },
   {
    "duration": 69,
    "start_time": "2023-09-01T02:10:55.065Z"
   },
   {
    "duration": 190,
    "start_time": "2023-09-01T02:10:55.137Z"
   },
   {
    "duration": 95,
    "start_time": "2023-09-01T02:10:55.329Z"
   },
   {
    "duration": 96,
    "start_time": "2023-09-01T02:10:55.427Z"
   },
   {
    "duration": 65,
    "start_time": "2023-09-01T02:10:55.525Z"
   },
   {
    "duration": 36,
    "start_time": "2023-09-01T02:10:55.592Z"
   },
   {
    "duration": 158,
    "start_time": "2023-09-01T02:10:55.630Z"
   },
   {
    "duration": 0,
    "start_time": "2023-09-01T02:10:55.789Z"
   },
   {
    "duration": 11,
    "start_time": "2023-09-01T02:18:24.544Z"
   },
   {
    "duration": 12,
    "start_time": "2023-09-01T02:18:30.779Z"
   },
   {
    "duration": 13,
    "start_time": "2023-09-01T02:19:10.474Z"
   },
   {
    "duration": 4,
    "start_time": "2023-09-01T02:19:24.962Z"
   },
   {
    "duration": 10,
    "start_time": "2023-09-01T02:19:45.110Z"
   },
   {
    "duration": 1220,
    "start_time": "2023-09-01T02:20:17.730Z"
   },
   {
    "duration": 29,
    "start_time": "2023-09-01T02:20:18.952Z"
   },
   {
    "duration": 17,
    "start_time": "2023-09-01T02:20:18.982Z"
   },
   {
    "duration": 34,
    "start_time": "2023-09-01T02:20:19.001Z"
   },
   {
    "duration": 28,
    "start_time": "2023-09-01T02:20:19.037Z"
   },
   {
    "duration": 33,
    "start_time": "2023-09-01T02:20:19.067Z"
   },
   {
    "duration": 18,
    "start_time": "2023-09-01T02:20:19.107Z"
   },
   {
    "duration": 16,
    "start_time": "2023-09-01T02:20:19.127Z"
   },
   {
    "duration": 23,
    "start_time": "2023-09-01T02:20:19.145Z"
   },
   {
    "duration": 442,
    "start_time": "2023-09-01T02:20:19.170Z"
   },
   {
    "duration": 127,
    "start_time": "2023-09-01T02:20:19.614Z"
   },
   {
    "duration": 156,
    "start_time": "2023-09-01T02:20:19.743Z"
   },
   {
    "duration": 153,
    "start_time": "2023-09-01T02:20:19.900Z"
   },
   {
    "duration": 120,
    "start_time": "2023-09-01T02:20:20.056Z"
   },
   {
    "duration": 4,
    "start_time": "2023-09-01T02:20:20.178Z"
   },
   {
    "duration": 32,
    "start_time": "2023-09-01T02:20:20.183Z"
   },
   {
    "duration": 36,
    "start_time": "2023-09-01T02:20:20.216Z"
   },
   {
    "duration": 44,
    "start_time": "2023-09-01T02:20:20.254Z"
   },
   {
    "duration": 34,
    "start_time": "2023-09-01T02:20:20.300Z"
   },
   {
    "duration": 21,
    "start_time": "2023-09-01T02:20:20.336Z"
   },
   {
    "duration": 73,
    "start_time": "2023-09-01T02:20:20.359Z"
   },
   {
    "duration": 27,
    "start_time": "2023-09-01T02:20:20.434Z"
   },
   {
    "duration": 1200,
    "start_time": "2023-09-01T02:20:42.817Z"
   },
   {
    "duration": 29,
    "start_time": "2023-09-01T02:20:44.019Z"
   },
   {
    "duration": 16,
    "start_time": "2023-09-01T02:20:44.050Z"
   },
   {
    "duration": 37,
    "start_time": "2023-09-01T02:20:44.068Z"
   },
   {
    "duration": 16,
    "start_time": "2023-09-01T02:20:44.113Z"
   },
   {
    "duration": 30,
    "start_time": "2023-09-01T02:20:44.130Z"
   },
   {
    "duration": 53,
    "start_time": "2023-09-01T02:20:44.162Z"
   },
   {
    "duration": 13,
    "start_time": "2023-09-01T02:20:44.217Z"
   },
   {
    "duration": 35,
    "start_time": "2023-09-01T02:20:44.232Z"
   },
   {
    "duration": 497,
    "start_time": "2023-09-01T02:20:44.269Z"
   },
   {
    "duration": 152,
    "start_time": "2023-09-01T02:20:44.769Z"
   },
   {
    "duration": 153,
    "start_time": "2023-09-01T02:20:44.923Z"
   },
   {
    "duration": 159,
    "start_time": "2023-09-01T02:20:45.078Z"
   },
   {
    "duration": 138,
    "start_time": "2023-09-01T02:20:45.240Z"
   },
   {
    "duration": 5,
    "start_time": "2023-09-01T02:20:45.380Z"
   },
   {
    "duration": 113,
    "start_time": "2023-09-01T02:20:45.386Z"
   },
   {
    "duration": 73,
    "start_time": "2023-09-01T02:20:45.501Z"
   },
   {
    "duration": 70,
    "start_time": "2023-09-01T02:20:45.576Z"
   },
   {
    "duration": 26,
    "start_time": "2023-09-01T02:20:45.648Z"
   },
   {
    "duration": 24,
    "start_time": "2023-09-01T02:20:45.676Z"
   },
   {
    "duration": 22,
    "start_time": "2023-09-01T02:20:45.702Z"
   },
   {
    "duration": 18,
    "start_time": "2023-09-01T02:20:45.726Z"
   },
   {
    "duration": 3,
    "start_time": "2023-09-01T02:29:18.055Z"
   },
   {
    "duration": 204,
    "start_time": "2023-09-01T02:29:18.421Z"
   },
   {
    "duration": 28,
    "start_time": "2023-09-01T02:30:04.853Z"
   },
   {
    "duration": 1160,
    "start_time": "2023-09-01T02:33:30.115Z"
   },
   {
    "duration": 44,
    "start_time": "2023-09-01T02:33:31.277Z"
   },
   {
    "duration": 56,
    "start_time": "2023-09-01T02:33:31.324Z"
   },
   {
    "duration": 114,
    "start_time": "2023-09-01T02:33:31.382Z"
   },
   {
    "duration": 22,
    "start_time": "2023-09-01T02:33:31.498Z"
   },
   {
    "duration": 19,
    "start_time": "2023-09-01T02:33:31.522Z"
   },
   {
    "duration": 35,
    "start_time": "2023-09-01T02:33:31.543Z"
   },
   {
    "duration": 167,
    "start_time": "2023-09-01T02:33:31.580Z"
   },
   {
    "duration": 149,
    "start_time": "2023-09-01T02:33:31.749Z"
   },
   {
    "duration": 482,
    "start_time": "2023-09-01T02:33:31.899Z"
   },
   {
    "duration": 162,
    "start_time": "2023-09-01T02:33:32.383Z"
   },
   {
    "duration": 151,
    "start_time": "2023-09-01T02:33:32.547Z"
   },
   {
    "duration": 142,
    "start_time": "2023-09-01T02:33:32.705Z"
   },
   {
    "duration": 126,
    "start_time": "2023-09-01T02:33:32.850Z"
   },
   {
    "duration": 6,
    "start_time": "2023-09-01T02:33:32.977Z"
   },
   {
    "duration": 24,
    "start_time": "2023-09-01T02:33:32.984Z"
   },
   {
    "duration": 15,
    "start_time": "2023-09-01T02:33:33.010Z"
   },
   {
    "duration": 21,
    "start_time": "2023-09-01T02:33:33.027Z"
   },
   {
    "duration": 14,
    "start_time": "2023-09-01T02:33:33.051Z"
   },
   {
    "duration": 21,
    "start_time": "2023-09-01T02:33:33.067Z"
   },
   {
    "duration": 19,
    "start_time": "2023-09-01T02:33:33.090Z"
   },
   {
    "duration": 4,
    "start_time": "2023-09-01T02:33:33.118Z"
   }
  ],
  "kernelspec": {
   "display_name": "Python 3 (ipykernel)",
   "language": "python",
   "name": "python3"
  },
  "language_info": {
   "codemirror_mode": {
    "name": "ipython",
    "version": 3
   },
   "file_extension": ".py",
   "mimetype": "text/x-python",
   "name": "python",
   "nbconvert_exporter": "python",
   "pygments_lexer": "ipython3",
   "version": "3.10.9"
  },
  "toc": {
   "base_numbering": 1,
   "nav_menu": {},
   "number_sections": true,
   "sideBar": true,
   "skip_h1_title": true,
   "title_cell": "Содержание",
   "title_sidebar": "Contents",
   "toc_cell": true,
   "toc_position": {
    "height": "calc(100% - 180px)",
    "left": "10px",
    "top": "150px",
    "width": "328.528px"
   },
   "toc_section_display": true,
   "toc_window_display": true
  }
 },
 "nbformat": 4,
 "nbformat_minor": 2
}
