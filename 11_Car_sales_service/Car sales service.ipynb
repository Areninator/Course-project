{
 "cells": [
  {
   "cell_type": "markdown",
   "metadata": {},
   "source": [
    "# Определение стоимости автомобилей"
   ]
  },
  {
   "cell_type": "markdown",
   "metadata": {},
   "source": [
    "Сервис по продаже автомобилей с пробегом «Не бит, не крашен» разрабатывает приложение для привлечения новых клиентов. В нём можно быстро узнать рыночную стоимость своего автомобиля. В вашем распоряжении исторические данные: технические характеристики, комплектации и цены автомобилей. Вам нужно построить модель для определения стоимости. \n",
    "\n",
    "Заказчику важны:\n",
    "\n",
    "- качество предсказания;\n",
    "- скорость предсказания;\n",
    "- время обучения."
   ]
  },
  {
   "cell_type": "markdown",
   "metadata": {},
   "source": [
    "## Подготовка данных"
   ]
  },
  {
   "cell_type": "code",
   "execution_count": 1,
   "metadata": {},
   "outputs": [
    {
     "name": "stdout",
     "output_type": "stream",
     "text": [
      "Requirement already satisfied: lightgbm in c:\\users\\asus\\anaconda3\\envs\\ds_practicum_env\\lib\\site-packages (4.3.0)\n",
      "Requirement already satisfied: scipy in c:\\users\\asus\\anaconda3\\envs\\ds_practicum_env\\lib\\site-packages (from lightgbm) (1.8.0)\n",
      "Requirement already satisfied: numpy in c:\\users\\asus\\anaconda3\\envs\\ds_practicum_env\\lib\\site-packages (from lightgbm) (1.20.1)\n"
     ]
    }
   ],
   "source": [
    "!pip3 install lightgbm"
   ]
  },
  {
   "cell_type": "code",
   "execution_count": 2,
   "metadata": {},
   "outputs": [],
   "source": [
    "import pandas as pd\n",
    "import seaborn as sns\n",
    "from sklearn.preprocessing import OrdinalEncoder\n",
    "from sklearn.linear_model import LinearRegression\n",
    "from sklearn.ensemble import RandomForestRegressor\n",
    "from sklearn.model_selection import train_test_split, GridSearchCV, RandomizedSearchCV, cross_val_score\n",
    "from sklearn.metrics import mean_squared_error\n",
    "import time\n",
    "from lightgbm import LGBMRegressor\n",
    "import lightgbm"
   ]
  },
  {
   "cell_type": "code",
   "execution_count": null,
   "metadata": {},
   "outputs": [],
   "source": []
  },
  {
   "cell_type": "code",
   "execution_count": 3,
   "metadata": {},
   "outputs": [],
   "source": [
    "try:\n",
    "    data = pd.read_csv('/datasets/autos.csv')\n",
    "except FileNotFoundError:\n",
    "    data = pd.read_csv(r'C:\\Users\\ASUS\\Desktop\\Практикум\\Data\\autos.csv')"
   ]
  },
  {
   "cell_type": "markdown",
   "metadata": {},
   "source": [
    "Изучите данные."
   ]
  },
  {
   "cell_type": "code",
   "execution_count": 4,
   "metadata": {},
   "outputs": [
    {
     "data": {
      "text/html": [
       "<div>\n",
       "<style scoped>\n",
       "    .dataframe tbody tr th:only-of-type {\n",
       "        vertical-align: middle;\n",
       "    }\n",
       "\n",
       "    .dataframe tbody tr th {\n",
       "        vertical-align: top;\n",
       "    }\n",
       "\n",
       "    .dataframe thead th {\n",
       "        text-align: right;\n",
       "    }\n",
       "</style>\n",
       "<table border=\"1\" class=\"dataframe\">\n",
       "  <thead>\n",
       "    <tr style=\"text-align: right;\">\n",
       "      <th></th>\n",
       "      <th>DateCrawled</th>\n",
       "      <th>Price</th>\n",
       "      <th>VehicleType</th>\n",
       "      <th>RegistrationYear</th>\n",
       "      <th>Gearbox</th>\n",
       "      <th>Power</th>\n",
       "      <th>Model</th>\n",
       "      <th>Kilometer</th>\n",
       "      <th>RegistrationMonth</th>\n",
       "      <th>FuelType</th>\n",
       "      <th>Brand</th>\n",
       "      <th>Repaired</th>\n",
       "      <th>DateCreated</th>\n",
       "      <th>NumberOfPictures</th>\n",
       "      <th>PostalCode</th>\n",
       "      <th>LastSeen</th>\n",
       "    </tr>\n",
       "  </thead>\n",
       "  <tbody>\n",
       "    <tr>\n",
       "      <th>0</th>\n",
       "      <td>2016-03-24 11:52:17</td>\n",
       "      <td>480</td>\n",
       "      <td>NaN</td>\n",
       "      <td>1993</td>\n",
       "      <td>manual</td>\n",
       "      <td>0</td>\n",
       "      <td>golf</td>\n",
       "      <td>150000</td>\n",
       "      <td>0</td>\n",
       "      <td>petrol</td>\n",
       "      <td>volkswagen</td>\n",
       "      <td>NaN</td>\n",
       "      <td>2016-03-24 00:00:00</td>\n",
       "      <td>0</td>\n",
       "      <td>70435</td>\n",
       "      <td>2016-04-07 03:16:57</td>\n",
       "    </tr>\n",
       "    <tr>\n",
       "      <th>1</th>\n",
       "      <td>2016-03-24 10:58:45</td>\n",
       "      <td>18300</td>\n",
       "      <td>coupe</td>\n",
       "      <td>2011</td>\n",
       "      <td>manual</td>\n",
       "      <td>190</td>\n",
       "      <td>NaN</td>\n",
       "      <td>125000</td>\n",
       "      <td>5</td>\n",
       "      <td>gasoline</td>\n",
       "      <td>audi</td>\n",
       "      <td>yes</td>\n",
       "      <td>2016-03-24 00:00:00</td>\n",
       "      <td>0</td>\n",
       "      <td>66954</td>\n",
       "      <td>2016-04-07 01:46:50</td>\n",
       "    </tr>\n",
       "    <tr>\n",
       "      <th>2</th>\n",
       "      <td>2016-03-14 12:52:21</td>\n",
       "      <td>9800</td>\n",
       "      <td>suv</td>\n",
       "      <td>2004</td>\n",
       "      <td>auto</td>\n",
       "      <td>163</td>\n",
       "      <td>grand</td>\n",
       "      <td>125000</td>\n",
       "      <td>8</td>\n",
       "      <td>gasoline</td>\n",
       "      <td>jeep</td>\n",
       "      <td>NaN</td>\n",
       "      <td>2016-03-14 00:00:00</td>\n",
       "      <td>0</td>\n",
       "      <td>90480</td>\n",
       "      <td>2016-04-05 12:47:46</td>\n",
       "    </tr>\n",
       "    <tr>\n",
       "      <th>3</th>\n",
       "      <td>2016-03-17 16:54:04</td>\n",
       "      <td>1500</td>\n",
       "      <td>small</td>\n",
       "      <td>2001</td>\n",
       "      <td>manual</td>\n",
       "      <td>75</td>\n",
       "      <td>golf</td>\n",
       "      <td>150000</td>\n",
       "      <td>6</td>\n",
       "      <td>petrol</td>\n",
       "      <td>volkswagen</td>\n",
       "      <td>no</td>\n",
       "      <td>2016-03-17 00:00:00</td>\n",
       "      <td>0</td>\n",
       "      <td>91074</td>\n",
       "      <td>2016-03-17 17:40:17</td>\n",
       "    </tr>\n",
       "    <tr>\n",
       "      <th>4</th>\n",
       "      <td>2016-03-31 17:25:20</td>\n",
       "      <td>3600</td>\n",
       "      <td>small</td>\n",
       "      <td>2008</td>\n",
       "      <td>manual</td>\n",
       "      <td>69</td>\n",
       "      <td>fabia</td>\n",
       "      <td>90000</td>\n",
       "      <td>7</td>\n",
       "      <td>gasoline</td>\n",
       "      <td>skoda</td>\n",
       "      <td>no</td>\n",
       "      <td>2016-03-31 00:00:00</td>\n",
       "      <td>0</td>\n",
       "      <td>60437</td>\n",
       "      <td>2016-04-06 10:17:21</td>\n",
       "    </tr>\n",
       "    <tr>\n",
       "      <th>5</th>\n",
       "      <td>2016-04-04 17:36:23</td>\n",
       "      <td>650</td>\n",
       "      <td>sedan</td>\n",
       "      <td>1995</td>\n",
       "      <td>manual</td>\n",
       "      <td>102</td>\n",
       "      <td>3er</td>\n",
       "      <td>150000</td>\n",
       "      <td>10</td>\n",
       "      <td>petrol</td>\n",
       "      <td>bmw</td>\n",
       "      <td>yes</td>\n",
       "      <td>2016-04-04 00:00:00</td>\n",
       "      <td>0</td>\n",
       "      <td>33775</td>\n",
       "      <td>2016-04-06 19:17:07</td>\n",
       "    </tr>\n",
       "    <tr>\n",
       "      <th>6</th>\n",
       "      <td>2016-04-01 20:48:51</td>\n",
       "      <td>2200</td>\n",
       "      <td>convertible</td>\n",
       "      <td>2004</td>\n",
       "      <td>manual</td>\n",
       "      <td>109</td>\n",
       "      <td>2_reihe</td>\n",
       "      <td>150000</td>\n",
       "      <td>8</td>\n",
       "      <td>petrol</td>\n",
       "      <td>peugeot</td>\n",
       "      <td>no</td>\n",
       "      <td>2016-04-01 00:00:00</td>\n",
       "      <td>0</td>\n",
       "      <td>67112</td>\n",
       "      <td>2016-04-05 18:18:39</td>\n",
       "    </tr>\n",
       "    <tr>\n",
       "      <th>7</th>\n",
       "      <td>2016-03-21 18:54:38</td>\n",
       "      <td>0</td>\n",
       "      <td>sedan</td>\n",
       "      <td>1980</td>\n",
       "      <td>manual</td>\n",
       "      <td>50</td>\n",
       "      <td>other</td>\n",
       "      <td>40000</td>\n",
       "      <td>7</td>\n",
       "      <td>petrol</td>\n",
       "      <td>volkswagen</td>\n",
       "      <td>no</td>\n",
       "      <td>2016-03-21 00:00:00</td>\n",
       "      <td>0</td>\n",
       "      <td>19348</td>\n",
       "      <td>2016-03-25 16:47:58</td>\n",
       "    </tr>\n",
       "    <tr>\n",
       "      <th>8</th>\n",
       "      <td>2016-04-04 23:42:13</td>\n",
       "      <td>14500</td>\n",
       "      <td>bus</td>\n",
       "      <td>2014</td>\n",
       "      <td>manual</td>\n",
       "      <td>125</td>\n",
       "      <td>c_max</td>\n",
       "      <td>30000</td>\n",
       "      <td>8</td>\n",
       "      <td>petrol</td>\n",
       "      <td>ford</td>\n",
       "      <td>NaN</td>\n",
       "      <td>2016-04-04 00:00:00</td>\n",
       "      <td>0</td>\n",
       "      <td>94505</td>\n",
       "      <td>2016-04-04 23:42:13</td>\n",
       "    </tr>\n",
       "    <tr>\n",
       "      <th>9</th>\n",
       "      <td>2016-03-17 10:53:50</td>\n",
       "      <td>999</td>\n",
       "      <td>small</td>\n",
       "      <td>1998</td>\n",
       "      <td>manual</td>\n",
       "      <td>101</td>\n",
       "      <td>golf</td>\n",
       "      <td>150000</td>\n",
       "      <td>0</td>\n",
       "      <td>NaN</td>\n",
       "      <td>volkswagen</td>\n",
       "      <td>NaN</td>\n",
       "      <td>2016-03-17 00:00:00</td>\n",
       "      <td>0</td>\n",
       "      <td>27472</td>\n",
       "      <td>2016-03-31 17:17:06</td>\n",
       "    </tr>\n",
       "    <tr>\n",
       "      <th>10</th>\n",
       "      <td>2016-03-26 19:54:18</td>\n",
       "      <td>2000</td>\n",
       "      <td>sedan</td>\n",
       "      <td>2004</td>\n",
       "      <td>manual</td>\n",
       "      <td>105</td>\n",
       "      <td>3_reihe</td>\n",
       "      <td>150000</td>\n",
       "      <td>12</td>\n",
       "      <td>petrol</td>\n",
       "      <td>mazda</td>\n",
       "      <td>no</td>\n",
       "      <td>2016-03-26 00:00:00</td>\n",
       "      <td>0</td>\n",
       "      <td>96224</td>\n",
       "      <td>2016-04-06 10:45:34</td>\n",
       "    </tr>\n",
       "    <tr>\n",
       "      <th>11</th>\n",
       "      <td>2016-04-07 10:06:22</td>\n",
       "      <td>2799</td>\n",
       "      <td>wagon</td>\n",
       "      <td>2005</td>\n",
       "      <td>manual</td>\n",
       "      <td>140</td>\n",
       "      <td>passat</td>\n",
       "      <td>150000</td>\n",
       "      <td>12</td>\n",
       "      <td>gasoline</td>\n",
       "      <td>volkswagen</td>\n",
       "      <td>yes</td>\n",
       "      <td>2016-04-07 00:00:00</td>\n",
       "      <td>0</td>\n",
       "      <td>57290</td>\n",
       "      <td>2016-04-07 10:25:17</td>\n",
       "    </tr>\n",
       "    <tr>\n",
       "      <th>12</th>\n",
       "      <td>2016-03-15 22:49:09</td>\n",
       "      <td>999</td>\n",
       "      <td>wagon</td>\n",
       "      <td>1995</td>\n",
       "      <td>manual</td>\n",
       "      <td>115</td>\n",
       "      <td>passat</td>\n",
       "      <td>150000</td>\n",
       "      <td>11</td>\n",
       "      <td>petrol</td>\n",
       "      <td>volkswagen</td>\n",
       "      <td>NaN</td>\n",
       "      <td>2016-03-15 00:00:00</td>\n",
       "      <td>0</td>\n",
       "      <td>37269</td>\n",
       "      <td>2016-04-01 13:16:16</td>\n",
       "    </tr>\n",
       "    <tr>\n",
       "      <th>13</th>\n",
       "      <td>2016-03-21 21:37:40</td>\n",
       "      <td>2500</td>\n",
       "      <td>wagon</td>\n",
       "      <td>2004</td>\n",
       "      <td>manual</td>\n",
       "      <td>131</td>\n",
       "      <td>passat</td>\n",
       "      <td>150000</td>\n",
       "      <td>2</td>\n",
       "      <td>NaN</td>\n",
       "      <td>volkswagen</td>\n",
       "      <td>no</td>\n",
       "      <td>2016-03-21 00:00:00</td>\n",
       "      <td>0</td>\n",
       "      <td>90762</td>\n",
       "      <td>2016-03-23 02:50:54</td>\n",
       "    </tr>\n",
       "    <tr>\n",
       "      <th>14</th>\n",
       "      <td>2016-03-21 12:57:01</td>\n",
       "      <td>17999</td>\n",
       "      <td>suv</td>\n",
       "      <td>2011</td>\n",
       "      <td>manual</td>\n",
       "      <td>190</td>\n",
       "      <td>navara</td>\n",
       "      <td>70000</td>\n",
       "      <td>3</td>\n",
       "      <td>gasoline</td>\n",
       "      <td>nissan</td>\n",
       "      <td>no</td>\n",
       "      <td>2016-03-21 00:00:00</td>\n",
       "      <td>0</td>\n",
       "      <td>4177</td>\n",
       "      <td>2016-04-06 07:45:42</td>\n",
       "    </tr>\n",
       "  </tbody>\n",
       "</table>\n",
       "</div>"
      ],
      "text/plain": [
       "            DateCrawled  Price  VehicleType  RegistrationYear Gearbox  Power  \\\n",
       "0   2016-03-24 11:52:17    480          NaN              1993  manual      0   \n",
       "1   2016-03-24 10:58:45  18300        coupe              2011  manual    190   \n",
       "2   2016-03-14 12:52:21   9800          suv              2004    auto    163   \n",
       "3   2016-03-17 16:54:04   1500        small              2001  manual     75   \n",
       "4   2016-03-31 17:25:20   3600        small              2008  manual     69   \n",
       "5   2016-04-04 17:36:23    650        sedan              1995  manual    102   \n",
       "6   2016-04-01 20:48:51   2200  convertible              2004  manual    109   \n",
       "7   2016-03-21 18:54:38      0        sedan              1980  manual     50   \n",
       "8   2016-04-04 23:42:13  14500          bus              2014  manual    125   \n",
       "9   2016-03-17 10:53:50    999        small              1998  manual    101   \n",
       "10  2016-03-26 19:54:18   2000        sedan              2004  manual    105   \n",
       "11  2016-04-07 10:06:22   2799        wagon              2005  manual    140   \n",
       "12  2016-03-15 22:49:09    999        wagon              1995  manual    115   \n",
       "13  2016-03-21 21:37:40   2500        wagon              2004  manual    131   \n",
       "14  2016-03-21 12:57:01  17999          suv              2011  manual    190   \n",
       "\n",
       "      Model  Kilometer  RegistrationMonth  FuelType       Brand Repaired  \\\n",
       "0      golf     150000                  0    petrol  volkswagen      NaN   \n",
       "1       NaN     125000                  5  gasoline        audi      yes   \n",
       "2     grand     125000                  8  gasoline        jeep      NaN   \n",
       "3      golf     150000                  6    petrol  volkswagen       no   \n",
       "4     fabia      90000                  7  gasoline       skoda       no   \n",
       "5       3er     150000                 10    petrol         bmw      yes   \n",
       "6   2_reihe     150000                  8    petrol     peugeot       no   \n",
       "7     other      40000                  7    petrol  volkswagen       no   \n",
       "8     c_max      30000                  8    petrol        ford      NaN   \n",
       "9      golf     150000                  0       NaN  volkswagen      NaN   \n",
       "10  3_reihe     150000                 12    petrol       mazda       no   \n",
       "11   passat     150000                 12  gasoline  volkswagen      yes   \n",
       "12   passat     150000                 11    petrol  volkswagen      NaN   \n",
       "13   passat     150000                  2       NaN  volkswagen       no   \n",
       "14   navara      70000                  3  gasoline      nissan       no   \n",
       "\n",
       "            DateCreated  NumberOfPictures  PostalCode             LastSeen  \n",
       "0   2016-03-24 00:00:00                 0       70435  2016-04-07 03:16:57  \n",
       "1   2016-03-24 00:00:00                 0       66954  2016-04-07 01:46:50  \n",
       "2   2016-03-14 00:00:00                 0       90480  2016-04-05 12:47:46  \n",
       "3   2016-03-17 00:00:00                 0       91074  2016-03-17 17:40:17  \n",
       "4   2016-03-31 00:00:00                 0       60437  2016-04-06 10:17:21  \n",
       "5   2016-04-04 00:00:00                 0       33775  2016-04-06 19:17:07  \n",
       "6   2016-04-01 00:00:00                 0       67112  2016-04-05 18:18:39  \n",
       "7   2016-03-21 00:00:00                 0       19348  2016-03-25 16:47:58  \n",
       "8   2016-04-04 00:00:00                 0       94505  2016-04-04 23:42:13  \n",
       "9   2016-03-17 00:00:00                 0       27472  2016-03-31 17:17:06  \n",
       "10  2016-03-26 00:00:00                 0       96224  2016-04-06 10:45:34  \n",
       "11  2016-04-07 00:00:00                 0       57290  2016-04-07 10:25:17  \n",
       "12  2016-03-15 00:00:00                 0       37269  2016-04-01 13:16:16  \n",
       "13  2016-03-21 00:00:00                 0       90762  2016-03-23 02:50:54  \n",
       "14  2016-03-21 00:00:00                 0        4177  2016-04-06 07:45:42  "
      ]
     },
     "execution_count": 4,
     "metadata": {},
     "output_type": "execute_result"
    }
   ],
   "source": [
    "data.head(15)"
   ]
  },
  {
   "cell_type": "code",
   "execution_count": 5,
   "metadata": {},
   "outputs": [
    {
     "name": "stdout",
     "output_type": "stream",
     "text": [
      "<class 'pandas.core.frame.DataFrame'>\n",
      "RangeIndex: 354369 entries, 0 to 354368\n",
      "Data columns (total 16 columns):\n",
      " #   Column             Non-Null Count   Dtype \n",
      "---  ------             --------------   ----- \n",
      " 0   DateCrawled        354369 non-null  object\n",
      " 1   Price              354369 non-null  int64 \n",
      " 2   VehicleType        316879 non-null  object\n",
      " 3   RegistrationYear   354369 non-null  int64 \n",
      " 4   Gearbox            334536 non-null  object\n",
      " 5   Power              354369 non-null  int64 \n",
      " 6   Model              334664 non-null  object\n",
      " 7   Kilometer          354369 non-null  int64 \n",
      " 8   RegistrationMonth  354369 non-null  int64 \n",
      " 9   FuelType           321474 non-null  object\n",
      " 10  Brand              354369 non-null  object\n",
      " 11  Repaired           283215 non-null  object\n",
      " 12  DateCreated        354369 non-null  object\n",
      " 13  NumberOfPictures   354369 non-null  int64 \n",
      " 14  PostalCode         354369 non-null  int64 \n",
      " 15  LastSeen           354369 non-null  object\n",
      "dtypes: int64(7), object(9)\n",
      "memory usage: 43.3+ MB\n"
     ]
    }
   ],
   "source": [
    "data.info()"
   ]
  },
  {
   "cell_type": "markdown",
   "metadata": {},
   "source": [
    "Описанние данных:\n",
    "\n",
    "* DateCrawled — дата скачивания анкеты из базы\n",
    "* VehicleType — тип автомобильного кузова\n",
    "* RegistrationYear — год регистрации автомобиля\n",
    "* Gearbox — тип коробки передач\n",
    "* Power — мощность (л. с.)\n",
    "* Model — модель автомобиля\n",
    "* Kilometer — пробег (км)\n",
    "* RegistrationMonth — месяц регистрации автомобиля\n",
    "* FuelType — тип топлива\n",
    "* Brand — марка автомобиля\n",
    "* Repaired — была машина в ремонте или нет\n",
    "* DateCreated — дата создания анкеты\n",
    "* NumberOfPictures — количество фотографий автомобиля\n",
    "* PostalCode — почтовый индекс владельца анкеты (пользователя)\n",
    "* LastSeen — дата последней активности пользователя\n",
    "* Price — цена (евро)"
   ]
  },
  {
   "cell_type": "code",
   "execution_count": 6,
   "metadata": {},
   "outputs": [],
   "source": [
    "data = data.rename(columns=str.lower)"
   ]
  },
  {
   "cell_type": "code",
   "execution_count": 7,
   "metadata": {},
   "outputs": [
    {
     "data": {
      "image/png": "[encoded data removed]",
      "text/plain": [
       "<Figure size 1500x700 with 1 Axes>"
      ]
     },
     "metadata": {},
     "output_type": "display_data"
    }
   ],
   "source": [
    "data['price'].hist(bins = 50,figsize=(15,7));"
   ]
  },
  {
   "cell_type": "markdown",
   "metadata": {},
   "source": [
    "Так как цена это целевой признак удалим все строки с ценой ниже 150 евро, эти объявления могуть быть на металалом или ссылки на внешний сайт. \n"
   ]
  },
  {
   "cell_type": "code",
   "execution_count": 8,
   "metadata": {},
   "outputs": [],
   "source": [
    "data.drop(data[data['price'] <= 150].index, inplace=True)"
   ]
  },
  {
   "cell_type": "code",
   "execution_count": 9,
   "metadata": {},
   "outputs": [
    {
     "data": {
      "text/plain": [
       "array(['volkswagen', 'audi', 'jeep', 'skoda', 'bmw', 'peugeot', 'ford',\n",
       "       'mazda', 'nissan', 'renault', 'mercedes_benz', 'opel', 'seat',\n",
       "       'citroen', 'honda', 'fiat', 'mini', 'smart', 'hyundai',\n",
       "       'alfa_romeo', 'subaru', 'volvo', 'mitsubishi', 'kia', 'suzuki',\n",
       "       'lancia', 'sonstige_autos', 'toyota', 'chevrolet', 'dacia',\n",
       "       'daihatsu', 'chrysler', 'jaguar', 'daewoo', 'rover', 'porsche',\n",
       "       'saab', 'trabant', 'land_rover', 'lada'], dtype=object)"
      ]
     },
     "execution_count": 9,
     "metadata": {},
     "output_type": "execute_result"
    }
   ],
   "source": [
    "data['brand'].unique()"
   ]
  },
  {
   "cell_type": "code",
   "execution_count": 10,
   "metadata": {},
   "outputs": [
    {
     "data": {
      "text/html": [
       "<div>\n",
       "<style scoped>\n",
       "    .dataframe tbody tr th:only-of-type {\n",
       "        vertical-align: middle;\n",
       "    }\n",
       "\n",
       "    .dataframe tbody tr th {\n",
       "        vertical-align: top;\n",
       "    }\n",
       "\n",
       "    .dataframe thead th {\n",
       "        text-align: right;\n",
       "    }\n",
       "</style>\n",
       "<table border=\"1\" class=\"dataframe\">\n",
       "  <thead>\n",
       "    <tr style=\"text-align: right;\">\n",
       "      <th></th>\n",
       "      <th>datecrawled</th>\n",
       "      <th>price</th>\n",
       "      <th>vehicletype</th>\n",
       "      <th>registrationyear</th>\n",
       "      <th>gearbox</th>\n",
       "      <th>power</th>\n",
       "      <th>model</th>\n",
       "      <th>kilometer</th>\n",
       "      <th>registrationmonth</th>\n",
       "      <th>fueltype</th>\n",
       "      <th>brand</th>\n",
       "      <th>repaired</th>\n",
       "      <th>datecreated</th>\n",
       "      <th>numberofpictures</th>\n",
       "      <th>postalcode</th>\n",
       "      <th>lastseen</th>\n",
       "    </tr>\n",
       "  </thead>\n",
       "  <tbody>\n",
       "    <tr>\n",
       "      <th>306</th>\n",
       "      <td>2016-03-21 14:38:37</td>\n",
       "      <td>200</td>\n",
       "      <td>NaN</td>\n",
       "      <td>2009</td>\n",
       "      <td>NaN</td>\n",
       "      <td>0</td>\n",
       "      <td>NaN</td>\n",
       "      <td>10000</td>\n",
       "      <td>0</td>\n",
       "      <td>NaN</td>\n",
       "      <td>sonstige_autos</td>\n",
       "      <td>NaN</td>\n",
       "      <td>2016-03-21 00:00:00</td>\n",
       "      <td>0</td>\n",
       "      <td>6493</td>\n",
       "      <td>2016-03-24 02:47:34</td>\n",
       "    </tr>\n",
       "    <tr>\n",
       "      <th>431</th>\n",
       "      <td>2016-03-20 20:45:27</td>\n",
       "      <td>3950</td>\n",
       "      <td>small</td>\n",
       "      <td>2004</td>\n",
       "      <td>auto</td>\n",
       "      <td>5</td>\n",
       "      <td>NaN</td>\n",
       "      <td>70000</td>\n",
       "      <td>5</td>\n",
       "      <td>gasoline</td>\n",
       "      <td>sonstige_autos</td>\n",
       "      <td>no</td>\n",
       "      <td>2016-03-20 00:00:00</td>\n",
       "      <td>0</td>\n",
       "      <td>90562</td>\n",
       "      <td>2016-04-03 04:17:08</td>\n",
       "    </tr>\n",
       "    <tr>\n",
       "      <th>650</th>\n",
       "      <td>2016-03-30 11:55:46</td>\n",
       "      <td>15000</td>\n",
       "      <td>coupe</td>\n",
       "      <td>1971</td>\n",
       "      <td>NaN</td>\n",
       "      <td>0</td>\n",
       "      <td>NaN</td>\n",
       "      <td>5000</td>\n",
       "      <td>4</td>\n",
       "      <td>NaN</td>\n",
       "      <td>sonstige_autos</td>\n",
       "      <td>no</td>\n",
       "      <td>2016-03-30 00:00:00</td>\n",
       "      <td>0</td>\n",
       "      <td>51145</td>\n",
       "      <td>2016-04-07 02:45:10</td>\n",
       "    </tr>\n",
       "    <tr>\n",
       "      <th>661</th>\n",
       "      <td>2016-04-01 15:56:27</td>\n",
       "      <td>9900</td>\n",
       "      <td>suv</td>\n",
       "      <td>2000</td>\n",
       "      <td>auto</td>\n",
       "      <td>250</td>\n",
       "      <td>NaN</td>\n",
       "      <td>150000</td>\n",
       "      <td>4</td>\n",
       "      <td>lpg</td>\n",
       "      <td>sonstige_autos</td>\n",
       "      <td>no</td>\n",
       "      <td>2016-04-01 00:00:00</td>\n",
       "      <td>0</td>\n",
       "      <td>17309</td>\n",
       "      <td>2016-04-07 14:56:03</td>\n",
       "    </tr>\n",
       "    <tr>\n",
       "      <th>700</th>\n",
       "      <td>2016-03-30 21:37:21</td>\n",
       "      <td>6999</td>\n",
       "      <td>sedan</td>\n",
       "      <td>2010</td>\n",
       "      <td>auto</td>\n",
       "      <td>186</td>\n",
       "      <td>NaN</td>\n",
       "      <td>125000</td>\n",
       "      <td>4</td>\n",
       "      <td>petrol</td>\n",
       "      <td>sonstige_autos</td>\n",
       "      <td>no</td>\n",
       "      <td>2016-03-30 00:00:00</td>\n",
       "      <td>0</td>\n",
       "      <td>81929</td>\n",
       "      <td>2016-04-05 11:18:33</td>\n",
       "    </tr>\n",
       "    <tr>\n",
       "      <th>...</th>\n",
       "      <td>...</td>\n",
       "      <td>...</td>\n",
       "      <td>...</td>\n",
       "      <td>...</td>\n",
       "      <td>...</td>\n",
       "      <td>...</td>\n",
       "      <td>...</td>\n",
       "      <td>...</td>\n",
       "      <td>...</td>\n",
       "      <td>...</td>\n",
       "      <td>...</td>\n",
       "      <td>...</td>\n",
       "      <td>...</td>\n",
       "      <td>...</td>\n",
       "      <td>...</td>\n",
       "      <td>...</td>\n",
       "    </tr>\n",
       "    <tr>\n",
       "      <th>353961</th>\n",
       "      <td>2016-03-17 13:54:22</td>\n",
       "      <td>200</td>\n",
       "      <td>NaN</td>\n",
       "      <td>1910</td>\n",
       "      <td>NaN</td>\n",
       "      <td>0</td>\n",
       "      <td>NaN</td>\n",
       "      <td>5000</td>\n",
       "      <td>0</td>\n",
       "      <td>petrol</td>\n",
       "      <td>sonstige_autos</td>\n",
       "      <td>NaN</td>\n",
       "      <td>2016-03-17 00:00:00</td>\n",
       "      <td>0</td>\n",
       "      <td>42289</td>\n",
       "      <td>2016-03-31 22:46:47</td>\n",
       "    </tr>\n",
       "    <tr>\n",
       "      <th>354062</th>\n",
       "      <td>2016-03-19 11:25:16</td>\n",
       "      <td>6000</td>\n",
       "      <td>small</td>\n",
       "      <td>2008</td>\n",
       "      <td>manual</td>\n",
       "      <td>155</td>\n",
       "      <td>NaN</td>\n",
       "      <td>150000</td>\n",
       "      <td>5</td>\n",
       "      <td>petrol</td>\n",
       "      <td>sonstige_autos</td>\n",
       "      <td>no</td>\n",
       "      <td>2016-03-19 00:00:00</td>\n",
       "      <td>0</td>\n",
       "      <td>63069</td>\n",
       "      <td>2016-04-07 00:46:42</td>\n",
       "    </tr>\n",
       "    <tr>\n",
       "      <th>354073</th>\n",
       "      <td>2016-03-19 14:53:26</td>\n",
       "      <td>1750</td>\n",
       "      <td>NaN</td>\n",
       "      <td>1995</td>\n",
       "      <td>NaN</td>\n",
       "      <td>0</td>\n",
       "      <td>NaN</td>\n",
       "      <td>100000</td>\n",
       "      <td>12</td>\n",
       "      <td>NaN</td>\n",
       "      <td>sonstige_autos</td>\n",
       "      <td>NaN</td>\n",
       "      <td>2016-03-19 00:00:00</td>\n",
       "      <td>0</td>\n",
       "      <td>6188</td>\n",
       "      <td>2016-04-01 01:47:17</td>\n",
       "    </tr>\n",
       "    <tr>\n",
       "      <th>354321</th>\n",
       "      <td>2016-03-15 13:52:34</td>\n",
       "      <td>9400</td>\n",
       "      <td>wagon</td>\n",
       "      <td>2007</td>\n",
       "      <td>manual</td>\n",
       "      <td>200</td>\n",
       "      <td>NaN</td>\n",
       "      <td>150000</td>\n",
       "      <td>4</td>\n",
       "      <td>gasoline</td>\n",
       "      <td>sonstige_autos</td>\n",
       "      <td>yes</td>\n",
       "      <td>2016-03-15 00:00:00</td>\n",
       "      <td>0</td>\n",
       "      <td>91186</td>\n",
       "      <td>2016-03-17 08:16:25</td>\n",
       "    </tr>\n",
       "    <tr>\n",
       "      <th>354365</th>\n",
       "      <td>2016-03-14 17:48:27</td>\n",
       "      <td>2200</td>\n",
       "      <td>NaN</td>\n",
       "      <td>2005</td>\n",
       "      <td>NaN</td>\n",
       "      <td>0</td>\n",
       "      <td>NaN</td>\n",
       "      <td>20000</td>\n",
       "      <td>1</td>\n",
       "      <td>NaN</td>\n",
       "      <td>sonstige_autos</td>\n",
       "      <td>NaN</td>\n",
       "      <td>2016-03-14 00:00:00</td>\n",
       "      <td>0</td>\n",
       "      <td>39576</td>\n",
       "      <td>2016-04-06 00:46:52</td>\n",
       "    </tr>\n",
       "  </tbody>\n",
       "</table>\n",
       "<p>2667 rows × 16 columns</p>\n",
       "</div>"
      ],
      "text/plain": [
       "                datecrawled  price vehicletype  registrationyear gearbox  \\\n",
       "306     2016-03-21 14:38:37    200         NaN              2009     NaN   \n",
       "431     2016-03-20 20:45:27   3950       small              2004    auto   \n",
       "650     2016-03-30 11:55:46  15000       coupe              1971     NaN   \n",
       "661     2016-04-01 15:56:27   9900         suv              2000    auto   \n",
       "700     2016-03-30 21:37:21   6999       sedan              2010    auto   \n",
       "...                     ...    ...         ...               ...     ...   \n",
       "353961  2016-03-17 13:54:22    200         NaN              1910     NaN   \n",
       "354062  2016-03-19 11:25:16   6000       small              2008  manual   \n",
       "354073  2016-03-19 14:53:26   1750         NaN              1995     NaN   \n",
       "354321  2016-03-15 13:52:34   9400       wagon              2007  manual   \n",
       "354365  2016-03-14 17:48:27   2200         NaN              2005     NaN   \n",
       "\n",
       "        power model  kilometer  registrationmonth  fueltype           brand  \\\n",
       "306         0   NaN      10000                  0       NaN  sonstige_autos   \n",
       "431         5   NaN      70000                  5  gasoline  sonstige_autos   \n",
       "650         0   NaN       5000                  4       NaN  sonstige_autos   \n",
       "661       250   NaN     150000                  4       lpg  sonstige_autos   \n",
       "700       186   NaN     125000                  4    petrol  sonstige_autos   \n",
       "...       ...   ...        ...                ...       ...             ...   \n",
       "353961      0   NaN       5000                  0    petrol  sonstige_autos   \n",
       "354062    155   NaN     150000                  5    petrol  sonstige_autos   \n",
       "354073      0   NaN     100000                 12       NaN  sonstige_autos   \n",
       "354321    200   NaN     150000                  4  gasoline  sonstige_autos   \n",
       "354365      0   NaN      20000                  1       NaN  sonstige_autos   \n",
       "\n",
       "       repaired          datecreated  numberofpictures  postalcode  \\\n",
       "306         NaN  2016-03-21 00:00:00                 0        6493   \n",
       "431          no  2016-03-20 00:00:00                 0       90562   \n",
       "650          no  2016-03-30 00:00:00                 0       51145   \n",
       "661          no  2016-04-01 00:00:00                 0       17309   \n",
       "700          no  2016-03-30 00:00:00                 0       81929   \n",
       "...         ...                  ...               ...         ...   \n",
       "353961      NaN  2016-03-17 00:00:00                 0       42289   \n",
       "354062       no  2016-03-19 00:00:00                 0       63069   \n",
       "354073      NaN  2016-03-19 00:00:00                 0        6188   \n",
       "354321      yes  2016-03-15 00:00:00                 0       91186   \n",
       "354365      NaN  2016-03-14 00:00:00                 0       39576   \n",
       "\n",
       "                   lastseen  \n",
       "306     2016-03-24 02:47:34  \n",
       "431     2016-04-03 04:17:08  \n",
       "650     2016-04-07 02:45:10  \n",
       "661     2016-04-07 14:56:03  \n",
       "700     2016-04-05 11:18:33  \n",
       "...                     ...  \n",
       "353961  2016-03-31 22:46:47  \n",
       "354062  2016-04-07 00:46:42  \n",
       "354073  2016-04-01 01:47:17  \n",
       "354321  2016-03-17 08:16:25  \n",
       "354365  2016-04-06 00:46:52  \n",
       "\n",
       "[2667 rows x 16 columns]"
      ]
     },
     "execution_count": 10,
     "metadata": {},
     "output_type": "execute_result"
    }
   ],
   "source": [
    "data[data['brand'] == 'sonstige_autos']"
   ]
  },
  {
   "cell_type": "markdown",
   "metadata": {},
   "source": [
    "Удалим строчки с sonstige_autos, скорее всего это стороний сервис по продаже авто "
   ]
  },
  {
   "cell_type": "code",
   "execution_count": 11,
   "metadata": {},
   "outputs": [],
   "source": [
    "data.drop(data[data['brand'] == 'sonstige_autos'].index, inplace=True)"
   ]
  },
  {
   "cell_type": "markdown",
   "metadata": {},
   "source": [
    "Удалим автомобили старше 80х годов, так как эти автомобили уже можно считать винтажными и цена может зависить от совершенно других факторов "
   ]
  },
  {
   "cell_type": "code",
   "execution_count": 12,
   "metadata": {},
   "outputs": [],
   "source": [
    "data.drop(data[data['registrationyear'] <= 1979].index, inplace=True)"
   ]
  },
  {
   "cell_type": "markdown",
   "metadata": {},
   "source": [
    "Удалим также автомобили старше 2017 года, так как база данных собрана в 2016"
   ]
  },
  {
   "cell_type": "code",
   "execution_count": 13,
   "metadata": {},
   "outputs": [],
   "source": [
    "data.drop(data[data['registrationyear'] > 2017].index, inplace=True)"
   ]
  },
  {
   "cell_type": "markdown",
   "metadata": {},
   "source": [
    "Удалим строки где мощность выше 1000 и строеи где мощность выше 500 при цене ниже 10000 евро, это выгядит правдоподавно в нашем ценовом диапазоне "
   ]
  },
  {
   "cell_type": "code",
   "execution_count": 14,
   "metadata": {},
   "outputs": [],
   "source": [
    "data.drop(data[data['power'] > 1000].index, inplace=True)"
   ]
  },
  {
   "cell_type": "code",
   "execution_count": 15,
   "metadata": {},
   "outputs": [],
   "source": [
    "data.drop(data[(data['price'] < 10000) & (data['power'] > 500)].index, inplace=True)\n"
   ]
  },
  {
   "cell_type": "markdown",
   "metadata": {},
   "source": [
    "Заполните пропущенные значения и обработайте аномалии в столбцах."
   ]
  },
  {
   "cell_type": "code",
   "execution_count": 16,
   "metadata": {},
   "outputs": [
    {
     "data": {
      "text/plain": [
       "datecrawled              0\n",
       "price                    0\n",
       "vehicletype          27099\n",
       "registrationyear         0\n",
       "gearbox              14265\n",
       "power                    0\n",
       "model                13307\n",
       "kilometer                0\n",
       "registrationmonth        0\n",
       "fueltype             24875\n",
       "brand                    0\n",
       "repaired             59744\n",
       "datecreated              0\n",
       "numberofpictures         0\n",
       "postalcode               0\n",
       "lastseen                 0\n",
       "dtype: int64"
      ]
     },
     "execution_count": 16,
     "metadata": {},
     "output_type": "execute_result"
    }
   ],
   "source": [
    "data.isna().sum()"
   ]
  },
  {
   "cell_type": "code",
   "execution_count": 17,
   "metadata": {},
   "outputs": [
    {
     "data": {
      "text/html": [
       "<div>\n",
       "<style scoped>\n",
       "    .dataframe tbody tr th:only-of-type {\n",
       "        vertical-align: middle;\n",
       "    }\n",
       "\n",
       "    .dataframe tbody tr th {\n",
       "        vertical-align: top;\n",
       "    }\n",
       "\n",
       "    .dataframe thead th {\n",
       "        text-align: right;\n",
       "    }\n",
       "</style>\n",
       "<table border=\"1\" class=\"dataframe\">\n",
       "  <thead>\n",
       "    <tr style=\"text-align: right;\">\n",
       "      <th></th>\n",
       "      <th>datecrawled</th>\n",
       "      <th>price</th>\n",
       "      <th>vehicletype</th>\n",
       "      <th>registrationyear</th>\n",
       "      <th>gearbox</th>\n",
       "      <th>power</th>\n",
       "      <th>model</th>\n",
       "      <th>kilometer</th>\n",
       "      <th>registrationmonth</th>\n",
       "      <th>fueltype</th>\n",
       "      <th>brand</th>\n",
       "      <th>repaired</th>\n",
       "      <th>datecreated</th>\n",
       "      <th>numberofpictures</th>\n",
       "      <th>postalcode</th>\n",
       "      <th>lastseen</th>\n",
       "    </tr>\n",
       "  </thead>\n",
       "  <tbody>\n",
       "    <tr>\n",
       "      <th>1</th>\n",
       "      <td>2016-03-24 10:58:45</td>\n",
       "      <td>18300</td>\n",
       "      <td>coupe</td>\n",
       "      <td>2011</td>\n",
       "      <td>manual</td>\n",
       "      <td>190</td>\n",
       "      <td>NaN</td>\n",
       "      <td>125000</td>\n",
       "      <td>5</td>\n",
       "      <td>gasoline</td>\n",
       "      <td>audi</td>\n",
       "      <td>yes</td>\n",
       "      <td>2016-03-24 00:00:00</td>\n",
       "      <td>0</td>\n",
       "      <td>66954</td>\n",
       "      <td>2016-04-07 01:46:50</td>\n",
       "    </tr>\n",
       "    <tr>\n",
       "      <th>81</th>\n",
       "      <td>2016-04-03 12:56:45</td>\n",
       "      <td>350</td>\n",
       "      <td>small</td>\n",
       "      <td>1997</td>\n",
       "      <td>manual</td>\n",
       "      <td>54</td>\n",
       "      <td>NaN</td>\n",
       "      <td>150000</td>\n",
       "      <td>3</td>\n",
       "      <td>NaN</td>\n",
       "      <td>fiat</td>\n",
       "      <td>yes</td>\n",
       "      <td>2016-04-03 00:00:00</td>\n",
       "      <td>0</td>\n",
       "      <td>45665</td>\n",
       "      <td>2016-04-05 11:47:13</td>\n",
       "    </tr>\n",
       "    <tr>\n",
       "      <th>135</th>\n",
       "      <td>2016-03-27 20:51:23</td>\n",
       "      <td>1450</td>\n",
       "      <td>sedan</td>\n",
       "      <td>1992</td>\n",
       "      <td>manual</td>\n",
       "      <td>136</td>\n",
       "      <td>NaN</td>\n",
       "      <td>150000</td>\n",
       "      <td>0</td>\n",
       "      <td>NaN</td>\n",
       "      <td>audi</td>\n",
       "      <td>no</td>\n",
       "      <td>2016-03-27 00:00:00</td>\n",
       "      <td>0</td>\n",
       "      <td>38709</td>\n",
       "      <td>2016-04-05 20:17:31</td>\n",
       "    </tr>\n",
       "    <tr>\n",
       "      <th>151</th>\n",
       "      <td>2016-03-27 20:47:22</td>\n",
       "      <td>6799</td>\n",
       "      <td>small</td>\n",
       "      <td>2009</td>\n",
       "      <td>NaN</td>\n",
       "      <td>60</td>\n",
       "      <td>NaN</td>\n",
       "      <td>20000</td>\n",
       "      <td>5</td>\n",
       "      <td>petrol</td>\n",
       "      <td>volkswagen</td>\n",
       "      <td>no</td>\n",
       "      <td>2016-03-27 00:00:00</td>\n",
       "      <td>0</td>\n",
       "      <td>89077</td>\n",
       "      <td>2016-03-27 20:47:22</td>\n",
       "    </tr>\n",
       "    <tr>\n",
       "      <th>160</th>\n",
       "      <td>2016-03-19 19:49:15</td>\n",
       "      <td>500</td>\n",
       "      <td>small</td>\n",
       "      <td>1999</td>\n",
       "      <td>manual</td>\n",
       "      <td>0</td>\n",
       "      <td>NaN</td>\n",
       "      <td>150000</td>\n",
       "      <td>0</td>\n",
       "      <td>petrol</td>\n",
       "      <td>renault</td>\n",
       "      <td>no</td>\n",
       "      <td>2016-03-19 00:00:00</td>\n",
       "      <td>0</td>\n",
       "      <td>26969</td>\n",
       "      <td>2016-04-01 11:17:48</td>\n",
       "    </tr>\n",
       "    <tr>\n",
       "      <th>...</th>\n",
       "      <td>...</td>\n",
       "      <td>...</td>\n",
       "      <td>...</td>\n",
       "      <td>...</td>\n",
       "      <td>...</td>\n",
       "      <td>...</td>\n",
       "      <td>...</td>\n",
       "      <td>...</td>\n",
       "      <td>...</td>\n",
       "      <td>...</td>\n",
       "      <td>...</td>\n",
       "      <td>...</td>\n",
       "      <td>...</td>\n",
       "      <td>...</td>\n",
       "      <td>...</td>\n",
       "      <td>...</td>\n",
       "    </tr>\n",
       "    <tr>\n",
       "      <th>354162</th>\n",
       "      <td>2016-03-07 19:51:14</td>\n",
       "      <td>1500</td>\n",
       "      <td>NaN</td>\n",
       "      <td>1995</td>\n",
       "      <td>NaN</td>\n",
       "      <td>0</td>\n",
       "      <td>NaN</td>\n",
       "      <td>150000</td>\n",
       "      <td>0</td>\n",
       "      <td>NaN</td>\n",
       "      <td>volkswagen</td>\n",
       "      <td>NaN</td>\n",
       "      <td>2016-03-07 00:00:00</td>\n",
       "      <td>0</td>\n",
       "      <td>26789</td>\n",
       "      <td>2016-04-03 11:46:59</td>\n",
       "    </tr>\n",
       "    <tr>\n",
       "      <th>354234</th>\n",
       "      <td>2016-03-19 01:47:31</td>\n",
       "      <td>5000</td>\n",
       "      <td>sedan</td>\n",
       "      <td>2002</td>\n",
       "      <td>auto</td>\n",
       "      <td>170</td>\n",
       "      <td>NaN</td>\n",
       "      <td>150000</td>\n",
       "      <td>0</td>\n",
       "      <td>petrol</td>\n",
       "      <td>audi</td>\n",
       "      <td>no</td>\n",
       "      <td>2016-03-18 00:00:00</td>\n",
       "      <td>0</td>\n",
       "      <td>85221</td>\n",
       "      <td>2016-04-06 03:45:36</td>\n",
       "    </tr>\n",
       "    <tr>\n",
       "      <th>354245</th>\n",
       "      <td>2016-03-07 16:37:42</td>\n",
       "      <td>560</td>\n",
       "      <td>small</td>\n",
       "      <td>2001</td>\n",
       "      <td>auto</td>\n",
       "      <td>170</td>\n",
       "      <td>NaN</td>\n",
       "      <td>90000</td>\n",
       "      <td>0</td>\n",
       "      <td>petrol</td>\n",
       "      <td>fiat</td>\n",
       "      <td>yes</td>\n",
       "      <td>2016-03-07 00:00:00</td>\n",
       "      <td>0</td>\n",
       "      <td>55743</td>\n",
       "      <td>2016-03-12 21:45:25</td>\n",
       "    </tr>\n",
       "    <tr>\n",
       "      <th>354338</th>\n",
       "      <td>2016-03-31 19:52:33</td>\n",
       "      <td>180</td>\n",
       "      <td>NaN</td>\n",
       "      <td>1995</td>\n",
       "      <td>NaN</td>\n",
       "      <td>0</td>\n",
       "      <td>NaN</td>\n",
       "      <td>125000</td>\n",
       "      <td>3</td>\n",
       "      <td>petrol</td>\n",
       "      <td>opel</td>\n",
       "      <td>NaN</td>\n",
       "      <td>2016-03-31 00:00:00</td>\n",
       "      <td>0</td>\n",
       "      <td>41470</td>\n",
       "      <td>2016-04-06 14:18:04</td>\n",
       "    </tr>\n",
       "    <tr>\n",
       "      <th>354351</th>\n",
       "      <td>2016-03-11 23:40:32</td>\n",
       "      <td>1900</td>\n",
       "      <td>NaN</td>\n",
       "      <td>2000</td>\n",
       "      <td>manual</td>\n",
       "      <td>110</td>\n",
       "      <td>NaN</td>\n",
       "      <td>150000</td>\n",
       "      <td>7</td>\n",
       "      <td>NaN</td>\n",
       "      <td>volkswagen</td>\n",
       "      <td>no</td>\n",
       "      <td>2016-03-11 00:00:00</td>\n",
       "      <td>0</td>\n",
       "      <td>87700</td>\n",
       "      <td>2016-03-12 14:16:51</td>\n",
       "    </tr>\n",
       "  </tbody>\n",
       "</table>\n",
       "<p>13307 rows × 16 columns</p>\n",
       "</div>"
      ],
      "text/plain": [
       "                datecrawled  price vehicletype  registrationyear gearbox  \\\n",
       "1       2016-03-24 10:58:45  18300       coupe              2011  manual   \n",
       "81      2016-04-03 12:56:45    350       small              1997  manual   \n",
       "135     2016-03-27 20:51:23   1450       sedan              1992  manual   \n",
       "151     2016-03-27 20:47:22   6799       small              2009     NaN   \n",
       "160     2016-03-19 19:49:15    500       small              1999  manual   \n",
       "...                     ...    ...         ...               ...     ...   \n",
       "354162  2016-03-07 19:51:14   1500         NaN              1995     NaN   \n",
       "354234  2016-03-19 01:47:31   5000       sedan              2002    auto   \n",
       "354245  2016-03-07 16:37:42    560       small              2001    auto   \n",
       "354338  2016-03-31 19:52:33    180         NaN              1995     NaN   \n",
       "354351  2016-03-11 23:40:32   1900         NaN              2000  manual   \n",
       "\n",
       "        power model  kilometer  registrationmonth  fueltype       brand  \\\n",
       "1         190   NaN     125000                  5  gasoline        audi   \n",
       "81         54   NaN     150000                  3       NaN        fiat   \n",
       "135       136   NaN     150000                  0       NaN        audi   \n",
       "151        60   NaN      20000                  5    petrol  volkswagen   \n",
       "160         0   NaN     150000                  0    petrol     renault   \n",
       "...       ...   ...        ...                ...       ...         ...   \n",
       "354162      0   NaN     150000                  0       NaN  volkswagen   \n",
       "354234    170   NaN     150000                  0    petrol        audi   \n",
       "354245    170   NaN      90000                  0    petrol        fiat   \n",
       "354338      0   NaN     125000                  3    petrol        opel   \n",
       "354351    110   NaN     150000                  7       NaN  volkswagen   \n",
       "\n",
       "       repaired          datecreated  numberofpictures  postalcode  \\\n",
       "1           yes  2016-03-24 00:00:00                 0       66954   \n",
       "81          yes  2016-04-03 00:00:00                 0       45665   \n",
       "135          no  2016-03-27 00:00:00                 0       38709   \n",
       "151          no  2016-03-27 00:00:00                 0       89077   \n",
       "160          no  2016-03-19 00:00:00                 0       26969   \n",
       "...         ...                  ...               ...         ...   \n",
       "354162      NaN  2016-03-07 00:00:00                 0       26789   \n",
       "354234       no  2016-03-18 00:00:00                 0       85221   \n",
       "354245      yes  2016-03-07 00:00:00                 0       55743   \n",
       "354338      NaN  2016-03-31 00:00:00                 0       41470   \n",
       "354351       no  2016-03-11 00:00:00                 0       87700   \n",
       "\n",
       "                   lastseen  \n",
       "1       2016-04-07 01:46:50  \n",
       "81      2016-04-05 11:47:13  \n",
       "135     2016-04-05 20:17:31  \n",
       "151     2016-03-27 20:47:22  \n",
       "160     2016-04-01 11:17:48  \n",
       "...                     ...  \n",
       "354162  2016-04-03 11:46:59  \n",
       "354234  2016-04-06 03:45:36  \n",
       "354245  2016-03-12 21:45:25  \n",
       "354338  2016-04-06 14:18:04  \n",
       "354351  2016-03-12 14:16:51  \n",
       "\n",
       "[13307 rows x 16 columns]"
      ]
     },
     "execution_count": 17,
     "metadata": {},
     "output_type": "execute_result"
    }
   ],
   "source": [
    "data[data['model'].isna()]"
   ]
  },
  {
   "cell_type": "code",
   "execution_count": 18,
   "metadata": {},
   "outputs": [
    {
     "data": {
      "text/plain": [
       "datecrawled              0\n",
       "price                    0\n",
       "vehicletype          27099\n",
       "registrationyear         0\n",
       "gearbox              14265\n",
       "power                    0\n",
       "model                13307\n",
       "kilometer                0\n",
       "registrationmonth        0\n",
       "fueltype             24875\n",
       "brand                    0\n",
       "repaired             59744\n",
       "datecreated              0\n",
       "numberofpictures         0\n",
       "postalcode               0\n",
       "lastseen                 0\n",
       "dtype: int64"
      ]
     },
     "execution_count": 18,
     "metadata": {},
     "output_type": "execute_result"
    }
   ],
   "source": [
    "data.isna().sum()"
   ]
  },
  {
   "cell_type": "code",
   "execution_count": 19,
   "metadata": {},
   "outputs": [
    {
     "name": "stdout",
     "output_type": "stream",
     "text": [
      "<class 'pandas.core.frame.DataFrame'>\n",
      "Int64Index: 315240 entries, 0 to 354368\n",
      "Data columns (total 16 columns):\n",
      " #   Column             Non-Null Count   Dtype \n",
      "---  ------             --------------   ----- \n",
      " 0   datecrawled        315240 non-null  object\n",
      " 1   price              315240 non-null  int64 \n",
      " 2   vehicletype        315240 non-null  object\n",
      " 3   registrationyear   315240 non-null  int64 \n",
      " 4   gearbox            315240 non-null  object\n",
      " 5   power              315240 non-null  int64 \n",
      " 6   model              315240 non-null  object\n",
      " 7   kilometer          315240 non-null  int64 \n",
      " 8   registrationmonth  315240 non-null  int64 \n",
      " 9   fueltype           315240 non-null  object\n",
      " 10  brand              315240 non-null  object\n",
      " 11  repaired           315240 non-null  object\n",
      " 12  datecreated        315240 non-null  object\n",
      " 13  numberofpictures   315240 non-null  int64 \n",
      " 14  postalcode         315240 non-null  int64 \n",
      " 15  lastseen           315240 non-null  object\n",
      "dtypes: int64(7), object(9)\n",
      "memory usage: 40.9+ MB\n"
     ]
    }
   ],
   "source": [
    "data[\"vehicletype\"] = data[\"vehicletype\"].fillna(data[\"vehicletype\"].mode().values[0])\n",
    "data[\"gearbox\"] = data[\"gearbox\"].fillna(data[\"gearbox\"].mode().values[0])\n",
    "data[\"fueltype\"] = data[\"fueltype\"].fillna(data[\"fueltype\"].mode().values[0])\n",
    "data = data.drop(data.loc[data['model'].isna()].index, axis=0)\n",
    "data[\"repaired\"] = data[\"repaired\"].fillna(\"no\")\n",
    "data.info()"
   ]
  },
  {
   "cell_type": "code",
   "execution_count": 20,
   "metadata": {},
   "outputs": [],
   "source": [
    "data = data.drop(['datecrawled', 'registrationmonth', 'datecreated', 'postalcode', 'lastseen','numberofpictures'], axis='columns')"
   ]
  },
  {
   "cell_type": "code",
   "execution_count": 21,
   "metadata": {
    "scrolled": true
   },
   "outputs": [
    {
     "data": {
      "text/plain": [
       "price               0\n",
       "vehicletype         0\n",
       "registrationyear    0\n",
       "gearbox             0\n",
       "power               0\n",
       "model               0\n",
       "kilometer           0\n",
       "fueltype            0\n",
       "brand               0\n",
       "repaired            0\n",
       "dtype: int64"
      ]
     },
     "execution_count": 21,
     "metadata": {},
     "output_type": "execute_result"
    }
   ],
   "source": [
    "data.isna().sum()"
   ]
  },
  {
   "cell_type": "code",
   "execution_count": 22,
   "metadata": {},
   "outputs": [
    {
     "data": {
      "text/plain": [
       "2017"
      ]
     },
     "execution_count": 22,
     "metadata": {},
     "output_type": "execute_result"
    }
   ],
   "source": [
    "data.registrationyear.max()"
   ]
  },
  {
   "cell_type": "markdown",
   "metadata": {},
   "source": [
    "## Обучение моделей"
   ]
  },
  {
   "cell_type": "markdown",
   "metadata": {},
   "source": [
    "Подготовьте выборки для обучения моделей."
   ]
  },
  {
   "cell_type": "code",
   "execution_count": 23,
   "metadata": {},
   "outputs": [],
   "source": [
    "# Определение признаков и целевого признака\n",
    "features = data.drop(['price'], axis=1)\n",
    "target = data['price']"
   ]
  },
  {
   "cell_type": "code",
   "execution_count": 24,
   "metadata": {},
   "outputs": [],
   "source": [
    "# Разделение данных на обучающую и тестовую выборки\n",
    "features_train, features_test, target_train, target_test = train_test_split(\n",
    "    features, target, test_size=0.2, random_state=12345)"
   ]
  },
  {
   "cell_type": "code",
   "execution_count": 25,
   "metadata": {},
   "outputs": [],
   "source": [
    "# Кодирование категориальных признаков\n",
    "encoder = OrdinalEncoder(handle_unknown='ignore')\n",
    "encoder.fit(features_train)\n",
    "features_train = pd.DataFrame(encoder.transform(features_train))\n",
    "features_test = pd.DataFrame(encoder.transform(features_test))"
   ]
  },
  {
   "cell_type": "code",
   "execution_count": 26,
   "metadata": {},
   "outputs": [],
   "source": [
    "# Создание набора данных для LightGBM\n",
    "train_data = lightgbm.Dataset(\n",
    "    features_train, label=target_train, free_raw_data=False)"
   ]
  },
  {
   "cell_type": "code",
   "execution_count": 27,
   "metadata": {},
   "outputs": [],
   "source": [
    "# Параметры для поиска по сетке для LightGBM\n",
    "param_grid = {\n",
    "    'learning_rate': [0.1, 0.3],\n",
    "    'max_depth': [15, 20]}"
   ]
  },
  {
   "cell_type": "code",
   "execution_count": 28,
   "metadata": {},
   "outputs": [
    {
     "name": "stdout",
     "output_type": "stream",
     "text": [
      "[LightGBM] [Warning] Accuracy may be bad since you didn't explicitly set num_leaves OR 2^max_depth > num_leaves. (num_leaves=31).\n",
      "[LightGBM] [Warning] Accuracy may be bad since you didn't explicitly set num_leaves OR 2^max_depth > num_leaves. (num_leaves=31).\n",
      "[LightGBM] [Info] Auto-choosing row-wise multi-threading, the overhead of testing was 0.005691 seconds.\n",
      "You can set `force_row_wise=true` to remove the overhead.\n",
      "And if memory is not enough, you can set `force_col_wise=true`.\n",
      "[LightGBM] [Info] Total Bins 583\n",
      "[LightGBM] [Info] Number of data points in the train set: 252192, number of used features: 9\n",
      "[LightGBM] [Info] Start training from score 4682.893966\n",
      "Лучшие параметры: {'learning_rate': 0.3, 'max_depth': 15}\n",
      "Лучшее значение метрики: -2590867.6937615247\n"
     ]
    }
   ],
   "source": [
    "# Создание модели LightGBM\n",
    "lgbm = lightgbm.LGBMRegressor(n_jobs=4)\n",
    "\n",
    "# Поиск по сетке для LightGBM\n",
    "grid = GridSearchCV(\n",
    "    estimator=lgbm,\n",
    "    param_grid=param_grid,\n",
    "    cv=3,\n",
    "    n_jobs=-1,\n",
    "    verbose=0,\n",
    "    scoring='neg_mean_squared_error',\n",
    ")\n",
    "grid.fit(features_train, target_train)\n",
    "print('Лучшие параметры:', grid.best_params_)\n",
    "print('Лучшее значение метрики:', grid.best_score_)"
   ]
  },
  {
   "cell_type": "code",
   "execution_count": 29,
   "metadata": {},
   "outputs": [
    {
     "name": "stdout",
     "output_type": "stream",
     "text": [
      "[LightGBM] [Warning] Accuracy may be bad since you didn't explicitly set num_leaves OR 2^max_depth > num_leaves. (num_leaves=31).\n",
      "[LightGBM] [Warning] Accuracy may be bad since you didn't explicitly set num_leaves OR 2^max_depth > num_leaves. (num_leaves=31).\n",
      "[LightGBM] [Info] Auto-choosing row-wise multi-threading, the overhead of testing was 0.005412 seconds.\n",
      "You can set `force_row_wise=true` to remove the overhead.\n",
      "And if memory is not enough, you can set `force_col_wise=true`.\n",
      "[LightGBM] [Info] Total Bins 583\n",
      "[LightGBM] [Info] Number of data points in the train set: 252192, number of used features: 9\n",
      "[LightGBM] [Info] Start training from score 4682.893966\n",
      "Время обучения модели: 7.05900764465332 секунд\n"
     ]
    }
   ],
   "source": [
    "start_time = time.time()\n",
    "\n",
    "grid.fit(features_train, target_train)\n",
    "\n",
    "end_time = time.time()\n",
    "fit_lgbm = end_time - start_time\n",
    "print('Время обучения модели:', fit_lgbm , 'секунд')"
   ]
  },
  {
   "cell_type": "code",
   "execution_count": 30,
   "metadata": {},
   "outputs": [
    {
     "name": "stdout",
     "output_type": "stream",
     "text": [
      "[LightGBM] [Warning] Accuracy may be bad since you didn't explicitly set num_leaves OR 2^max_depth > num_leaves. (num_leaves=31).\n",
      "[LightGBM] [Warning] Accuracy may be bad since you didn't explicitly set num_leaves OR 2^max_depth > num_leaves. (num_leaves=31).\n",
      "[LightGBM] [Info] Auto-choosing row-wise multi-threading, the overhead of testing was 0.005335 seconds.\n",
      "You can set `force_row_wise=true` to remove the overhead.\n",
      "And if memory is not enough, you can set `force_col_wise=true`.\n",
      "[LightGBM] [Info] Total Bins 583\n",
      "[LightGBM] [Info] Number of data points in the train set: 252192, number of used features: 9\n",
      "[LightGBM] [Info] Start training from score 4682.893966\n",
      "Время обучения модели: 0.38295674324035645 секунд\n"
     ]
    }
   ],
   "source": [
    "\n",
    "grid.best_estimator_.fit(features_train, target_train)\n",
    "fit_lgbm = grid.refit_time_\n",
    "print('Время обучения модели:', fit_lgbm , 'секунд')"
   ]
  },
  {
   "cell_type": "code",
   "execution_count": 31,
   "metadata": {},
   "outputs": [
    {
     "name": "stdout",
     "output_type": "stream",
     "text": [
      "{'learning_rate': 0.3, 'max_depth': 15}\n",
      "RMSE для LightGBM модели на валидационной выборке: 1609.62\n"
     ]
    }
   ],
   "source": [
    "# Вывод лучших параметров и RMSE для LightGBM\n",
    "\n",
    "print(grid.best_params_)\n",
    "print('RMSE для LightGBM модели на валидационной выборке: {:.2f}'.format(\n",
    "    (-grid.best_score_)**0.5))"
   ]
  },
  {
   "cell_type": "code",
   "execution_count": 32,
   "metadata": {},
   "outputs": [
    {
     "name": "stdout",
     "output_type": "stream",
     "text": [
      "[LightGBM] [Warning] Accuracy may be bad since you didn't explicitly set num_leaves OR 2^max_depth > num_leaves. (num_leaves=31).\n",
      "MSE: 2385052.98\n",
      "RMSE: 1544.36\n",
      "Fit: 0.38295674324035645\n",
      "Predict: 0.22603344917297363\n"
     ]
    }
   ],
   "source": [
    "# Предсказание и вычисление RMSE для LightGBM на обучающей выборке\n",
    "start = time.time()\n",
    "prediction = grid.predict(features_train)\n",
    "prdict_lgbm = time.time() - start\n",
    "mse = mean_squared_error(target_train, prediction)\n",
    "rmse = mse**(0.5)\n",
    "print(\"MSE: %.2f\" % mse)\n",
    "print(\"RMSE: %.2f\" % rmse)\n",
    "print(\"Fit:\", fit_lgbm)\n",
    "print(\"Predict:\", prdict_lgbm)"
   ]
  },
  {
   "cell_type": "code",
   "execution_count": 33,
   "metadata": {},
   "outputs": [],
   "source": [
    "# Параметры для поиска по сетке для случайного леса\n",
    "param_grid = {\n",
    "    'bootstrap': [True],\n",
    "    'max_depth': [10, 15, 20],\n",
    "    'max_features': [3],\n",
    "    'n_estimators': [80, 100, 120]\n",
    "}"
   ]
  },
  {
   "cell_type": "code",
   "execution_count": 34,
   "metadata": {},
   "outputs": [
    {
     "name": "stdout",
     "output_type": "stream",
     "text": [
      "Fitting 2 folds for each of 9 candidates, totalling 18 fits\n"
     ]
    }
   ],
   "source": [
    "# Создание модели случайного леса\n",
    "rf = RandomForestRegressor()\n",
    "\n",
    "# Поиск по сетке для случайного леса\n",
    "start = time.time()\n",
    "grid_search_final = GridSearchCV(\n",
    "    estimator=rf,\n",
    "    param_grid=param_grid,\n",
    "    scoring='neg_mean_squared_error',\n",
    "    cv=2,\n",
    "    n_jobs=-1,\n",
    "    verbose=2).fit(features_train, target_train)\n",
    "fit_rfr = grid_search_final.refit_time_"
   ]
  },
  {
   "cell_type": "code",
   "execution_count": 35,
   "metadata": {},
   "outputs": [
    {
     "name": "stdout",
     "output_type": "stream",
     "text": [
      "{'bootstrap': True, 'max_depth': 20, 'max_features': 3, 'n_estimators': 120}\n",
      "1539.1534832861232\n"
     ]
    }
   ],
   "source": [
    "# Вывод лучших параметров и RMSE для случайного леса\n",
    "best_parameters_final = grid_search_final.best_params_\n",
    "best_estimator_final = grid_search_final.best_estimator_\n",
    "rfc_final = cross_val_score(\n",
    "    best_estimator_final,\n",
    "    features_train,\n",
    "    target_train,\n",
    "    scoring='neg_mean_squared_error',\n",
    "    cv=4).mean()\n",
    "print(best_parameters_final)\n",
    "print(abs(rfc_final)**(0.5))"
   ]
  },
  {
   "cell_type": "code",
   "execution_count": 36,
   "metadata": {},
   "outputs": [],
   "source": [
    "# Предсказание и вычисление времени предсказания для случайного леса на обучающей выборке\n",
    "start = time.time()\n",
    "bf = best_estimator_final.predict(features_train)\n",
    "predict_rfr = time.time() - start"
   ]
  },
  {
   "cell_type": "code",
   "execution_count": 37,
   "metadata": {},
   "outputs": [
    {
     "name": "stdout",
     "output_type": "stream",
     "text": [
      "RandomForest\n",
      "RMSE: 1539.1534832861232\n",
      "Время Обучения: 21.819607257843018\n",
      "Скорость работы: 6.993720293045044\n"
     ]
    }
   ],
   "source": [
    "# Вывод результатов для случайного леса\n",
    "print('RandomForest')\n",
    "print(\"RMSE:\",abs(rfc_final)**(0.5))\n",
    "print(\"Время Обучения:\", fit_rfr)\n",
    "print(\"Скорость работы:\", predict_rfr)"
   ]
  },
  {
   "cell_type": "code",
   "execution_count": 38,
   "metadata": {
    "scrolled": true
   },
   "outputs": [
    {
     "name": "stdout",
     "output_type": "stream",
     "text": [
      "LGBM\n",
      "RMSE: 1544.36\n",
      "Время Обучения: 0.38295674324035645\n",
      "Скорость работы 0.22603344917297363\n"
     ]
    }
   ],
   "source": [
    "# Вывод результатов для LightGBM\n",
    "print('LGBM')\n",
    "print(\"RMSE: %.2f\" % rmse)\n",
    "print(\"Время Обучения:\", fit_lgbm)\n",
    "print(\"Скорость работы\", prdict_lgbm)"
   ]
  },
  {
   "cell_type": "markdown",
   "metadata": {},
   "source": [
    "Лучшие результаты показала модель Случаного леса с резутатом RMSE 1539.011 при скорости работы 7.317392349243164, однако RMSE у LightGBM лишь немного хуже, а время выполнения заметно лучше, поэтому используем эту модель "
   ]
  },
  {
   "cell_type": "code",
   "execution_count": 39,
   "metadata": {},
   "outputs": [
    {
     "name": "stdout",
     "output_type": "stream",
     "text": [
      "[LightGBM] [Warning] Accuracy may be bad since you didn't explicitly set num_leaves OR 2^max_depth > num_leaves. (num_leaves=31).\n",
      "RMSE на тестовых данных: 1592.3505236556293\n",
      "CPU times: total: 188 ms\n",
      "Wall time: 60.5 ms\n"
     ]
    }
   ],
   "source": [
    "%%time\n",
    "# Предсказание на тестовых данных\n",
    "target_pred = grid.predict(features_test)\n",
    "\n",
    "# Вычисление RMSE\n",
    "rmse = mean_squared_error(target_test, target_pred, squared=False)\n",
    "print('RMSE на тестовых данных:', rmse)\n"
   ]
  },
  {
   "cell_type": "markdown",
   "metadata": {},
   "source": [
    "Вывод"
   ]
  },
  {
   "cell_type": "markdown",
   "metadata": {},
   "source": [
    "После исследованния моделей для заказчика рекоммендуется использовать модель LightGBM, так как она показывает хорошее качество и работает достаточно бсытро. "
   ]
  }
 ],
 "metadata": {
  "ExecuteTimeLog": [
   {
    "duration": 489,
    "start_time": "2023-09-02T20:58:27.838Z"
   },
   {
    "duration": 2053,
    "start_time": "2023-09-02T20:58:28.329Z"
   },
   {
    "duration": 4,
    "start_time": "2023-09-03T00:06:58.079Z"
   },
   {
    "duration": 1141,
    "start_time": "2023-09-03T00:06:58.903Z"
   },
   {
    "duration": 27,
    "start_time": "2023-09-03T00:07:00.336Z"
   },
   {
    "duration": 186,
    "start_time": "2023-09-03T00:07:01.967Z"
   },
   {
    "duration": 207,
    "start_time": "2023-09-03T00:07:15.336Z"
   },
   {
    "duration": 565,
    "start_time": "2023-09-03T00:07:29.333Z"
   },
   {
    "duration": 533,
    "start_time": "2023-09-03T00:07:36.958Z"
   },
   {
    "duration": 25,
    "start_time": "2023-09-03T00:09:24.142Z"
   },
   {
    "duration": 73,
    "start_time": "2023-09-03T00:09:56.506Z"
   },
   {
    "duration": 68,
    "start_time": "2023-09-03T00:11:43.590Z"
   },
   {
    "duration": 2189,
    "start_time": "2023-09-03T00:12:51.884Z"
   },
   {
    "duration": 2340,
    "start_time": "2023-09-03T00:13:07.852Z"
   },
   {
    "duration": 748,
    "start_time": "2023-09-03T00:13:32.403Z"
   },
   {
    "duration": 543,
    "start_time": "2023-09-03T00:13:49.450Z"
   },
   {
    "duration": 1945,
    "start_time": "2023-09-03T00:21:11.153Z"
   },
   {
    "duration": 189,
    "start_time": "2023-09-03T00:24:12.900Z"
   },
   {
    "duration": 185,
    "start_time": "2023-09-03T00:24:14.700Z"
   },
   {
    "duration": 581,
    "start_time": "2023-09-03T00:24:15.403Z"
   },
   {
    "duration": 7,
    "start_time": "2023-09-03T00:24:15.986Z"
   },
   {
    "duration": 45,
    "start_time": "2023-09-03T00:25:40.890Z"
   },
   {
    "duration": 46,
    "start_time": "2023-09-03T00:28:49.041Z"
   },
   {
    "duration": 423,
    "start_time": "2023-09-04T00:20:31.509Z"
   },
   {
    "duration": 1319,
    "start_time": "2023-09-04T00:20:32.285Z"
   },
   {
    "duration": 29,
    "start_time": "2023-09-04T00:20:35.601Z"
   },
   {
    "duration": 191,
    "start_time": "2023-09-04T00:20:36.499Z"
   },
   {
    "duration": 64,
    "start_time": "2023-09-04T00:20:37.533Z"
   },
   {
    "duration": 170,
    "start_time": "2023-09-04T00:20:38.375Z"
   },
   {
    "duration": 67,
    "start_time": "2023-09-04T00:24:26.142Z"
   },
   {
    "duration": 7,
    "start_time": "2023-09-04T00:25:35.640Z"
   },
   {
    "duration": 91,
    "start_time": "2023-09-04T00:25:56.332Z"
   },
   {
    "duration": 1204,
    "start_time": "2023-09-04T00:26:53.914Z"
   },
   {
    "duration": 696,
    "start_time": "2023-09-04T00:27:00.602Z"
   },
   {
    "duration": 92,
    "start_time": "2023-09-04T00:32:04.591Z"
   },
   {
    "duration": 66,
    "start_time": "2023-09-04T00:32:05.014Z"
   },
   {
    "duration": 24,
    "start_time": "2023-09-04T00:33:10.706Z"
   },
   {
    "duration": 12,
    "start_time": "2023-09-04T00:33:17.460Z"
   },
   {
    "duration": 36,
    "start_time": "2023-09-04T00:33:35.130Z"
   },
   {
    "duration": 15,
    "start_time": "2023-09-04T00:33:35.995Z"
   },
   {
    "duration": 14,
    "start_time": "2023-09-04T00:35:14.201Z"
   },
   {
    "duration": 13,
    "start_time": "2023-09-04T00:35:18.527Z"
   },
   {
    "duration": 119,
    "start_time": "2023-09-04T00:35:26.759Z"
   },
   {
    "duration": 417,
    "start_time": "2023-09-04T00:35:41.495Z"
   },
   {
    "duration": 843,
    "start_time": "2023-09-04T00:35:41.998Z"
   },
   {
    "duration": 22,
    "start_time": "2023-09-04T00:35:42.843Z"
   },
   {
    "duration": 148,
    "start_time": "2023-09-04T00:35:42.868Z"
   },
   {
    "duration": 62,
    "start_time": "2023-09-04T00:35:43.223Z"
   },
   {
    "duration": 41,
    "start_time": "2023-09-04T00:35:43.406Z"
   },
   {
    "duration": 89,
    "start_time": "2023-09-04T00:35:44.458Z"
   },
   {
    "duration": 200,
    "start_time": "2023-09-04T00:35:45.104Z"
   },
   {
    "duration": 19,
    "start_time": "2023-09-04T00:37:04.362Z"
   },
   {
    "duration": 21,
    "start_time": "2023-09-04T00:37:11.132Z"
   },
   {
    "duration": 13,
    "start_time": "2023-09-04T00:38:47.005Z"
   },
   {
    "duration": 8,
    "start_time": "2023-09-04T00:39:24.969Z"
   },
   {
    "duration": 465,
    "start_time": "2023-09-04T00:40:18.327Z"
   },
   {
    "duration": 864,
    "start_time": "2023-09-04T00:40:19.185Z"
   },
   {
    "duration": 23,
    "start_time": "2023-09-04T00:40:20.199Z"
   },
   {
    "duration": 141,
    "start_time": "2023-09-04T00:40:35.693Z"
   },
   {
    "duration": 56,
    "start_time": "2023-09-04T00:40:49.625Z"
   },
   {
    "duration": 8,
    "start_time": "2023-09-04T00:40:50.567Z"
   },
   {
    "duration": 41,
    "start_time": "2023-09-04T00:40:51.734Z"
   },
   {
    "duration": 82,
    "start_time": "2023-09-04T00:40:52.604Z"
   },
   {
    "duration": 374,
    "start_time": "2023-09-04T00:41:25.761Z"
   },
   {
    "duration": 882,
    "start_time": "2023-09-04T00:41:26.137Z"
   },
   {
    "duration": 22,
    "start_time": "2023-09-04T00:41:27.021Z"
   },
   {
    "duration": 153,
    "start_time": "2023-09-04T00:41:27.045Z"
   },
   {
    "duration": 58,
    "start_time": "2023-09-04T00:41:27.200Z"
   },
   {
    "duration": 6,
    "start_time": "2023-09-04T00:41:27.260Z"
   },
   {
    "duration": 48,
    "start_time": "2023-09-04T00:41:27.268Z"
   },
   {
    "duration": 105,
    "start_time": "2023-09-04T00:41:27.318Z"
   },
   {
    "duration": 9,
    "start_time": "2023-09-04T00:41:56.210Z"
   },
   {
    "duration": 14,
    "start_time": "2023-09-04T00:42:04.358Z"
   },
   {
    "duration": 11,
    "start_time": "2023-09-04T00:42:29.532Z"
   },
   {
    "duration": 67,
    "start_time": "2023-09-04T00:42:40.756Z"
   },
   {
    "duration": 13,
    "start_time": "2023-09-04T00:42:45.699Z"
   },
   {
    "duration": 52,
    "start_time": "2023-09-04T23:27:25.146Z"
   },
   {
    "duration": 574,
    "start_time": "2023-09-04T23:27:30.836Z"
   },
   {
    "duration": 1207,
    "start_time": "2023-09-04T23:27:31.673Z"
   },
   {
    "duration": 27,
    "start_time": "2023-09-04T23:27:32.882Z"
   },
   {
    "duration": 163,
    "start_time": "2023-09-04T23:27:32.911Z"
   },
   {
    "duration": 57,
    "start_time": "2023-09-04T23:27:33.117Z"
   },
   {
    "duration": 140,
    "start_time": "2023-09-04T23:27:33.785Z"
   },
   {
    "duration": 615,
    "start_time": "2023-09-04T23:27:35.071Z"
   },
   {
    "duration": 30,
    "start_time": "2023-09-04T23:28:18.368Z"
   },
   {
    "duration": 76,
    "start_time": "2023-09-04T23:30:41.065Z"
   },
   {
    "duration": 169,
    "start_time": "2023-09-04T23:30:54.725Z"
   },
   {
    "duration": 45,
    "start_time": "2023-09-04T23:34:39.542Z"
   },
   {
    "duration": 167,
    "start_time": "2023-09-04T23:47:19.799Z"
   },
   {
    "duration": 196,
    "start_time": "2023-09-04T23:47:53.904Z"
   },
   {
    "duration": 244,
    "start_time": "2023-09-04T23:48:00.159Z"
   },
   {
    "duration": 303,
    "start_time": "2023-09-04T23:48:04.622Z"
   },
   {
    "duration": 228,
    "start_time": "2023-09-04T23:48:09.146Z"
   },
   {
    "duration": 34,
    "start_time": "2023-09-04T23:48:41.313Z"
   },
   {
    "duration": 29,
    "start_time": "2023-09-04T23:49:18.305Z"
   },
   {
    "duration": 86,
    "start_time": "2023-09-04T23:51:10.008Z"
   },
   {
    "duration": 249,
    "start_time": "2023-09-04T23:51:28.978Z"
   },
   {
    "duration": 224,
    "start_time": "2023-09-04T23:51:35.725Z"
   },
   {
    "duration": 234,
    "start_time": "2023-09-04T23:51:47.299Z"
   },
   {
    "duration": 325,
    "start_time": "2023-09-04T23:51:54.943Z"
   },
   {
    "duration": 244,
    "start_time": "2023-09-04T23:52:01.063Z"
   },
   {
    "duration": 167,
    "start_time": "2023-09-04T23:56:03.459Z"
   },
   {
    "duration": 8,
    "start_time": "2023-09-04T23:56:07.923Z"
   },
   {
    "duration": 16,
    "start_time": "2023-09-04T23:56:13.398Z"
   },
   {
    "duration": 26,
    "start_time": "2023-09-04T23:56:52.220Z"
   },
   {
    "duration": 10,
    "start_time": "2023-09-04T23:57:04.532Z"
   },
   {
    "duration": 22,
    "start_time": "2023-09-04T23:57:05.697Z"
   },
   {
    "duration": 14,
    "start_time": "2023-09-04T23:57:18.103Z"
   },
   {
    "duration": 5,
    "start_time": "2023-09-04T23:57:21.061Z"
   },
   {
    "duration": 7,
    "start_time": "2023-09-04T23:57:22.059Z"
   },
   {
    "duration": 438,
    "start_time": "2023-09-04T23:57:46.771Z"
   },
   {
    "duration": 930,
    "start_time": "2023-09-04T23:57:47.486Z"
   },
   {
    "duration": 25,
    "start_time": "2023-09-04T23:57:48.486Z"
   },
   {
    "duration": 166,
    "start_time": "2023-09-04T23:57:48.847Z"
   },
   {
    "duration": 54,
    "start_time": "2023-09-04T23:57:49.873Z"
   },
   {
    "duration": 551,
    "start_time": "2023-09-04T23:57:50.439Z"
   },
   {
    "duration": 99,
    "start_time": "2023-09-04T23:57:50.993Z"
   },
   {
    "duration": 25,
    "start_time": "2023-09-04T23:57:51.094Z"
   },
   {
    "duration": 140,
    "start_time": "2023-09-04T23:57:52.366Z"
   },
   {
    "duration": 45,
    "start_time": "2023-09-04T23:57:52.856Z"
   },
   {
    "duration": 148,
    "start_time": "2023-09-04T23:57:53.069Z"
   },
   {
    "duration": 24,
    "start_time": "2023-09-04T23:57:55.504Z"
   },
   {
    "duration": 116,
    "start_time": "2023-09-05T00:03:39.338Z"
   },
   {
    "duration": 23,
    "start_time": "2023-09-05T00:03:42.632Z"
   },
   {
    "duration": 146,
    "start_time": "2023-09-05T00:03:48.620Z"
   },
   {
    "duration": 24,
    "start_time": "2023-09-05T00:09:37.642Z"
   },
   {
    "duration": 89,
    "start_time": "2023-09-05T00:10:52.745Z"
   },
   {
    "duration": 147,
    "start_time": "2023-09-05T00:10:57.403Z"
   },
   {
    "duration": 133,
    "start_time": "2023-09-05T00:11:20.508Z"
   },
   {
    "duration": 463,
    "start_time": "2023-09-05T00:11:32.750Z"
   },
   {
    "duration": 927,
    "start_time": "2023-09-05T00:11:33.215Z"
   },
   {
    "duration": 24,
    "start_time": "2023-09-05T00:11:34.144Z"
   },
   {
    "duration": 191,
    "start_time": "2023-09-05T00:11:34.170Z"
   },
   {
    "duration": 71,
    "start_time": "2023-09-05T00:11:34.365Z"
   },
   {
    "duration": 517,
    "start_time": "2023-09-05T00:11:34.438Z"
   },
   {
    "duration": 89,
    "start_time": "2023-09-05T00:11:34.957Z"
   },
   {
    "duration": 33,
    "start_time": "2023-09-05T00:11:35.048Z"
   },
   {
    "duration": 143,
    "start_time": "2023-09-05T00:11:35.083Z"
   },
   {
    "duration": 109,
    "start_time": "2023-09-05T00:11:35.228Z"
   },
   {
    "duration": 135,
    "start_time": "2023-09-05T00:11:35.339Z"
   },
   {
    "duration": 50,
    "start_time": "2023-09-05T00:11:35.482Z"
   },
   {
    "duration": 165,
    "start_time": "2023-09-05T00:11:35.535Z"
   },
   {
    "duration": 51,
    "start_time": "2023-09-05T00:11:35.703Z"
   },
   {
    "duration": 29,
    "start_time": "2023-09-05T00:15:18.078Z"
   },
   {
    "duration": 437,
    "start_time": "2023-09-05T00:15:24.276Z"
   },
   {
    "duration": 1008,
    "start_time": "2023-09-05T00:15:24.715Z"
   },
   {
    "duration": 23,
    "start_time": "2023-09-05T00:15:25.725Z"
   },
   {
    "duration": 168,
    "start_time": "2023-09-05T00:15:25.750Z"
   },
   {
    "duration": 65,
    "start_time": "2023-09-05T00:15:25.922Z"
   },
   {
    "duration": 555,
    "start_time": "2023-09-05T00:15:25.989Z"
   },
   {
    "duration": 117,
    "start_time": "2023-09-05T00:15:26.546Z"
   },
   {
    "duration": 31,
    "start_time": "2023-09-05T00:15:26.664Z"
   },
   {
    "duration": 167,
    "start_time": "2023-09-05T00:15:26.697Z"
   },
   {
    "duration": 63,
    "start_time": "2023-09-05T00:15:26.866Z"
   },
   {
    "duration": 118,
    "start_time": "2023-09-05T00:15:26.931Z"
   },
   {
    "duration": 145,
    "start_time": "2023-09-05T00:15:27.051Z"
   },
   {
    "duration": 87,
    "start_time": "2023-09-05T00:15:27.198Z"
   },
   {
    "duration": 141,
    "start_time": "2023-09-05T00:15:27.288Z"
   },
   {
    "duration": 95,
    "start_time": "2023-09-05T00:15:27.431Z"
   },
   {
    "duration": 602,
    "start_time": "2023-09-05T00:18:15.140Z"
   },
   {
    "duration": 83,
    "start_time": "2023-09-05T00:22:06.505Z"
   },
   {
    "duration": 26,
    "start_time": "2023-09-05T00:22:35.351Z"
   },
   {
    "duration": 92,
    "start_time": "2023-09-05T00:24:09.361Z"
   },
   {
    "duration": 152,
    "start_time": "2023-09-05T00:24:14.849Z"
   },
   {
    "duration": 50,
    "start_time": "2023-09-05T00:24:38.765Z"
   },
   {
    "duration": 133,
    "start_time": "2023-09-05T00:24:40.244Z"
   },
   {
    "duration": 115,
    "start_time": "2023-09-05T01:00:54.621Z"
   },
   {
    "duration": 57,
    "start_time": "2023-09-05T01:00:56.029Z"
   },
   {
    "duration": 136,
    "start_time": "2023-09-05T01:00:57.702Z"
   },
   {
    "duration": 1538,
    "start_time": "2023-09-05T23:15:06.455Z"
   },
   {
    "duration": 98,
    "start_time": "2023-09-05T23:20:24.973Z"
   },
   {
    "duration": 1472,
    "start_time": "2023-09-05T23:20:47.145Z"
   },
   {
    "duration": 2869,
    "start_time": "2023-09-05T23:20:48.619Z"
   },
   {
    "duration": 18,
    "start_time": "2023-09-05T23:20:51.489Z"
   },
   {
    "duration": 137,
    "start_time": "2023-09-05T23:20:51.508Z"
   },
   {
    "duration": 52,
    "start_time": "2023-09-05T23:20:51.647Z"
   },
   {
    "duration": 212,
    "start_time": "2023-09-05T23:20:51.701Z"
   },
   {
    "duration": 87,
    "start_time": "2023-09-05T23:20:51.914Z"
   },
   {
    "duration": 22,
    "start_time": "2023-09-05T23:20:52.003Z"
   },
   {
    "duration": 136,
    "start_time": "2023-09-05T23:20:52.027Z"
   },
   {
    "duration": 38,
    "start_time": "2023-09-05T23:20:52.165Z"
   },
   {
    "duration": 104,
    "start_time": "2023-09-05T23:20:52.205Z"
   },
   {
    "duration": 78,
    "start_time": "2023-09-05T23:20:52.311Z"
   },
   {
    "duration": 119,
    "start_time": "2023-09-05T23:20:52.391Z"
   },
   {
    "duration": 53,
    "start_time": "2023-09-05T23:20:52.513Z"
   },
   {
    "duration": 123,
    "start_time": "2023-09-05T23:20:52.568Z"
   },
   {
    "duration": 15,
    "start_time": "2023-09-05T23:20:52.693Z"
   },
   {
    "duration": 38,
    "start_time": "2023-09-05T23:20:52.710Z"
   },
   {
    "duration": 74,
    "start_time": "2023-09-05T23:20:52.750Z"
   },
   {
    "duration": 4,
    "start_time": "2023-09-05T23:20:52.826Z"
   },
   {
    "duration": 590,
    "start_time": "2023-09-05T23:25:51.146Z"
   },
   {
    "duration": 3,
    "start_time": "2023-09-05T23:49:29.057Z"
   },
   {
    "duration": 123,
    "start_time": "2023-09-05T23:49:55.858Z"
   },
   {
    "duration": 80,
    "start_time": "2023-09-05T23:56:09.115Z"
   },
   {
    "duration": 312,
    "start_time": "2023-09-05T23:59:35.482Z"
   },
   {
    "duration": 324,
    "start_time": "2023-09-05T23:59:46.275Z"
   },
   {
    "duration": 16,
    "start_time": "2023-09-05T23:59:46.871Z"
   },
   {
    "duration": 73,
    "start_time": "2023-09-05T23:59:47.821Z"
   },
   {
    "duration": 16,
    "start_time": "2023-09-05T23:59:55.210Z"
   },
   {
    "duration": 56,
    "start_time": "2023-09-05T23:59:56.546Z"
   },
   {
    "duration": 4,
    "start_time": "2023-09-05T23:59:57.503Z"
   },
   {
    "duration": 543,
    "start_time": "2023-09-06T00:00:18.862Z"
   },
   {
    "duration": 900,
    "start_time": "2023-09-06T00:00:19.795Z"
   },
   {
    "duration": 9,
    "start_time": "2023-09-06T00:17:03.153Z"
   },
   {
    "duration": 19,
    "start_time": "2023-09-06T00:17:34.987Z"
   },
   {
    "duration": 12,
    "start_time": "2023-09-06T00:17:43.123Z"
   },
   {
    "duration": 3,
    "start_time": "2023-09-06T00:19:23.326Z"
   },
   {
    "duration": 3,
    "start_time": "2023-09-06T00:19:27.438Z"
   },
   {
    "duration": 82059,
    "start_time": "2023-09-06T00:19:33.386Z"
   },
   {
    "duration": 3,
    "start_time": "2023-09-06T00:21:23.064Z"
   },
   {
    "duration": 102192,
    "start_time": "2023-09-06T00:21:30.355Z"
   },
   {
    "duration": 1825,
    "start_time": "2023-09-07T12:34:21.117Z"
   },
   {
    "duration": 1309,
    "start_time": "2023-09-07T12:34:22.944Z"
   },
   {
    "duration": 23,
    "start_time": "2023-09-07T12:34:24.255Z"
   },
   {
    "duration": 190,
    "start_time": "2023-09-07T12:34:24.279Z"
   },
   {
    "duration": 75,
    "start_time": "2023-09-07T12:34:24.471Z"
   },
   {
    "duration": 309,
    "start_time": "2023-09-07T12:34:24.548Z"
   },
   {
    "duration": 94,
    "start_time": "2023-09-07T12:34:24.858Z"
   },
   {
    "duration": 26,
    "start_time": "2023-09-07T12:34:24.954Z"
   },
   {
    "duration": 153,
    "start_time": "2023-09-07T12:34:24.982Z"
   },
   {
    "duration": 43,
    "start_time": "2023-09-07T12:34:25.136Z"
   },
   {
    "duration": 117,
    "start_time": "2023-09-07T12:34:25.181Z"
   },
   {
    "duration": 85,
    "start_time": "2023-09-07T12:34:25.300Z"
   },
   {
    "duration": 138,
    "start_time": "2023-09-07T12:34:25.386Z"
   },
   {
    "duration": 54,
    "start_time": "2023-09-07T12:34:25.526Z"
   },
   {
    "duration": 169,
    "start_time": "2023-09-07T12:34:25.581Z"
   },
   {
    "duration": 355,
    "start_time": "2023-09-07T12:34:25.752Z"
   },
   {
    "duration": 25,
    "start_time": "2023-09-07T12:34:26.109Z"
   },
   {
    "duration": 80,
    "start_time": "2023-09-07T12:34:26.136Z"
   },
   {
    "duration": 29,
    "start_time": "2023-09-07T12:34:26.217Z"
   },
   {
    "duration": 61,
    "start_time": "2023-09-07T12:34:26.248Z"
   },
   {
    "duration": 4,
    "start_time": "2023-09-07T12:34:26.310Z"
   },
   {
    "duration": 722,
    "start_time": "2023-09-07T12:34:26.315Z"
   },
   {
    "duration": 1080,
    "start_time": "2023-09-07T12:34:27.038Z"
   },
   {
    "duration": 140,
    "start_time": "2023-09-07T12:34:28.120Z"
   },
   {
    "duration": 0,
    "start_time": "2023-09-07T12:34:28.262Z"
   },
   {
    "duration": 27,
    "start_time": "2023-09-07T12:35:08.866Z"
   },
   {
    "duration": 1683,
    "start_time": "2023-09-07T12:35:18.384Z"
   },
   {
    "duration": 1560,
    "start_time": "2023-09-07T12:35:47.698Z"
   },
   {
    "duration": 1793,
    "start_time": "2023-09-07T23:51:41.734Z"
   },
   {
    "duration": 1405,
    "start_time": "2023-09-07T23:51:43.529Z"
   },
   {
    "duration": 22,
    "start_time": "2023-09-07T23:51:44.935Z"
   },
   {
    "duration": 186,
    "start_time": "2023-09-07T23:51:44.958Z"
   },
   {
    "duration": 64,
    "start_time": "2023-09-07T23:51:45.147Z"
   },
   {
    "duration": 330,
    "start_time": "2023-09-07T23:51:45.218Z"
   },
   {
    "duration": 99,
    "start_time": "2023-09-07T23:51:45.549Z"
   },
   {
    "duration": 26,
    "start_time": "2023-09-07T23:51:45.650Z"
   },
   {
    "duration": 184,
    "start_time": "2023-09-07T23:51:45.678Z"
   },
   {
    "duration": 67,
    "start_time": "2023-09-07T23:51:45.864Z"
   },
   {
    "duration": 147,
    "start_time": "2023-09-07T23:51:45.934Z"
   },
   {
    "duration": 93,
    "start_time": "2023-09-07T23:51:46.083Z"
   },
   {
    "duration": 180,
    "start_time": "2023-09-07T23:51:46.178Z"
   },
   {
    "duration": 103,
    "start_time": "2023-09-07T23:51:46.361Z"
   },
   {
    "duration": 232,
    "start_time": "2023-09-07T23:51:46.465Z"
   },
   {
    "duration": 386,
    "start_time": "2023-09-07T23:51:46.698Z"
   },
   {
    "duration": 28,
    "start_time": "2023-09-07T23:51:47.085Z"
   },
   {
    "duration": 86,
    "start_time": "2023-09-07T23:51:47.118Z"
   },
   {
    "duration": 147,
    "start_time": "2023-09-07T23:51:47.205Z"
   },
   {
    "duration": 0,
    "start_time": "2023-09-07T23:51:47.354Z"
   },
   {
    "duration": 0,
    "start_time": "2023-09-07T23:51:47.356Z"
   },
   {
    "duration": 227,
    "start_time": "2023-09-07T23:52:45.276Z"
   },
   {
    "duration": 1750,
    "start_time": "2023-09-07T23:53:06.811Z"
   },
   {
    "duration": 1434,
    "start_time": "2023-09-07T23:53:08.563Z"
   },
   {
    "duration": 33,
    "start_time": "2023-09-07T23:53:09.999Z"
   },
   {
    "duration": 187,
    "start_time": "2023-09-07T23:53:10.034Z"
   },
   {
    "duration": 56,
    "start_time": "2023-09-07T23:53:10.224Z"
   },
   {
    "duration": 278,
    "start_time": "2023-09-07T23:53:10.282Z"
   },
   {
    "duration": 91,
    "start_time": "2023-09-07T23:53:10.561Z"
   },
   {
    "duration": 24,
    "start_time": "2023-09-07T23:53:10.654Z"
   },
   {
    "duration": 182,
    "start_time": "2023-09-07T23:53:10.680Z"
   },
   {
    "duration": 51,
    "start_time": "2023-09-07T23:53:10.864Z"
   },
   {
    "duration": 111,
    "start_time": "2023-09-07T23:53:10.923Z"
   },
   {
    "duration": 90,
    "start_time": "2023-09-07T23:53:11.036Z"
   },
   {
    "duration": 145,
    "start_time": "2023-09-07T23:53:11.130Z"
   },
   {
    "duration": 55,
    "start_time": "2023-09-07T23:53:11.277Z"
   },
   {
    "duration": 154,
    "start_time": "2023-09-07T23:53:11.334Z"
   },
   {
    "duration": 398,
    "start_time": "2023-09-07T23:53:11.490Z"
   },
   {
    "duration": 37,
    "start_time": "2023-09-07T23:53:11.889Z"
   },
   {
    "duration": 214,
    "start_time": "2023-09-07T23:53:11.928Z"
   },
   {
    "duration": 314,
    "start_time": "2023-09-07T23:53:12.144Z"
   },
   {
    "duration": 50,
    "start_time": "2023-09-07T23:53:25.942Z"
   },
   {
    "duration": 1786,
    "start_time": "2023-09-07T23:53:39.963Z"
   },
   {
    "duration": 1343,
    "start_time": "2023-09-07T23:53:41.751Z"
   },
   {
    "duration": 32,
    "start_time": "2023-09-07T23:53:43.095Z"
   },
   {
    "duration": 163,
    "start_time": "2023-09-07T23:53:43.131Z"
   },
   {
    "duration": 60,
    "start_time": "2023-09-07T23:53:43.296Z"
   },
   {
    "duration": 278,
    "start_time": "2023-09-07T23:53:43.358Z"
   },
   {
    "duration": 95,
    "start_time": "2023-09-07T23:53:43.637Z"
   },
   {
    "duration": 27,
    "start_time": "2023-09-07T23:53:43.733Z"
   },
   {
    "duration": 177,
    "start_time": "2023-09-07T23:53:43.762Z"
   },
   {
    "duration": 43,
    "start_time": "2023-09-07T23:53:43.941Z"
   },
   {
    "duration": 118,
    "start_time": "2023-09-07T23:53:43.986Z"
   },
   {
    "duration": 79,
    "start_time": "2023-09-07T23:53:44.106Z"
   },
   {
    "duration": 171,
    "start_time": "2023-09-07T23:53:44.187Z"
   },
   {
    "duration": 53,
    "start_time": "2023-09-07T23:53:44.360Z"
   },
   {
    "duration": 175,
    "start_time": "2023-09-07T23:53:44.414Z"
   },
   {
    "duration": 429,
    "start_time": "2023-09-07T23:53:44.610Z"
   },
   {
    "duration": 14,
    "start_time": "2023-09-07T23:53:45.041Z"
   },
   {
    "duration": 159,
    "start_time": "2023-09-07T23:53:45.057Z"
   },
   {
    "duration": 455,
    "start_time": "2023-09-07T23:53:45.217Z"
   },
   {
    "duration": 1534,
    "start_time": "2023-09-07T23:53:45.673Z"
   },
   {
    "duration": 571,
    "start_time": "2023-09-07T23:55:40.299Z"
   },
   {
    "duration": 246,
    "start_time": "2023-09-07T23:56:27.346Z"
   },
   {
    "duration": 18,
    "start_time": "2023-09-08T00:32:45.726Z"
   },
   {
    "duration": 4216,
    "start_time": "2023-09-08T00:33:03.439Z"
   },
   {
    "duration": 10,
    "start_time": "2023-09-08T00:33:59.029Z"
   },
   {
    "duration": 5,
    "start_time": "2023-09-08T00:35:02.727Z"
   },
   {
    "duration": 4,
    "start_time": "2023-09-08T00:35:13.127Z"
   },
   {
    "duration": 52242,
    "start_time": "2023-09-08T00:38:45.189Z"
   },
   {
    "duration": 11,
    "start_time": "2023-09-08T00:43:56.185Z"
   },
   {
    "duration": 151,
    "start_time": "2023-09-08T00:44:27.620Z"
   },
   {
    "duration": 1526,
    "start_time": "2023-09-08T00:44:36.370Z"
   },
   {
    "duration": 955,
    "start_time": "2023-09-08T00:44:37.902Z"
   },
   {
    "duration": 19,
    "start_time": "2023-09-08T00:44:38.858Z"
   },
   {
    "duration": 169,
    "start_time": "2023-09-08T00:44:38.879Z"
   },
   {
    "duration": 70,
    "start_time": "2023-09-08T00:44:39.051Z"
   },
   {
    "duration": 244,
    "start_time": "2023-09-08T00:44:39.122Z"
   },
   {
    "duration": 94,
    "start_time": "2023-09-08T00:44:39.369Z"
   },
   {
    "duration": 26,
    "start_time": "2023-09-08T00:44:39.464Z"
   },
   {
    "duration": 154,
    "start_time": "2023-09-08T00:44:39.500Z"
   },
   {
    "duration": 104,
    "start_time": "2023-09-08T00:44:39.656Z"
   },
   {
    "duration": 94,
    "start_time": "2023-09-08T00:44:39.761Z"
   },
   {
    "duration": 112,
    "start_time": "2023-09-08T00:44:39.857Z"
   },
   {
    "duration": 151,
    "start_time": "2023-09-08T00:44:39.971Z"
   },
   {
    "duration": 102,
    "start_time": "2023-09-08T00:44:40.124Z"
   },
   {
    "duration": 147,
    "start_time": "2023-09-08T00:44:40.228Z"
   },
   {
    "duration": 383,
    "start_time": "2023-09-08T00:44:40.377Z"
   },
   {
    "duration": 15,
    "start_time": "2023-09-08T00:44:40.761Z"
   },
   {
    "duration": 105,
    "start_time": "2023-09-08T00:44:40.778Z"
   },
   {
    "duration": 3998,
    "start_time": "2023-09-08T00:44:40.885Z"
   },
   {
    "duration": 4,
    "start_time": "2023-09-08T00:44:44.884Z"
   },
   {
    "duration": 53743,
    "start_time": "2023-09-08T00:44:44.890Z"
   },
   {
    "duration": 518417,
    "start_time": "2023-09-08T00:45:38.635Z"
   },
   {
    "duration": 124,
    "start_time": "2023-09-08T00:57:49.430Z"
   },
   {
    "duration": 11,
    "start_time": "2023-09-08T00:58:11.212Z"
   },
   {
    "duration": 3,
    "start_time": "2023-09-08T00:59:50.932Z"
   },
   {
    "duration": 7,
    "start_time": "2023-09-08T01:00:15.117Z"
   },
   {
    "duration": 5,
    "start_time": "2023-09-08T01:00:27.067Z"
   },
   {
    "duration": 1814,
    "start_time": "2023-09-09T02:31:32.919Z"
   },
   {
    "duration": 1346,
    "start_time": "2023-09-09T02:31:34.736Z"
   },
   {
    "duration": 22,
    "start_time": "2023-09-09T02:31:36.084Z"
   },
   {
    "duration": 158,
    "start_time": "2023-09-09T02:31:36.108Z"
   },
   {
    "duration": 73,
    "start_time": "2023-09-09T02:31:36.268Z"
   },
   {
    "duration": 268,
    "start_time": "2023-09-09T02:31:36.343Z"
   },
   {
    "duration": 90,
    "start_time": "2023-09-09T02:31:36.616Z"
   },
   {
    "duration": 27,
    "start_time": "2023-09-09T02:31:36.710Z"
   },
   {
    "duration": 150,
    "start_time": "2023-09-09T02:31:36.739Z"
   },
   {
    "duration": 68,
    "start_time": "2023-09-09T02:31:36.891Z"
   },
   {
    "duration": 101,
    "start_time": "2023-09-09T02:31:36.961Z"
   },
   {
    "duration": 88,
    "start_time": "2023-09-09T02:31:37.063Z"
   },
   {
    "duration": 171,
    "start_time": "2023-09-09T02:31:37.152Z"
   },
   {
    "duration": 44,
    "start_time": "2023-09-09T02:31:37.326Z"
   },
   {
    "duration": 169,
    "start_time": "2023-09-09T02:31:37.372Z"
   },
   {
    "duration": 415,
    "start_time": "2023-09-09T02:31:37.543Z"
   },
   {
    "duration": 23,
    "start_time": "2023-09-09T02:31:37.959Z"
   },
   {
    "duration": 104,
    "start_time": "2023-09-09T02:31:37.984Z"
   },
   {
    "duration": 725,
    "start_time": "2023-09-09T02:31:38.107Z"
   },
   {
    "duration": 4,
    "start_time": "2023-09-09T02:31:38.833Z"
   },
   {
    "duration": 49285,
    "start_time": "2023-09-09T02:31:38.839Z"
   },
   {
    "duration": 6,
    "start_time": "2023-09-09T02:32:28.126Z"
   },
   {
    "duration": 73584,
    "start_time": "2023-09-09T02:32:28.133Z"
   },
   {
    "duration": 0,
    "start_time": "2023-09-09T02:33:41.719Z"
   },
   {
    "duration": 17,
    "start_time": "2023-09-09T02:35:10.997Z"
   },
   {
    "duration": 1623,
    "start_time": "2023-09-09T02:35:24.190Z"
   },
   {
    "duration": 965,
    "start_time": "2023-09-09T02:35:25.815Z"
   },
   {
    "duration": 34,
    "start_time": "2023-09-09T02:35:26.781Z"
   },
   {
    "duration": 180,
    "start_time": "2023-09-09T02:35:26.816Z"
   },
   {
    "duration": 58,
    "start_time": "2023-09-09T02:35:26.998Z"
   },
   {
    "duration": 278,
    "start_time": "2023-09-09T02:35:27.058Z"
   },
   {
    "duration": 99,
    "start_time": "2023-09-09T02:35:27.338Z"
   },
   {
    "duration": 25,
    "start_time": "2023-09-09T02:35:27.439Z"
   },
   {
    "duration": 170,
    "start_time": "2023-09-09T02:35:27.465Z"
   },
   {
    "duration": 52,
    "start_time": "2023-09-09T02:35:27.637Z"
   },
   {
    "duration": 115,
    "start_time": "2023-09-09T02:35:27.700Z"
   },
   {
    "duration": 90,
    "start_time": "2023-09-09T02:35:27.818Z"
   },
   {
    "duration": 144,
    "start_time": "2023-09-09T02:35:27.910Z"
   },
   {
    "duration": 60,
    "start_time": "2023-09-09T02:35:28.057Z"
   },
   {
    "duration": 145,
    "start_time": "2023-09-09T02:35:28.118Z"
   },
   {
    "duration": 392,
    "start_time": "2023-09-09T02:35:28.264Z"
   },
   {
    "duration": 28,
    "start_time": "2023-09-09T02:35:28.658Z"
   },
   {
    "duration": 103,
    "start_time": "2023-09-09T02:35:28.688Z"
   },
   {
    "duration": 711,
    "start_time": "2023-09-09T02:35:28.801Z"
   },
   {
    "duration": 4,
    "start_time": "2023-09-09T02:35:29.515Z"
   },
   {
    "duration": 40482,
    "start_time": "2023-09-09T02:35:29.521Z"
   },
   {
    "duration": 12,
    "start_time": "2023-09-09T02:36:10.005Z"
   },
   {
    "duration": 307129,
    "start_time": "2023-09-09T02:36:10.019Z"
   },
   {
    "duration": 6,
    "start_time": "2023-09-09T02:41:17.150Z"
   },
   {
    "duration": 1457,
    "start_time": "2023-09-09T02:52:07.222Z"
   },
   {
    "duration": 941,
    "start_time": "2023-09-09T02:52:08.680Z"
   },
   {
    "duration": 20,
    "start_time": "2023-09-09T02:52:09.623Z"
   },
   {
    "duration": 176,
    "start_time": "2023-09-09T02:52:09.645Z"
   },
   {
    "duration": 58,
    "start_time": "2023-09-09T02:52:09.823Z"
   },
   {
    "duration": 258,
    "start_time": "2023-09-09T02:52:09.883Z"
   },
   {
    "duration": 94,
    "start_time": "2023-09-09T02:52:10.142Z"
   },
   {
    "duration": 25,
    "start_time": "2023-09-09T02:52:10.238Z"
   },
   {
    "duration": 167,
    "start_time": "2023-09-09T02:52:10.264Z"
   },
   {
    "duration": 43,
    "start_time": "2023-09-09T02:52:10.432Z"
   },
   {
    "duration": 116,
    "start_time": "2023-09-09T02:52:10.477Z"
   },
   {
    "duration": 83,
    "start_time": "2023-09-09T02:52:10.595Z"
   },
   {
    "duration": 151,
    "start_time": "2023-09-09T02:52:10.680Z"
   },
   {
    "duration": 42,
    "start_time": "2023-09-09T02:52:10.834Z"
   },
   {
    "duration": 157,
    "start_time": "2023-09-09T02:52:10.878Z"
   },
   {
    "duration": 360,
    "start_time": "2023-09-09T02:52:11.037Z"
   },
   {
    "duration": 29,
    "start_time": "2023-09-09T02:52:11.403Z"
   },
   {
    "duration": 98,
    "start_time": "2023-09-09T02:52:11.434Z"
   },
   {
    "duration": 692,
    "start_time": "2023-09-09T02:52:11.533Z"
   },
   {
    "duration": 5,
    "start_time": "2023-09-09T02:52:12.226Z"
   },
   {
    "duration": 38985,
    "start_time": "2023-09-09T02:52:12.232Z"
   },
   {
    "duration": 6,
    "start_time": "2023-09-09T02:52:51.221Z"
   },
   {
    "duration": 161,
    "start_time": "2023-09-09T02:52:51.229Z"
   },
   {
    "duration": 0,
    "start_time": "2023-09-09T02:52:51.391Z"
   },
   {
    "duration": 0,
    "start_time": "2023-09-09T02:52:51.392Z"
   },
   {
    "duration": 0,
    "start_time": "2023-09-09T02:52:51.393Z"
   },
   {
    "duration": 0,
    "start_time": "2023-09-09T02:52:51.394Z"
   },
   {
    "duration": 0,
    "start_time": "2023-09-09T02:52:51.395Z"
   },
   {
    "duration": 0,
    "start_time": "2023-09-09T02:52:51.396Z"
   },
   {
    "duration": 0,
    "start_time": "2023-09-09T02:52:51.401Z"
   },
   {
    "duration": 0,
    "start_time": "2023-09-09T02:52:51.402Z"
   },
   {
    "duration": 0,
    "start_time": "2023-09-09T02:52:51.404Z"
   },
   {
    "duration": 0,
    "start_time": "2023-09-09T02:52:51.407Z"
   },
   {
    "duration": 0,
    "start_time": "2023-09-09T02:52:51.408Z"
   },
   {
    "duration": 0,
    "start_time": "2023-09-09T02:52:51.409Z"
   },
   {
    "duration": 0,
    "start_time": "2023-09-09T02:52:51.409Z"
   },
   {
    "duration": 1456,
    "start_time": "2023-09-09T02:53:05.027Z"
   },
   {
    "duration": 946,
    "start_time": "2023-09-09T02:53:06.485Z"
   },
   {
    "duration": 21,
    "start_time": "2023-09-09T02:53:07.433Z"
   },
   {
    "duration": 264,
    "start_time": "2023-09-09T02:53:07.456Z"
   },
   {
    "duration": 58,
    "start_time": "2023-09-09T02:53:07.722Z"
   },
   {
    "duration": 260,
    "start_time": "2023-09-09T02:53:07.782Z"
   },
   {
    "duration": 93,
    "start_time": "2023-09-09T02:53:08.044Z"
   },
   {
    "duration": 25,
    "start_time": "2023-09-09T02:53:08.138Z"
   },
   {
    "duration": 151,
    "start_time": "2023-09-09T02:53:08.165Z"
   },
   {
    "duration": 68,
    "start_time": "2023-09-09T02:53:08.318Z"
   },
   {
    "duration": 101,
    "start_time": "2023-09-09T02:53:08.387Z"
   },
   {
    "duration": 82,
    "start_time": "2023-09-09T02:53:08.490Z"
   },
   {
    "duration": 161,
    "start_time": "2023-09-09T02:53:08.574Z"
   },
   {
    "duration": 41,
    "start_time": "2023-09-09T02:53:08.738Z"
   },
   {
    "duration": 156,
    "start_time": "2023-09-09T02:53:08.781Z"
   },
   {
    "duration": 366,
    "start_time": "2023-09-09T02:53:08.939Z"
   },
   {
    "duration": 26,
    "start_time": "2023-09-09T02:53:09.306Z"
   },
   {
    "duration": 97,
    "start_time": "2023-09-09T02:53:09.334Z"
   },
   {
    "duration": 729,
    "start_time": "2023-09-09T02:53:09.433Z"
   },
   {
    "duration": 4,
    "start_time": "2023-09-09T02:53:10.164Z"
   },
   {
    "duration": 40767,
    "start_time": "2023-09-09T02:53:10.170Z"
   },
   {
    "duration": 5,
    "start_time": "2023-09-09T02:53:50.939Z"
   },
   {
    "duration": 305769,
    "start_time": "2023-09-09T02:53:50.946Z"
   },
   {
    "duration": 5,
    "start_time": "2023-09-09T02:58:56.717Z"
   },
   {
    "duration": 36,
    "start_time": "2023-09-09T02:58:56.724Z"
   },
   {
    "duration": 65,
    "start_time": "2023-09-09T02:58:56.762Z"
   },
   {
    "duration": 613,
    "start_time": "2023-09-09T02:58:56.829Z"
   },
   {
    "duration": 2,
    "start_time": "2023-09-09T02:58:57.444Z"
   },
   {
    "duration": 88,
    "start_time": "2023-09-09T02:58:57.448Z"
   },
   {
    "duration": 0,
    "start_time": "2023-09-09T02:58:57.537Z"
   },
   {
    "duration": 0,
    "start_time": "2023-09-09T02:58:57.538Z"
   },
   {
    "duration": 0,
    "start_time": "2023-09-09T02:58:57.539Z"
   },
   {
    "duration": 0,
    "start_time": "2023-09-09T02:58:57.540Z"
   },
   {
    "duration": 0,
    "start_time": "2023-09-09T02:58:57.541Z"
   },
   {
    "duration": 0,
    "start_time": "2023-09-09T02:58:57.542Z"
   },
   {
    "duration": 0,
    "start_time": "2023-09-09T02:58:57.543Z"
   },
   {
    "duration": 0,
    "start_time": "2023-09-09T02:58:57.544Z"
   },
   {
    "duration": 3,
    "start_time": "2023-09-09T02:59:27.182Z"
   },
   {
    "duration": 45981,
    "start_time": "2023-09-09T02:59:29.131Z"
   },
   {
    "duration": 3,
    "start_time": "2023-09-09T03:00:15.118Z"
   },
   {
    "duration": 1399,
    "start_time": "2023-09-09T03:00:15.123Z"
   },
   {
    "duration": 3,
    "start_time": "2023-09-09T03:00:16.525Z"
   },
   {
    "duration": 208460,
    "start_time": "2023-09-09T03:00:16.529Z"
   },
   {
    "duration": 72055,
    "start_time": "2023-09-09T03:03:44.991Z"
   },
   {
    "duration": 6477,
    "start_time": "2023-09-09T03:04:57.047Z"
   },
   {
    "duration": 6,
    "start_time": "2023-09-09T03:05:03.526Z"
   },
   {
    "duration": 1619,
    "start_time": "2023-09-09T03:26:55.955Z"
   },
   {
    "duration": 987,
    "start_time": "2023-09-09T03:26:57.576Z"
   },
   {
    "duration": 21,
    "start_time": "2023-09-09T03:26:58.565Z"
   },
   {
    "duration": 184,
    "start_time": "2023-09-09T03:26:58.588Z"
   },
   {
    "duration": 66,
    "start_time": "2023-09-09T03:26:58.774Z"
   },
   {
    "duration": 248,
    "start_time": "2023-09-09T03:26:58.841Z"
   },
   {
    "duration": 90,
    "start_time": "2023-09-09T03:26:59.090Z"
   },
   {
    "duration": 44,
    "start_time": "2023-09-09T03:26:59.182Z"
   },
   {
    "duration": 28,
    "start_time": "2023-09-09T03:26:59.228Z"
   },
   {
    "duration": 66,
    "start_time": "2023-09-09T03:26:59.258Z"
   },
   {
    "duration": 128,
    "start_time": "2023-09-09T03:26:59.326Z"
   },
   {
    "duration": 87,
    "start_time": "2023-09-09T03:26:59.456Z"
   },
   {
    "duration": 149,
    "start_time": "2023-09-09T03:26:59.545Z"
   },
   {
    "duration": 54,
    "start_time": "2023-09-09T03:26:59.701Z"
   },
   {
    "duration": 161,
    "start_time": "2023-09-09T03:26:59.757Z"
   },
   {
    "duration": 369,
    "start_time": "2023-09-09T03:26:59.921Z"
   },
   {
    "duration": 31,
    "start_time": "2023-09-09T03:27:00.292Z"
   },
   {
    "duration": 139,
    "start_time": "2023-09-09T03:27:00.325Z"
   },
   {
    "duration": 46,
    "start_time": "2023-09-09T03:27:00.466Z"
   },
   {
    "duration": 99,
    "start_time": "2023-09-09T03:27:00.518Z"
   },
   {
    "duration": 648,
    "start_time": "2023-09-09T03:27:00.620Z"
   },
   {
    "duration": 3,
    "start_time": "2023-09-09T03:27:01.269Z"
   },
   {
    "duration": 98,
    "start_time": "2023-09-09T03:27:01.274Z"
   },
   {
    "duration": 41449,
    "start_time": "2023-09-09T03:27:01.374Z"
   },
   {
    "duration": 3,
    "start_time": "2023-09-09T03:27:42.825Z"
   },
   {
    "duration": 1502,
    "start_time": "2023-09-09T03:27:42.907Z"
   },
   {
    "duration": 4,
    "start_time": "2023-09-09T03:27:44.413Z"
   },
   {
    "duration": 1506,
    "start_time": "2023-09-09T03:29:15.216Z"
   },
   {
    "duration": 931,
    "start_time": "2023-09-09T03:29:16.724Z"
   },
   {
    "duration": 21,
    "start_time": "2023-09-09T03:29:17.657Z"
   },
   {
    "duration": 173,
    "start_time": "2023-09-09T03:29:17.679Z"
   },
   {
    "duration": 61,
    "start_time": "2023-09-09T03:29:17.854Z"
   },
   {
    "duration": 259,
    "start_time": "2023-09-09T03:29:17.917Z"
   },
   {
    "duration": 101,
    "start_time": "2023-09-09T03:29:18.179Z"
   },
   {
    "duration": 32,
    "start_time": "2023-09-09T03:29:18.282Z"
   },
   {
    "duration": 45,
    "start_time": "2023-09-09T03:29:18.316Z"
   },
   {
    "duration": 61,
    "start_time": "2023-09-09T03:29:18.363Z"
   },
   {
    "duration": 109,
    "start_time": "2023-09-09T03:29:18.426Z"
   },
   {
    "duration": 83,
    "start_time": "2023-09-09T03:29:18.537Z"
   },
   {
    "duration": 149,
    "start_time": "2023-09-09T03:29:18.622Z"
   },
   {
    "duration": 49,
    "start_time": "2023-09-09T03:29:18.773Z"
   },
   {
    "duration": 142,
    "start_time": "2023-09-09T03:29:18.824Z"
   },
   {
    "duration": 374,
    "start_time": "2023-09-09T03:29:18.968Z"
   },
   {
    "duration": 23,
    "start_time": "2023-09-09T03:29:19.344Z"
   },
   {
    "duration": 105,
    "start_time": "2023-09-09T03:29:19.369Z"
   },
   {
    "duration": 33,
    "start_time": "2023-09-09T03:29:19.476Z"
   },
   {
    "duration": 60,
    "start_time": "2023-09-09T03:29:19.510Z"
   },
   {
    "duration": 636,
    "start_time": "2023-09-09T03:29:19.571Z"
   },
   {
    "duration": 3,
    "start_time": "2023-09-09T03:29:20.214Z"
   },
   {
    "duration": 19,
    "start_time": "2023-09-09T03:29:20.219Z"
   },
   {
    "duration": 44678,
    "start_time": "2023-09-09T03:29:20.239Z"
   },
   {
    "duration": 3,
    "start_time": "2023-09-09T03:30:04.921Z"
   },
   {
    "duration": 1526,
    "start_time": "2023-09-09T03:30:04.926Z"
   },
   {
    "duration": 10,
    "start_time": "2023-09-09T03:30:06.501Z"
   },
   {
    "duration": 224939,
    "start_time": "2023-09-09T03:30:06.517Z"
   },
   {
    "duration": 96693,
    "start_time": "2023-09-09T03:33:51.458Z"
   },
   {
    "duration": 8431,
    "start_time": "2023-09-09T03:35:28.153Z"
   },
   {
    "duration": 7,
    "start_time": "2023-09-09T03:35:36.586Z"
   },
   {
    "duration": 1528,
    "start_time": "2023-09-09T03:42:51.942Z"
   },
   {
    "duration": 963,
    "start_time": "2023-09-09T03:42:53.472Z"
   },
   {
    "duration": 20,
    "start_time": "2023-09-09T03:42:54.436Z"
   },
   {
    "duration": 236,
    "start_time": "2023-09-09T03:42:54.458Z"
   },
   {
    "duration": 78,
    "start_time": "2023-09-09T03:42:54.703Z"
   },
   {
    "duration": 263,
    "start_time": "2023-09-09T03:42:54.783Z"
   },
   {
    "duration": 103,
    "start_time": "2023-09-09T03:42:55.048Z"
   },
   {
    "duration": 26,
    "start_time": "2023-09-09T03:42:55.153Z"
   },
   {
    "duration": 43,
    "start_time": "2023-09-09T03:42:55.181Z"
   },
   {
    "duration": 42,
    "start_time": "2023-09-09T03:42:55.226Z"
   },
   {
    "duration": 116,
    "start_time": "2023-09-09T03:42:55.269Z"
   },
   {
    "duration": 83,
    "start_time": "2023-09-09T03:42:55.387Z"
   },
   {
    "duration": 163,
    "start_time": "2023-09-09T03:42:55.472Z"
   },
   {
    "duration": 43,
    "start_time": "2023-09-09T03:42:55.638Z"
   },
   {
    "duration": 164,
    "start_time": "2023-09-09T03:42:55.682Z"
   },
   {
    "duration": 402,
    "start_time": "2023-09-09T03:42:55.847Z"
   },
   {
    "duration": 23,
    "start_time": "2023-09-09T03:42:56.251Z"
   },
   {
    "duration": 112,
    "start_time": "2023-09-09T03:42:56.275Z"
   },
   {
    "duration": 17,
    "start_time": "2023-09-09T03:42:56.401Z"
   },
   {
    "duration": 61,
    "start_time": "2023-09-09T03:42:56.421Z"
   },
   {
    "duration": 658,
    "start_time": "2023-09-09T03:42:56.484Z"
   },
   {
    "duration": 0,
    "start_time": "2023-09-09T03:42:57.144Z"
   },
   {
    "duration": 0,
    "start_time": "2023-09-09T03:42:57.145Z"
   },
   {
    "duration": 0,
    "start_time": "2023-09-09T03:42:57.147Z"
   },
   {
    "duration": 0,
    "start_time": "2023-09-09T03:42:57.148Z"
   },
   {
    "duration": 0,
    "start_time": "2023-09-09T03:42:57.150Z"
   },
   {
    "duration": 0,
    "start_time": "2023-09-09T03:42:57.151Z"
   },
   {
    "duration": 1,
    "start_time": "2023-09-09T03:42:57.152Z"
   },
   {
    "duration": 0,
    "start_time": "2023-09-09T03:42:57.154Z"
   },
   {
    "duration": 0,
    "start_time": "2023-09-09T03:42:57.156Z"
   },
   {
    "duration": 0,
    "start_time": "2023-09-09T03:42:57.157Z"
   },
   {
    "duration": 0,
    "start_time": "2023-09-09T03:42:57.159Z"
   },
   {
    "duration": 565,
    "start_time": "2023-09-09T03:43:10.998Z"
   },
   {
    "duration": 1790,
    "start_time": "2023-09-09T03:43:16.576Z"
   },
   {
    "duration": 1075,
    "start_time": "2023-09-09T03:43:18.368Z"
   },
   {
    "duration": 23,
    "start_time": "2023-09-09T03:43:19.445Z"
   },
   {
    "duration": 191,
    "start_time": "2023-09-09T03:43:19.471Z"
   },
   {
    "duration": 74,
    "start_time": "2023-09-09T03:43:19.665Z"
   },
   {
    "duration": 267,
    "start_time": "2023-09-09T03:43:19.741Z"
   },
   {
    "duration": 105,
    "start_time": "2023-09-09T03:43:20.010Z"
   },
   {
    "duration": 29,
    "start_time": "2023-09-09T03:43:20.117Z"
   },
   {
    "duration": 41,
    "start_time": "2023-09-09T03:43:20.148Z"
   },
   {
    "duration": 67,
    "start_time": "2023-09-09T03:43:20.191Z"
   },
   {
    "duration": 107,
    "start_time": "2023-09-09T03:43:20.260Z"
   },
   {
    "duration": 89,
    "start_time": "2023-09-09T03:43:20.369Z"
   },
   {
    "duration": 170,
    "start_time": "2023-09-09T03:43:20.460Z"
   },
   {
    "duration": 45,
    "start_time": "2023-09-09T03:43:20.633Z"
   },
   {
    "duration": 174,
    "start_time": "2023-09-09T03:43:20.680Z"
   },
   {
    "duration": 390,
    "start_time": "2023-09-09T03:43:20.857Z"
   },
   {
    "duration": 24,
    "start_time": "2023-09-09T03:43:21.249Z"
   },
   {
    "duration": 116,
    "start_time": "2023-09-09T03:43:21.275Z"
   },
   {
    "duration": 24,
    "start_time": "2023-09-09T03:43:21.393Z"
   },
   {
    "duration": 63,
    "start_time": "2023-09-09T03:43:21.419Z"
   },
   {
    "duration": 671,
    "start_time": "2023-09-09T03:43:21.484Z"
   },
   {
    "duration": 3,
    "start_time": "2023-09-09T03:43:22.157Z"
   },
   {
    "duration": 16,
    "start_time": "2023-09-09T03:43:22.162Z"
   },
   {
    "duration": 41437,
    "start_time": "2023-09-09T03:43:22.180Z"
   },
   {
    "duration": 4,
    "start_time": "2023-09-09T03:44:03.619Z"
   },
   {
    "duration": 1509,
    "start_time": "2023-09-09T03:44:03.624Z"
   },
   {
    "duration": 3,
    "start_time": "2023-09-09T03:44:05.135Z"
   },
   {
    "duration": 220737,
    "start_time": "2023-09-09T03:44:05.140Z"
   },
   {
    "duration": 76636,
    "start_time": "2023-09-09T03:47:45.879Z"
   },
   {
    "duration": 7134,
    "start_time": "2023-09-09T03:49:02.517Z"
   },
   {
    "duration": 4,
    "start_time": "2023-09-09T03:49:09.653Z"
   },
   {
    "duration": 12,
    "start_time": "2023-09-09T03:49:09.658Z"
   },
   {
    "duration": 4849,
    "start_time": "2023-09-09T15:14:50.010Z"
   },
   {
    "duration": 2790,
    "start_time": "2023-09-09T15:14:54.861Z"
   },
   {
    "duration": 18,
    "start_time": "2023-09-09T15:14:57.652Z"
   },
   {
    "duration": 131,
    "start_time": "2023-09-09T15:14:57.671Z"
   },
   {
    "duration": 56,
    "start_time": "2023-09-09T15:14:57.805Z"
   },
   {
    "duration": 199,
    "start_time": "2023-09-09T15:14:57.863Z"
   },
   {
    "duration": 68,
    "start_time": "2023-09-09T15:14:58.064Z"
   },
   {
    "duration": 21,
    "start_time": "2023-09-09T15:14:58.145Z"
   },
   {
    "duration": 21,
    "start_time": "2023-09-09T15:14:58.167Z"
   },
   {
    "duration": 58,
    "start_time": "2023-09-09T15:14:58.190Z"
   },
   {
    "duration": 82,
    "start_time": "2023-09-09T15:14:58.250Z"
   },
   {
    "duration": 66,
    "start_time": "2023-09-09T15:14:58.343Z"
   },
   {
    "duration": 123,
    "start_time": "2023-09-09T15:14:58.410Z"
   },
   {
    "duration": 36,
    "start_time": "2023-09-09T15:14:58.544Z"
   },
   {
    "duration": 130,
    "start_time": "2023-09-09T15:14:58.582Z"
   },
   {
    "duration": 301,
    "start_time": "2023-09-09T15:14:58.714Z"
   },
   {
    "duration": 21,
    "start_time": "2023-09-09T15:14:59.017Z"
   },
   {
    "duration": 77,
    "start_time": "2023-09-09T15:14:59.045Z"
   },
   {
    "duration": 114,
    "start_time": "2023-09-09T15:14:59.124Z"
   },
   {
    "duration": 1953,
    "start_time": "2023-09-09T15:30:48.774Z"
   },
   {
    "duration": 1397,
    "start_time": "2023-09-09T15:30:50.729Z"
   },
   {
    "duration": 22,
    "start_time": "2023-09-09T15:30:52.128Z"
   },
   {
    "duration": 191,
    "start_time": "2023-09-09T15:30:52.153Z"
   },
   {
    "duration": 75,
    "start_time": "2023-09-09T15:30:52.346Z"
   },
   {
    "duration": 386,
    "start_time": "2023-09-09T15:30:52.423Z"
   },
   {
    "duration": 115,
    "start_time": "2023-09-09T15:30:52.811Z"
   },
   {
    "duration": 38,
    "start_time": "2023-09-09T15:30:52.936Z"
   },
   {
    "duration": 65,
    "start_time": "2023-09-09T15:30:52.977Z"
   },
   {
    "duration": 121,
    "start_time": "2023-09-09T15:30:53.044Z"
   },
   {
    "duration": 80,
    "start_time": "2023-09-09T15:30:54.171Z"
   },
   {
    "duration": 185,
    "start_time": "2023-09-09T15:30:54.725Z"
   },
   {
    "duration": 61,
    "start_time": "2023-09-09T15:30:54.914Z"
   },
   {
    "duration": 179,
    "start_time": "2023-09-09T15:30:55.092Z"
   },
   {
    "duration": 374,
    "start_time": "2023-09-09T15:30:55.418Z"
   },
   {
    "duration": 30,
    "start_time": "2023-09-09T15:30:55.807Z"
   },
   {
    "duration": 108,
    "start_time": "2023-09-09T15:30:56.024Z"
   },
   {
    "duration": 476,
    "start_time": "2023-09-09T15:30:56.216Z"
   },
   {
    "duration": 5,
    "start_time": "2023-09-09T15:30:56.695Z"
   },
   {
    "duration": 174,
    "start_time": "2023-09-09T15:32:28.502Z"
   },
   {
    "duration": 326,
    "start_time": "2023-09-09T15:32:42.673Z"
   },
   {
    "duration": 129,
    "start_time": "2023-09-09T15:32:57.457Z"
   },
   {
    "duration": 15,
    "start_time": "2023-09-09T15:33:04.542Z"
   },
   {
    "duration": 1591,
    "start_time": "2023-09-09T15:39:27.000Z"
   },
   {
    "duration": 1047,
    "start_time": "2023-09-09T15:39:28.593Z"
   },
   {
    "duration": 21,
    "start_time": "2023-09-09T15:39:29.642Z"
   },
   {
    "duration": 186,
    "start_time": "2023-09-09T15:39:29.666Z"
   },
   {
    "duration": 72,
    "start_time": "2023-09-09T15:39:29.854Z"
   },
   {
    "duration": 293,
    "start_time": "2023-09-09T15:39:29.928Z"
   },
   {
    "duration": 93,
    "start_time": "2023-09-09T15:39:30.227Z"
   },
   {
    "duration": 52,
    "start_time": "2023-09-09T15:39:30.326Z"
   },
   {
    "duration": 62,
    "start_time": "2023-09-09T15:39:30.381Z"
   },
   {
    "duration": 128,
    "start_time": "2023-09-09T15:39:30.697Z"
   },
   {
    "duration": 83,
    "start_time": "2023-09-09T15:39:31.103Z"
   },
   {
    "duration": 64,
    "start_time": "2023-09-09T15:39:31.537Z"
   },
   {
    "duration": 158,
    "start_time": "2023-09-09T15:39:32.083Z"
   },
   {
    "duration": 59,
    "start_time": "2023-09-09T15:39:32.309Z"
   },
   {
    "duration": 247,
    "start_time": "2023-09-09T15:39:32.478Z"
   },
   {
    "duration": 564,
    "start_time": "2023-09-09T15:39:32.727Z"
   },
   {
    "duration": 34,
    "start_time": "2023-09-09T15:39:33.293Z"
   },
   {
    "duration": 121,
    "start_time": "2023-09-09T15:39:33.329Z"
   },
   {
    "duration": 7,
    "start_time": "2023-09-09T15:39:33.722Z"
   },
   {
    "duration": 7,
    "start_time": "2023-09-09T15:40:42.479Z"
   },
   {
    "duration": 186,
    "start_time": "2023-09-09T15:40:51.626Z"
   },
   {
    "duration": 68,
    "start_time": "2023-09-09T15:41:49.466Z"
   },
   {
    "duration": 105,
    "start_time": "2023-09-09T15:47:07.498Z"
   },
   {
    "duration": 27,
    "start_time": "2023-09-09T15:47:15.409Z"
   },
   {
    "duration": 18,
    "start_time": "2023-09-09T15:47:21.310Z"
   },
   {
    "duration": 1602,
    "start_time": "2023-09-09T15:47:54.033Z"
   },
   {
    "duration": 998,
    "start_time": "2023-09-09T15:47:55.638Z"
   },
   {
    "duration": 22,
    "start_time": "2023-09-09T15:47:56.638Z"
   },
   {
    "duration": 176,
    "start_time": "2023-09-09T15:47:56.663Z"
   },
   {
    "duration": 53,
    "start_time": "2023-09-09T15:47:56.841Z"
   },
   {
    "duration": 275,
    "start_time": "2023-09-09T15:47:56.896Z"
   },
   {
    "duration": 93,
    "start_time": "2023-09-09T15:47:57.173Z"
   },
   {
    "duration": 26,
    "start_time": "2023-09-09T15:47:57.268Z"
   },
   {
    "duration": 57,
    "start_time": "2023-09-09T15:47:57.295Z"
   },
   {
    "duration": 111,
    "start_time": "2023-09-09T15:47:57.354Z"
   },
   {
    "duration": 86,
    "start_time": "2023-09-09T15:47:57.467Z"
   },
   {
    "duration": 73,
    "start_time": "2023-09-09T15:47:57.555Z"
   },
   {
    "duration": 130,
    "start_time": "2023-09-09T15:47:57.742Z"
   },
   {
    "duration": 7,
    "start_time": "2023-09-09T15:47:58.345Z"
   },
   {
    "duration": 22,
    "start_time": "2023-09-09T15:47:58.511Z"
   },
   {
    "duration": 6,
    "start_time": "2023-09-09T15:47:58.692Z"
   },
   {
    "duration": 17,
    "start_time": "2023-09-09T15:47:58.864Z"
   },
   {
    "duration": 4,
    "start_time": "2023-09-09T15:47:59.260Z"
   },
   {
    "duration": 20,
    "start_time": "2023-09-09T15:48:00.003Z"
   },
   {
    "duration": 5,
    "start_time": "2023-09-09T15:48:23.084Z"
   },
   {
    "duration": 20,
    "start_time": "2023-09-09T15:48:32.811Z"
   },
   {
    "duration": 1633,
    "start_time": "2023-09-09T15:49:04.974Z"
   },
   {
    "duration": 988,
    "start_time": "2023-09-09T15:49:06.610Z"
   },
   {
    "duration": 24,
    "start_time": "2023-09-09T15:49:07.599Z"
   },
   {
    "duration": 165,
    "start_time": "2023-09-09T15:49:07.625Z"
   },
   {
    "duration": 66,
    "start_time": "2023-09-09T15:49:07.791Z"
   },
   {
    "duration": 277,
    "start_time": "2023-09-09T15:49:07.858Z"
   },
   {
    "duration": 89,
    "start_time": "2023-09-09T15:49:08.136Z"
   },
   {
    "duration": 26,
    "start_time": "2023-09-09T15:49:08.227Z"
   },
   {
    "duration": 60,
    "start_time": "2023-09-09T15:49:08.255Z"
   },
   {
    "duration": 112,
    "start_time": "2023-09-09T15:49:08.317Z"
   },
   {
    "duration": 83,
    "start_time": "2023-09-09T15:49:08.431Z"
   },
   {
    "duration": 64,
    "start_time": "2023-09-09T15:49:08.655Z"
   },
   {
    "duration": 58,
    "start_time": "2023-09-09T15:49:08.838Z"
   },
   {
    "duration": 134,
    "start_time": "2023-09-09T15:49:09.560Z"
   },
   {
    "duration": 53,
    "start_time": "2023-09-09T15:49:09.768Z"
   },
   {
    "duration": 135,
    "start_time": "2023-09-09T15:49:12.814Z"
   },
   {
    "duration": 356,
    "start_time": "2023-09-09T15:49:13.040Z"
   },
   {
    "duration": 24,
    "start_time": "2023-09-09T15:49:13.454Z"
   },
   {
    "duration": 54,
    "start_time": "2023-09-09T15:49:14.700Z"
   },
   {
    "duration": 11,
    "start_time": "2023-09-09T15:49:38.995Z"
   },
   {
    "duration": 33,
    "start_time": "2023-09-09T15:50:09.930Z"
   },
   {
    "duration": 19,
    "start_time": "2023-09-09T15:50:20.814Z"
   },
   {
    "duration": 18,
    "start_time": "2023-09-09T15:51:08.413Z"
   },
   {
    "duration": 22,
    "start_time": "2023-09-09T15:51:27.232Z"
   },
   {
    "duration": 17,
    "start_time": "2023-09-09T15:52:40.456Z"
   },
   {
    "duration": 18,
    "start_time": "2023-09-09T15:53:23.288Z"
   },
   {
    "duration": 41,
    "start_time": "2023-09-09T15:54:54.458Z"
   },
   {
    "duration": 57,
    "start_time": "2023-09-09T15:54:59.554Z"
   },
   {
    "duration": 20,
    "start_time": "2023-09-09T15:55:10.352Z"
   },
   {
    "duration": 6,
    "start_time": "2023-09-09T15:55:10.554Z"
   },
   {
    "duration": 15,
    "start_time": "2023-09-09T16:06:45.389Z"
   },
   {
    "duration": 75,
    "start_time": "2023-09-09T16:06:45.579Z"
   },
   {
    "duration": 589,
    "start_time": "2023-09-09T16:06:45.924Z"
   },
   {
    "duration": 7,
    "start_time": "2023-09-09T16:06:46.519Z"
   },
   {
    "duration": 2,
    "start_time": "2023-09-09T16:06:46.587Z"
   },
   {
    "duration": 32800,
    "start_time": "2023-09-09T16:06:46.830Z"
   },
   {
    "duration": 78,
    "start_time": "2023-09-09T16:07:19.632Z"
   },
   {
    "duration": 2408,
    "start_time": "2023-09-09T16:07:19.712Z"
   },
   {
    "duration": 122,
    "start_time": "2023-09-09T16:07:50.951Z"
   },
   {
    "duration": 1562,
    "start_time": "2023-09-09T16:08:46.514Z"
   },
   {
    "duration": 975,
    "start_time": "2023-09-09T16:08:48.078Z"
   },
   {
    "duration": 20,
    "start_time": "2023-09-09T16:08:49.055Z"
   },
   {
    "duration": 163,
    "start_time": "2023-09-09T16:08:49.076Z"
   },
   {
    "duration": 54,
    "start_time": "2023-09-09T16:08:49.242Z"
   },
   {
    "duration": 264,
    "start_time": "2023-09-09T16:08:49.297Z"
   },
   {
    "duration": 92,
    "start_time": "2023-09-09T16:08:49.563Z"
   },
   {
    "duration": 25,
    "start_time": "2023-09-09T16:08:49.656Z"
   },
   {
    "duration": 56,
    "start_time": "2023-09-09T16:08:49.683Z"
   },
   {
    "duration": 113,
    "start_time": "2023-09-09T16:08:49.740Z"
   },
   {
    "duration": 83,
    "start_time": "2023-09-09T16:08:49.855Z"
   },
   {
    "duration": 72,
    "start_time": "2023-09-09T16:08:49.940Z"
   },
   {
    "duration": 60,
    "start_time": "2023-09-09T16:08:50.014Z"
   },
   {
    "duration": 78,
    "start_time": "2023-09-09T16:08:50.077Z"
   },
   {
    "duration": 157,
    "start_time": "2023-09-09T16:08:50.156Z"
   },
   {
    "duration": 43,
    "start_time": "2023-09-09T16:08:50.315Z"
   },
   {
    "duration": 156,
    "start_time": "2023-09-09T16:08:50.360Z"
   },
   {
    "duration": 353,
    "start_time": "2023-09-09T16:08:50.518Z"
   },
   {
    "duration": 26,
    "start_time": "2023-09-09T16:08:50.873Z"
   },
   {
    "duration": 85,
    "start_time": "2023-09-09T16:08:50.909Z"
   },
   {
    "duration": 18,
    "start_time": "2023-09-09T16:08:50.996Z"
   },
   {
    "duration": 23,
    "start_time": "2023-09-09T16:08:51.015Z"
   },
   {
    "duration": 93,
    "start_time": "2023-09-09T16:08:51.040Z"
   },
   {
    "duration": 606,
    "start_time": "2023-09-09T16:08:51.135Z"
   },
   {
    "duration": 3,
    "start_time": "2023-09-09T16:08:51.743Z"
   },
   {
    "duration": 22,
    "start_time": "2023-09-09T16:08:51.747Z"
   },
   {
    "duration": 30556,
    "start_time": "2023-09-09T16:08:51.771Z"
   },
   {
    "duration": 4,
    "start_time": "2023-09-09T16:09:22.329Z"
   },
   {
    "duration": 1391,
    "start_time": "2023-09-09T16:09:22.334Z"
   },
   {
    "duration": 3,
    "start_time": "2023-09-09T16:09:23.727Z"
   },
   {
    "duration": 228753,
    "start_time": "2023-09-09T16:09:23.731Z"
   },
   {
    "duration": 95604,
    "start_time": "2023-09-09T16:13:12.487Z"
   },
   {
    "duration": 8558,
    "start_time": "2023-09-09T16:14:48.093Z"
   },
   {
    "duration": 4,
    "start_time": "2023-09-09T16:14:56.653Z"
   },
   {
    "duration": 26,
    "start_time": "2023-09-09T16:14:56.659Z"
   },
   {
    "duration": 188275,
    "start_time": "2023-09-10T11:18:56.761Z"
   },
   {
    "duration": 0,
    "start_time": "2023-09-10T11:22:05.037Z"
   },
   {
    "duration": 0,
    "start_time": "2023-09-10T11:22:05.038Z"
   },
   {
    "duration": 1441,
    "start_time": "2023-09-10T11:22:24.562Z"
   },
   {
    "duration": 881,
    "start_time": "2023-09-10T11:22:26.005Z"
   },
   {
    "duration": 19,
    "start_time": "2023-09-10T11:22:26.887Z"
   },
   {
    "duration": 158,
    "start_time": "2023-09-10T11:22:26.907Z"
   },
   {
    "duration": 63,
    "start_time": "2023-09-10T11:22:27.068Z"
   },
   {
    "duration": 257,
    "start_time": "2023-09-10T11:22:27.132Z"
   },
   {
    "duration": 91,
    "start_time": "2023-09-10T11:22:27.391Z"
   },
   {
    "duration": 25,
    "start_time": "2023-09-10T11:22:27.484Z"
   },
   {
    "duration": 40,
    "start_time": "2023-09-10T11:22:27.511Z"
   },
   {
    "duration": 116,
    "start_time": "2023-09-10T11:22:27.554Z"
   },
   {
    "duration": 79,
    "start_time": "2023-09-10T11:22:27.672Z"
   },
   {
    "duration": 81,
    "start_time": "2023-09-10T11:22:27.752Z"
   },
   {
    "duration": 59,
    "start_time": "2023-09-10T11:22:27.835Z"
   },
   {
    "duration": 56,
    "start_time": "2023-09-10T11:22:27.898Z"
   },
   {
    "duration": 135,
    "start_time": "2023-09-10T11:22:27.955Z"
   },
   {
    "duration": 40,
    "start_time": "2023-09-10T11:22:28.092Z"
   },
   {
    "duration": 148,
    "start_time": "2023-09-10T11:22:28.134Z"
   },
   {
    "duration": 320,
    "start_time": "2023-09-10T11:22:28.284Z"
   },
   {
    "duration": 26,
    "start_time": "2023-09-10T11:22:28.606Z"
   },
   {
    "duration": 97,
    "start_time": "2023-09-10T11:22:28.633Z"
   },
   {
    "duration": 6,
    "start_time": "2023-09-10T11:22:28.732Z"
   },
   {
    "duration": 21,
    "start_time": "2023-09-10T11:22:28.740Z"
   },
   {
    "duration": 70,
    "start_time": "2023-09-10T11:22:28.780Z"
   },
   {
    "duration": 547,
    "start_time": "2023-09-10T11:22:28.851Z"
   },
   {
    "duration": 3,
    "start_time": "2023-09-10T11:22:29.400Z"
   },
   {
    "duration": 11,
    "start_time": "2023-09-10T11:22:29.405Z"
   },
   {
    "duration": 27378,
    "start_time": "2023-09-10T11:22:29.418Z"
   },
   {
    "duration": 27605,
    "start_time": "2023-09-10T11:22:56.798Z"
   },
   {
    "duration": 3,
    "start_time": "2023-09-10T11:23:24.405Z"
   },
   {
    "duration": 1323,
    "start_time": "2023-09-10T11:23:24.480Z"
   },
   {
    "duration": 0,
    "start_time": "2023-09-10T11:23:25.805Z"
   },
   {
    "duration": 0,
    "start_time": "2023-09-10T11:23:25.806Z"
   },
   {
    "duration": 0,
    "start_time": "2023-09-10T11:23:25.807Z"
   },
   {
    "duration": 0,
    "start_time": "2023-09-10T11:23:25.808Z"
   },
   {
    "duration": 0,
    "start_time": "2023-09-10T11:23:25.809Z"
   },
   {
    "duration": 0,
    "start_time": "2023-09-10T11:23:25.810Z"
   },
   {
    "duration": 1341,
    "start_time": "2023-09-10T11:25:52.773Z"
   },
   {
    "duration": 3,
    "start_time": "2023-09-10T11:25:57.874Z"
   },
   {
    "duration": 195327,
    "start_time": "2023-09-10T11:25:58.514Z"
   },
   {
    "duration": 81303,
    "start_time": "2023-09-10T11:29:13.843Z"
   },
   {
    "duration": 7320,
    "start_time": "2023-09-10T11:30:35.148Z"
   },
   {
    "duration": 4,
    "start_time": "2023-09-10T11:30:42.470Z"
   },
   {
    "duration": 13,
    "start_time": "2023-09-10T11:30:42.475Z"
   },
   {
    "duration": 3,
    "start_time": "2023-09-10T11:31:02.201Z"
   },
   {
    "duration": 3,
    "start_time": "2023-09-10T11:33:40.961Z"
   },
   {
    "duration": 4,
    "start_time": "2023-09-10T11:33:42.777Z"
   },
   {
    "duration": 29981,
    "start_time": "2023-09-10T11:40:54.615Z"
   },
   {
    "duration": 4,
    "start_time": "2023-09-10T11:43:31.003Z"
   },
   {
    "duration": 11,
    "start_time": "2023-09-10T11:43:33.772Z"
   },
   {
    "duration": 1437,
    "start_time": "2023-09-10T11:44:35.072Z"
   },
   {
    "duration": 873,
    "start_time": "2023-09-10T11:44:36.511Z"
   },
   {
    "duration": 18,
    "start_time": "2023-09-10T11:44:37.386Z"
   },
   {
    "duration": 153,
    "start_time": "2023-09-10T11:44:37.406Z"
   },
   {
    "duration": 61,
    "start_time": "2023-09-10T11:44:37.561Z"
   },
   {
    "duration": 222,
    "start_time": "2023-09-10T11:44:37.623Z"
   },
   {
    "duration": 86,
    "start_time": "2023-09-10T11:44:37.847Z"
   },
   {
    "duration": 24,
    "start_time": "2023-09-10T11:44:37.935Z"
   },
   {
    "duration": 52,
    "start_time": "2023-09-10T11:44:37.961Z"
   },
   {
    "duration": 104,
    "start_time": "2023-09-10T11:44:38.014Z"
   },
   {
    "duration": 81,
    "start_time": "2023-09-10T11:44:38.120Z"
   },
   {
    "duration": 61,
    "start_time": "2023-09-10T11:44:38.203Z"
   },
   {
    "duration": 63,
    "start_time": "2023-09-10T11:44:38.265Z"
   },
   {
    "duration": 65,
    "start_time": "2023-09-10T11:44:38.332Z"
   },
   {
    "duration": 127,
    "start_time": "2023-09-10T11:44:38.399Z"
   },
   {
    "duration": 39,
    "start_time": "2023-09-10T11:44:38.527Z"
   },
   {
    "duration": 137,
    "start_time": "2023-09-10T11:44:38.568Z"
   },
   {
    "duration": 327,
    "start_time": "2023-09-10T11:44:38.706Z"
   },
   {
    "duration": 25,
    "start_time": "2023-09-10T11:44:39.035Z"
   },
   {
    "duration": 87,
    "start_time": "2023-09-10T11:44:39.062Z"
   },
   {
    "duration": 7,
    "start_time": "2023-09-10T11:44:39.150Z"
   },
   {
    "duration": 37,
    "start_time": "2023-09-10T11:44:39.158Z"
   },
   {
    "duration": 72,
    "start_time": "2023-09-10T11:44:39.197Z"
   },
   {
    "duration": 534,
    "start_time": "2023-09-10T11:44:39.270Z"
   },
   {
    "duration": 3,
    "start_time": "2023-09-10T11:44:39.806Z"
   },
   {
    "duration": 6,
    "start_time": "2023-09-10T11:44:39.810Z"
   },
   {
    "duration": 27686,
    "start_time": "2023-09-10T11:44:39.818Z"
   },
   {
    "duration": 29289,
    "start_time": "2023-09-10T11:45:07.506Z"
   },
   {
    "duration": 4,
    "start_time": "2023-09-10T11:45:36.797Z"
   },
   {
    "duration": 1298,
    "start_time": "2023-09-10T11:45:36.803Z"
   },
   {
    "duration": 4,
    "start_time": "2023-09-10T11:45:38.103Z"
   },
   {
    "duration": 188926,
    "start_time": "2023-09-10T11:45:38.108Z"
   },
   {
    "duration": 67578,
    "start_time": "2023-09-10T11:48:47.035Z"
   },
   {
    "duration": 6602,
    "start_time": "2023-09-10T11:49:54.615Z"
   },
   {
    "duration": 5,
    "start_time": "2023-09-10T11:50:01.219Z"
   },
   {
    "duration": 66,
    "start_time": "2023-09-10T11:50:01.225Z"
   },
   {
    "duration": 109,
    "start_time": "2023-09-10T11:52:04.841Z"
   },
   {
    "duration": 307,
    "start_time": "2023-09-10T11:53:36.097Z"
   },
   {
    "duration": 248,
    "start_time": "2023-09-10T11:55:21.851Z"
   },
   {
    "duration": 245,
    "start_time": "2023-09-10T11:55:31.353Z"
   },
   {
    "duration": 1463,
    "start_time": "2023-09-10T15:17:06.998Z"
   },
   {
    "duration": 862,
    "start_time": "2023-09-10T15:17:08.464Z"
   },
   {
    "duration": 19,
    "start_time": "2023-09-10T15:17:09.328Z"
   },
   {
    "duration": 170,
    "start_time": "2023-09-10T15:17:09.349Z"
   },
   {
    "duration": 47,
    "start_time": "2023-09-10T15:17:09.521Z"
   },
   {
    "duration": 258,
    "start_time": "2023-09-10T15:17:09.569Z"
   },
   {
    "duration": 81,
    "start_time": "2023-09-10T15:17:09.829Z"
   },
   {
    "duration": 24,
    "start_time": "2023-09-10T15:17:09.912Z"
   },
   {
    "duration": 67,
    "start_time": "2023-09-10T15:17:09.938Z"
   },
   {
    "duration": 227,
    "start_time": "2023-09-10T15:17:10.007Z"
   },
   {
    "duration": 75,
    "start_time": "2023-09-10T15:17:10.236Z"
   },
   {
    "duration": 67,
    "start_time": "2023-09-10T15:17:10.313Z"
   },
   {
    "duration": 58,
    "start_time": "2023-09-10T15:17:10.382Z"
   },
   {
    "duration": 70,
    "start_time": "2023-09-10T15:17:10.443Z"
   },
   {
    "duration": 140,
    "start_time": "2023-09-10T15:17:10.516Z"
   },
   {
    "duration": 51,
    "start_time": "2023-09-10T15:17:10.658Z"
   },
   {
    "duration": 148,
    "start_time": "2023-09-10T15:17:10.711Z"
   },
   {
    "duration": 362,
    "start_time": "2023-09-10T15:17:10.861Z"
   },
   {
    "duration": 23,
    "start_time": "2023-09-10T15:17:11.225Z"
   },
   {
    "duration": 105,
    "start_time": "2023-09-10T15:17:11.250Z"
   },
   {
    "duration": 163,
    "start_time": "2023-09-10T15:17:11.357Z"
   },
   {
    "duration": 31,
    "start_time": "2023-09-10T15:17:11.522Z"
   },
   {
    "duration": 93,
    "start_time": "2023-09-10T15:17:11.555Z"
   },
   {
    "duration": 123,
    "start_time": "2023-09-10T15:17:11.650Z"
   },
   {
    "duration": 0,
    "start_time": "2023-09-10T15:17:11.780Z"
   },
   {
    "duration": 0,
    "start_time": "2023-09-10T15:17:11.781Z"
   },
   {
    "duration": 0,
    "start_time": "2023-09-10T15:17:11.783Z"
   },
   {
    "duration": 11,
    "start_time": "2023-09-10T15:24:11.605Z"
   },
   {
    "duration": 84,
    "start_time": "2023-09-10T15:24:20.780Z"
   },
   {
    "duration": 510,
    "start_time": "2023-09-10T15:24:33.571Z"
   },
   {
    "duration": 4,
    "start_time": "2023-09-10T15:24:36.722Z"
   },
   {
    "duration": 3,
    "start_time": "2023-09-10T15:24:38.726Z"
   },
   {
    "duration": 30005,
    "start_time": "2023-09-10T15:24:40.482Z"
   },
   {
    "duration": 30161,
    "start_time": "2023-09-10T15:25:21.134Z"
   },
   {
    "duration": 8806,
    "start_time": "2023-09-10T15:27:20.096Z"
   },
   {
    "duration": 2463,
    "start_time": "2023-09-10T15:27:36.927Z"
   },
   {
    "duration": 112,
    "start_time": "2023-09-10T15:28:10.670Z"
   },
   {
    "duration": 372,
    "start_time": "2023-09-10T15:28:36.944Z"
   },
   {
    "duration": 1615,
    "start_time": "2023-09-11T05:07:05.394Z"
   },
   {
    "duration": 1175,
    "start_time": "2023-09-11T05:07:07.011Z"
   },
   {
    "duration": 20,
    "start_time": "2023-09-11T05:07:08.188Z"
   },
   {
    "duration": 139,
    "start_time": "2023-09-11T05:07:08.210Z"
   },
   {
    "duration": 361,
    "start_time": "2023-09-11T05:07:08.352Z"
   },
   {
    "duration": 219,
    "start_time": "2023-09-11T05:07:08.715Z"
   },
   {
    "duration": 89,
    "start_time": "2023-09-11T05:07:08.935Z"
   },
   {
    "duration": 21,
    "start_time": "2023-09-11T05:07:09.025Z"
   },
   {
    "duration": 128,
    "start_time": "2023-09-11T05:07:09.048Z"
   },
   {
    "duration": 103,
    "start_time": "2023-09-11T05:07:09.177Z"
   },
   {
    "duration": 73,
    "start_time": "2023-09-11T05:07:09.282Z"
   },
   {
    "duration": 71,
    "start_time": "2023-09-11T05:07:09.357Z"
   },
   {
    "duration": 55,
    "start_time": "2023-09-11T05:07:09.430Z"
   },
   {
    "duration": 65,
    "start_time": "2023-09-11T05:07:09.488Z"
   },
   {
    "duration": 128,
    "start_time": "2023-09-11T05:07:09.554Z"
   },
   {
    "duration": 45,
    "start_time": "2023-09-11T05:07:09.684Z"
   },
   {
    "duration": 149,
    "start_time": "2023-09-11T05:07:09.731Z"
   },
   {
    "duration": 314,
    "start_time": "2023-09-11T05:07:09.882Z"
   },
   {
    "duration": 33,
    "start_time": "2023-09-11T05:07:10.198Z"
   },
   {
    "duration": 223,
    "start_time": "2023-09-11T05:07:10.233Z"
   },
   {
    "duration": 50,
    "start_time": "2023-09-11T05:07:10.458Z"
   },
   {
    "duration": 112,
    "start_time": "2023-09-11T05:07:10.509Z"
   },
   {
    "duration": 165,
    "start_time": "2023-09-11T05:07:10.623Z"
   },
   {
    "duration": 589,
    "start_time": "2023-09-11T05:07:10.790Z"
   },
   {
    "duration": 3,
    "start_time": "2023-09-11T05:07:11.381Z"
   },
   {
    "duration": 8,
    "start_time": "2023-09-11T05:07:11.386Z"
   },
   {
    "duration": 28837,
    "start_time": "2023-09-11T05:07:11.395Z"
   },
   {
    "duration": 27612,
    "start_time": "2023-09-11T05:07:40.234Z"
   },
   {
    "duration": 2109,
    "start_time": "2023-09-11T05:08:07.925Z"
   },
   {
    "duration": 3,
    "start_time": "2023-09-11T05:08:10.036Z"
   },
   {
    "duration": 1205,
    "start_time": "2023-09-11T05:08:10.041Z"
   },
   {
    "duration": 3,
    "start_time": "2023-09-11T05:08:11.247Z"
   },
   {
    "duration": 103852,
    "start_time": "2023-09-11T05:08:11.252Z"
   },
   {
    "duration": 1,
    "start_time": "2023-09-11T05:09:55.105Z"
   },
   {
    "duration": 0,
    "start_time": "2023-09-11T05:09:55.107Z"
   },
   {
    "duration": 0,
    "start_time": "2023-09-11T05:09:55.108Z"
   },
   {
    "duration": 0,
    "start_time": "2023-09-11T05:09:55.109Z"
   },
   {
    "duration": 0,
    "start_time": "2023-09-11T05:09:55.110Z"
   },
   {
    "duration": 0,
    "start_time": "2023-09-11T05:09:55.111Z"
   },
   {
    "duration": 1495,
    "start_time": "2023-09-11T05:11:00.257Z"
   },
   {
    "duration": 906,
    "start_time": "2023-09-11T05:11:01.754Z"
   },
   {
    "duration": 20,
    "start_time": "2023-09-11T05:11:02.661Z"
   },
   {
    "duration": 213,
    "start_time": "2023-09-11T05:11:02.682Z"
   },
   {
    "duration": 151,
    "start_time": "2023-09-11T05:11:02.898Z"
   },
   {
    "duration": 230,
    "start_time": "2023-09-11T05:11:03.050Z"
   },
   {
    "duration": 89,
    "start_time": "2023-09-11T05:11:03.281Z"
   },
   {
    "duration": 43,
    "start_time": "2023-09-11T05:11:03.372Z"
   },
   {
    "duration": 183,
    "start_time": "2023-09-11T05:11:03.417Z"
   },
   {
    "duration": 300,
    "start_time": "2023-09-11T05:11:03.602Z"
   },
   {
    "duration": 77,
    "start_time": "2023-09-11T05:11:03.904Z"
   },
   {
    "duration": 70,
    "start_time": "2023-09-11T05:11:03.983Z"
   },
   {
    "duration": 56,
    "start_time": "2023-09-11T05:11:04.055Z"
   },
   {
    "duration": 164,
    "start_time": "2023-09-11T05:11:04.114Z"
   },
   {
    "duration": 128,
    "start_time": "2023-09-11T05:11:04.280Z"
   },
   {
    "duration": 38,
    "start_time": "2023-09-11T05:11:04.410Z"
   },
   {
    "duration": 231,
    "start_time": "2023-09-11T05:11:04.449Z"
   },
   {
    "duration": 347,
    "start_time": "2023-09-11T05:11:04.681Z"
   },
   {
    "duration": 27,
    "start_time": "2023-09-11T05:11:05.029Z"
   },
   {
    "duration": 200,
    "start_time": "2023-09-11T05:11:05.058Z"
   },
   {
    "duration": 177,
    "start_time": "2023-09-11T05:11:05.260Z"
   },
   {
    "duration": 215,
    "start_time": "2023-09-11T05:11:05.439Z"
   },
   {
    "duration": 142,
    "start_time": "2023-09-11T05:11:05.656Z"
   },
   {
    "duration": 544,
    "start_time": "2023-09-11T05:11:05.803Z"
   },
   {
    "duration": 3,
    "start_time": "2023-09-11T05:11:06.348Z"
   },
   {
    "duration": 324,
    "start_time": "2023-09-11T05:11:06.354Z"
   },
   {
    "duration": 28568,
    "start_time": "2023-09-11T05:11:06.680Z"
   },
   {
    "duration": 25709,
    "start_time": "2023-09-11T05:11:35.325Z"
   },
   {
    "duration": 1800,
    "start_time": "2023-09-11T05:12:01.035Z"
   },
   {
    "duration": 3,
    "start_time": "2023-09-11T05:12:02.837Z"
   },
   {
    "duration": 1306,
    "start_time": "2023-09-11T05:12:02.841Z"
   },
   {
    "duration": 3,
    "start_time": "2023-09-11T05:12:04.149Z"
   },
   {
    "duration": 197755,
    "start_time": "2023-09-11T05:12:04.154Z"
   },
   {
    "duration": 81305,
    "start_time": "2023-09-11T05:15:21.911Z"
   },
   {
    "duration": 7597,
    "start_time": "2023-09-11T05:16:43.217Z"
   },
   {
    "duration": 11,
    "start_time": "2023-09-11T05:16:50.815Z"
   },
   {
    "duration": 15,
    "start_time": "2023-09-11T05:16:50.828Z"
   },
   {
    "duration": 292,
    "start_time": "2023-09-11T05:16:50.845Z"
   }
  ],
  "kernelspec": {
   "display_name": "Python 3 (ipykernel)",
   "language": "python",
   "name": "python3"
  },
  "language_info": {
   "codemirror_mode": {
    "name": "ipython",
    "version": 3
   },
   "file_extension": ".py",
   "mimetype": "text/x-python",
   "name": "python",
   "nbconvert_exporter": "python",
   "pygments_lexer": "ipython3",
   "version": "3.9.16"
  },
  "toc": {
   "base_numbering": 1,
   "nav_menu": {},
   "number_sections": true,
   "sideBar": true,
   "skip_h1_title": true,
   "title_cell": "Table of Contents",
   "title_sidebar": "Contents",
   "toc_cell": false,
   "toc_position": {},
   "toc_section_display": true,
   "toc_window_display": false
  }
 },
 "nbformat": 4,
 "nbformat_minor": 2
}
