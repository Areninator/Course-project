{
 "cells": [
  {
   "cell_type": "markdown",
   "metadata": {
    "toc": true
   },
   "source": [
    "<h1>Содержание<span class=\"tocSkip\"></span></h1>\n",
    "<div class=\"toc\"><ul class=\"toc-item\"><li><span><a href=\"#Подготовка-данных\" data-toc-modified-id=\"Подготовка-данных-1\"><span class=\"toc-item-num\">1&nbsp;&nbsp;</span>Подготовка данных</a></span><ul class=\"toc-item\"><li><span><a href=\"#Вывод-по-анализу-данных\" data-toc-modified-id=\"Вывод-по-анализу-данных-1.1\"><span class=\"toc-item-num\">1.1&nbsp;&nbsp;</span>Вывод по анализу данных</a></span></li></ul></li><li><span><a href=\"#Исследование-задачи\" data-toc-modified-id=\"Исследование-задачи-2\"><span class=\"toc-item-num\">2&nbsp;&nbsp;</span>Исследование задачи</a></span><ul class=\"toc-item\"><li><span><a href=\"#Модель-логической-регрессии\" data-toc-modified-id=\"Модель-логической-регрессии-2.1\"><span class=\"toc-item-num\">2.1&nbsp;&nbsp;</span>Модель логической регрессии</a></span></li><li><span><a href=\"#Модель-дерева-решений\" data-toc-modified-id=\"Модель-дерева-решений-2.2\"><span class=\"toc-item-num\">2.2&nbsp;&nbsp;</span>Модель дерева решений</a></span></li><li><span><a href=\"#Модель-случайного-леса\" data-toc-modified-id=\"Модель-случайного-леса-2.3\"><span class=\"toc-item-num\">2.3&nbsp;&nbsp;</span>Модель случайного леса</a></span></li><li><span><a href=\"#Вывод\" data-toc-modified-id=\"Вывод-2.4\"><span class=\"toc-item-num\">2.4&nbsp;&nbsp;</span>Вывод</a></span></li></ul></li><li><span><a href=\"#Борьба-с-дисбалансом\" data-toc-modified-id=\"Борьба-с-дисбалансом-3\"><span class=\"toc-item-num\">3&nbsp;&nbsp;</span>Борьба с дисбалансом</a></span><ul class=\"toc-item\"><li><ul class=\"toc-item\"><li><span><a href=\"#Модель-логической-регрессии\" data-toc-modified-id=\"Модель-логической-регрессии-3.0.1\"><span class=\"toc-item-num\">3.0.1&nbsp;&nbsp;</span>Модель логической регрессии</a></span></li><li><span><a href=\"#Модель-дерева-решений\" data-toc-modified-id=\"Модель-дерева-решений-3.0.2\"><span class=\"toc-item-num\">3.0.2&nbsp;&nbsp;</span>Модель дерева решений</a></span></li><li><span><a href=\"#Модель-случайного-леса\" data-toc-modified-id=\"Модель-случайного-леса-3.0.3\"><span class=\"toc-item-num\">3.0.3&nbsp;&nbsp;</span>Модель случайного леса</a></span></li></ul></li><li><span><a href=\"#Уменьшение-выборки\" data-toc-modified-id=\"Уменьшение-выборки-3.1\"><span class=\"toc-item-num\">3.1&nbsp;&nbsp;</span>Уменьшение выборки</a></span><ul class=\"toc-item\"><li><span><a href=\"#Модель-логической-регрессии\" data-toc-modified-id=\"Модель-логической-регрессии-3.1.1\"><span class=\"toc-item-num\">3.1.1&nbsp;&nbsp;</span>Модель логической регрессии</a></span></li><li><span><a href=\"#Модель-дерева-решений\" data-toc-modified-id=\"Модель-дерева-решений-3.1.2\"><span class=\"toc-item-num\">3.1.2&nbsp;&nbsp;</span>Модель дерева решений</a></span></li><li><span><a href=\"#Модель-случайного-леса\" data-toc-modified-id=\"Модель-случайного-леса-3.1.3\"><span class=\"toc-item-num\">3.1.3&nbsp;&nbsp;</span>Модель случайного леса</a></span></li></ul></li><li><span><a href=\"#Вывод\" data-toc-modified-id=\"Вывод-3.2\"><span class=\"toc-item-num\">3.2&nbsp;&nbsp;</span>Вывод</a></span></li></ul></li><li><span><a href=\"#Тестирование-модели\" data-toc-modified-id=\"Тестирование-модели-4\"><span class=\"toc-item-num\">4&nbsp;&nbsp;</span>Тестирование модели</a></span></li><li><span><a href=\"#Вывод\" data-toc-modified-id=\"Вывод-5\"><span class=\"toc-item-num\">5&nbsp;&nbsp;</span>Вывод</a></span></li><li><span><a href=\"#Финальные-комментарии-ревьюера\" data-toc-modified-id=\"Финальные-комментарии-ревьюера-6\"><span class=\"toc-item-num\">6&nbsp;&nbsp;</span>Финальные комментарии ревьюера</a></span></li><li><span><a href=\"#Чек-лист-готовности-проекта\" data-toc-modified-id=\"Чек-лист-готовности-проекта-7\"><span class=\"toc-item-num\">7&nbsp;&nbsp;</span>Чек-лист готовности проекта</a></span></li></ul></div>"
   ]
  },
  {
   "cell_type": "markdown",
   "metadata": {},
   "source": [
    "# Отток клиентов"
   ]
  },
  {
   "cell_type": "markdown",
   "metadata": {},
   "source": [
    "Из «Бета-Банка» стали уходить клиенты. Каждый месяц. Немного, но заметно. Банковские маркетологи посчитали: сохранять текущих клиентов дешевле, чем привлекать новых.\n",
    "\n",
    "Нужно спрогнозировать, уйдёт клиент из банка в ближайшее время или нет. Вам предоставлены исторические данные о поведении клиентов и расторжении договоров с банком. \n",
    "\n",
    "Постройте модель с предельно большим значением *F1*-меры. Чтобы сдать проект успешно, нужно довести метрику до 0.59. Проверьте *F1*-меру на тестовой выборке самостоятельно.\n",
    "\n",
    "Дополнительно измеряйте *AUC-ROC*, сравнивайте её значение с *F1*-мерой.\n",
    "\n",
    "Источник данных: [https://www.kaggle.com/barelydedicated/bank-customer-churn-modeling](https://www.kaggle.com/barelydedicated/bank-customer-churn-modeling)"
   ]
  },
  {
   "cell_type": "markdown",
   "metadata": {},
   "source": [
    "RowNumber — индекс строки в данных\n",
    "\n",
    "CustomerId — уникальный идентификатор клиента\n",
    "\n",
    "Surname — фамилия\n",
    "\n",
    "CreditScore — кредитный рейтинг\n",
    "\n",
    "Geography — страна проживания\n",
    "\n",
    "Gender — пол\n",
    "\n",
    "Age — возраст\n",
    "\n",
    "Tenure — сколько лет человек является клиентом банка\n",
    "\n",
    "Balance — баланс на счёте\n",
    "\n",
    "NumOfProducts — количество продуктов банка, используемых клиентом\n",
    "\n",
    "HasCrCard — наличие кредитной карты\n",
    "\n",
    "IsActiveMember — активность клиента\n",
    "\n",
    "EstimatedSalary — предполагаемая зарплата\n",
    "\n",
    "Целевой признак\n",
    "\n",
    "Exited — факт ухода клиента"
   ]
  },
  {
   "cell_type": "markdown",
   "metadata": {},
   "source": [
    "## Подготовка данных"
   ]
  },
  {
   "cell_type": "code",
   "execution_count": 1,
   "metadata": {},
   "outputs": [],
   "source": [
    "import pandas as pd\n",
    "from sklearn.model_selection import train_test_split\n",
    "from sklearn.preprocessing import StandardScaler\n",
    "from sklearn.tree import DecisionTreeClassifier\n",
    "from sklearn.ensemble import RandomForestClassifier\n",
    "from sklearn.linear_model import LogisticRegression\n",
    "from sklearn.metrics import f1_score\n",
    "from sklearn.metrics import roc_curve\n",
    "from sklearn.metrics import roc_auc_score\n",
    "from matplotlib import pyplot as plt\n",
    "from sklearn.utils import shuffle\n",
    "from sklearn.metrics import r2_score"
   ]
  },
  {
   "cell_type": "code",
   "execution_count": 2,
   "metadata": {},
   "outputs": [],
   "source": [
    "try:\n",
    "    data = pd.read_csv('/datasets/Churn.csv')\n",
    "except FileNotFoundError:\n",
    "    data = pd.read_csv(r'C:\\Users\\ASUS\\Desktop\\Практикум\\Data\\Churn.csv')\n",
    "    "
   ]
  },
  {
   "cell_type": "code",
   "execution_count": 3,
   "metadata": {},
   "outputs": [
    {
     "data": {
      "text/plain": [
       "(10000, 14)"
      ]
     },
     "execution_count": 3,
     "metadata": {},
     "output_type": "execute_result"
    }
   ],
   "source": [
    "data.shape"
   ]
  },
  {
   "cell_type": "code",
   "execution_count": 4,
   "metadata": {},
   "outputs": [
    {
     "data": {
      "text/html": [
       "<div>\n",
       "<style scoped>\n",
       "    .dataframe tbody tr th:only-of-type {\n",
       "        vertical-align: middle;\n",
       "    }\n",
       "\n",
       "    .dataframe tbody tr th {\n",
       "        vertical-align: top;\n",
       "    }\n",
       "\n",
       "    .dataframe thead th {\n",
       "        text-align: right;\n",
       "    }\n",
       "</style>\n",
       "<table border=\"1\" class=\"dataframe\">\n",
       "  <thead>\n",
       "    <tr style=\"text-align: right;\">\n",
       "      <th></th>\n",
       "      <th>RowNumber</th>\n",
       "      <th>CustomerId</th>\n",
       "      <th>CreditScore</th>\n",
       "      <th>Age</th>\n",
       "      <th>Tenure</th>\n",
       "      <th>Balance</th>\n",
       "      <th>NumOfProducts</th>\n",
       "      <th>HasCrCard</th>\n",
       "      <th>IsActiveMember</th>\n",
       "      <th>EstimatedSalary</th>\n",
       "      <th>Exited</th>\n",
       "    </tr>\n",
       "  </thead>\n",
       "  <tbody>\n",
       "    <tr>\n",
       "      <th>count</th>\n",
       "      <td>10000.00000</td>\n",
       "      <td>1.000000e+04</td>\n",
       "      <td>10000.000000</td>\n",
       "      <td>10000.000000</td>\n",
       "      <td>9091.000000</td>\n",
       "      <td>10000.000000</td>\n",
       "      <td>10000.000000</td>\n",
       "      <td>10000.00000</td>\n",
       "      <td>10000.000000</td>\n",
       "      <td>10000.000000</td>\n",
       "      <td>10000.000000</td>\n",
       "    </tr>\n",
       "    <tr>\n",
       "      <th>mean</th>\n",
       "      <td>5000.50000</td>\n",
       "      <td>1.569094e+07</td>\n",
       "      <td>650.528800</td>\n",
       "      <td>38.921800</td>\n",
       "      <td>4.997690</td>\n",
       "      <td>76485.889288</td>\n",
       "      <td>1.530200</td>\n",
       "      <td>0.70550</td>\n",
       "      <td>0.515100</td>\n",
       "      <td>100090.239881</td>\n",
       "      <td>0.203700</td>\n",
       "    </tr>\n",
       "    <tr>\n",
       "      <th>std</th>\n",
       "      <td>2886.89568</td>\n",
       "      <td>7.193619e+04</td>\n",
       "      <td>96.653299</td>\n",
       "      <td>10.487806</td>\n",
       "      <td>2.894723</td>\n",
       "      <td>62397.405202</td>\n",
       "      <td>0.581654</td>\n",
       "      <td>0.45584</td>\n",
       "      <td>0.499797</td>\n",
       "      <td>57510.492818</td>\n",
       "      <td>0.402769</td>\n",
       "    </tr>\n",
       "    <tr>\n",
       "      <th>min</th>\n",
       "      <td>1.00000</td>\n",
       "      <td>1.556570e+07</td>\n",
       "      <td>350.000000</td>\n",
       "      <td>18.000000</td>\n",
       "      <td>0.000000</td>\n",
       "      <td>0.000000</td>\n",
       "      <td>1.000000</td>\n",
       "      <td>0.00000</td>\n",
       "      <td>0.000000</td>\n",
       "      <td>11.580000</td>\n",
       "      <td>0.000000</td>\n",
       "    </tr>\n",
       "    <tr>\n",
       "      <th>25%</th>\n",
       "      <td>2500.75000</td>\n",
       "      <td>1.562853e+07</td>\n",
       "      <td>584.000000</td>\n",
       "      <td>32.000000</td>\n",
       "      <td>2.000000</td>\n",
       "      <td>0.000000</td>\n",
       "      <td>1.000000</td>\n",
       "      <td>0.00000</td>\n",
       "      <td>0.000000</td>\n",
       "      <td>51002.110000</td>\n",
       "      <td>0.000000</td>\n",
       "    </tr>\n",
       "    <tr>\n",
       "      <th>50%</th>\n",
       "      <td>5000.50000</td>\n",
       "      <td>1.569074e+07</td>\n",
       "      <td>652.000000</td>\n",
       "      <td>37.000000</td>\n",
       "      <td>5.000000</td>\n",
       "      <td>97198.540000</td>\n",
       "      <td>1.000000</td>\n",
       "      <td>1.00000</td>\n",
       "      <td>1.000000</td>\n",
       "      <td>100193.915000</td>\n",
       "      <td>0.000000</td>\n",
       "    </tr>\n",
       "    <tr>\n",
       "      <th>75%</th>\n",
       "      <td>7500.25000</td>\n",
       "      <td>1.575323e+07</td>\n",
       "      <td>718.000000</td>\n",
       "      <td>44.000000</td>\n",
       "      <td>7.000000</td>\n",
       "      <td>127644.240000</td>\n",
       "      <td>2.000000</td>\n",
       "      <td>1.00000</td>\n",
       "      <td>1.000000</td>\n",
       "      <td>149388.247500</td>\n",
       "      <td>0.000000</td>\n",
       "    </tr>\n",
       "    <tr>\n",
       "      <th>max</th>\n",
       "      <td>10000.00000</td>\n",
       "      <td>1.581569e+07</td>\n",
       "      <td>850.000000</td>\n",
       "      <td>92.000000</td>\n",
       "      <td>10.000000</td>\n",
       "      <td>250898.090000</td>\n",
       "      <td>4.000000</td>\n",
       "      <td>1.00000</td>\n",
       "      <td>1.000000</td>\n",
       "      <td>199992.480000</td>\n",
       "      <td>1.000000</td>\n",
       "    </tr>\n",
       "  </tbody>\n",
       "</table>\n",
       "</div>"
      ],
      "text/plain": [
       "         RowNumber    CustomerId   CreditScore           Age       Tenure  \\\n",
       "count  10000.00000  1.000000e+04  10000.000000  10000.000000  9091.000000   \n",
       "mean    5000.50000  1.569094e+07    650.528800     38.921800     4.997690   \n",
       "std     2886.89568  7.193619e+04     96.653299     10.487806     2.894723   \n",
       "min        1.00000  1.556570e+07    350.000000     18.000000     0.000000   \n",
       "25%     2500.75000  1.562853e+07    584.000000     32.000000     2.000000   \n",
       "50%     5000.50000  1.569074e+07    652.000000     37.000000     5.000000   \n",
       "75%     7500.25000  1.575323e+07    718.000000     44.000000     7.000000   \n",
       "max    10000.00000  1.581569e+07    850.000000     92.000000    10.000000   \n",
       "\n",
       "             Balance  NumOfProducts    HasCrCard  IsActiveMember  \\\n",
       "count   10000.000000   10000.000000  10000.00000    10000.000000   \n",
       "mean    76485.889288       1.530200      0.70550        0.515100   \n",
       "std     62397.405202       0.581654      0.45584        0.499797   \n",
       "min         0.000000       1.000000      0.00000        0.000000   \n",
       "25%         0.000000       1.000000      0.00000        0.000000   \n",
       "50%     97198.540000       1.000000      1.00000        1.000000   \n",
       "75%    127644.240000       2.000000      1.00000        1.000000   \n",
       "max    250898.090000       4.000000      1.00000        1.000000   \n",
       "\n",
       "       EstimatedSalary        Exited  \n",
       "count     10000.000000  10000.000000  \n",
       "mean     100090.239881      0.203700  \n",
       "std       57510.492818      0.402769  \n",
       "min          11.580000      0.000000  \n",
       "25%       51002.110000      0.000000  \n",
       "50%      100193.915000      0.000000  \n",
       "75%      149388.247500      0.000000  \n",
       "max      199992.480000      1.000000  "
      ]
     },
     "execution_count": 4,
     "metadata": {},
     "output_type": "execute_result"
    }
   ],
   "source": [
    "data.describe()"
   ]
  },
  {
   "cell_type": "code",
   "execution_count": 5,
   "metadata": {},
   "outputs": [
    {
     "data": {
      "text/html": [
       "<div>\n",
       "<style scoped>\n",
       "    .dataframe tbody tr th:only-of-type {\n",
       "        vertical-align: middle;\n",
       "    }\n",
       "\n",
       "    .dataframe tbody tr th {\n",
       "        vertical-align: top;\n",
       "    }\n",
       "\n",
       "    .dataframe thead th {\n",
       "        text-align: right;\n",
       "    }\n",
       "</style>\n",
       "<table border=\"1\" class=\"dataframe\">\n",
       "  <thead>\n",
       "    <tr style=\"text-align: right;\">\n",
       "      <th></th>\n",
       "      <th>RowNumber</th>\n",
       "      <th>CustomerId</th>\n",
       "      <th>Surname</th>\n",
       "      <th>CreditScore</th>\n",
       "      <th>Geography</th>\n",
       "      <th>Gender</th>\n",
       "      <th>Age</th>\n",
       "      <th>Tenure</th>\n",
       "      <th>Balance</th>\n",
       "      <th>NumOfProducts</th>\n",
       "      <th>HasCrCard</th>\n",
       "      <th>IsActiveMember</th>\n",
       "      <th>EstimatedSalary</th>\n",
       "      <th>Exited</th>\n",
       "    </tr>\n",
       "  </thead>\n",
       "  <tbody>\n",
       "    <tr>\n",
       "      <th>0</th>\n",
       "      <td>1</td>\n",
       "      <td>15634602</td>\n",
       "      <td>Hargrave</td>\n",
       "      <td>619</td>\n",
       "      <td>France</td>\n",
       "      <td>Female</td>\n",
       "      <td>42</td>\n",
       "      <td>2.0</td>\n",
       "      <td>0.00</td>\n",
       "      <td>1</td>\n",
       "      <td>1</td>\n",
       "      <td>1</td>\n",
       "      <td>101348.88</td>\n",
       "      <td>1</td>\n",
       "    </tr>\n",
       "    <tr>\n",
       "      <th>1</th>\n",
       "      <td>2</td>\n",
       "      <td>15647311</td>\n",
       "      <td>Hill</td>\n",
       "      <td>608</td>\n",
       "      <td>Spain</td>\n",
       "      <td>Female</td>\n",
       "      <td>41</td>\n",
       "      <td>1.0</td>\n",
       "      <td>83807.86</td>\n",
       "      <td>1</td>\n",
       "      <td>0</td>\n",
       "      <td>1</td>\n",
       "      <td>112542.58</td>\n",
       "      <td>0</td>\n",
       "    </tr>\n",
       "    <tr>\n",
       "      <th>2</th>\n",
       "      <td>3</td>\n",
       "      <td>15619304</td>\n",
       "      <td>Onio</td>\n",
       "      <td>502</td>\n",
       "      <td>France</td>\n",
       "      <td>Female</td>\n",
       "      <td>42</td>\n",
       "      <td>8.0</td>\n",
       "      <td>159660.80</td>\n",
       "      <td>3</td>\n",
       "      <td>1</td>\n",
       "      <td>0</td>\n",
       "      <td>113931.57</td>\n",
       "      <td>1</td>\n",
       "    </tr>\n",
       "    <tr>\n",
       "      <th>3</th>\n",
       "      <td>4</td>\n",
       "      <td>15701354</td>\n",
       "      <td>Boni</td>\n",
       "      <td>699</td>\n",
       "      <td>France</td>\n",
       "      <td>Female</td>\n",
       "      <td>39</td>\n",
       "      <td>1.0</td>\n",
       "      <td>0.00</td>\n",
       "      <td>2</td>\n",
       "      <td>0</td>\n",
       "      <td>0</td>\n",
       "      <td>93826.63</td>\n",
       "      <td>0</td>\n",
       "    </tr>\n",
       "    <tr>\n",
       "      <th>4</th>\n",
       "      <td>5</td>\n",
       "      <td>15737888</td>\n",
       "      <td>Mitchell</td>\n",
       "      <td>850</td>\n",
       "      <td>Spain</td>\n",
       "      <td>Female</td>\n",
       "      <td>43</td>\n",
       "      <td>2.0</td>\n",
       "      <td>125510.82</td>\n",
       "      <td>1</td>\n",
       "      <td>1</td>\n",
       "      <td>1</td>\n",
       "      <td>79084.10</td>\n",
       "      <td>0</td>\n",
       "    </tr>\n",
       "  </tbody>\n",
       "</table>\n",
       "</div>"
      ],
      "text/plain": [
       "   RowNumber  CustomerId   Surname  CreditScore Geography  Gender  Age  \\\n",
       "0          1    15634602  Hargrave          619    France  Female   42   \n",
       "1          2    15647311      Hill          608     Spain  Female   41   \n",
       "2          3    15619304      Onio          502    France  Female   42   \n",
       "3          4    15701354      Boni          699    France  Female   39   \n",
       "4          5    15737888  Mitchell          850     Spain  Female   43   \n",
       "\n",
       "   Tenure    Balance  NumOfProducts  HasCrCard  IsActiveMember  \\\n",
       "0     2.0       0.00              1          1               1   \n",
       "1     1.0   83807.86              1          0               1   \n",
       "2     8.0  159660.80              3          1               0   \n",
       "3     1.0       0.00              2          0               0   \n",
       "4     2.0  125510.82              1          1               1   \n",
       "\n",
       "   EstimatedSalary  Exited  \n",
       "0        101348.88       1  \n",
       "1        112542.58       0  \n",
       "2        113931.57       1  \n",
       "3         93826.63       0  \n",
       "4         79084.10       0  "
      ]
     },
     "execution_count": 5,
     "metadata": {},
     "output_type": "execute_result"
    }
   ],
   "source": [
    "data.head()"
   ]
  },
  {
   "cell_type": "code",
   "execution_count": 6,
   "metadata": {},
   "outputs": [
    {
     "data": {
      "text/html": [
       "<div>\n",
       "<style scoped>\n",
       "    .dataframe tbody tr th:only-of-type {\n",
       "        vertical-align: middle;\n",
       "    }\n",
       "\n",
       "    .dataframe tbody tr th {\n",
       "        vertical-align: top;\n",
       "    }\n",
       "\n",
       "    .dataframe thead th {\n",
       "        text-align: right;\n",
       "    }\n",
       "</style>\n",
       "<table border=\"1\" class=\"dataframe\">\n",
       "  <thead>\n",
       "    <tr style=\"text-align: right;\">\n",
       "      <th></th>\n",
       "      <th>RowNumber</th>\n",
       "      <th>CustomerId</th>\n",
       "      <th>Surname</th>\n",
       "      <th>CreditScore</th>\n",
       "      <th>Geography</th>\n",
       "      <th>Gender</th>\n",
       "      <th>Age</th>\n",
       "      <th>Tenure</th>\n",
       "      <th>Balance</th>\n",
       "      <th>NumOfProducts</th>\n",
       "      <th>HasCrCard</th>\n",
       "      <th>IsActiveMember</th>\n",
       "      <th>EstimatedSalary</th>\n",
       "      <th>Exited</th>\n",
       "    </tr>\n",
       "  </thead>\n",
       "  <tbody>\n",
       "    <tr>\n",
       "      <th>9357</th>\n",
       "      <td>9358</td>\n",
       "      <td>15814405</td>\n",
       "      <td>Chesnokova</td>\n",
       "      <td>418</td>\n",
       "      <td>France</td>\n",
       "      <td>Female</td>\n",
       "      <td>46</td>\n",
       "      <td>9.0</td>\n",
       "      <td>0.00</td>\n",
       "      <td>1</td>\n",
       "      <td>1</td>\n",
       "      <td>1</td>\n",
       "      <td>81014.50</td>\n",
       "      <td>1</td>\n",
       "    </tr>\n",
       "    <tr>\n",
       "      <th>6989</th>\n",
       "      <td>6990</td>\n",
       "      <td>15811877</td>\n",
       "      <td>Shao</td>\n",
       "      <td>700</td>\n",
       "      <td>France</td>\n",
       "      <td>Female</td>\n",
       "      <td>36</td>\n",
       "      <td>4.0</td>\n",
       "      <td>0.00</td>\n",
       "      <td>2</td>\n",
       "      <td>1</td>\n",
       "      <td>0</td>\n",
       "      <td>130789.15</td>\n",
       "      <td>0</td>\n",
       "    </tr>\n",
       "    <tr>\n",
       "      <th>9586</th>\n",
       "      <td>9587</td>\n",
       "      <td>15786418</td>\n",
       "      <td>Chiu</td>\n",
       "      <td>546</td>\n",
       "      <td>France</td>\n",
       "      <td>Female</td>\n",
       "      <td>20</td>\n",
       "      <td>6.0</td>\n",
       "      <td>0.00</td>\n",
       "      <td>1</td>\n",
       "      <td>0</td>\n",
       "      <td>1</td>\n",
       "      <td>20508.85</td>\n",
       "      <td>0</td>\n",
       "    </tr>\n",
       "    <tr>\n",
       "      <th>2606</th>\n",
       "      <td>2607</td>\n",
       "      <td>15715707</td>\n",
       "      <td>Light</td>\n",
       "      <td>657</td>\n",
       "      <td>France</td>\n",
       "      <td>Male</td>\n",
       "      <td>32</td>\n",
       "      <td>3.0</td>\n",
       "      <td>118829.03</td>\n",
       "      <td>2</td>\n",
       "      <td>1</td>\n",
       "      <td>1</td>\n",
       "      <td>73127.61</td>\n",
       "      <td>0</td>\n",
       "    </tr>\n",
       "    <tr>\n",
       "      <th>775</th>\n",
       "      <td>776</td>\n",
       "      <td>15752137</td>\n",
       "      <td>McElroy</td>\n",
       "      <td>648</td>\n",
       "      <td>France</td>\n",
       "      <td>Male</td>\n",
       "      <td>33</td>\n",
       "      <td>7.0</td>\n",
       "      <td>134944.00</td>\n",
       "      <td>1</td>\n",
       "      <td>1</td>\n",
       "      <td>1</td>\n",
       "      <td>117036.38</td>\n",
       "      <td>0</td>\n",
       "    </tr>\n",
       "    <tr>\n",
       "      <th>3788</th>\n",
       "      <td>3789</td>\n",
       "      <td>15707110</td>\n",
       "      <td>Endrizzi</td>\n",
       "      <td>660</td>\n",
       "      <td>Germany</td>\n",
       "      <td>Male</td>\n",
       "      <td>28</td>\n",
       "      <td>2.0</td>\n",
       "      <td>170890.05</td>\n",
       "      <td>2</td>\n",
       "      <td>1</td>\n",
       "      <td>0</td>\n",
       "      <td>41758.90</td>\n",
       "      <td>0</td>\n",
       "    </tr>\n",
       "    <tr>\n",
       "      <th>8010</th>\n",
       "      <td>8011</td>\n",
       "      <td>15787756</td>\n",
       "      <td>Nkemdirim</td>\n",
       "      <td>467</td>\n",
       "      <td>Germany</td>\n",
       "      <td>Male</td>\n",
       "      <td>51</td>\n",
       "      <td>10.0</td>\n",
       "      <td>114514.71</td>\n",
       "      <td>2</td>\n",
       "      <td>1</td>\n",
       "      <td>0</td>\n",
       "      <td>177784.68</td>\n",
       "      <td>1</td>\n",
       "    </tr>\n",
       "    <tr>\n",
       "      <th>6219</th>\n",
       "      <td>6220</td>\n",
       "      <td>15662574</td>\n",
       "      <td>Brady</td>\n",
       "      <td>636</td>\n",
       "      <td>Spain</td>\n",
       "      <td>Male</td>\n",
       "      <td>37</td>\n",
       "      <td>1.0</td>\n",
       "      <td>115137.26</td>\n",
       "      <td>1</td>\n",
       "      <td>1</td>\n",
       "      <td>0</td>\n",
       "      <td>52484.01</td>\n",
       "      <td>0</td>\n",
       "    </tr>\n",
       "    <tr>\n",
       "      <th>6805</th>\n",
       "      <td>6806</td>\n",
       "      <td>15577988</td>\n",
       "      <td>Skinner</td>\n",
       "      <td>614</td>\n",
       "      <td>France</td>\n",
       "      <td>Female</td>\n",
       "      <td>35</td>\n",
       "      <td>1.0</td>\n",
       "      <td>0.00</td>\n",
       "      <td>2</td>\n",
       "      <td>1</td>\n",
       "      <td>1</td>\n",
       "      <td>3342.62</td>\n",
       "      <td>0</td>\n",
       "    </tr>\n",
       "    <tr>\n",
       "      <th>7899</th>\n",
       "      <td>7900</td>\n",
       "      <td>15683560</td>\n",
       "      <td>Gallo</td>\n",
       "      <td>642</td>\n",
       "      <td>France</td>\n",
       "      <td>Female</td>\n",
       "      <td>40</td>\n",
       "      <td>7.0</td>\n",
       "      <td>0.00</td>\n",
       "      <td>2</td>\n",
       "      <td>1</td>\n",
       "      <td>0</td>\n",
       "      <td>183963.34</td>\n",
       "      <td>0</td>\n",
       "    </tr>\n",
       "  </tbody>\n",
       "</table>\n",
       "</div>"
      ],
      "text/plain": [
       "      RowNumber  CustomerId     Surname  CreditScore Geography  Gender  Age  \\\n",
       "9357       9358    15814405  Chesnokova          418    France  Female   46   \n",
       "6989       6990    15811877        Shao          700    France  Female   36   \n",
       "9586       9587    15786418        Chiu          546    France  Female   20   \n",
       "2606       2607    15715707       Light          657    France    Male   32   \n",
       "775         776    15752137     McElroy          648    France    Male   33   \n",
       "3788       3789    15707110    Endrizzi          660   Germany    Male   28   \n",
       "8010       8011    15787756   Nkemdirim          467   Germany    Male   51   \n",
       "6219       6220    15662574       Brady          636     Spain    Male   37   \n",
       "6805       6806    15577988     Skinner          614    France  Female   35   \n",
       "7899       7900    15683560       Gallo          642    France  Female   40   \n",
       "\n",
       "      Tenure    Balance  NumOfProducts  HasCrCard  IsActiveMember  \\\n",
       "9357     9.0       0.00              1          1               1   \n",
       "6989     4.0       0.00              2          1               0   \n",
       "9586     6.0       0.00              1          0               1   \n",
       "2606     3.0  118829.03              2          1               1   \n",
       "775      7.0  134944.00              1          1               1   \n",
       "3788     2.0  170890.05              2          1               0   \n",
       "8010    10.0  114514.71              2          1               0   \n",
       "6219     1.0  115137.26              1          1               0   \n",
       "6805     1.0       0.00              2          1               1   \n",
       "7899     7.0       0.00              2          1               0   \n",
       "\n",
       "      EstimatedSalary  Exited  \n",
       "9357         81014.50       1  \n",
       "6989        130789.15       0  \n",
       "9586         20508.85       0  \n",
       "2606         73127.61       0  \n",
       "775         117036.38       0  \n",
       "3788         41758.90       0  \n",
       "8010        177784.68       1  \n",
       "6219         52484.01       0  \n",
       "6805          3342.62       0  \n",
       "7899        183963.34       0  "
      ]
     },
     "execution_count": 6,
     "metadata": {},
     "output_type": "execute_result"
    }
   ],
   "source": [
    "data.sample(10)"
   ]
  },
  {
   "cell_type": "code",
   "execution_count": 7,
   "metadata": {},
   "outputs": [
    {
     "name": "stdout",
     "output_type": "stream",
     "text": [
      "<class 'pandas.core.frame.DataFrame'>\n",
      "RangeIndex: 10000 entries, 0 to 9999\n",
      "Data columns (total 14 columns):\n",
      " #   Column           Non-Null Count  Dtype  \n",
      "---  ------           --------------  -----  \n",
      " 0   RowNumber        10000 non-null  int64  \n",
      " 1   CustomerId       10000 non-null  int64  \n",
      " 2   Surname          10000 non-null  object \n",
      " 3   CreditScore      10000 non-null  int64  \n",
      " 4   Geography        10000 non-null  object \n",
      " 5   Gender           10000 non-null  object \n",
      " 6   Age              10000 non-null  int64  \n",
      " 7   Tenure           9091 non-null   float64\n",
      " 8   Balance          10000 non-null  float64\n",
      " 9   NumOfProducts    10000 non-null  int64  \n",
      " 10  HasCrCard        10000 non-null  int64  \n",
      " 11  IsActiveMember   10000 non-null  int64  \n",
      " 12  EstimatedSalary  10000 non-null  float64\n",
      " 13  Exited           10000 non-null  int64  \n",
      "dtypes: float64(3), int64(8), object(3)\n",
      "memory usage: 1.1+ MB\n"
     ]
    }
   ],
   "source": [
    "data.info()"
   ]
  },
  {
   "cell_type": "markdown",
   "metadata": {},
   "source": [
    "Приведем названия колонок к однуму формату"
   ]
  },
  {
   "cell_type": "code",
   "execution_count": 8,
   "metadata": {},
   "outputs": [],
   "source": [
    "data.columns = data.columns.str.lower()\n",
    "data = data.rename(columns={\n",
    "    'rownumber':'row_number',            \n",
    "    'customerid':'customer_id',                     \n",
    "    'creditscore':'credit_score',                                                                        \n",
    "    'numofproducts':'num_of_products',        \n",
    "    'hascrcard':'has_cr_card',            \n",
    "    'isactivemember':'is_active_member',       \n",
    "    'estimatedsalary':'estimated_salary',    \n",
    "})"
   ]
  },
  {
   "cell_type": "code",
   "execution_count": 9,
   "metadata": {},
   "outputs": [
    {
     "name": "stdout",
     "output_type": "stream",
     "text": [
      "<class 'pandas.core.frame.DataFrame'>\n",
      "RangeIndex: 10000 entries, 0 to 9999\n",
      "Data columns (total 14 columns):\n",
      " #   Column            Non-Null Count  Dtype  \n",
      "---  ------            --------------  -----  \n",
      " 0   row_number        10000 non-null  int64  \n",
      " 1   customer_id       10000 non-null  int64  \n",
      " 2   surname           10000 non-null  object \n",
      " 3   credit_score      10000 non-null  int64  \n",
      " 4   geography         10000 non-null  object \n",
      " 5   gender            10000 non-null  object \n",
      " 6   age               10000 non-null  int64  \n",
      " 7   tenure            9091 non-null   float64\n",
      " 8   balance           10000 non-null  float64\n",
      " 9   num_of_products   10000 non-null  int64  \n",
      " 10  has_cr_card       10000 non-null  int64  \n",
      " 11  is_active_member  10000 non-null  int64  \n",
      " 12  estimated_salary  10000 non-null  float64\n",
      " 13  exited            10000 non-null  int64  \n",
      "dtypes: float64(3), int64(8), object(3)\n",
      "memory usage: 1.1+ MB\n"
     ]
    }
   ],
   "source": [
    "data.info()"
   ]
  },
  {
   "cell_type": "markdown",
   "metadata": {},
   "source": [
    "Проверим данные на пропуски и дубликаты."
   ]
  },
  {
   "cell_type": "code",
   "execution_count": 10,
   "metadata": {},
   "outputs": [
    {
     "data": {
      "text/plain": [
       "0"
      ]
     },
     "execution_count": 10,
     "metadata": {},
     "output_type": "execute_result"
    }
   ],
   "source": [
    "data.duplicated().sum()"
   ]
  },
  {
   "cell_type": "code",
   "execution_count": 11,
   "metadata": {},
   "outputs": [
    {
     "data": {
      "text/plain": [
       "row_number            0\n",
       "customer_id           0\n",
       "surname               0\n",
       "credit_score          0\n",
       "geography             0\n",
       "gender                0\n",
       "age                   0\n",
       "tenure              909\n",
       "balance               0\n",
       "num_of_products       0\n",
       "has_cr_card           0\n",
       "is_active_member      0\n",
       "estimated_salary      0\n",
       "exited                0\n",
       "dtype: int64"
      ]
     },
     "execution_count": 11,
     "metadata": {},
     "output_type": "execute_result"
    }
   ],
   "source": [
    "data.isna().sum()"
   ]
  },
  {
   "cell_type": "markdown",
   "metadata": {},
   "source": [
    "Дубликатов нет, а пропуски заполним медианным значением, так как ~10% это много данных "
   ]
  },
  {
   "cell_type": "code",
   "execution_count": 12,
   "metadata": {},
   "outputs": [],
   "source": [
    "data['tenure'].fillna(data['tenure'].median(), inplace=True)"
   ]
  },
  {
   "cell_type": "code",
   "execution_count": 13,
   "metadata": {},
   "outputs": [
    {
     "data": {
      "text/html": [
       "<div>\n",
       "<style scoped>\n",
       "    .dataframe tbody tr th:only-of-type {\n",
       "        vertical-align: middle;\n",
       "    }\n",
       "\n",
       "    .dataframe tbody tr th {\n",
       "        vertical-align: top;\n",
       "    }\n",
       "\n",
       "    .dataframe thead th {\n",
       "        text-align: right;\n",
       "    }\n",
       "</style>\n",
       "<table border=\"1\" class=\"dataframe\">\n",
       "  <thead>\n",
       "    <tr style=\"text-align: right;\">\n",
       "      <th></th>\n",
       "      <th>row_number</th>\n",
       "      <th>customer_id</th>\n",
       "      <th>surname</th>\n",
       "      <th>credit_score</th>\n",
       "      <th>geography</th>\n",
       "      <th>gender</th>\n",
       "      <th>age</th>\n",
       "      <th>tenure</th>\n",
       "      <th>balance</th>\n",
       "      <th>num_of_products</th>\n",
       "      <th>has_cr_card</th>\n",
       "      <th>is_active_member</th>\n",
       "      <th>estimated_salary</th>\n",
       "      <th>exited</th>\n",
       "    </tr>\n",
       "  </thead>\n",
       "  <tbody>\n",
       "    <tr>\n",
       "      <th>0</th>\n",
       "      <td>1</td>\n",
       "      <td>15634602</td>\n",
       "      <td>Hargrave</td>\n",
       "      <td>619</td>\n",
       "      <td>France</td>\n",
       "      <td>Female</td>\n",
       "      <td>42</td>\n",
       "      <td>2.0</td>\n",
       "      <td>0.0</td>\n",
       "      <td>1</td>\n",
       "      <td>1</td>\n",
       "      <td>1</td>\n",
       "      <td>101348.88</td>\n",
       "      <td>1</td>\n",
       "    </tr>\n",
       "    <tr>\n",
       "      <th>3</th>\n",
       "      <td>4</td>\n",
       "      <td>15701354</td>\n",
       "      <td>Boni</td>\n",
       "      <td>699</td>\n",
       "      <td>France</td>\n",
       "      <td>Female</td>\n",
       "      <td>39</td>\n",
       "      <td>1.0</td>\n",
       "      <td>0.0</td>\n",
       "      <td>2</td>\n",
       "      <td>0</td>\n",
       "      <td>0</td>\n",
       "      <td>93826.63</td>\n",
       "      <td>0</td>\n",
       "    </tr>\n",
       "    <tr>\n",
       "      <th>6</th>\n",
       "      <td>7</td>\n",
       "      <td>15592531</td>\n",
       "      <td>Bartlett</td>\n",
       "      <td>822</td>\n",
       "      <td>France</td>\n",
       "      <td>Male</td>\n",
       "      <td>50</td>\n",
       "      <td>7.0</td>\n",
       "      <td>0.0</td>\n",
       "      <td>2</td>\n",
       "      <td>1</td>\n",
       "      <td>1</td>\n",
       "      <td>10062.80</td>\n",
       "      <td>0</td>\n",
       "    </tr>\n",
       "    <tr>\n",
       "      <th>11</th>\n",
       "      <td>12</td>\n",
       "      <td>15737173</td>\n",
       "      <td>Andrews</td>\n",
       "      <td>497</td>\n",
       "      <td>Spain</td>\n",
       "      <td>Male</td>\n",
       "      <td>24</td>\n",
       "      <td>3.0</td>\n",
       "      <td>0.0</td>\n",
       "      <td>2</td>\n",
       "      <td>1</td>\n",
       "      <td>0</td>\n",
       "      <td>76390.01</td>\n",
       "      <td>0</td>\n",
       "    </tr>\n",
       "    <tr>\n",
       "      <th>12</th>\n",
       "      <td>13</td>\n",
       "      <td>15632264</td>\n",
       "      <td>Kay</td>\n",
       "      <td>476</td>\n",
       "      <td>France</td>\n",
       "      <td>Female</td>\n",
       "      <td>34</td>\n",
       "      <td>10.0</td>\n",
       "      <td>0.0</td>\n",
       "      <td>2</td>\n",
       "      <td>1</td>\n",
       "      <td>0</td>\n",
       "      <td>26260.98</td>\n",
       "      <td>0</td>\n",
       "    </tr>\n",
       "    <tr>\n",
       "      <th>...</th>\n",
       "      <td>...</td>\n",
       "      <td>...</td>\n",
       "      <td>...</td>\n",
       "      <td>...</td>\n",
       "      <td>...</td>\n",
       "      <td>...</td>\n",
       "      <td>...</td>\n",
       "      <td>...</td>\n",
       "      <td>...</td>\n",
       "      <td>...</td>\n",
       "      <td>...</td>\n",
       "      <td>...</td>\n",
       "      <td>...</td>\n",
       "      <td>...</td>\n",
       "    </tr>\n",
       "    <tr>\n",
       "      <th>9989</th>\n",
       "      <td>9990</td>\n",
       "      <td>15605622</td>\n",
       "      <td>McMillan</td>\n",
       "      <td>841</td>\n",
       "      <td>Spain</td>\n",
       "      <td>Male</td>\n",
       "      <td>28</td>\n",
       "      <td>4.0</td>\n",
       "      <td>0.0</td>\n",
       "      <td>2</td>\n",
       "      <td>1</td>\n",
       "      <td>1</td>\n",
       "      <td>179436.60</td>\n",
       "      <td>0</td>\n",
       "    </tr>\n",
       "    <tr>\n",
       "      <th>9992</th>\n",
       "      <td>9993</td>\n",
       "      <td>15657105</td>\n",
       "      <td>Chukwualuka</td>\n",
       "      <td>726</td>\n",
       "      <td>Spain</td>\n",
       "      <td>Male</td>\n",
       "      <td>36</td>\n",
       "      <td>2.0</td>\n",
       "      <td>0.0</td>\n",
       "      <td>1</td>\n",
       "      <td>1</td>\n",
       "      <td>0</td>\n",
       "      <td>195192.40</td>\n",
       "      <td>0</td>\n",
       "    </tr>\n",
       "    <tr>\n",
       "      <th>9994</th>\n",
       "      <td>9995</td>\n",
       "      <td>15719294</td>\n",
       "      <td>Wood</td>\n",
       "      <td>800</td>\n",
       "      <td>France</td>\n",
       "      <td>Female</td>\n",
       "      <td>29</td>\n",
       "      <td>2.0</td>\n",
       "      <td>0.0</td>\n",
       "      <td>2</td>\n",
       "      <td>0</td>\n",
       "      <td>0</td>\n",
       "      <td>167773.55</td>\n",
       "      <td>0</td>\n",
       "    </tr>\n",
       "    <tr>\n",
       "      <th>9995</th>\n",
       "      <td>9996</td>\n",
       "      <td>15606229</td>\n",
       "      <td>Obijiaku</td>\n",
       "      <td>771</td>\n",
       "      <td>France</td>\n",
       "      <td>Male</td>\n",
       "      <td>39</td>\n",
       "      <td>5.0</td>\n",
       "      <td>0.0</td>\n",
       "      <td>2</td>\n",
       "      <td>1</td>\n",
       "      <td>0</td>\n",
       "      <td>96270.64</td>\n",
       "      <td>0</td>\n",
       "    </tr>\n",
       "    <tr>\n",
       "      <th>9997</th>\n",
       "      <td>9998</td>\n",
       "      <td>15584532</td>\n",
       "      <td>Liu</td>\n",
       "      <td>709</td>\n",
       "      <td>France</td>\n",
       "      <td>Female</td>\n",
       "      <td>36</td>\n",
       "      <td>7.0</td>\n",
       "      <td>0.0</td>\n",
       "      <td>1</td>\n",
       "      <td>0</td>\n",
       "      <td>1</td>\n",
       "      <td>42085.58</td>\n",
       "      <td>1</td>\n",
       "    </tr>\n",
       "  </tbody>\n",
       "</table>\n",
       "<p>3617 rows × 14 columns</p>\n",
       "</div>"
      ],
      "text/plain": [
       "      row_number  customer_id      surname  credit_score geography  gender  \\\n",
       "0              1     15634602     Hargrave           619    France  Female   \n",
       "3              4     15701354         Boni           699    France  Female   \n",
       "6              7     15592531     Bartlett           822    France    Male   \n",
       "11            12     15737173      Andrews           497     Spain    Male   \n",
       "12            13     15632264          Kay           476    France  Female   \n",
       "...          ...          ...          ...           ...       ...     ...   \n",
       "9989        9990     15605622     McMillan           841     Spain    Male   \n",
       "9992        9993     15657105  Chukwualuka           726     Spain    Male   \n",
       "9994        9995     15719294         Wood           800    France  Female   \n",
       "9995        9996     15606229     Obijiaku           771    France    Male   \n",
       "9997        9998     15584532          Liu           709    France  Female   \n",
       "\n",
       "      age  tenure  balance  num_of_products  has_cr_card  is_active_member  \\\n",
       "0      42     2.0      0.0                1            1                 1   \n",
       "3      39     1.0      0.0                2            0                 0   \n",
       "6      50     7.0      0.0                2            1                 1   \n",
       "11     24     3.0      0.0                2            1                 0   \n",
       "12     34    10.0      0.0                2            1                 0   \n",
       "...   ...     ...      ...              ...          ...               ...   \n",
       "9989   28     4.0      0.0                2            1                 1   \n",
       "9992   36     2.0      0.0                1            1                 0   \n",
       "9994   29     2.0      0.0                2            0                 0   \n",
       "9995   39     5.0      0.0                2            1                 0   \n",
       "9997   36     7.0      0.0                1            0                 1   \n",
       "\n",
       "      estimated_salary  exited  \n",
       "0            101348.88       1  \n",
       "3             93826.63       0  \n",
       "6             10062.80       0  \n",
       "11            76390.01       0  \n",
       "12            26260.98       0  \n",
       "...                ...     ...  \n",
       "9989         179436.60       0  \n",
       "9992         195192.40       0  \n",
       "9994         167773.55       0  \n",
       "9995          96270.64       0  \n",
       "9997          42085.58       1  \n",
       "\n",
       "[3617 rows x 14 columns]"
      ]
     },
     "execution_count": 13,
     "metadata": {},
     "output_type": "execute_result"
    }
   ],
   "source": [
    "data[data['balance']==0]"
   ]
  },
  {
   "cell_type": "markdown",
   "metadata": {},
   "source": [
    "3617 строк с 0 балансом, странно, моё предположение что это отрицательный баланс, пока оставим так. В идеале надо бы уточнить что означают 0 в данных по балансу."
   ]
  },
  {
   "cell_type": "code",
   "execution_count": 14,
   "metadata": {},
   "outputs": [],
   "source": [
    "data = data.drop(['row_number', 'customer_id', 'surname'], axis=1)"
   ]
  },
  {
   "cell_type": "markdown",
   "metadata": {},
   "source": [
    "Избавимся от столбца 'row_number' так как он повторяет индекс таблицы. Так же столбцы 'customer_id' и 'surname' не несут важной информации для нашего исследования, поэтому мы избавимся и от них"
   ]
  },
  {
   "cell_type": "code",
   "execution_count": 15,
   "metadata": {},
   "outputs": [],
   "source": [
    "data_ohe = pd.get_dummies(data, drop_first=True)"
   ]
  },
  {
   "cell_type": "code",
   "execution_count": 16,
   "metadata": {},
   "outputs": [],
   "source": [
    "features = data_ohe.drop('exited',axis = 1)\n",
    "target = data_ohe['exited']"
   ]
  },
  {
   "cell_type": "code",
   "execution_count": 17,
   "metadata": {},
   "outputs": [],
   "source": [
    "features_train, features_temp, target_train, target_temp = train_test_split(features, target, test_size=0.4, random_state=12345)\n",
    "features_valid, features_test, target_valid, target_test = train_test_split(features_temp, target_temp, test_size=0.5, random_state=12345)\n"
   ]
  },
  {
   "cell_type": "code",
   "execution_count": 18,
   "metadata": {},
   "outputs": [
    {
     "name": "stdout",
     "output_type": "stream",
     "text": [
      "features_train: (6000, 11)\n",
      "features_valid: (2000, 11)\n",
      "features_test:  (2000, 11)\n"
     ]
    }
   ],
   "source": [
    "print('features_train:', features_train.shape)\n",
    "print('features_valid:', features_valid.shape)\n",
    "print('features_test: ', features_test.shape)"
   ]
  },
  {
   "cell_type": "code",
   "execution_count": 19,
   "metadata": {},
   "outputs": [],
   "source": [
    "numeric = ['credit_score', 'age', 'balance', 'estimated_salary', 'tenure', 'num_of_products']\n",
    "scaler = StandardScaler()\n",
    "scaler.fit(features_train[numeric])\n",
    "features_train[numeric] = scaler.transform(features_train[numeric])\n",
    "features_valid[numeric] = scaler.transform(features_valid[numeric])\n",
    "features_test[numeric] = scaler.transform(features_test[numeric])"
   ]
  },
  {
   "cell_type": "markdown",
   "metadata": {},
   "source": [
    "### Вывод по анализу данных"
   ]
  },
  {
   "cell_type": "markdown",
   "metadata": {},
   "source": [
    "* Общее количество строк в таблице 10000 и 14 столбцов.\n",
    "* Значения имеют разный тип данных int и float, object.Изменены названия 7 столбцов.Дубликатов не обнаружено.\n",
    "* Убрано 3 столбца из датасета\n",
    "* В столбце tenor пропуски заменены медианным значением.\n",
    "* Данные разделены на обучающую, валидационную и тестовую выборки в соотношении 3:1:1"
   ]
  },
  {
   "cell_type": "markdown",
   "metadata": {},
   "source": [
    "## Исследование задачи"
   ]
  },
  {
   "cell_type": "code",
   "execution_count": 20,
   "metadata": {},
   "outputs": [
    {
     "data": {
      "text/plain": [
       "0    4804\n",
       "1    1196\n",
       "Name: exited, dtype: int64"
      ]
     },
     "execution_count": 20,
     "metadata": {},
     "output_type": "execute_result"
    }
   ],
   "source": [
    "target_train.value_counts()\n"
   ]
  },
  {
   "cell_type": "markdown",
   "metadata": {},
   "source": [
    "### Модель логической регрессии"
   ]
  },
  {
   "cell_type": "code",
   "execution_count": 21,
   "metadata": {},
   "outputs": [
    {
     "name": "stdout",
     "output_type": "stream",
     "text": [
      "F1 наилучшей модели на валидационной выборке: 0.33108108108108103\n",
      "F1 наилучшей модели на обучающей выборке: 0.34378769601930037\n",
      "CPU times: total: 15.6 ms\n",
      "Wall time: 15.1 ms\n"
     ]
    }
   ],
   "source": [
    "%%time\n",
    "    model_regression = LogisticRegression(random_state=12345)\n",
    "    model_regression.fit(features_train, target_train)\n",
    "    predictions_valid = model_regression.predict(features_valid)\n",
    "    predictions_train = model_regression.predict(features_train)\n",
    "f1_valid = f1_score(target_valid, predictions_valid)\n",
    "f1_train = f1_score(target_train, predictions_train)\n",
    "print(\"F1 наилучшей модели на валидационной выборке:\", f1_valid)\n",
    "print(\"F1 наилучшей модели на обучающей выборке:\", f1_train)"
   ]
  },
  {
   "cell_type": "code",
   "execution_count": 22,
   "metadata": {},
   "outputs": [
    {
     "name": "stdout",
     "output_type": "stream",
     "text": [
      "AUC-ROC: 0.7588026784580114\n"
     ]
    }
   ],
   "source": [
    "probabilities_valid = model_regression.predict_proba(features_valid)\n",
    "probabilities_one_valid = probabilities_valid[:, 1]\n",
    "fpr, tpr, thresholds = roc_curve(target_valid, probabilities_one_valid)\n",
    "print('AUC-ROC:', roc_auc_score(target_valid, probabilities_one_valid))"
   ]
  },
  {
   "cell_type": "markdown",
   "metadata": {},
   "source": [
    "### Модель дерева решений"
   ]
  },
  {
   "cell_type": "code",
   "execution_count": 23,
   "metadata": {},
   "outputs": [
    {
     "name": "stdout",
     "output_type": "stream",
     "text": [
      "Лучшее значение F1 на валидационной выборке: 0.5696969696969697\n",
      "Лучшая глубина дерева: 6\n",
      "CPU times: total: 328 ms\n",
      "Wall time: 366 ms\n"
     ]
    }
   ],
   "source": [
    "%%time\n",
    "model_tree = DecisionTreeClassifier(random_state=12345)\n",
    "\n",
    "max_depth = range(1, 21)\n",
    "\n",
    "best_score = 0\n",
    "best_depth = 0\n",
    "\n",
    "for depth in max_depth:\n",
    "    model_tree = DecisionTreeClassifier(max_depth=depth, random_state=12345)\n",
    "    model_tree.fit(features_train, target_train)\n",
    "    predictions_valid = model_tree.predict(features_valid)\n",
    "    f1 = f1_score(target_valid, predictions_valid)\n",
    "    if f1 > best_score:\n",
    "        best_score = f1\n",
    "        best_depth = depth\n",
    "\n",
    "print(\"Лучшее значение F1 на валидационной выборке:\", best_score)\n",
    "print(\"Лучшая глубина дерева:\", best_depth)"
   ]
  },
  {
   "cell_type": "code",
   "execution_count": 24,
   "metadata": {},
   "outputs": [
    {
     "name": "stdout",
     "output_type": "stream",
     "text": [
      "AUC-ROC: 0.8164631712023421\n"
     ]
    }
   ],
   "source": [
    "model_tree = DecisionTreeClassifier(max_depth=best_depth, random_state=12345)\n",
    "model_tree.fit(features_train, target_train)\n",
    "probabilities_valid = model_tree.predict_proba(features_valid)\n",
    "probabilities_one_valid = probabilities_valid[:, 1]\n",
    "print('AUC-ROC:',roc_auc_score(target_valid, probabilities_one_valid))"
   ]
  },
  {
   "cell_type": "markdown",
   "metadata": {},
   "source": [
    "### Модель случайного леса"
   ]
  },
  {
   "cell_type": "code",
   "execution_count": 25,
   "metadata": {},
   "outputs": [
    {
     "name": "stdout",
     "output_type": "stream",
     "text": [
      "Лучшее значение F1 на валидационной выборке: 0.5913818722139673\n",
      "Лучшее количество деревьев: 60\n",
      "Лучшая глубина деревьев: 19\n",
      "CPU times: total: 1min 18s\n",
      "Wall time: 1min 20s\n"
     ]
    }
   ],
   "source": [
    "%%time\n",
    "model_forest = RandomForestClassifier(random_state=12345)\n",
    "\n",
    "n_estimators = range(10, 121, 10)\n",
    "max_depth = range(1, 21)\n",
    "\n",
    "best_score = 0\n",
    "best_n_estimators = 0\n",
    "best_max_depth = 0\n",
    "\n",
    "for n in n_estimators:\n",
    "    for depth in max_depth:\n",
    "        model_forest = RandomForestClassifier(n_estimators=n, max_depth=depth, random_state=12345)\n",
    "        model_forest.fit(features_train, target_train)\n",
    "        predictions_valid = model_forest.predict(features_valid)\n",
    "        f1 = f1_score(target_valid, predictions_valid)\n",
    "        if f1 > best_score:\n",
    "            best_score = f1\n",
    "            best_n_estimators = n\n",
    "            best_max_depth = depth\n",
    "\n",
    "print(\"Лучшее значение F1 на валидационной выборке:\", best_score)\n",
    "print(\"Лучшее количество деревьев:\", best_n_estimators)\n",
    "print(\"Лучшая глубина деревьев:\", best_max_depth)"
   ]
  },
  {
   "cell_type": "code",
   "execution_count": 26,
   "metadata": {},
   "outputs": [
    {
     "name": "stdout",
     "output_type": "stream",
     "text": [
      "AUC-ROC: 0.8343611442120991\n"
     ]
    }
   ],
   "source": [
    "model_forest = RandomForestClassifier(n_estimators=best_n_estimators, max_depth=best_max_depth, random_state=12345)\n",
    "model_forest.fit(features_train, target_train)\n",
    "probabilities_valid = model_forest.predict_proba(features_valid)\n",
    "probabilities_one_valid = probabilities_valid[:, 1]\n",
    "print('AUC-ROC:',roc_auc_score(target_valid, probabilities_one_valid))"
   ]
  },
  {
   "cell_type": "markdown",
   "metadata": {},
   "source": [
    "### Вывод"
   ]
  },
  {
   "cell_type": "markdown",
   "metadata": {},
   "source": [
    "Лучший результат показала модель случайного леса показав:\n",
    "F1 = 0.5913818722139673 \n",
    "AUC-ROC = 0.8343611442120991\n",
    "При количестве деревьев 60 и глубиной 19"
   ]
  },
  {
   "cell_type": "markdown",
   "metadata": {},
   "source": [
    "## Борьба с дисбалансом"
   ]
  },
  {
   "cell_type": "markdown",
   "metadata": {},
   "source": [
    "# Увеличение выборки"
   ]
  },
  {
   "cell_type": "code",
   "execution_count": 27,
   "metadata": {},
   "outputs": [],
   "source": [
    "def upsample(features, target, repeat):\n",
    "    features_zeros = features[target == 0]\n",
    "    features_ones = features[target == 1]\n",
    "    target_zeros = target[target == 0]\n",
    "    target_ones = target[target == 1]\n",
    "\n",
    "    features_upsampled = pd.concat([features_zeros] + [features_ones] * repeat)\n",
    "    target_upsampled = pd.concat([target_zeros] + [target_ones] * repeat)\n",
    "    \n",
    "    features_upsampled, target_upsampled = shuffle(\n",
    "        features_upsampled, target_upsampled, random_state=12345)\n",
    "    \n",
    "    return features_upsampled, target_upsampled\n",
    "\n",
    "features_upsampled, target_upsampled = upsample(features_train, target_train, 4)\n"
   ]
  },
  {
   "cell_type": "markdown",
   "metadata": {},
   "source": [
    "#### Модель логической регрессии"
   ]
  },
  {
   "cell_type": "code",
   "execution_count": 28,
   "metadata": {},
   "outputs": [
    {
     "name": "stdout",
     "output_type": "stream",
     "text": [
      "F1 наилучшей модели на валидационной выборке: 0.4888507718696398\n",
      "CPU times: total: 0 ns\n",
      "Wall time: 12.6 ms\n"
     ]
    }
   ],
   "source": [
    "%%time\n",
    "balanced_model_regression = LogisticRegression(random_state=12345)\n",
    "balanced_model_regression.fit(features_upsampled, target_upsampled)\n",
    "predictions_valid = balanced_model_regression.predict(features_valid)\n",
    "f1_valid = f1_score(target_valid, predictions_valid)\n",
    "print(\"F1 наилучшей модели на валидационной выборке:\", f1_valid)"
   ]
  },
  {
   "cell_type": "code",
   "execution_count": 29,
   "metadata": {},
   "outputs": [
    {
     "name": "stdout",
     "output_type": "stream",
     "text": [
      "AUC-ROC: 0.7636206364664678\n"
     ]
    }
   ],
   "source": [
    "probabilities_valid = balanced_model_regression.predict_proba(features_valid)\n",
    "probabilities_one_valid = probabilities_valid[:, 1]\n",
    "fpr, tpr, thresholds = roc_curve(target_valid, probabilities_one_valid)\n",
    "print('AUC-ROC:',roc_auc_score(target_valid, probabilities_one_valid))"
   ]
  },
  {
   "cell_type": "markdown",
   "metadata": {},
   "source": [
    "#### Модель дерева решений"
   ]
  },
  {
   "cell_type": "code",
   "execution_count": 30,
   "metadata": {},
   "outputs": [
    {
     "name": "stdout",
     "output_type": "stream",
     "text": [
      "Лучшее значение F1 на валидационной выборке: 0.5963791267305644\n",
      "Лучшая глубина дерева: 5\n",
      "CPU times: total: 469 ms\n",
      "Wall time: 481 ms\n"
     ]
    }
   ],
   "source": [
    "%%time\n",
    "balanced_model_tree = DecisionTreeClassifier(random_state=12345)\n",
    "\n",
    "max_depth = range(1, 21)\n",
    "\n",
    "best_score = 0\n",
    "best_depth = 0\n",
    "\n",
    "for depth in max_depth:\n",
    "    balanced_model_tree = DecisionTreeClassifier(max_depth=depth, random_state=12345)\n",
    "    balanced_model_tree.fit(features_upsampled, target_upsampled)\n",
    "    predictions_valid = balanced_model_tree.predict(features_valid)\n",
    "    f1 = f1_score(target_valid, predictions_valid)\n",
    "    if f1 > best_score:\n",
    "        best_score = f1\n",
    "        best_depth = depth        \n",
    "        \n",
    "print(\"Лучшее значение F1 на валидационной выборке:\", best_score)\n",
    "print(\"Лучшая глубина дерева:\", best_depth)\n"
   ]
  },
  {
   "cell_type": "code",
   "execution_count": 31,
   "metadata": {},
   "outputs": [
    {
     "name": "stdout",
     "output_type": "stream",
     "text": [
      "AUC-ROC: 0.6760203001469886\n"
     ]
    }
   ],
   "source": [
    "balanced_model_tree = DecisionTreeClassifier(max_depth=best_max_depth, random_state=12345)\n",
    "balanced_model_tree.fit(features_upsampled, target_upsampled)\n",
    "probabilities_valid = balanced_model_tree.predict_proba(features_valid)\n",
    "probabilities_one_valid = probabilities_valid[:, 1]\n",
    "print('AUC-ROC:',roc_auc_score(target_valid, probabilities_one_valid))"
   ]
  },
  {
   "cell_type": "markdown",
   "metadata": {},
   "source": [
    "#### Модель случайного леса"
   ]
  },
  {
   "cell_type": "code",
   "execution_count": 32,
   "metadata": {},
   "outputs": [
    {
     "name": "stdout",
     "output_type": "stream",
     "text": [
      "Лучшее значение F1 на валидационной выборке: 0.6291179596174282\n",
      "Лучшее количество деревьев: 70\n",
      "Лучшая глубина деревьев: 9\n",
      "CPU times: total: 1min 46s\n",
      "Wall time: 1min 47s\n"
     ]
    }
   ],
   "source": [
    "%%time\n",
    "balanced_model_forest = RandomForestClassifier(random_state=12345)\n",
    "\n",
    "n_estimators = range(10, 121, 10)\n",
    "max_depth = range(1, 21)\n",
    "\n",
    "best_score = 0\n",
    "best_n_estimators = 0\n",
    "best_max_depth = 0\n",
    "\n",
    "for n in n_estimators:\n",
    "    for depth in max_depth:\n",
    "        balanced_model_forest = RandomForestClassifier(n_estimators=n, max_depth=depth, random_state=12345)\n",
    "        balanced_model_forest.fit(features_upsampled, target_upsampled)\n",
    "        predictions_valid = balanced_model_forest.predict(features_valid)\n",
    "        f1 = f1_score(target_valid, predictions_valid)\n",
    "        if f1 > best_score:\n",
    "            best_score = f1\n",
    "            best_n_estimators = n\n",
    "            best_max_depth = depth\n",
    "\n",
    "print(\"Лучшее значение F1 на валидационной выборке:\", best_score)\n",
    "print(\"Лучшее количество деревьев:\", best_n_estimators)\n",
    "print(\"Лучшая глубина деревьев:\", best_max_depth)"
   ]
  },
  {
   "cell_type": "code",
   "execution_count": 33,
   "metadata": {},
   "outputs": [
    {
     "name": "stdout",
     "output_type": "stream",
     "text": [
      "AUC-ROC: 0.8526303691650686\n"
     ]
    }
   ],
   "source": [
    "balanced_model_forest = RandomForestClassifier(n_estimators=best_n_estimators, max_depth=best_max_depth, random_state=12345)\n",
    "balanced_model_forest.fit(features_upsampled, target_upsampled)\n",
    "probabilities_valid = balanced_model_forest.predict_proba(features_valid)\n",
    "probabilities_one_valid = probabilities_valid[:, 1]\n",
    "print('AUC-ROC:',roc_auc_score(target_valid, probabilities_one_valid))"
   ]
  },
  {
   "cell_type": "markdown",
   "metadata": {},
   "source": [
    "### Уменьшение выборки"
   ]
  },
  {
   "cell_type": "code",
   "execution_count": null,
   "metadata": {},
   "outputs": [],
   "source": []
  },
  {
   "cell_type": "code",
   "execution_count": 34,
   "metadata": {},
   "outputs": [],
   "source": [
    "def downsample(features, target, fraction):\n",
    "    features_zeros = features[target == 0]\n",
    "    features_ones = features[target == 1]\n",
    "    target_zeros = target[target == 0]\n",
    "    target_ones = target[target == 1]\n",
    "\n",
    "    features_zeros_downsampled = features_zeros.sample(frac=fraction, random_state=12345)\n",
    "    features_downsampled = pd.concat([features_zeros_downsampled] + [features_ones])\n",
    "    target_downsampled = pd.concat([target_zeros.sample(frac=fraction, random_state=12345)] + [target_ones])\n",
    "\n",
    "    features_downsampled, target_downsampled = shuffle(\n",
    "        features_downsampled, target_downsampled, random_state=12345)\n",
    "\n",
    "    return features_downsampled, target_downsampled\n",
    "features_downsampled, target_downsampled = downsample(features_train, target_train, 0.25)"
   ]
  },
  {
   "cell_type": "markdown",
   "metadata": {},
   "source": [
    "#### Модель логической регрессии"
   ]
  },
  {
   "cell_type": "code",
   "execution_count": 35,
   "metadata": {},
   "outputs": [
    {
     "name": "stdout",
     "output_type": "stream",
     "text": [
      "F1 наилучшей модели на валидационной выборке: 0.48406546080964685\n",
      "CPU times: total: 0 ns\n",
      "Wall time: 9.05 ms\n"
     ]
    }
   ],
   "source": [
    "%%time\n",
    "downsampled_model_regression = LogisticRegression(random_state=12345)\n",
    "downsampled_model_regression.fit(features_downsampled, target_downsampled)\n",
    "predictions_valid = downsampled_model_regression.predict(features_valid)\n",
    "f1_valid = f1_score(target_valid, predictions_valid)\n",
    "print(\"F1 наилучшей модели на валидационной выборке:\", f1_valid)"
   ]
  },
  {
   "cell_type": "code",
   "execution_count": 36,
   "metadata": {},
   "outputs": [
    {
     "name": "stdout",
     "output_type": "stream",
     "text": [
      "AUC-ROC: 0.7622203134545938\n"
     ]
    }
   ],
   "source": [
    "probabilities_valid = downsampled_model_regression.predict_proba(features_valid)\n",
    "probabilities_one_valid = probabilities_valid[:, 1]\n",
    "fpr, tpr, thresholds = roc_curve(target_valid, probabilities_one_valid)\n",
    "print('AUC-ROC:',roc_auc_score(target_valid, probabilities_one_valid))"
   ]
  },
  {
   "cell_type": "markdown",
   "metadata": {},
   "source": [
    "#### Модель дерева решений"
   ]
  },
  {
   "cell_type": "code",
   "execution_count": 37,
   "metadata": {},
   "outputs": [
    {
     "name": "stdout",
     "output_type": "stream",
     "text": [
      "Лучшее значение F1 на валидационной выборке: 0.5943204868154158\n",
      "Лучшая глубина дерева: 5\n",
      "CPU times: total: 125 ms\n",
      "Wall time: 184 ms\n"
     ]
    }
   ],
   "source": [
    "%%time\n",
    "downsampled_model_tree = DecisionTreeClassifier(random_state=12345)\n",
    "\n",
    "max_depth = range(1, 21)\n",
    "\n",
    "best_score = 0\n",
    "best_depth = 0\n",
    "\n",
    "for depth in max_depth:\n",
    "    downsampled_model_tree = DecisionTreeClassifier(max_depth=depth, random_state=12345)\n",
    "    downsampled_model_tree.fit(features_downsampled, target_downsampled)\n",
    "    predictions_valid = downsampled_model_tree.predict(features_valid)\n",
    "    f1 = f1_score(target_valid, predictions_valid)\n",
    "    if f1 > best_score:\n",
    "        best_score = f1\n",
    "        best_depth = depth        \n",
    "        \n",
    "print(\"Лучшее значение F1 на валидационной выборке:\", best_score)\n",
    "print(\"Лучшая глубина дерева:\", best_depth)\n"
   ]
  },
  {
   "cell_type": "code",
   "execution_count": 38,
   "metadata": {},
   "outputs": [
    {
     "name": "stdout",
     "output_type": "stream",
     "text": [
      "AUC-ROC: 0.7618611593343778\n"
     ]
    }
   ],
   "source": [
    "downsampled_model_tree = DecisionTreeClassifier(max_depth=best_max_depth, random_state=12345)\n",
    "downsampled_model_tree.fit(features_downsampled, target_downsampled)\n",
    "probabilities_valid = downsampled_model_tree.predict_proba(features_valid)\n",
    "probabilities_one_valid = probabilities_valid[:, 1]\n",
    "print('AUC-ROC:',roc_auc_score(target_valid, probabilities_one_valid))"
   ]
  },
  {
   "cell_type": "markdown",
   "metadata": {},
   "source": [
    "#### Модель случайного леса"
   ]
  },
  {
   "cell_type": "code",
   "execution_count": 39,
   "metadata": {},
   "outputs": [
    {
     "name": "stdout",
     "output_type": "stream",
     "text": [
      "Лучшее значение F1 на валидационной выборке: 0.6092184368737475\n",
      "Лучшее количество деревьев: 10\n",
      "Лучшая глубина деревьев: 4\n",
      "CPU times: total: 43.5 s\n",
      "Wall time: 44 s\n"
     ]
    }
   ],
   "source": [
    "%%time\n",
    "downsampled_model_forest = RandomForestClassifier(random_state=12345)\n",
    "\n",
    "n_estimators = range(10, 121, 10)\n",
    "max_depth = range(1, 21)\n",
    "\n",
    "best_score = 0\n",
    "best_n_estimators = 0\n",
    "best_max_depth = 0\n",
    "\n",
    "for n in n_estimators:\n",
    "    for depth in max_depth:\n",
    "        downsampled_model_forest = RandomForestClassifier(n_estimators=n, max_depth=depth, random_state=12345)\n",
    "        downsampled_model_forest.fit(features_downsampled, target_downsampled)\n",
    "        predictions_valid = downsampled_model_forest.predict(features_valid)\n",
    "        f1 = f1_score(target_valid, predictions_valid)\n",
    "        if f1 > best_score:\n",
    "            best_score = f1\n",
    "            best_n_estimators = n\n",
    "            best_max_depth = depth\n",
    "\n",
    "print(\"Лучшее значение F1 на валидационной выборке:\", best_score)\n",
    "print(\"Лучшее количество деревьев:\", best_n_estimators)\n",
    "print(\"Лучшая глубина деревьев:\", best_max_depth)"
   ]
  },
  {
   "cell_type": "code",
   "execution_count": 40,
   "metadata": {},
   "outputs": [
    {
     "name": "stdout",
     "output_type": "stream",
     "text": [
      "AUC-ROC: 0.8354975834598564\n"
     ]
    }
   ],
   "source": [
    "downsampled_model_forest = RandomForestClassifier(n_estimators=best_n_estimators, max_depth=best_max_depth, random_state=12345)\n",
    "downsampled_model_forest.fit(features_downsampled, target_downsampled)\n",
    "probabilities_valid = downsampled_model_forest.predict_proba(features_valid)\n",
    "probabilities_one_valid = probabilities_valid[:, 1]\n",
    "print('AUC-ROC:',roc_auc_score(target_valid, probabilities_one_valid))"
   ]
  },
  {
   "cell_type": "markdown",
   "metadata": {},
   "source": [
    "### Вывод"
   ]
  },
  {
   "cell_type": "markdown",
   "metadata": {},
   "source": [
    "Лучший резултат показала модель случайного леса при количестве деревьев 70 и глубиной 9 с увеличенной выборкой показав:\n",
    "* F1 = 0.6291179596174282\n",
    "* AUC-ROC = 0.8518621574047749\n"
   ]
  },
  {
   "cell_type": "markdown",
   "metadata": {},
   "source": [
    "## Тестирование модели"
   ]
  },
  {
   "cell_type": "code",
   "execution_count": 41,
   "metadata": {},
   "outputs": [],
   "source": [
    "features_full_train = pd.concat([features_train, features_valid])\n",
    "target_full_train = pd.concat([target_train, target_valid])\n",
    "features_upsampled, target_upsampled = upsample(features_full_train, target_full_train, 4)"
   ]
  },
  {
   "cell_type": "code",
   "execution_count": 42,
   "metadata": {},
   "outputs": [
    {
     "name": "stdout",
     "output_type": "stream",
     "text": [
      "F1: 0.61198738170347\n",
      "AUC-ROC: 0.8577107984007699\n"
     ]
    }
   ],
   "source": [
    "final_model = RandomForestClassifier(random_state=12345,max_depth = 9,n_estimators=70)\n",
    "final_model.fit(features_upsampled, target_upsampled)\n",
    "predictions_test = final_model.predict(features_test)\n",
    "print('F1:', f1_score(target_test, predictions_test))\n",
    "\n",
    "probabilities_valid = final_model.predict_proba(features_test)\n",
    "probabilities_one_valid = probabilities_valid[:, 1]\n",
    "\n",
    "auc_roc = roc_auc_score(target_test, probabilities_one_valid)\n",
    "\n",
    "print('AUC-ROC:', auc_roc)"
   ]
  },
  {
   "cell_type": "markdown",
   "metadata": {},
   "source": [
    "## Вывод"
   ]
  },
  {
   "cell_type": "markdown",
   "metadata": {},
   "source": [
    "* Были изученны и подготовленны данные, а так же разделены на 3 выборки - обучающую, валидационную и тестовую \n",
    "* Были исследованы модели без учета баланса классов. Лучший результат показала модель случайного леса\n",
    "* Для борьбы с дисбалансом применили уменьшение и увеличение выборки. Также были подобранны гиперпараметы для модели. Модель случайного леса снова показала лучший результат.\n",
    "* Финальную модель протестировали на увеличенной выборки при глубине 9 и количестве деревьев 70. \n",
    "  В результате получили: F1: 0.61 и AUC-ROC: 0.86  \n",
    "  \n"
   ]
  }
 ],
 "metadata": {
  "ExecuteTimeLog": [
   {
    "duration": 1718,
    "start_time": "2023-07-27T15:32:31.807Z"
   },
   {
    "duration": 95,
    "start_time": "2023-07-27T15:32:33.527Z"
   },
   {
    "duration": 5,
    "start_time": "2023-07-27T15:32:33.624Z"
   },
   {
    "duration": 50,
    "start_time": "2023-07-27T15:32:34.788Z"
   },
   {
    "duration": 40,
    "start_time": "2023-07-27T15:32:43.069Z"
   },
   {
    "duration": 13,
    "start_time": "2023-07-27T15:32:44.964Z"
   },
   {
    "duration": 12,
    "start_time": "2023-07-27T15:33:47.016Z"
   },
   {
    "duration": 13,
    "start_time": "2023-07-27T15:33:59.410Z"
   },
   {
    "duration": 13,
    "start_time": "2023-07-27T15:35:02.564Z"
   },
   {
    "duration": 117,
    "start_time": "2023-07-27T15:35:12.492Z"
   },
   {
    "duration": 13,
    "start_time": "2023-07-27T15:35:18.496Z"
   },
   {
    "duration": 14,
    "start_time": "2023-07-27T15:35:24.893Z"
   },
   {
    "duration": 13,
    "start_time": "2023-07-27T15:35:38.688Z"
   },
   {
    "duration": 6,
    "start_time": "2023-07-27T15:48:15.168Z"
   },
   {
    "duration": 12,
    "start_time": "2023-07-27T15:48:25.960Z"
   },
   {
    "duration": 5,
    "start_time": "2023-07-27T15:50:17.406Z"
   },
   {
    "duration": 5,
    "start_time": "2023-07-27T15:50:38.748Z"
   },
   {
    "duration": 8,
    "start_time": "2023-07-27T15:51:34.017Z"
   },
   {
    "duration": 12,
    "start_time": "2023-07-27T15:51:43.612Z"
   },
   {
    "duration": 9,
    "start_time": "2023-07-27T15:52:05.980Z"
   },
   {
    "duration": 7,
    "start_time": "2023-07-27T15:53:04.172Z"
   },
   {
    "duration": 22,
    "start_time": "2023-07-27T15:53:23.444Z"
   },
   {
    "duration": 8,
    "start_time": "2023-07-27T15:56:52.772Z"
   },
   {
    "duration": 240,
    "start_time": "2023-07-27T15:56:53.768Z"
   },
   {
    "duration": 4,
    "start_time": "2023-07-27T15:57:38.756Z"
   },
   {
    "duration": 9,
    "start_time": "2023-07-27T15:57:39.893Z"
   },
   {
    "duration": 30,
    "start_time": "2023-07-27T15:57:46.555Z"
   },
   {
    "duration": 15,
    "start_time": "2023-07-27T15:57:54.307Z"
   },
   {
    "duration": 21,
    "start_time": "2023-07-27T15:58:04.576Z"
   },
   {
    "duration": 4,
    "start_time": "2023-07-27T15:58:24.248Z"
   },
   {
    "duration": 4,
    "start_time": "2023-07-27T15:58:40.115Z"
   },
   {
    "duration": 4,
    "start_time": "2023-07-27T15:58:41.844Z"
   },
   {
    "duration": 2639,
    "start_time": "2023-07-27T15:58:51.709Z"
   },
   {
    "duration": 42,
    "start_time": "2023-07-27T15:58:54.349Z"
   },
   {
    "duration": 6,
    "start_time": "2023-07-27T15:58:54.393Z"
   },
   {
    "duration": 46,
    "start_time": "2023-07-27T15:58:54.400Z"
   },
   {
    "duration": 13,
    "start_time": "2023-07-27T15:58:54.449Z"
   },
   {
    "duration": 17,
    "start_time": "2023-07-27T15:58:54.471Z"
   },
   {
    "duration": 29,
    "start_time": "2023-07-27T15:58:54.490Z"
   },
   {
    "duration": 5,
    "start_time": "2023-07-27T15:58:54.521Z"
   },
   {
    "duration": 21,
    "start_time": "2023-07-27T15:58:54.527Z"
   },
   {
    "duration": 17,
    "start_time": "2023-07-27T15:58:54.550Z"
   },
   {
    "duration": 17,
    "start_time": "2023-07-27T15:58:54.569Z"
   },
   {
    "duration": 9,
    "start_time": "2023-07-27T15:58:54.587Z"
   },
   {
    "duration": 16,
    "start_time": "2023-07-27T15:58:54.598Z"
   },
   {
    "duration": 41,
    "start_time": "2023-07-27T16:02:48.872Z"
   },
   {
    "duration": 21,
    "start_time": "2023-07-27T16:08:23.685Z"
   },
   {
    "duration": 3258,
    "start_time": "2023-07-27T16:16:53.905Z"
   },
   {
    "duration": 122,
    "start_time": "2023-07-27T16:19:33.299Z"
   },
   {
    "duration": 21,
    "start_time": "2023-07-27T16:19:40.247Z"
   },
   {
    "duration": 5,
    "start_time": "2023-07-27T16:19:51.825Z"
   },
   {
    "duration": 2924,
    "start_time": "2023-07-27T16:19:54.898Z"
   },
   {
    "duration": 9,
    "start_time": "2023-07-27T16:31:14.557Z"
   },
   {
    "duration": 103,
    "start_time": "2023-07-27T16:31:47.317Z"
   },
   {
    "duration": 19,
    "start_time": "2023-07-27T16:32:01.614Z"
   },
   {
    "duration": 18,
    "start_time": "2023-07-27T16:32:26.400Z"
   },
   {
    "duration": 351,
    "start_time": "2023-07-27T16:32:45.295Z"
   },
   {
    "duration": 4,
    "start_time": "2023-07-27T16:32:54.163Z"
   },
   {
    "duration": 100,
    "start_time": "2023-07-27T16:33:02.920Z"
   },
   {
    "duration": 4,
    "start_time": "2023-07-27T16:34:11.151Z"
   },
   {
    "duration": 5,
    "start_time": "2023-07-27T16:34:20.751Z"
   },
   {
    "duration": 20,
    "start_time": "2023-07-27T16:34:49.151Z"
   },
   {
    "duration": 2981,
    "start_time": "2023-07-27T19:14:05.151Z"
   },
   {
    "duration": 12,
    "start_time": "2023-07-27T19:25:59.956Z"
   },
   {
    "duration": 9,
    "start_time": "2023-07-27T19:28:08.219Z"
   },
   {
    "duration": 1707,
    "start_time": "2023-07-27T19:28:21.097Z"
   },
   {
    "duration": 43,
    "start_time": "2023-07-27T19:28:22.806Z"
   },
   {
    "duration": 7,
    "start_time": "2023-07-27T19:28:22.851Z"
   },
   {
    "duration": 82,
    "start_time": "2023-07-27T19:28:22.860Z"
   },
   {
    "duration": 14,
    "start_time": "2023-07-27T19:28:22.944Z"
   },
   {
    "duration": 31,
    "start_time": "2023-07-27T19:28:22.959Z"
   },
   {
    "duration": 16,
    "start_time": "2023-07-27T19:28:22.992Z"
   },
   {
    "duration": 5,
    "start_time": "2023-07-27T19:28:23.010Z"
   },
   {
    "duration": 24,
    "start_time": "2023-07-27T19:28:23.017Z"
   },
   {
    "duration": 15,
    "start_time": "2023-07-27T19:28:23.044Z"
   },
   {
    "duration": 36,
    "start_time": "2023-07-27T19:28:23.061Z"
   },
   {
    "duration": 10,
    "start_time": "2023-07-27T19:28:23.099Z"
   },
   {
    "duration": 47,
    "start_time": "2023-07-27T19:28:23.110Z"
   },
   {
    "duration": 5,
    "start_time": "2023-07-27T19:28:23.161Z"
   },
   {
    "duration": 3019,
    "start_time": "2023-07-27T19:28:23.167Z"
   },
   {
    "duration": 11,
    "start_time": "2023-07-27T19:28:26.188Z"
   },
   {
    "duration": 25,
    "start_time": "2023-07-27T19:28:26.200Z"
   },
   {
    "duration": 26,
    "start_time": "2023-07-27T19:28:26.227Z"
   },
   {
    "duration": 57,
    "start_time": "2023-07-27T19:28:26.255Z"
   },
   {
    "duration": 34,
    "start_time": "2023-07-27T19:30:46.582Z"
   },
   {
    "duration": 8,
    "start_time": "2023-07-27T19:30:56.909Z"
   },
   {
    "duration": 28,
    "start_time": "2023-07-27T19:30:57.683Z"
   },
   {
    "duration": 37,
    "start_time": "2023-07-27T19:31:53.588Z"
   },
   {
    "duration": 53,
    "start_time": "2023-07-27T19:32:06.436Z"
   },
   {
    "duration": 8,
    "start_time": "2023-07-27T19:32:12.552Z"
   },
   {
    "duration": 47,
    "start_time": "2023-07-27T19:32:12.996Z"
   },
   {
    "duration": 131,
    "start_time": "2023-07-27T23:18:53.027Z"
   },
   {
    "duration": 1761,
    "start_time": "2023-07-27T23:19:04.424Z"
   },
   {
    "duration": 81,
    "start_time": "2023-07-27T23:19:06.187Z"
   },
   {
    "duration": 6,
    "start_time": "2023-07-27T23:19:06.270Z"
   },
   {
    "duration": 118,
    "start_time": "2023-07-27T23:19:06.278Z"
   },
   {
    "duration": 14,
    "start_time": "2023-07-27T23:19:06.399Z"
   },
   {
    "duration": 17,
    "start_time": "2023-07-27T23:19:08.643Z"
   },
   {
    "duration": 14,
    "start_time": "2023-07-27T23:19:09.584Z"
   },
   {
    "duration": 5,
    "start_time": "2023-07-27T23:19:10.131Z"
   },
   {
    "duration": 12,
    "start_time": "2023-07-27T23:19:10.823Z"
   },
   {
    "duration": 12,
    "start_time": "2023-07-27T23:19:11.633Z"
   },
   {
    "duration": 8,
    "start_time": "2023-07-27T23:19:12.101Z"
   },
   {
    "duration": 6,
    "start_time": "2023-07-27T23:19:14.761Z"
   },
   {
    "duration": 26,
    "start_time": "2023-07-27T23:19:15.353Z"
   },
   {
    "duration": 5,
    "start_time": "2023-07-27T23:19:15.834Z"
   },
   {
    "duration": 2815,
    "start_time": "2023-07-27T23:19:16.508Z"
   },
   {
    "duration": 11,
    "start_time": "2023-07-27T23:19:19.325Z"
   },
   {
    "duration": 5,
    "start_time": "2023-07-27T23:19:19.338Z"
   },
   {
    "duration": 9,
    "start_time": "2023-07-27T23:19:19.627Z"
   },
   {
    "duration": 41,
    "start_time": "2023-07-27T23:19:21.640Z"
   },
   {
    "duration": 10718,
    "start_time": "2023-07-27T23:19:31.858Z"
   },
   {
    "duration": 34,
    "start_time": "2023-07-27T23:20:11.805Z"
   },
   {
    "duration": 10476,
    "start_time": "2023-07-27T23:20:31.699Z"
   },
   {
    "duration": 110,
    "start_time": "2023-07-27T23:20:59.267Z"
   },
   {
    "duration": 107,
    "start_time": "2023-07-27T23:21:16.784Z"
   },
   {
    "duration": 10360,
    "start_time": "2023-07-27T23:21:30.223Z"
   },
   {
    "duration": 10509,
    "start_time": "2023-07-27T23:22:18.879Z"
   },
   {
    "duration": 103406,
    "start_time": "2023-07-27T23:23:36.609Z"
   },
   {
    "duration": 270,
    "start_time": "2023-07-27T23:26:43.526Z"
   },
   {
    "duration": 1587,
    "start_time": "2023-07-29T17:53:55.783Z"
   },
   {
    "duration": 81,
    "start_time": "2023-07-29T17:53:57.373Z"
   },
   {
    "duration": 6,
    "start_time": "2023-07-29T17:53:57.456Z"
   },
   {
    "duration": 47,
    "start_time": "2023-07-29T17:53:57.464Z"
   },
   {
    "duration": 13,
    "start_time": "2023-07-29T17:53:57.512Z"
   },
   {
    "duration": 33,
    "start_time": "2023-07-29T17:53:57.526Z"
   },
   {
    "duration": 15,
    "start_time": "2023-07-29T17:53:57.561Z"
   },
   {
    "duration": 5,
    "start_time": "2023-07-29T17:53:57.578Z"
   },
   {
    "duration": 12,
    "start_time": "2023-07-29T17:53:57.585Z"
   },
   {
    "duration": 18,
    "start_time": "2023-07-29T17:53:57.601Z"
   },
   {
    "duration": 37,
    "start_time": "2023-07-29T17:53:57.620Z"
   },
   {
    "duration": 12,
    "start_time": "2023-07-29T17:53:57.659Z"
   },
   {
    "duration": 32,
    "start_time": "2023-07-29T17:53:57.673Z"
   },
   {
    "duration": 5,
    "start_time": "2023-07-29T17:53:57.707Z"
   },
   {
    "duration": 3022,
    "start_time": "2023-07-29T17:53:57.713Z"
   },
   {
    "duration": 20,
    "start_time": "2023-07-29T17:54:00.737Z"
   },
   {
    "duration": 32,
    "start_time": "2023-07-29T17:54:00.759Z"
   },
   {
    "duration": 40,
    "start_time": "2023-07-29T17:54:00.793Z"
   },
   {
    "duration": 88,
    "start_time": "2023-07-29T17:54:00.835Z"
   },
   {
    "duration": 10636,
    "start_time": "2023-07-29T17:54:00.925Z"
   },
   {
    "duration": 105936,
    "start_time": "2023-07-29T17:54:11.563Z"
   },
   {
    "duration": 260,
    "start_time": "2023-07-29T17:55:57.502Z"
   },
   {
    "duration": 10725,
    "start_time": "2023-07-29T17:55:57.764Z"
   },
   {
    "duration": 158509,
    "start_time": "2023-07-29T17:56:08.492Z"
   },
   {
    "duration": 118,
    "start_time": "2023-07-29T17:58:47.003Z"
   },
   {
    "duration": 0,
    "start_time": "2023-07-29T17:58:47.123Z"
   },
   {
    "duration": 35,
    "start_time": "2023-07-29T17:59:08.867Z"
   },
   {
    "duration": 111,
    "start_time": "2023-07-31T11:42:06.585Z"
   },
   {
    "duration": 7,
    "start_time": "2023-07-31T12:13:22.229Z"
   },
   {
    "duration": 1501,
    "start_time": "2023-07-31T13:23:59.757Z"
   },
   {
    "duration": 82,
    "start_time": "2023-07-31T13:24:01.260Z"
   },
   {
    "duration": 5,
    "start_time": "2023-07-31T13:24:01.343Z"
   },
   {
    "duration": 87,
    "start_time": "2023-07-31T13:24:01.349Z"
   },
   {
    "duration": 54,
    "start_time": "2023-07-31T13:24:01.437Z"
   },
   {
    "duration": 55,
    "start_time": "2023-07-31T13:24:01.493Z"
   },
   {
    "duration": 36,
    "start_time": "2023-07-31T13:24:01.550Z"
   },
   {
    "duration": 35,
    "start_time": "2023-07-31T13:24:01.588Z"
   },
   {
    "duration": 50,
    "start_time": "2023-07-31T13:24:01.625Z"
   },
   {
    "duration": 87,
    "start_time": "2023-07-31T13:24:01.676Z"
   },
   {
    "duration": 34,
    "start_time": "2023-07-31T13:24:01.765Z"
   },
   {
    "duration": 129,
    "start_time": "2023-07-31T13:24:01.800Z"
   },
   {
    "duration": 118,
    "start_time": "2023-07-31T13:24:01.930Z"
   },
   {
    "duration": 31,
    "start_time": "2023-07-31T13:24:02.052Z"
   },
   {
    "duration": 2239,
    "start_time": "2023-07-31T13:24:02.084Z"
   },
   {
    "duration": 13,
    "start_time": "2023-07-31T13:24:04.325Z"
   },
   {
    "duration": 9,
    "start_time": "2023-07-31T13:24:04.340Z"
   },
   {
    "duration": 33,
    "start_time": "2023-07-31T13:24:04.351Z"
   },
   {
    "duration": 56,
    "start_time": "2023-07-31T13:24:04.386Z"
   },
   {
    "duration": 10626,
    "start_time": "2023-07-31T13:24:04.444Z"
   },
   {
    "duration": 100458,
    "start_time": "2023-07-31T13:24:15.072Z"
   },
   {
    "duration": 168,
    "start_time": "2023-07-31T13:25:55.532Z"
   },
   {
    "duration": 10195,
    "start_time": "2023-07-31T13:25:55.704Z"
   },
   {
    "duration": 148178,
    "start_time": "2023-07-31T13:26:05.901Z"
   },
   {
    "duration": 139,
    "start_time": "2023-07-31T13:28:34.081Z"
   },
   {
    "duration": 0,
    "start_time": "2023-07-31T13:28:34.221Z"
   },
   {
    "duration": 5,
    "start_time": "2023-07-31T13:54:34.495Z"
   },
   {
    "duration": 5,
    "start_time": "2023-07-31T13:54:35.145Z"
   },
   {
    "duration": 1512,
    "start_time": "2023-07-31T13:55:58.359Z"
   },
   {
    "duration": 64,
    "start_time": "2023-07-31T13:56:00.397Z"
   },
   {
    "duration": 6,
    "start_time": "2023-07-31T13:56:01.027Z"
   },
   {
    "duration": 53,
    "start_time": "2023-07-31T13:56:03.015Z"
   },
   {
    "duration": 17,
    "start_time": "2023-07-31T13:56:04.621Z"
   },
   {
    "duration": 19,
    "start_time": "2023-07-31T13:56:05.631Z"
   },
   {
    "duration": 16,
    "start_time": "2023-07-31T13:56:06.979Z"
   },
   {
    "duration": 6,
    "start_time": "2023-07-31T13:56:12.031Z"
   },
   {
    "duration": 14,
    "start_time": "2023-07-31T13:56:13.515Z"
   },
   {
    "duration": 12,
    "start_time": "2023-07-31T13:56:18.772Z"
   },
   {
    "duration": 8,
    "start_time": "2023-07-31T13:56:20.082Z"
   },
   {
    "duration": 5,
    "start_time": "2023-07-31T13:56:24.197Z"
   },
   {
    "duration": 20,
    "start_time": "2023-07-31T13:56:30.027Z"
   },
   {
    "duration": 7,
    "start_time": "2023-07-31T13:56:43.851Z"
   },
   {
    "duration": 3331,
    "start_time": "2023-07-31T13:56:54.073Z"
   },
   {
    "duration": 3411,
    "start_time": "2023-07-31T13:57:01.816Z"
   },
   {
    "duration": 12,
    "start_time": "2023-07-31T13:57:10.135Z"
   },
   {
    "duration": 6,
    "start_time": "2023-07-31T13:57:12.260Z"
   },
   {
    "duration": 8,
    "start_time": "2023-07-31T13:57:13.774Z"
   },
   {
    "duration": 5,
    "start_time": "2023-07-31T13:57:14.611Z"
   },
   {
    "duration": 70,
    "start_time": "2023-07-31T13:57:16.085Z"
   },
   {
    "duration": 36,
    "start_time": "2023-07-31T13:57:21.160Z"
   },
   {
    "duration": 4,
    "start_time": "2023-07-31T13:57:31.594Z"
   },
   {
    "duration": 63,
    "start_time": "2023-07-31T14:05:00.714Z"
   },
   {
    "duration": 4,
    "start_time": "2023-07-31T14:05:09.262Z"
   },
   {
    "duration": 11120,
    "start_time": "2023-07-31T14:05:12.358Z"
   },
   {
    "duration": 108168,
    "start_time": "2023-07-31T14:07:22.489Z"
   },
   {
    "duration": 12,
    "start_time": "2023-07-31T14:14:42.772Z"
   },
   {
    "duration": 107,
    "start_time": "2023-07-31T14:22:12.303Z"
   },
   {
    "duration": 5,
    "start_time": "2023-07-31T14:22:35.088Z"
   },
   {
    "duration": 151,
    "start_time": "2023-07-31T14:23:49.650Z"
   },
   {
    "duration": 61,
    "start_time": "2023-07-31T14:28:22.430Z"
   },
   {
    "duration": 1373,
    "start_time": "2023-07-31T14:28:38.834Z"
   },
   {
    "duration": 141,
    "start_time": "2023-07-31T14:28:40.210Z"
   },
   {
    "duration": 113,
    "start_time": "2023-07-31T14:30:13.983Z"
   },
   {
    "duration": 51,
    "start_time": "2023-07-31T14:32:31.963Z"
   },
   {
    "duration": 51,
    "start_time": "2023-07-31T14:32:43.041Z"
   },
   {
    "duration": 115,
    "start_time": "2023-07-31T14:32:53.352Z"
   },
   {
    "duration": 403,
    "start_time": "2023-07-31T14:59:26.197Z"
   },
   {
    "duration": 61,
    "start_time": "2023-07-31T14:59:27.598Z"
   },
   {
    "duration": 105,
    "start_time": "2023-07-31T14:59:28.663Z"
   },
   {
    "duration": 9,
    "start_time": "2023-07-31T14:59:30.431Z"
   },
   {
    "duration": 1424,
    "start_time": "2023-07-31T14:59:56.658Z"
   },
   {
    "duration": 50,
    "start_time": "2023-07-31T14:59:58.084Z"
   },
   {
    "duration": 6,
    "start_time": "2023-07-31T14:59:58.136Z"
   },
   {
    "duration": 68,
    "start_time": "2023-07-31T14:59:58.143Z"
   },
   {
    "duration": 12,
    "start_time": "2023-07-31T14:59:58.214Z"
   },
   {
    "duration": 20,
    "start_time": "2023-07-31T14:59:58.228Z"
   },
   {
    "duration": 10,
    "start_time": "2023-07-31T14:59:58.249Z"
   },
   {
    "duration": 8,
    "start_time": "2023-07-31T14:59:58.260Z"
   },
   {
    "duration": 22,
    "start_time": "2023-07-31T14:59:58.270Z"
   },
   {
    "duration": 29,
    "start_time": "2023-07-31T14:59:58.294Z"
   },
   {
    "duration": 17,
    "start_time": "2023-07-31T14:59:58.324Z"
   },
   {
    "duration": 16,
    "start_time": "2023-07-31T14:59:58.342Z"
   },
   {
    "duration": 28,
    "start_time": "2023-07-31T14:59:58.359Z"
   },
   {
    "duration": 16,
    "start_time": "2023-07-31T14:59:58.389Z"
   },
   {
    "duration": 2249,
    "start_time": "2023-07-31T14:59:58.406Z"
   },
   {
    "duration": 9,
    "start_time": "2023-07-31T15:00:00.657Z"
   },
   {
    "duration": 38,
    "start_time": "2023-07-31T15:00:00.667Z"
   },
   {
    "duration": 42,
    "start_time": "2023-07-31T15:00:00.710Z"
   },
   {
    "duration": 59,
    "start_time": "2023-07-31T15:00:00.753Z"
   },
   {
    "duration": 100,
    "start_time": "2023-07-31T15:00:00.814Z"
   },
   {
    "duration": 405,
    "start_time": "2023-07-31T15:00:00.916Z"
   },
   {
    "duration": 210,
    "start_time": "2023-07-31T15:00:01.405Z"
   },
   {
    "duration": 0,
    "start_time": "2023-07-31T15:00:01.616Z"
   },
   {
    "duration": 0,
    "start_time": "2023-07-31T15:00:01.617Z"
   },
   {
    "duration": 11,
    "start_time": "2023-07-31T15:00:34.415Z"
   },
   {
    "duration": 143,
    "start_time": "2023-07-31T15:00:52.267Z"
   },
   {
    "duration": 9,
    "start_time": "2023-07-31T15:00:53.131Z"
   },
   {
    "duration": 155,
    "start_time": "2023-07-31T15:01:06.954Z"
   },
   {
    "duration": 9,
    "start_time": "2023-07-31T15:01:07.365Z"
   },
   {
    "duration": 111,
    "start_time": "2023-07-31T15:01:09.960Z"
   },
   {
    "duration": 32,
    "start_time": "2023-07-31T15:01:44.039Z"
   },
   {
    "duration": 37,
    "start_time": "2023-07-31T15:01:49.636Z"
   },
   {
    "duration": 125,
    "start_time": "2023-07-31T15:01:52.883Z"
   },
   {
    "duration": 9,
    "start_time": "2023-07-31T15:01:55.687Z"
   },
   {
    "duration": 99,
    "start_time": "2023-07-31T15:01:57.083Z"
   },
   {
    "duration": 106,
    "start_time": "2023-07-31T15:02:35.419Z"
   },
   {
    "duration": 232,
    "start_time": "2023-07-31T15:03:01.371Z"
   },
   {
    "duration": 19,
    "start_time": "2023-07-31T15:03:03.796Z"
   },
   {
    "duration": 105,
    "start_time": "2023-07-31T15:03:04.390Z"
   },
   {
    "duration": 442,
    "start_time": "2023-07-31T15:03:05.379Z"
   },
   {
    "duration": 50,
    "start_time": "2023-07-31T15:06:57.770Z"
   },
   {
    "duration": 11,
    "start_time": "2023-07-31T15:07:00.044Z"
   },
   {
    "duration": 104,
    "start_time": "2023-07-31T15:07:01.013Z"
   },
   {
    "duration": 34,
    "start_time": "2023-07-31T15:19:25.720Z"
   },
   {
    "duration": 756,
    "start_time": "2023-07-31T18:25:24.567Z"
   },
   {
    "duration": 12,
    "start_time": "2023-07-31T18:26:07.268Z"
   },
   {
    "duration": 39,
    "start_time": "2023-07-31T18:28:51.874Z"
   },
   {
    "duration": 457,
    "start_time": "2023-07-31T18:42:09.609Z"
   },
   {
    "duration": 462,
    "start_time": "2023-07-31T18:43:39.658Z"
   },
   {
    "duration": 1303,
    "start_time": "2023-07-31T18:44:28.971Z"
   },
   {
    "duration": 48,
    "start_time": "2023-07-31T18:44:30.276Z"
   },
   {
    "duration": 5,
    "start_time": "2023-07-31T18:44:30.325Z"
   },
   {
    "duration": 79,
    "start_time": "2023-07-31T18:44:30.331Z"
   },
   {
    "duration": 10,
    "start_time": "2023-07-31T18:44:30.412Z"
   },
   {
    "duration": 54,
    "start_time": "2023-07-31T18:44:30.423Z"
   },
   {
    "duration": 69,
    "start_time": "2023-07-31T18:44:30.478Z"
   },
   {
    "duration": 60,
    "start_time": "2023-07-31T18:44:30.549Z"
   },
   {
    "duration": 44,
    "start_time": "2023-07-31T18:44:30.611Z"
   },
   {
    "duration": 35,
    "start_time": "2023-07-31T18:44:30.657Z"
   },
   {
    "duration": 21,
    "start_time": "2023-07-31T18:44:30.694Z"
   },
   {
    "duration": 32,
    "start_time": "2023-07-31T18:44:30.717Z"
   },
   {
    "duration": 55,
    "start_time": "2023-07-31T18:44:30.750Z"
   },
   {
    "duration": 55,
    "start_time": "2023-07-31T18:44:30.807Z"
   },
   {
    "duration": 54,
    "start_time": "2023-07-31T18:44:30.864Z"
   },
   {
    "duration": 30,
    "start_time": "2023-07-31T18:44:30.919Z"
   },
   {
    "duration": 27,
    "start_time": "2023-07-31T18:44:30.950Z"
   },
   {
    "duration": 422,
    "start_time": "2023-07-31T18:44:30.979Z"
   },
   {
    "duration": 104,
    "start_time": "2023-07-31T18:44:31.404Z"
   },
   {
    "duration": 545,
    "start_time": "2023-07-31T18:44:31.600Z"
   },
   {
    "duration": 361,
    "start_time": "2023-07-31T18:44:32.147Z"
   },
   {
    "duration": 96,
    "start_time": "2023-07-31T18:44:32.509Z"
   },
   {
    "duration": 629,
    "start_time": "2023-07-31T18:44:32.607Z"
   },
   {
    "duration": 16641,
    "start_time": "2023-07-31T18:49:30.363Z"
   },
   {
    "duration": 17070,
    "start_time": "2023-07-31T18:50:10.530Z"
   },
   {
    "duration": 323,
    "start_time": "2023-07-31T18:57:06.305Z"
   },
   {
    "duration": 9,
    "start_time": "2023-07-31T19:02:21.466Z"
   },
   {
    "duration": 44,
    "start_time": "2023-07-31T19:02:44.451Z"
   },
   {
    "duration": 1256,
    "start_time": "2023-07-31T19:03:09.951Z"
   },
   {
    "duration": 41,
    "start_time": "2023-07-31T19:03:12.922Z"
   },
   {
    "duration": 5,
    "start_time": "2023-07-31T19:03:13.992Z"
   },
   {
    "duration": 40,
    "start_time": "2023-07-31T19:03:15.400Z"
   },
   {
    "duration": 11,
    "start_time": "2023-07-31T19:03:16.314Z"
   },
   {
    "duration": 14,
    "start_time": "2023-07-31T19:03:17.355Z"
   },
   {
    "duration": 12,
    "start_time": "2023-07-31T19:03:18.220Z"
   },
   {
    "duration": 5,
    "start_time": "2023-07-31T19:03:20.170Z"
   },
   {
    "duration": 11,
    "start_time": "2023-07-31T19:03:22.170Z"
   },
   {
    "duration": 14,
    "start_time": "2023-07-31T19:03:26.096Z"
   },
   {
    "duration": 7,
    "start_time": "2023-07-31T19:03:26.733Z"
   },
   {
    "duration": 4,
    "start_time": "2023-07-31T19:03:29.255Z"
   },
   {
    "duration": 19,
    "start_time": "2023-07-31T19:03:31.423Z"
   },
   {
    "duration": 4,
    "start_time": "2023-07-31T19:03:35.513Z"
   },
   {
    "duration": 9,
    "start_time": "2023-07-31T19:03:44.117Z"
   },
   {
    "duration": 6,
    "start_time": "2023-07-31T19:03:44.796Z"
   },
   {
    "duration": 8,
    "start_time": "2023-07-31T19:03:50.675Z"
   },
   {
    "duration": 257,
    "start_time": "2023-07-31T19:03:54.851Z"
   },
   {
    "duration": 495,
    "start_time": "2023-07-31T19:04:14.205Z"
   },
   {
    "duration": 12,
    "start_time": "2023-07-31T19:04:20.311Z"
   },
   {
    "duration": 303,
    "start_time": "2023-07-31T19:04:32.999Z"
   },
   {
    "duration": 11,
    "start_time": "2023-07-31T19:04:34.704Z"
   },
   {
    "duration": 448,
    "start_time": "2023-07-31T19:04:37.513Z"
   },
   {
    "duration": 9,
    "start_time": "2023-07-31T19:04:41.520Z"
   },
   {
    "duration": 16672,
    "start_time": "2023-07-31T19:04:43.901Z"
   },
   {
    "duration": 44,
    "start_time": "2023-07-31T19:05:08.563Z"
   },
   {
    "duration": 387,
    "start_time": "2023-07-31T19:05:19.314Z"
   },
   {
    "duration": 9,
    "start_time": "2023-07-31T19:05:32.859Z"
   },
   {
    "duration": 456,
    "start_time": "2023-07-31T19:05:38.559Z"
   },
   {
    "duration": 11,
    "start_time": "2023-07-31T19:09:59.891Z"
   },
   {
    "duration": 501,
    "start_time": "2023-07-31T19:12:31.503Z"
   },
   {
    "duration": 9,
    "start_time": "2023-07-31T19:12:47.717Z"
   },
   {
    "duration": 1312,
    "start_time": "2023-07-31T23:12:23.141Z"
   },
   {
    "duration": 41,
    "start_time": "2023-07-31T23:12:24.455Z"
   },
   {
    "duration": 5,
    "start_time": "2023-07-31T23:12:24.497Z"
   },
   {
    "duration": 41,
    "start_time": "2023-07-31T23:12:24.503Z"
   },
   {
    "duration": 11,
    "start_time": "2023-07-31T23:12:24.546Z"
   },
   {
    "duration": 16,
    "start_time": "2023-07-31T23:12:24.558Z"
   },
   {
    "duration": 25,
    "start_time": "2023-07-31T23:12:24.575Z"
   },
   {
    "duration": 5,
    "start_time": "2023-07-31T23:12:24.601Z"
   },
   {
    "duration": 15,
    "start_time": "2023-07-31T23:12:24.607Z"
   },
   {
    "duration": 10,
    "start_time": "2023-07-31T23:12:24.623Z"
   },
   {
    "duration": 6,
    "start_time": "2023-07-31T23:12:24.634Z"
   },
   {
    "duration": 4,
    "start_time": "2023-07-31T23:12:24.641Z"
   },
   {
    "duration": 20,
    "start_time": "2023-07-31T23:12:24.646Z"
   },
   {
    "duration": 3,
    "start_time": "2023-07-31T23:12:24.668Z"
   },
   {
    "duration": 34,
    "start_time": "2023-07-31T23:12:24.672Z"
   },
   {
    "duration": 4,
    "start_time": "2023-07-31T23:12:24.707Z"
   },
   {
    "duration": 7,
    "start_time": "2023-07-31T23:12:24.713Z"
   },
   {
    "duration": 381,
    "start_time": "2023-07-31T23:12:24.721Z"
   },
   {
    "duration": 195,
    "start_time": "2023-07-31T23:12:25.104Z"
   },
   {
    "duration": 470,
    "start_time": "2023-07-31T23:12:25.300Z"
   },
   {
    "duration": 8,
    "start_time": "2023-07-31T23:12:25.771Z"
   },
   {
    "duration": 16363,
    "start_time": "2023-07-31T23:12:25.780Z"
   },
   {
    "duration": 43,
    "start_time": "2023-07-31T23:12:42.144Z"
   },
   {
    "duration": 18,
    "start_time": "2023-07-31T23:12:42.189Z"
   },
   {
    "duration": 391,
    "start_time": "2023-07-31T23:12:42.208Z"
   },
   {
    "duration": 100,
    "start_time": "2023-07-31T23:12:42.601Z"
   },
   {
    "duration": 217,
    "start_time": "2023-07-31T23:12:42.702Z"
   },
   {
    "duration": 0,
    "start_time": "2023-07-31T23:12:42.921Z"
   },
   {
    "duration": 569,
    "start_time": "2023-07-31T23:20:30.289Z"
   },
   {
    "duration": 22462,
    "start_time": "2023-07-31T23:21:17.311Z"
   },
   {
    "duration": 707,
    "start_time": "2023-07-31T23:24:09.111Z"
   },
   {
    "duration": 532,
    "start_time": "2023-07-31T23:24:48.925Z"
   },
   {
    "duration": 749,
    "start_time": "2023-07-31T23:25:09.927Z"
   },
   {
    "duration": 678,
    "start_time": "2023-07-31T23:25:25.834Z"
   },
   {
    "duration": 536,
    "start_time": "2023-07-31T23:25:37.165Z"
   },
   {
    "duration": 319,
    "start_time": "2023-07-31T23:25:55.581Z"
   },
   {
    "duration": 11,
    "start_time": "2023-07-31T23:26:04.041Z"
   },
   {
    "duration": 558,
    "start_time": "2023-07-31T23:26:58.997Z"
   },
   {
    "duration": 12,
    "start_time": "2023-07-31T23:31:18.956Z"
   },
   {
    "duration": 372,
    "start_time": "2023-07-31T23:33:10.736Z"
   },
   {
    "duration": 505,
    "start_time": "2023-07-31T23:34:32.798Z"
   },
   {
    "duration": 348,
    "start_time": "2023-07-31T23:34:51.859Z"
   },
   {
    "duration": 587,
    "start_time": "2023-07-31T23:36:00.118Z"
   },
   {
    "duration": 20,
    "start_time": "2023-07-31T23:36:54.212Z"
   },
   {
    "duration": 16,
    "start_time": "2023-07-31T23:37:21.261Z"
   },
   {
    "duration": 3,
    "start_time": "2023-07-31T23:37:30.398Z"
   },
   {
    "duration": 356,
    "start_time": "2023-07-31T23:37:31.450Z"
   },
   {
    "duration": 583,
    "start_time": "2023-07-31T23:37:34.209Z"
   },
   {
    "duration": 1315,
    "start_time": "2023-07-31T23:38:11.035Z"
   },
   {
    "duration": 49,
    "start_time": "2023-07-31T23:38:12.352Z"
   },
   {
    "duration": 5,
    "start_time": "2023-07-31T23:38:12.402Z"
   },
   {
    "duration": 39,
    "start_time": "2023-07-31T23:38:12.409Z"
   },
   {
    "duration": 11,
    "start_time": "2023-07-31T23:38:12.451Z"
   },
   {
    "duration": 17,
    "start_time": "2023-07-31T23:38:12.464Z"
   },
   {
    "duration": 26,
    "start_time": "2023-07-31T23:38:12.482Z"
   },
   {
    "duration": 5,
    "start_time": "2023-07-31T23:38:12.509Z"
   },
   {
    "duration": 12,
    "start_time": "2023-07-31T23:38:12.515Z"
   },
   {
    "duration": 10,
    "start_time": "2023-07-31T23:38:12.529Z"
   },
   {
    "duration": 6,
    "start_time": "2023-07-31T23:38:12.540Z"
   },
   {
    "duration": 6,
    "start_time": "2023-07-31T23:38:12.547Z"
   },
   {
    "duration": 21,
    "start_time": "2023-07-31T23:38:12.555Z"
   },
   {
    "duration": 4,
    "start_time": "2023-07-31T23:38:12.601Z"
   },
   {
    "duration": 17,
    "start_time": "2023-07-31T23:38:12.606Z"
   },
   {
    "duration": 7,
    "start_time": "2023-07-31T23:38:12.624Z"
   },
   {
    "duration": 7,
    "start_time": "2023-07-31T23:38:12.632Z"
   },
   {
    "duration": 360,
    "start_time": "2023-07-31T23:38:12.641Z"
   },
   {
    "duration": 98,
    "start_time": "2023-07-31T23:38:13.003Z"
   },
   {
    "duration": 605,
    "start_time": "2023-07-31T23:38:13.102Z"
   },
   {
    "duration": 8,
    "start_time": "2023-07-31T23:38:13.708Z"
   },
   {
    "duration": 16786,
    "start_time": "2023-07-31T23:38:13.717Z"
   },
   {
    "duration": 44,
    "start_time": "2023-07-31T23:38:30.505Z"
   },
   {
    "duration": 29,
    "start_time": "2023-07-31T23:38:30.551Z"
   },
   {
    "duration": 517,
    "start_time": "2023-07-31T23:38:30.582Z"
   },
   {
    "duration": 101,
    "start_time": "2023-07-31T23:38:31.101Z"
   },
   {
    "duration": 697,
    "start_time": "2023-07-31T23:38:31.210Z"
   },
   {
    "duration": 23265,
    "start_time": "2023-07-31T23:38:31.909Z"
   },
   {
    "duration": 4,
    "start_time": "2023-07-31T23:38:55.176Z"
   },
   {
    "duration": 607,
    "start_time": "2023-07-31T23:38:55.181Z"
   },
   {
    "duration": 471,
    "start_time": "2023-07-31T23:38:55.789Z"
   },
   {
    "duration": 11,
    "start_time": "2023-07-31T23:42:21.046Z"
   },
   {
    "duration": 382,
    "start_time": "2023-07-31T23:42:23.018Z"
   },
   {
    "duration": 310,
    "start_time": "2023-07-31T23:42:40.081Z"
   },
   {
    "duration": 11883,
    "start_time": "2023-07-31T23:44:25.891Z"
   },
   {
    "duration": 10,
    "start_time": "2023-07-31T23:53:52.921Z"
   },
   {
    "duration": 373,
    "start_time": "2023-07-31T23:54:24.663Z"
   },
   {
    "duration": 374,
    "start_time": "2023-07-31T23:55:20.651Z"
   },
   {
    "duration": 412,
    "start_time": "2023-07-31T23:55:53.338Z"
   },
   {
    "duration": 12076,
    "start_time": "2023-07-31T23:56:04.601Z"
   },
   {
    "duration": 393,
    "start_time": "2023-07-31T23:56:21.687Z"
   },
   {
    "duration": 1287,
    "start_time": "2023-07-31T23:57:26.350Z"
   },
   {
    "duration": 41,
    "start_time": "2023-07-31T23:57:27.639Z"
   },
   {
    "duration": 6,
    "start_time": "2023-07-31T23:57:27.681Z"
   },
   {
    "duration": 43,
    "start_time": "2023-07-31T23:57:27.688Z"
   },
   {
    "duration": 11,
    "start_time": "2023-07-31T23:57:27.734Z"
   },
   {
    "duration": 18,
    "start_time": "2023-07-31T23:57:27.747Z"
   },
   {
    "duration": 16,
    "start_time": "2023-07-31T23:57:27.767Z"
   },
   {
    "duration": 28,
    "start_time": "2023-07-31T23:57:27.784Z"
   },
   {
    "duration": 84,
    "start_time": "2023-07-31T23:57:27.814Z"
   },
   {
    "duration": 21,
    "start_time": "2023-07-31T23:57:27.900Z"
   },
   {
    "duration": 7,
    "start_time": "2023-07-31T23:57:27.923Z"
   },
   {
    "duration": 6,
    "start_time": "2023-07-31T23:57:27.932Z"
   },
   {
    "duration": 20,
    "start_time": "2023-07-31T23:57:27.939Z"
   },
   {
    "duration": 4,
    "start_time": "2023-07-31T23:57:27.962Z"
   },
   {
    "duration": 12,
    "start_time": "2023-07-31T23:57:27.967Z"
   },
   {
    "duration": 22,
    "start_time": "2023-07-31T23:57:27.980Z"
   },
   {
    "duration": 10,
    "start_time": "2023-07-31T23:57:28.004Z"
   },
   {
    "duration": 789,
    "start_time": "2023-07-31T23:57:28.015Z"
   },
   {
    "duration": 102,
    "start_time": "2023-07-31T23:57:28.806Z"
   },
   {
    "duration": 672,
    "start_time": "2023-07-31T23:57:28.910Z"
   },
   {
    "duration": 19,
    "start_time": "2023-07-31T23:57:29.584Z"
   },
   {
    "duration": 17046,
    "start_time": "2023-07-31T23:57:29.604Z"
   },
   {
    "duration": 51,
    "start_time": "2023-07-31T23:57:46.652Z"
   },
   {
    "duration": 11,
    "start_time": "2023-07-31T23:57:46.705Z"
   },
   {
    "duration": 485,
    "start_time": "2023-07-31T23:57:46.718Z"
   },
   {
    "duration": 102,
    "start_time": "2023-07-31T23:57:47.205Z"
   },
   {
    "duration": 739,
    "start_time": "2023-07-31T23:57:47.308Z"
   },
   {
    "duration": 23111,
    "start_time": "2023-07-31T23:57:48.049Z"
   },
   {
    "duration": 11,
    "start_time": "2023-07-31T23:58:11.162Z"
   },
   {
    "duration": 729,
    "start_time": "2023-07-31T23:58:11.174Z"
   },
   {
    "duration": 469,
    "start_time": "2023-07-31T23:58:11.905Z"
   },
   {
    "duration": 11829,
    "start_time": "2023-07-31T23:58:12.375Z"
   },
   {
    "duration": 375,
    "start_time": "2023-07-31T23:58:24.206Z"
   },
   {
    "duration": 374,
    "start_time": "2023-08-01T00:00:16.981Z"
   },
   {
    "duration": 48,
    "start_time": "2023-08-01T01:36:27.200Z"
   },
   {
    "duration": 1591,
    "start_time": "2023-08-01T01:36:36.323Z"
   },
   {
    "duration": 92,
    "start_time": "2023-08-01T01:36:37.917Z"
   },
   {
    "duration": 5,
    "start_time": "2023-08-01T01:36:38.011Z"
   },
   {
    "duration": 45,
    "start_time": "2023-08-01T01:36:38.017Z"
   },
   {
    "duration": 12,
    "start_time": "2023-08-01T01:36:38.064Z"
   },
   {
    "duration": 23,
    "start_time": "2023-08-01T01:36:38.078Z"
   },
   {
    "duration": 13,
    "start_time": "2023-08-01T01:36:38.102Z"
   },
   {
    "duration": 4,
    "start_time": "2023-08-01T01:36:38.117Z"
   },
   {
    "duration": 22,
    "start_time": "2023-08-01T01:36:38.122Z"
   },
   {
    "duration": 20,
    "start_time": "2023-08-01T01:36:38.146Z"
   },
   {
    "duration": 7,
    "start_time": "2023-08-01T01:36:38.168Z"
   },
   {
    "duration": 9,
    "start_time": "2023-08-01T01:36:38.177Z"
   },
   {
    "duration": 28,
    "start_time": "2023-08-01T01:36:38.192Z"
   },
   {
    "duration": 4,
    "start_time": "2023-08-01T01:36:38.223Z"
   },
   {
    "duration": 14,
    "start_time": "2023-08-01T01:36:38.228Z"
   },
   {
    "duration": 5,
    "start_time": "2023-08-01T01:36:38.244Z"
   },
   {
    "duration": 7,
    "start_time": "2023-08-01T01:36:38.250Z"
   },
   {
    "duration": 1751,
    "start_time": "2023-08-01T01:36:38.258Z"
   },
   {
    "duration": 180,
    "start_time": "2023-08-01T01:36:40.011Z"
   },
   {
    "duration": 567,
    "start_time": "2023-08-01T01:36:40.199Z"
   },
   {
    "duration": 9,
    "start_time": "2023-08-01T01:36:40.768Z"
   },
   {
    "duration": 17830,
    "start_time": "2023-08-01T01:36:40.787Z"
   },
   {
    "duration": 58,
    "start_time": "2023-08-01T01:36:58.619Z"
   },
   {
    "duration": 15,
    "start_time": "2023-08-01T01:36:58.688Z"
   },
   {
    "duration": 1799,
    "start_time": "2023-08-01T01:36:58.706Z"
   },
   {
    "duration": 102,
    "start_time": "2023-08-01T01:37:00.507Z"
   },
   {
    "duration": 754,
    "start_time": "2023-08-01T01:37:00.611Z"
   },
   {
    "duration": 24091,
    "start_time": "2023-08-01T01:37:01.367Z"
   },
   {
    "duration": 11,
    "start_time": "2023-08-01T01:37:25.459Z"
   },
   {
    "duration": 1629,
    "start_time": "2023-08-01T01:37:25.472Z"
   },
   {
    "duration": 481,
    "start_time": "2023-08-01T01:37:27.103Z"
   },
   {
    "duration": 12613,
    "start_time": "2023-08-01T01:37:27.586Z"
   },
   {
    "duration": 503,
    "start_time": "2023-08-01T01:37:40.200Z"
   },
   {
    "duration": 402,
    "start_time": "2023-08-01T01:37:57.202Z"
   },
   {
    "duration": 448,
    "start_time": "2023-08-01T01:45:00.771Z"
   },
   {
    "duration": 1566,
    "start_time": "2023-08-01T01:49:52.638Z"
   },
   {
    "duration": 42,
    "start_time": "2023-08-01T01:49:54.206Z"
   },
   {
    "duration": 5,
    "start_time": "2023-08-01T01:49:54.250Z"
   },
   {
    "duration": 64,
    "start_time": "2023-08-01T01:49:54.257Z"
   },
   {
    "duration": 13,
    "start_time": "2023-08-01T01:49:54.324Z"
   },
   {
    "duration": 45,
    "start_time": "2023-08-01T01:49:54.338Z"
   },
   {
    "duration": 40,
    "start_time": "2023-08-01T01:49:54.385Z"
   },
   {
    "duration": 26,
    "start_time": "2023-08-01T01:49:54.427Z"
   },
   {
    "duration": 32,
    "start_time": "2023-08-01T01:49:54.455Z"
   },
   {
    "duration": 29,
    "start_time": "2023-08-01T01:49:54.490Z"
   },
   {
    "duration": 28,
    "start_time": "2023-08-01T01:49:54.520Z"
   },
   {
    "duration": 35,
    "start_time": "2023-08-01T01:49:54.549Z"
   },
   {
    "duration": 46,
    "start_time": "2023-08-01T01:49:54.586Z"
   },
   {
    "duration": 26,
    "start_time": "2023-08-01T01:49:54.636Z"
   },
   {
    "duration": 84,
    "start_time": "2023-08-01T01:49:54.664Z"
   },
   {
    "duration": 41,
    "start_time": "2023-08-01T01:49:54.750Z"
   },
   {
    "duration": 37,
    "start_time": "2023-08-01T01:49:54.793Z"
   },
   {
    "duration": 1870,
    "start_time": "2023-08-01T01:49:54.833Z"
   },
   {
    "duration": 103,
    "start_time": "2023-08-01T01:49:56.704Z"
   },
   {
    "duration": 671,
    "start_time": "2023-08-01T01:49:56.810Z"
   },
   {
    "duration": 11,
    "start_time": "2023-08-01T01:49:57.486Z"
   },
   {
    "duration": 18048,
    "start_time": "2023-08-01T01:49:57.501Z"
   },
   {
    "duration": 67,
    "start_time": "2023-08-01T01:50:15.551Z"
   },
   {
    "duration": 14,
    "start_time": "2023-08-01T01:50:15.620Z"
   },
   {
    "duration": 1266,
    "start_time": "2023-08-01T01:50:15.636Z"
   },
   {
    "duration": 184,
    "start_time": "2023-08-01T01:50:16.904Z"
   },
   {
    "duration": 654,
    "start_time": "2023-08-01T01:50:17.090Z"
   },
   {
    "duration": 24270,
    "start_time": "2023-08-01T01:50:17.746Z"
   },
   {
    "duration": 12,
    "start_time": "2023-08-01T01:50:42.017Z"
   },
   {
    "duration": 1962,
    "start_time": "2023-08-01T01:50:42.031Z"
   },
   {
    "duration": 506,
    "start_time": "2023-08-01T01:50:43.997Z"
   },
   {
    "duration": 12879,
    "start_time": "2023-08-01T01:50:44.505Z"
   },
   {
    "duration": 479,
    "start_time": "2023-08-01T01:50:57.385Z"
   },
   {
    "duration": 1398,
    "start_time": "2023-08-01T01:51:43.050Z"
   },
   {
    "duration": 49,
    "start_time": "2023-08-01T01:51:44.450Z"
   },
   {
    "duration": 5,
    "start_time": "2023-08-01T01:51:44.502Z"
   },
   {
    "duration": 42,
    "start_time": "2023-08-01T01:51:44.509Z"
   },
   {
    "duration": 12,
    "start_time": "2023-08-01T01:51:44.554Z"
   },
   {
    "duration": 36,
    "start_time": "2023-08-01T01:51:44.567Z"
   },
   {
    "duration": 13,
    "start_time": "2023-08-01T01:51:44.605Z"
   },
   {
    "duration": 6,
    "start_time": "2023-08-01T01:51:44.619Z"
   },
   {
    "duration": 16,
    "start_time": "2023-08-01T01:51:44.626Z"
   },
   {
    "duration": 14,
    "start_time": "2023-08-01T01:51:44.644Z"
   },
   {
    "duration": 36,
    "start_time": "2023-08-01T01:51:44.659Z"
   },
   {
    "duration": 13,
    "start_time": "2023-08-01T01:51:44.696Z"
   },
   {
    "duration": 32,
    "start_time": "2023-08-01T01:51:44.712Z"
   },
   {
    "duration": 6,
    "start_time": "2023-08-01T01:51:44.749Z"
   },
   {
    "duration": 43,
    "start_time": "2023-08-01T01:51:44.758Z"
   },
   {
    "duration": 6,
    "start_time": "2023-08-01T01:51:44.805Z"
   },
   {
    "duration": 9,
    "start_time": "2023-08-01T01:51:44.813Z"
   },
   {
    "duration": 1179,
    "start_time": "2023-08-01T01:51:44.824Z"
   },
   {
    "duration": 106,
    "start_time": "2023-08-01T01:51:46.005Z"
   },
   {
    "duration": 612,
    "start_time": "2023-08-01T01:51:46.195Z"
   },
   {
    "duration": 9,
    "start_time": "2023-08-01T01:51:46.809Z"
   },
   {
    "duration": 18001,
    "start_time": "2023-08-01T01:51:46.820Z"
   },
   {
    "duration": 88,
    "start_time": "2023-08-01T01:52:04.823Z"
   },
   {
    "duration": 16,
    "start_time": "2023-08-01T01:52:04.913Z"
   },
   {
    "duration": 1971,
    "start_time": "2023-08-01T01:52:04.930Z"
   },
   {
    "duration": 98,
    "start_time": "2023-08-01T01:52:06.903Z"
   },
   {
    "duration": 755,
    "start_time": "2023-08-01T01:52:07.003Z"
   },
   {
    "duration": 24062,
    "start_time": "2023-08-01T01:52:07.759Z"
   },
   {
    "duration": 14,
    "start_time": "2023-08-01T01:52:31.823Z"
   },
   {
    "duration": 1665,
    "start_time": "2023-08-01T01:52:31.839Z"
   },
   {
    "duration": 497,
    "start_time": "2023-08-01T01:52:33.506Z"
   },
   {
    "duration": 12846,
    "start_time": "2023-08-01T01:52:34.005Z"
   },
   {
    "duration": 492,
    "start_time": "2023-08-01T01:52:46.852Z"
   },
   {
    "duration": 1788,
    "start_time": "2023-08-01T03:14:08.035Z"
   },
   {
    "duration": 80,
    "start_time": "2023-08-01T03:14:09.825Z"
   },
   {
    "duration": 6,
    "start_time": "2023-08-01T03:14:09.907Z"
   },
   {
    "duration": 77,
    "start_time": "2023-08-01T03:14:09.914Z"
   },
   {
    "duration": 11,
    "start_time": "2023-08-01T03:14:09.992Z"
   },
   {
    "duration": 31,
    "start_time": "2023-08-01T03:14:10.004Z"
   },
   {
    "duration": 28,
    "start_time": "2023-08-01T03:14:10.037Z"
   },
   {
    "duration": 37,
    "start_time": "2023-08-01T03:14:10.067Z"
   },
   {
    "duration": 35,
    "start_time": "2023-08-01T03:14:10.105Z"
   },
   {
    "duration": 10,
    "start_time": "2023-08-01T03:14:10.143Z"
   },
   {
    "duration": 6,
    "start_time": "2023-08-01T03:14:10.154Z"
   },
   {
    "duration": 7,
    "start_time": "2023-08-01T03:14:10.162Z"
   },
   {
    "duration": 26,
    "start_time": "2023-08-01T03:14:10.170Z"
   },
   {
    "duration": 4,
    "start_time": "2023-08-01T03:14:10.197Z"
   },
   {
    "duration": 13,
    "start_time": "2023-08-01T03:14:10.202Z"
   },
   {
    "duration": 9,
    "start_time": "2023-08-01T03:14:10.217Z"
   },
   {
    "duration": 20,
    "start_time": "2023-08-01T03:14:10.227Z"
   },
   {
    "duration": 453,
    "start_time": "2023-08-01T03:14:10.248Z"
   },
   {
    "duration": 11,
    "start_time": "2023-08-01T03:14:10.702Z"
   },
   {
    "duration": 553,
    "start_time": "2023-08-01T03:14:10.800Z"
   },
   {
    "duration": 9,
    "start_time": "2023-08-01T03:14:11.354Z"
   },
   {
    "duration": 16798,
    "start_time": "2023-08-01T03:14:11.364Z"
   },
   {
    "duration": 56,
    "start_time": "2023-08-01T03:14:28.164Z"
   },
   {
    "duration": 12,
    "start_time": "2023-08-01T03:14:28.222Z"
   },
   {
    "duration": 575,
    "start_time": "2023-08-01T03:14:28.235Z"
   },
   {
    "duration": 104,
    "start_time": "2023-08-01T03:14:28.900Z"
   },
   {
    "duration": 676,
    "start_time": "2023-08-01T03:14:29.006Z"
   },
   {
    "duration": 22576,
    "start_time": "2023-08-01T03:14:29.686Z"
   },
   {
    "duration": 10,
    "start_time": "2023-08-01T03:14:52.264Z"
   },
   {
    "duration": 332,
    "start_time": "2023-08-01T03:14:52.275Z"
   },
   {
    "duration": 488,
    "start_time": "2023-08-01T03:14:52.608Z"
   },
   {
    "duration": 11607,
    "start_time": "2023-08-01T03:14:53.100Z"
   },
   {
    "duration": 398,
    "start_time": "2023-08-01T03:15:04.708Z"
   },
   {
    "duration": 1516,
    "start_time": "2023-08-01T22:37:24.807Z"
   },
   {
    "duration": 80,
    "start_time": "2023-08-01T22:37:29.092Z"
   },
   {
    "duration": 5,
    "start_time": "2023-08-01T22:37:29.506Z"
   },
   {
    "duration": 43,
    "start_time": "2023-08-01T22:37:29.990Z"
   },
   {
    "duration": 13,
    "start_time": "2023-08-01T22:37:30.372Z"
   },
   {
    "duration": 16,
    "start_time": "2023-08-01T22:37:30.850Z"
   },
   {
    "duration": 13,
    "start_time": "2023-08-01T22:37:31.232Z"
   },
   {
    "duration": 7,
    "start_time": "2023-08-01T22:37:32.544Z"
   },
   {
    "duration": 12,
    "start_time": "2023-08-01T22:37:32.964Z"
   },
   {
    "duration": 15,
    "start_time": "2023-08-01T22:37:33.713Z"
   },
   {
    "duration": 9,
    "start_time": "2023-08-01T22:37:34.059Z"
   },
   {
    "duration": 4,
    "start_time": "2023-08-01T22:37:35.727Z"
   },
   {
    "duration": 27,
    "start_time": "2023-08-01T22:37:36.616Z"
   },
   {
    "duration": 4,
    "start_time": "2023-08-01T22:37:38.310Z"
   },
   {
    "duration": 10,
    "start_time": "2023-08-01T22:37:39.530Z"
   },
   {
    "duration": 5,
    "start_time": "2023-08-01T22:37:41.012Z"
   },
   {
    "duration": 7,
    "start_time": "2023-08-01T22:37:41.504Z"
   },
   {
    "duration": 18,
    "start_time": "2023-08-01T22:37:42.516Z"
   },
   {
    "duration": 2,
    "start_time": "2023-08-01T22:37:43.287Z"
   },
   {
    "duration": 2,
    "start_time": "2023-08-01T22:38:48.297Z"
   },
   {
    "duration": 97,
    "start_time": "2023-08-01T22:38:50.794Z"
   },
   {
    "duration": 32,
    "start_time": "2023-08-01T22:38:57.251Z"
   },
   {
    "duration": 3,
    "start_time": "2023-08-01T22:39:00.531Z"
   },
   {
    "duration": 27,
    "start_time": "2023-08-01T22:39:01.253Z"
   },
   {
    "duration": 2,
    "start_time": "2023-08-01T22:39:28.697Z"
   },
   {
    "duration": 32,
    "start_time": "2023-08-01T22:39:29.269Z"
   },
   {
    "duration": 26,
    "start_time": "2023-08-01T22:39:31.771Z"
   },
   {
    "duration": 28,
    "start_time": "2023-08-01T22:39:33.960Z"
   },
   {
    "duration": 1415,
    "start_time": "2023-08-01T22:39:41.078Z"
   },
   {
    "duration": 41,
    "start_time": "2023-08-01T22:39:42.496Z"
   },
   {
    "duration": 6,
    "start_time": "2023-08-01T22:39:42.538Z"
   },
   {
    "duration": 43,
    "start_time": "2023-08-01T22:39:42.546Z"
   },
   {
    "duration": 12,
    "start_time": "2023-08-01T22:39:42.591Z"
   },
   {
    "duration": 16,
    "start_time": "2023-08-01T22:39:42.606Z"
   },
   {
    "duration": 21,
    "start_time": "2023-08-01T22:39:42.624Z"
   },
   {
    "duration": 5,
    "start_time": "2023-08-01T22:39:42.647Z"
   },
   {
    "duration": 42,
    "start_time": "2023-08-01T22:39:42.655Z"
   },
   {
    "duration": 14,
    "start_time": "2023-08-01T22:39:42.698Z"
   },
   {
    "duration": 10,
    "start_time": "2023-08-01T22:39:42.714Z"
   },
   {
    "duration": 10,
    "start_time": "2023-08-01T22:39:42.726Z"
   },
   {
    "duration": 22,
    "start_time": "2023-08-01T22:39:42.738Z"
   },
   {
    "duration": 5,
    "start_time": "2023-08-01T22:39:42.788Z"
   },
   {
    "duration": 12,
    "start_time": "2023-08-01T22:39:42.794Z"
   },
   {
    "duration": 7,
    "start_time": "2023-08-01T22:39:42.807Z"
   },
   {
    "duration": 8,
    "start_time": "2023-08-01T22:39:42.816Z"
   },
   {
    "duration": 18,
    "start_time": "2023-08-01T22:39:42.826Z"
   },
   {
    "duration": 3,
    "start_time": "2023-08-01T22:39:42.845Z"
   },
   {
    "duration": 29,
    "start_time": "2023-08-01T22:39:42.887Z"
   },
   {
    "duration": 270,
    "start_time": "2023-08-01T22:39:42.918Z"
   },
   {
    "duration": 100,
    "start_time": "2023-08-01T22:39:43.191Z"
   },
   {
    "duration": 582,
    "start_time": "2023-08-01T22:39:43.294Z"
   },
   {
    "duration": 10,
    "start_time": "2023-08-01T22:39:43.878Z"
   },
   {
    "duration": 18317,
    "start_time": "2023-08-01T22:39:43.890Z"
   },
   {
    "duration": 60,
    "start_time": "2023-08-01T22:40:02.209Z"
   },
   {
    "duration": 28,
    "start_time": "2023-08-01T22:40:02.270Z"
   },
   {
    "duration": 291,
    "start_time": "2023-08-01T22:40:02.300Z"
   },
   {
    "duration": 102,
    "start_time": "2023-08-01T22:40:02.594Z"
   },
   {
    "duration": 764,
    "start_time": "2023-08-01T22:40:02.698Z"
   },
   {
    "duration": 23420,
    "start_time": "2023-08-01T22:40:03.464Z"
   },
   {
    "duration": 11,
    "start_time": "2023-08-01T22:40:26.888Z"
   },
   {
    "duration": 193,
    "start_time": "2023-08-01T22:40:26.901Z"
   },
   {
    "duration": 501,
    "start_time": "2023-08-01T22:40:27.096Z"
   },
   {
    "duration": 12420,
    "start_time": "2023-08-01T22:40:27.598Z"
   },
   {
    "duration": 429,
    "start_time": "2023-08-01T22:40:40.020Z"
   },
   {
    "duration": 26,
    "start_time": "2023-08-01T22:40:48.299Z"
   },
   {
    "duration": 83527,
    "start_time": "2023-08-01T22:50:08.648Z"
   },
   {
    "duration": 113306,
    "start_time": "2023-08-01T22:52:35.632Z"
   },
   {
    "duration": 59798,
    "start_time": "2023-08-01T22:54:42.069Z"
   },
   {
    "duration": 446,
    "start_time": "2023-08-01T22:58:56.601Z"
   },
   {
    "duration": 444,
    "start_time": "2023-08-01T22:59:14.079Z"
   },
   {
    "duration": 44,
    "start_time": "2023-08-01T22:59:17.489Z"
   },
   {
    "duration": 555,
    "start_time": "2023-08-01T23:00:22.683Z"
   },
   {
    "duration": 45,
    "start_time": "2023-08-01T23:00:26.782Z"
   },
   {
    "duration": 546,
    "start_time": "2023-08-01T23:00:28.943Z"
   },
   {
    "duration": 1447,
    "start_time": "2023-08-01T23:00:48.990Z"
   },
   {
    "duration": 42,
    "start_time": "2023-08-01T23:00:50.438Z"
   },
   {
    "duration": 6,
    "start_time": "2023-08-01T23:00:50.482Z"
   },
   {
    "duration": 59,
    "start_time": "2023-08-01T23:00:50.489Z"
   },
   {
    "duration": 13,
    "start_time": "2023-08-01T23:00:50.551Z"
   },
   {
    "duration": 74,
    "start_time": "2023-08-01T23:00:50.565Z"
   },
   {
    "duration": 34,
    "start_time": "2023-08-01T23:00:50.641Z"
   },
   {
    "duration": 24,
    "start_time": "2023-08-01T23:00:50.677Z"
   },
   {
    "duration": 43,
    "start_time": "2023-08-01T23:00:50.702Z"
   },
   {
    "duration": 37,
    "start_time": "2023-08-01T23:00:50.747Z"
   },
   {
    "duration": 31,
    "start_time": "2023-08-01T23:00:50.786Z"
   },
   {
    "duration": 16,
    "start_time": "2023-08-01T23:00:50.819Z"
   },
   {
    "duration": 23,
    "start_time": "2023-08-01T23:00:50.837Z"
   },
   {
    "duration": 5,
    "start_time": "2023-08-01T23:00:50.863Z"
   },
   {
    "duration": 21,
    "start_time": "2023-08-01T23:00:50.870Z"
   },
   {
    "duration": 13,
    "start_time": "2023-08-01T23:00:50.892Z"
   },
   {
    "duration": 22,
    "start_time": "2023-08-01T23:00:50.906Z"
   },
   {
    "duration": 28,
    "start_time": "2023-08-01T23:00:50.930Z"
   },
   {
    "duration": 37,
    "start_time": "2023-08-01T23:00:50.959Z"
   },
   {
    "duration": 48,
    "start_time": "2023-08-01T23:00:50.998Z"
   },
   {
    "duration": 339,
    "start_time": "2023-08-01T23:00:51.048Z"
   },
   {
    "duration": 11,
    "start_time": "2023-08-01T23:00:51.389Z"
   },
   {
    "duration": 647,
    "start_time": "2023-08-01T23:00:51.402Z"
   },
   {
    "duration": 8,
    "start_time": "2023-08-01T23:00:52.051Z"
   },
   {
    "duration": 142,
    "start_time": "2023-08-01T23:00:52.060Z"
   },
   {
    "duration": 0,
    "start_time": "2023-08-01T23:00:52.204Z"
   },
   {
    "duration": 0,
    "start_time": "2023-08-01T23:00:52.205Z"
   },
   {
    "duration": 0,
    "start_time": "2023-08-01T23:00:52.206Z"
   },
   {
    "duration": 0,
    "start_time": "2023-08-01T23:00:52.207Z"
   },
   {
    "duration": 0,
    "start_time": "2023-08-01T23:00:52.208Z"
   },
   {
    "duration": 0,
    "start_time": "2023-08-01T23:00:52.209Z"
   },
   {
    "duration": 0,
    "start_time": "2023-08-01T23:00:52.210Z"
   },
   {
    "duration": 0,
    "start_time": "2023-08-01T23:00:52.211Z"
   },
   {
    "duration": 0,
    "start_time": "2023-08-01T23:00:52.212Z"
   },
   {
    "duration": 0,
    "start_time": "2023-08-01T23:00:52.213Z"
   },
   {
    "duration": 0,
    "start_time": "2023-08-01T23:00:52.214Z"
   },
   {
    "duration": 0,
    "start_time": "2023-08-01T23:00:52.215Z"
   },
   {
    "duration": 0,
    "start_time": "2023-08-01T23:00:52.216Z"
   },
   {
    "duration": 430,
    "start_time": "2023-08-01T23:01:41.387Z"
   },
   {
    "duration": 84401,
    "start_time": "2023-08-01T23:01:57.295Z"
   },
   {
    "duration": 83649,
    "start_time": "2023-08-01T23:03:47.138Z"
   },
   {
    "duration": 86,
    "start_time": "2023-08-01T23:05:10.858Z"
   },
   {
    "duration": 414,
    "start_time": "2023-08-01T23:05:45.029Z"
   },
   {
    "duration": 26,
    "start_time": "2023-08-01T23:20:54.717Z"
   },
   {
    "duration": 10,
    "start_time": "2023-08-01T23:20:58.783Z"
   },
   {
    "duration": 23,
    "start_time": "2023-08-01T23:20:59.497Z"
   },
   {
    "duration": 40,
    "start_time": "2023-08-01T23:21:18.768Z"
   },
   {
    "duration": 456,
    "start_time": "2023-08-01T23:21:20.272Z"
   },
   {
    "duration": 1445,
    "start_time": "2023-08-01T23:27:42.753Z"
   },
   {
    "duration": 41,
    "start_time": "2023-08-01T23:27:44.201Z"
   },
   {
    "duration": 5,
    "start_time": "2023-08-01T23:27:44.244Z"
   },
   {
    "duration": 47,
    "start_time": "2023-08-01T23:27:44.251Z"
   },
   {
    "duration": 12,
    "start_time": "2023-08-01T23:27:44.300Z"
   },
   {
    "duration": 15,
    "start_time": "2023-08-01T23:27:44.314Z"
   },
   {
    "duration": 12,
    "start_time": "2023-08-01T23:27:44.331Z"
   },
   {
    "duration": 4,
    "start_time": "2023-08-01T23:27:44.345Z"
   },
   {
    "duration": 40,
    "start_time": "2023-08-01T23:27:44.351Z"
   },
   {
    "duration": 12,
    "start_time": "2023-08-01T23:27:44.392Z"
   },
   {
    "duration": 6,
    "start_time": "2023-08-01T23:27:44.405Z"
   },
   {
    "duration": 12,
    "start_time": "2023-08-01T23:27:44.413Z"
   },
   {
    "duration": 25,
    "start_time": "2023-08-01T23:27:44.427Z"
   },
   {
    "duration": 4,
    "start_time": "2023-08-01T23:27:44.455Z"
   },
   {
    "duration": 31,
    "start_time": "2023-08-01T23:27:44.460Z"
   },
   {
    "duration": 5,
    "start_time": "2023-08-01T23:27:44.493Z"
   },
   {
    "duration": 7,
    "start_time": "2023-08-01T23:27:44.499Z"
   },
   {
    "duration": 29,
    "start_time": "2023-08-01T23:27:44.507Z"
   },
   {
    "duration": 351,
    "start_time": "2023-08-01T23:27:44.538Z"
   },
   {
    "duration": 102,
    "start_time": "2023-08-01T23:27:44.891Z"
   },
   {
    "duration": 561,
    "start_time": "2023-08-01T23:27:44.997Z"
   },
   {
    "duration": 9,
    "start_time": "2023-08-01T23:27:45.560Z"
   },
   {
    "duration": 36,
    "start_time": "2023-08-01T23:27:45.571Z"
   },
   {
    "duration": 84504,
    "start_time": "2023-08-01T23:27:45.609Z"
   },
   {
    "duration": 77,
    "start_time": "2023-08-01T23:29:10.114Z"
   },
   {
    "duration": 422,
    "start_time": "2023-08-01T23:29:10.193Z"
   },
   {
    "duration": 13,
    "start_time": "2023-08-01T23:29:10.617Z"
   },
   {
    "duration": 258,
    "start_time": "2023-08-01T23:29:10.632Z"
   },
   {
    "duration": 100,
    "start_time": "2023-08-01T23:29:10.895Z"
   },
   {
    "duration": 626,
    "start_time": "2023-08-01T23:29:11.089Z"
   },
   {
    "duration": 37,
    "start_time": "2023-08-01T23:29:11.717Z"
   },
   {
    "duration": 115033,
    "start_time": "2023-08-01T23:29:11.756Z"
   },
   {
    "duration": 393,
    "start_time": "2023-08-01T23:31:06.791Z"
   },
   {
    "duration": 11,
    "start_time": "2023-08-01T23:31:07.186Z"
   },
   {
    "duration": 290,
    "start_time": "2023-08-01T23:31:07.198Z"
   },
   {
    "duration": 402,
    "start_time": "2023-08-01T23:31:07.491Z"
   },
   {
    "duration": 59148,
    "start_time": "2023-08-01T23:31:07.894Z"
   },
   {
    "duration": 422,
    "start_time": "2023-08-01T23:32:07.044Z"
   },
   {
    "duration": 32,
    "start_time": "2023-08-01T23:32:10.364Z"
   },
   {
    "duration": 32,
    "start_time": "2023-08-01T23:32:13.908Z"
   },
   {
    "duration": 5,
    "start_time": "2023-08-01T23:32:22.875Z"
   },
   {
    "duration": 8,
    "start_time": "2023-08-01T23:32:23.527Z"
   },
   {
    "duration": 33,
    "start_time": "2023-08-01T23:32:25.492Z"
   },
   {
    "duration": 28,
    "start_time": "2023-08-01T23:34:08.244Z"
   },
   {
    "duration": 3,
    "start_time": "2023-08-01T23:34:28.649Z"
   },
   {
    "duration": 4,
    "start_time": "2023-08-01T23:35:45.374Z"
   },
   {
    "duration": 5,
    "start_time": "2023-08-01T23:40:07.457Z"
   },
   {
    "duration": 12,
    "start_time": "2023-08-01T23:40:15.227Z"
   },
   {
    "duration": 5,
    "start_time": "2023-08-01T23:40:15.832Z"
   },
   {
    "duration": 13,
    "start_time": "2023-08-01T23:40:22.624Z"
   },
   {
    "duration": 4,
    "start_time": "2023-08-01T23:40:24.046Z"
   },
   {
    "duration": 11,
    "start_time": "2023-08-01T23:40:27.045Z"
   },
   {
    "duration": 4,
    "start_time": "2023-08-01T23:40:30.419Z"
   },
   {
    "duration": 1421,
    "start_time": "2023-08-01T23:40:42.275Z"
   },
   {
    "duration": 43,
    "start_time": "2023-08-01T23:40:43.698Z"
   },
   {
    "duration": 7,
    "start_time": "2023-08-01T23:40:43.743Z"
   },
   {
    "duration": 54,
    "start_time": "2023-08-01T23:40:43.751Z"
   },
   {
    "duration": 14,
    "start_time": "2023-08-01T23:40:43.808Z"
   },
   {
    "duration": 26,
    "start_time": "2023-08-01T23:40:43.824Z"
   },
   {
    "duration": 36,
    "start_time": "2023-08-01T23:40:43.851Z"
   },
   {
    "duration": 5,
    "start_time": "2023-08-01T23:40:43.889Z"
   },
   {
    "duration": 24,
    "start_time": "2023-08-01T23:40:43.896Z"
   },
   {
    "duration": 24,
    "start_time": "2023-08-01T23:40:43.921Z"
   },
   {
    "duration": 7,
    "start_time": "2023-08-01T23:40:43.947Z"
   },
   {
    "duration": 6,
    "start_time": "2023-08-01T23:40:43.956Z"
   },
   {
    "duration": 39,
    "start_time": "2023-08-01T23:40:43.963Z"
   },
   {
    "duration": 4,
    "start_time": "2023-08-01T23:40:44.006Z"
   },
   {
    "duration": 19,
    "start_time": "2023-08-01T23:40:44.012Z"
   },
   {
    "duration": 13,
    "start_time": "2023-08-01T23:40:44.034Z"
   },
   {
    "duration": 11,
    "start_time": "2023-08-01T23:40:44.049Z"
   },
   {
    "duration": 40,
    "start_time": "2023-08-01T23:40:44.062Z"
   },
   {
    "duration": 4,
    "start_time": "2023-08-01T23:40:44.104Z"
   },
   {
    "duration": 481,
    "start_time": "2023-08-01T23:40:44.109Z"
   },
   {
    "duration": 105,
    "start_time": "2023-08-01T23:40:44.592Z"
   },
   {
    "duration": 571,
    "start_time": "2023-08-01T23:40:44.790Z"
   },
   {
    "duration": 10,
    "start_time": "2023-08-01T23:40:45.363Z"
   },
   {
    "duration": 48,
    "start_time": "2023-08-01T23:40:45.374Z"
   },
   {
    "duration": 85245,
    "start_time": "2023-08-01T23:40:45.423Z"
   },
   {
    "duration": 68,
    "start_time": "2023-08-01T23:42:10.670Z"
   },
   {
    "duration": 442,
    "start_time": "2023-08-01T23:42:10.739Z"
   },
   {
    "duration": 11,
    "start_time": "2023-08-01T23:42:11.186Z"
   },
   {
    "duration": 241,
    "start_time": "2023-08-01T23:42:11.199Z"
   },
   {
    "duration": 15,
    "start_time": "2023-08-01T23:42:11.442Z"
   },
   {
    "duration": 0,
    "start_time": "2023-08-01T23:42:11.459Z"
   },
   {
    "duration": 0,
    "start_time": "2023-08-01T23:42:11.460Z"
   },
   {
    "duration": 0,
    "start_time": "2023-08-01T23:42:11.462Z"
   },
   {
    "duration": 0,
    "start_time": "2023-08-01T23:42:11.463Z"
   },
   {
    "duration": 0,
    "start_time": "2023-08-01T23:42:11.464Z"
   },
   {
    "duration": 0,
    "start_time": "2023-08-01T23:42:11.465Z"
   },
   {
    "duration": 0,
    "start_time": "2023-08-01T23:42:11.466Z"
   },
   {
    "duration": 0,
    "start_time": "2023-08-01T23:42:11.467Z"
   },
   {
    "duration": 0,
    "start_time": "2023-08-01T23:42:11.468Z"
   },
   {
    "duration": 0,
    "start_time": "2023-08-01T23:42:11.469Z"
   },
   {
    "duration": 14,
    "start_time": "2023-08-01T23:45:24.894Z"
   },
   {
    "duration": 205,
    "start_time": "2023-08-01T23:45:27.692Z"
   },
   {
    "duration": 13,
    "start_time": "2023-08-01T23:45:31.680Z"
   },
   {
    "duration": 573,
    "start_time": "2023-08-01T23:45:36.611Z"
   },
   {
    "duration": 38,
    "start_time": "2023-08-01T23:45:45.568Z"
   },
   {
    "duration": 113720,
    "start_time": "2023-08-01T23:45:49.045Z"
   },
   {
    "duration": 385,
    "start_time": "2023-08-01T23:47:48.174Z"
   },
   {
    "duration": 11,
    "start_time": "2023-08-01T23:48:25.676Z"
   },
   {
    "duration": 4,
    "start_time": "2023-08-01T23:48:27.223Z"
   },
   {
    "duration": 26,
    "start_time": "2023-08-01T23:48:30.669Z"
   },
   {
    "duration": 210,
    "start_time": "2023-08-01T23:48:39.804Z"
   },
   {
    "duration": 45170,
    "start_time": "2023-08-01T23:48:52.335Z"
   },
   {
    "duration": 14,
    "start_time": "2023-08-02T00:25:30.101Z"
   },
   {
    "duration": 4,
    "start_time": "2023-08-02T00:25:31.968Z"
   },
   {
    "duration": 12,
    "start_time": "2023-08-02T00:25:36.619Z"
   },
   {
    "duration": 4,
    "start_time": "2023-08-02T00:25:38.249Z"
   },
   {
    "duration": 4,
    "start_time": "2023-08-02T00:26:34.125Z"
   },
   {
    "duration": 4,
    "start_time": "2023-08-02T00:26:44.443Z"
   },
   {
    "duration": 11,
    "start_time": "2023-08-02T00:27:26.809Z"
   },
   {
    "duration": 3,
    "start_time": "2023-08-02T00:27:27.368Z"
   },
   {
    "duration": 11,
    "start_time": "2023-08-02T00:27:32.827Z"
   },
   {
    "duration": 3,
    "start_time": "2023-08-02T00:27:33.291Z"
   },
   {
    "duration": 11,
    "start_time": "2023-08-02T00:27:37.675Z"
   },
   {
    "duration": 3,
    "start_time": "2023-08-02T00:27:38.101Z"
   },
   {
    "duration": 76,
    "start_time": "2023-08-02T00:27:45.220Z"
   },
   {
    "duration": 217,
    "start_time": "2023-08-02T00:27:52.937Z"
   },
   {
    "duration": 43961,
    "start_time": "2023-08-02T00:27:56.616Z"
   },
   {
    "duration": 11,
    "start_time": "2023-08-02T00:29:26.868Z"
   },
   {
    "duration": 4,
    "start_time": "2023-08-02T00:29:27.367Z"
   },
   {
    "duration": 48372,
    "start_time": "2023-08-02T00:29:39.919Z"
   },
   {
    "duration": 11,
    "start_time": "2023-08-02T00:30:53.071Z"
   },
   {
    "duration": 46006,
    "start_time": "2023-08-02T00:30:59.841Z"
   },
   {
    "duration": 52891,
    "start_time": "2023-08-02T00:32:56.380Z"
   },
   {
    "duration": 15,
    "start_time": "2023-08-02T00:34:01.077Z"
   },
   {
    "duration": 522,
    "start_time": "2023-08-02T00:34:01.835Z"
   },
   {
    "duration": 520,
    "start_time": "2023-08-02T00:35:30.024Z"
   },
   {
    "duration": 715,
    "start_time": "2023-08-02T00:36:19.526Z"
   },
   {
    "duration": 4,
    "start_time": "2023-08-02T00:38:10.915Z"
   },
   {
    "duration": 5,
    "start_time": "2023-08-02T00:38:50.668Z"
   },
   {
    "duration": 1576,
    "start_time": "2023-08-02T00:39:04.053Z"
   },
   {
    "duration": 43,
    "start_time": "2023-08-02T00:39:05.631Z"
   },
   {
    "duration": 310,
    "start_time": "2023-08-02T00:39:05.676Z"
   },
   {
    "duration": 82,
    "start_time": "2023-08-02T00:39:05.987Z"
   },
   {
    "duration": 12,
    "start_time": "2023-08-02T00:39:06.072Z"
   },
   {
    "duration": 46,
    "start_time": "2023-08-02T00:39:06.086Z"
   },
   {
    "duration": 54,
    "start_time": "2023-08-02T00:39:06.134Z"
   },
   {
    "duration": 27,
    "start_time": "2023-08-02T00:39:06.190Z"
   },
   {
    "duration": 42,
    "start_time": "2023-08-02T00:39:06.219Z"
   },
   {
    "duration": 32,
    "start_time": "2023-08-02T00:39:06.263Z"
   },
   {
    "duration": 13,
    "start_time": "2023-08-02T00:39:06.297Z"
   },
   {
    "duration": 31,
    "start_time": "2023-08-02T00:39:06.312Z"
   },
   {
    "duration": 32,
    "start_time": "2023-08-02T00:39:06.344Z"
   },
   {
    "duration": 5,
    "start_time": "2023-08-02T00:39:06.379Z"
   },
   {
    "duration": 36,
    "start_time": "2023-08-02T00:39:06.385Z"
   },
   {
    "duration": 30,
    "start_time": "2023-08-02T00:39:06.423Z"
   },
   {
    "duration": 28,
    "start_time": "2023-08-02T00:39:06.455Z"
   },
   {
    "duration": 18,
    "start_time": "2023-08-02T00:39:06.485Z"
   },
   {
    "duration": 43,
    "start_time": "2023-08-02T00:39:06.505Z"
   },
   {
    "duration": 4,
    "start_time": "2023-08-02T00:39:06.550Z"
   },
   {
    "duration": 543,
    "start_time": "2023-08-02T00:39:06.555Z"
   },
   {
    "duration": 12,
    "start_time": "2023-08-02T00:39:07.188Z"
   },
   {
    "duration": 655,
    "start_time": "2023-08-02T00:39:07.202Z"
   },
   {
    "duration": 9,
    "start_time": "2023-08-02T00:39:07.859Z"
   },
   {
    "duration": 34,
    "start_time": "2023-08-02T00:39:07.869Z"
   },
   {
    "duration": 59163,
    "start_time": "2023-08-02T00:39:07.904Z"
   },
   {
    "duration": 13,
    "start_time": "2023-08-02T00:40:07.069Z"
   },
   {
    "duration": 0,
    "start_time": "2023-08-02T00:40:07.084Z"
   },
   {
    "duration": 0,
    "start_time": "2023-08-02T00:40:07.086Z"
   },
   {
    "duration": 0,
    "start_time": "2023-08-02T00:40:07.087Z"
   },
   {
    "duration": 0,
    "start_time": "2023-08-02T00:40:07.089Z"
   },
   {
    "duration": 0,
    "start_time": "2023-08-02T00:40:07.090Z"
   },
   {
    "duration": 0,
    "start_time": "2023-08-02T00:40:07.092Z"
   },
   {
    "duration": 0,
    "start_time": "2023-08-02T00:40:07.093Z"
   },
   {
    "duration": 0,
    "start_time": "2023-08-02T00:40:07.095Z"
   },
   {
    "duration": 0,
    "start_time": "2023-08-02T00:40:07.096Z"
   },
   {
    "duration": 0,
    "start_time": "2023-08-02T00:40:07.097Z"
   },
   {
    "duration": 0,
    "start_time": "2023-08-02T00:40:07.099Z"
   },
   {
    "duration": 0,
    "start_time": "2023-08-02T00:40:07.100Z"
   },
   {
    "duration": 0,
    "start_time": "2023-08-02T00:40:07.101Z"
   },
   {
    "duration": 0,
    "start_time": "2023-08-02T00:40:07.103Z"
   },
   {
    "duration": 0,
    "start_time": "2023-08-02T00:40:07.104Z"
   },
   {
    "duration": 0,
    "start_time": "2023-08-02T00:40:07.107Z"
   },
   {
    "duration": 4,
    "start_time": "2023-08-02T00:40:09.912Z"
   },
   {
    "duration": 5,
    "start_time": "2023-08-02T00:40:20.540Z"
   },
   {
    "duration": 5,
    "start_time": "2023-08-02T00:45:06.447Z"
   },
   {
    "duration": 82,
    "start_time": "2023-08-02T00:45:56.676Z"
   },
   {
    "duration": 4,
    "start_time": "2023-08-02T00:46:00.907Z"
   },
   {
    "duration": 4,
    "start_time": "2023-08-02T00:46:03.494Z"
   },
   {
    "duration": 6,
    "start_time": "2023-08-02T00:46:08.682Z"
   },
   {
    "duration": 1454,
    "start_time": "2023-08-02T00:46:54.658Z"
   },
   {
    "duration": 42,
    "start_time": "2023-08-02T00:46:56.114Z"
   },
   {
    "duration": 4,
    "start_time": "2023-08-02T00:46:56.158Z"
   },
   {
    "duration": 51,
    "start_time": "2023-08-02T00:46:56.164Z"
   },
   {
    "duration": 12,
    "start_time": "2023-08-02T00:46:56.217Z"
   },
   {
    "duration": 26,
    "start_time": "2023-08-02T00:46:56.230Z"
   },
   {
    "duration": 20,
    "start_time": "2023-08-02T00:46:56.257Z"
   },
   {
    "duration": 12,
    "start_time": "2023-08-02T00:46:56.279Z"
   },
   {
    "duration": 14,
    "start_time": "2023-08-02T00:46:56.293Z"
   },
   {
    "duration": 12,
    "start_time": "2023-08-02T00:46:56.309Z"
   },
   {
    "duration": 26,
    "start_time": "2023-08-02T00:46:56.323Z"
   },
   {
    "duration": 20,
    "start_time": "2023-08-02T00:46:56.352Z"
   },
   {
    "duration": 39,
    "start_time": "2023-08-02T00:46:56.374Z"
   },
   {
    "duration": 4,
    "start_time": "2023-08-02T00:46:56.417Z"
   },
   {
    "duration": 29,
    "start_time": "2023-08-02T00:46:56.422Z"
   },
   {
    "duration": 14,
    "start_time": "2023-08-02T00:46:56.452Z"
   },
   {
    "duration": 38,
    "start_time": "2023-08-02T00:46:56.468Z"
   },
   {
    "duration": 6,
    "start_time": "2023-08-02T00:46:56.508Z"
   },
   {
    "duration": 35,
    "start_time": "2023-08-02T00:46:56.516Z"
   },
   {
    "duration": 6,
    "start_time": "2023-08-02T00:46:56.553Z"
   },
   {
    "duration": 328,
    "start_time": "2023-08-02T00:46:56.560Z"
   },
   {
    "duration": 198,
    "start_time": "2023-08-02T00:46:56.890Z"
   },
   {
    "duration": 516,
    "start_time": "2023-08-02T00:46:57.090Z"
   },
   {
    "duration": 9,
    "start_time": "2023-08-02T00:46:57.608Z"
   },
   {
    "duration": 44,
    "start_time": "2023-08-02T00:46:57.619Z"
   },
   {
    "duration": 86235,
    "start_time": "2023-08-02T00:46:57.665Z"
   },
   {
    "duration": 66,
    "start_time": "2023-08-02T00:48:23.902Z"
   },
   {
    "duration": 438,
    "start_time": "2023-08-02T00:48:23.970Z"
   },
   {
    "duration": 12,
    "start_time": "2023-08-02T00:48:24.411Z"
   },
   {
    "duration": 269,
    "start_time": "2023-08-02T00:48:24.425Z"
   },
   {
    "duration": 102,
    "start_time": "2023-08-02T00:48:24.696Z"
   },
   {
    "duration": 682,
    "start_time": "2023-08-02T00:48:24.888Z"
   },
   {
    "duration": 47,
    "start_time": "2023-08-02T00:48:25.572Z"
   },
   {
    "duration": 115480,
    "start_time": "2023-08-02T00:48:25.621Z"
   },
   {
    "duration": 383,
    "start_time": "2023-08-02T00:50:21.103Z"
   },
   {
    "duration": 11,
    "start_time": "2023-08-02T00:50:21.488Z"
   },
   {
    "duration": 17,
    "start_time": "2023-08-02T00:50:21.500Z"
   },
   {
    "duration": 171,
    "start_time": "2023-08-02T00:50:21.518Z"
   },
   {
    "duration": 331,
    "start_time": "2023-08-02T00:50:21.691Z"
   },
   {
    "duration": 48226,
    "start_time": "2023-08-02T00:50:22.023Z"
   },
   {
    "duration": 13,
    "start_time": "2023-08-02T00:51:10.253Z"
   },
   {
    "duration": 704,
    "start_time": "2023-08-02T00:51:10.268Z"
   },
   {
    "duration": 715,
    "start_time": "2023-08-02T01:21:16.749Z"
   },
   {
    "duration": 16,
    "start_time": "2023-08-02T01:29:17.575Z"
   },
   {
    "duration": 12,
    "start_time": "2023-08-02T01:29:39.945Z"
   },
   {
    "duration": 24,
    "start_time": "2023-08-02T01:29:56.231Z"
   },
   {
    "duration": 49,
    "start_time": "2023-08-02T01:30:06.012Z"
   },
   {
    "duration": 17,
    "start_time": "2023-08-02T01:30:16.750Z"
   },
   {
    "duration": 21,
    "start_time": "2023-08-02T01:30:25.776Z"
   },
   {
    "duration": 53,
    "start_time": "2023-08-02T01:30:34.615Z"
   },
   {
    "duration": 1500,
    "start_time": "2023-08-02T01:35:59.273Z"
   },
   {
    "duration": 52,
    "start_time": "2023-08-02T01:36:00.775Z"
   },
   {
    "duration": 6,
    "start_time": "2023-08-02T01:36:00.829Z"
   },
   {
    "duration": 80,
    "start_time": "2023-08-02T01:36:00.837Z"
   },
   {
    "duration": 12,
    "start_time": "2023-08-02T01:36:00.919Z"
   },
   {
    "duration": 44,
    "start_time": "2023-08-02T01:36:00.933Z"
   },
   {
    "duration": 38,
    "start_time": "2023-08-02T01:36:00.979Z"
   },
   {
    "duration": 22,
    "start_time": "2023-08-02T01:36:01.020Z"
   },
   {
    "duration": 69,
    "start_time": "2023-08-02T01:36:01.044Z"
   },
   {
    "duration": 31,
    "start_time": "2023-08-02T01:36:01.115Z"
   },
   {
    "duration": 20,
    "start_time": "2023-08-02T01:36:01.148Z"
   },
   {
    "duration": 40,
    "start_time": "2023-08-02T01:36:01.170Z"
   },
   {
    "duration": 67,
    "start_time": "2023-08-02T01:36:01.212Z"
   },
   {
    "duration": 9,
    "start_time": "2023-08-02T01:36:01.284Z"
   },
   {
    "duration": 27,
    "start_time": "2023-08-02T01:36:01.295Z"
   },
   {
    "duration": 30,
    "start_time": "2023-08-02T01:36:01.324Z"
   },
   {
    "duration": 44,
    "start_time": "2023-08-02T01:36:01.356Z"
   },
   {
    "duration": 39,
    "start_time": "2023-08-02T01:36:01.402Z"
   },
   {
    "duration": 88,
    "start_time": "2023-08-02T01:36:01.443Z"
   },
   {
    "duration": 13,
    "start_time": "2023-08-02T01:36:01.533Z"
   },
   {
    "duration": 560,
    "start_time": "2023-08-02T01:36:01.548Z"
   },
   {
    "duration": 97,
    "start_time": "2023-08-02T01:36:02.191Z"
   },
   {
    "duration": 600,
    "start_time": "2023-08-02T01:36:02.291Z"
   },
   {
    "duration": 29,
    "start_time": "2023-08-02T01:36:02.896Z"
   },
   {
    "duration": 87030,
    "start_time": "2023-08-02T01:36:02.926Z"
   },
   {
    "duration": 434,
    "start_time": "2023-08-02T01:37:29.958Z"
   },
   {
    "duration": 13,
    "start_time": "2023-08-02T01:37:30.394Z"
   },
   {
    "duration": 281,
    "start_time": "2023-08-02T01:37:30.408Z"
   },
   {
    "duration": 96,
    "start_time": "2023-08-02T01:37:30.692Z"
   },
   {
    "duration": 699,
    "start_time": "2023-08-02T01:37:30.793Z"
   },
   {
    "duration": 44,
    "start_time": "2023-08-02T01:37:31.494Z"
   },
   {
    "duration": 119591,
    "start_time": "2023-08-02T01:37:31.540Z"
   },
   {
    "duration": 544,
    "start_time": "2023-08-02T01:39:31.133Z"
   },
   {
    "duration": 16,
    "start_time": "2023-08-02T01:39:31.679Z"
   },
   {
    "duration": 192,
    "start_time": "2023-08-02T01:39:31.697Z"
   },
   {
    "duration": 107,
    "start_time": "2023-08-02T01:39:31.892Z"
   },
   {
    "duration": 333,
    "start_time": "2023-08-02T01:39:32.002Z"
   },
   {
    "duration": 20,
    "start_time": "2023-08-02T01:39:32.336Z"
   },
   {
    "duration": 53586,
    "start_time": "2023-08-02T01:39:32.358Z"
   },
   {
    "duration": 43,
    "start_time": "2023-08-02T01:40:25.946Z"
   },
   {
    "duration": 111,
    "start_time": "2023-08-02T01:40:25.992Z"
   },
   {
    "duration": 1502,
    "start_time": "2023-08-02T01:40:26.105Z"
   },
   {
    "duration": 1792,
    "start_time": "2023-08-02T02:55:50.644Z"
   },
   {
    "duration": 81,
    "start_time": "2023-08-02T02:55:52.438Z"
   },
   {
    "duration": 5,
    "start_time": "2023-08-02T02:55:52.521Z"
   },
   {
    "duration": 44,
    "start_time": "2023-08-02T02:55:52.528Z"
   },
   {
    "duration": 10,
    "start_time": "2023-08-02T02:55:52.574Z"
   },
   {
    "duration": 14,
    "start_time": "2023-08-02T02:55:52.586Z"
   },
   {
    "duration": 27,
    "start_time": "2023-08-02T02:55:52.601Z"
   },
   {
    "duration": 5,
    "start_time": "2023-08-02T02:55:52.629Z"
   },
   {
    "duration": 17,
    "start_time": "2023-08-02T02:55:52.635Z"
   },
   {
    "duration": 10,
    "start_time": "2023-08-02T02:55:52.654Z"
   },
   {
    "duration": 6,
    "start_time": "2023-08-02T02:55:52.666Z"
   },
   {
    "duration": 6,
    "start_time": "2023-08-02T02:55:52.674Z"
   },
   {
    "duration": 46,
    "start_time": "2023-08-02T02:55:52.682Z"
   },
   {
    "duration": 4,
    "start_time": "2023-08-02T02:55:52.729Z"
   },
   {
    "duration": 12,
    "start_time": "2023-08-02T02:55:52.734Z"
   },
   {
    "duration": 5,
    "start_time": "2023-08-02T02:55:52.748Z"
   },
   {
    "duration": 8,
    "start_time": "2023-08-02T02:55:52.754Z"
   },
   {
    "duration": 3,
    "start_time": "2023-08-02T02:55:52.764Z"
   },
   {
    "duration": 59,
    "start_time": "2023-08-02T02:55:52.769Z"
   },
   {
    "duration": 5,
    "start_time": "2023-08-02T02:55:52.830Z"
   },
   {
    "duration": 186,
    "start_time": "2023-08-02T02:55:52.836Z"
   },
   {
    "duration": 101,
    "start_time": "2023-08-02T02:55:53.024Z"
   },
   {
    "duration": 658,
    "start_time": "2023-08-02T02:55:53.127Z"
   },
   {
    "duration": 33,
    "start_time": "2023-08-02T02:55:53.787Z"
   },
   {
    "duration": 82880,
    "start_time": "2023-08-02T02:55:53.822Z"
   },
   {
    "duration": 460,
    "start_time": "2023-08-02T02:57:16.703Z"
   },
   {
    "duration": 13,
    "start_time": "2023-08-02T02:57:17.165Z"
   },
   {
    "duration": 238,
    "start_time": "2023-08-02T02:57:17.182Z"
   },
   {
    "duration": 105,
    "start_time": "2023-08-02T02:57:17.422Z"
   },
   {
    "duration": 821,
    "start_time": "2023-08-02T02:57:17.529Z"
   },
   {
    "duration": 46,
    "start_time": "2023-08-02T02:57:18.351Z"
   },
   {
    "duration": 111257,
    "start_time": "2023-08-02T02:57:18.399Z"
   },
   {
    "duration": 514,
    "start_time": "2023-08-02T02:59:09.657Z"
   },
   {
    "duration": 10,
    "start_time": "2023-08-02T02:59:10.173Z"
   },
   {
    "duration": 46,
    "start_time": "2023-08-02T02:59:10.185Z"
   },
   {
    "duration": 10,
    "start_time": "2023-08-02T02:59:10.321Z"
   },
   {
    "duration": 318,
    "start_time": "2023-08-02T02:59:10.422Z"
   },
   {
    "duration": 17,
    "start_time": "2023-08-02T02:59:10.742Z"
   },
   {
    "duration": 44981,
    "start_time": "2023-08-02T02:59:10.760Z"
   },
   {
    "duration": 30,
    "start_time": "2023-08-02T02:59:55.743Z"
   },
   {
    "duration": 10,
    "start_time": "2023-08-02T02:59:55.774Z"
   },
   {
    "duration": 695,
    "start_time": "2023-08-02T02:59:55.785Z"
   }
  ],
  "kernelspec": {
   "display_name": "Python 3 (ipykernel)",
   "language": "python",
   "name": "python3"
  },
  "language_info": {
   "codemirror_mode": {
    "name": "ipython",
    "version": 3
   },
   "file_extension": ".py",
   "mimetype": "text/x-python",
   "name": "python",
   "nbconvert_exporter": "python",
   "pygments_lexer": "ipython3",
   "version": "3.10.9"
  },
  "toc": {
   "base_numbering": 1,
   "nav_menu": {},
   "number_sections": true,
   "sideBar": true,
   "skip_h1_title": true,
   "title_cell": "Содержание",
   "title_sidebar": "Contents",
   "toc_cell": true,
   "toc_position": {
    "height": "calc(100% - 180px)",
    "left": "10px",
    "top": "150px",
    "width": "294.227px"
   },
   "toc_section_display": true,
   "toc_window_display": true
  }
 },
 "nbformat": 4,
 "nbformat_minor": 2
}
