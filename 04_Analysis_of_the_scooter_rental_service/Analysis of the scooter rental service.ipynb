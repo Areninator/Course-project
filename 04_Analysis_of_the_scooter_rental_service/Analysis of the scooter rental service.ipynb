{
 "cells": [
  {
   "cell_type": "markdown",
   "id": "53a6d989",
   "metadata": {},
   "source": [
    "# Analysis of the scooter rental service"
   ]
  },
  {
   "cell_type": "markdown",
   "id": "5668f5ed",
   "metadata": {},
   "source": [
    "For a data analysis project for scooter rental service GoFast, you can consider the following steps:\n",
    "\n",
    "1. Data preparation: checking for gaps, duplicates\n",
    "\n",
    "2. Exploratory data analysis: frequency of occurrence of cities, ratio of users with and without subscription, age of users, etc.\n",
    "\n",
    "3. Visualization of results: constructing graphs and diagrams to visualize the results of the analysis.\n",
    "\n",
    "\n",
    "4. Testing hypotheses:\n",
    "  * Subscribed users spend more time traveling\n",
    "  * The distance traveled by users with a subscription in one trip does not exceed 3130 meters\n",
    "  * Whether the monthly revenue from users with a monthly subscription will be higher than the revenue from users without a subscription."
   ]
  },
  {
   "cell_type": "markdown",
   "id": "795a63f1",
   "metadata": {},
   "source": [
    "# Importing libraries"
   ]
  },
  {
   "cell_type": "code",
   "execution_count": 1,
   "id": "72576667",
   "metadata": {},
   "outputs": [],
   "source": [
    "import pandas as pd\n",
    "import numpy as np\n",
    "from scipy import stats as st\n",
    "import matplotlib.pyplot as plt"
   ]
  },
  {
   "cell_type": "markdown",
   "id": "c42cbe00",
   "metadata": {},
   "source": [
    "# Open the data file and review the general information."
   ]
  },
  {
   "cell_type": "code",
   "execution_count": 2,
   "id": "eff9f206",
   "metadata": {},
   "outputs": [],
   "source": [
    "try:\n",
    "    users_data = pd.read_csv('/datasets/users_go.csv')\n",
    "    ride_data = pd.read_csv('/datasets/rides_go.csv')\n",
    "    sub_data = pd.read_csv('/datasets/subscriptions_go.csv')\n",
    "except FileNotFoundError:\n",
    "    users_data = pd.read_csv(r'C:\\Users\\ASUS\\Desktop\\Практикум\\Data\\GoFast\\users_go.csv')\n",
    "    ride_data = pd.read_csv(r'C:\\Users\\ASUS\\Desktop\\Практикум\\Data\\GoFast\\rides_go.csv')\n",
    "    sub_data = pd.read_csv(r'C:\\Users\\ASUS\\Desktop\\Практикум\\Data\\GoFast\\subscriptions_go.csv')"
   ]
  },
  {
   "cell_type": "code",
   "execution_count": 3,
   "id": "770d96c7",
   "metadata": {},
   "outputs": [
    {
     "data": {
      "text/html": [
       "<div>\n",
       "<style scoped>\n",
       "    .dataframe tbody tr th:only-of-type {\n",
       "        vertical-align: middle;\n",
       "    }\n",
       "\n",
       "    .dataframe tbody tr th {\n",
       "        vertical-align: top;\n",
       "    }\n",
       "\n",
       "    .dataframe thead th {\n",
       "        text-align: right;\n",
       "    }\n",
       "</style>\n",
       "<table border=\"1\" class=\"dataframe\">\n",
       "  <thead>\n",
       "    <tr style=\"text-align: right;\">\n",
       "      <th></th>\n",
       "      <th>user_id</th>\n",
       "      <th>name</th>\n",
       "      <th>age</th>\n",
       "      <th>city</th>\n",
       "      <th>subscription_type</th>\n",
       "    </tr>\n",
       "  </thead>\n",
       "  <tbody>\n",
       "    <tr>\n",
       "      <th>0</th>\n",
       "      <td>1</td>\n",
       "      <td>Кира</td>\n",
       "      <td>22</td>\n",
       "      <td>Тюмень</td>\n",
       "      <td>ultra</td>\n",
       "    </tr>\n",
       "    <tr>\n",
       "      <th>1</th>\n",
       "      <td>2</td>\n",
       "      <td>Станислав</td>\n",
       "      <td>31</td>\n",
       "      <td>Омск</td>\n",
       "      <td>ultra</td>\n",
       "    </tr>\n",
       "    <tr>\n",
       "      <th>2</th>\n",
       "      <td>3</td>\n",
       "      <td>Алексей</td>\n",
       "      <td>20</td>\n",
       "      <td>Москва</td>\n",
       "      <td>ultra</td>\n",
       "    </tr>\n",
       "    <tr>\n",
       "      <th>3</th>\n",
       "      <td>4</td>\n",
       "      <td>Константин</td>\n",
       "      <td>26</td>\n",
       "      <td>Ростов-на-Дону</td>\n",
       "      <td>ultra</td>\n",
       "    </tr>\n",
       "    <tr>\n",
       "      <th>4</th>\n",
       "      <td>5</td>\n",
       "      <td>Адель</td>\n",
       "      <td>28</td>\n",
       "      <td>Омск</td>\n",
       "      <td>ultra</td>\n",
       "    </tr>\n",
       "  </tbody>\n",
       "</table>\n",
       "</div>"
      ],
      "text/plain": [
       "   user_id        name  age            city subscription_type\n",
       "0        1        Кира   22          Тюмень             ultra\n",
       "1        2   Станислав   31            Омск             ultra\n",
       "2        3     Алексей   20          Москва             ultra\n",
       "3        4  Константин   26  Ростов-на-Дону             ultra\n",
       "4        5       Адель   28            Омск             ultra"
      ]
     },
     "execution_count": 3,
     "metadata": {},
     "output_type": "execute_result"
    }
   ],
   "source": [
    "users_data.head()"
   ]
  },
  {
   "cell_type": "code",
   "execution_count": 4,
   "id": "78d75f7e",
   "metadata": {},
   "outputs": [
    {
     "name": "stdout",
     "output_type": "stream",
     "text": [
      "<class 'pandas.core.frame.DataFrame'>\n",
      "RangeIndex: 1565 entries, 0 to 1564\n",
      "Data columns (total 5 columns):\n",
      " #   Column             Non-Null Count  Dtype \n",
      "---  ------             --------------  ----- \n",
      " 0   user_id            1565 non-null   int64 \n",
      " 1   name               1565 non-null   object\n",
      " 2   age                1565 non-null   int64 \n",
      " 3   city               1565 non-null   object\n",
      " 4   subscription_type  1565 non-null   object\n",
      "dtypes: int64(2), object(3)\n",
      "memory usage: 61.3+ KB\n"
     ]
    }
   ],
   "source": [
    "users_data.info()"
   ]
  },
  {
   "cell_type": "code",
   "execution_count": 5,
   "id": "f3af6363",
   "metadata": {},
   "outputs": [
    {
     "data": {
      "text/html": [
       "<div>\n",
       "<style scoped>\n",
       "    .dataframe tbody tr th:only-of-type {\n",
       "        vertical-align: middle;\n",
       "    }\n",
       "\n",
       "    .dataframe tbody tr th {\n",
       "        vertical-align: top;\n",
       "    }\n",
       "\n",
       "    .dataframe thead th {\n",
       "        text-align: right;\n",
       "    }\n",
       "</style>\n",
       "<table border=\"1\" class=\"dataframe\">\n",
       "  <thead>\n",
       "    <tr style=\"text-align: right;\">\n",
       "      <th></th>\n",
       "      <th>user_id</th>\n",
       "      <th>distance</th>\n",
       "      <th>duration</th>\n",
       "      <th>date</th>\n",
       "    </tr>\n",
       "  </thead>\n",
       "  <tbody>\n",
       "    <tr>\n",
       "      <th>0</th>\n",
       "      <td>1</td>\n",
       "      <td>4409.919140</td>\n",
       "      <td>25.599769</td>\n",
       "      <td>2021-01-01</td>\n",
       "    </tr>\n",
       "    <tr>\n",
       "      <th>1</th>\n",
       "      <td>1</td>\n",
       "      <td>2617.592153</td>\n",
       "      <td>15.816871</td>\n",
       "      <td>2021-01-18</td>\n",
       "    </tr>\n",
       "    <tr>\n",
       "      <th>2</th>\n",
       "      <td>1</td>\n",
       "      <td>754.159807</td>\n",
       "      <td>6.232113</td>\n",
       "      <td>2021-04-20</td>\n",
       "    </tr>\n",
       "    <tr>\n",
       "      <th>3</th>\n",
       "      <td>1</td>\n",
       "      <td>2694.783254</td>\n",
       "      <td>18.511000</td>\n",
       "      <td>2021-08-11</td>\n",
       "    </tr>\n",
       "    <tr>\n",
       "      <th>4</th>\n",
       "      <td>1</td>\n",
       "      <td>4028.687306</td>\n",
       "      <td>26.265803</td>\n",
       "      <td>2021-08-28</td>\n",
       "    </tr>\n",
       "  </tbody>\n",
       "</table>\n",
       "</div>"
      ],
      "text/plain": [
       "   user_id     distance   duration        date\n",
       "0        1  4409.919140  25.599769  2021-01-01\n",
       "1        1  2617.592153  15.816871  2021-01-18\n",
       "2        1   754.159807   6.232113  2021-04-20\n",
       "3        1  2694.783254  18.511000  2021-08-11\n",
       "4        1  4028.687306  26.265803  2021-08-28"
      ]
     },
     "execution_count": 5,
     "metadata": {},
     "output_type": "execute_result"
    }
   ],
   "source": [
    "ride_data.head()"
   ]
  },
  {
   "cell_type": "code",
   "execution_count": 6,
   "id": "4d6955ea",
   "metadata": {},
   "outputs": [
    {
     "name": "stdout",
     "output_type": "stream",
     "text": [
      "<class 'pandas.core.frame.DataFrame'>\n",
      "RangeIndex: 18068 entries, 0 to 18067\n",
      "Data columns (total 4 columns):\n",
      " #   Column    Non-Null Count  Dtype  \n",
      "---  ------    --------------  -----  \n",
      " 0   user_id   18068 non-null  int64  \n",
      " 1   distance  18068 non-null  float64\n",
      " 2   duration  18068 non-null  float64\n",
      " 3   date      18068 non-null  object \n",
      "dtypes: float64(2), int64(1), object(1)\n",
      "memory usage: 564.8+ KB\n"
     ]
    }
   ],
   "source": [
    "ride_data.info()"
   ]
  },
  {
   "cell_type": "code",
   "execution_count": 7,
   "id": "65dc69f3",
   "metadata": {},
   "outputs": [
    {
     "data": {
      "text/html": [
       "<div>\n",
       "<style scoped>\n",
       "    .dataframe tbody tr th:only-of-type {\n",
       "        vertical-align: middle;\n",
       "    }\n",
       "\n",
       "    .dataframe tbody tr th {\n",
       "        vertical-align: top;\n",
       "    }\n",
       "\n",
       "    .dataframe thead th {\n",
       "        text-align: right;\n",
       "    }\n",
       "</style>\n",
       "<table border=\"1\" class=\"dataframe\">\n",
       "  <thead>\n",
       "    <tr style=\"text-align: right;\">\n",
       "      <th></th>\n",
       "      <th>subscription_type</th>\n",
       "      <th>minute_price</th>\n",
       "      <th>start_ride_price</th>\n",
       "      <th>subscription_fee</th>\n",
       "    </tr>\n",
       "  </thead>\n",
       "  <tbody>\n",
       "    <tr>\n",
       "      <th>0</th>\n",
       "      <td>free</td>\n",
       "      <td>8</td>\n",
       "      <td>50</td>\n",
       "      <td>0</td>\n",
       "    </tr>\n",
       "    <tr>\n",
       "      <th>1</th>\n",
       "      <td>ultra</td>\n",
       "      <td>6</td>\n",
       "      <td>0</td>\n",
       "      <td>199</td>\n",
       "    </tr>\n",
       "  </tbody>\n",
       "</table>\n",
       "</div>"
      ],
      "text/plain": [
       "  subscription_type  minute_price  start_ride_price  subscription_fee\n",
       "0              free             8                50                 0\n",
       "1             ultra             6                 0               199"
      ]
     },
     "execution_count": 7,
     "metadata": {},
     "output_type": "execute_result"
    }
   ],
   "source": [
    "sub_data.head()"
   ]
  },
  {
   "cell_type": "code",
   "execution_count": 8,
   "id": "35d99479",
   "metadata": {},
   "outputs": [
    {
     "name": "stdout",
     "output_type": "stream",
     "text": [
      "<class 'pandas.core.frame.DataFrame'>\n",
      "RangeIndex: 2 entries, 0 to 1\n",
      "Data columns (total 4 columns):\n",
      " #   Column             Non-Null Count  Dtype \n",
      "---  ------             --------------  ----- \n",
      " 0   subscription_type  2 non-null      object\n",
      " 1   minute_price       2 non-null      int64 \n",
      " 2   start_ride_price   2 non-null      int64 \n",
      " 3   subscription_fee   2 non-null      int64 \n",
      "dtypes: int64(3), object(1)\n",
      "memory usage: 192.0+ bytes\n"
     ]
    }
   ],
   "source": [
    "sub_data.info()"
   ]
  },
  {
   "cell_type": "markdown",
   "id": "e95ebca7",
   "metadata": {},
   "source": [
    "# Data preprocessing "
   ]
  },
  {
   "cell_type": "code",
   "execution_count": 9,
   "id": "af6d202c",
   "metadata": {},
   "outputs": [],
   "source": [
    "# Casting the ride_data['date'] column to a Pandas date type\n",
    "ride_data['date'] = pd.to_datetime(ride_data['date'], format='%Y-%m-%d')"
   ]
  },
  {
   "cell_type": "code",
   "execution_count": 10,
   "id": "10687465",
   "metadata": {},
   "outputs": [],
   "source": [
    "# Create a column with month numbers\n",
    "ride_data['month'] = ride_data['date'].dt.month"
   ]
  },
  {
   "cell_type": "code",
   "execution_count": 11,
   "id": "011f9fa1",
   "metadata": {},
   "outputs": [
    {
     "data": {
      "text/plain": [
       "user_id              0\n",
       "name                 0\n",
       "age                  0\n",
       "city                 0\n",
       "subscription_type    0\n",
       "dtype: int64"
      ]
     },
     "execution_count": 11,
     "metadata": {},
     "output_type": "execute_result"
    }
   ],
   "source": [
    "users_data.isna().sum()"
   ]
  },
  {
   "cell_type": "code",
   "execution_count": 12,
   "id": "ac8b40ac",
   "metadata": {},
   "outputs": [
    {
     "data": {
      "text/plain": [
       "user_id     0\n",
       "distance    0\n",
       "duration    0\n",
       "date        0\n",
       "month       0\n",
       "dtype: int64"
      ]
     },
     "execution_count": 12,
     "metadata": {},
     "output_type": "execute_result"
    }
   ],
   "source": [
    "ride_data.isna().sum()"
   ]
  },
  {
   "cell_type": "code",
   "execution_count": 13,
   "id": "ffb3a458",
   "metadata": {},
   "outputs": [
    {
     "data": {
      "text/plain": [
       "subscription_type    0\n",
       "minute_price         0\n",
       "start_ride_price     0\n",
       "subscription_fee     0\n",
       "dtype: int64"
      ]
     },
     "execution_count": 13,
     "metadata": {},
     "output_type": "execute_result"
    }
   ],
   "source": [
    "sub_data.isna().sum()"
   ]
  },
  {
   "cell_type": "markdown",
   "id": "af4a16d2",
   "metadata": {},
   "source": [
    "There are no missing values in dataframes"
   ]
  },
  {
   "cell_type": "code",
   "execution_count": 14,
   "id": "cc649541",
   "metadata": {},
   "outputs": [],
   "source": [
    "users_data = users_data.drop_duplicates()"
   ]
  },
  {
   "cell_type": "code",
   "execution_count": 15,
   "id": "01d609ad",
   "metadata": {},
   "outputs": [
    {
     "data": {
      "text/plain": [
       "0"
      ]
     },
     "execution_count": 15,
     "metadata": {},
     "output_type": "execute_result"
    }
   ],
   "source": [
    "# Код ревьюера\n",
    "users_data.duplicated().sum()"
   ]
  },
  {
   "cell_type": "code",
   "execution_count": 16,
   "id": "04e9a4e1",
   "metadata": {},
   "outputs": [
    {
     "data": {
      "text/plain": [
       "0"
      ]
     },
     "execution_count": 16,
     "metadata": {},
     "output_type": "execute_result"
    }
   ],
   "source": [
    "# Код ревьюера\n",
    "ride_data.duplicated().sum()"
   ]
  },
  {
   "cell_type": "markdown",
   "id": "212593c7",
   "metadata": {},
   "source": [
    "# Exploratory Data Analysis"
   ]
  },
  {
   "cell_type": "code",
   "execution_count": 17,
   "id": "e3a4274c",
   "metadata": {},
   "outputs": [
    {
     "data": {
      "image/png": "[encoded data removed]",
      "text/plain": [
       "<Figure size 640x480 with 1 Axes>"
      ]
     },
     "metadata": {},
     "output_type": "display_data"
    }
   ],
   "source": [
    "users_data.groupby('city')['city'].count().sort_values(ascending = False).plot(kind='bar');"
   ]
  },
  {
   "cell_type": "markdown",
   "id": "80e78978",
   "metadata": {},
   "source": [
    "The most users are in Pyatigorsk, the least in Moscow"
   ]
  },
  {
   "cell_type": "code",
   "execution_count": 18,
   "id": "6a942177",
   "metadata": {},
   "outputs": [
    {
     "data": {
      "image/png": "[encoded data removed]",
      "text/plain": [
       "<Figure size 640x480 with 1 Axes>"
      ]
     },
     "metadata": {},
     "output_type": "display_data"
    }
   ],
   "source": [
    "(\n",
    "    users_data.groupby('subscription_type')['subscription_type']\n",
    "    .count()\n",
    "    .plot(kind = 'pie',autopct='%1.1f%%',ylabel='',title='Ratio of users with and without subscription')\n",
    "    \n",
    ");"
   ]
  },
  {
   "cell_type": "markdown",
   "id": "47b9b698",
   "metadata": {},
   "source": [
    "There are 8.8% fewer users with a subscription than users without a subscription"
   ]
  },
  {
   "cell_type": "code",
   "execution_count": 19,
   "id": "e0963863",
   "metadata": {},
   "outputs": [
    {
     "data": {
      "image/png": "[encoded data removed]",
      "text/plain": [
       "<Figure size 640x480 with 1 Axes>"
      ]
     },
     "metadata": {},
     "output_type": "display_data"
    },
    {
     "data": {
      "text/plain": [
       "count    1534.000000\n",
       "mean       24.903520\n",
       "std         4.572367\n",
       "min        12.000000\n",
       "25%        22.000000\n",
       "50%        25.000000\n",
       "75%        28.000000\n",
       "max        43.000000\n",
       "Name: age, dtype: float64"
      ]
     },
     "execution_count": 19,
     "metadata": {},
     "output_type": "execute_result"
    }
   ],
   "source": [
    "users_data['age'].hist(edgecolor=\"black\",grid = False);\n",
    "plt.title('Age')\n",
    "plt.show()\n",
    "users_data['age'].describe()"
   ]
  },
  {
   "cell_type": "markdown",
   "id": "48336e78",
   "metadata": {},
   "source": [
    "The average user age is from 22 to 28 years old"
   ]
  },
  {
   "cell_type": "code",
   "execution_count": 20,
   "id": "0f1e8c31",
   "metadata": {},
   "outputs": [
    {
     "data": {
      "image/png": "[encoded data removed]",
      "text/plain": [
       "<Figure size 640x480 with 1 Axes>"
      ]
     },
     "metadata": {},
     "output_type": "display_data"
    },
    {
     "data": {
      "text/plain": [
       "count    18068.000000\n",
       "mean      3070.659976\n",
       "std       1116.831209\n",
       "min          0.855683\n",
       "25%       2543.226360\n",
       "50%       3133.609994\n",
       "75%       3776.222735\n",
       "max       7211.007745\n",
       "Name: distance, dtype: float64"
      ]
     },
     "execution_count": 20,
     "metadata": {},
     "output_type": "execute_result"
    }
   ],
   "source": [
    "ride_data['distance'].hist(edgecolor=\"black\",grid = False);\n",
    "plt.title('Distance')\n",
    "plt.show()\n",
    "ride_data['distance'].describe()"
   ]
  },
  {
   "cell_type": "markdown",
   "id": "e342f635",
   "metadata": {},
   "source": [
    "On average, users travel from 2.5 km to 3.7 km"
   ]
  },
  {
   "cell_type": "code",
   "execution_count": 21,
   "id": "e0a70713",
   "metadata": {},
   "outputs": [
    {
     "data": {
      "image/png": "[encoded data removed]",
      "text/plain": [
       "<Figure size 640x480 with 1 Axes>"
      ]
     },
     "metadata": {},
     "output_type": "display_data"
    },
    {
     "data": {
      "text/plain": [
       "count    18068.000000\n",
       "mean        17.805011\n",
       "std          6.091051\n",
       "min          0.500000\n",
       "25%         13.597563\n",
       "50%         17.678395\n",
       "75%         21.724800\n",
       "max         40.823963\n",
       "Name: duration, dtype: float64"
      ]
     },
     "execution_count": 21,
     "metadata": {},
     "output_type": "execute_result"
    }
   ],
   "source": [
    "ride_data['duration'].hist(edgecolor=\"black\",grid = False);\n",
    "plt.title('Duration')\n",
    "plt.show()\n",
    "ride_data['duration'].describe()"
   ]
  },
  {
   "cell_type": "markdown",
   "id": "efc966e5",
   "metadata": {},
   "source": [
    "Users rent scooters for an average of 13-22 minutes"
   ]
  },
  {
   "cell_type": "markdown",
   "id": "2eb2788c",
   "metadata": {},
   "source": [
    "These images can create a portrait of the average user.\n",
    "This is a person from Pyatigorsk, without a subscription, aged 22 to 28 years, renting a scooter for 13-22 minutes to cover a distance of 2.5 - 3.7 km"
   ]
  },
  {
   "cell_type": "markdown",
   "id": "4ef51331",
   "metadata": {},
   "source": [
    "# Data merging"
   ]
  },
  {
   "cell_type": "markdown",
   "id": "2a85e8e7",
   "metadata": {},
   "source": [
    "Let's combine dataframes into one"
   ]
  },
  {
   "cell_type": "code",
   "execution_count": 22,
   "id": "6bf288b5",
   "metadata": {},
   "outputs": [],
   "source": [
    "data = users_data.merge(ride_data, on = 'user_id')\n",
    "data = data.merge(sub_data, on = 'subscription_type')"
   ]
  },
  {
   "cell_type": "markdown",
   "id": "080e916d",
   "metadata": {},
   "source": [
    "Let's create 2 data farms based on the availability of a subscription"
   ]
  },
  {
   "cell_type": "code",
   "execution_count": 23,
   "id": "a99fb846",
   "metadata": {},
   "outputs": [],
   "source": [
    "without_subscription = data.loc[data['subscription_type'] == 'free']\n",
    "with_subscription = data.loc[data['subscription_type'] == 'ultra']"
   ]
  },
  {
   "cell_type": "code",
   "execution_count": 24,
   "id": "ca99074c",
   "metadata": {},
   "outputs": [
    {
     "data": {
      "text/plain": [
       "18068"
      ]
     },
     "metadata": {},
     "output_type": "display_data"
    },
    {
     "data": {
      "text/plain": [
       "11568"
      ]
     },
     "metadata": {},
     "output_type": "display_data"
    },
    {
     "data": {
      "text/plain": [
       "6500"
      ]
     },
     "execution_count": 24,
     "metadata": {},
     "output_type": "execute_result"
    }
   ],
   "source": [
    "# Код ревьюера\n",
    "display(data.shape[0])\n",
    "display(without_subscription.shape[0])\n",
    "with_subscription.shape[0]"
   ]
  },
  {
   "cell_type": "code",
   "execution_count": 25,
   "id": "ce20af7e",
   "metadata": {},
   "outputs": [
    {
     "data": {
      "image/png": "[encoded data removed]",
      "text/plain": [
       "<Figure size 640x480 with 1 Axes>"
      ]
     },
     "metadata": {},
     "output_type": "display_data"
    }
   ],
   "source": [
    "without_subscription['distance'].hist(color=\"b\",grid = False,alpha = 0.5);\n",
    "with_subscription['distance'].hist(color=\"r\",grid = False,alpha = 0.5);"
   ]
  },
  {
   "cell_type": "code",
   "execution_count": 26,
   "id": "a019133b",
   "metadata": {},
   "outputs": [
    {
     "data": {
      "image/png": "[encoded data removed]",
      "text/plain": [
       "<Figure size 1500x500 with 1 Axes>"
      ]
     },
     "metadata": {},
     "output_type": "display_data"
    }
   ],
   "source": [
    "# Код ревьюера\n",
    "plt.figure(figsize = (15, 5))\n",
    "without_subscription['distance'].hist(color=\"b\",grid = False,alpha = 0.5, bins = 50, label = 'Free')\n",
    "with_subscription['distance'].hist(color=\"r\",grid = False,alpha = 0.5, bins = 50, label = 'Ultra')\n",
    "plt.title('Comparison of travel distances')\n",
    "plt.legend()\n",
    "plt.show()"
   ]
  },
  {
   "cell_type": "markdown",
   "id": "9df1fe91",
   "metadata": {},
   "source": [
    "Users without a subscription (blue) travel a greater distance."
   ]
  },
  {
   "cell_type": "code",
   "execution_count": 27,
   "id": "6c5f2b48",
   "metadata": {},
   "outputs": [
    {
     "data": {
      "image/png": "[encoded data removed]",
      "text/plain": [
       "<Figure size 640x480 with 1 Axes>"
      ]
     },
     "metadata": {},
     "output_type": "display_data"
    }
   ],
   "source": [
    "without_subscription['duration'].hist(color=\"b\",grid = False,alpha = 0.5);\n",
    "with_subscription['duration'].hist(color=\"r\",grid = False,alpha = 0.5);"
   ]
  },
  {
   "cell_type": "markdown",
   "id": "1c2c033f",
   "metadata": {},
   "source": [
    "Users without a subscription (blue) rent scooters for longer periods of time"
   ]
  },
  {
   "cell_type": "markdown",
   "id": "0bac4c14",
   "metadata": {},
   "source": [
    "Non-subscription users rent scooters for longer periods of time and travel further distances"
   ]
  },
  {
   "cell_type": "markdown",
   "id": "402d620f",
   "metadata": {},
   "source": [
    "# Revenue calculation"
   ]
  },
  {
   "cell_type": "markdown",
   "id": "01d519d9",
   "metadata": {},
   "source": [
    "Creating a dataframe with aggregated data"
   ]
  },
  {
   "cell_type": "code",
   "execution_count": 28,
   "id": "53049e0a",
   "metadata": {},
   "outputs": [],
   "source": [
    "time_per_month = data.groupby(['user_id','month']).agg(n_rides=('user_id','count'))\n",
    "duration_per_month = data.groupby(['user_id','month']).agg(duration_tot=('duration','sum'))\n",
    "distance_per_month = data.groupby(['user_id','month']).agg(distance_tot=('distance','sum'))\n",
    "stype = data.groupby(['user_id','month']).agg(subscription_type=('subscription_type','first'))\n",
    "sfee = data.groupby(['user_id','month']).agg(subscription_fee=('subscription_fee','first'))\n",
    "srp = data.groupby(['user_id','month']).agg(start_ride_price=('start_ride_price','first'))"
   ]
  },
  {
   "cell_type": "code",
   "execution_count": 29,
   "id": "02acaa1b",
   "metadata": {},
   "outputs": [],
   "source": [
    "df = (\n",
    "    time_per_month.merge(duration_per_month, left_index=True, right_index=True, how='outer')\n",
    "    .merge(distance_per_month, left_index=True, right_index=True, how='outer')\n",
    "    .merge(stype,left_index=True, right_index=True, how='outer')\n",
    "    .merge(sfee,left_index=True, right_index=True, how='outer')\n",
    "    .merge(srp,left_index=True, right_index=True, how='outer')\n",
    "    .reset_index()\n",
    "    )"
   ]
  },
  {
   "cell_type": "code",
   "execution_count": 30,
   "id": "6dddabc5",
   "metadata": {},
   "outputs": [
    {
     "data": {
      "text/html": [
       "<div>\n",
       "<style scoped>\n",
       "    .dataframe tbody tr th:only-of-type {\n",
       "        vertical-align: middle;\n",
       "    }\n",
       "\n",
       "    .dataframe tbody tr th {\n",
       "        vertical-align: top;\n",
       "    }\n",
       "\n",
       "    .dataframe thead th {\n",
       "        text-align: right;\n",
       "    }\n",
       "</style>\n",
       "<table border=\"1\" class=\"dataframe\">\n",
       "  <thead>\n",
       "    <tr style=\"text-align: right;\">\n",
       "      <th></th>\n",
       "      <th>user_id</th>\n",
       "      <th>month</th>\n",
       "      <th>n_rides</th>\n",
       "      <th>duration_tot</th>\n",
       "      <th>distance_tot</th>\n",
       "      <th>subscription_type</th>\n",
       "      <th>subscription_fee</th>\n",
       "      <th>start_ride_price</th>\n",
       "    </tr>\n",
       "  </thead>\n",
       "  <tbody>\n",
       "    <tr>\n",
       "      <th>0</th>\n",
       "      <td>1</td>\n",
       "      <td>1</td>\n",
       "      <td>2</td>\n",
       "      <td>41.416640</td>\n",
       "      <td>7027.511294</td>\n",
       "      <td>ultra</td>\n",
       "      <td>199</td>\n",
       "      <td>0</td>\n",
       "    </tr>\n",
       "    <tr>\n",
       "      <th>1</th>\n",
       "      <td>1</td>\n",
       "      <td>4</td>\n",
       "      <td>1</td>\n",
       "      <td>6.232113</td>\n",
       "      <td>754.159807</td>\n",
       "      <td>ultra</td>\n",
       "      <td>199</td>\n",
       "      <td>0</td>\n",
       "    </tr>\n",
       "    <tr>\n",
       "      <th>2</th>\n",
       "      <td>1</td>\n",
       "      <td>8</td>\n",
       "      <td>2</td>\n",
       "      <td>44.776802</td>\n",
       "      <td>6723.470560</td>\n",
       "      <td>ultra</td>\n",
       "      <td>199</td>\n",
       "      <td>0</td>\n",
       "    </tr>\n",
       "    <tr>\n",
       "      <th>3</th>\n",
       "      <td>1</td>\n",
       "      <td>10</td>\n",
       "      <td>2</td>\n",
       "      <td>31.578017</td>\n",
       "      <td>5809.911100</td>\n",
       "      <td>ultra</td>\n",
       "      <td>199</td>\n",
       "      <td>0</td>\n",
       "    </tr>\n",
       "    <tr>\n",
       "      <th>4</th>\n",
       "      <td>1</td>\n",
       "      <td>11</td>\n",
       "      <td>3</td>\n",
       "      <td>53.397424</td>\n",
       "      <td>7003.499363</td>\n",
       "      <td>ultra</td>\n",
       "      <td>199</td>\n",
       "      <td>0</td>\n",
       "    </tr>\n",
       "    <tr>\n",
       "      <th>...</th>\n",
       "      <td>...</td>\n",
       "      <td>...</td>\n",
       "      <td>...</td>\n",
       "      <td>...</td>\n",
       "      <td>...</td>\n",
       "      <td>...</td>\n",
       "      <td>...</td>\n",
       "      <td>...</td>\n",
       "    </tr>\n",
       "    <tr>\n",
       "      <th>11326</th>\n",
       "      <td>1534</td>\n",
       "      <td>6</td>\n",
       "      <td>2</td>\n",
       "      <td>24.812678</td>\n",
       "      <td>3409.468534</td>\n",
       "      <td>free</td>\n",
       "      <td>0</td>\n",
       "      <td>50</td>\n",
       "    </tr>\n",
       "    <tr>\n",
       "      <th>11327</th>\n",
       "      <td>1534</td>\n",
       "      <td>8</td>\n",
       "      <td>2</td>\n",
       "      <td>47.205960</td>\n",
       "      <td>7622.453034</td>\n",
       "      <td>free</td>\n",
       "      <td>0</td>\n",
       "      <td>50</td>\n",
       "    </tr>\n",
       "    <tr>\n",
       "      <th>11328</th>\n",
       "      <td>1534</td>\n",
       "      <td>9</td>\n",
       "      <td>1</td>\n",
       "      <td>22.560373</td>\n",
       "      <td>4928.173852</td>\n",
       "      <td>free</td>\n",
       "      <td>0</td>\n",
       "      <td>50</td>\n",
       "    </tr>\n",
       "    <tr>\n",
       "      <th>11329</th>\n",
       "      <td>1534</td>\n",
       "      <td>11</td>\n",
       "      <td>4</td>\n",
       "      <td>76.342174</td>\n",
       "      <td>13350.015305</td>\n",
       "      <td>free</td>\n",
       "      <td>0</td>\n",
       "      <td>50</td>\n",
       "    </tr>\n",
       "    <tr>\n",
       "      <th>11330</th>\n",
       "      <td>1534</td>\n",
       "      <td>12</td>\n",
       "      <td>1</td>\n",
       "      <td>15.893917</td>\n",
       "      <td>2371.711192</td>\n",
       "      <td>free</td>\n",
       "      <td>0</td>\n",
       "      <td>50</td>\n",
       "    </tr>\n",
       "  </tbody>\n",
       "</table>\n",
       "<p>11331 rows × 8 columns</p>\n",
       "</div>"
      ],
      "text/plain": [
       "       user_id  month  n_rides  duration_tot  distance_tot subscription_type  \\\n",
       "0            1      1        2     41.416640   7027.511294             ultra   \n",
       "1            1      4        1      6.232113    754.159807             ultra   \n",
       "2            1      8        2     44.776802   6723.470560             ultra   \n",
       "3            1     10        2     31.578017   5809.911100             ultra   \n",
       "4            1     11        3     53.397424   7003.499363             ultra   \n",
       "...        ...    ...      ...           ...           ...               ...   \n",
       "11326     1534      6        2     24.812678   3409.468534              free   \n",
       "11327     1534      8        2     47.205960   7622.453034              free   \n",
       "11328     1534      9        1     22.560373   4928.173852              free   \n",
       "11329     1534     11        4     76.342174  13350.015305              free   \n",
       "11330     1534     12        1     15.893917   2371.711192              free   \n",
       "\n",
       "       subscription_fee  start_ride_price  \n",
       "0                   199                 0  \n",
       "1                   199                 0  \n",
       "2                   199                 0  \n",
       "3                   199                 0  \n",
       "4                   199                 0  \n",
       "...                 ...               ...  \n",
       "11326                 0                50  \n",
       "11327                 0                50  \n",
       "11328                 0                50  \n",
       "11329                 0                50  \n",
       "11330                 0                50  \n",
       "\n",
       "[11331 rows x 8 columns]"
      ]
     },
     "execution_count": 30,
     "metadata": {},
     "output_type": "execute_result"
    }
   ],
   "source": [
    "df"
   ]
  },
  {
   "cell_type": "code",
   "execution_count": 31,
   "id": "58964957",
   "metadata": {},
   "outputs": [],
   "source": [
    "df['duration_tot'] = np.ceil(df['duration_tot'])"
   ]
  },
  {
   "cell_type": "markdown",
   "id": "07caa2e2",
   "metadata": {},
   "source": [
    "Add a column with monthly revenue"
   ]
  },
  {
   "cell_type": "code",
   "execution_count": 32,
   "id": "88daf9b4",
   "metadata": {},
   "outputs": [],
   "source": [
    "df['revenue'] = (df['start_ride_price']*df['n_rides'])+df['duration_tot']*data['minute_price']+data['subscription_fee']"
   ]
  },
  {
   "cell_type": "code",
   "execution_count": 33,
   "id": "bb848caa",
   "metadata": {},
   "outputs": [
    {
     "data": {
      "text/html": [
       "<div>\n",
       "<style scoped>\n",
       "    .dataframe tbody tr th:only-of-type {\n",
       "        vertical-align: middle;\n",
       "    }\n",
       "\n",
       "    .dataframe tbody tr th {\n",
       "        vertical-align: top;\n",
       "    }\n",
       "\n",
       "    .dataframe thead th {\n",
       "        text-align: right;\n",
       "    }\n",
       "</style>\n",
       "<table border=\"1\" class=\"dataframe\">\n",
       "  <thead>\n",
       "    <tr style=\"text-align: right;\">\n",
       "      <th></th>\n",
       "      <th>user_id</th>\n",
       "      <th>month</th>\n",
       "      <th>n_rides</th>\n",
       "      <th>duration_tot</th>\n",
       "      <th>distance_tot</th>\n",
       "      <th>subscription_type</th>\n",
       "      <th>subscription_fee</th>\n",
       "      <th>start_ride_price</th>\n",
       "      <th>revenue</th>\n",
       "    </tr>\n",
       "  </thead>\n",
       "  <tbody>\n",
       "    <tr>\n",
       "      <th>2951</th>\n",
       "      <td>453</td>\n",
       "      <td>9</td>\n",
       "      <td>2</td>\n",
       "      <td>30.0</td>\n",
       "      <td>7232.309725</td>\n",
       "      <td>ultra</td>\n",
       "      <td>199</td>\n",
       "      <td>0</td>\n",
       "      <td>379.0</td>\n",
       "    </tr>\n",
       "    <tr>\n",
       "      <th>9681</th>\n",
       "      <td>1333</td>\n",
       "      <td>3</td>\n",
       "      <td>1</td>\n",
       "      <td>27.0</td>\n",
       "      <td>4720.637417</td>\n",
       "      <td>free</td>\n",
       "      <td>0</td>\n",
       "      <td>50</td>\n",
       "      <td>266.0</td>\n",
       "    </tr>\n",
       "    <tr>\n",
       "      <th>4233</th>\n",
       "      <td>651</td>\n",
       "      <td>7</td>\n",
       "      <td>3</td>\n",
       "      <td>38.0</td>\n",
       "      <td>6536.626436</td>\n",
       "      <td>ultra</td>\n",
       "      <td>199</td>\n",
       "      <td>0</td>\n",
       "      <td>427.0</td>\n",
       "    </tr>\n",
       "    <tr>\n",
       "      <th>6404</th>\n",
       "      <td>936</td>\n",
       "      <td>5</td>\n",
       "      <td>1</td>\n",
       "      <td>23.0</td>\n",
       "      <td>4279.966824</td>\n",
       "      <td>free</td>\n",
       "      <td>0</td>\n",
       "      <td>50</td>\n",
       "      <td>387.0</td>\n",
       "    </tr>\n",
       "    <tr>\n",
       "      <th>9480</th>\n",
       "      <td>1308</td>\n",
       "      <td>12</td>\n",
       "      <td>2</td>\n",
       "      <td>19.0</td>\n",
       "      <td>3970.355432</td>\n",
       "      <td>free</td>\n",
       "      <td>0</td>\n",
       "      <td>50</td>\n",
       "      <td>252.0</td>\n",
       "    </tr>\n",
       "    <tr>\n",
       "      <th>3526</th>\n",
       "      <td>540</td>\n",
       "      <td>12</td>\n",
       "      <td>2</td>\n",
       "      <td>43.0</td>\n",
       "      <td>7273.633026</td>\n",
       "      <td>ultra</td>\n",
       "      <td>199</td>\n",
       "      <td>0</td>\n",
       "      <td>457.0</td>\n",
       "    </tr>\n",
       "    <tr>\n",
       "      <th>2128</th>\n",
       "      <td>325</td>\n",
       "      <td>4</td>\n",
       "      <td>1</td>\n",
       "      <td>22.0</td>\n",
       "      <td>2983.526664</td>\n",
       "      <td>ultra</td>\n",
       "      <td>199</td>\n",
       "      <td>0</td>\n",
       "      <td>331.0</td>\n",
       "    </tr>\n",
       "    <tr>\n",
       "      <th>765</th>\n",
       "      <td>118</td>\n",
       "      <td>6</td>\n",
       "      <td>1</td>\n",
       "      <td>13.0</td>\n",
       "      <td>3103.226704</td>\n",
       "      <td>ultra</td>\n",
       "      <td>199</td>\n",
       "      <td>0</td>\n",
       "      <td>277.0</td>\n",
       "    </tr>\n",
       "    <tr>\n",
       "      <th>5943</th>\n",
       "      <td>879</td>\n",
       "      <td>5</td>\n",
       "      <td>1</td>\n",
       "      <td>28.0</td>\n",
       "      <td>4062.383081</td>\n",
       "      <td>free</td>\n",
       "      <td>0</td>\n",
       "      <td>50</td>\n",
       "      <td>417.0</td>\n",
       "    </tr>\n",
       "    <tr>\n",
       "      <th>8244</th>\n",
       "      <td>1159</td>\n",
       "      <td>5</td>\n",
       "      <td>1</td>\n",
       "      <td>18.0</td>\n",
       "      <td>3501.400005</td>\n",
       "      <td>free</td>\n",
       "      <td>0</td>\n",
       "      <td>50</td>\n",
       "      <td>194.0</td>\n",
       "    </tr>\n",
       "    <tr>\n",
       "      <th>9310</th>\n",
       "      <td>1287</td>\n",
       "      <td>2</td>\n",
       "      <td>1</td>\n",
       "      <td>15.0</td>\n",
       "      <td>1829.084873</td>\n",
       "      <td>free</td>\n",
       "      <td>0</td>\n",
       "      <td>50</td>\n",
       "      <td>170.0</td>\n",
       "    </tr>\n",
       "    <tr>\n",
       "      <th>10716</th>\n",
       "      <td>1461</td>\n",
       "      <td>5</td>\n",
       "      <td>2</td>\n",
       "      <td>33.0</td>\n",
       "      <td>5693.199214</td>\n",
       "      <td>free</td>\n",
       "      <td>0</td>\n",
       "      <td>50</td>\n",
       "      <td>364.0</td>\n",
       "    </tr>\n",
       "    <tr>\n",
       "      <th>7999</th>\n",
       "      <td>1129</td>\n",
       "      <td>3</td>\n",
       "      <td>2</td>\n",
       "      <td>36.0</td>\n",
       "      <td>6379.233383</td>\n",
       "      <td>free</td>\n",
       "      <td>0</td>\n",
       "      <td>50</td>\n",
       "      <td>388.0</td>\n",
       "    </tr>\n",
       "    <tr>\n",
       "      <th>2857</th>\n",
       "      <td>438</td>\n",
       "      <td>3</td>\n",
       "      <td>2</td>\n",
       "      <td>29.0</td>\n",
       "      <td>3363.107456</td>\n",
       "      <td>ultra</td>\n",
       "      <td>199</td>\n",
       "      <td>0</td>\n",
       "      <td>373.0</td>\n",
       "    </tr>\n",
       "    <tr>\n",
       "      <th>4421</th>\n",
       "      <td>680</td>\n",
       "      <td>11</td>\n",
       "      <td>1</td>\n",
       "      <td>25.0</td>\n",
       "      <td>2926.026899</td>\n",
       "      <td>ultra</td>\n",
       "      <td>199</td>\n",
       "      <td>0</td>\n",
       "      <td>349.0</td>\n",
       "    </tr>\n",
       "  </tbody>\n",
       "</table>\n",
       "</div>"
      ],
      "text/plain": [
       "       user_id  month  n_rides  duration_tot  distance_tot subscription_type  \\\n",
       "2951       453      9        2          30.0   7232.309725             ultra   \n",
       "9681      1333      3        1          27.0   4720.637417              free   \n",
       "4233       651      7        3          38.0   6536.626436             ultra   \n",
       "6404       936      5        1          23.0   4279.966824              free   \n",
       "9480      1308     12        2          19.0   3970.355432              free   \n",
       "3526       540     12        2          43.0   7273.633026             ultra   \n",
       "2128       325      4        1          22.0   2983.526664             ultra   \n",
       "765        118      6        1          13.0   3103.226704             ultra   \n",
       "5943       879      5        1          28.0   4062.383081              free   \n",
       "8244      1159      5        1          18.0   3501.400005              free   \n",
       "9310      1287      2        1          15.0   1829.084873              free   \n",
       "10716     1461      5        2          33.0   5693.199214              free   \n",
       "7999      1129      3        2          36.0   6379.233383              free   \n",
       "2857       438      3        2          29.0   3363.107456             ultra   \n",
       "4421       680     11        1          25.0   2926.026899             ultra   \n",
       "\n",
       "       subscription_fee  start_ride_price  revenue  \n",
       "2951                199                 0    379.0  \n",
       "9681                  0                50    266.0  \n",
       "4233                199                 0    427.0  \n",
       "6404                  0                50    387.0  \n",
       "9480                  0                50    252.0  \n",
       "3526                199                 0    457.0  \n",
       "2128                199                 0    331.0  \n",
       "765                 199                 0    277.0  \n",
       "5943                  0                50    417.0  \n",
       "8244                  0                50    194.0  \n",
       "9310                  0                50    170.0  \n",
       "10716                 0                50    364.0  \n",
       "7999                  0                50    388.0  \n",
       "2857                199                 0    373.0  \n",
       "4421                199                 0    349.0  "
      ]
     },
     "execution_count": 33,
     "metadata": {},
     "output_type": "execute_result"
    }
   ],
   "source": [
    "df.sample(15)"
   ]
  },
  {
   "cell_type": "code",
   "execution_count": 34,
   "id": "1913ca86",
   "metadata": {},
   "outputs": [
    {
     "data": {
      "text/html": [
       "<div>\n",
       "<style scoped>\n",
       "    .dataframe tbody tr th:only-of-type {\n",
       "        vertical-align: middle;\n",
       "    }\n",
       "\n",
       "    .dataframe tbody tr th {\n",
       "        vertical-align: top;\n",
       "    }\n",
       "\n",
       "    .dataframe thead th {\n",
       "        text-align: right;\n",
       "    }\n",
       "</style>\n",
       "<table border=\"1\" class=\"dataframe\">\n",
       "  <thead>\n",
       "    <tr style=\"text-align: right;\">\n",
       "      <th></th>\n",
       "      <th>user_id</th>\n",
       "      <th>month</th>\n",
       "      <th>n_rides</th>\n",
       "      <th>duration_tot</th>\n",
       "      <th>distance_tot</th>\n",
       "      <th>subscription_type</th>\n",
       "      <th>subscription_fee</th>\n",
       "      <th>start_ride_price</th>\n",
       "      <th>revenue</th>\n",
       "    </tr>\n",
       "  </thead>\n",
       "  <tbody>\n",
       "    <tr>\n",
       "      <th>4533</th>\n",
       "      <td>700</td>\n",
       "      <td>1</td>\n",
       "      <td>1</td>\n",
       "      <td>15.0</td>\n",
       "      <td>2515.690719</td>\n",
       "      <td>free</td>\n",
       "      <td>0</td>\n",
       "      <td>50</td>\n",
       "      <td>339.0</td>\n",
       "    </tr>\n",
       "    <tr>\n",
       "      <th>4534</th>\n",
       "      <td>700</td>\n",
       "      <td>2</td>\n",
       "      <td>5</td>\n",
       "      <td>86.0</td>\n",
       "      <td>13446.659764</td>\n",
       "      <td>free</td>\n",
       "      <td>0</td>\n",
       "      <td>50</td>\n",
       "      <td>965.0</td>\n",
       "    </tr>\n",
       "    <tr>\n",
       "      <th>4535</th>\n",
       "      <td>700</td>\n",
       "      <td>3</td>\n",
       "      <td>1</td>\n",
       "      <td>19.0</td>\n",
       "      <td>3798.334905</td>\n",
       "      <td>free</td>\n",
       "      <td>0</td>\n",
       "      <td>50</td>\n",
       "      <td>363.0</td>\n",
       "    </tr>\n",
       "  </tbody>\n",
       "</table>\n",
       "</div>"
      ],
      "text/plain": [
       "      user_id  month  n_rides  duration_tot  distance_tot subscription_type  \\\n",
       "4533      700      1        1          15.0   2515.690719              free   \n",
       "4534      700      2        5          86.0  13446.659764              free   \n",
       "4535      700      3        1          19.0   3798.334905              free   \n",
       "\n",
       "      subscription_fee  start_ride_price  revenue  \n",
       "4533                 0                50    339.0  \n",
       "4534                 0                50    965.0  \n",
       "4535                 0                50    363.0  "
      ]
     },
     "metadata": {},
     "output_type": "display_data"
    },
    {
     "data": {
      "text/plain": [
       "subscription_type\n",
       "free     365.951015\n",
       "ultra    361.481800\n",
       "Name: revenue, dtype: float64"
      ]
     },
     "execution_count": 34,
     "metadata": {},
     "output_type": "execute_result"
    }
   ],
   "source": [
    "# Код ревьюера\n",
    "display(df.query('subscription_type == \"free\"').head(3))\n",
    "\n",
    "df.groupby('subscription_type')['revenue'].mean()"
   ]
  },
  {
   "cell_type": "code",
   "execution_count": 35,
   "id": "cb59f5ec",
   "metadata": {},
   "outputs": [
    {
     "data": {
      "text/html": [
       "<div>\n",
       "<style scoped>\n",
       "    .dataframe tbody tr th:only-of-type {\n",
       "        vertical-align: middle;\n",
       "    }\n",
       "\n",
       "    .dataframe tbody tr th {\n",
       "        vertical-align: top;\n",
       "    }\n",
       "\n",
       "    .dataframe thead th {\n",
       "        text-align: right;\n",
       "    }\n",
       "</style>\n",
       "<table border=\"1\" class=\"dataframe\">\n",
       "  <thead>\n",
       "    <tr style=\"text-align: right;\">\n",
       "      <th></th>\n",
       "      <th>user_id</th>\n",
       "      <th>month</th>\n",
       "      <th>n_rides</th>\n",
       "      <th>duration_tot</th>\n",
       "      <th>distance_tot</th>\n",
       "      <th>subscription_type</th>\n",
       "      <th>subscription_fee</th>\n",
       "      <th>start_ride_price</th>\n",
       "      <th>revenue</th>\n",
       "    </tr>\n",
       "  </thead>\n",
       "  <tbody>\n",
       "    <tr>\n",
       "      <th>4533</th>\n",
       "      <td>700</td>\n",
       "      <td>1</td>\n",
       "      <td>1</td>\n",
       "      <td>15.0</td>\n",
       "      <td>2515.690719</td>\n",
       "      <td>free</td>\n",
       "      <td>0</td>\n",
       "      <td>50</td>\n",
       "      <td>339.0</td>\n",
       "    </tr>\n",
       "    <tr>\n",
       "      <th>4534</th>\n",
       "      <td>700</td>\n",
       "      <td>2</td>\n",
       "      <td>5</td>\n",
       "      <td>86.0</td>\n",
       "      <td>13446.659764</td>\n",
       "      <td>free</td>\n",
       "      <td>0</td>\n",
       "      <td>50</td>\n",
       "      <td>965.0</td>\n",
       "    </tr>\n",
       "    <tr>\n",
       "      <th>4535</th>\n",
       "      <td>700</td>\n",
       "      <td>3</td>\n",
       "      <td>1</td>\n",
       "      <td>19.0</td>\n",
       "      <td>3798.334905</td>\n",
       "      <td>free</td>\n",
       "      <td>0</td>\n",
       "      <td>50</td>\n",
       "      <td>363.0</td>\n",
       "    </tr>\n",
       "    <tr>\n",
       "      <th>4536</th>\n",
       "      <td>700</td>\n",
       "      <td>4</td>\n",
       "      <td>1</td>\n",
       "      <td>16.0</td>\n",
       "      <td>2984.551206</td>\n",
       "      <td>free</td>\n",
       "      <td>0</td>\n",
       "      <td>50</td>\n",
       "      <td>345.0</td>\n",
       "    </tr>\n",
       "    <tr>\n",
       "      <th>4537</th>\n",
       "      <td>700</td>\n",
       "      <td>6</td>\n",
       "      <td>2</td>\n",
       "      <td>29.0</td>\n",
       "      <td>5927.650988</td>\n",
       "      <td>free</td>\n",
       "      <td>0</td>\n",
       "      <td>50</td>\n",
       "      <td>473.0</td>\n",
       "    </tr>\n",
       "  </tbody>\n",
       "</table>\n",
       "</div>"
      ],
      "text/plain": [
       "      user_id  month  n_rides  duration_tot  distance_tot subscription_type  \\\n",
       "4533      700      1        1          15.0   2515.690719              free   \n",
       "4534      700      2        5          86.0  13446.659764              free   \n",
       "4535      700      3        1          19.0   3798.334905              free   \n",
       "4536      700      4        1          16.0   2984.551206              free   \n",
       "4537      700      6        2          29.0   5927.650988              free   \n",
       "\n",
       "      subscription_fee  start_ride_price  revenue  \n",
       "4533                 0                50    339.0  \n",
       "4534                 0                50    965.0  \n",
       "4535                 0                50    363.0  \n",
       "4536                 0                50    345.0  \n",
       "4537                 0                50    473.0  "
      ]
     },
     "metadata": {},
     "output_type": "display_data"
    },
    {
     "name": "stdout",
     "output_type": "stream",
     "text": [
      "\n",
      "Датафрейм с моим столбцом расчета выручки\n"
     ]
    },
    {
     "data": {
      "text/html": [
       "<div>\n",
       "<style scoped>\n",
       "    .dataframe tbody tr th:only-of-type {\n",
       "        vertical-align: middle;\n",
       "    }\n",
       "\n",
       "    .dataframe tbody tr th {\n",
       "        vertical-align: top;\n",
       "    }\n",
       "\n",
       "    .dataframe thead th {\n",
       "        text-align: right;\n",
       "    }\n",
       "</style>\n",
       "<table border=\"1\" class=\"dataframe\">\n",
       "  <thead>\n",
       "    <tr style=\"text-align: right;\">\n",
       "      <th></th>\n",
       "      <th>user_id</th>\n",
       "      <th>month</th>\n",
       "      <th>n_rides</th>\n",
       "      <th>duration_tot</th>\n",
       "      <th>distance_tot</th>\n",
       "      <th>subscription_type</th>\n",
       "      <th>subscription_fee</th>\n",
       "      <th>start_ride_price</th>\n",
       "      <th>revenue</th>\n",
       "      <th>revenue_rev</th>\n",
       "    </tr>\n",
       "  </thead>\n",
       "  <tbody>\n",
       "    <tr>\n",
       "      <th>4533</th>\n",
       "      <td>700</td>\n",
       "      <td>1</td>\n",
       "      <td>1</td>\n",
       "      <td>15.0</td>\n",
       "      <td>2515.690719</td>\n",
       "      <td>free</td>\n",
       "      <td>0</td>\n",
       "      <td>50</td>\n",
       "      <td>339.0</td>\n",
       "      <td>170.0</td>\n",
       "    </tr>\n",
       "    <tr>\n",
       "      <th>4534</th>\n",
       "      <td>700</td>\n",
       "      <td>2</td>\n",
       "      <td>5</td>\n",
       "      <td>86.0</td>\n",
       "      <td>13446.659764</td>\n",
       "      <td>free</td>\n",
       "      <td>0</td>\n",
       "      <td>50</td>\n",
       "      <td>965.0</td>\n",
       "      <td>938.0</td>\n",
       "    </tr>\n",
       "    <tr>\n",
       "      <th>4535</th>\n",
       "      <td>700</td>\n",
       "      <td>3</td>\n",
       "      <td>1</td>\n",
       "      <td>19.0</td>\n",
       "      <td>3798.334905</td>\n",
       "      <td>free</td>\n",
       "      <td>0</td>\n",
       "      <td>50</td>\n",
       "      <td>363.0</td>\n",
       "      <td>202.0</td>\n",
       "    </tr>\n",
       "    <tr>\n",
       "      <th>4536</th>\n",
       "      <td>700</td>\n",
       "      <td>4</td>\n",
       "      <td>1</td>\n",
       "      <td>16.0</td>\n",
       "      <td>2984.551206</td>\n",
       "      <td>free</td>\n",
       "      <td>0</td>\n",
       "      <td>50</td>\n",
       "      <td>345.0</td>\n",
       "      <td>178.0</td>\n",
       "    </tr>\n",
       "    <tr>\n",
       "      <th>4537</th>\n",
       "      <td>700</td>\n",
       "      <td>6</td>\n",
       "      <td>2</td>\n",
       "      <td>29.0</td>\n",
       "      <td>5927.650988</td>\n",
       "      <td>free</td>\n",
       "      <td>0</td>\n",
       "      <td>50</td>\n",
       "      <td>473.0</td>\n",
       "      <td>332.0</td>\n",
       "    </tr>\n",
       "  </tbody>\n",
       "</table>\n",
       "</div>"
      ],
      "text/plain": [
       "      user_id  month  n_rides  duration_tot  distance_tot subscription_type  \\\n",
       "4533      700      1        1          15.0   2515.690719              free   \n",
       "4534      700      2        5          86.0  13446.659764              free   \n",
       "4535      700      3        1          19.0   3798.334905              free   \n",
       "4536      700      4        1          16.0   2984.551206              free   \n",
       "4537      700      6        2          29.0   5927.650988              free   \n",
       "\n",
       "      subscription_fee  start_ride_price  revenue  revenue_rev  \n",
       "4533                 0                50    339.0        170.0  \n",
       "4534                 0                50    965.0        938.0  \n",
       "4535                 0                50    363.0        202.0  \n",
       "4536                 0                50    345.0        178.0  \n",
       "4537                 0                50    473.0        332.0  "
      ]
     },
     "metadata": {},
     "output_type": "display_data"
    }
   ],
   "source": [
    "# Код ревьюера\n",
    "df_sample_rev = df.query('subscription_type == \"free\"').head()\n",
    "display(df_sample_rev)\n",
    "\n",
    "df_sample_rev['revenue_rev'] = df_sample_rev['n_rides'] * df_sample_rev['start_ride_price'] \\\n",
    "                                                        + df_sample_rev['subscription_fee']\\\n",
    "                                                        + df_sample_rev['duration_tot'] * 8\n",
    "print()\n",
    "print(\"Датафрейм с моим столбцом расчета выручки\")\n",
    "display(df_sample_rev)"
   ]
  },
  {
   "cell_type": "markdown",
   "id": "41545ac0",
   "metadata": {},
   "source": [
    "# Hypothesis testing"
   ]
  },
  {
   "cell_type": "markdown",
   "id": "ea9d72d7",
   "metadata": {},
   "source": [
    "## Subscribed users spend more time traveling"
   ]
  },
  {
   "cell_type": "markdown",
   "id": "09b3de7f",
   "metadata": {},
   "source": [
    "Null hypothesis (H0): Users with a subscription do not spend more time commuting than users without a subscription.\n",
    "\n",
    "Alternative Hypothesis (H1): Users with a subscription spend more time commuting than users without a subscription.\n",
    "\n",
    "A t-test for two independent samples can be used to test this hypothesis. To do this, you need to compare the duration of each session separately for subscribers and those who do not have a subscription. If the p-value is less than the significance level (usually 0.05), then we can reject the null hypothesis and accept the alternative hypothesis."
   ]
  },
  {
   "cell_type": "code",
   "execution_count": 36,
   "id": "23ea867b",
   "metadata": {},
   "outputs": [
    {
     "name": "stdout",
     "output_type": "stream",
     "text": [
      "Rejecting the null hypothesis\n"
     ]
    }
   ],
   "source": [
    "alpha = .05\n",
    "results = st.ttest_ind(\n",
    "    with_subscription['duration'], \n",
    "    without_subscription['duration'],\n",
    "    alternative='greater')\n",
    "if results.pvalue < alpha:\n",
    "    print('Rejecting the null hypothesis')\n",
    "else:\n",
    "    print('Failed to reject the null hypothesis')"
   ]
  },
  {
   "cell_type": "markdown",
   "id": "68b5bec6",
   "metadata": {},
   "source": [
    "There is a statistically significant difference between the two sample means, and users with a subscription do spend more time commuting than users without a subscription."
   ]
  },
  {
   "cell_type": "markdown",
   "id": "f562adf5",
   "metadata": {},
   "source": [
    "## The distance traveled by users with a subscription in one trip does not exceed 3130 meters"
   ]
  },
  {
   "cell_type": "markdown",
   "id": "849ba233",
   "metadata": {},
   "source": [
    "Null hypothesis (H0): The travel distance of scooter users does not exceed 3130 m.\n",
    "\n",
    "Alternative hypothesis (H1): The travel distance of scooter users exceeds 3130 m.\n",
    "\n",
    "A one-sample t-test can be used to test this hypothesis. To do this, we need to compare the distance of each trip separately with 3130 m. If the p-value is less than the significance level (usually 0.05) and the parameter alternative='greater', then we can reject the null hypothesis and accept the alternative hypothesis."
   ]
  },
  {
   "cell_type": "code",
   "execution_count": 37,
   "id": "8d94f628",
   "metadata": {},
   "outputs": [
    {
     "name": "stdout",
     "output_type": "stream",
     "text": [
      "Failed to reject the null hypothesis\n"
     ]
    }
   ],
   "source": [
    "alpha = .05\n",
    "results = st.ttest_1samp(with_subscription['distance'], 3130, alternative='greater')\n",
    "if results.pvalue < alpha:\n",
    "    print('Rejecting the null hypothesis')\n",
    "else:\n",
    "    print('Failed to reject the null hypothesis')"
   ]
  },
  {
   "cell_type": "markdown",
   "id": "0032dfdb",
   "metadata": {},
   "source": [
    "There is no statistically significant evidence that subscription scooter users ride distances greater than 3130 m."
   ]
  },
  {
   "cell_type": "markdown",
   "id": "0700220f",
   "metadata": {},
   "source": [
    "## Whether the monthly revenue from users with a monthly subscription will be higher than the revenue from users without a subscription."
   ]
  },
  {
   "cell_type": "markdown",
   "id": "dba34225",
   "metadata": {},
   "source": [
    "The null hypothesis (H0) is that the average monthly revenue from users with a subscription is equal to the average monthly revenue from users without a subscription.\n",
    "\n",
    "The alternative hypothesis (H1) is that the average monthly revenue of users with a subscription is higher than that of users without a subscription."
   ]
  },
  {
   "cell_type": "code",
   "execution_count": 38,
   "id": "af6250e5",
   "metadata": {},
   "outputs": [
    {
     "name": "stdout",
     "output_type": "stream",
     "text": [
      "Failed to reject the null hypothesis\n"
     ]
    }
   ],
   "source": [
    "alpha = .05\n",
    "with_sub = df.loc[df['subscription_type'] == 'ultra']['revenue']\n",
    "without_sub = df.loc[df['subscription_type'] == 'free']['revenue']\n",
    "results = st.ttest_ind(with_sub, without_sub, alternative='greater')\n",
    "if results.pvalue < alpha:\n",
    "    print('Rejecting the null hypothesis')\n",
    "else:\n",
    "    print('Failed to reject the null hypothesis')"
   ]
  },
  {
   "cell_type": "markdown",
   "id": "632c0a36",
   "metadata": {},
   "source": [
    "We cannot reject the null hypothesis. This means that the average monthly revenue from users with a subscription is no higher than that of users without a subscription."
   ]
  },
  {
   "cell_type": "markdown",
   "id": "7ed0e76c",
   "metadata": {},
   "source": [
    "# General conclusion\n",
    "Work was carried out with data to find gaps, remove duplicates and change incorrect data types.\n",
    "An exploratory data analysis with visualization was carried out according to the following criteria:\n",
    "* City\n",
    "* Availability of subscription\n",
    "* Client's age\n",
    "* Rental time\n",
    "* Distance per rental\n",
    "\n",
    "The data was combined into a new dataframe and the revenue for each client was calculated for the month. Also held\n",
    "Hypotheses have been constructed from which the following conclusions can be drawn:\n",
    "Revenue from users with a subscription is no more than without it. Users with a subscription on average do not cover a distance of 3130m on a scooter, which has a beneficial effect on the condition of the scooters, but there is no fundamental difference"
   ]
  },
  {
   "cell_type": "markdown",
   "id": "61213c5e",
   "metadata": {},
   "source": [
    "#### Шаг 7. Распределения"
   ]
  },
  {
   "cell_type": "code",
   "execution_count": null,
   "id": "b108e0f6",
   "metadata": {},
   "outputs": [],
   "source": []
  }
 ],
 "metadata": {
  "ExecuteTimeLog": [
   {
    "duration": 103,
    "start_time": "2023-05-31T00:40:06.168Z"
   },
   {
    "duration": 43,
    "start_time": "2023-05-31T00:40:51.506Z"
   },
   {
    "duration": 399,
    "start_time": "2023-05-31T00:40:55.494Z"
   },
   {
    "duration": 186,
    "start_time": "2023-05-31T00:40:56.465Z"
   },
   {
    "duration": 12,
    "start_time": "2023-05-31T00:41:14.805Z"
   },
   {
    "duration": 18,
    "start_time": "2023-05-31T00:41:44.936Z"
   },
   {
    "duration": 14,
    "start_time": "2023-05-31T00:42:06.058Z"
   },
   {
    "duration": 2,
    "start_time": "2023-05-31T00:42:14.647Z"
   },
   {
    "duration": 68,
    "start_time": "2023-05-31T00:42:15.376Z"
   },
   {
    "duration": 9,
    "start_time": "2023-05-31T00:42:15.700Z"
   },
   {
    "duration": 8,
    "start_time": "2023-05-31T00:42:49.906Z"
   },
   {
    "duration": 9,
    "start_time": "2023-05-31T00:42:50.665Z"
   },
   {
    "duration": 8,
    "start_time": "2023-05-31T00:42:51.498Z"
   },
   {
    "duration": 11,
    "start_time": "2023-05-31T00:44:49.054Z"
   },
   {
    "duration": 13,
    "start_time": "2023-05-31T00:44:53.615Z"
   },
   {
    "duration": 10,
    "start_time": "2023-05-31T00:44:55.839Z"
   },
   {
    "duration": 362,
    "start_time": "2023-05-31T00:45:13.191Z"
   },
   {
    "duration": 66,
    "start_time": "2023-05-31T00:45:13.555Z"
   },
   {
    "duration": 14,
    "start_time": "2023-05-31T00:45:13.623Z"
   },
   {
    "duration": 15,
    "start_time": "2023-05-31T00:45:13.639Z"
   },
   {
    "duration": 11,
    "start_time": "2023-05-31T00:45:13.657Z"
   },
   {
    "duration": 64,
    "start_time": "2023-05-31T00:48:51.372Z"
   },
   {
    "duration": 15,
    "start_time": "2023-05-31T00:48:51.748Z"
   },
   {
    "duration": 12,
    "start_time": "2023-05-31T00:48:52.147Z"
   },
   {
    "duration": 9,
    "start_time": "2023-05-31T00:48:52.626Z"
   },
   {
    "duration": 12,
    "start_time": "2023-05-31T00:48:53.391Z"
   },
   {
    "duration": 7,
    "start_time": "2023-05-31T00:48:54.016Z"
   },
   {
    "duration": 10,
    "start_time": "2023-05-31T00:48:55.827Z"
   },
   {
    "duration": 7,
    "start_time": "2023-05-31T01:03:54.788Z"
   },
   {
    "duration": 7,
    "start_time": "2023-05-31T01:03:57.661Z"
   },
   {
    "duration": 6,
    "start_time": "2023-05-31T01:03:58.843Z"
   },
   {
    "duration": 58,
    "start_time": "2023-05-31T01:05:37.462Z"
   },
   {
    "duration": 17,
    "start_time": "2023-05-31T01:05:37.919Z"
   },
   {
    "duration": 7,
    "start_time": "2023-05-31T01:07:11.475Z"
   },
   {
    "duration": 7,
    "start_time": "2023-05-31T01:07:13.765Z"
   },
   {
    "duration": 7,
    "start_time": "2023-05-31T01:07:16.073Z"
   },
   {
    "duration": 4,
    "start_time": "2023-05-31T01:08:43.127Z"
   },
   {
    "duration": 475,
    "start_time": "2023-05-31T01:10:44.889Z"
   },
   {
    "duration": 127,
    "start_time": "2023-05-31T01:10:57.086Z"
   },
   {
    "duration": 75,
    "start_time": "2023-05-31T01:11:08.853Z"
   },
   {
    "duration": 120,
    "start_time": "2023-05-31T01:13:29.665Z"
   },
   {
    "duration": 181,
    "start_time": "2023-05-31T01:13:47.420Z"
   },
   {
    "duration": 198,
    "start_time": "2023-05-31T01:13:57.931Z"
   },
   {
    "duration": 91,
    "start_time": "2023-05-31T01:14:15.677Z"
   },
   {
    "duration": 134,
    "start_time": "2023-05-31T01:14:21.643Z"
   },
   {
    "duration": 107,
    "start_time": "2023-05-31T01:14:26.541Z"
   },
   {
    "duration": 103,
    "start_time": "2023-05-31T01:14:31.826Z"
   },
   {
    "duration": 124,
    "start_time": "2023-05-31T01:14:37.464Z"
   },
   {
    "duration": 174,
    "start_time": "2023-05-31T01:15:16.742Z"
   },
   {
    "duration": 149,
    "start_time": "2023-05-31T01:15:26.826Z"
   },
   {
    "duration": 127,
    "start_time": "2023-05-31T01:15:40.678Z"
   },
   {
    "duration": 143,
    "start_time": "2023-05-31T01:15:54.430Z"
   },
   {
    "duration": 217,
    "start_time": "2023-05-31T01:18:03.414Z"
   },
   {
    "duration": 144,
    "start_time": "2023-05-31T01:18:15.279Z"
   },
   {
    "duration": 140,
    "start_time": "2023-05-31T01:19:37.748Z"
   },
   {
    "duration": 287,
    "start_time": "2023-05-31T01:19:45.526Z"
   },
   {
    "duration": 202,
    "start_time": "2023-05-31T01:19:52.496Z"
   },
   {
    "duration": 162,
    "start_time": "2023-05-31T01:19:56.468Z"
   },
   {
    "duration": 170,
    "start_time": "2023-05-31T01:20:08.104Z"
   },
   {
    "duration": 180,
    "start_time": "2023-05-31T01:20:14.092Z"
   },
   {
    "duration": 153,
    "start_time": "2023-05-31T01:20:23.034Z"
   },
   {
    "duration": 158,
    "start_time": "2023-05-31T01:20:33.056Z"
   },
   {
    "duration": 263,
    "start_time": "2023-05-31T01:20:39.519Z"
   },
   {
    "duration": 149,
    "start_time": "2023-05-31T01:20:53.460Z"
   },
   {
    "duration": 5,
    "start_time": "2023-05-31T01:21:43.797Z"
   },
   {
    "duration": 103,
    "start_time": "2023-05-31T01:21:49.627Z"
   },
   {
    "duration": 113,
    "start_time": "2023-05-31T01:22:00.733Z"
   },
   {
    "duration": 96,
    "start_time": "2023-05-31T01:22:06.105Z"
   },
   {
    "duration": 101,
    "start_time": "2023-05-31T01:22:09.665Z"
   },
   {
    "duration": 104,
    "start_time": "2023-05-31T01:22:12.364Z"
   },
   {
    "duration": 138,
    "start_time": "2023-05-31T01:22:54.379Z"
   },
   {
    "duration": 92,
    "start_time": "2023-05-31T01:23:16.290Z"
   },
   {
    "duration": 126,
    "start_time": "2023-05-31T01:23:17.384Z"
   },
   {
    "duration": 132,
    "start_time": "2023-05-31T01:24:26.127Z"
   },
   {
    "duration": 1186,
    "start_time": "2023-05-31T01:24:57.843Z"
   },
   {
    "duration": 130,
    "start_time": "2023-05-31T01:25:12.455Z"
   },
   {
    "duration": 132,
    "start_time": "2023-05-31T01:25:24.929Z"
   },
   {
    "duration": 133,
    "start_time": "2023-05-31T01:25:25.817Z"
   },
   {
    "duration": 27,
    "start_time": "2023-05-31T01:28:36.714Z"
   },
   {
    "duration": 33,
    "start_time": "2023-05-31T01:30:04.478Z"
   },
   {
    "duration": 9,
    "start_time": "2023-05-31T01:37:44.010Z"
   },
   {
    "duration": 31,
    "start_time": "2023-05-31T01:38:12.062Z"
   },
   {
    "duration": 31,
    "start_time": "2023-05-31T01:38:44.019Z"
   },
   {
    "duration": 30,
    "start_time": "2023-05-31T01:38:57.629Z"
   },
   {
    "duration": 23,
    "start_time": "2023-05-31T01:39:17.149Z"
   },
   {
    "duration": 15,
    "start_time": "2023-05-31T01:42:51.914Z"
   },
   {
    "duration": 16,
    "start_time": "2023-05-31T01:42:55.136Z"
   },
   {
    "duration": 103,
    "start_time": "2023-05-31T01:49:33.496Z"
   },
   {
    "duration": 4,
    "start_time": "2023-05-31T01:50:01.718Z"
   },
   {
    "duration": 7,
    "start_time": "2023-05-31T01:50:10.004Z"
   },
   {
    "duration": 8,
    "start_time": "2023-05-31T01:58:55.710Z"
   },
   {
    "duration": 23,
    "start_time": "2023-05-31T01:59:11.601Z"
   },
   {
    "duration": 23,
    "start_time": "2023-05-31T02:00:04.685Z"
   },
   {
    "duration": 8,
    "start_time": "2023-05-31T02:00:38.980Z"
   },
   {
    "duration": 20,
    "start_time": "2023-05-31T02:00:40.053Z"
   },
   {
    "duration": 9,
    "start_time": "2023-05-31T02:00:42.084Z"
   },
   {
    "duration": 18,
    "start_time": "2023-05-31T02:00:47.880Z"
   },
   {
    "duration": 138,
    "start_time": "2023-05-31T02:03:23.924Z"
   },
   {
    "duration": 261,
    "start_time": "2023-05-31T02:03:29.282Z"
   },
   {
    "duration": 124,
    "start_time": "2023-05-31T02:03:59.086Z"
   },
   {
    "duration": 132,
    "start_time": "2023-05-31T02:04:00.050Z"
   },
   {
    "duration": 121,
    "start_time": "2023-05-31T02:04:01.163Z"
   },
   {
    "duration": 137,
    "start_time": "2023-05-31T02:04:01.897Z"
   },
   {
    "duration": 136,
    "start_time": "2023-05-31T02:04:15.641Z"
   },
   {
    "duration": 125,
    "start_time": "2023-05-31T02:04:16.320Z"
   },
   {
    "duration": 116,
    "start_time": "2023-05-31T02:04:16.966Z"
   },
   {
    "duration": 133,
    "start_time": "2023-05-31T02:04:17.618Z"
   },
   {
    "duration": 20,
    "start_time": "2023-05-31T02:57:26.050Z"
   },
   {
    "duration": 27,
    "start_time": "2023-05-31T02:58:45.335Z"
   },
   {
    "duration": 34,
    "start_time": "2023-05-31T02:58:52.723Z"
   },
   {
    "duration": 34,
    "start_time": "2023-05-31T02:59:18.971Z"
   },
   {
    "duration": 35,
    "start_time": "2023-05-31T02:59:26.379Z"
   },
   {
    "duration": 26,
    "start_time": "2023-05-31T02:59:43.507Z"
   },
   {
    "duration": 28,
    "start_time": "2023-05-31T03:02:28.872Z"
   },
   {
    "duration": 414,
    "start_time": "2023-05-31T03:06:25.333Z"
   },
   {
    "duration": 67,
    "start_time": "2023-05-31T03:06:25.749Z"
   },
   {
    "duration": 15,
    "start_time": "2023-05-31T03:06:25.818Z"
   },
   {
    "duration": 21,
    "start_time": "2023-05-31T03:06:25.834Z"
   },
   {
    "duration": 13,
    "start_time": "2023-05-31T03:06:25.858Z"
   },
   {
    "duration": 21,
    "start_time": "2023-05-31T03:06:25.873Z"
   },
   {
    "duration": 11,
    "start_time": "2023-05-31T03:06:25.896Z"
   },
   {
    "duration": 23,
    "start_time": "2023-05-31T03:06:25.909Z"
   },
   {
    "duration": 20,
    "start_time": "2023-05-31T03:06:25.934Z"
   },
   {
    "duration": 17,
    "start_time": "2023-05-31T03:06:25.955Z"
   },
   {
    "duration": 14,
    "start_time": "2023-05-31T03:06:25.974Z"
   },
   {
    "duration": 10,
    "start_time": "2023-05-31T03:06:25.990Z"
   },
   {
    "duration": 6,
    "start_time": "2023-05-31T03:06:26.002Z"
   },
   {
    "duration": 392,
    "start_time": "2023-05-31T03:06:26.011Z"
   },
   {
    "duration": 110,
    "start_time": "2023-05-31T03:06:26.405Z"
   },
   {
    "duration": 150,
    "start_time": "2023-05-31T03:06:26.518Z"
   },
   {
    "duration": 138,
    "start_time": "2023-05-31T03:06:26.670Z"
   },
   {
    "duration": 137,
    "start_time": "2023-05-31T03:06:26.809Z"
   },
   {
    "duration": 17,
    "start_time": "2023-05-31T03:06:26.948Z"
   },
   {
    "duration": 8,
    "start_time": "2023-05-31T03:06:26.967Z"
   },
   {
    "duration": 209,
    "start_time": "2023-05-31T03:06:26.977Z"
   },
   {
    "duration": 129,
    "start_time": "2023-05-31T03:06:27.187Z"
   },
   {
    "duration": 118,
    "start_time": "2023-05-31T03:06:27.318Z"
   },
   {
    "duration": 130,
    "start_time": "2023-05-31T03:06:27.441Z"
   },
   {
    "duration": 28,
    "start_time": "2023-05-31T03:06:27.573Z"
   },
   {
    "duration": 76,
    "start_time": "2023-05-31T03:13:23.391Z"
   },
   {
    "duration": 17,
    "start_time": "2023-05-31T03:14:34.343Z"
   },
   {
    "duration": 14,
    "start_time": "2023-05-31T03:14:51.573Z"
   },
   {
    "duration": 15,
    "start_time": "2023-05-31T03:15:43.974Z"
   },
   {
    "duration": 16,
    "start_time": "2023-05-31T03:16:00.405Z"
   },
   {
    "duration": 11,
    "start_time": "2023-05-31T03:17:10.737Z"
   },
   {
    "duration": 11,
    "start_time": "2023-05-31T03:24:53.456Z"
   },
   {
    "duration": 25,
    "start_time": "2023-05-31T03:25:00.378Z"
   },
   {
    "duration": 1374,
    "start_time": "2023-05-31T03:27:53.859Z"
   },
   {
    "duration": 18,
    "start_time": "2023-05-31T03:28:17.139Z"
   },
   {
    "duration": 18,
    "start_time": "2023-05-31T03:29:19.829Z"
   },
   {
    "duration": 11,
    "start_time": "2023-05-31T03:29:48.703Z"
   },
   {
    "duration": 15,
    "start_time": "2023-05-31T03:30:16.903Z"
   },
   {
    "duration": 11,
    "start_time": "2023-05-31T03:30:34.800Z"
   },
   {
    "duration": 35,
    "start_time": "2023-05-31T03:32:21.562Z"
   },
   {
    "duration": 16,
    "start_time": "2023-05-31T03:33:35.470Z"
   },
   {
    "duration": 12,
    "start_time": "2023-05-31T03:33:59.426Z"
   },
   {
    "duration": 18,
    "start_time": "2023-05-31T03:50:05.325Z"
   },
   {
    "duration": 9,
    "start_time": "2023-05-31T04:26:44.844Z"
   },
   {
    "duration": 880,
    "start_time": "2023-05-31T04:26:56.229Z"
   },
   {
    "duration": 65,
    "start_time": "2023-05-31T04:26:57.111Z"
   },
   {
    "duration": 15,
    "start_time": "2023-05-31T04:26:57.178Z"
   },
   {
    "duration": 20,
    "start_time": "2023-05-31T04:26:57.195Z"
   },
   {
    "duration": 12,
    "start_time": "2023-05-31T04:26:57.217Z"
   },
   {
    "duration": 17,
    "start_time": "2023-05-31T04:26:57.231Z"
   },
   {
    "duration": 12,
    "start_time": "2023-05-31T04:26:57.250Z"
   },
   {
    "duration": 16,
    "start_time": "2023-05-31T04:26:57.263Z"
   },
   {
    "duration": 15,
    "start_time": "2023-05-31T04:26:57.281Z"
   },
   {
    "duration": 6,
    "start_time": "2023-05-31T04:26:57.300Z"
   },
   {
    "duration": 14,
    "start_time": "2023-05-31T04:26:57.308Z"
   },
   {
    "duration": 9,
    "start_time": "2023-05-31T04:26:57.341Z"
   },
   {
    "duration": 8,
    "start_time": "2023-05-31T04:26:57.353Z"
   },
   {
    "duration": 516,
    "start_time": "2023-05-31T04:26:57.363Z"
   },
   {
    "duration": 125,
    "start_time": "2023-05-31T04:26:57.881Z"
   },
   {
    "duration": 166,
    "start_time": "2023-05-31T04:26:58.008Z"
   },
   {
    "duration": 210,
    "start_time": "2023-05-31T04:26:58.176Z"
   },
   {
    "duration": 145,
    "start_time": "2023-05-31T04:26:58.389Z"
   },
   {
    "duration": 22,
    "start_time": "2023-05-31T04:26:58.536Z"
   },
   {
    "duration": 9,
    "start_time": "2023-05-31T04:26:58.560Z"
   },
   {
    "duration": 155,
    "start_time": "2023-05-31T04:26:58.571Z"
   },
   {
    "duration": 139,
    "start_time": "2023-05-31T04:26:58.728Z"
   },
   {
    "duration": 161,
    "start_time": "2023-05-31T04:26:58.870Z"
   },
   {
    "duration": 152,
    "start_time": "2023-05-31T04:26:59.033Z"
   },
   {
    "duration": 44,
    "start_time": "2023-05-31T04:26:59.186Z"
   },
   {
    "duration": 162,
    "start_time": "2023-05-31T04:26:59.241Z"
   },
   {
    "duration": 0,
    "start_time": "2023-05-31T04:26:59.405Z"
   },
   {
    "duration": 0,
    "start_time": "2023-05-31T04:26:59.406Z"
   },
   {
    "duration": 0,
    "start_time": "2023-05-31T04:26:59.407Z"
   },
   {
    "duration": 99,
    "start_time": "2023-05-31T04:39:01.889Z"
   },
   {
    "duration": 84,
    "start_time": "2023-05-31T04:40:06.077Z"
   },
   {
    "duration": 225,
    "start_time": "2023-05-31T04:40:09.511Z"
   },
   {
    "duration": 11,
    "start_time": "2023-05-31T04:40:17.626Z"
   },
   {
    "duration": 87,
    "start_time": "2023-05-31T04:51:11.080Z"
   },
   {
    "duration": 839,
    "start_time": "2023-05-31T04:51:51.373Z"
   },
   {
    "duration": 70,
    "start_time": "2023-05-31T04:51:52.215Z"
   },
   {
    "duration": 16,
    "start_time": "2023-05-31T04:51:52.286Z"
   },
   {
    "duration": 12,
    "start_time": "2023-05-31T04:51:52.304Z"
   },
   {
    "duration": 19,
    "start_time": "2023-05-31T04:51:52.319Z"
   },
   {
    "duration": 29,
    "start_time": "2023-05-31T04:51:52.340Z"
   },
   {
    "duration": 9,
    "start_time": "2023-05-31T04:51:52.371Z"
   },
   {
    "duration": 13,
    "start_time": "2023-05-31T04:51:52.382Z"
   },
   {
    "duration": 16,
    "start_time": "2023-05-31T04:51:52.396Z"
   },
   {
    "duration": 8,
    "start_time": "2023-05-31T04:51:52.413Z"
   },
   {
    "duration": 10,
    "start_time": "2023-05-31T04:51:52.423Z"
   },
   {
    "duration": 22,
    "start_time": "2023-05-31T04:51:52.435Z"
   },
   {
    "duration": 9,
    "start_time": "2023-05-31T04:51:52.458Z"
   },
   {
    "duration": 448,
    "start_time": "2023-05-31T04:51:52.470Z"
   },
   {
    "duration": 140,
    "start_time": "2023-05-31T04:51:52.920Z"
   },
   {
    "duration": 151,
    "start_time": "2023-05-31T04:51:53.062Z"
   },
   {
    "duration": 161,
    "start_time": "2023-05-31T04:51:53.215Z"
   },
   {
    "duration": 150,
    "start_time": "2023-05-31T04:51:53.378Z"
   },
   {
    "duration": 28,
    "start_time": "2023-05-31T04:51:53.530Z"
   },
   {
    "duration": 9,
    "start_time": "2023-05-31T04:51:53.560Z"
   },
   {
    "duration": 143,
    "start_time": "2023-05-31T04:51:53.571Z"
   },
   {
    "duration": 155,
    "start_time": "2023-05-31T04:51:53.716Z"
   },
   {
    "duration": 135,
    "start_time": "2023-05-31T04:51:53.873Z"
   },
   {
    "duration": 183,
    "start_time": "2023-05-31T04:51:54.010Z"
   },
   {
    "duration": 34,
    "start_time": "2023-05-31T04:51:54.195Z"
   },
   {
    "duration": 80,
    "start_time": "2023-05-31T04:51:54.251Z"
   },
   {
    "duration": 0,
    "start_time": "2023-05-31T04:51:54.333Z"
   },
   {
    "duration": 0,
    "start_time": "2023-05-31T04:51:54.334Z"
   },
   {
    "duration": 0,
    "start_time": "2023-05-31T04:51:54.335Z"
   },
   {
    "duration": 0,
    "start_time": "2023-05-31T04:51:54.337Z"
   },
   {
    "duration": 123,
    "start_time": "2023-05-31T04:52:07.467Z"
   },
   {
    "duration": 118,
    "start_time": "2023-05-31T04:52:10.684Z"
   },
   {
    "duration": 8,
    "start_time": "2023-05-31T04:53:27.527Z"
   },
   {
    "duration": 29,
    "start_time": "2023-05-31T04:53:29.628Z"
   },
   {
    "duration": 19,
    "start_time": "2023-05-31T04:54:19.867Z"
   },
   {
    "duration": 99,
    "start_time": "2023-05-31T04:54:47.426Z"
   },
   {
    "duration": 72,
    "start_time": "2023-05-31T04:54:58.749Z"
   },
   {
    "duration": 110,
    "start_time": "2023-05-31T04:55:55.454Z"
   },
   {
    "duration": 7,
    "start_time": "2023-05-31T04:56:00.999Z"
   },
   {
    "duration": 17,
    "start_time": "2023-05-31T04:56:05.185Z"
   },
   {
    "duration": 81,
    "start_time": "2023-05-31T04:56:20.254Z"
   },
   {
    "duration": 861,
    "start_time": "2023-05-31T04:56:50.526Z"
   },
   {
    "duration": 69,
    "start_time": "2023-05-31T04:56:51.389Z"
   },
   {
    "duration": 14,
    "start_time": "2023-05-31T04:56:51.460Z"
   },
   {
    "duration": 65,
    "start_time": "2023-05-31T04:56:51.475Z"
   },
   {
    "duration": 45,
    "start_time": "2023-05-31T04:56:51.542Z"
   },
   {
    "duration": 14,
    "start_time": "2023-05-31T04:56:51.589Z"
   },
   {
    "duration": 11,
    "start_time": "2023-05-31T04:56:51.605Z"
   },
   {
    "duration": 11,
    "start_time": "2023-05-31T04:56:51.617Z"
   },
   {
    "duration": 23,
    "start_time": "2023-05-31T04:56:51.630Z"
   },
   {
    "duration": 16,
    "start_time": "2023-05-31T04:56:51.655Z"
   },
   {
    "duration": 7,
    "start_time": "2023-05-31T04:56:51.673Z"
   },
   {
    "duration": 14,
    "start_time": "2023-05-31T04:56:51.682Z"
   },
   {
    "duration": 9,
    "start_time": "2023-05-31T04:56:51.698Z"
   },
   {
    "duration": 457,
    "start_time": "2023-05-31T04:56:51.710Z"
   },
   {
    "duration": 107,
    "start_time": "2023-05-31T04:56:52.169Z"
   },
   {
    "duration": 149,
    "start_time": "2023-05-31T04:56:52.278Z"
   },
   {
    "duration": 157,
    "start_time": "2023-05-31T04:56:52.429Z"
   },
   {
    "duration": 150,
    "start_time": "2023-05-31T04:56:52.588Z"
   },
   {
    "duration": 19,
    "start_time": "2023-05-31T04:56:52.740Z"
   },
   {
    "duration": 32,
    "start_time": "2023-05-31T04:56:52.760Z"
   },
   {
    "duration": 143,
    "start_time": "2023-05-31T04:56:52.794Z"
   },
   {
    "duration": 136,
    "start_time": "2023-05-31T04:56:52.941Z"
   },
   {
    "duration": 151,
    "start_time": "2023-05-31T04:56:53.079Z"
   },
   {
    "duration": 165,
    "start_time": "2023-05-31T04:56:53.231Z"
   },
   {
    "duration": 37,
    "start_time": "2023-05-31T04:56:53.397Z"
   },
   {
    "duration": 76,
    "start_time": "2023-05-31T04:56:53.442Z"
   },
   {
    "duration": 0,
    "start_time": "2023-05-31T04:56:53.520Z"
   },
   {
    "duration": 0,
    "start_time": "2023-05-31T04:56:53.521Z"
   },
   {
    "duration": 0,
    "start_time": "2023-05-31T04:56:53.523Z"
   },
   {
    "duration": 0,
    "start_time": "2023-05-31T04:56:53.524Z"
   },
   {
    "duration": 879,
    "start_time": "2023-05-31T05:28:19.556Z"
   },
   {
    "duration": 76,
    "start_time": "2023-05-31T05:28:20.438Z"
   },
   {
    "duration": 19,
    "start_time": "2023-05-31T05:28:20.515Z"
   },
   {
    "duration": 36,
    "start_time": "2023-05-31T05:28:20.536Z"
   },
   {
    "duration": 15,
    "start_time": "2023-05-31T05:28:20.575Z"
   },
   {
    "duration": 18,
    "start_time": "2023-05-31T05:28:20.592Z"
   },
   {
    "duration": 10,
    "start_time": "2023-05-31T05:28:20.612Z"
   },
   {
    "duration": 28,
    "start_time": "2023-05-31T05:28:20.624Z"
   },
   {
    "duration": 15,
    "start_time": "2023-05-31T05:28:20.654Z"
   },
   {
    "duration": 11,
    "start_time": "2023-05-31T05:28:20.670Z"
   },
   {
    "duration": 10,
    "start_time": "2023-05-31T05:28:20.683Z"
   },
   {
    "duration": 15,
    "start_time": "2023-05-31T05:28:20.694Z"
   },
   {
    "duration": 7,
    "start_time": "2023-05-31T05:28:20.711Z"
   },
   {
    "duration": 472,
    "start_time": "2023-05-31T05:28:20.721Z"
   },
   {
    "duration": 132,
    "start_time": "2023-05-31T05:28:21.195Z"
   },
   {
    "duration": 163,
    "start_time": "2023-05-31T05:28:21.329Z"
   },
   {
    "duration": 144,
    "start_time": "2023-05-31T05:28:21.494Z"
   },
   {
    "duration": 147,
    "start_time": "2023-05-31T05:28:21.639Z"
   },
   {
    "duration": 17,
    "start_time": "2023-05-31T05:28:21.788Z"
   },
   {
    "duration": 9,
    "start_time": "2023-05-31T05:28:21.807Z"
   },
   {
    "duration": 173,
    "start_time": "2023-05-31T05:28:21.818Z"
   },
   {
    "duration": 162,
    "start_time": "2023-05-31T05:28:21.993Z"
   },
   {
    "duration": 126,
    "start_time": "2023-05-31T05:28:22.158Z"
   },
   {
    "duration": 134,
    "start_time": "2023-05-31T05:28:22.285Z"
   },
   {
    "duration": 40,
    "start_time": "2023-05-31T05:28:22.421Z"
   },
   {
    "duration": 80,
    "start_time": "2023-05-31T05:28:22.462Z"
   },
   {
    "duration": 0,
    "start_time": "2023-05-31T05:28:22.543Z"
   },
   {
    "duration": 0,
    "start_time": "2023-05-31T05:28:22.544Z"
   },
   {
    "duration": 0,
    "start_time": "2023-05-31T05:28:22.545Z"
   },
   {
    "duration": 0,
    "start_time": "2023-05-31T05:28:22.546Z"
   },
   {
    "duration": 867,
    "start_time": "2023-05-31T07:15:22.484Z"
   },
   {
    "duration": 195,
    "start_time": "2023-05-31T07:15:23.353Z"
   },
   {
    "duration": 13,
    "start_time": "2023-05-31T07:15:23.550Z"
   },
   {
    "duration": 19,
    "start_time": "2023-05-31T07:15:23.564Z"
   },
   {
    "duration": 12,
    "start_time": "2023-05-31T07:15:23.586Z"
   },
   {
    "duration": 16,
    "start_time": "2023-05-31T07:15:23.600Z"
   },
   {
    "duration": 28,
    "start_time": "2023-05-31T07:15:23.618Z"
   },
   {
    "duration": 19,
    "start_time": "2023-05-31T07:15:23.648Z"
   },
   {
    "duration": 32,
    "start_time": "2023-05-31T07:15:23.669Z"
   },
   {
    "duration": 14,
    "start_time": "2023-05-31T07:15:23.703Z"
   },
   {
    "duration": 17,
    "start_time": "2023-05-31T07:15:23.718Z"
   },
   {
    "duration": 11,
    "start_time": "2023-05-31T07:15:23.736Z"
   },
   {
    "duration": 9,
    "start_time": "2023-05-31T07:15:23.749Z"
   },
   {
    "duration": 570,
    "start_time": "2023-05-31T07:15:23.761Z"
   },
   {
    "duration": 102,
    "start_time": "2023-05-31T07:15:24.333Z"
   },
   {
    "duration": 140,
    "start_time": "2023-05-31T07:15:24.437Z"
   },
   {
    "duration": 143,
    "start_time": "2023-05-31T07:15:24.578Z"
   },
   {
    "duration": 133,
    "start_time": "2023-05-31T07:15:24.724Z"
   },
   {
    "duration": 22,
    "start_time": "2023-05-31T07:15:24.859Z"
   },
   {
    "duration": 21,
    "start_time": "2023-05-31T07:15:24.882Z"
   },
   {
    "duration": 172,
    "start_time": "2023-05-31T07:15:24.906Z"
   },
   {
    "duration": 145,
    "start_time": "2023-05-31T07:15:25.080Z"
   },
   {
    "duration": 147,
    "start_time": "2023-05-31T07:15:25.227Z"
   },
   {
    "duration": 143,
    "start_time": "2023-05-31T07:15:25.376Z"
   },
   {
    "duration": 109,
    "start_time": "2023-05-31T07:15:25.523Z"
   },
   {
    "duration": 174,
    "start_time": "2023-05-31T07:15:25.633Z"
   },
   {
    "duration": 0,
    "start_time": "2023-05-31T07:15:25.808Z"
   },
   {
    "duration": 1,
    "start_time": "2023-05-31T07:15:25.809Z"
   },
   {
    "duration": 0,
    "start_time": "2023-05-31T07:15:25.811Z"
   },
   {
    "duration": 0,
    "start_time": "2023-05-31T07:15:25.812Z"
   },
   {
    "duration": 103,
    "start_time": "2023-05-31T07:19:24.404Z"
   },
   {
    "duration": 9,
    "start_time": "2023-05-31T07:19:32.036Z"
   },
   {
    "duration": 876,
    "start_time": "2023-05-31T07:19:54.791Z"
   },
   {
    "duration": 65,
    "start_time": "2023-05-31T07:19:55.669Z"
   },
   {
    "duration": 165,
    "start_time": "2023-05-31T07:19:55.736Z"
   },
   {
    "duration": 55,
    "start_time": "2023-05-31T07:19:55.904Z"
   },
   {
    "duration": 44,
    "start_time": "2023-05-31T07:19:55.961Z"
   },
   {
    "duration": 40,
    "start_time": "2023-05-31T07:19:56.007Z"
   },
   {
    "duration": 19,
    "start_time": "2023-05-31T07:19:56.049Z"
   },
   {
    "duration": 34,
    "start_time": "2023-05-31T07:19:56.070Z"
   },
   {
    "duration": 15,
    "start_time": "2023-05-31T07:19:56.106Z"
   },
   {
    "duration": 15,
    "start_time": "2023-05-31T07:19:56.124Z"
   },
   {
    "duration": 7,
    "start_time": "2023-05-31T07:19:56.141Z"
   },
   {
    "duration": 8,
    "start_time": "2023-05-31T07:19:56.150Z"
   },
   {
    "duration": 7,
    "start_time": "2023-05-31T07:19:56.160Z"
   },
   {
    "duration": 32,
    "start_time": "2023-05-31T07:19:56.169Z"
   },
   {
    "duration": 438,
    "start_time": "2023-05-31T07:19:56.204Z"
   },
   {
    "duration": 112,
    "start_time": "2023-05-31T07:19:56.644Z"
   },
   {
    "duration": 138,
    "start_time": "2023-05-31T07:19:56.758Z"
   },
   {
    "duration": 136,
    "start_time": "2023-05-31T07:19:56.898Z"
   },
   {
    "duration": 134,
    "start_time": "2023-05-31T07:19:57.036Z"
   },
   {
    "duration": 16,
    "start_time": "2023-05-31T07:19:57.172Z"
   },
   {
    "duration": 27,
    "start_time": "2023-05-31T07:19:57.189Z"
   },
   {
    "duration": 151,
    "start_time": "2023-05-31T07:19:57.218Z"
   },
   {
    "duration": 161,
    "start_time": "2023-05-31T07:19:57.371Z"
   },
   {
    "duration": 120,
    "start_time": "2023-05-31T07:19:57.533Z"
   },
   {
    "duration": 145,
    "start_time": "2023-05-31T07:19:57.655Z"
   },
   {
    "duration": 41,
    "start_time": "2023-05-31T07:19:57.802Z"
   },
   {
    "duration": 357,
    "start_time": "2023-05-31T07:19:57.846Z"
   },
   {
    "duration": 0,
    "start_time": "2023-05-31T07:19:58.205Z"
   },
   {
    "duration": 0,
    "start_time": "2023-05-31T07:19:58.206Z"
   },
   {
    "duration": 0,
    "start_time": "2023-05-31T07:19:58.208Z"
   },
   {
    "duration": 0,
    "start_time": "2023-05-31T07:19:58.208Z"
   },
   {
    "duration": 5,
    "start_time": "2023-05-31T07:20:14.015Z"
   },
   {
    "duration": 437,
    "start_time": "2023-05-31T07:22:24.495Z"
   },
   {
    "duration": 8,
    "start_time": "2023-05-31T07:24:42.121Z"
   },
   {
    "duration": 785,
    "start_time": "2023-05-31T13:37:00.343Z"
   },
   {
    "duration": 545,
    "start_time": "2023-05-31T13:37:01.131Z"
   },
   {
    "duration": 16,
    "start_time": "2023-05-31T13:37:01.691Z"
   },
   {
    "duration": 49,
    "start_time": "2023-05-31T13:37:01.708Z"
   },
   {
    "duration": 53,
    "start_time": "2023-05-31T13:37:01.760Z"
   },
   {
    "duration": 67,
    "start_time": "2023-05-31T13:37:01.814Z"
   },
   {
    "duration": 22,
    "start_time": "2023-05-31T13:37:01.891Z"
   },
   {
    "duration": 44,
    "start_time": "2023-05-31T13:37:01.915Z"
   },
   {
    "duration": 53,
    "start_time": "2023-05-31T13:37:01.961Z"
   },
   {
    "duration": 32,
    "start_time": "2023-05-31T13:37:02.016Z"
   },
   {
    "duration": 41,
    "start_time": "2023-05-31T13:37:02.050Z"
   },
   {
    "duration": 58,
    "start_time": "2023-05-31T13:37:02.093Z"
   },
   {
    "duration": 37,
    "start_time": "2023-05-31T13:37:02.152Z"
   },
   {
    "duration": 28,
    "start_time": "2023-05-31T13:37:02.194Z"
   },
   {
    "duration": 640,
    "start_time": "2023-05-31T13:37:02.224Z"
   },
   {
    "duration": 127,
    "start_time": "2023-05-31T13:37:02.865Z"
   },
   {
    "duration": 132,
    "start_time": "2023-05-31T13:37:02.994Z"
   },
   {
    "duration": 140,
    "start_time": "2023-05-31T13:37:03.127Z"
   },
   {
    "duration": 131,
    "start_time": "2023-05-31T13:37:03.268Z"
   },
   {
    "duration": 15,
    "start_time": "2023-05-31T13:37:03.401Z"
   },
   {
    "duration": 25,
    "start_time": "2023-05-31T13:37:03.418Z"
   },
   {
    "duration": 8,
    "start_time": "2023-05-31T13:37:03.445Z"
   },
   {
    "duration": 153,
    "start_time": "2023-05-31T13:37:03.455Z"
   },
   {
    "duration": 131,
    "start_time": "2023-05-31T13:37:03.609Z"
   },
   {
    "duration": 121,
    "start_time": "2023-05-31T13:37:03.741Z"
   },
   {
    "duration": 149,
    "start_time": "2023-05-31T13:37:03.863Z"
   },
   {
    "duration": 113,
    "start_time": "2023-05-31T13:37:04.014Z"
   },
   {
    "duration": 63,
    "start_time": "2023-05-31T13:37:04.128Z"
   },
   {
    "duration": 0,
    "start_time": "2023-05-31T13:37:04.193Z"
   },
   {
    "duration": 0,
    "start_time": "2023-05-31T13:37:04.193Z"
   },
   {
    "duration": 0,
    "start_time": "2023-05-31T13:37:04.194Z"
   },
   {
    "duration": 0,
    "start_time": "2023-05-31T13:37:04.196Z"
   },
   {
    "duration": 11,
    "start_time": "2023-05-31T13:39:22.272Z"
   },
   {
    "duration": 8,
    "start_time": "2023-05-31T13:39:31.345Z"
   },
   {
    "duration": 71,
    "start_time": "2023-05-31T13:40:00.617Z"
   },
   {
    "duration": 8,
    "start_time": "2023-05-31T13:40:40.442Z"
   },
   {
    "duration": 793,
    "start_time": "2023-05-31T15:02:31.923Z"
   },
   {
    "duration": 519,
    "start_time": "2023-05-31T15:02:33.100Z"
   },
   {
    "duration": 14,
    "start_time": "2023-05-31T15:02:33.621Z"
   },
   {
    "duration": 12,
    "start_time": "2023-05-31T15:02:34.227Z"
   },
   {
    "duration": 9,
    "start_time": "2023-05-31T15:02:34.976Z"
   },
   {
    "duration": 12,
    "start_time": "2023-05-31T15:02:35.675Z"
   },
   {
    "duration": 7,
    "start_time": "2023-05-31T15:02:45.686Z"
   },
   {
    "duration": 11,
    "start_time": "2023-05-31T15:02:46.476Z"
   },
   {
    "duration": 7,
    "start_time": "2023-05-31T15:02:48.357Z"
   },
   {
    "duration": 6,
    "start_time": "2023-05-31T15:02:49.311Z"
   },
   {
    "duration": 7,
    "start_time": "2023-05-31T15:02:50.493Z"
   },
   {
    "duration": 6,
    "start_time": "2023-05-31T15:02:52.693Z"
   },
   {
    "duration": 5,
    "start_time": "2023-05-31T15:02:54.199Z"
   },
   {
    "duration": 6,
    "start_time": "2023-05-31T15:02:54.922Z"
   },
   {
    "duration": 89,
    "start_time": "2023-05-31T15:02:56.958Z"
   },
   {
    "duration": 11,
    "start_time": "2023-05-31T15:03:09.185Z"
   },
   {
    "duration": 17,
    "start_time": "2023-05-31T15:03:34.490Z"
   },
   {
    "duration": 13,
    "start_time": "2023-05-31T15:03:54.121Z"
   },
   {
    "duration": 5,
    "start_time": "2023-05-31T15:03:55.391Z"
   },
   {
    "duration": 5,
    "start_time": "2023-05-31T15:03:58.791Z"
   },
   {
    "duration": 13,
    "start_time": "2023-05-31T15:04:04.482Z"
   },
   {
    "duration": 7,
    "start_time": "2023-05-31T15:04:05.647Z"
   },
   {
    "duration": 850,
    "start_time": "2023-05-31T15:04:20.454Z"
   },
   {
    "duration": 67,
    "start_time": "2023-05-31T15:04:21.306Z"
   },
   {
    "duration": 14,
    "start_time": "2023-05-31T15:04:21.375Z"
   },
   {
    "duration": 37,
    "start_time": "2023-05-31T15:04:21.391Z"
   },
   {
    "duration": 35,
    "start_time": "2023-05-31T15:04:21.430Z"
   },
   {
    "duration": 36,
    "start_time": "2023-05-31T15:04:21.466Z"
   },
   {
    "duration": 17,
    "start_time": "2023-05-31T15:04:21.503Z"
   },
   {
    "duration": 32,
    "start_time": "2023-05-31T15:04:21.522Z"
   },
   {
    "duration": 13,
    "start_time": "2023-05-31T15:04:21.556Z"
   },
   {
    "duration": 5,
    "start_time": "2023-05-31T15:04:21.571Z"
   },
   {
    "duration": 5,
    "start_time": "2023-05-31T15:04:21.578Z"
   },
   {
    "duration": 7,
    "start_time": "2023-05-31T15:04:21.584Z"
   },
   {
    "duration": 9,
    "start_time": "2023-05-31T15:04:21.592Z"
   },
   {
    "duration": 14,
    "start_time": "2023-05-31T15:04:21.602Z"
   },
   {
    "duration": 6,
    "start_time": "2023-05-31T15:04:21.617Z"
   },
   {
    "duration": 646,
    "start_time": "2023-05-31T15:04:21.624Z"
   },
   {
    "duration": 107,
    "start_time": "2023-05-31T15:04:22.272Z"
   },
   {
    "duration": 142,
    "start_time": "2023-05-31T15:04:22.381Z"
   },
   {
    "duration": 138,
    "start_time": "2023-05-31T15:04:22.525Z"
   },
   {
    "duration": 141,
    "start_time": "2023-05-31T15:04:22.664Z"
   },
   {
    "duration": 17,
    "start_time": "2023-05-31T15:04:22.807Z"
   },
   {
    "duration": 9,
    "start_time": "2023-05-31T15:04:22.825Z"
   },
   {
    "duration": 12,
    "start_time": "2023-05-31T15:04:22.835Z"
   },
   {
    "duration": 147,
    "start_time": "2023-05-31T15:04:22.848Z"
   },
   {
    "duration": 139,
    "start_time": "2023-05-31T15:04:22.997Z"
   },
   {
    "duration": 119,
    "start_time": "2023-05-31T15:04:23.137Z"
   },
   {
    "duration": 142,
    "start_time": "2023-05-31T15:04:23.258Z"
   },
   {
    "duration": 123,
    "start_time": "2023-05-31T15:04:23.403Z"
   },
   {
    "duration": 9,
    "start_time": "2023-05-31T15:04:23.528Z"
   },
   {
    "duration": 17,
    "start_time": "2023-05-31T15:04:23.539Z"
   },
   {
    "duration": 110,
    "start_time": "2023-05-31T15:04:23.558Z"
   },
   {
    "duration": 0,
    "start_time": "2023-05-31T15:04:23.670Z"
   },
   {
    "duration": 0,
    "start_time": "2023-05-31T15:04:23.678Z"
   },
   {
    "duration": 7,
    "start_time": "2023-05-31T15:05:27.355Z"
   },
   {
    "duration": 7,
    "start_time": "2023-05-31T15:05:28.980Z"
   },
   {
    "duration": 147,
    "start_time": "2023-05-31T15:07:19.402Z"
   },
   {
    "duration": 5,
    "start_time": "2023-05-31T15:07:29.950Z"
   },
   {
    "duration": 134,
    "start_time": "2023-05-31T15:07:32.352Z"
   },
   {
    "duration": 812,
    "start_time": "2023-05-31T15:09:24.305Z"
   },
   {
    "duration": 65,
    "start_time": "2023-05-31T15:09:25.119Z"
   },
   {
    "duration": 16,
    "start_time": "2023-05-31T15:09:25.186Z"
   },
   {
    "duration": 11,
    "start_time": "2023-05-31T15:09:25.204Z"
   },
   {
    "duration": 9,
    "start_time": "2023-05-31T15:09:25.217Z"
   },
   {
    "duration": 13,
    "start_time": "2023-05-31T15:09:25.228Z"
   },
   {
    "duration": 8,
    "start_time": "2023-05-31T15:09:25.242Z"
   },
   {
    "duration": 11,
    "start_time": "2023-05-31T15:09:25.278Z"
   },
   {
    "duration": 11,
    "start_time": "2023-05-31T15:09:25.291Z"
   },
   {
    "duration": 5,
    "start_time": "2023-05-31T15:09:25.303Z"
   },
   {
    "duration": 6,
    "start_time": "2023-05-31T15:09:25.310Z"
   },
   {
    "duration": 7,
    "start_time": "2023-05-31T15:09:25.317Z"
   },
   {
    "duration": 5,
    "start_time": "2023-05-31T15:09:25.326Z"
   },
   {
    "duration": 6,
    "start_time": "2023-05-31T15:09:25.377Z"
   },
   {
    "duration": 17,
    "start_time": "2023-05-31T15:09:25.384Z"
   },
   {
    "duration": 471,
    "start_time": "2023-05-31T15:09:25.403Z"
   },
   {
    "duration": 113,
    "start_time": "2023-05-31T15:09:25.878Z"
   },
   {
    "duration": 149,
    "start_time": "2023-05-31T15:09:25.993Z"
   },
   {
    "duration": 158,
    "start_time": "2023-05-31T15:09:26.144Z"
   },
   {
    "duration": 155,
    "start_time": "2023-05-31T15:09:26.304Z"
   },
   {
    "duration": 30,
    "start_time": "2023-05-31T15:09:26.460Z"
   },
   {
    "duration": 12,
    "start_time": "2023-05-31T15:09:26.492Z"
   },
   {
    "duration": 6,
    "start_time": "2023-05-31T15:09:26.507Z"
   },
   {
    "duration": 158,
    "start_time": "2023-05-31T15:09:26.515Z"
   },
   {
    "duration": 150,
    "start_time": "2023-05-31T15:09:26.679Z"
   },
   {
    "duration": 121,
    "start_time": "2023-05-31T15:09:26.831Z"
   },
   {
    "duration": 146,
    "start_time": "2023-05-31T15:09:26.954Z"
   },
   {
    "duration": 29,
    "start_time": "2023-05-31T15:09:27.101Z"
   },
   {
    "duration": 8,
    "start_time": "2023-05-31T15:09:27.132Z"
   },
   {
    "duration": 41,
    "start_time": "2023-05-31T15:09:27.142Z"
   },
   {
    "duration": 108,
    "start_time": "2023-05-31T15:09:27.185Z"
   },
   {
    "duration": 0,
    "start_time": "2023-05-31T15:09:27.294Z"
   },
   {
    "duration": 0,
    "start_time": "2023-05-31T15:09:27.295Z"
   },
   {
    "duration": 139,
    "start_time": "2023-05-31T15:09:53.457Z"
   },
   {
    "duration": 13,
    "start_time": "2023-05-31T15:12:34.352Z"
   },
   {
    "duration": 13,
    "start_time": "2023-05-31T15:12:45.019Z"
   },
   {
    "duration": 1000,
    "start_time": "2023-05-31T15:13:08.488Z"
   },
   {
    "duration": 106,
    "start_time": "2023-05-31T15:13:09.490Z"
   },
   {
    "duration": 12,
    "start_time": "2023-05-31T15:13:09.598Z"
   },
   {
    "duration": 12,
    "start_time": "2023-05-31T15:13:09.612Z"
   },
   {
    "duration": 9,
    "start_time": "2023-05-31T15:13:09.625Z"
   },
   {
    "duration": 12,
    "start_time": "2023-05-31T15:13:09.636Z"
   },
   {
    "duration": 31,
    "start_time": "2023-05-31T15:13:09.650Z"
   },
   {
    "duration": 13,
    "start_time": "2023-05-31T15:13:09.683Z"
   },
   {
    "duration": 10,
    "start_time": "2023-05-31T15:13:09.698Z"
   },
   {
    "duration": 5,
    "start_time": "2023-05-31T15:13:09.711Z"
   },
   {
    "duration": 6,
    "start_time": "2023-05-31T15:13:09.717Z"
   },
   {
    "duration": 7,
    "start_time": "2023-05-31T15:13:09.724Z"
   },
   {
    "duration": 6,
    "start_time": "2023-05-31T15:13:09.732Z"
   },
   {
    "duration": 45,
    "start_time": "2023-05-31T15:13:09.739Z"
   },
   {
    "duration": 11,
    "start_time": "2023-05-31T15:13:09.786Z"
   },
   {
    "duration": 171,
    "start_time": "2023-05-31T15:13:09.798Z"
   },
   {
    "duration": 115,
    "start_time": "2023-05-31T15:13:09.971Z"
   },
   {
    "duration": 154,
    "start_time": "2023-05-31T15:13:10.089Z"
   },
   {
    "duration": 134,
    "start_time": "2023-05-31T15:13:10.245Z"
   },
   {
    "duration": 152,
    "start_time": "2023-05-31T15:13:10.382Z"
   },
   {
    "duration": 19,
    "start_time": "2023-05-31T15:13:10.536Z"
   },
   {
    "duration": 24,
    "start_time": "2023-05-31T15:13:10.556Z"
   },
   {
    "duration": 8,
    "start_time": "2023-05-31T15:13:10.582Z"
   },
   {
    "duration": 164,
    "start_time": "2023-05-31T15:13:10.592Z"
   },
   {
    "duration": 148,
    "start_time": "2023-05-31T15:13:10.758Z"
   },
   {
    "duration": 132,
    "start_time": "2023-05-31T15:13:10.909Z"
   },
   {
    "duration": 159,
    "start_time": "2023-05-31T15:13:11.042Z"
   },
   {
    "duration": 42,
    "start_time": "2023-05-31T15:13:11.204Z"
   },
   {
    "duration": 30,
    "start_time": "2023-05-31T15:13:11.248Z"
   },
   {
    "duration": 14,
    "start_time": "2023-05-31T15:13:11.280Z"
   },
   {
    "duration": 123,
    "start_time": "2023-05-31T15:13:11.296Z"
   },
   {
    "duration": 0,
    "start_time": "2023-05-31T15:13:11.421Z"
   },
   {
    "duration": 0,
    "start_time": "2023-05-31T15:13:11.422Z"
   },
   {
    "duration": 11,
    "start_time": "2023-05-31T15:13:16.591Z"
   },
   {
    "duration": 14,
    "start_time": "2023-05-31T15:13:25.578Z"
   },
   {
    "duration": 9,
    "start_time": "2023-05-31T15:14:01.493Z"
   },
   {
    "duration": 108,
    "start_time": "2023-05-31T15:14:58.840Z"
   },
   {
    "duration": 232,
    "start_time": "2023-05-31T15:16:07.710Z"
   },
   {
    "duration": 38,
    "start_time": "2023-05-31T15:17:38.531Z"
   },
   {
    "duration": 112,
    "start_time": "2023-05-31T15:17:49.267Z"
   },
   {
    "duration": 15,
    "start_time": "2023-05-31T15:20:11.992Z"
   },
   {
    "duration": 9,
    "start_time": "2023-05-31T15:20:12.586Z"
   },
   {
    "duration": 6,
    "start_time": "2023-05-31T15:20:13.063Z"
   },
   {
    "duration": 7,
    "start_time": "2023-05-31T15:20:37.607Z"
   },
   {
    "duration": 2,
    "start_time": "2023-05-31T15:20:39.383Z"
   },
   {
    "duration": 2,
    "start_time": "2023-05-31T15:20:40.385Z"
   },
   {
    "duration": 132,
    "start_time": "2023-05-31T15:20:41.315Z"
   },
   {
    "duration": 116,
    "start_time": "2023-05-31T15:20:41.799Z"
   },
   {
    "duration": 110,
    "start_time": "2023-05-31T15:20:42.590Z"
   },
   {
    "duration": 14,
    "start_time": "2023-05-31T15:20:45.309Z"
   },
   {
    "duration": 12,
    "start_time": "2023-05-31T15:20:45.871Z"
   },
   {
    "duration": 6,
    "start_time": "2023-05-31T15:20:46.721Z"
   },
   {
    "duration": 115,
    "start_time": "2023-05-31T15:20:51.736Z"
   },
   {
    "duration": 3,
    "start_time": "2023-05-31T15:21:19.877Z"
   },
   {
    "duration": 6,
    "start_time": "2023-05-31T15:21:26.517Z"
   },
   {
    "duration": 1041,
    "start_time": "2023-05-31T15:21:42.060Z"
   },
   {
    "duration": 124,
    "start_time": "2023-05-31T15:21:43.103Z"
   },
   {
    "duration": 12,
    "start_time": "2023-05-31T15:21:43.228Z"
   },
   {
    "duration": 10,
    "start_time": "2023-05-31T15:21:43.242Z"
   },
   {
    "duration": 11,
    "start_time": "2023-05-31T15:21:43.254Z"
   },
   {
    "duration": 11,
    "start_time": "2023-05-31T15:21:43.267Z"
   },
   {
    "duration": 10,
    "start_time": "2023-05-31T15:21:43.279Z"
   },
   {
    "duration": 26,
    "start_time": "2023-05-31T15:21:43.291Z"
   },
   {
    "duration": 9,
    "start_time": "2023-05-31T15:21:43.319Z"
   },
   {
    "duration": 5,
    "start_time": "2023-05-31T15:21:43.333Z"
   },
   {
    "duration": 38,
    "start_time": "2023-05-31T15:21:43.340Z"
   },
   {
    "duration": 8,
    "start_time": "2023-05-31T15:21:43.380Z"
   },
   {
    "duration": 6,
    "start_time": "2023-05-31T15:21:43.390Z"
   },
   {
    "duration": 4,
    "start_time": "2023-05-31T15:21:43.398Z"
   },
   {
    "duration": 7,
    "start_time": "2023-05-31T15:21:43.404Z"
   },
   {
    "duration": 3,
    "start_time": "2023-05-31T15:21:43.412Z"
   },
   {
    "duration": 6,
    "start_time": "2023-05-31T15:21:43.417Z"
   },
   {
    "duration": 181,
    "start_time": "2023-05-31T15:21:43.424Z"
   },
   {
    "duration": 133,
    "start_time": "2023-05-31T15:21:43.607Z"
   },
   {
    "duration": 127,
    "start_time": "2023-05-31T15:21:43.742Z"
   },
   {
    "duration": 19,
    "start_time": "2023-05-31T15:21:43.871Z"
   },
   {
    "duration": 9,
    "start_time": "2023-05-31T15:21:43.892Z"
   },
   {
    "duration": 6,
    "start_time": "2023-05-31T15:21:43.902Z"
   },
   {
    "duration": 157,
    "start_time": "2023-05-31T15:21:43.910Z"
   },
   {
    "duration": 133,
    "start_time": "2023-05-31T15:21:44.069Z"
   },
   {
    "duration": 129,
    "start_time": "2023-05-31T15:21:44.204Z"
   },
   {
    "duration": 154,
    "start_time": "2023-05-31T15:21:44.335Z"
   },
   {
    "duration": 28,
    "start_time": "2023-05-31T15:21:44.492Z"
   },
   {
    "duration": 8,
    "start_time": "2023-05-31T15:21:44.522Z"
   },
   {
    "duration": 18,
    "start_time": "2023-05-31T15:21:44.532Z"
   },
   {
    "duration": 103,
    "start_time": "2023-05-31T15:21:44.578Z"
   },
   {
    "duration": 0,
    "start_time": "2023-05-31T15:21:44.682Z"
   },
   {
    "duration": 0,
    "start_time": "2023-05-31T15:21:44.683Z"
   },
   {
    "duration": 5,
    "start_time": "2023-05-31T15:21:56.455Z"
   },
   {
    "duration": 6,
    "start_time": "2023-05-31T15:21:59.646Z"
   },
   {
    "duration": 6,
    "start_time": "2023-05-31T15:22:11.777Z"
   },
   {
    "duration": 6,
    "start_time": "2023-05-31T15:22:15.979Z"
   },
   {
    "duration": 7,
    "start_time": "2023-05-31T15:22:22.018Z"
   },
   {
    "duration": 10,
    "start_time": "2023-05-31T15:22:22.186Z"
   },
   {
    "duration": 13,
    "start_time": "2023-05-31T15:22:22.723Z"
   },
   {
    "duration": 5,
    "start_time": "2023-05-31T15:22:23.053Z"
   },
   {
    "duration": 7,
    "start_time": "2023-05-31T15:22:23.446Z"
   },
   {
    "duration": 7,
    "start_time": "2023-05-31T15:22:23.637Z"
   },
   {
    "duration": 5,
    "start_time": "2023-05-31T15:22:23.830Z"
   },
   {
    "duration": 5,
    "start_time": "2023-05-31T15:22:24.007Z"
   },
   {
    "duration": 6,
    "start_time": "2023-05-31T15:22:24.403Z"
   },
   {
    "duration": 2,
    "start_time": "2023-05-31T15:22:26.164Z"
   },
   {
    "duration": 3,
    "start_time": "2023-05-31T15:22:26.552Z"
   },
   {
    "duration": 124,
    "start_time": "2023-05-31T15:22:26.923Z"
   },
   {
    "duration": 125,
    "start_time": "2023-05-31T15:22:27.367Z"
   },
   {
    "duration": 231,
    "start_time": "2023-05-31T15:22:27.615Z"
   },
   {
    "duration": 14,
    "start_time": "2023-05-31T15:22:30.130Z"
   },
   {
    "duration": 9,
    "start_time": "2023-05-31T15:22:30.576Z"
   },
   {
    "duration": 6,
    "start_time": "2023-05-31T15:22:31.821Z"
   },
   {
    "duration": 68,
    "start_time": "2023-05-31T15:27:13.539Z"
   },
   {
    "duration": 82,
    "start_time": "2023-05-31T15:30:07.815Z"
   },
   {
    "duration": 715,
    "start_time": "2023-05-31T15:31:01.122Z"
   },
   {
    "duration": 730,
    "start_time": "2023-05-31T15:31:52.398Z"
   },
   {
    "duration": 12,
    "start_time": "2023-05-31T15:32:28.847Z"
   },
   {
    "duration": 101,
    "start_time": "2023-05-31T15:32:30.531Z"
   },
   {
    "duration": 147,
    "start_time": "2023-05-31T15:32:48.983Z"
   },
   {
    "duration": 8,
    "start_time": "2023-05-31T15:36:03.218Z"
   },
   {
    "duration": 2049,
    "start_time": "2023-05-31T15:36:47.161Z"
   },
   {
    "duration": 2101,
    "start_time": "2023-05-31T15:36:55.192Z"
   },
   {
    "duration": 97,
    "start_time": "2023-05-31T15:37:08.496Z"
   },
   {
    "duration": 2212,
    "start_time": "2023-05-31T15:38:09.944Z"
   },
   {
    "duration": 2106,
    "start_time": "2023-05-31T15:38:26.296Z"
   },
   {
    "duration": 10,
    "start_time": "2023-05-31T15:39:20.319Z"
   },
   {
    "duration": 9,
    "start_time": "2023-05-31T15:39:53.429Z"
   },
   {
    "duration": 17,
    "start_time": "2023-05-31T15:42:25.407Z"
   },
   {
    "duration": 14,
    "start_time": "2023-05-31T15:53:44.445Z"
   },
   {
    "duration": 11,
    "start_time": "2023-05-31T15:53:58.445Z"
   },
   {
    "duration": 9,
    "start_time": "2023-05-31T15:54:08.898Z"
   },
   {
    "duration": 1397,
    "start_time": "2023-05-31T15:54:20.415Z"
   },
   {
    "duration": 32,
    "start_time": "2023-05-31T15:55:21.969Z"
   },
   {
    "duration": 136,
    "start_time": "2023-05-31T15:55:57.291Z"
   },
   {
    "duration": 13,
    "start_time": "2023-05-31T15:56:05.291Z"
   },
   {
    "duration": 135,
    "start_time": "2023-05-31T15:57:12.264Z"
   },
   {
    "duration": 127,
    "start_time": "2023-05-31T15:57:56.256Z"
   },
   {
    "duration": 139,
    "start_time": "2023-05-31T15:58:23.035Z"
   },
   {
    "duration": 127,
    "start_time": "2023-05-31T15:58:47.791Z"
   },
   {
    "duration": 120,
    "start_time": "2023-05-31T15:58:55.939Z"
   },
   {
    "duration": 132,
    "start_time": "2023-05-31T15:59:09.510Z"
   },
   {
    "duration": 228,
    "start_time": "2023-05-31T16:00:00.519Z"
   },
   {
    "duration": 443,
    "start_time": "2023-05-31T16:00:41.549Z"
   },
   {
    "duration": 124,
    "start_time": "2023-05-31T16:01:03.408Z"
   },
   {
    "duration": 78,
    "start_time": "2023-05-31T16:01:11.317Z"
   },
   {
    "duration": 8,
    "start_time": "2023-05-31T16:07:31.399Z"
   },
   {
    "duration": 8,
    "start_time": "2023-05-31T16:07:38.919Z"
   },
   {
    "duration": 16,
    "start_time": "2023-05-31T16:07:43.507Z"
   },
   {
    "duration": 154,
    "start_time": "2023-05-31T16:08:24.737Z"
   },
   {
    "duration": 8,
    "start_time": "2023-05-31T16:08:26.951Z"
   },
   {
    "duration": 105,
    "start_time": "2023-05-31T16:08:29.808Z"
   },
   {
    "duration": 203,
    "start_time": "2023-05-31T16:08:32.660Z"
   },
   {
    "duration": 9,
    "start_time": "2023-05-31T16:11:24.574Z"
   },
   {
    "duration": 9,
    "start_time": "2023-05-31T16:11:25.301Z"
   },
   {
    "duration": 14,
    "start_time": "2023-05-31T16:11:32.136Z"
   },
   {
    "duration": 64,
    "start_time": "2023-05-31T16:11:45.145Z"
   },
   {
    "duration": 414,
    "start_time": "2023-05-31T16:12:18.079Z"
   },
   {
    "duration": 69,
    "start_time": "2023-05-31T16:12:27.240Z"
   },
   {
    "duration": 13,
    "start_time": "2023-05-31T16:19:01.244Z"
   },
   {
    "duration": 14,
    "start_time": "2023-05-31T16:19:04.091Z"
   },
   {
    "duration": 2,
    "start_time": "2023-05-31T16:20:25.284Z"
   },
   {
    "duration": 70,
    "start_time": "2023-05-31T16:20:25.950Z"
   },
   {
    "duration": 8,
    "start_time": "2023-05-31T16:20:26.158Z"
   },
   {
    "duration": 14,
    "start_time": "2023-05-31T16:20:26.331Z"
   },
   {
    "duration": 11,
    "start_time": "2023-05-31T16:20:26.519Z"
   },
   {
    "duration": 14,
    "start_time": "2023-05-31T16:20:26.698Z"
   },
   {
    "duration": 7,
    "start_time": "2023-05-31T16:20:26.841Z"
   },
   {
    "duration": 13,
    "start_time": "2023-05-31T16:20:26.979Z"
   },
   {
    "duration": 10,
    "start_time": "2023-05-31T16:20:27.516Z"
   },
   {
    "duration": 5,
    "start_time": "2023-05-31T16:20:27.918Z"
   },
   {
    "duration": 6,
    "start_time": "2023-05-31T16:20:28.287Z"
   },
   {
    "duration": 8,
    "start_time": "2023-05-31T16:20:28.471Z"
   },
   {
    "duration": 8,
    "start_time": "2023-05-31T16:20:28.659Z"
   },
   {
    "duration": 5,
    "start_time": "2023-05-31T16:20:28.991Z"
   },
   {
    "duration": 7,
    "start_time": "2023-05-31T16:20:29.355Z"
   },
   {
    "duration": 125,
    "start_time": "2023-05-31T16:20:30.152Z"
   },
   {
    "duration": 13,
    "start_time": "2023-05-31T16:20:34.435Z"
   },
   {
    "duration": 67,
    "start_time": "2023-05-31T16:21:00.978Z"
   },
   {
    "duration": 9,
    "start_time": "2023-05-31T16:21:37.295Z"
   },
   {
    "duration": 7,
    "start_time": "2023-05-31T16:21:47.063Z"
   },
   {
    "duration": 75,
    "start_time": "2023-05-31T16:23:26.862Z"
   },
   {
    "duration": 7,
    "start_time": "2023-05-31T16:27:50.298Z"
   },
   {
    "duration": 116,
    "start_time": "2023-05-31T16:27:51.431Z"
   },
   {
    "duration": 107,
    "start_time": "2023-05-31T16:27:52.118Z"
   },
   {
    "duration": 8,
    "start_time": "2023-05-31T16:27:53.170Z"
   },
   {
    "duration": 117,
    "start_time": "2023-05-31T16:27:54.542Z"
   },
   {
    "duration": 28,
    "start_time": "2023-05-31T16:28:19.726Z"
   },
   {
    "duration": 9,
    "start_time": "2023-05-31T16:28:20.337Z"
   },
   {
    "duration": 7,
    "start_time": "2023-05-31T16:28:22.109Z"
   },
   {
    "duration": 14,
    "start_time": "2023-05-31T16:28:23.103Z"
   },
   {
    "duration": 10,
    "start_time": "2023-05-31T16:28:23.681Z"
   },
   {
    "duration": 10,
    "start_time": "2023-05-31T16:28:24.187Z"
   },
   {
    "duration": 94,
    "start_time": "2023-05-31T16:41:36.424Z"
   },
   {
    "duration": 125,
    "start_time": "2023-05-31T16:43:28.985Z"
   },
   {
    "duration": 170,
    "start_time": "2023-05-31T16:44:27.582Z"
   },
   {
    "duration": 100,
    "start_time": "2023-05-31T16:47:18.285Z"
   },
   {
    "duration": 134,
    "start_time": "2023-05-31T16:47:28.899Z"
   },
   {
    "duration": 243,
    "start_time": "2023-05-31T16:47:43.581Z"
   },
   {
    "duration": 107,
    "start_time": "2023-05-31T16:47:56.260Z"
   },
   {
    "duration": 44,
    "start_time": "2023-05-31T16:49:16.189Z"
   },
   {
    "duration": 112,
    "start_time": "2023-05-31T16:49:20.369Z"
   },
   {
    "duration": 14,
    "start_time": "2023-05-31T16:59:00.850Z"
   },
   {
    "duration": 13,
    "start_time": "2023-05-31T17:06:27.449Z"
   },
   {
    "duration": 9,
    "start_time": "2023-05-31T17:06:37.676Z"
   },
   {
    "duration": 10,
    "start_time": "2023-05-31T17:06:40.211Z"
   },
   {
    "duration": 985,
    "start_time": "2023-05-31T17:07:19.604Z"
   },
   {
    "duration": 101,
    "start_time": "2023-05-31T17:07:20.591Z"
   },
   {
    "duration": 11,
    "start_time": "2023-05-31T17:07:20.694Z"
   },
   {
    "duration": 10,
    "start_time": "2023-05-31T17:07:20.707Z"
   },
   {
    "duration": 13,
    "start_time": "2023-05-31T17:07:20.719Z"
   },
   {
    "duration": 11,
    "start_time": "2023-05-31T17:07:20.733Z"
   },
   {
    "duration": 8,
    "start_time": "2023-05-31T17:07:20.745Z"
   },
   {
    "duration": 26,
    "start_time": "2023-05-31T17:07:20.755Z"
   },
   {
    "duration": 16,
    "start_time": "2023-05-31T17:07:20.782Z"
   },
   {
    "duration": 6,
    "start_time": "2023-05-31T17:07:20.799Z"
   },
   {
    "duration": 17,
    "start_time": "2023-05-31T17:07:20.806Z"
   },
   {
    "duration": 10,
    "start_time": "2023-05-31T17:07:20.824Z"
   },
   {
    "duration": 20,
    "start_time": "2023-05-31T17:07:20.836Z"
   },
   {
    "duration": 5,
    "start_time": "2023-05-31T17:07:20.859Z"
   },
   {
    "duration": 5,
    "start_time": "2023-05-31T17:07:20.866Z"
   },
   {
    "duration": 130,
    "start_time": "2023-05-31T17:07:20.873Z"
   },
   {
    "duration": 75,
    "start_time": "2023-05-31T17:07:21.005Z"
   },
   {
    "duration": 6,
    "start_time": "2023-05-31T17:07:21.081Z"
   },
   {
    "duration": 127,
    "start_time": "2023-05-31T17:07:21.089Z"
   },
   {
    "duration": 117,
    "start_time": "2023-05-31T17:07:21.218Z"
   },
   {
    "duration": 128,
    "start_time": "2023-05-31T17:07:21.336Z"
   },
   {
    "duration": 24,
    "start_time": "2023-05-31T17:07:21.465Z"
   },
   {
    "duration": 8,
    "start_time": "2023-05-31T17:07:21.491Z"
   },
   {
    "duration": 7,
    "start_time": "2023-05-31T17:07:21.500Z"
   },
   {
    "duration": 141,
    "start_time": "2023-05-31T17:07:21.508Z"
   },
   {
    "duration": 113,
    "start_time": "2023-05-31T17:07:21.651Z"
   },
   {
    "duration": 107,
    "start_time": "2023-05-31T17:07:21.765Z"
   },
   {
    "duration": 135,
    "start_time": "2023-05-31T17:07:21.878Z"
   },
   {
    "duration": 28,
    "start_time": "2023-05-31T17:07:22.014Z"
   },
   {
    "duration": 8,
    "start_time": "2023-05-31T17:07:22.044Z"
   },
   {
    "duration": 25,
    "start_time": "2023-05-31T17:07:22.054Z"
   },
   {
    "duration": 98,
    "start_time": "2023-05-31T17:07:22.080Z"
   },
   {
    "duration": 0,
    "start_time": "2023-05-31T17:07:22.179Z"
   },
   {
    "duration": 0,
    "start_time": "2023-05-31T17:07:22.181Z"
   },
   {
    "duration": 5,
    "start_time": "2023-05-31T17:08:59.677Z"
   },
   {
    "duration": 9,
    "start_time": "2023-05-31T17:09:01.440Z"
   },
   {
    "duration": 4,
    "start_time": "2023-05-31T17:10:09.221Z"
   },
   {
    "duration": 701,
    "start_time": "2023-05-31T17:10:15.118Z"
   },
   {
    "duration": 11,
    "start_time": "2023-05-31T17:11:17.627Z"
   },
   {
    "duration": 13,
    "start_time": "2023-05-31T17:13:09.359Z"
   },
   {
    "duration": 118,
    "start_time": "2023-05-31T17:26:07.139Z"
   },
   {
    "duration": 10,
    "start_time": "2023-05-31T17:27:38.535Z"
   },
   {
    "duration": 201,
    "start_time": "2023-05-31T17:27:48.540Z"
   },
   {
    "duration": 67,
    "start_time": "2023-05-31T17:27:56.369Z"
   },
   {
    "duration": 118,
    "start_time": "2023-05-31T17:28:10.224Z"
   },
   {
    "duration": 64,
    "start_time": "2023-05-31T17:28:14.739Z"
   },
   {
    "duration": 63,
    "start_time": "2023-05-31T17:28:29.727Z"
   },
   {
    "duration": 64,
    "start_time": "2023-05-31T17:28:33.537Z"
   },
   {
    "duration": 65,
    "start_time": "2023-05-31T17:29:00.960Z"
   },
   {
    "duration": 72,
    "start_time": "2023-05-31T17:29:04.558Z"
   },
   {
    "duration": 108,
    "start_time": "2023-05-31T17:29:12.140Z"
   },
   {
    "duration": 67,
    "start_time": "2023-05-31T17:31:40.995Z"
   },
   {
    "duration": 71,
    "start_time": "2023-05-31T17:31:46.320Z"
   },
   {
    "duration": 57,
    "start_time": "2023-05-31T17:31:58.102Z"
   },
   {
    "duration": 47,
    "start_time": "2023-05-31T17:32:08.731Z"
   },
   {
    "duration": 59,
    "start_time": "2023-05-31T17:33:09.295Z"
   },
   {
    "duration": 59,
    "start_time": "2023-05-31T17:33:57.606Z"
   },
   {
    "duration": 69,
    "start_time": "2023-05-31T17:34:13.235Z"
   },
   {
    "duration": 56,
    "start_time": "2023-05-31T17:34:41.666Z"
   },
   {
    "duration": 69,
    "start_time": "2023-05-31T17:34:50.008Z"
   },
   {
    "duration": 61,
    "start_time": "2023-05-31T17:34:54.687Z"
   },
   {
    "duration": 87,
    "start_time": "2023-05-31T17:38:37.810Z"
   },
   {
    "duration": 44,
    "start_time": "2023-06-01T00:51:28.853Z"
   },
   {
    "duration": 8,
    "start_time": "2023-06-01T00:51:32.582Z"
   },
   {
    "duration": 6,
    "start_time": "2023-06-01T00:51:33.082Z"
   },
   {
    "duration": 1148,
    "start_time": "2023-06-01T00:51:39.182Z"
   },
   {
    "duration": 218,
    "start_time": "2023-06-01T00:51:40.332Z"
   },
   {
    "duration": 12,
    "start_time": "2023-06-01T00:51:40.551Z"
   },
   {
    "duration": 11,
    "start_time": "2023-06-01T00:51:40.565Z"
   },
   {
    "duration": 9,
    "start_time": "2023-06-01T00:51:40.577Z"
   },
   {
    "duration": 11,
    "start_time": "2023-06-01T00:51:40.588Z"
   },
   {
    "duration": 6,
    "start_time": "2023-06-01T00:51:40.600Z"
   },
   {
    "duration": 9,
    "start_time": "2023-06-01T00:51:40.608Z"
   },
   {
    "duration": 8,
    "start_time": "2023-06-01T00:51:40.619Z"
   },
   {
    "duration": 4,
    "start_time": "2023-06-01T00:51:40.630Z"
   },
   {
    "duration": 6,
    "start_time": "2023-06-01T00:51:40.635Z"
   },
   {
    "duration": 7,
    "start_time": "2023-06-01T00:51:40.642Z"
   },
   {
    "duration": 36,
    "start_time": "2023-06-01T00:51:40.650Z"
   },
   {
    "duration": 6,
    "start_time": "2023-06-01T00:51:40.688Z"
   },
   {
    "duration": 7,
    "start_time": "2023-06-01T00:51:40.695Z"
   },
   {
    "duration": 138,
    "start_time": "2023-06-01T00:51:40.703Z"
   },
   {
    "duration": 80,
    "start_time": "2023-06-01T00:51:40.843Z"
   },
   {
    "duration": 6,
    "start_time": "2023-06-01T00:51:40.925Z"
   },
   {
    "duration": 145,
    "start_time": "2023-06-01T00:51:40.933Z"
   },
   {
    "duration": 129,
    "start_time": "2023-06-01T00:51:41.084Z"
   },
   {
    "duration": 118,
    "start_time": "2023-06-01T00:51:41.215Z"
   },
   {
    "duration": 16,
    "start_time": "2023-06-01T00:51:41.334Z"
   },
   {
    "duration": 9,
    "start_time": "2023-06-01T00:51:41.352Z"
   },
   {
    "duration": 36,
    "start_time": "2023-06-01T00:51:41.363Z"
   },
   {
    "duration": 7,
    "start_time": "2023-06-01T00:51:41.400Z"
   },
   {
    "duration": 124,
    "start_time": "2023-06-01T00:51:41.408Z"
   },
   {
    "duration": 110,
    "start_time": "2023-06-01T00:51:41.534Z"
   },
   {
    "duration": 97,
    "start_time": "2023-06-01T00:51:41.646Z"
   },
   {
    "duration": 121,
    "start_time": "2023-06-01T00:51:41.744Z"
   },
   {
    "duration": 30,
    "start_time": "2023-06-01T00:51:41.867Z"
   },
   {
    "duration": 7,
    "start_time": "2023-06-01T00:51:41.899Z"
   },
   {
    "duration": 11,
    "start_time": "2023-06-01T00:51:41.907Z"
   },
   {
    "duration": 14,
    "start_time": "2023-06-01T00:51:41.919Z"
   },
   {
    "duration": 6,
    "start_time": "2023-06-01T00:51:41.935Z"
   },
   {
    "duration": 5,
    "start_time": "2023-06-01T00:51:41.942Z"
   },
   {
    "duration": 113,
    "start_time": "2023-06-01T00:51:41.948Z"
   },
   {
    "duration": 15,
    "start_time": "2023-06-01T00:55:43.416Z"
   },
   {
    "duration": 8,
    "start_time": "2023-06-01T00:56:36.270Z"
   },
   {
    "duration": 2203,
    "start_time": "2023-06-01T00:56:47.627Z"
   },
   {
    "duration": 11,
    "start_time": "2023-06-01T01:08:26.048Z"
   },
   {
    "duration": 10,
    "start_time": "2023-06-01T01:08:45.467Z"
   },
   {
    "duration": 8,
    "start_time": "2023-06-01T01:09:03.945Z"
   },
   {
    "duration": 119,
    "start_time": "2023-06-01T01:31:51.432Z"
   },
   {
    "duration": 1566,
    "start_time": "2023-06-01T01:33:30.168Z"
   },
   {
    "duration": 139,
    "start_time": "2023-06-01T01:33:39.977Z"
   },
   {
    "duration": 119,
    "start_time": "2023-06-01T01:35:49.726Z"
   },
   {
    "duration": 14,
    "start_time": "2023-06-01T01:43:30.112Z"
   },
   {
    "duration": 8,
    "start_time": "2023-06-01T01:44:15.633Z"
   },
   {
    "duration": 6,
    "start_time": "2023-06-01T01:44:23.802Z"
   },
   {
    "duration": 29,
    "start_time": "2023-06-01T01:45:54.891Z"
   },
   {
    "duration": 12,
    "start_time": "2023-06-01T01:46:23.305Z"
   },
   {
    "duration": 10,
    "start_time": "2023-06-01T01:46:23.905Z"
   },
   {
    "duration": 9,
    "start_time": "2023-06-01T01:46:24.470Z"
   },
   {
    "duration": 151,
    "start_time": "2023-06-01T01:50:17.147Z"
   },
   {
    "duration": 129,
    "start_time": "2023-06-01T01:50:23.533Z"
   },
   {
    "duration": 118,
    "start_time": "2023-06-01T01:52:16.440Z"
   },
   {
    "duration": 124,
    "start_time": "2023-06-01T01:52:35.394Z"
   },
   {
    "duration": 113,
    "start_time": "2023-06-01T01:52:55.711Z"
   },
   {
    "duration": 25,
    "start_time": "2023-06-01T02:06:44.340Z"
   },
   {
    "duration": 8,
    "start_time": "2023-06-01T02:07:48.257Z"
   },
   {
    "duration": 7,
    "start_time": "2023-06-01T02:08:28.032Z"
   },
   {
    "duration": 11,
    "start_time": "2023-06-01T02:09:08.836Z"
   },
   {
    "duration": 8,
    "start_time": "2023-06-01T02:09:22.215Z"
   },
   {
    "duration": 1237,
    "start_time": "2023-06-01T02:13:39.762Z"
   },
   {
    "duration": 0,
    "start_time": "2023-06-01T02:13:41.002Z"
   },
   {
    "duration": 5,
    "start_time": "2023-06-01T02:13:57.356Z"
   },
   {
    "duration": 11,
    "start_time": "2023-06-01T02:18:17.975Z"
   },
   {
    "duration": 16,
    "start_time": "2023-06-01T02:18:51.198Z"
   },
   {
    "duration": 12,
    "start_time": "2023-06-01T02:19:25.657Z"
   },
   {
    "duration": 47,
    "start_time": "2023-06-01T02:19:31.932Z"
   },
   {
    "duration": 12,
    "start_time": "2023-06-01T02:20:21.101Z"
   },
   {
    "duration": 6,
    "start_time": "2023-06-01T02:21:10.697Z"
   },
   {
    "duration": 5,
    "start_time": "2023-06-01T02:21:11.087Z"
   },
   {
    "duration": 139,
    "start_time": "2023-06-01T03:00:08.664Z"
   },
   {
    "duration": 1073,
    "start_time": "2023-06-01T03:00:25.108Z"
   },
   {
    "duration": 145,
    "start_time": "2023-06-01T03:00:26.186Z"
   },
   {
    "duration": 11,
    "start_time": "2023-06-01T03:00:26.332Z"
   },
   {
    "duration": 17,
    "start_time": "2023-06-01T03:00:26.344Z"
   },
   {
    "duration": 15,
    "start_time": "2023-06-01T03:00:26.363Z"
   },
   {
    "duration": 23,
    "start_time": "2023-06-01T03:00:26.380Z"
   },
   {
    "duration": 17,
    "start_time": "2023-06-01T03:00:26.404Z"
   },
   {
    "duration": 23,
    "start_time": "2023-06-01T03:00:26.423Z"
   },
   {
    "duration": 22,
    "start_time": "2023-06-01T03:00:26.448Z"
   },
   {
    "duration": 7,
    "start_time": "2023-06-01T03:00:26.473Z"
   },
   {
    "duration": 23,
    "start_time": "2023-06-01T03:00:26.482Z"
   },
   {
    "duration": 41,
    "start_time": "2023-06-01T03:00:26.507Z"
   },
   {
    "duration": 14,
    "start_time": "2023-06-01T03:00:26.550Z"
   },
   {
    "duration": 21,
    "start_time": "2023-06-01T03:00:26.565Z"
   },
   {
    "duration": 20,
    "start_time": "2023-06-01T03:00:26.588Z"
   },
   {
    "duration": 144,
    "start_time": "2023-06-01T03:00:26.611Z"
   },
   {
    "duration": 79,
    "start_time": "2023-06-01T03:00:26.757Z"
   },
   {
    "duration": 127,
    "start_time": "2023-06-01T03:00:26.837Z"
   },
   {
    "duration": 151,
    "start_time": "2023-06-01T03:00:26.966Z"
   },
   {
    "duration": 127,
    "start_time": "2023-06-01T03:00:27.119Z"
   },
   {
    "duration": 14,
    "start_time": "2023-06-01T03:00:27.248Z"
   },
   {
    "duration": 28,
    "start_time": "2023-06-01T03:00:27.264Z"
   },
   {
    "duration": 15,
    "start_time": "2023-06-01T03:00:27.294Z"
   },
   {
    "duration": 134,
    "start_time": "2023-06-01T03:00:27.310Z"
   },
   {
    "duration": 135,
    "start_time": "2023-06-01T03:00:27.446Z"
   },
   {
    "duration": 33,
    "start_time": "2023-06-01T03:00:27.584Z"
   },
   {
    "duration": 7,
    "start_time": "2023-06-01T03:00:27.618Z"
   },
   {
    "duration": 17,
    "start_time": "2023-06-01T03:00:27.628Z"
   },
   {
    "duration": 29,
    "start_time": "2023-06-01T03:00:27.647Z"
   },
   {
    "duration": 28,
    "start_time": "2023-06-01T03:00:27.678Z"
   },
   {
    "duration": 24,
    "start_time": "2023-06-01T03:00:27.708Z"
   },
   {
    "duration": 1116,
    "start_time": "2023-06-01T12:29:03.581Z"
   },
   {
    "duration": 566,
    "start_time": "2023-06-01T12:29:04.699Z"
   },
   {
    "duration": 12,
    "start_time": "2023-06-01T12:29:05.266Z"
   },
   {
    "duration": 11,
    "start_time": "2023-06-01T12:29:05.279Z"
   },
   {
    "duration": 13,
    "start_time": "2023-06-01T12:29:05.292Z"
   },
   {
    "duration": 11,
    "start_time": "2023-06-01T12:29:05.306Z"
   },
   {
    "duration": 7,
    "start_time": "2023-06-01T12:29:05.318Z"
   },
   {
    "duration": 16,
    "start_time": "2023-06-01T12:29:05.327Z"
   },
   {
    "duration": 31,
    "start_time": "2023-06-01T12:29:05.344Z"
   },
   {
    "duration": 6,
    "start_time": "2023-06-01T12:29:05.376Z"
   },
   {
    "duration": 21,
    "start_time": "2023-06-01T12:29:05.384Z"
   },
   {
    "duration": 8,
    "start_time": "2023-06-01T12:29:05.407Z"
   },
   {
    "duration": 18,
    "start_time": "2023-06-01T12:29:05.417Z"
   },
   {
    "duration": 6,
    "start_time": "2023-06-01T12:29:05.438Z"
   },
   {
    "duration": 13,
    "start_time": "2023-06-01T12:29:05.445Z"
   },
   {
    "duration": 145,
    "start_time": "2023-06-01T12:29:05.460Z"
   },
   {
    "duration": 81,
    "start_time": "2023-06-01T12:29:05.607Z"
   },
   {
    "duration": 151,
    "start_time": "2023-06-01T12:29:05.690Z"
   },
   {
    "duration": 144,
    "start_time": "2023-06-01T12:29:05.842Z"
   },
   {
    "duration": 133,
    "start_time": "2023-06-01T12:29:05.987Z"
   },
   {
    "duration": 15,
    "start_time": "2023-06-01T12:29:06.122Z"
   },
   {
    "duration": 9,
    "start_time": "2023-06-01T12:29:06.138Z"
   },
   {
    "duration": 27,
    "start_time": "2023-06-01T12:29:06.148Z"
   },
   {
    "duration": 158,
    "start_time": "2023-06-01T12:29:06.176Z"
   },
   {
    "duration": 145,
    "start_time": "2023-06-01T12:29:06.335Z"
   },
   {
    "duration": 28,
    "start_time": "2023-06-01T12:29:06.481Z"
   },
   {
    "duration": 10,
    "start_time": "2023-06-01T12:29:06.510Z"
   },
   {
    "duration": 9,
    "start_time": "2023-06-01T12:29:06.521Z"
   },
   {
    "duration": 16,
    "start_time": "2023-06-01T12:29:06.531Z"
   },
   {
    "duration": 28,
    "start_time": "2023-06-01T12:29:06.549Z"
   },
   {
    "duration": 5,
    "start_time": "2023-06-01T12:29:06.578Z"
   },
   {
    "duration": 288,
    "start_time": "2023-06-01T12:37:09.480Z"
   },
   {
    "duration": 434,
    "start_time": "2023-06-01T12:37:47.568Z"
   },
   {
    "duration": 76,
    "start_time": "2023-06-01T13:21:29.926Z"
   },
   {
    "duration": 1324,
    "start_time": "2023-06-01T13:21:36.401Z"
   },
   {
    "duration": 360,
    "start_time": "2023-06-01T13:21:37.727Z"
   },
   {
    "duration": 18,
    "start_time": "2023-06-01T13:21:38.089Z"
   },
   {
    "duration": 15,
    "start_time": "2023-06-01T13:21:38.109Z"
   },
   {
    "duration": 13,
    "start_time": "2023-06-01T13:21:38.127Z"
   },
   {
    "duration": 15,
    "start_time": "2023-06-01T13:21:38.142Z"
   },
   {
    "duration": 9,
    "start_time": "2023-06-01T13:21:38.159Z"
   },
   {
    "duration": 17,
    "start_time": "2023-06-01T13:21:38.169Z"
   },
   {
    "duration": 42,
    "start_time": "2023-06-01T13:21:38.188Z"
   },
   {
    "duration": 6,
    "start_time": "2023-06-01T13:21:38.232Z"
   },
   {
    "duration": 7,
    "start_time": "2023-06-01T13:21:38.241Z"
   },
   {
    "duration": 8,
    "start_time": "2023-06-01T13:21:38.250Z"
   },
   {
    "duration": 8,
    "start_time": "2023-06-01T13:21:38.260Z"
   },
   {
    "duration": 6,
    "start_time": "2023-06-01T13:21:38.272Z"
   },
   {
    "duration": 48,
    "start_time": "2023-06-01T13:21:38.279Z"
   },
   {
    "duration": 158,
    "start_time": "2023-06-01T13:21:38.330Z"
   },
   {
    "duration": 112,
    "start_time": "2023-06-01T13:21:38.490Z"
   },
   {
    "duration": 156,
    "start_time": "2023-06-01T13:21:38.604Z"
   },
   {
    "duration": 182,
    "start_time": "2023-06-01T13:21:38.761Z"
   },
   {
    "duration": 209,
    "start_time": "2023-06-01T13:21:38.945Z"
   },
   {
    "duration": 21,
    "start_time": "2023-06-01T13:21:39.156Z"
   },
   {
    "duration": 13,
    "start_time": "2023-06-01T13:21:39.180Z"
   },
   {
    "duration": 31,
    "start_time": "2023-06-01T13:21:39.195Z"
   },
   {
    "duration": 149,
    "start_time": "2023-06-01T13:21:39.228Z"
   },
   {
    "duration": 404,
    "start_time": "2023-06-01T13:21:39.378Z"
   },
   {
    "duration": 189,
    "start_time": "2023-06-01T13:21:39.785Z"
   },
   {
    "duration": 54,
    "start_time": "2023-06-01T13:21:39.976Z"
   },
   {
    "duration": 45,
    "start_time": "2023-06-01T13:21:40.033Z"
   },
   {
    "duration": 35,
    "start_time": "2023-06-01T13:21:40.080Z"
   },
   {
    "duration": 23,
    "start_time": "2023-06-01T13:21:40.118Z"
   },
   {
    "duration": 18,
    "start_time": "2023-06-01T13:21:40.143Z"
   },
   {
    "duration": 9,
    "start_time": "2023-06-01T13:21:40.163Z"
   },
   {
    "duration": 6,
    "start_time": "2023-06-01T13:21:40.174Z"
   },
   {
    "duration": 150,
    "start_time": "2023-06-01T13:22:52.014Z"
   },
   {
    "duration": 12,
    "start_time": "2023-06-01T13:23:08.460Z"
   },
   {
    "duration": 20,
    "start_time": "2023-06-01T13:23:15.476Z"
   },
   {
    "duration": 12,
    "start_time": "2023-06-01T13:23:24.452Z"
   },
   {
    "duration": 19,
    "start_time": "2023-06-01T13:23:41.614Z"
   },
   {
    "duration": 31,
    "start_time": "2023-06-01T13:24:35.928Z"
   },
   {
    "duration": 14,
    "start_time": "2023-06-01T13:24:46.574Z"
   },
   {
    "duration": 21,
    "start_time": "2023-06-01T13:28:36.285Z"
   },
   {
    "duration": 22,
    "start_time": "2023-06-01T13:29:20.079Z"
   },
   {
    "duration": 27,
    "start_time": "2023-06-01T13:29:35.184Z"
   },
   {
    "duration": 21,
    "start_time": "2023-06-01T13:30:56.062Z"
   },
   {
    "duration": 22,
    "start_time": "2023-06-01T13:31:06.580Z"
   },
   {
    "duration": 71,
    "start_time": "2023-06-01T13:31:27.035Z"
   },
   {
    "duration": 9,
    "start_time": "2023-06-01T13:34:15.824Z"
   },
   {
    "duration": 30,
    "start_time": "2023-06-01T13:34:24.077Z"
   },
   {
    "duration": 35,
    "start_time": "2023-06-01T13:34:54.287Z"
   },
   {
    "duration": 53,
    "start_time": "2023-06-01T13:35:13.015Z"
   },
   {
    "duration": 78,
    "start_time": "2023-06-01T13:37:26.839Z"
   },
   {
    "duration": 1082,
    "start_time": "2023-06-01T13:37:54.274Z"
   },
   {
    "duration": 131,
    "start_time": "2023-06-01T13:37:55.358Z"
   },
   {
    "duration": 15,
    "start_time": "2023-06-01T13:37:55.491Z"
   },
   {
    "duration": 15,
    "start_time": "2023-06-01T13:37:55.508Z"
   },
   {
    "duration": 15,
    "start_time": "2023-06-01T13:37:55.526Z"
   },
   {
    "duration": 13,
    "start_time": "2023-06-01T13:37:55.543Z"
   },
   {
    "duration": 7,
    "start_time": "2023-06-01T13:37:55.558Z"
   },
   {
    "duration": 16,
    "start_time": "2023-06-01T13:37:55.567Z"
   },
   {
    "duration": 11,
    "start_time": "2023-06-01T13:37:55.585Z"
   },
   {
    "duration": 7,
    "start_time": "2023-06-01T13:37:55.624Z"
   },
   {
    "duration": 10,
    "start_time": "2023-06-01T13:37:55.633Z"
   },
   {
    "duration": 30,
    "start_time": "2023-06-01T13:37:55.644Z"
   },
   {
    "duration": 8,
    "start_time": "2023-06-01T13:37:55.676Z"
   },
   {
    "duration": 12,
    "start_time": "2023-06-01T13:37:55.687Z"
   },
   {
    "duration": 7,
    "start_time": "2023-06-01T13:37:55.701Z"
   },
   {
    "duration": 183,
    "start_time": "2023-06-01T13:37:55.710Z"
   },
   {
    "duration": 88,
    "start_time": "2023-06-01T13:37:55.895Z"
   },
   {
    "duration": 187,
    "start_time": "2023-06-01T13:37:55.985Z"
   },
   {
    "duration": 163,
    "start_time": "2023-06-01T13:37:56.174Z"
   },
   {
    "duration": 148,
    "start_time": "2023-06-01T13:37:56.339Z"
   },
   {
    "duration": 16,
    "start_time": "2023-06-01T13:37:56.489Z"
   },
   {
    "duration": 25,
    "start_time": "2023-06-01T13:37:56.507Z"
   },
   {
    "duration": 7,
    "start_time": "2023-06-01T13:37:56.534Z"
   },
   {
    "duration": 166,
    "start_time": "2023-06-01T13:37:56.543Z"
   },
   {
    "duration": 386,
    "start_time": "2023-06-01T13:37:56.711Z"
   },
   {
    "duration": 223,
    "start_time": "2023-06-01T13:37:57.099Z"
   },
   {
    "duration": 45,
    "start_time": "2023-06-01T13:37:57.325Z"
   },
   {
    "duration": 9,
    "start_time": "2023-06-01T13:37:57.371Z"
   },
   {
    "duration": 159,
    "start_time": "2023-06-01T13:37:57.382Z"
   },
   {
    "duration": 0,
    "start_time": "2023-06-01T13:37:57.543Z"
   },
   {
    "duration": 1,
    "start_time": "2023-06-01T13:37:57.544Z"
   },
   {
    "duration": 0,
    "start_time": "2023-06-01T13:37:57.546Z"
   },
   {
    "duration": 0,
    "start_time": "2023-06-01T13:37:57.547Z"
   },
   {
    "duration": 157,
    "start_time": "2023-06-01T13:40:04.135Z"
   },
   {
    "duration": 24,
    "start_time": "2023-06-01T13:41:05.464Z"
   },
   {
    "duration": 31,
    "start_time": "2023-06-01T13:42:04.173Z"
   },
   {
    "duration": 8,
    "start_time": "2023-06-01T13:43:19.706Z"
   },
   {
    "duration": 51,
    "start_time": "2023-06-01T13:43:52.664Z"
   },
   {
    "duration": 28,
    "start_time": "2023-06-01T13:44:02.236Z"
   },
   {
    "duration": 1060,
    "start_time": "2023-06-01T13:48:45.610Z"
   },
   {
    "duration": 117,
    "start_time": "2023-06-01T13:48:46.672Z"
   },
   {
    "duration": 12,
    "start_time": "2023-06-01T13:48:46.791Z"
   },
   {
    "duration": 12,
    "start_time": "2023-06-01T13:48:46.805Z"
   },
   {
    "duration": 20,
    "start_time": "2023-06-01T13:48:46.818Z"
   },
   {
    "duration": 17,
    "start_time": "2023-06-01T13:48:46.840Z"
   },
   {
    "duration": 20,
    "start_time": "2023-06-01T13:48:46.859Z"
   },
   {
    "duration": 19,
    "start_time": "2023-06-01T13:48:46.881Z"
   },
   {
    "duration": 16,
    "start_time": "2023-06-01T13:48:46.902Z"
   },
   {
    "duration": 6,
    "start_time": "2023-06-01T13:48:46.921Z"
   },
   {
    "duration": 15,
    "start_time": "2023-06-01T13:48:46.928Z"
   },
   {
    "duration": 10,
    "start_time": "2023-06-01T13:48:46.945Z"
   },
   {
    "duration": 7,
    "start_time": "2023-06-01T13:48:46.956Z"
   },
   {
    "duration": 7,
    "start_time": "2023-06-01T13:48:46.964Z"
   },
   {
    "duration": 11,
    "start_time": "2023-06-01T13:48:46.973Z"
   },
   {
    "duration": 153,
    "start_time": "2023-06-01T13:48:46.986Z"
   },
   {
    "duration": 90,
    "start_time": "2023-06-01T13:48:47.141Z"
   },
   {
    "duration": 157,
    "start_time": "2023-06-01T13:48:47.232Z"
   },
   {
    "duration": 168,
    "start_time": "2023-06-01T13:48:47.391Z"
   },
   {
    "duration": 153,
    "start_time": "2023-06-01T13:48:47.561Z"
   },
   {
    "duration": 25,
    "start_time": "2023-06-01T13:48:47.715Z"
   },
   {
    "duration": 10,
    "start_time": "2023-06-01T13:48:47.742Z"
   },
   {
    "duration": 19,
    "start_time": "2023-06-01T13:48:47.754Z"
   },
   {
    "duration": 7,
    "start_time": "2023-06-01T13:48:47.775Z"
   },
   {
    "duration": 183,
    "start_time": "2023-06-01T13:48:47.784Z"
   },
   {
    "duration": 334,
    "start_time": "2023-06-01T13:48:47.969Z"
   },
   {
    "duration": 160,
    "start_time": "2023-06-01T13:48:48.304Z"
   },
   {
    "duration": 29,
    "start_time": "2023-06-01T13:48:48.468Z"
   },
   {
    "duration": 26,
    "start_time": "2023-06-01T13:48:48.499Z"
   },
   {
    "duration": 11,
    "start_time": "2023-06-01T13:48:48.528Z"
   },
   {
    "duration": 15,
    "start_time": "2023-06-01T13:48:48.541Z"
   },
   {
    "duration": 8,
    "start_time": "2023-06-01T13:48:48.558Z"
   },
   {
    "duration": 5,
    "start_time": "2023-06-01T13:48:48.568Z"
   },
   {
    "duration": 108,
    "start_time": "2023-06-01T13:52:29.940Z"
   },
   {
    "duration": 39,
    "start_time": "2023-06-01T13:52:52.536Z"
   },
   {
    "duration": 11,
    "start_time": "2023-06-01T13:52:58.002Z"
   },
   {
    "duration": 80,
    "start_time": "2023-06-01T13:53:53.883Z"
   },
   {
    "duration": 6,
    "start_time": "2023-06-01T13:53:57.261Z"
   },
   {
    "duration": 34,
    "start_time": "2023-06-01T13:54:19.040Z"
   },
   {
    "duration": 13,
    "start_time": "2023-06-01T13:54:30.464Z"
   },
   {
    "duration": 4,
    "start_time": "2023-06-01T13:54:37.477Z"
   },
   {
    "duration": 8,
    "start_time": "2023-06-01T13:54:42.139Z"
   },
   {
    "duration": 5,
    "start_time": "2023-06-01T13:54:42.735Z"
   },
   {
    "duration": 12,
    "start_time": "2023-06-01T13:59:45.894Z"
   },
   {
    "duration": 3,
    "start_time": "2023-06-01T13:59:46.316Z"
   },
   {
    "duration": 7,
    "start_time": "2023-06-01T13:59:46.831Z"
   },
   {
    "duration": 16,
    "start_time": "2023-06-01T14:00:29.360Z"
   },
   {
    "duration": 567,
    "start_time": "2023-06-01T14:01:10.565Z"
   },
   {
    "duration": 827,
    "start_time": "2023-06-01T14:02:31.189Z"
   },
   {
    "duration": 8,
    "start_time": "2023-06-01T14:02:32.282Z"
   },
   {
    "duration": 4,
    "start_time": "2023-06-01T14:02:54.882Z"
   },
   {
    "duration": 12,
    "start_time": "2023-06-01T14:02:56.301Z"
   },
   {
    "duration": 32,
    "start_time": "2023-06-01T14:03:02.011Z"
   },
   {
    "duration": 27,
    "start_time": "2023-06-01T14:03:15.087Z"
   },
   {
    "duration": 18,
    "start_time": "2023-06-01T14:03:19.583Z"
   },
   {
    "duration": 13,
    "start_time": "2023-06-01T14:03:33.449Z"
   },
   {
    "duration": 13,
    "start_time": "2023-06-01T14:03:41.545Z"
   },
   {
    "duration": 5,
    "start_time": "2023-06-01T14:12:04.369Z"
   },
   {
    "duration": 4,
    "start_time": "2023-06-01T14:12:23.896Z"
   },
   {
    "duration": 5,
    "start_time": "2023-06-01T14:14:28.181Z"
   },
   {
    "duration": 777,
    "start_time": "2023-06-01T14:17:25.796Z"
   },
   {
    "duration": 762,
    "start_time": "2023-06-01T14:17:41.354Z"
   },
   {
    "duration": 795,
    "start_time": "2023-06-01T14:18:44.180Z"
   },
   {
    "duration": 715,
    "start_time": "2023-06-01T14:19:07.408Z"
   },
   {
    "duration": 759,
    "start_time": "2023-06-01T14:20:13.187Z"
   },
   {
    "duration": 12,
    "start_time": "2023-06-01T14:20:36.982Z"
   },
   {
    "duration": 27,
    "start_time": "2023-06-01T14:25:06.141Z"
   },
   {
    "duration": 190,
    "start_time": "2023-06-01T14:25:06.844Z"
   },
   {
    "duration": 10,
    "start_time": "2023-06-01T14:25:09.753Z"
   },
   {
    "duration": 5,
    "start_time": "2023-06-01T14:25:11.190Z"
   },
   {
    "duration": 16,
    "start_time": "2023-06-01T14:25:13.207Z"
   },
   {
    "duration": 4401,
    "start_time": "2023-06-01T14:25:50.324Z"
   },
   {
    "duration": 5,
    "start_time": "2023-06-01T14:25:54.727Z"
   },
   {
    "duration": 21,
    "start_time": "2023-06-01T14:25:54.733Z"
   },
   {
    "duration": 21,
    "start_time": "2023-06-01T14:25:57.322Z"
   },
   {
    "duration": 1013,
    "start_time": "2023-06-01T14:27:27.183Z"
   },
   {
    "duration": 362,
    "start_time": "2023-06-01T14:27:28.198Z"
   },
   {
    "duration": 12,
    "start_time": "2023-06-01T14:27:28.562Z"
   },
   {
    "duration": 20,
    "start_time": "2023-06-01T14:27:28.576Z"
   },
   {
    "duration": 13,
    "start_time": "2023-06-01T14:27:28.598Z"
   },
   {
    "duration": 20,
    "start_time": "2023-06-01T14:27:28.614Z"
   },
   {
    "duration": 9,
    "start_time": "2023-06-01T14:27:28.636Z"
   },
   {
    "duration": 47,
    "start_time": "2023-06-01T14:27:28.647Z"
   },
   {
    "duration": 10,
    "start_time": "2023-06-01T14:27:28.696Z"
   },
   {
    "duration": 8,
    "start_time": "2023-06-01T14:27:28.708Z"
   },
   {
    "duration": 16,
    "start_time": "2023-06-01T14:27:28.718Z"
   },
   {
    "duration": 31,
    "start_time": "2023-06-01T14:27:28.736Z"
   },
   {
    "duration": 8,
    "start_time": "2023-06-01T14:27:28.768Z"
   },
   {
    "duration": 5,
    "start_time": "2023-06-01T14:27:28.778Z"
   },
   {
    "duration": 7,
    "start_time": "2023-06-01T14:27:28.785Z"
   },
   {
    "duration": 171,
    "start_time": "2023-06-01T14:27:28.794Z"
   },
   {
    "duration": 85,
    "start_time": "2023-06-01T14:27:28.967Z"
   },
   {
    "duration": 145,
    "start_time": "2023-06-01T14:27:29.053Z"
   },
   {
    "duration": 141,
    "start_time": "2023-06-01T14:27:29.199Z"
   },
   {
    "duration": 135,
    "start_time": "2023-06-01T14:27:29.342Z"
   },
   {
    "duration": 15,
    "start_time": "2023-06-01T14:27:29.479Z"
   },
   {
    "duration": 9,
    "start_time": "2023-06-01T14:27:29.496Z"
   },
   {
    "duration": 22,
    "start_time": "2023-06-01T14:27:29.507Z"
   },
   {
    "duration": 179,
    "start_time": "2023-06-01T14:27:29.530Z"
   },
   {
    "duration": 369,
    "start_time": "2023-06-01T14:27:29.711Z"
   },
   {
    "duration": 147,
    "start_time": "2023-06-01T14:27:30.081Z"
   },
   {
    "duration": 31,
    "start_time": "2023-06-01T14:27:30.229Z"
   },
   {
    "duration": 10,
    "start_time": "2023-06-01T14:27:30.263Z"
   },
   {
    "duration": 15,
    "start_time": "2023-06-01T14:27:30.274Z"
   },
   {
    "duration": 20,
    "start_time": "2023-06-01T14:27:30.290Z"
   },
   {
    "duration": 34,
    "start_time": "2023-06-01T14:27:30.312Z"
   },
   {
    "duration": 37,
    "start_time": "2023-06-01T14:27:30.347Z"
   },
   {
    "duration": 39,
    "start_time": "2023-06-01T14:27:30.386Z"
   },
   {
    "duration": 16,
    "start_time": "2023-06-01T14:27:30.427Z"
   },
   {
    "duration": 67,
    "start_time": "2023-06-01T14:27:30.445Z"
   },
   {
    "duration": 106,
    "start_time": "2023-06-01T14:27:30.514Z"
   },
   {
    "duration": 53,
    "start_time": "2023-06-01T14:27:30.622Z"
   },
   {
    "duration": 57,
    "start_time": "2023-06-01T14:27:30.677Z"
   },
   {
    "duration": 979,
    "start_time": "2023-06-01T14:54:33.771Z"
   },
   {
    "duration": 133,
    "start_time": "2023-06-01T14:54:34.752Z"
   },
   {
    "duration": 15,
    "start_time": "2023-06-01T14:54:34.888Z"
   },
   {
    "duration": 16,
    "start_time": "2023-06-01T14:54:34.905Z"
   },
   {
    "duration": 9,
    "start_time": "2023-06-01T14:54:34.924Z"
   },
   {
    "duration": 20,
    "start_time": "2023-06-01T14:54:34.934Z"
   },
   {
    "duration": 9,
    "start_time": "2023-06-01T14:54:34.955Z"
   },
   {
    "duration": 14,
    "start_time": "2023-06-01T14:54:34.966Z"
   },
   {
    "duration": 9,
    "start_time": "2023-06-01T14:54:34.982Z"
   },
   {
    "duration": 34,
    "start_time": "2023-06-01T14:54:34.992Z"
   },
   {
    "duration": 7,
    "start_time": "2023-06-01T14:54:35.028Z"
   },
   {
    "duration": 25,
    "start_time": "2023-06-01T14:54:35.037Z"
   },
   {
    "duration": 10,
    "start_time": "2023-06-01T14:54:35.064Z"
   },
   {
    "duration": 20,
    "start_time": "2023-06-01T14:54:35.077Z"
   },
   {
    "duration": 7,
    "start_time": "2023-06-01T14:54:35.099Z"
   },
   {
    "duration": 152,
    "start_time": "2023-06-01T14:54:35.108Z"
   },
   {
    "duration": 84,
    "start_time": "2023-06-01T14:54:35.262Z"
   },
   {
    "duration": 151,
    "start_time": "2023-06-01T14:54:35.347Z"
   },
   {
    "duration": 155,
    "start_time": "2023-06-01T14:54:35.500Z"
   },
   {
    "duration": 146,
    "start_time": "2023-06-01T14:54:35.656Z"
   },
   {
    "duration": 32,
    "start_time": "2023-06-01T14:54:35.804Z"
   },
   {
    "duration": 13,
    "start_time": "2023-06-01T14:54:35.839Z"
   },
   {
    "duration": 20,
    "start_time": "2023-06-01T14:54:35.854Z"
   },
   {
    "duration": 177,
    "start_time": "2023-06-01T14:54:35.876Z"
   },
   {
    "duration": 322,
    "start_time": "2023-06-01T14:54:36.055Z"
   },
   {
    "duration": 141,
    "start_time": "2023-06-01T14:54:36.378Z"
   },
   {
    "duration": 32,
    "start_time": "2023-06-01T14:54:36.524Z"
   },
   {
    "duration": 11,
    "start_time": "2023-06-01T14:54:36.557Z"
   },
   {
    "duration": 5,
    "start_time": "2023-06-01T14:54:36.570Z"
   },
   {
    "duration": 31,
    "start_time": "2023-06-01T14:54:36.576Z"
   },
   {
    "duration": 27,
    "start_time": "2023-06-01T14:54:36.609Z"
   },
   {
    "duration": 13,
    "start_time": "2023-06-01T14:54:36.638Z"
   },
   {
    "duration": 43,
    "start_time": "2023-06-01T14:54:36.653Z"
   },
   {
    "duration": 15,
    "start_time": "2023-06-01T14:54:36.697Z"
   },
   {
    "duration": 15,
    "start_time": "2023-06-01T14:54:36.713Z"
   },
   {
    "duration": 8,
    "start_time": "2023-06-01T14:54:36.730Z"
   },
   {
    "duration": 48,
    "start_time": "2023-06-01T14:54:36.740Z"
   },
   {
    "duration": 48,
    "start_time": "2023-06-01T14:56:26.899Z"
   },
   {
    "duration": 1193,
    "start_time": "2023-06-01T15:05:03.318Z"
   },
   {
    "duration": 133,
    "start_time": "2023-06-01T15:05:04.514Z"
   },
   {
    "duration": 14,
    "start_time": "2023-06-01T15:05:04.649Z"
   },
   {
    "duration": 47,
    "start_time": "2023-06-01T15:05:04.665Z"
   },
   {
    "duration": 10,
    "start_time": "2023-06-01T15:05:04.715Z"
   },
   {
    "duration": 17,
    "start_time": "2023-06-01T15:05:04.727Z"
   },
   {
    "duration": 7,
    "start_time": "2023-06-01T15:05:04.746Z"
   },
   {
    "duration": 35,
    "start_time": "2023-06-01T15:05:04.755Z"
   },
   {
    "duration": 9,
    "start_time": "2023-06-01T15:05:04.792Z"
   },
   {
    "duration": 14,
    "start_time": "2023-06-01T15:05:04.803Z"
   },
   {
    "duration": 22,
    "start_time": "2023-06-01T15:05:04.818Z"
   },
   {
    "duration": 56,
    "start_time": "2023-06-01T15:05:04.842Z"
   },
   {
    "duration": 6,
    "start_time": "2023-06-01T15:05:04.900Z"
   },
   {
    "duration": 6,
    "start_time": "2023-06-01T15:05:04.908Z"
   },
   {
    "duration": 7,
    "start_time": "2023-06-01T15:05:04.916Z"
   },
   {
    "duration": 145,
    "start_time": "2023-06-01T15:05:04.925Z"
   },
   {
    "duration": 101,
    "start_time": "2023-06-01T15:05:05.072Z"
   },
   {
    "duration": 150,
    "start_time": "2023-06-01T15:05:05.175Z"
   },
   {
    "duration": 148,
    "start_time": "2023-06-01T15:05:05.327Z"
   },
   {
    "duration": 149,
    "start_time": "2023-06-01T15:05:05.476Z"
   },
   {
    "duration": 15,
    "start_time": "2023-06-01T15:05:05.627Z"
   },
   {
    "duration": 12,
    "start_time": "2023-06-01T15:05:05.644Z"
   },
   {
    "duration": 20,
    "start_time": "2023-06-01T15:05:05.659Z"
   },
   {
    "duration": 177,
    "start_time": "2023-06-01T15:05:05.681Z"
   },
   {
    "duration": 334,
    "start_time": "2023-06-01T15:05:05.860Z"
   },
   {
    "duration": 151,
    "start_time": "2023-06-01T15:05:06.195Z"
   },
   {
    "duration": 30,
    "start_time": "2023-06-01T15:05:06.348Z"
   },
   {
    "duration": 10,
    "start_time": "2023-06-01T15:05:06.380Z"
   },
   {
    "duration": 5,
    "start_time": "2023-06-01T15:05:06.392Z"
   },
   {
    "duration": 9,
    "start_time": "2023-06-01T15:05:06.426Z"
   },
   {
    "duration": 29,
    "start_time": "2023-06-01T15:05:06.438Z"
   },
   {
    "duration": 5,
    "start_time": "2023-06-01T15:05:06.469Z"
   },
   {
    "duration": 5,
    "start_time": "2023-06-01T15:05:06.476Z"
   },
   {
    "duration": 59,
    "start_time": "2023-06-01T15:05:06.483Z"
   },
   {
    "duration": 1198,
    "start_time": "2023-06-02T04:28:27.639Z"
   },
   {
    "duration": 210,
    "start_time": "2023-06-02T04:28:28.839Z"
   },
   {
    "duration": 15,
    "start_time": "2023-06-02T04:28:29.051Z"
   },
   {
    "duration": 20,
    "start_time": "2023-06-02T04:28:29.069Z"
   },
   {
    "duration": 15,
    "start_time": "2023-06-02T04:28:29.090Z"
   },
   {
    "duration": 17,
    "start_time": "2023-06-02T04:28:29.107Z"
   },
   {
    "duration": 7,
    "start_time": "2023-06-02T04:28:29.126Z"
   },
   {
    "duration": 26,
    "start_time": "2023-06-02T04:28:29.135Z"
   },
   {
    "duration": 9,
    "start_time": "2023-06-02T04:28:29.163Z"
   },
   {
    "duration": 10,
    "start_time": "2023-06-02T04:28:29.175Z"
   },
   {
    "duration": 6,
    "start_time": "2023-06-02T04:28:29.186Z"
   },
   {
    "duration": 6,
    "start_time": "2023-06-02T04:28:29.194Z"
   },
   {
    "duration": 6,
    "start_time": "2023-06-02T04:28:29.201Z"
   },
   {
    "duration": 7,
    "start_time": "2023-06-02T04:28:29.208Z"
   },
   {
    "duration": 6,
    "start_time": "2023-06-02T04:28:29.216Z"
   },
   {
    "duration": 155,
    "start_time": "2023-06-02T04:28:29.223Z"
   },
   {
    "duration": 74,
    "start_time": "2023-06-02T04:28:29.379Z"
   },
   {
    "duration": 145,
    "start_time": "2023-06-02T04:28:29.455Z"
   },
   {
    "duration": 135,
    "start_time": "2023-06-02T04:28:29.602Z"
   },
   {
    "duration": 122,
    "start_time": "2023-06-02T04:28:29.739Z"
   },
   {
    "duration": 25,
    "start_time": "2023-06-02T04:28:29.862Z"
   },
   {
    "duration": 9,
    "start_time": "2023-06-02T04:28:29.888Z"
   },
   {
    "duration": 10,
    "start_time": "2023-06-02T04:28:29.898Z"
   },
   {
    "duration": 143,
    "start_time": "2023-06-02T04:28:29.910Z"
   },
   {
    "duration": 290,
    "start_time": "2023-06-02T04:28:30.055Z"
   },
   {
    "duration": 143,
    "start_time": "2023-06-02T04:28:30.347Z"
   },
   {
    "duration": 26,
    "start_time": "2023-06-02T04:28:30.491Z"
   },
   {
    "duration": 22,
    "start_time": "2023-06-02T04:28:30.521Z"
   },
   {
    "duration": 34,
    "start_time": "2023-06-02T04:28:30.544Z"
   },
   {
    "duration": 30,
    "start_time": "2023-06-02T04:28:30.579Z"
   },
   {
    "duration": 40,
    "start_time": "2023-06-02T04:28:30.610Z"
   },
   {
    "duration": 12,
    "start_time": "2023-06-02T04:28:30.652Z"
   },
   {
    "duration": 31,
    "start_time": "2023-06-02T04:28:30.666Z"
   },
   {
    "duration": 63,
    "start_time": "2023-06-02T04:28:30.699Z"
   },
   {
    "duration": 18,
    "start_time": "2023-06-02T04:31:16.149Z"
   },
   {
    "duration": 15,
    "start_time": "2023-06-02T04:31:23.120Z"
   },
   {
    "duration": 1214,
    "start_time": "2023-06-02T07:27:06.063Z"
   },
   {
    "duration": 246,
    "start_time": "2023-06-02T07:27:07.279Z"
   },
   {
    "duration": 11,
    "start_time": "2023-06-02T07:27:07.527Z"
   },
   {
    "duration": 11,
    "start_time": "2023-06-02T07:27:07.540Z"
   },
   {
    "duration": 16,
    "start_time": "2023-06-02T07:27:07.553Z"
   },
   {
    "duration": 15,
    "start_time": "2023-06-02T07:27:07.570Z"
   },
   {
    "duration": 7,
    "start_time": "2023-06-02T07:27:07.586Z"
   },
   {
    "duration": 10,
    "start_time": "2023-06-02T07:27:07.595Z"
   },
   {
    "duration": 9,
    "start_time": "2023-06-02T07:27:07.607Z"
   },
   {
    "duration": 23,
    "start_time": "2023-06-02T07:27:07.619Z"
   },
   {
    "duration": 12,
    "start_time": "2023-06-02T07:27:07.644Z"
   },
   {
    "duration": 16,
    "start_time": "2023-06-02T07:27:07.658Z"
   },
   {
    "duration": 9,
    "start_time": "2023-06-02T07:27:07.675Z"
   },
   {
    "duration": 5,
    "start_time": "2023-06-02T07:27:07.686Z"
   },
   {
    "duration": 12,
    "start_time": "2023-06-02T07:27:07.693Z"
   },
   {
    "duration": 142,
    "start_time": "2023-06-02T07:27:07.707Z"
   },
   {
    "duration": 72,
    "start_time": "2023-06-02T07:27:07.851Z"
   },
   {
    "duration": 141,
    "start_time": "2023-06-02T07:27:07.924Z"
   },
   {
    "duration": 150,
    "start_time": "2023-06-02T07:27:08.067Z"
   },
   {
    "duration": 180,
    "start_time": "2023-06-02T07:27:08.219Z"
   },
   {
    "duration": 17,
    "start_time": "2023-06-02T07:27:08.401Z"
   },
   {
    "duration": 24,
    "start_time": "2023-06-02T07:27:08.420Z"
   },
   {
    "duration": 7,
    "start_time": "2023-06-02T07:27:08.445Z"
   },
   {
    "duration": 147,
    "start_time": "2023-06-02T07:27:08.454Z"
   },
   {
    "duration": 314,
    "start_time": "2023-06-02T07:27:08.603Z"
   },
   {
    "duration": 142,
    "start_time": "2023-06-02T07:27:08.918Z"
   },
   {
    "duration": 30,
    "start_time": "2023-06-02T07:27:09.061Z"
   },
   {
    "duration": 8,
    "start_time": "2023-06-02T07:27:09.094Z"
   },
   {
    "duration": 5,
    "start_time": "2023-06-02T07:27:09.104Z"
   },
   {
    "duration": 32,
    "start_time": "2023-06-02T07:27:09.110Z"
   },
   {
    "duration": 22,
    "start_time": "2023-06-02T07:27:09.143Z"
   },
   {
    "duration": 14,
    "start_time": "2023-06-02T07:27:09.166Z"
   },
   {
    "duration": 5,
    "start_time": "2023-06-02T07:27:09.181Z"
   },
   {
    "duration": 11,
    "start_time": "2023-06-02T07:27:09.187Z"
   },
   {
    "duration": 58,
    "start_time": "2023-06-02T07:27:09.199Z"
   },
   {
    "duration": 293,
    "start_time": "2023-06-02T07:27:55.177Z"
   },
   {
    "duration": 16,
    "start_time": "2023-06-02T07:27:58.165Z"
   },
   {
    "duration": 48,
    "start_time": "2023-06-02T07:29:11.510Z"
   },
   {
    "duration": 7,
    "start_time": "2023-06-02T07:29:13.568Z"
   },
   {
    "duration": 1811,
    "start_time": "2023-06-02T07:29:21.014Z"
   },
   {
    "duration": 303,
    "start_time": "2023-06-02T07:29:22.827Z"
   },
   {
    "duration": 16,
    "start_time": "2023-06-02T07:29:23.133Z"
   },
   {
    "duration": 18,
    "start_time": "2023-06-02T07:29:23.152Z"
   },
   {
    "duration": 146,
    "start_time": "2023-06-02T07:29:23.172Z"
   },
   {
    "duration": 24,
    "start_time": "2023-06-02T07:29:23.320Z"
   },
   {
    "duration": 8,
    "start_time": "2023-06-02T07:29:23.346Z"
   },
   {
    "duration": 13,
    "start_time": "2023-06-02T07:29:23.356Z"
   },
   {
    "duration": 13,
    "start_time": "2023-06-02T07:29:23.371Z"
   },
   {
    "duration": 12,
    "start_time": "2023-06-02T07:29:23.387Z"
   },
   {
    "duration": 11,
    "start_time": "2023-06-02T07:29:23.400Z"
   },
   {
    "duration": 33,
    "start_time": "2023-06-02T07:29:23.413Z"
   },
   {
    "duration": 13,
    "start_time": "2023-06-02T07:29:23.448Z"
   },
   {
    "duration": 9,
    "start_time": "2023-06-02T07:29:23.463Z"
   },
   {
    "duration": 19,
    "start_time": "2023-06-02T07:29:23.474Z"
   },
   {
    "duration": 160,
    "start_time": "2023-06-02T07:29:23.494Z"
   },
   {
    "duration": 107,
    "start_time": "2023-06-02T07:29:23.657Z"
   },
   {
    "duration": 149,
    "start_time": "2023-06-02T07:29:23.766Z"
   },
   {
    "duration": 156,
    "start_time": "2023-06-02T07:29:23.917Z"
   },
   {
    "duration": 164,
    "start_time": "2023-06-02T07:29:24.075Z"
   },
   {
    "duration": 18,
    "start_time": "2023-06-02T07:29:24.242Z"
   },
   {
    "duration": 10,
    "start_time": "2023-06-02T07:29:24.262Z"
   },
   {
    "duration": 8,
    "start_time": "2023-06-02T07:29:24.274Z"
   },
   {
    "duration": 172,
    "start_time": "2023-06-02T07:29:24.284Z"
   },
   {
    "duration": 357,
    "start_time": "2023-06-02T07:29:24.458Z"
   },
   {
    "duration": 160,
    "start_time": "2023-06-02T07:29:24.817Z"
   },
   {
    "duration": 32,
    "start_time": "2023-06-02T07:29:24.979Z"
   },
   {
    "duration": 32,
    "start_time": "2023-06-02T07:29:25.014Z"
   },
   {
    "duration": 4,
    "start_time": "2023-06-02T07:29:25.048Z"
   },
   {
    "duration": 18,
    "start_time": "2023-06-02T07:29:25.055Z"
   },
   {
    "duration": 53,
    "start_time": "2023-06-02T07:29:25.075Z"
   },
   {
    "duration": 17,
    "start_time": "2023-06-02T07:29:25.130Z"
   },
   {
    "duration": 16,
    "start_time": "2023-06-02T07:29:25.149Z"
   },
   {
    "duration": 13,
    "start_time": "2023-06-02T07:29:25.166Z"
   },
   {
    "duration": 50,
    "start_time": "2023-06-02T07:29:25.181Z"
   },
   {
    "duration": 10,
    "start_time": "2023-06-02T07:32:56.868Z"
   },
   {
    "duration": 2,
    "start_time": "2023-06-02T07:33:30.086Z"
   },
   {
    "duration": 14,
    "start_time": "2023-06-02T07:33:32.376Z"
   },
   {
    "duration": 1053,
    "start_time": "2023-06-02T07:33:41.081Z"
   },
   {
    "duration": 117,
    "start_time": "2023-06-02T07:33:42.136Z"
   },
   {
    "duration": 13,
    "start_time": "2023-06-02T07:33:42.254Z"
   },
   {
    "duration": 15,
    "start_time": "2023-06-02T07:33:42.269Z"
   },
   {
    "duration": 18,
    "start_time": "2023-06-02T07:33:42.286Z"
   },
   {
    "duration": 16,
    "start_time": "2023-06-02T07:33:42.305Z"
   },
   {
    "duration": 10,
    "start_time": "2023-06-02T07:33:42.323Z"
   },
   {
    "duration": 23,
    "start_time": "2023-06-02T07:33:42.341Z"
   },
   {
    "duration": 19,
    "start_time": "2023-06-02T07:33:42.366Z"
   },
   {
    "duration": 9,
    "start_time": "2023-06-02T07:33:42.388Z"
   },
   {
    "duration": 13,
    "start_time": "2023-06-02T07:33:42.398Z"
   },
   {
    "duration": 22,
    "start_time": "2023-06-02T07:33:42.413Z"
   },
   {
    "duration": 14,
    "start_time": "2023-06-02T07:33:42.437Z"
   },
   {
    "duration": 16,
    "start_time": "2023-06-02T07:33:42.453Z"
   },
   {
    "duration": 12,
    "start_time": "2023-06-02T07:33:42.471Z"
   },
   {
    "duration": 155,
    "start_time": "2023-06-02T07:33:42.485Z"
   },
   {
    "duration": 86,
    "start_time": "2023-06-02T07:33:42.643Z"
   },
   {
    "duration": 155,
    "start_time": "2023-06-02T07:33:42.741Z"
   },
   {
    "duration": 156,
    "start_time": "2023-06-02T07:33:42.898Z"
   },
   {
    "duration": 152,
    "start_time": "2023-06-02T07:33:43.056Z"
   },
   {
    "duration": 17,
    "start_time": "2023-06-02T07:33:43.210Z"
   },
   {
    "duration": 21,
    "start_time": "2023-06-02T07:33:43.229Z"
   },
   {
    "duration": 7,
    "start_time": "2023-06-02T07:33:43.252Z"
   },
   {
    "duration": 162,
    "start_time": "2023-06-02T07:33:43.261Z"
   },
   {
    "duration": 348,
    "start_time": "2023-06-02T07:33:43.425Z"
   },
   {
    "duration": 161,
    "start_time": "2023-06-02T07:33:43.774Z"
   },
   {
    "duration": 35,
    "start_time": "2023-06-02T07:33:43.936Z"
   },
   {
    "duration": 9,
    "start_time": "2023-06-02T07:33:43.974Z"
   },
   {
    "duration": 4,
    "start_time": "2023-06-02T07:33:43.985Z"
   },
   {
    "duration": 14,
    "start_time": "2023-06-02T07:33:43.991Z"
   },
   {
    "duration": 41,
    "start_time": "2023-06-02T07:33:44.006Z"
   },
   {
    "duration": 3,
    "start_time": "2023-06-02T07:33:44.048Z"
   },
   {
    "duration": 18,
    "start_time": "2023-06-02T07:33:44.053Z"
   },
   {
    "duration": 8,
    "start_time": "2023-06-02T07:33:44.073Z"
   },
   {
    "duration": 5,
    "start_time": "2023-06-02T07:33:44.083Z"
   },
   {
    "duration": 1851,
    "start_time": "2023-06-02T07:33:44.090Z"
   },
   {
    "duration": 14,
    "start_time": "2023-06-02T07:35:18.551Z"
   },
   {
    "duration": 14,
    "start_time": "2023-06-02T07:36:30.280Z"
   },
   {
    "duration": 8,
    "start_time": "2023-06-02T07:36:45.567Z"
   },
   {
    "duration": 17,
    "start_time": "2023-06-02T07:36:49.563Z"
   },
   {
    "duration": 7,
    "start_time": "2023-06-02T07:40:58.608Z"
   },
   {
    "duration": 7,
    "start_time": "2023-06-02T07:41:24.845Z"
   },
   {
    "duration": 7,
    "start_time": "2023-06-02T07:41:59.664Z"
   },
   {
    "duration": 6,
    "start_time": "2023-06-02T07:42:05.348Z"
   },
   {
    "duration": 10,
    "start_time": "2023-06-02T07:42:19.478Z"
   },
   {
    "duration": 2,
    "start_time": "2023-06-02T07:46:36.985Z"
   },
   {
    "duration": 19,
    "start_time": "2023-06-02T07:46:38.004Z"
   },
   {
    "duration": 1199,
    "start_time": "2023-06-02T07:46:45.044Z"
   },
   {
    "duration": 116,
    "start_time": "2023-06-02T07:46:46.245Z"
   },
   {
    "duration": 15,
    "start_time": "2023-06-02T07:46:46.362Z"
   },
   {
    "duration": 13,
    "start_time": "2023-06-02T07:46:46.379Z"
   },
   {
    "duration": 19,
    "start_time": "2023-06-02T07:46:46.394Z"
   },
   {
    "duration": 16,
    "start_time": "2023-06-02T07:46:46.415Z"
   },
   {
    "duration": 20,
    "start_time": "2023-06-02T07:46:46.433Z"
   },
   {
    "duration": 22,
    "start_time": "2023-06-02T07:46:46.454Z"
   },
   {
    "duration": 11,
    "start_time": "2023-06-02T07:46:46.478Z"
   },
   {
    "duration": 6,
    "start_time": "2023-06-02T07:46:46.492Z"
   },
   {
    "duration": 39,
    "start_time": "2023-06-02T07:46:46.500Z"
   },
   {
    "duration": 24,
    "start_time": "2023-06-02T07:46:46.541Z"
   },
   {
    "duration": 9,
    "start_time": "2023-06-02T07:46:46.567Z"
   },
   {
    "duration": 9,
    "start_time": "2023-06-02T07:46:46.578Z"
   },
   {
    "duration": 9,
    "start_time": "2023-06-02T07:46:46.589Z"
   },
   {
    "duration": 181,
    "start_time": "2023-06-02T07:46:46.601Z"
   },
   {
    "duration": 94,
    "start_time": "2023-06-02T07:46:46.784Z"
   },
   {
    "duration": 172,
    "start_time": "2023-06-02T07:46:46.880Z"
   },
   {
    "duration": 168,
    "start_time": "2023-06-02T07:46:47.054Z"
   },
   {
    "duration": 156,
    "start_time": "2023-06-02T07:46:47.224Z"
   },
   {
    "duration": 18,
    "start_time": "2023-06-02T07:46:47.382Z"
   },
   {
    "duration": 15,
    "start_time": "2023-06-02T07:46:47.402Z"
   },
   {
    "duration": 28,
    "start_time": "2023-06-02T07:46:47.420Z"
   },
   {
    "duration": 167,
    "start_time": "2023-06-02T07:46:47.451Z"
   },
   {
    "duration": 341,
    "start_time": "2023-06-02T07:46:47.620Z"
   },
   {
    "duration": 164,
    "start_time": "2023-06-02T07:46:47.964Z"
   },
   {
    "duration": 49,
    "start_time": "2023-06-02T07:46:48.131Z"
   },
   {
    "duration": 17,
    "start_time": "2023-06-02T07:46:48.184Z"
   },
   {
    "duration": 18,
    "start_time": "2023-06-02T07:46:48.203Z"
   },
   {
    "duration": 24,
    "start_time": "2023-06-02T07:46:48.223Z"
   },
   {
    "duration": 21,
    "start_time": "2023-06-02T07:46:48.249Z"
   },
   {
    "duration": 27,
    "start_time": "2023-06-02T07:46:48.272Z"
   },
   {
    "duration": 8,
    "start_time": "2023-06-02T07:46:48.302Z"
   },
   {
    "duration": 37,
    "start_time": "2023-06-02T07:46:48.313Z"
   },
   {
    "duration": 12,
    "start_time": "2023-06-02T07:46:48.352Z"
   },
   {
    "duration": 25,
    "start_time": "2023-06-02T07:46:48.366Z"
   },
   {
    "duration": 1464,
    "start_time": "2023-06-02T07:46:48.393Z"
   },
   {
    "duration": 11,
    "start_time": "2023-06-02T07:50:20.851Z"
   },
   {
    "duration": 15,
    "start_time": "2023-06-02T07:50:26.906Z"
   },
   {
    "duration": 25,
    "start_time": "2023-06-02T07:51:01.961Z"
   },
   {
    "duration": 53,
    "start_time": "2023-06-02T07:51:36.556Z"
   },
   {
    "duration": 45,
    "start_time": "2023-06-02T07:51:49.274Z"
   },
   {
    "duration": 1035,
    "start_time": "2023-06-02T07:52:16.760Z"
   },
   {
    "duration": 135,
    "start_time": "2023-06-02T07:52:17.797Z"
   },
   {
    "duration": 13,
    "start_time": "2023-06-02T07:52:17.933Z"
   },
   {
    "duration": 15,
    "start_time": "2023-06-02T07:52:17.948Z"
   },
   {
    "duration": 14,
    "start_time": "2023-06-02T07:52:17.965Z"
   },
   {
    "duration": 16,
    "start_time": "2023-06-02T07:52:17.980Z"
   },
   {
    "duration": 7,
    "start_time": "2023-06-02T07:52:17.997Z"
   },
   {
    "duration": 14,
    "start_time": "2023-06-02T07:52:18.005Z"
   },
   {
    "duration": 27,
    "start_time": "2023-06-02T07:52:18.021Z"
   },
   {
    "duration": 13,
    "start_time": "2023-06-02T07:52:18.051Z"
   },
   {
    "duration": 12,
    "start_time": "2023-06-02T07:52:18.066Z"
   },
   {
    "duration": 13,
    "start_time": "2023-06-02T07:52:18.080Z"
   },
   {
    "duration": 11,
    "start_time": "2023-06-02T07:52:18.095Z"
   },
   {
    "duration": 9,
    "start_time": "2023-06-02T07:52:18.107Z"
   },
   {
    "duration": 20,
    "start_time": "2023-06-02T07:52:18.118Z"
   },
   {
    "duration": 183,
    "start_time": "2023-06-02T07:52:18.142Z"
   },
   {
    "duration": 97,
    "start_time": "2023-06-02T07:52:18.327Z"
   },
   {
    "duration": 154,
    "start_time": "2023-06-02T07:52:18.426Z"
   },
   {
    "duration": 149,
    "start_time": "2023-06-02T07:52:18.582Z"
   },
   {
    "duration": 150,
    "start_time": "2023-06-02T07:52:18.733Z"
   },
   {
    "duration": 17,
    "start_time": "2023-06-02T07:52:18.884Z"
   },
   {
    "duration": 14,
    "start_time": "2023-06-02T07:52:18.903Z"
   },
   {
    "duration": 30,
    "start_time": "2023-06-02T07:52:18.919Z"
   },
   {
    "duration": 152,
    "start_time": "2023-06-02T07:52:18.950Z"
   },
   {
    "duration": 359,
    "start_time": "2023-06-02T07:52:19.104Z"
   },
   {
    "duration": 151,
    "start_time": "2023-06-02T07:52:19.465Z"
   },
   {
    "duration": 41,
    "start_time": "2023-06-02T07:52:19.618Z"
   },
   {
    "duration": 9,
    "start_time": "2023-06-02T07:52:19.663Z"
   },
   {
    "duration": 12,
    "start_time": "2023-06-02T07:52:19.674Z"
   },
   {
    "duration": 4,
    "start_time": "2023-06-02T07:52:19.688Z"
   },
   {
    "duration": 11,
    "start_time": "2023-06-02T07:52:19.693Z"
   },
   {
    "duration": 37,
    "start_time": "2023-06-02T07:52:19.705Z"
   },
   {
    "duration": 24,
    "start_time": "2023-06-02T07:52:19.744Z"
   },
   {
    "duration": 51,
    "start_time": "2023-06-02T07:52:19.770Z"
   },
   {
    "duration": 20,
    "start_time": "2023-06-02T07:52:19.823Z"
   },
   {
    "duration": 8,
    "start_time": "2023-06-02T07:52:19.845Z"
   },
   {
    "duration": 31,
    "start_time": "2023-06-02T07:52:19.855Z"
   },
   {
    "duration": 16,
    "start_time": "2023-06-02T07:52:44.079Z"
   },
   {
    "duration": 39,
    "start_time": "2023-06-02T07:53:38.551Z"
   },
   {
    "duration": 14,
    "start_time": "2023-06-02T07:53:41.060Z"
   },
   {
    "duration": 14,
    "start_time": "2023-06-02T07:53:48.649Z"
   },
   {
    "duration": 11,
    "start_time": "2023-06-02T07:54:19.382Z"
   },
   {
    "duration": 1036,
    "start_time": "2023-06-02T07:54:26.053Z"
   },
   {
    "duration": 134,
    "start_time": "2023-06-02T07:54:27.091Z"
   },
   {
    "duration": 15,
    "start_time": "2023-06-02T07:54:27.227Z"
   },
   {
    "duration": 12,
    "start_time": "2023-06-02T07:54:27.243Z"
   },
   {
    "duration": 10,
    "start_time": "2023-06-02T07:54:27.258Z"
   },
   {
    "duration": 19,
    "start_time": "2023-06-02T07:54:27.271Z"
   },
   {
    "duration": 10,
    "start_time": "2023-06-02T07:54:27.292Z"
   },
   {
    "duration": 41,
    "start_time": "2023-06-02T07:54:27.304Z"
   },
   {
    "duration": 9,
    "start_time": "2023-06-02T07:54:27.347Z"
   },
   {
    "duration": 6,
    "start_time": "2023-06-02T07:54:27.358Z"
   },
   {
    "duration": 14,
    "start_time": "2023-06-02T07:54:27.365Z"
   },
   {
    "duration": 11,
    "start_time": "2023-06-02T07:54:27.380Z"
   },
   {
    "duration": 6,
    "start_time": "2023-06-02T07:54:27.392Z"
   },
   {
    "duration": 6,
    "start_time": "2023-06-02T07:54:27.401Z"
   },
   {
    "duration": 33,
    "start_time": "2023-06-02T07:54:27.409Z"
   },
   {
    "duration": 164,
    "start_time": "2023-06-02T07:54:27.444Z"
   },
   {
    "duration": 85,
    "start_time": "2023-06-02T07:54:27.610Z"
   },
   {
    "duration": 146,
    "start_time": "2023-06-02T07:54:27.697Z"
   },
   {
    "duration": 143,
    "start_time": "2023-06-02T07:54:27.845Z"
   },
   {
    "duration": 153,
    "start_time": "2023-06-02T07:54:27.990Z"
   },
   {
    "duration": 17,
    "start_time": "2023-06-02T07:54:28.145Z"
   },
   {
    "duration": 12,
    "start_time": "2023-06-02T07:54:28.164Z"
   },
   {
    "duration": 17,
    "start_time": "2023-06-02T07:54:28.178Z"
   },
   {
    "duration": 206,
    "start_time": "2023-06-02T07:54:28.197Z"
   },
   {
    "duration": 342,
    "start_time": "2023-06-02T07:54:28.405Z"
   },
   {
    "duration": 153,
    "start_time": "2023-06-02T07:54:28.749Z"
   },
   {
    "duration": 39,
    "start_time": "2023-06-02T07:54:28.903Z"
   },
   {
    "duration": 9,
    "start_time": "2023-06-02T07:54:28.944Z"
   },
   {
    "duration": 26,
    "start_time": "2023-06-02T07:54:28.955Z"
   },
   {
    "duration": 8,
    "start_time": "2023-06-02T07:54:28.983Z"
   },
   {
    "duration": 12,
    "start_time": "2023-06-02T07:54:28.993Z"
   },
   {
    "duration": 19,
    "start_time": "2023-06-02T07:54:29.006Z"
   },
   {
    "duration": 17,
    "start_time": "2023-06-02T07:54:29.027Z"
   },
   {
    "duration": 33,
    "start_time": "2023-06-02T07:54:29.046Z"
   },
   {
    "duration": 44,
    "start_time": "2023-06-02T07:54:29.081Z"
   },
   {
    "duration": 23,
    "start_time": "2023-06-02T07:54:29.127Z"
   },
   {
    "duration": 7,
    "start_time": "2023-06-02T07:54:29.151Z"
   },
   {
    "duration": 10,
    "start_time": "2023-06-02T07:54:29.160Z"
   },
   {
    "duration": 10,
    "start_time": "2023-06-02T07:54:29.172Z"
   },
   {
    "duration": 13,
    "start_time": "2023-06-02T07:55:16.559Z"
   },
   {
    "duration": 23,
    "start_time": "2023-06-02T07:55:17.768Z"
   },
   {
    "duration": 49,
    "start_time": "2023-06-02T07:55:19.420Z"
   },
   {
    "duration": 13,
    "start_time": "2023-06-02T07:55:20.287Z"
   },
   {
    "duration": 1055,
    "start_time": "2023-06-02T07:56:10.597Z"
   },
   {
    "duration": 134,
    "start_time": "2023-06-02T07:56:11.654Z"
   },
   {
    "duration": 13,
    "start_time": "2023-06-02T07:56:11.789Z"
   },
   {
    "duration": 20,
    "start_time": "2023-06-02T07:56:11.803Z"
   },
   {
    "duration": 13,
    "start_time": "2023-06-02T07:56:11.826Z"
   },
   {
    "duration": 18,
    "start_time": "2023-06-02T07:56:11.840Z"
   },
   {
    "duration": 10,
    "start_time": "2023-06-02T07:56:11.860Z"
   },
   {
    "duration": 16,
    "start_time": "2023-06-02T07:56:11.871Z"
   },
   {
    "duration": 15,
    "start_time": "2023-06-02T07:56:11.889Z"
   },
   {
    "duration": 9,
    "start_time": "2023-06-02T07:56:11.906Z"
   },
   {
    "duration": 11,
    "start_time": "2023-06-02T07:56:11.917Z"
   },
   {
    "duration": 19,
    "start_time": "2023-06-02T07:56:11.930Z"
   },
   {
    "duration": 8,
    "start_time": "2023-06-02T07:56:11.951Z"
   },
   {
    "duration": 6,
    "start_time": "2023-06-02T07:56:11.963Z"
   },
   {
    "duration": 7,
    "start_time": "2023-06-02T07:56:11.971Z"
   },
   {
    "duration": 192,
    "start_time": "2023-06-02T07:56:11.980Z"
   },
   {
    "duration": 89,
    "start_time": "2023-06-02T07:56:12.174Z"
   },
   {
    "duration": 181,
    "start_time": "2023-06-02T07:56:12.264Z"
   },
   {
    "duration": 154,
    "start_time": "2023-06-02T07:56:12.447Z"
   },
   {
    "duration": 154,
    "start_time": "2023-06-02T07:56:12.604Z"
   },
   {
    "duration": 17,
    "start_time": "2023-06-02T07:56:12.759Z"
   },
   {
    "duration": 10,
    "start_time": "2023-06-02T07:56:12.778Z"
   },
   {
    "duration": 6,
    "start_time": "2023-06-02T07:56:12.790Z"
   },
   {
    "duration": 172,
    "start_time": "2023-06-02T07:56:12.798Z"
   },
   {
    "duration": 344,
    "start_time": "2023-06-02T07:56:12.972Z"
   },
   {
    "duration": 161,
    "start_time": "2023-06-02T07:56:13.318Z"
   },
   {
    "duration": 33,
    "start_time": "2023-06-02T07:56:13.481Z"
   },
   {
    "duration": 29,
    "start_time": "2023-06-02T07:56:13.516Z"
   },
   {
    "duration": 233,
    "start_time": "2023-06-02T07:56:13.547Z"
   },
   {
    "duration": 74,
    "start_time": "2023-06-02T07:56:13.781Z"
   },
   {
    "duration": 38,
    "start_time": "2023-06-02T07:56:13.857Z"
   },
   {
    "duration": 26,
    "start_time": "2023-06-02T07:56:13.897Z"
   },
   {
    "duration": 12,
    "start_time": "2023-06-02T07:56:13.925Z"
   },
   {
    "duration": 24,
    "start_time": "2023-06-02T07:56:13.938Z"
   },
   {
    "duration": 46,
    "start_time": "2023-06-02T07:56:13.964Z"
   },
   {
    "duration": 12,
    "start_time": "2023-06-02T07:56:14.011Z"
   },
   {
    "duration": 19,
    "start_time": "2023-06-02T07:56:14.025Z"
   },
   {
    "duration": 7,
    "start_time": "2023-06-02T07:56:14.046Z"
   },
   {
    "duration": 9,
    "start_time": "2023-06-02T07:56:14.054Z"
   },
   {
    "duration": 14,
    "start_time": "2023-06-02T07:57:03.051Z"
   },
   {
    "duration": 1003,
    "start_time": "2023-06-02T08:12:05.782Z"
   },
   {
    "duration": 134,
    "start_time": "2023-06-02T08:12:06.787Z"
   },
   {
    "duration": 12,
    "start_time": "2023-06-02T08:12:06.922Z"
   },
   {
    "duration": 14,
    "start_time": "2023-06-02T08:12:06.936Z"
   },
   {
    "duration": 29,
    "start_time": "2023-06-02T08:12:06.952Z"
   },
   {
    "duration": 29,
    "start_time": "2023-06-02T08:12:06.983Z"
   },
   {
    "duration": 13,
    "start_time": "2023-06-02T08:12:07.014Z"
   },
   {
    "duration": 30,
    "start_time": "2023-06-02T08:12:07.029Z"
   },
   {
    "duration": 11,
    "start_time": "2023-06-02T08:12:07.061Z"
   },
   {
    "duration": 9,
    "start_time": "2023-06-02T08:12:07.073Z"
   },
   {
    "duration": 9,
    "start_time": "2023-06-02T08:12:07.084Z"
   },
   {
    "duration": 18,
    "start_time": "2023-06-02T08:12:07.094Z"
   },
   {
    "duration": 11,
    "start_time": "2023-06-02T08:12:07.114Z"
   },
   {
    "duration": 6,
    "start_time": "2023-06-02T08:12:07.128Z"
   },
   {
    "duration": 14,
    "start_time": "2023-06-02T08:12:07.136Z"
   },
   {
    "duration": 142,
    "start_time": "2023-06-02T08:12:07.151Z"
   },
   {
    "duration": 83,
    "start_time": "2023-06-02T08:12:07.295Z"
   },
   {
    "duration": 145,
    "start_time": "2023-06-02T08:12:07.379Z"
   },
   {
    "duration": 143,
    "start_time": "2023-06-02T08:12:07.526Z"
   },
   {
    "duration": 143,
    "start_time": "2023-06-02T08:12:07.671Z"
   },
   {
    "duration": 26,
    "start_time": "2023-06-02T08:12:07.816Z"
   },
   {
    "duration": 84,
    "start_time": "2023-06-02T08:12:07.843Z"
   },
   {
    "duration": 6,
    "start_time": "2023-06-02T08:12:07.928Z"
   },
   {
    "duration": 138,
    "start_time": "2023-06-02T08:12:07.936Z"
   },
   {
    "duration": 388,
    "start_time": "2023-06-02T08:12:08.075Z"
   },
   {
    "duration": 146,
    "start_time": "2023-06-02T08:12:08.464Z"
   },
   {
    "duration": 40,
    "start_time": "2023-06-02T08:12:08.612Z"
   },
   {
    "duration": 9,
    "start_time": "2023-06-02T08:12:08.654Z"
   },
   {
    "duration": 12,
    "start_time": "2023-06-02T08:12:08.664Z"
   },
   {
    "duration": 6,
    "start_time": "2023-06-02T08:12:08.678Z"
   },
   {
    "duration": 20,
    "start_time": "2023-06-02T08:12:08.685Z"
   },
   {
    "duration": 13,
    "start_time": "2023-06-02T08:12:08.706Z"
   },
   {
    "duration": 26,
    "start_time": "2023-06-02T08:12:08.720Z"
   },
   {
    "duration": 23,
    "start_time": "2023-06-02T08:12:08.747Z"
   },
   {
    "duration": 44,
    "start_time": "2023-06-02T08:12:08.772Z"
   },
   {
    "duration": 32,
    "start_time": "2023-06-02T08:12:08.818Z"
   },
   {
    "duration": 13,
    "start_time": "2023-06-02T08:12:08.852Z"
   },
   {
    "duration": 7,
    "start_time": "2023-06-02T08:12:08.866Z"
   },
   {
    "duration": 6,
    "start_time": "2023-06-02T08:12:08.874Z"
   },
   {
    "duration": 13,
    "start_time": "2023-06-02T08:12:08.882Z"
   },
   {
    "duration": 1205,
    "start_time": "2023-06-02T17:32:30.473Z"
   },
   {
    "duration": 150,
    "start_time": "2023-06-02T17:32:31.684Z"
   },
   {
    "duration": 21,
    "start_time": "2023-06-02T17:32:31.836Z"
   },
   {
    "duration": 37,
    "start_time": "2023-06-02T17:32:31.860Z"
   },
   {
    "duration": 20,
    "start_time": "2023-06-02T17:32:31.899Z"
   },
   {
    "duration": 49,
    "start_time": "2023-06-02T17:32:31.921Z"
   },
   {
    "duration": 14,
    "start_time": "2023-06-02T17:32:31.972Z"
   },
   {
    "duration": 36,
    "start_time": "2023-06-02T17:32:31.988Z"
   },
   {
    "duration": 29,
    "start_time": "2023-06-02T17:32:32.026Z"
   },
   {
    "duration": 36,
    "start_time": "2023-06-02T17:32:32.058Z"
   },
   {
    "duration": 60,
    "start_time": "2023-06-02T17:32:32.096Z"
   },
   {
    "duration": 33,
    "start_time": "2023-06-02T17:32:32.158Z"
   },
   {
    "duration": 23,
    "start_time": "2023-06-02T17:32:32.192Z"
   },
   {
    "duration": 15,
    "start_time": "2023-06-02T17:32:32.216Z"
   },
   {
    "duration": 32,
    "start_time": "2023-06-02T17:32:32.233Z"
   },
   {
    "duration": 154,
    "start_time": "2023-06-02T17:32:32.267Z"
   },
   {
    "duration": 92,
    "start_time": "2023-06-02T17:32:32.423Z"
   },
   {
    "duration": 172,
    "start_time": "2023-06-02T17:32:32.516Z"
   },
   {
    "duration": 159,
    "start_time": "2023-06-02T17:32:32.690Z"
   },
   {
    "duration": 145,
    "start_time": "2023-06-02T17:32:32.860Z"
   },
   {
    "duration": 17,
    "start_time": "2023-06-02T17:32:33.008Z"
   },
   {
    "duration": 29,
    "start_time": "2023-06-02T17:32:33.027Z"
   },
   {
    "duration": 7,
    "start_time": "2023-06-02T17:32:33.058Z"
   },
   {
    "duration": 169,
    "start_time": "2023-06-02T17:32:33.067Z"
   },
   {
    "duration": 347,
    "start_time": "2023-06-02T17:32:33.238Z"
   },
   {
    "duration": 155,
    "start_time": "2023-06-02T17:32:33.587Z"
   },
   {
    "duration": 39,
    "start_time": "2023-06-02T17:32:33.743Z"
   },
   {
    "duration": 9,
    "start_time": "2023-06-02T17:32:33.785Z"
   },
   {
    "duration": 13,
    "start_time": "2023-06-02T17:32:33.796Z"
   },
   {
    "duration": 12,
    "start_time": "2023-06-02T17:32:33.811Z"
   },
   {
    "duration": 28,
    "start_time": "2023-06-02T17:32:33.825Z"
   },
   {
    "duration": 19,
    "start_time": "2023-06-02T17:32:33.854Z"
   },
   {
    "duration": 24,
    "start_time": "2023-06-02T17:32:33.875Z"
   },
   {
    "duration": 27,
    "start_time": "2023-06-02T17:32:33.901Z"
   },
   {
    "duration": 56,
    "start_time": "2023-06-02T17:32:33.931Z"
   },
   {
    "duration": 13,
    "start_time": "2023-06-02T17:32:33.989Z"
   },
   {
    "duration": 18,
    "start_time": "2023-06-02T17:32:34.004Z"
   },
   {
    "duration": 21,
    "start_time": "2023-06-02T17:32:34.024Z"
   },
   {
    "duration": 6,
    "start_time": "2023-06-02T17:32:34.052Z"
   },
   {
    "duration": 21,
    "start_time": "2023-06-02T17:32:34.060Z"
   },
   {
    "duration": 11,
    "start_time": "2023-06-02T17:33:37.970Z"
   },
   {
    "duration": 14,
    "start_time": "2023-06-02T17:34:24.413Z"
   },
   {
    "duration": 17,
    "start_time": "2023-06-02T17:36:28.967Z"
   },
   {
    "duration": 105,
    "start_time": "2023-06-02T17:37:55.363Z"
   },
   {
    "duration": 12,
    "start_time": "2023-06-02T17:37:59.139Z"
   },
   {
    "duration": 9,
    "start_time": "2023-06-02T17:38:04.620Z"
   },
   {
    "duration": 1296,
    "start_time": "2023-06-02T17:55:46.796Z"
   },
   {
    "duration": 617,
    "start_time": "2023-06-02T17:55:48.094Z"
   },
   {
    "duration": 12,
    "start_time": "2023-06-02T17:55:48.713Z"
   },
   {
    "duration": 19,
    "start_time": "2023-06-02T17:55:48.727Z"
   },
   {
    "duration": 40,
    "start_time": "2023-06-02T17:55:48.748Z"
   },
   {
    "duration": 25,
    "start_time": "2023-06-02T17:55:48.790Z"
   },
   {
    "duration": 9,
    "start_time": "2023-06-02T17:55:48.818Z"
   },
   {
    "duration": 13,
    "start_time": "2023-06-02T17:55:48.830Z"
   },
   {
    "duration": 10,
    "start_time": "2023-06-02T17:55:48.846Z"
   },
   {
    "duration": 18,
    "start_time": "2023-06-02T17:55:48.859Z"
   },
   {
    "duration": 8,
    "start_time": "2023-06-02T17:55:48.880Z"
   },
   {
    "duration": 13,
    "start_time": "2023-06-02T17:55:48.890Z"
   },
   {
    "duration": 16,
    "start_time": "2023-06-02T17:55:48.905Z"
   },
   {
    "duration": 8,
    "start_time": "2023-06-02T17:55:48.923Z"
   },
   {
    "duration": 9,
    "start_time": "2023-06-02T17:55:48.933Z"
   },
   {
    "duration": 239,
    "start_time": "2023-06-02T17:55:48.957Z"
   },
   {
    "duration": 91,
    "start_time": "2023-06-02T17:55:49.198Z"
   },
   {
    "duration": 150,
    "start_time": "2023-06-02T17:55:49.290Z"
   },
   {
    "duration": 146,
    "start_time": "2023-06-02T17:55:49.442Z"
   },
   {
    "duration": 145,
    "start_time": "2023-06-02T17:55:49.590Z"
   },
   {
    "duration": 35,
    "start_time": "2023-06-02T17:55:49.737Z"
   },
   {
    "duration": 10,
    "start_time": "2023-06-02T17:55:49.774Z"
   },
   {
    "duration": 7,
    "start_time": "2023-06-02T17:55:49.785Z"
   },
   {
    "duration": 152,
    "start_time": "2023-06-02T17:55:49.793Z"
   },
   {
    "duration": 343,
    "start_time": "2023-06-02T17:55:49.947Z"
   },
   {
    "duration": 154,
    "start_time": "2023-06-02T17:55:50.292Z"
   },
   {
    "duration": 43,
    "start_time": "2023-06-02T17:55:50.448Z"
   },
   {
    "duration": 8,
    "start_time": "2023-06-02T17:55:50.495Z"
   },
   {
    "duration": 12,
    "start_time": "2023-06-02T17:55:50.505Z"
   },
   {
    "duration": 20,
    "start_time": "2023-06-02T17:55:50.518Z"
   },
   {
    "duration": 20,
    "start_time": "2023-06-02T17:55:50.539Z"
   },
   {
    "duration": 15,
    "start_time": "2023-06-02T17:55:50.561Z"
   },
   {
    "duration": 9,
    "start_time": "2023-06-02T17:55:50.577Z"
   },
   {
    "duration": 11,
    "start_time": "2023-06-02T17:55:50.588Z"
   },
   {
    "duration": 26,
    "start_time": "2023-06-02T17:55:50.601Z"
   },
   {
    "duration": 58,
    "start_time": "2023-06-02T17:55:50.628Z"
   },
   {
    "duration": 27,
    "start_time": "2023-06-02T17:55:50.688Z"
   },
   {
    "duration": 11,
    "start_time": "2023-06-02T17:55:50.717Z"
   },
   {
    "duration": 41,
    "start_time": "2023-06-02T17:55:50.730Z"
   },
   {
    "duration": 5,
    "start_time": "2023-06-02T17:55:50.773Z"
   },
   {
    "duration": 10,
    "start_time": "2023-06-02T17:55:50.780Z"
   },
   {
    "duration": 9,
    "start_time": "2023-06-02T17:55:50.791Z"
   },
   {
    "duration": 4,
    "start_time": "2023-06-02T17:58:52.325Z"
   },
   {
    "duration": 22,
    "start_time": "2023-06-02T17:59:08.472Z"
   },
   {
    "duration": 13,
    "start_time": "2023-06-02T18:02:46.999Z"
   },
   {
    "duration": 15,
    "start_time": "2023-06-02T18:02:47.538Z"
   },
   {
    "duration": 12,
    "start_time": "2023-06-02T18:03:45.610Z"
   },
   {
    "duration": 15,
    "start_time": "2023-06-02T18:03:46.314Z"
   },
   {
    "duration": 15,
    "start_time": "2023-06-02T18:03:57.955Z"
   },
   {
    "duration": 1072,
    "start_time": "2023-06-02T18:06:11.124Z"
   },
   {
    "duration": 132,
    "start_time": "2023-06-02T18:06:12.198Z"
   },
   {
    "duration": 14,
    "start_time": "2023-06-02T18:06:12.332Z"
   },
   {
    "duration": 19,
    "start_time": "2023-06-02T18:06:12.348Z"
   },
   {
    "duration": 28,
    "start_time": "2023-06-02T18:06:12.369Z"
   },
   {
    "duration": 25,
    "start_time": "2023-06-02T18:06:12.399Z"
   },
   {
    "duration": 12,
    "start_time": "2023-06-02T18:06:12.426Z"
   },
   {
    "duration": 19,
    "start_time": "2023-06-02T18:06:12.439Z"
   },
   {
    "duration": 12,
    "start_time": "2023-06-02T18:06:12.460Z"
   },
   {
    "duration": 21,
    "start_time": "2023-06-02T18:06:12.476Z"
   },
   {
    "duration": 13,
    "start_time": "2023-06-02T18:06:12.498Z"
   },
   {
    "duration": 13,
    "start_time": "2023-06-02T18:06:12.513Z"
   },
   {
    "duration": 14,
    "start_time": "2023-06-02T18:06:12.528Z"
   },
   {
    "duration": 20,
    "start_time": "2023-06-02T18:06:12.544Z"
   },
   {
    "duration": 7,
    "start_time": "2023-06-02T18:06:12.566Z"
   },
   {
    "duration": 172,
    "start_time": "2023-06-02T18:06:12.575Z"
   },
   {
    "duration": 92,
    "start_time": "2023-06-02T18:06:12.749Z"
   },
   {
    "duration": 168,
    "start_time": "2023-06-02T18:06:12.842Z"
   },
   {
    "duration": 149,
    "start_time": "2023-06-02T18:06:13.011Z"
   },
   {
    "duration": 171,
    "start_time": "2023-06-02T18:06:13.162Z"
   },
   {
    "duration": 28,
    "start_time": "2023-06-02T18:06:13.335Z"
   },
   {
    "duration": 11,
    "start_time": "2023-06-02T18:06:13.365Z"
   },
   {
    "duration": 12,
    "start_time": "2023-06-02T18:06:13.378Z"
   },
   {
    "duration": 169,
    "start_time": "2023-06-02T18:06:13.392Z"
   },
   {
    "duration": 364,
    "start_time": "2023-06-02T18:06:13.563Z"
   },
   {
    "duration": 167,
    "start_time": "2023-06-02T18:06:13.929Z"
   },
   {
    "duration": 31,
    "start_time": "2023-06-02T18:06:14.098Z"
   },
   {
    "duration": 27,
    "start_time": "2023-06-02T18:06:14.133Z"
   },
   {
    "duration": 4,
    "start_time": "2023-06-02T18:06:14.162Z"
   },
   {
    "duration": 48,
    "start_time": "2023-06-02T18:06:14.168Z"
   },
   {
    "duration": 36,
    "start_time": "2023-06-02T18:06:14.218Z"
   },
   {
    "duration": 48,
    "start_time": "2023-06-02T18:06:14.256Z"
   },
   {
    "duration": 153,
    "start_time": "2023-06-02T18:06:14.306Z"
   },
   {
    "duration": 0,
    "start_time": "2023-06-02T18:06:14.461Z"
   },
   {
    "duration": 0,
    "start_time": "2023-06-02T18:06:14.462Z"
   },
   {
    "duration": 0,
    "start_time": "2023-06-02T18:06:14.463Z"
   },
   {
    "duration": 721,
    "start_time": "2023-06-02T18:09:25.357Z"
   },
   {
    "duration": 0,
    "start_time": "2023-06-02T18:09:26.080Z"
   },
   {
    "duration": 407,
    "start_time": "2023-06-02T18:10:12.894Z"
   },
   {
    "duration": 11,
    "start_time": "2023-06-02T18:10:27.418Z"
   },
   {
    "duration": 10,
    "start_time": "2023-06-02T18:10:51.281Z"
   },
   {
    "duration": 773,
    "start_time": "2023-06-02T18:11:13.324Z"
   },
   {
    "duration": 1060,
    "start_time": "2023-06-02T18:11:40.983Z"
   },
   {
    "duration": 144,
    "start_time": "2023-06-02T18:11:42.046Z"
   },
   {
    "duration": 12,
    "start_time": "2023-06-02T18:11:42.192Z"
   },
   {
    "duration": 23,
    "start_time": "2023-06-02T18:11:42.206Z"
   },
   {
    "duration": 20,
    "start_time": "2023-06-02T18:11:42.232Z"
   },
   {
    "duration": 13,
    "start_time": "2023-06-02T18:11:42.253Z"
   },
   {
    "duration": 11,
    "start_time": "2023-06-02T18:11:42.268Z"
   },
   {
    "duration": 23,
    "start_time": "2023-06-02T18:11:42.281Z"
   },
   {
    "duration": 28,
    "start_time": "2023-06-02T18:11:42.306Z"
   },
   {
    "duration": 28,
    "start_time": "2023-06-02T18:11:42.336Z"
   },
   {
    "duration": 8,
    "start_time": "2023-06-02T18:11:42.366Z"
   },
   {
    "duration": 9,
    "start_time": "2023-06-02T18:11:42.375Z"
   },
   {
    "duration": 11,
    "start_time": "2023-06-02T18:11:42.386Z"
   },
   {
    "duration": 8,
    "start_time": "2023-06-02T18:11:42.399Z"
   },
   {
    "duration": 19,
    "start_time": "2023-06-02T18:11:42.409Z"
   },
   {
    "duration": 150,
    "start_time": "2023-06-02T18:11:42.430Z"
   },
   {
    "duration": 101,
    "start_time": "2023-06-02T18:11:42.582Z"
   },
   {
    "duration": 166,
    "start_time": "2023-06-02T18:11:42.685Z"
   },
   {
    "duration": 154,
    "start_time": "2023-06-02T18:11:42.856Z"
   },
   {
    "duration": 160,
    "start_time": "2023-06-02T18:11:43.012Z"
   },
   {
    "duration": 22,
    "start_time": "2023-06-02T18:11:43.174Z"
   },
   {
    "duration": 12,
    "start_time": "2023-06-02T18:11:43.198Z"
   },
   {
    "duration": 12,
    "start_time": "2023-06-02T18:11:43.213Z"
   },
   {
    "duration": 234,
    "start_time": "2023-06-02T18:11:43.228Z"
   },
   {
    "duration": 422,
    "start_time": "2023-06-02T18:11:43.464Z"
   },
   {
    "duration": 229,
    "start_time": "2023-06-02T18:11:43.888Z"
   },
   {
    "duration": 49,
    "start_time": "2023-06-02T18:11:44.119Z"
   },
   {
    "duration": 9,
    "start_time": "2023-06-02T18:11:44.172Z"
   },
   {
    "duration": 4,
    "start_time": "2023-06-02T18:11:44.183Z"
   },
   {
    "duration": 827,
    "start_time": "2023-06-02T18:11:44.188Z"
   },
   {
    "duration": 0,
    "start_time": "2023-06-02T18:11:45.018Z"
   },
   {
    "duration": 0,
    "start_time": "2023-06-02T18:11:45.020Z"
   },
   {
    "duration": 0,
    "start_time": "2023-06-02T18:11:45.021Z"
   },
   {
    "duration": 0,
    "start_time": "2023-06-02T18:11:45.023Z"
   },
   {
    "duration": 0,
    "start_time": "2023-06-02T18:11:45.024Z"
   },
   {
    "duration": 0,
    "start_time": "2023-06-02T18:11:45.026Z"
   },
   {
    "duration": 0,
    "start_time": "2023-06-02T18:11:45.027Z"
   },
   {
    "duration": 0,
    "start_time": "2023-06-02T18:11:45.028Z"
   },
   {
    "duration": 5,
    "start_time": "2023-06-02T18:13:12.822Z"
   },
   {
    "duration": 11,
    "start_time": "2023-06-02T18:13:13.707Z"
   },
   {
    "duration": 12,
    "start_time": "2023-06-02T18:13:56.039Z"
   },
   {
    "duration": 9,
    "start_time": "2023-06-02T18:14:02.569Z"
   },
   {
    "duration": 8,
    "start_time": "2023-06-02T18:14:16.909Z"
   },
   {
    "duration": 10,
    "start_time": "2023-06-02T18:14:34.881Z"
   },
   {
    "duration": 15,
    "start_time": "2023-06-02T18:14:42.544Z"
   },
   {
    "duration": 13,
    "start_time": "2023-06-02T18:15:22.646Z"
   },
   {
    "duration": 13,
    "start_time": "2023-06-02T18:15:34.768Z"
   },
   {
    "duration": 19,
    "start_time": "2023-06-02T18:16:28.165Z"
   },
   {
    "duration": 12,
    "start_time": "2023-06-02T18:18:04.857Z"
   },
   {
    "duration": 7,
    "start_time": "2023-06-02T18:20:16.573Z"
   },
   {
    "duration": 17,
    "start_time": "2023-06-02T18:20:20.467Z"
   },
   {
    "duration": 1110,
    "start_time": "2023-06-02T18:20:29.641Z"
   },
   {
    "duration": 140,
    "start_time": "2023-06-02T18:20:30.755Z"
   },
   {
    "duration": 13,
    "start_time": "2023-06-02T18:20:30.897Z"
   },
   {
    "duration": 41,
    "start_time": "2023-06-02T18:20:30.912Z"
   },
   {
    "duration": 50,
    "start_time": "2023-06-02T18:20:30.955Z"
   },
   {
    "duration": 37,
    "start_time": "2023-06-02T18:20:31.008Z"
   },
   {
    "duration": 44,
    "start_time": "2023-06-02T18:20:31.047Z"
   },
   {
    "duration": 67,
    "start_time": "2023-06-02T18:20:31.093Z"
   },
   {
    "duration": 39,
    "start_time": "2023-06-02T18:20:31.162Z"
   },
   {
    "duration": 61,
    "start_time": "2023-06-02T18:20:31.204Z"
   },
   {
    "duration": 70,
    "start_time": "2023-06-02T18:20:31.267Z"
   },
   {
    "duration": 32,
    "start_time": "2023-06-02T18:20:31.339Z"
   },
   {
    "duration": 41,
    "start_time": "2023-06-02T18:20:31.373Z"
   },
   {
    "duration": 49,
    "start_time": "2023-06-02T18:20:31.416Z"
   },
   {
    "duration": 37,
    "start_time": "2023-06-02T18:20:31.466Z"
   },
   {
    "duration": 180,
    "start_time": "2023-06-02T18:20:31.505Z"
   },
   {
    "duration": 94,
    "start_time": "2023-06-02T18:20:31.687Z"
   },
   {
    "duration": 162,
    "start_time": "2023-06-02T18:20:31.783Z"
   },
   {
    "duration": 164,
    "start_time": "2023-06-02T18:20:31.947Z"
   },
   {
    "duration": 156,
    "start_time": "2023-06-02T18:20:32.113Z"
   },
   {
    "duration": 19,
    "start_time": "2023-06-02T18:20:32.271Z"
   },
   {
    "duration": 115,
    "start_time": "2023-06-02T18:20:32.292Z"
   },
   {
    "duration": 0,
    "start_time": "2023-06-02T18:20:32.409Z"
   },
   {
    "duration": 0,
    "start_time": "2023-06-02T18:20:32.411Z"
   },
   {
    "duration": 0,
    "start_time": "2023-06-02T18:20:32.412Z"
   },
   {
    "duration": 0,
    "start_time": "2023-06-02T18:20:32.413Z"
   },
   {
    "duration": 0,
    "start_time": "2023-06-02T18:20:32.415Z"
   },
   {
    "duration": 0,
    "start_time": "2023-06-02T18:20:32.416Z"
   },
   {
    "duration": 0,
    "start_time": "2023-06-02T18:20:32.417Z"
   },
   {
    "duration": 0,
    "start_time": "2023-06-02T18:20:32.418Z"
   },
   {
    "duration": 0,
    "start_time": "2023-06-02T18:20:32.420Z"
   },
   {
    "duration": 0,
    "start_time": "2023-06-02T18:20:32.420Z"
   },
   {
    "duration": 0,
    "start_time": "2023-06-02T18:20:32.422Z"
   },
   {
    "duration": 0,
    "start_time": "2023-06-02T18:20:32.423Z"
   },
   {
    "duration": 0,
    "start_time": "2023-06-02T18:20:32.424Z"
   },
   {
    "duration": 0,
    "start_time": "2023-06-02T18:20:32.425Z"
   },
   {
    "duration": 0,
    "start_time": "2023-06-02T18:20:32.426Z"
   },
   {
    "duration": 0,
    "start_time": "2023-06-02T18:20:32.427Z"
   },
   {
    "duration": 0,
    "start_time": "2023-06-02T18:20:32.428Z"
   },
   {
    "duration": 0,
    "start_time": "2023-06-02T18:20:32.429Z"
   },
   {
    "duration": 0,
    "start_time": "2023-06-02T18:20:32.429Z"
   },
   {
    "duration": 0,
    "start_time": "2023-06-02T18:20:32.429Z"
   },
   {
    "duration": 0,
    "start_time": "2023-06-02T18:20:32.430Z"
   },
   {
    "duration": 0,
    "start_time": "2023-06-02T18:20:32.430Z"
   },
   {
    "duration": 0,
    "start_time": "2023-06-02T18:20:32.431Z"
   },
   {
    "duration": 0,
    "start_time": "2023-06-02T18:20:32.456Z"
   },
   {
    "duration": 0,
    "start_time": "2023-06-02T18:20:32.457Z"
   },
   {
    "duration": 0,
    "start_time": "2023-06-02T18:20:32.458Z"
   },
   {
    "duration": 0,
    "start_time": "2023-06-02T18:20:32.460Z"
   },
   {
    "duration": 0,
    "start_time": "2023-06-02T18:20:32.461Z"
   },
   {
    "duration": 10,
    "start_time": "2023-06-02T18:20:45.525Z"
   },
   {
    "duration": 1049,
    "start_time": "2023-06-02T18:20:56.275Z"
   },
   {
    "duration": 145,
    "start_time": "2023-06-02T18:20:57.326Z"
   },
   {
    "duration": 13,
    "start_time": "2023-06-02T18:20:57.473Z"
   },
   {
    "duration": 20,
    "start_time": "2023-06-02T18:20:57.489Z"
   },
   {
    "duration": 13,
    "start_time": "2023-06-02T18:20:57.512Z"
   },
   {
    "duration": 22,
    "start_time": "2023-06-02T18:20:57.527Z"
   },
   {
    "duration": 12,
    "start_time": "2023-06-02T18:20:57.552Z"
   },
   {
    "duration": 24,
    "start_time": "2023-06-02T18:20:57.566Z"
   },
   {
    "duration": 16,
    "start_time": "2023-06-02T18:20:57.592Z"
   },
   {
    "duration": 16,
    "start_time": "2023-06-02T18:20:57.612Z"
   },
   {
    "duration": 8,
    "start_time": "2023-06-02T18:20:57.630Z"
   },
   {
    "duration": 18,
    "start_time": "2023-06-02T18:20:57.641Z"
   },
   {
    "duration": 8,
    "start_time": "2023-06-02T18:20:57.661Z"
   },
   {
    "duration": 20,
    "start_time": "2023-06-02T18:20:57.671Z"
   },
   {
    "duration": 12,
    "start_time": "2023-06-02T18:20:57.693Z"
   },
   {
    "duration": 171,
    "start_time": "2023-06-02T18:20:57.707Z"
   },
   {
    "duration": 106,
    "start_time": "2023-06-02T18:20:57.880Z"
   },
   {
    "duration": 171,
    "start_time": "2023-06-02T18:20:57.988Z"
   },
   {
    "duration": 166,
    "start_time": "2023-06-02T18:20:58.161Z"
   },
   {
    "duration": 167,
    "start_time": "2023-06-02T18:20:58.329Z"
   },
   {
    "duration": 17,
    "start_time": "2023-06-02T18:20:58.497Z"
   },
   {
    "duration": 110,
    "start_time": "2023-06-02T18:20:58.516Z"
   },
   {
    "duration": 0,
    "start_time": "2023-06-02T18:20:58.628Z"
   },
   {
    "duration": 0,
    "start_time": "2023-06-02T18:20:58.629Z"
   },
   {
    "duration": 0,
    "start_time": "2023-06-02T18:20:58.630Z"
   },
   {
    "duration": 0,
    "start_time": "2023-06-02T18:20:58.632Z"
   },
   {
    "duration": 0,
    "start_time": "2023-06-02T18:20:58.633Z"
   },
   {
    "duration": 0,
    "start_time": "2023-06-02T18:20:58.634Z"
   },
   {
    "duration": 0,
    "start_time": "2023-06-02T18:20:58.635Z"
   },
   {
    "duration": 0,
    "start_time": "2023-06-02T18:20:58.636Z"
   },
   {
    "duration": 0,
    "start_time": "2023-06-02T18:20:58.656Z"
   },
   {
    "duration": 0,
    "start_time": "2023-06-02T18:20:58.658Z"
   },
   {
    "duration": 0,
    "start_time": "2023-06-02T18:20:58.659Z"
   },
   {
    "duration": 0,
    "start_time": "2023-06-02T18:20:58.660Z"
   },
   {
    "duration": 0,
    "start_time": "2023-06-02T18:20:58.660Z"
   },
   {
    "duration": 0,
    "start_time": "2023-06-02T18:20:58.662Z"
   },
   {
    "duration": 0,
    "start_time": "2023-06-02T18:20:58.662Z"
   },
   {
    "duration": 0,
    "start_time": "2023-06-02T18:20:58.664Z"
   },
   {
    "duration": 0,
    "start_time": "2023-06-02T18:20:58.665Z"
   },
   {
    "duration": 0,
    "start_time": "2023-06-02T18:20:58.666Z"
   },
   {
    "duration": 0,
    "start_time": "2023-06-02T18:20:58.667Z"
   },
   {
    "duration": 0,
    "start_time": "2023-06-02T18:20:58.669Z"
   },
   {
    "duration": 0,
    "start_time": "2023-06-02T18:20:58.670Z"
   },
   {
    "duration": 0,
    "start_time": "2023-06-02T18:20:58.671Z"
   },
   {
    "duration": 0,
    "start_time": "2023-06-02T18:20:58.673Z"
   },
   {
    "duration": 0,
    "start_time": "2023-06-02T18:20:58.674Z"
   },
   {
    "duration": 0,
    "start_time": "2023-06-02T18:20:58.675Z"
   },
   {
    "duration": 0,
    "start_time": "2023-06-02T18:20:58.677Z"
   },
   {
    "duration": 0,
    "start_time": "2023-06-02T18:20:58.678Z"
   },
   {
    "duration": 0,
    "start_time": "2023-06-02T18:20:58.679Z"
   },
   {
    "duration": 19,
    "start_time": "2023-06-02T18:22:20.522Z"
   },
   {
    "duration": 20,
    "start_time": "2023-06-02T18:22:31.260Z"
   },
   {
    "duration": 21,
    "start_time": "2023-06-02T18:22:39.917Z"
   },
   {
    "duration": 13,
    "start_time": "2023-06-02T18:22:57.001Z"
   },
   {
    "duration": 9,
    "start_time": "2023-06-02T18:22:58.298Z"
   },
   {
    "duration": 143,
    "start_time": "2023-06-02T18:23:16.144Z"
   },
   {
    "duration": 343,
    "start_time": "2023-06-02T18:23:17.685Z"
   },
   {
    "duration": 154,
    "start_time": "2023-06-02T18:23:20.006Z"
   },
   {
    "duration": 42,
    "start_time": "2023-06-02T18:23:28.406Z"
   },
   {
    "duration": 29,
    "start_time": "2023-06-02T18:23:34.301Z"
   },
   {
    "duration": 12,
    "start_time": "2023-06-02T18:23:34.709Z"
   },
   {
    "duration": 14,
    "start_time": "2023-06-02T18:24:38.519Z"
   },
   {
    "duration": 13,
    "start_time": "2023-06-02T18:24:39.772Z"
   },
   {
    "duration": 8,
    "start_time": "2023-06-02T18:24:41.083Z"
   },
   {
    "duration": 17,
    "start_time": "2023-06-02T18:24:42.160Z"
   },
   {
    "duration": 12,
    "start_time": "2023-06-02T18:25:47.018Z"
   },
   {
    "duration": 13,
    "start_time": "2023-06-02T18:27:09.500Z"
   },
   {
    "duration": 10,
    "start_time": "2023-06-02T18:27:49.074Z"
   },
   {
    "duration": 1077,
    "start_time": "2023-06-02T18:28:31.219Z"
   },
   {
    "duration": 150,
    "start_time": "2023-06-02T18:28:32.298Z"
   },
   {
    "duration": 13,
    "start_time": "2023-06-02T18:28:32.450Z"
   },
   {
    "duration": 12,
    "start_time": "2023-06-02T18:28:32.465Z"
   },
   {
    "duration": 10,
    "start_time": "2023-06-02T18:28:32.480Z"
   },
   {
    "duration": 21,
    "start_time": "2023-06-02T18:28:32.492Z"
   },
   {
    "duration": 7,
    "start_time": "2023-06-02T18:28:32.515Z"
   },
   {
    "duration": 34,
    "start_time": "2023-06-02T18:28:32.523Z"
   },
   {
    "duration": 20,
    "start_time": "2023-06-02T18:28:32.559Z"
   },
   {
    "duration": 7,
    "start_time": "2023-06-02T18:28:32.582Z"
   },
   {
    "duration": 7,
    "start_time": "2023-06-02T18:28:32.591Z"
   },
   {
    "duration": 27,
    "start_time": "2023-06-02T18:28:32.599Z"
   },
   {
    "duration": 16,
    "start_time": "2023-06-02T18:28:32.628Z"
   },
   {
    "duration": 7,
    "start_time": "2023-06-02T18:28:32.645Z"
   },
   {
    "duration": 24,
    "start_time": "2023-06-02T18:28:32.654Z"
   },
   {
    "duration": 8,
    "start_time": "2023-06-02T18:28:32.680Z"
   },
   {
    "duration": 13,
    "start_time": "2023-06-02T18:28:32.690Z"
   },
   {
    "duration": 142,
    "start_time": "2023-06-02T18:28:32.704Z"
   },
   {
    "duration": 89,
    "start_time": "2023-06-02T18:28:32.848Z"
   },
   {
    "duration": 156,
    "start_time": "2023-06-02T18:28:32.939Z"
   },
   {
    "duration": 151,
    "start_time": "2023-06-02T18:28:33.097Z"
   },
   {
    "duration": 161,
    "start_time": "2023-06-02T18:28:33.260Z"
   },
   {
    "duration": 18,
    "start_time": "2023-06-02T18:28:33.423Z"
   },
   {
    "duration": 28,
    "start_time": "2023-06-02T18:28:33.442Z"
   },
   {
    "duration": 10,
    "start_time": "2023-06-02T18:28:33.472Z"
   },
   {
    "duration": 6,
    "start_time": "2023-06-02T18:28:33.483Z"
   },
   {
    "duration": 168,
    "start_time": "2023-06-02T18:28:33.490Z"
   },
   {
    "duration": 340,
    "start_time": "2023-06-02T18:28:33.662Z"
   },
   {
    "duration": 152,
    "start_time": "2023-06-02T18:28:34.004Z"
   },
   {
    "duration": 29,
    "start_time": "2023-06-02T18:28:34.158Z"
   },
   {
    "duration": 11,
    "start_time": "2023-06-02T18:28:34.189Z"
   },
   {
    "duration": 11,
    "start_time": "2023-06-02T18:28:34.202Z"
   },
   {
    "duration": 43,
    "start_time": "2023-06-02T18:28:34.215Z"
   },
   {
    "duration": 23,
    "start_time": "2023-06-02T18:28:34.260Z"
   },
   {
    "duration": 16,
    "start_time": "2023-06-02T18:28:34.285Z"
   },
   {
    "duration": 10,
    "start_time": "2023-06-02T18:28:34.303Z"
   },
   {
    "duration": 23,
    "start_time": "2023-06-02T18:28:34.315Z"
   },
   {
    "duration": 16,
    "start_time": "2023-06-02T18:28:34.340Z"
   },
   {
    "duration": 36,
    "start_time": "2023-06-02T18:28:34.358Z"
   },
   {
    "duration": 104,
    "start_time": "2023-06-02T18:28:34.396Z"
   },
   {
    "duration": 0,
    "start_time": "2023-06-02T18:28:34.502Z"
   },
   {
    "duration": 0,
    "start_time": "2023-06-02T18:28:34.503Z"
   },
   {
    "duration": 0,
    "start_time": "2023-06-02T18:28:34.504Z"
   },
   {
    "duration": 0,
    "start_time": "2023-06-02T18:28:34.505Z"
   },
   {
    "duration": 0,
    "start_time": "2023-06-02T18:28:34.506Z"
   },
   {
    "duration": 0,
    "start_time": "2023-06-02T18:28:34.507Z"
   },
   {
    "duration": 0,
    "start_time": "2023-06-02T18:28:34.509Z"
   },
   {
    "duration": 0,
    "start_time": "2023-06-02T18:28:34.509Z"
   },
   {
    "duration": 0,
    "start_time": "2023-06-02T18:28:34.510Z"
   },
   {
    "duration": 0,
    "start_time": "2023-06-02T18:28:34.512Z"
   },
   {
    "duration": 0,
    "start_time": "2023-06-02T18:28:34.513Z"
   },
   {
    "duration": 0,
    "start_time": "2023-06-02T18:28:34.514Z"
   },
   {
    "duration": 0,
    "start_time": "2023-06-02T18:28:34.515Z"
   },
   {
    "duration": 9,
    "start_time": "2023-06-02T18:30:14.122Z"
   },
   {
    "duration": 21,
    "start_time": "2023-06-02T18:30:20.755Z"
   },
   {
    "duration": 18,
    "start_time": "2023-06-02T18:35:21.375Z"
   },
   {
    "duration": 16,
    "start_time": "2023-06-02T18:35:24.198Z"
   },
   {
    "duration": 14,
    "start_time": "2023-06-02T18:35:29.511Z"
   },
   {
    "duration": 19,
    "start_time": "2023-06-02T18:36:19.307Z"
   },
   {
    "duration": 763,
    "start_time": "2023-06-02T18:41:06.669Z"
   },
   {
    "duration": 725,
    "start_time": "2023-06-02T18:41:25.841Z"
   },
   {
    "duration": 753,
    "start_time": "2023-06-02T18:41:46.164Z"
   },
   {
    "duration": 717,
    "start_time": "2023-06-02T18:42:11.756Z"
   },
   {
    "duration": 693,
    "start_time": "2023-06-02T18:43:21.009Z"
   },
   {
    "duration": 20,
    "start_time": "2023-06-02T18:43:28.851Z"
   },
   {
    "duration": 21,
    "start_time": "2023-06-02T18:43:29.539Z"
   },
   {
    "duration": 823,
    "start_time": "2023-06-02T18:43:30.156Z"
   },
   {
    "duration": 666,
    "start_time": "2023-06-02T18:43:52.344Z"
   },
   {
    "duration": 735,
    "start_time": "2023-06-02T18:44:31.063Z"
   },
   {
    "duration": 707,
    "start_time": "2023-06-02T18:44:40.373Z"
   },
   {
    "duration": 15,
    "start_time": "2023-06-02T18:44:54.399Z"
   },
   {
    "duration": 15,
    "start_time": "2023-06-02T18:45:06.753Z"
   },
   {
    "duration": 741,
    "start_time": "2023-06-02T18:46:15.905Z"
   },
   {
    "duration": 10,
    "start_time": "2023-06-02T18:46:56.419Z"
   },
   {
    "duration": 4,
    "start_time": "2023-06-02T18:49:41.577Z"
   },
   {
    "duration": 4,
    "start_time": "2023-06-02T18:49:46.018Z"
   },
   {
    "duration": 4,
    "start_time": "2023-06-02T18:49:46.936Z"
   },
   {
    "duration": 11,
    "start_time": "2023-06-02T18:50:24.898Z"
   },
   {
    "duration": 10,
    "start_time": "2023-06-02T18:52:21.020Z"
   },
   {
    "duration": 5,
    "start_time": "2023-06-02T18:52:26.699Z"
   },
   {
    "duration": 14,
    "start_time": "2023-06-02T18:52:28.911Z"
   },
   {
    "duration": 4,
    "start_time": "2023-06-02T18:53:30.815Z"
   },
   {
    "duration": 5,
    "start_time": "2023-06-02T18:53:48.245Z"
   },
   {
    "duration": 1048,
    "start_time": "2023-06-02T18:54:05.544Z"
   },
   {
    "duration": 141,
    "start_time": "2023-06-02T18:54:06.594Z"
   },
   {
    "duration": 12,
    "start_time": "2023-06-02T18:54:06.737Z"
   },
   {
    "duration": 11,
    "start_time": "2023-06-02T18:54:06.751Z"
   },
   {
    "duration": 9,
    "start_time": "2023-06-02T18:54:06.765Z"
   },
   {
    "duration": 12,
    "start_time": "2023-06-02T18:54:06.775Z"
   },
   {
    "duration": 7,
    "start_time": "2023-06-02T18:54:06.788Z"
   },
   {
    "duration": 23,
    "start_time": "2023-06-02T18:54:06.796Z"
   },
   {
    "duration": 19,
    "start_time": "2023-06-02T18:54:06.820Z"
   },
   {
    "duration": 18,
    "start_time": "2023-06-02T18:54:06.840Z"
   },
   {
    "duration": 8,
    "start_time": "2023-06-02T18:54:06.860Z"
   },
   {
    "duration": 11,
    "start_time": "2023-06-02T18:54:06.869Z"
   },
   {
    "duration": 6,
    "start_time": "2023-06-02T18:54:06.882Z"
   },
   {
    "duration": 7,
    "start_time": "2023-06-02T18:54:06.890Z"
   },
   {
    "duration": 13,
    "start_time": "2023-06-02T18:54:06.899Z"
   },
   {
    "duration": 6,
    "start_time": "2023-06-02T18:54:06.914Z"
   },
   {
    "duration": 42,
    "start_time": "2023-06-02T18:54:06.921Z"
   },
   {
    "duration": 154,
    "start_time": "2023-06-02T18:54:06.965Z"
   },
   {
    "duration": 86,
    "start_time": "2023-06-02T18:54:07.121Z"
   },
   {
    "duration": 146,
    "start_time": "2023-06-02T18:54:07.210Z"
   },
   {
    "duration": 157,
    "start_time": "2023-06-02T18:54:07.359Z"
   },
   {
    "duration": 146,
    "start_time": "2023-06-02T18:54:07.518Z"
   },
   {
    "duration": 17,
    "start_time": "2023-06-02T18:54:07.665Z"
   },
   {
    "duration": 19,
    "start_time": "2023-06-02T18:54:07.683Z"
   },
   {
    "duration": 10,
    "start_time": "2023-06-02T18:54:07.705Z"
   },
   {
    "duration": 22,
    "start_time": "2023-06-02T18:54:07.717Z"
   },
   {
    "duration": 151,
    "start_time": "2023-06-02T18:54:07.757Z"
   },
   {
    "duration": 311,
    "start_time": "2023-06-02T18:54:07.910Z"
   },
   {
    "duration": 139,
    "start_time": "2023-06-02T18:54:08.222Z"
   },
   {
    "duration": 34,
    "start_time": "2023-06-02T18:54:08.363Z"
   },
   {
    "duration": 18,
    "start_time": "2023-06-02T18:54:08.399Z"
   },
   {
    "duration": 41,
    "start_time": "2023-06-02T18:54:08.418Z"
   },
   {
    "duration": 10,
    "start_time": "2023-06-02T18:54:08.461Z"
   },
   {
    "duration": 17,
    "start_time": "2023-06-02T18:54:08.473Z"
   },
   {
    "duration": 21,
    "start_time": "2023-06-02T18:54:08.491Z"
   },
   {
    "duration": 13,
    "start_time": "2023-06-02T18:54:08.513Z"
   },
   {
    "duration": 29,
    "start_time": "2023-06-02T18:54:08.528Z"
   },
   {
    "duration": 14,
    "start_time": "2023-06-02T18:54:08.558Z"
   },
   {
    "duration": 3,
    "start_time": "2023-06-02T18:54:08.574Z"
   },
   {
    "duration": 6,
    "start_time": "2023-06-02T18:54:08.579Z"
   },
   {
    "duration": 4,
    "start_time": "2023-06-02T18:54:08.588Z"
   },
   {
    "duration": 5,
    "start_time": "2023-06-02T18:54:08.594Z"
   },
   {
    "duration": 17,
    "start_time": "2023-06-02T18:54:08.600Z"
   },
   {
    "duration": 125,
    "start_time": "2023-06-02T18:54:08.619Z"
   },
   {
    "duration": 0,
    "start_time": "2023-06-02T18:54:08.746Z"
   },
   {
    "duration": 0,
    "start_time": "2023-06-02T18:54:08.747Z"
   },
   {
    "duration": 0,
    "start_time": "2023-06-02T18:54:08.748Z"
   },
   {
    "duration": 0,
    "start_time": "2023-06-02T18:54:08.757Z"
   },
   {
    "duration": 0,
    "start_time": "2023-06-02T18:54:08.758Z"
   },
   {
    "duration": 0,
    "start_time": "2023-06-02T18:54:08.759Z"
   },
   {
    "duration": 0,
    "start_time": "2023-06-02T18:54:08.760Z"
   },
   {
    "duration": 0,
    "start_time": "2023-06-02T18:54:08.762Z"
   },
   {
    "duration": 0,
    "start_time": "2023-06-02T18:54:08.763Z"
   },
   {
    "duration": 12,
    "start_time": "2023-06-02T18:55:13.783Z"
   },
   {
    "duration": 12,
    "start_time": "2023-06-02T18:55:31.767Z"
   },
   {
    "duration": 9,
    "start_time": "2023-06-02T18:56:24.218Z"
   },
   {
    "duration": 11,
    "start_time": "2023-06-02T18:56:33.569Z"
   },
   {
    "duration": 11,
    "start_time": "2023-06-02T18:56:38.386Z"
   },
   {
    "duration": 4,
    "start_time": "2023-06-02T18:56:59.721Z"
   },
   {
    "duration": 5,
    "start_time": "2023-06-02T18:57:04.458Z"
   },
   {
    "duration": 11,
    "start_time": "2023-06-02T18:57:04.890Z"
   },
   {
    "duration": 7,
    "start_time": "2023-06-02T18:58:45.982Z"
   },
   {
    "duration": 8,
    "start_time": "2023-06-02T18:58:46.977Z"
   },
   {
    "duration": 3,
    "start_time": "2023-06-02T18:59:10.312Z"
   },
   {
    "duration": 5,
    "start_time": "2023-06-02T18:59:12.019Z"
   },
   {
    "duration": 22,
    "start_time": "2023-06-02T19:01:38.862Z"
   },
   {
    "duration": 4,
    "start_time": "2023-06-02T19:02:14.508Z"
   },
   {
    "duration": 17,
    "start_time": "2023-06-02T19:02:16.538Z"
   },
   {
    "duration": 34,
    "start_time": "2023-06-02T19:02:43.658Z"
   },
   {
    "duration": 16,
    "start_time": "2023-06-02T19:03:04.184Z"
   },
   {
    "duration": 19,
    "start_time": "2023-06-02T19:04:11.240Z"
   },
   {
    "duration": 5,
    "start_time": "2023-06-02T19:04:39.660Z"
   },
   {
    "duration": 20,
    "start_time": "2023-06-02T19:04:40.694Z"
   },
   {
    "duration": 14,
    "start_time": "2023-06-02T19:04:45.637Z"
   },
   {
    "duration": 8,
    "start_time": "2023-06-02T19:05:10.337Z"
   },
   {
    "duration": 16,
    "start_time": "2023-06-02T19:05:12.602Z"
   },
   {
    "duration": 8,
    "start_time": "2023-06-02T19:06:29.760Z"
   },
   {
    "duration": 6,
    "start_time": "2023-06-02T19:06:30.289Z"
   },
   {
    "duration": 148,
    "start_time": "2023-06-02T19:06:35.298Z"
   },
   {
    "duration": 428,
    "start_time": "2023-06-02T19:06:37.182Z"
   },
   {
    "duration": 136,
    "start_time": "2023-06-02T19:06:39.038Z"
   },
   {
    "duration": 29,
    "start_time": "2023-06-02T19:07:07.875Z"
   },
   {
    "duration": 30,
    "start_time": "2023-06-02T19:08:15.623Z"
   },
   {
    "duration": 5,
    "start_time": "2023-06-02T19:08:16.646Z"
   },
   {
    "duration": 10,
    "start_time": "2023-06-02T19:08:17.588Z"
   },
   {
    "duration": 5,
    "start_time": "2023-06-02T19:08:18.579Z"
   },
   {
    "duration": 13,
    "start_time": "2023-06-02T19:08:19.980Z"
   },
   {
    "duration": 20,
    "start_time": "2023-06-02T19:14:49.338Z"
   },
   {
    "duration": 19,
    "start_time": "2023-06-02T19:14:58.449Z"
   },
   {
    "duration": 4,
    "start_time": "2023-06-02T19:15:15.147Z"
   },
   {
    "duration": 7,
    "start_time": "2023-06-02T19:15:15.671Z"
   },
   {
    "duration": 4,
    "start_time": "2023-06-02T19:15:16.107Z"
   },
   {
    "duration": 23,
    "start_time": "2023-06-02T19:15:16.571Z"
   },
   {
    "duration": 17,
    "start_time": "2023-06-02T19:15:18.330Z"
   },
   {
    "duration": 279,
    "start_time": "2023-06-02T19:16:30.512Z"
   },
   {
    "duration": 18,
    "start_time": "2023-06-02T19:16:32.072Z"
   },
   {
    "duration": 6295,
    "start_time": "2023-06-02T19:16:45.408Z"
   },
   {
    "duration": 21,
    "start_time": "2023-06-02T19:16:51.705Z"
   },
   {
    "duration": 1086,
    "start_time": "2023-06-02T19:17:11.340Z"
   },
   {
    "duration": 158,
    "start_time": "2023-06-02T19:17:12.428Z"
   },
   {
    "duration": 13,
    "start_time": "2023-06-02T19:17:12.588Z"
   },
   {
    "duration": 20,
    "start_time": "2023-06-02T19:17:12.602Z"
   },
   {
    "duration": 12,
    "start_time": "2023-06-02T19:17:12.625Z"
   },
   {
    "duration": 34,
    "start_time": "2023-06-02T19:17:12.639Z"
   },
   {
    "duration": 23,
    "start_time": "2023-06-02T19:17:12.675Z"
   },
   {
    "duration": 17,
    "start_time": "2023-06-02T19:17:12.700Z"
   },
   {
    "duration": 31,
    "start_time": "2023-06-02T19:17:12.718Z"
   },
   {
    "duration": 15,
    "start_time": "2023-06-02T19:17:12.751Z"
   },
   {
    "duration": 25,
    "start_time": "2023-06-02T19:17:12.769Z"
   },
   {
    "duration": 16,
    "start_time": "2023-06-02T19:17:12.795Z"
   },
   {
    "duration": 6,
    "start_time": "2023-06-02T19:17:12.813Z"
   },
   {
    "duration": 19,
    "start_time": "2023-06-02T19:17:12.822Z"
   },
   {
    "duration": 19,
    "start_time": "2023-06-02T19:17:12.843Z"
   },
   {
    "duration": 17,
    "start_time": "2023-06-02T19:17:12.864Z"
   },
   {
    "duration": 160,
    "start_time": "2023-06-02T19:17:12.882Z"
   },
   {
    "duration": 93,
    "start_time": "2023-06-02T19:17:13.044Z"
   },
   {
    "duration": 179,
    "start_time": "2023-06-02T19:17:13.139Z"
   },
   {
    "duration": 145,
    "start_time": "2023-06-02T19:17:13.320Z"
   },
   {
    "duration": 145,
    "start_time": "2023-06-02T19:17:13.468Z"
   },
   {
    "duration": 16,
    "start_time": "2023-06-02T19:17:13.615Z"
   },
   {
    "duration": 24,
    "start_time": "2023-06-02T19:17:13.633Z"
   },
   {
    "duration": 8,
    "start_time": "2023-06-02T19:17:13.660Z"
   },
   {
    "duration": 170,
    "start_time": "2023-06-02T19:17:13.670Z"
   },
   {
    "duration": 333,
    "start_time": "2023-06-02T19:17:13.842Z"
   },
   {
    "duration": 158,
    "start_time": "2023-06-02T19:17:14.177Z"
   },
   {
    "duration": 50,
    "start_time": "2023-06-02T19:17:14.338Z"
   },
   {
    "duration": 4,
    "start_time": "2023-06-02T19:17:14.390Z"
   },
   {
    "duration": 19,
    "start_time": "2023-06-02T19:17:14.395Z"
   },
   {
    "duration": 25,
    "start_time": "2023-06-02T19:17:14.417Z"
   },
   {
    "duration": 36,
    "start_time": "2023-06-02T19:17:14.444Z"
   },
   {
    "duration": 16,
    "start_time": "2023-06-02T19:17:14.482Z"
   },
   {
    "duration": 61,
    "start_time": "2023-06-02T19:17:14.500Z"
   },
   {
    "duration": 17,
    "start_time": "2023-06-02T19:17:14.563Z"
   },
   {
    "duration": 27,
    "start_time": "2023-06-02T19:17:14.582Z"
   },
   {
    "duration": 77,
    "start_time": "2023-06-02T19:17:14.611Z"
   },
   {
    "duration": 113,
    "start_time": "2023-06-02T19:17:14.689Z"
   },
   {
    "duration": 0,
    "start_time": "2023-06-02T19:17:14.804Z"
   },
   {
    "duration": 0,
    "start_time": "2023-06-02T19:17:14.805Z"
   },
   {
    "duration": 0,
    "start_time": "2023-06-02T19:17:14.807Z"
   },
   {
    "duration": 392,
    "start_time": "2023-06-02T19:17:37.837Z"
   },
   {
    "duration": 31,
    "start_time": "2023-06-02T19:17:38.240Z"
   },
   {
    "duration": 52,
    "start_time": "2023-06-02T19:18:01.737Z"
   },
   {
    "duration": 8,
    "start_time": "2023-06-02T19:18:05.595Z"
   },
   {
    "duration": 1013,
    "start_time": "2023-06-02T19:18:10.987Z"
   },
   {
    "duration": 404,
    "start_time": "2023-06-02T19:18:12.001Z"
   },
   {
    "duration": 12,
    "start_time": "2023-06-02T19:18:12.407Z"
   },
   {
    "duration": 12,
    "start_time": "2023-06-02T19:18:12.421Z"
   },
   {
    "duration": 11,
    "start_time": "2023-06-02T19:18:12.435Z"
   },
   {
    "duration": 12,
    "start_time": "2023-06-02T19:18:12.448Z"
   },
   {
    "duration": 6,
    "start_time": "2023-06-02T19:18:12.462Z"
   },
   {
    "duration": 13,
    "start_time": "2023-06-02T19:18:12.470Z"
   },
   {
    "duration": 32,
    "start_time": "2023-06-02T19:18:12.485Z"
   },
   {
    "duration": 12,
    "start_time": "2023-06-02T19:18:12.520Z"
   },
   {
    "duration": 14,
    "start_time": "2023-06-02T19:18:12.534Z"
   },
   {
    "duration": 8,
    "start_time": "2023-06-02T19:18:12.550Z"
   },
   {
    "duration": 7,
    "start_time": "2023-06-02T19:18:12.560Z"
   },
   {
    "duration": 14,
    "start_time": "2023-06-02T19:18:12.569Z"
   },
   {
    "duration": 6,
    "start_time": "2023-06-02T19:18:12.585Z"
   },
   {
    "duration": 17,
    "start_time": "2023-06-02T19:18:12.593Z"
   },
   {
    "duration": 172,
    "start_time": "2023-06-02T19:18:12.612Z"
   },
   {
    "duration": 81,
    "start_time": "2023-06-02T19:18:12.785Z"
   },
   {
    "duration": 146,
    "start_time": "2023-06-02T19:18:12.868Z"
   },
   {
    "duration": 145,
    "start_time": "2023-06-02T19:18:13.016Z"
   },
   {
    "duration": 146,
    "start_time": "2023-06-02T19:18:13.162Z"
   },
   {
    "duration": 16,
    "start_time": "2023-06-02T19:18:13.310Z"
   },
   {
    "duration": 17,
    "start_time": "2023-06-02T19:18:13.327Z"
   },
   {
    "duration": 14,
    "start_time": "2023-06-02T19:18:13.346Z"
   },
   {
    "duration": 151,
    "start_time": "2023-06-02T19:18:13.361Z"
   },
   {
    "duration": 333,
    "start_time": "2023-06-02T19:18:13.514Z"
   },
   {
    "duration": 159,
    "start_time": "2023-06-02T19:18:13.849Z"
   },
   {
    "duration": 30,
    "start_time": "2023-06-02T19:18:14.012Z"
   },
   {
    "duration": 15,
    "start_time": "2023-06-02T19:18:14.043Z"
   },
   {
    "duration": 21,
    "start_time": "2023-06-02T19:18:14.060Z"
   },
   {
    "duration": 4,
    "start_time": "2023-06-02T19:18:14.083Z"
   },
   {
    "duration": 38,
    "start_time": "2023-06-02T19:18:14.089Z"
   },
   {
    "duration": 16,
    "start_time": "2023-06-02T19:18:14.129Z"
   },
   {
    "duration": 45,
    "start_time": "2023-06-02T19:18:14.147Z"
   },
   {
    "duration": 18,
    "start_time": "2023-06-02T19:18:14.195Z"
   },
   {
    "duration": 25,
    "start_time": "2023-06-02T19:18:14.215Z"
   },
   {
    "duration": 54,
    "start_time": "2023-06-02T19:18:14.242Z"
   },
   {
    "duration": 116,
    "start_time": "2023-06-02T19:18:14.298Z"
   },
   {
    "duration": 1,
    "start_time": "2023-06-02T19:18:14.415Z"
   },
   {
    "duration": 0,
    "start_time": "2023-06-02T19:18:14.417Z"
   },
   {
    "duration": 0,
    "start_time": "2023-06-02T19:18:14.418Z"
   },
   {
    "duration": 88,
    "start_time": "2023-06-02T19:20:26.703Z"
   },
   {
    "duration": 10,
    "start_time": "2023-06-02T19:22:38.473Z"
   },
   {
    "duration": 11,
    "start_time": "2023-06-02T19:22:49.518Z"
   },
   {
    "duration": 9,
    "start_time": "2023-06-02T19:23:04.835Z"
   },
   {
    "duration": 13,
    "start_time": "2023-06-02T19:23:13.202Z"
   },
   {
    "duration": 54,
    "start_time": "2023-06-02T19:30:49.658Z"
   },
   {
    "duration": 353,
    "start_time": "2023-06-02T19:30:55.164Z"
   },
   {
    "duration": 350,
    "start_time": "2023-06-02T19:31:17.689Z"
   },
   {
    "duration": 15,
    "start_time": "2023-06-02T19:31:22.172Z"
   },
   {
    "duration": 22,
    "start_time": "2023-06-02T19:32:10.079Z"
   },
   {
    "duration": 15,
    "start_time": "2023-06-02T19:32:10.821Z"
   },
   {
    "duration": 4,
    "start_time": "2023-06-02T19:32:40.744Z"
   },
   {
    "duration": 21,
    "start_time": "2023-06-02T19:32:42.281Z"
   },
   {
    "duration": 17,
    "start_time": "2023-06-02T19:32:42.868Z"
   },
   {
    "duration": 21,
    "start_time": "2023-06-02T19:32:57.116Z"
   },
   {
    "duration": 18,
    "start_time": "2023-06-02T19:32:57.707Z"
   },
   {
    "duration": 1026,
    "start_time": "2023-06-02T19:33:13.298Z"
   },
   {
    "duration": 143,
    "start_time": "2023-06-02T19:33:14.326Z"
   },
   {
    "duration": 14,
    "start_time": "2023-06-02T19:33:14.471Z"
   },
   {
    "duration": 19,
    "start_time": "2023-06-02T19:33:14.487Z"
   },
   {
    "duration": 11,
    "start_time": "2023-06-02T19:33:14.508Z"
   },
   {
    "duration": 14,
    "start_time": "2023-06-02T19:33:14.521Z"
   },
   {
    "duration": 7,
    "start_time": "2023-06-02T19:33:14.537Z"
   },
   {
    "duration": 24,
    "start_time": "2023-06-02T19:33:14.545Z"
   },
   {
    "duration": 8,
    "start_time": "2023-06-02T19:33:14.570Z"
   },
   {
    "duration": 6,
    "start_time": "2023-06-02T19:33:14.581Z"
   },
   {
    "duration": 12,
    "start_time": "2023-06-02T19:33:14.588Z"
   },
   {
    "duration": 8,
    "start_time": "2023-06-02T19:33:14.602Z"
   },
   {
    "duration": 6,
    "start_time": "2023-06-02T19:33:14.612Z"
   },
   {
    "duration": 6,
    "start_time": "2023-06-02T19:33:14.619Z"
   },
   {
    "duration": 34,
    "start_time": "2023-06-02T19:33:14.627Z"
   },
   {
    "duration": 9,
    "start_time": "2023-06-02T19:33:14.662Z"
   },
   {
    "duration": 159,
    "start_time": "2023-06-02T19:33:14.672Z"
   },
   {
    "duration": 85,
    "start_time": "2023-06-02T19:33:14.833Z"
   },
   {
    "duration": 149,
    "start_time": "2023-06-02T19:33:14.920Z"
   },
   {
    "duration": 142,
    "start_time": "2023-06-02T19:33:15.071Z"
   },
   {
    "duration": 143,
    "start_time": "2023-06-02T19:33:15.215Z"
   },
   {
    "duration": 17,
    "start_time": "2023-06-02T19:33:15.360Z"
   },
   {
    "duration": 24,
    "start_time": "2023-06-02T19:33:15.379Z"
   },
   {
    "duration": 37,
    "start_time": "2023-06-02T19:33:15.405Z"
   },
   {
    "duration": 163,
    "start_time": "2023-06-02T19:33:15.443Z"
   },
   {
    "duration": 331,
    "start_time": "2023-06-02T19:33:15.609Z"
   },
   {
    "duration": 149,
    "start_time": "2023-06-02T19:33:15.942Z"
   },
   {
    "duration": 30,
    "start_time": "2023-06-02T19:33:16.094Z"
   },
   {
    "duration": 4,
    "start_time": "2023-06-02T19:33:16.125Z"
   },
   {
    "duration": 53,
    "start_time": "2023-06-02T19:33:16.131Z"
   },
   {
    "duration": 19,
    "start_time": "2023-06-02T19:33:16.186Z"
   },
   {
    "duration": 11,
    "start_time": "2023-06-02T19:33:16.207Z"
   },
   {
    "duration": 20,
    "start_time": "2023-06-02T19:33:16.219Z"
   },
   {
    "duration": 27,
    "start_time": "2023-06-02T19:33:16.257Z"
   },
   {
    "duration": 19,
    "start_time": "2023-06-02T19:33:16.286Z"
   },
   {
    "duration": 22,
    "start_time": "2023-06-02T19:33:16.307Z"
   },
   {
    "duration": 67,
    "start_time": "2023-06-02T19:33:16.331Z"
   },
   {
    "duration": 109,
    "start_time": "2023-06-02T19:33:16.399Z"
   },
   {
    "duration": 0,
    "start_time": "2023-06-02T19:33:16.510Z"
   },
   {
    "duration": 0,
    "start_time": "2023-06-02T19:33:16.511Z"
   },
   {
    "duration": 0,
    "start_time": "2023-06-02T19:33:16.512Z"
   },
   {
    "duration": 21,
    "start_time": "2023-06-02T19:33:41.055Z"
   },
   {
    "duration": 17,
    "start_time": "2023-06-02T19:33:43.798Z"
   },
   {
    "duration": 44,
    "start_time": "2023-06-02T19:34:44.207Z"
   },
   {
    "duration": 23,
    "start_time": "2023-06-02T19:34:45.363Z"
   },
   {
    "duration": 4,
    "start_time": "2023-06-02T19:35:04.794Z"
   },
   {
    "duration": 7,
    "start_time": "2023-06-02T19:35:05.302Z"
   },
   {
    "duration": 13,
    "start_time": "2023-06-02T19:35:05.957Z"
   },
   {
    "duration": 12,
    "start_time": "2023-06-02T19:37:49.762Z"
   },
   {
    "duration": 31,
    "start_time": "2023-06-02T19:38:50.453Z"
   },
   {
    "duration": 4,
    "start_time": "2023-06-02T19:38:54.767Z"
   },
   {
    "duration": 26,
    "start_time": "2023-06-02T19:41:14.448Z"
   },
   {
    "duration": 18,
    "start_time": "2023-06-02T19:45:01.914Z"
   },
   {
    "duration": 26,
    "start_time": "2023-06-02T19:45:25.899Z"
   },
   {
    "duration": 11,
    "start_time": "2023-06-02T19:45:26.641Z"
   },
   {
    "duration": 15,
    "start_time": "2023-06-02T19:45:36.039Z"
   },
   {
    "duration": 7,
    "start_time": "2023-06-02T19:46:35.842Z"
   },
   {
    "duration": 12,
    "start_time": "2023-06-02T19:46:37.291Z"
   },
   {
    "duration": 5,
    "start_time": "2023-06-02T19:47:08.986Z"
   },
   {
    "duration": 13,
    "start_time": "2023-06-02T19:47:13.477Z"
   },
   {
    "duration": 5,
    "start_time": "2023-06-02T19:48:00.480Z"
   },
   {
    "duration": 15,
    "start_time": "2023-06-02T19:48:24.186Z"
   },
   {
    "duration": 4,
    "start_time": "2023-06-02T19:49:17.072Z"
   },
   {
    "duration": 4,
    "start_time": "2023-06-02T19:49:17.649Z"
   },
   {
    "duration": 9,
    "start_time": "2023-06-02T19:49:18.152Z"
   },
   {
    "duration": 18,
    "start_time": "2023-06-02T19:49:19.118Z"
   },
   {
    "duration": 7,
    "start_time": "2023-06-02T19:49:50.434Z"
   },
   {
    "duration": 13,
    "start_time": "2023-06-02T19:50:20.740Z"
   },
   {
    "duration": 6,
    "start_time": "2023-06-02T19:50:35.910Z"
   },
   {
    "duration": 14,
    "start_time": "2023-06-02T19:52:18.786Z"
   },
   {
    "duration": 54,
    "start_time": "2023-06-02T19:52:36.395Z"
   },
   {
    "duration": 650,
    "start_time": "2023-06-02T19:53:59.979Z"
   },
   {
    "duration": 3,
    "start_time": "2023-06-02T20:01:50.272Z"
   },
   {
    "duration": 22,
    "start_time": "2023-06-02T20:01:51.153Z"
   },
   {
    "duration": 1004,
    "start_time": "2023-06-02T20:02:35.159Z"
   },
   {
    "duration": 125,
    "start_time": "2023-06-02T20:02:36.165Z"
   },
   {
    "duration": 11,
    "start_time": "2023-06-02T20:02:36.292Z"
   },
   {
    "duration": 23,
    "start_time": "2023-06-02T20:02:36.305Z"
   },
   {
    "duration": 23,
    "start_time": "2023-06-02T20:02:36.329Z"
   },
   {
    "duration": 15,
    "start_time": "2023-06-02T20:02:36.354Z"
   },
   {
    "duration": 6,
    "start_time": "2023-06-02T20:02:36.371Z"
   },
   {
    "duration": 10,
    "start_time": "2023-06-02T20:02:36.379Z"
   },
   {
    "duration": 13,
    "start_time": "2023-06-02T20:02:36.391Z"
   },
   {
    "duration": 9,
    "start_time": "2023-06-02T20:02:36.407Z"
   },
   {
    "duration": 18,
    "start_time": "2023-06-02T20:02:36.417Z"
   },
   {
    "duration": 25,
    "start_time": "2023-06-02T20:02:36.436Z"
   },
   {
    "duration": 6,
    "start_time": "2023-06-02T20:02:36.462Z"
   },
   {
    "duration": 15,
    "start_time": "2023-06-02T20:02:36.470Z"
   },
   {
    "duration": 16,
    "start_time": "2023-06-02T20:02:36.487Z"
   },
   {
    "duration": 18,
    "start_time": "2023-06-02T20:02:36.504Z"
   },
   {
    "duration": 136,
    "start_time": "2023-06-02T20:02:36.524Z"
   },
   {
    "duration": 75,
    "start_time": "2023-06-02T20:02:36.661Z"
   },
   {
    "duration": 152,
    "start_time": "2023-06-02T20:02:36.737Z"
   },
   {
    "duration": 135,
    "start_time": "2023-06-02T20:02:36.891Z"
   },
   {
    "duration": 134,
    "start_time": "2023-06-02T20:02:37.028Z"
   },
   {
    "duration": 16,
    "start_time": "2023-06-02T20:02:37.163Z"
   },
   {
    "duration": 9,
    "start_time": "2023-06-02T20:02:37.180Z"
   },
   {
    "duration": 33,
    "start_time": "2023-06-02T20:02:37.190Z"
   },
   {
    "duration": 137,
    "start_time": "2023-06-02T20:02:37.225Z"
   },
   {
    "duration": 325,
    "start_time": "2023-06-02T20:02:37.364Z"
   },
   {
    "duration": 139,
    "start_time": "2023-06-02T20:02:37.691Z"
   },
   {
    "duration": 126,
    "start_time": "2023-06-02T20:02:37.833Z"
   },
   {
    "duration": 0,
    "start_time": "2023-06-02T20:02:37.961Z"
   },
   {
    "duration": 0,
    "start_time": "2023-06-02T20:02:37.963Z"
   },
   {
    "duration": 0,
    "start_time": "2023-06-02T20:02:37.963Z"
   },
   {
    "duration": 1,
    "start_time": "2023-06-02T20:02:37.964Z"
   },
   {
    "duration": 0,
    "start_time": "2023-06-02T20:02:37.966Z"
   },
   {
    "duration": 0,
    "start_time": "2023-06-02T20:02:37.966Z"
   },
   {
    "duration": 0,
    "start_time": "2023-06-02T20:02:37.968Z"
   },
   {
    "duration": 0,
    "start_time": "2023-06-02T20:02:37.969Z"
   },
   {
    "duration": 0,
    "start_time": "2023-06-02T20:02:37.970Z"
   },
   {
    "duration": 0,
    "start_time": "2023-06-02T20:02:37.971Z"
   },
   {
    "duration": 0,
    "start_time": "2023-06-02T20:02:37.972Z"
   },
   {
    "duration": 0,
    "start_time": "2023-06-02T20:02:37.973Z"
   },
   {
    "duration": 0,
    "start_time": "2023-06-02T20:02:37.974Z"
   },
   {
    "duration": 0,
    "start_time": "2023-06-02T20:02:37.975Z"
   },
   {
    "duration": 0,
    "start_time": "2023-06-02T20:02:37.976Z"
   },
   {
    "duration": 29,
    "start_time": "2023-06-02T20:02:56.313Z"
   },
   {
    "duration": 4,
    "start_time": "2023-06-02T20:02:57.714Z"
   },
   {
    "duration": 10,
    "start_time": "2023-06-02T20:02:58.713Z"
   },
   {
    "duration": 3,
    "start_time": "2023-06-02T20:02:59.138Z"
   },
   {
    "duration": 14,
    "start_time": "2023-06-02T20:02:59.653Z"
   },
   {
    "duration": 3,
    "start_time": "2023-06-02T20:03:05.140Z"
   },
   {
    "duration": 13,
    "start_time": "2023-06-02T20:03:05.922Z"
   },
   {
    "duration": 5,
    "start_time": "2023-06-02T20:03:18.909Z"
   },
   {
    "duration": 9,
    "start_time": "2023-06-02T20:03:23.548Z"
   },
   {
    "duration": 723,
    "start_time": "2023-06-02T20:03:25.048Z"
   },
   {
    "duration": 0,
    "start_time": "2023-06-02T20:03:25.773Z"
   },
   {
    "duration": 14,
    "start_time": "2023-06-02T20:03:32.813Z"
   },
   {
    "duration": 3,
    "start_time": "2023-06-02T20:03:37.017Z"
   },
   {
    "duration": 14,
    "start_time": "2023-06-02T20:03:37.843Z"
   },
   {
    "duration": 4,
    "start_time": "2023-06-02T20:03:53.094Z"
   },
   {
    "duration": 7,
    "start_time": "2023-06-02T20:03:54.675Z"
   },
   {
    "duration": 3,
    "start_time": "2023-06-02T20:03:55.918Z"
   },
   {
    "duration": 12,
    "start_time": "2023-06-02T20:03:56.869Z"
   },
   {
    "duration": 3,
    "start_time": "2023-06-02T20:04:12.133Z"
   },
   {
    "duration": 14,
    "start_time": "2023-06-02T20:04:12.764Z"
   },
   {
    "duration": 4,
    "start_time": "2023-06-02T20:04:31.936Z"
   },
   {
    "duration": 12,
    "start_time": "2023-06-02T20:04:32.563Z"
   },
   {
    "duration": 13,
    "start_time": "2023-06-02T20:04:47.838Z"
   },
   {
    "duration": 12,
    "start_time": "2023-06-02T20:05:42.561Z"
   },
   {
    "duration": 14,
    "start_time": "2023-06-02T20:05:43.542Z"
   },
   {
    "duration": 7,
    "start_time": "2023-06-02T20:06:07.852Z"
   },
   {
    "duration": 12,
    "start_time": "2023-06-02T20:06:08.216Z"
   },
   {
    "duration": 14,
    "start_time": "2023-06-02T20:06:09.449Z"
   },
   {
    "duration": 16,
    "start_time": "2023-06-02T20:06:20.150Z"
   },
   {
    "duration": 16,
    "start_time": "2023-06-02T20:06:21.306Z"
   },
   {
    "duration": 8,
    "start_time": "2023-06-02T20:07:49.479Z"
   },
   {
    "duration": 3,
    "start_time": "2023-06-02T20:07:49.935Z"
   },
   {
    "duration": 12,
    "start_time": "2023-06-02T20:07:50.863Z"
   },
   {
    "duration": 1022,
    "start_time": "2023-06-02T20:07:57.562Z"
   },
   {
    "duration": 128,
    "start_time": "2023-06-02T20:07:58.585Z"
   },
   {
    "duration": 11,
    "start_time": "2023-06-02T20:07:58.715Z"
   },
   {
    "duration": 14,
    "start_time": "2023-06-02T20:07:58.728Z"
   },
   {
    "duration": 18,
    "start_time": "2023-06-02T20:07:58.744Z"
   },
   {
    "duration": 14,
    "start_time": "2023-06-02T20:07:58.763Z"
   },
   {
    "duration": 6,
    "start_time": "2023-06-02T20:07:58.779Z"
   },
   {
    "duration": 15,
    "start_time": "2023-06-02T20:07:58.787Z"
   },
   {
    "duration": 12,
    "start_time": "2023-06-02T20:07:58.804Z"
   },
   {
    "duration": 6,
    "start_time": "2023-06-02T20:07:58.819Z"
   },
   {
    "duration": 32,
    "start_time": "2023-06-02T20:07:58.828Z"
   },
   {
    "duration": 8,
    "start_time": "2023-06-02T20:07:58.862Z"
   },
   {
    "duration": 8,
    "start_time": "2023-06-02T20:07:58.872Z"
   },
   {
    "duration": 12,
    "start_time": "2023-06-02T20:07:58.882Z"
   },
   {
    "duration": 8,
    "start_time": "2023-06-02T20:07:58.897Z"
   },
   {
    "duration": 16,
    "start_time": "2023-06-02T20:07:58.907Z"
   },
   {
    "duration": 175,
    "start_time": "2023-06-02T20:07:58.925Z"
   },
   {
    "duration": 85,
    "start_time": "2023-06-02T20:07:59.101Z"
   },
   {
    "duration": 149,
    "start_time": "2023-06-02T20:07:59.188Z"
   },
   {
    "duration": 138,
    "start_time": "2023-06-02T20:07:59.339Z"
   },
   {
    "duration": 152,
    "start_time": "2023-06-02T20:07:59.479Z"
   },
   {
    "duration": 25,
    "start_time": "2023-06-02T20:07:59.633Z"
   },
   {
    "duration": 9,
    "start_time": "2023-06-02T20:07:59.660Z"
   },
   {
    "duration": 7,
    "start_time": "2023-06-02T20:07:59.671Z"
   },
   {
    "duration": 154,
    "start_time": "2023-06-02T20:07:59.679Z"
   },
   {
    "duration": 310,
    "start_time": "2023-06-02T20:07:59.834Z"
   },
   {
    "duration": 146,
    "start_time": "2023-06-02T20:08:00.145Z"
   },
   {
    "duration": 29,
    "start_time": "2023-06-02T20:08:00.294Z"
   },
   {
    "duration": 4,
    "start_time": "2023-06-02T20:08:00.325Z"
   },
   {
    "duration": 26,
    "start_time": "2023-06-02T20:08:00.330Z"
   },
   {
    "duration": 9,
    "start_time": "2023-06-02T20:08:00.358Z"
   },
   {
    "duration": 29,
    "start_time": "2023-06-02T20:08:00.369Z"
   },
   {
    "duration": 42,
    "start_time": "2023-06-02T20:08:00.399Z"
   },
   {
    "duration": 37,
    "start_time": "2023-06-02T20:08:00.443Z"
   },
   {
    "duration": 35,
    "start_time": "2023-06-02T20:08:00.482Z"
   },
   {
    "duration": 33,
    "start_time": "2023-06-02T20:08:00.519Z"
   },
   {
    "duration": 38,
    "start_time": "2023-06-02T20:08:00.554Z"
   },
   {
    "duration": 128,
    "start_time": "2023-06-02T20:08:00.594Z"
   },
   {
    "duration": 0,
    "start_time": "2023-06-02T20:08:00.724Z"
   },
   {
    "duration": 0,
    "start_time": "2023-06-02T20:08:00.725Z"
   },
   {
    "duration": 0,
    "start_time": "2023-06-02T20:08:00.726Z"
   },
   {
    "duration": 0,
    "start_time": "2023-06-02T20:08:00.727Z"
   },
   {
    "duration": 36,
    "start_time": "2023-06-02T20:09:29.140Z"
   },
   {
    "duration": 4,
    "start_time": "2023-06-02T20:09:30.340Z"
   },
   {
    "duration": 11,
    "start_time": "2023-06-02T20:09:31.306Z"
   },
   {
    "duration": 14,
    "start_time": "2023-06-02T20:09:32.556Z"
   },
   {
    "duration": 10,
    "start_time": "2023-06-02T20:09:54.341Z"
   },
   {
    "duration": 8,
    "start_time": "2023-06-02T20:10:01.074Z"
   },
   {
    "duration": 43,
    "start_time": "2023-06-02T20:11:09.573Z"
   },
   {
    "duration": 14,
    "start_time": "2023-06-02T20:11:10.335Z"
   },
   {
    "duration": 8,
    "start_time": "2023-06-02T20:11:11.460Z"
   },
   {
    "duration": 18,
    "start_time": "2023-06-02T20:11:17.375Z"
   },
   {
    "duration": 4,
    "start_time": "2023-06-02T20:11:28.636Z"
   },
   {
    "duration": 50,
    "start_time": "2023-06-02T20:12:49.570Z"
   },
   {
    "duration": 16,
    "start_time": "2023-06-02T20:12:50.217Z"
   },
   {
    "duration": 8,
    "start_time": "2023-06-02T20:12:50.880Z"
   },
   {
    "duration": 16,
    "start_time": "2023-06-02T20:12:51.945Z"
   },
   {
    "duration": 11,
    "start_time": "2023-06-02T20:12:57.949Z"
   },
   {
    "duration": 17,
    "start_time": "2023-06-02T20:12:59.145Z"
   },
   {
    "duration": 4,
    "start_time": "2023-06-02T20:13:27.019Z"
   },
   {
    "duration": 3,
    "start_time": "2023-06-02T20:13:27.915Z"
   },
   {
    "duration": 3,
    "start_time": "2023-06-02T20:13:32.950Z"
   },
   {
    "duration": 9,
    "start_time": "2023-06-02T20:13:33.314Z"
   },
   {
    "duration": 18,
    "start_time": "2023-06-02T20:13:34.188Z"
   },
   {
    "duration": 17,
    "start_time": "2023-06-02T20:14:09.692Z"
   },
   {
    "duration": 13,
    "start_time": "2023-06-02T20:16:39.978Z"
   },
   {
    "duration": 18,
    "start_time": "2023-06-02T20:18:51.246Z"
   },
   {
    "duration": 6,
    "start_time": "2023-06-02T20:21:38.758Z"
   },
   {
    "duration": 5,
    "start_time": "2023-06-02T20:21:43.648Z"
   },
   {
    "duration": 9,
    "start_time": "2023-06-02T20:21:54.096Z"
   },
   {
    "duration": 985,
    "start_time": "2023-06-02T20:25:33.907Z"
   },
   {
    "duration": 135,
    "start_time": "2023-06-02T20:25:34.894Z"
   },
   {
    "duration": 12,
    "start_time": "2023-06-02T20:25:35.031Z"
   },
   {
    "duration": 16,
    "start_time": "2023-06-02T20:25:35.045Z"
   },
   {
    "duration": 26,
    "start_time": "2023-06-02T20:25:35.063Z"
   },
   {
    "duration": 50,
    "start_time": "2023-06-02T20:25:35.091Z"
   },
   {
    "duration": 15,
    "start_time": "2023-06-02T20:25:35.143Z"
   },
   {
    "duration": 11,
    "start_time": "2023-06-02T20:25:35.159Z"
   },
   {
    "duration": 23,
    "start_time": "2023-06-02T20:25:35.172Z"
   },
   {
    "duration": 9,
    "start_time": "2023-06-02T20:25:35.198Z"
   },
   {
    "duration": 8,
    "start_time": "2023-06-02T20:25:35.209Z"
   },
   {
    "duration": 10,
    "start_time": "2023-06-02T20:25:35.219Z"
   },
   {
    "duration": 41,
    "start_time": "2023-06-02T20:25:35.231Z"
   },
   {
    "duration": 62,
    "start_time": "2023-06-02T20:25:35.273Z"
   },
   {
    "duration": 89,
    "start_time": "2023-06-02T20:25:35.337Z"
   },
   {
    "duration": 29,
    "start_time": "2023-06-02T20:25:35.428Z"
   },
   {
    "duration": 147,
    "start_time": "2023-06-02T20:25:35.459Z"
   },
   {
    "duration": 82,
    "start_time": "2023-06-02T20:25:35.608Z"
   },
   {
    "duration": 136,
    "start_time": "2023-06-02T20:25:35.692Z"
   },
   {
    "duration": 134,
    "start_time": "2023-06-02T20:25:35.831Z"
   },
   {
    "duration": 138,
    "start_time": "2023-06-02T20:25:35.967Z"
   },
   {
    "duration": 16,
    "start_time": "2023-06-02T20:25:36.106Z"
   },
   {
    "duration": 25,
    "start_time": "2023-06-02T20:25:36.124Z"
   },
   {
    "duration": 12,
    "start_time": "2023-06-02T20:25:36.151Z"
   },
   {
    "duration": 138,
    "start_time": "2023-06-02T20:25:36.164Z"
   },
   {
    "duration": 309,
    "start_time": "2023-06-02T20:25:36.304Z"
   },
   {
    "duration": 142,
    "start_time": "2023-06-02T20:25:36.614Z"
   },
   {
    "duration": 53,
    "start_time": "2023-06-02T20:25:36.759Z"
   },
   {
    "duration": 16,
    "start_time": "2023-06-02T20:25:36.813Z"
   },
   {
    "duration": 32,
    "start_time": "2023-06-02T20:25:36.831Z"
   },
   {
    "duration": 4,
    "start_time": "2023-06-02T20:25:36.864Z"
   },
   {
    "duration": 17,
    "start_time": "2023-06-02T20:25:36.869Z"
   },
   {
    "duration": 13,
    "start_time": "2023-06-02T20:25:36.889Z"
   },
   {
    "duration": 16,
    "start_time": "2023-06-02T20:25:36.903Z"
   },
   {
    "duration": 4,
    "start_time": "2023-06-02T20:25:36.920Z"
   },
   {
    "duration": 30,
    "start_time": "2023-06-02T20:25:36.926Z"
   },
   {
    "duration": 11,
    "start_time": "2023-06-02T20:25:36.958Z"
   },
   {
    "duration": 3,
    "start_time": "2023-06-02T20:25:44.555Z"
   },
   {
    "duration": 66,
    "start_time": "2023-06-02T20:25:45.219Z"
   },
   {
    "duration": 8,
    "start_time": "2023-06-02T20:25:45.525Z"
   },
   {
    "duration": 10,
    "start_time": "2023-06-02T20:25:45.878Z"
   },
   {
    "duration": 9,
    "start_time": "2023-06-02T20:25:50.522Z"
   },
   {
    "duration": 12,
    "start_time": "2023-06-02T20:25:52.708Z"
   },
   {
    "duration": 7,
    "start_time": "2023-06-02T20:25:53.624Z"
   },
   {
    "duration": 12,
    "start_time": "2023-06-02T20:25:55.174Z"
   },
   {
    "duration": 7,
    "start_time": "2023-06-02T20:25:56.956Z"
   },
   {
    "duration": 6,
    "start_time": "2023-06-02T20:25:57.380Z"
   },
   {
    "duration": 7,
    "start_time": "2023-06-02T20:25:58.318Z"
   },
   {
    "duration": 8,
    "start_time": "2023-06-02T20:25:59.256Z"
   },
   {
    "duration": 6,
    "start_time": "2023-06-02T20:25:59.923Z"
   },
   {
    "duration": 997,
    "start_time": "2023-06-02T20:26:06.086Z"
   },
   {
    "duration": 128,
    "start_time": "2023-06-02T20:26:07.085Z"
   },
   {
    "duration": 14,
    "start_time": "2023-06-02T20:26:07.215Z"
   },
   {
    "duration": 14,
    "start_time": "2023-06-02T20:26:07.231Z"
   },
   {
    "duration": 14,
    "start_time": "2023-06-02T20:26:07.246Z"
   },
   {
    "duration": 14,
    "start_time": "2023-06-02T20:26:07.261Z"
   },
   {
    "duration": 7,
    "start_time": "2023-06-02T20:26:07.276Z"
   },
   {
    "duration": 13,
    "start_time": "2023-06-02T20:26:07.285Z"
   },
   {
    "duration": 10,
    "start_time": "2023-06-02T20:26:07.299Z"
   },
   {
    "duration": 9,
    "start_time": "2023-06-02T20:26:07.312Z"
   },
   {
    "duration": 10,
    "start_time": "2023-06-02T20:26:07.323Z"
   },
   {
    "duration": 29,
    "start_time": "2023-06-02T20:26:07.334Z"
   },
   {
    "duration": 5,
    "start_time": "2023-06-02T20:26:07.365Z"
   },
   {
    "duration": 6,
    "start_time": "2023-06-02T20:26:07.372Z"
   },
   {
    "duration": 9,
    "start_time": "2023-06-02T20:26:07.379Z"
   },
   {
    "duration": 9,
    "start_time": "2023-06-02T20:26:07.389Z"
   },
   {
    "duration": 164,
    "start_time": "2023-06-02T20:26:07.400Z"
   },
   {
    "duration": 75,
    "start_time": "2023-06-02T20:26:07.565Z"
   },
   {
    "duration": 144,
    "start_time": "2023-06-02T20:26:07.656Z"
   },
   {
    "duration": 139,
    "start_time": "2023-06-02T20:26:07.802Z"
   },
   {
    "duration": 130,
    "start_time": "2023-06-02T20:26:07.943Z"
   },
   {
    "duration": 16,
    "start_time": "2023-06-02T20:26:08.075Z"
   },
   {
    "duration": 9,
    "start_time": "2023-06-02T20:26:08.093Z"
   },
   {
    "duration": 16,
    "start_time": "2023-06-02T20:26:08.104Z"
   },
   {
    "duration": 138,
    "start_time": "2023-06-02T20:26:08.122Z"
   },
   {
    "duration": 320,
    "start_time": "2023-06-02T20:26:08.263Z"
   },
   {
    "duration": 145,
    "start_time": "2023-06-02T20:26:08.585Z"
   },
   {
    "duration": 61,
    "start_time": "2023-06-02T20:26:08.735Z"
   },
   {
    "duration": 18,
    "start_time": "2023-06-02T20:26:08.799Z"
   },
   {
    "duration": 29,
    "start_time": "2023-06-02T20:26:08.819Z"
   },
   {
    "duration": 5,
    "start_time": "2023-06-02T20:26:08.856Z"
   },
   {
    "duration": 23,
    "start_time": "2023-06-02T20:26:08.863Z"
   },
   {
    "duration": 34,
    "start_time": "2023-06-02T20:26:08.889Z"
   },
   {
    "duration": 24,
    "start_time": "2023-06-02T20:26:08.925Z"
   },
   {
    "duration": 8,
    "start_time": "2023-06-02T20:26:08.951Z"
   },
   {
    "duration": 11,
    "start_time": "2023-06-02T20:26:08.961Z"
   },
   {
    "duration": 14,
    "start_time": "2023-06-02T20:26:08.974Z"
   },
   {
    "duration": 1104,
    "start_time": "2023-06-03T07:09:01.314Z"
   },
   {
    "duration": 153,
    "start_time": "2023-06-03T07:09:02.421Z"
   },
   {
    "duration": 13,
    "start_time": "2023-06-03T07:09:02.576Z"
   },
   {
    "duration": 35,
    "start_time": "2023-06-03T07:09:02.591Z"
   },
   {
    "duration": 32,
    "start_time": "2023-06-03T07:09:02.628Z"
   },
   {
    "duration": 34,
    "start_time": "2023-06-03T07:09:02.662Z"
   },
   {
    "duration": 10,
    "start_time": "2023-06-03T07:09:02.698Z"
   },
   {
    "duration": 20,
    "start_time": "2023-06-03T07:09:02.710Z"
   },
   {
    "duration": 10,
    "start_time": "2023-06-03T07:09:02.731Z"
   },
   {
    "duration": 23,
    "start_time": "2023-06-03T07:09:02.743Z"
   },
   {
    "duration": 14,
    "start_time": "2023-06-03T07:09:02.770Z"
   },
   {
    "duration": 19,
    "start_time": "2023-06-03T07:09:02.786Z"
   },
   {
    "duration": 5,
    "start_time": "2023-06-03T07:09:02.807Z"
   },
   {
    "duration": 11,
    "start_time": "2023-06-03T07:09:02.814Z"
   },
   {
    "duration": 9,
    "start_time": "2023-06-03T07:09:02.826Z"
   },
   {
    "duration": 24,
    "start_time": "2023-06-03T07:09:02.836Z"
   },
   {
    "duration": 156,
    "start_time": "2023-06-03T07:09:02.863Z"
   },
   {
    "duration": 96,
    "start_time": "2023-06-03T07:09:03.021Z"
   },
   {
    "duration": 147,
    "start_time": "2023-06-03T07:09:03.119Z"
   },
   {
    "duration": 143,
    "start_time": "2023-06-03T07:09:03.267Z"
   },
   {
    "duration": 164,
    "start_time": "2023-06-03T07:09:03.411Z"
   },
   {
    "duration": 16,
    "start_time": "2023-06-03T07:09:03.576Z"
   },
   {
    "duration": 9,
    "start_time": "2023-06-03T07:09:03.594Z"
   },
   {
    "duration": 13,
    "start_time": "2023-06-03T07:09:03.604Z"
   },
   {
    "duration": 158,
    "start_time": "2023-06-03T07:09:03.619Z"
   },
   {
    "duration": 315,
    "start_time": "2023-06-03T07:09:03.779Z"
   },
   {
    "duration": 145,
    "start_time": "2023-06-03T07:09:04.095Z"
   },
   {
    "duration": 64,
    "start_time": "2023-06-03T07:09:04.246Z"
   },
   {
    "duration": 14,
    "start_time": "2023-06-03T07:09:04.312Z"
   },
   {
    "duration": 34,
    "start_time": "2023-06-03T07:09:04.328Z"
   },
   {
    "duration": 21,
    "start_time": "2023-06-03T07:09:04.367Z"
   },
   {
    "duration": 19,
    "start_time": "2023-06-03T07:09:04.389Z"
   },
   {
    "duration": 79,
    "start_time": "2023-06-03T07:09:04.410Z"
   },
   {
    "duration": 32,
    "start_time": "2023-06-03T07:09:04.490Z"
   },
   {
    "duration": 5,
    "start_time": "2023-06-03T07:09:04.523Z"
   },
   {
    "duration": 9,
    "start_time": "2023-06-03T07:09:04.529Z"
   },
   {
    "duration": 38,
    "start_time": "2023-06-03T07:09:04.540Z"
   },
   {
    "duration": 102,
    "start_time": "2023-06-03T07:12:28.322Z"
   },
   {
    "duration": 83,
    "start_time": "2023-06-03T07:17:09.829Z"
   },
   {
    "duration": 22,
    "start_time": "2023-06-03T07:17:22.362Z"
   },
   {
    "duration": 14,
    "start_time": "2023-06-03T07:17:32.114Z"
   },
   {
    "duration": 24,
    "start_time": "2023-06-03T07:20:08.899Z"
   },
   {
    "duration": 22,
    "start_time": "2023-06-03T07:20:32.872Z"
   },
   {
    "duration": 25,
    "start_time": "2023-06-03T07:21:36.705Z"
   },
   {
    "duration": 30,
    "start_time": "2023-06-03T07:21:48.283Z"
   },
   {
    "duration": 17,
    "start_time": "2023-06-03T07:25:57.380Z"
   },
   {
    "duration": 16,
    "start_time": "2023-06-03T07:26:25.471Z"
   }
  ],
  "kernelspec": {
   "display_name": "Python 3 (ipykernel)",
   "language": "python",
   "name": "python3"
  },
  "language_info": {
   "codemirror_mode": {
    "name": "ipython",
    "version": 3
   },
   "file_extension": ".py",
   "mimetype": "text/x-python",
   "name": "python",
   "nbconvert_exporter": "python",
   "pygments_lexer": "ipython3",
   "version": "3.10.9"
  },
  "toc": {
   "base_numbering": 1,
   "nav_menu": {},
   "number_sections": true,
   "sideBar": true,
   "skip_h1_title": true,
   "title_cell": "Table of Contents",
   "title_sidebar": "Contents",
   "toc_cell": false,
   "toc_position": {},
   "toc_section_display": true,
   "toc_window_display": false
  }
 },
 "nbformat": 4,
 "nbformat_minor": 5
}
