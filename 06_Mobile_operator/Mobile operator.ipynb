{
 "cells": [
  {
   "cell_type": "markdown",
   "metadata": {},
   "source": [
    "# Описание проекта\n",
    "Оператор мобильной связи «Мегалайн» выяснил: многие клиенты пользуются архивными тарифами. Они хотят построить систему, способную проанализировать поведение клиентов и предложить пользователям новый тариф: «Смарт» или «Ультра». Нужно построить модель для задачи классификации, которая выберет подходящий тариф."
   ]
  },
  {
   "cell_type": "markdown",
   "metadata": {},
   "source": [
    "# Описание данных\n",
    "Каждый объект в наборе данных — это информация о поведении одного пользователя за месяц.\n",
    "* сalls — количество звонков\n",
    "* minutes — суммарная длительность звонков в минутах\n",
    "* messages — количество sms-сообщений\n",
    "* mb_used — израсходованный интернет-трафик в Мб\n",
    "* is_ultra — каким тарифом пользовался в течение месяца («Ультра» — 1, «Смарт» — 0)."
   ]
  },
  {
   "cell_type": "markdown",
   "metadata": {},
   "source": [
    "# Рекомендация тарифов"
   ]
  },
  {
   "cell_type": "markdown",
   "metadata": {},
   "source": [
    "В вашем распоряжении данные о поведении клиентов, которые уже перешли на эти тарифы (из проекта курса «Статистический анализ данных»). Нужно построить модель для задачи классификации, которая выберет подходящий тариф. Предобработка данных не понадобится — вы её уже сделали.\n",
    "\n",
    "Постройте модель с максимально большим значением *accuracy*. Чтобы сдать проект успешно, нужно довести долю правильных ответов по крайней мере до 0.75. Проверьте *accuracy* на тестовой выборке самостоятельно."
   ]
  },
  {
   "cell_type": "markdown",
   "metadata": {},
   "source": [
    "## Откройте и изучите файл"
   ]
  },
  {
   "cell_type": "code",
   "execution_count": 1,
   "metadata": {},
   "outputs": [],
   "source": [
    "import pandas as pd\n",
    "from sklearn.linear_model import LogisticRegression\n",
    "from sklearn.ensemble import RandomForestClassifier\n",
    "from sklearn.tree import DecisionTreeClassifier\n",
    "from sklearn.dummy import DummyClassifier\n",
    "from sklearn.model_selection import train_test_split\n",
    "from sklearn.metrics import mean_squared_error\n",
    "from sklearn.metrics import accuracy_score\n",
    "import matplotlib.pyplot as plt "
   ]
  },
  {
   "cell_type": "code",
   "execution_count": 2,
   "metadata": {},
   "outputs": [],
   "source": [
    "try:\n",
    "    df = pd.read_csv('/datasets/users_behavior.csv')\n",
    "except FileNotFoundError:\n",
    "    df = pd.read_csv(r'C:\\Users\\ASUS\\Desktop\\Практикум\\Data\\users_behavior.csv')\n",
    "    "
   ]
  },
  {
   "cell_type": "code",
   "execution_count": 3,
   "metadata": {},
   "outputs": [
    {
     "data": {
      "text/html": [
       "<div>\n",
       "<style scoped>\n",
       "    .dataframe tbody tr th:only-of-type {\n",
       "        vertical-align: middle;\n",
       "    }\n",
       "\n",
       "    .dataframe tbody tr th {\n",
       "        vertical-align: top;\n",
       "    }\n",
       "\n",
       "    .dataframe thead th {\n",
       "        text-align: right;\n",
       "    }\n",
       "</style>\n",
       "<table border=\"1\" class=\"dataframe\">\n",
       "  <thead>\n",
       "    <tr style=\"text-align: right;\">\n",
       "      <th></th>\n",
       "      <th>calls</th>\n",
       "      <th>minutes</th>\n",
       "      <th>messages</th>\n",
       "      <th>mb_used</th>\n",
       "      <th>is_ultra</th>\n",
       "    </tr>\n",
       "  </thead>\n",
       "  <tbody>\n",
       "    <tr>\n",
       "      <th>0</th>\n",
       "      <td>40.0</td>\n",
       "      <td>311.90</td>\n",
       "      <td>83.0</td>\n",
       "      <td>19915.42</td>\n",
       "      <td>0</td>\n",
       "    </tr>\n",
       "    <tr>\n",
       "      <th>1</th>\n",
       "      <td>85.0</td>\n",
       "      <td>516.75</td>\n",
       "      <td>56.0</td>\n",
       "      <td>22696.96</td>\n",
       "      <td>0</td>\n",
       "    </tr>\n",
       "    <tr>\n",
       "      <th>2</th>\n",
       "      <td>77.0</td>\n",
       "      <td>467.66</td>\n",
       "      <td>86.0</td>\n",
       "      <td>21060.45</td>\n",
       "      <td>0</td>\n",
       "    </tr>\n",
       "    <tr>\n",
       "      <th>3</th>\n",
       "      <td>106.0</td>\n",
       "      <td>745.53</td>\n",
       "      <td>81.0</td>\n",
       "      <td>8437.39</td>\n",
       "      <td>1</td>\n",
       "    </tr>\n",
       "    <tr>\n",
       "      <th>4</th>\n",
       "      <td>66.0</td>\n",
       "      <td>418.74</td>\n",
       "      <td>1.0</td>\n",
       "      <td>14502.75</td>\n",
       "      <td>0</td>\n",
       "    </tr>\n",
       "  </tbody>\n",
       "</table>\n",
       "</div>"
      ],
      "text/plain": [
       "   calls  minutes  messages   mb_used  is_ultra\n",
       "0   40.0   311.90      83.0  19915.42         0\n",
       "1   85.0   516.75      56.0  22696.96         0\n",
       "2   77.0   467.66      86.0  21060.45         0\n",
       "3  106.0   745.53      81.0   8437.39         1\n",
       "4   66.0   418.74       1.0  14502.75         0"
      ]
     },
     "execution_count": 3,
     "metadata": {},
     "output_type": "execute_result"
    }
   ],
   "source": [
    "df.head()"
   ]
  },
  {
   "cell_type": "code",
   "execution_count": 4,
   "metadata": {},
   "outputs": [
    {
     "data": {
      "text/html": [
       "<div>\n",
       "<style scoped>\n",
       "    .dataframe tbody tr th:only-of-type {\n",
       "        vertical-align: middle;\n",
       "    }\n",
       "\n",
       "    .dataframe tbody tr th {\n",
       "        vertical-align: top;\n",
       "    }\n",
       "\n",
       "    .dataframe thead th {\n",
       "        text-align: right;\n",
       "    }\n",
       "</style>\n",
       "<table border=\"1\" class=\"dataframe\">\n",
       "  <thead>\n",
       "    <tr style=\"text-align: right;\">\n",
       "      <th></th>\n",
       "      <th>calls</th>\n",
       "      <th>minutes</th>\n",
       "      <th>messages</th>\n",
       "      <th>mb_used</th>\n",
       "      <th>is_ultra</th>\n",
       "    </tr>\n",
       "  </thead>\n",
       "  <tbody>\n",
       "    <tr>\n",
       "      <th>2982</th>\n",
       "      <td>50.0</td>\n",
       "      <td>362.53</td>\n",
       "      <td>0.0</td>\n",
       "      <td>18476.21</td>\n",
       "      <td>0</td>\n",
       "    </tr>\n",
       "    <tr>\n",
       "      <th>1274</th>\n",
       "      <td>49.0</td>\n",
       "      <td>292.51</td>\n",
       "      <td>46.0</td>\n",
       "      <td>12751.50</td>\n",
       "      <td>0</td>\n",
       "    </tr>\n",
       "    <tr>\n",
       "      <th>2052</th>\n",
       "      <td>53.0</td>\n",
       "      <td>400.47</td>\n",
       "      <td>25.0</td>\n",
       "      <td>18307.71</td>\n",
       "      <td>0</td>\n",
       "    </tr>\n",
       "    <tr>\n",
       "      <th>759</th>\n",
       "      <td>35.0</td>\n",
       "      <td>182.51</td>\n",
       "      <td>103.0</td>\n",
       "      <td>25494.78</td>\n",
       "      <td>1</td>\n",
       "    </tr>\n",
       "    <tr>\n",
       "      <th>2002</th>\n",
       "      <td>34.0</td>\n",
       "      <td>274.53</td>\n",
       "      <td>13.0</td>\n",
       "      <td>5762.76</td>\n",
       "      <td>0</td>\n",
       "    </tr>\n",
       "    <tr>\n",
       "      <th>1712</th>\n",
       "      <td>84.0</td>\n",
       "      <td>513.10</td>\n",
       "      <td>21.0</td>\n",
       "      <td>16080.39</td>\n",
       "      <td>1</td>\n",
       "    </tr>\n",
       "    <tr>\n",
       "      <th>2123</th>\n",
       "      <td>34.0</td>\n",
       "      <td>252.87</td>\n",
       "      <td>26.0</td>\n",
       "      <td>24550.06</td>\n",
       "      <td>1</td>\n",
       "    </tr>\n",
       "    <tr>\n",
       "      <th>236</th>\n",
       "      <td>48.0</td>\n",
       "      <td>336.38</td>\n",
       "      <td>14.0</td>\n",
       "      <td>21902.41</td>\n",
       "      <td>0</td>\n",
       "    </tr>\n",
       "    <tr>\n",
       "      <th>1779</th>\n",
       "      <td>56.0</td>\n",
       "      <td>415.72</td>\n",
       "      <td>7.0</td>\n",
       "      <td>16819.71</td>\n",
       "      <td>0</td>\n",
       "    </tr>\n",
       "    <tr>\n",
       "      <th>1231</th>\n",
       "      <td>13.0</td>\n",
       "      <td>82.55</td>\n",
       "      <td>4.0</td>\n",
       "      <td>2890.46</td>\n",
       "      <td>1</td>\n",
       "    </tr>\n",
       "  </tbody>\n",
       "</table>\n",
       "</div>"
      ],
      "text/plain": [
       "      calls  minutes  messages   mb_used  is_ultra\n",
       "2982   50.0   362.53       0.0  18476.21         0\n",
       "1274   49.0   292.51      46.0  12751.50         0\n",
       "2052   53.0   400.47      25.0  18307.71         0\n",
       "759    35.0   182.51     103.0  25494.78         1\n",
       "2002   34.0   274.53      13.0   5762.76         0\n",
       "1712   84.0   513.10      21.0  16080.39         1\n",
       "2123   34.0   252.87      26.0  24550.06         1\n",
       "236    48.0   336.38      14.0  21902.41         0\n",
       "1779   56.0   415.72       7.0  16819.71         0\n",
       "1231   13.0    82.55       4.0   2890.46         1"
      ]
     },
     "execution_count": 4,
     "metadata": {},
     "output_type": "execute_result"
    }
   ],
   "source": [
    "df.sample(10)"
   ]
  },
  {
   "cell_type": "code",
   "execution_count": 5,
   "metadata": {},
   "outputs": [
    {
     "name": "stdout",
     "output_type": "stream",
     "text": [
      "<class 'pandas.core.frame.DataFrame'>\n",
      "RangeIndex: 3214 entries, 0 to 3213\n",
      "Data columns (total 5 columns):\n",
      " #   Column    Non-Null Count  Dtype  \n",
      "---  ------    --------------  -----  \n",
      " 0   calls     3214 non-null   float64\n",
      " 1   minutes   3214 non-null   float64\n",
      " 2   messages  3214 non-null   float64\n",
      " 3   mb_used   3214 non-null   float64\n",
      " 4   is_ultra  3214 non-null   int64  \n",
      "dtypes: float64(4), int64(1)\n",
      "memory usage: 125.7 KB\n"
     ]
    }
   ],
   "source": [
    "df.info()"
   ]
  },
  {
   "cell_type": "markdown",
   "metadata": {},
   "source": [
    "Поменяем тип данных в количестве звонков и сообщений на int"
   ]
  },
  {
   "cell_type": "code",
   "execution_count": 6,
   "metadata": {},
   "outputs": [],
   "source": [
    "df['calls'] = df['calls'].astype('int')"
   ]
  },
  {
   "cell_type": "code",
   "execution_count": 7,
   "metadata": {},
   "outputs": [],
   "source": [
    "df['messages'] = df['messages'].astype('int')"
   ]
  },
  {
   "cell_type": "markdown",
   "metadata": {},
   "source": [
    "Проверим датасет на дубликаты"
   ]
  },
  {
   "cell_type": "code",
   "execution_count": 8,
   "metadata": {},
   "outputs": [
    {
     "data": {
      "text/plain": [
       "0"
      ]
     },
     "execution_count": 8,
     "metadata": {},
     "output_type": "execute_result"
    }
   ],
   "source": [
    "df.duplicated().sum()"
   ]
  },
  {
   "cell_type": "markdown",
   "metadata": {},
   "source": [
    "## Разбейте данные на выборки"
   ]
  },
  {
   "cell_type": "code",
   "execution_count": 9,
   "metadata": {},
   "outputs": [],
   "source": [
    "features = df.drop('is_ultra', axis = 1)"
   ]
  },
  {
   "cell_type": "code",
   "execution_count": 10,
   "metadata": {},
   "outputs": [],
   "source": [
    "target = df['is_ultra']"
   ]
  },
  {
   "cell_type": "markdown",
   "metadata": {},
   "source": [
    "Разобьем данные на три части: обучающую, валидационную и тестовую в соотношении 3:1:1. "
   ]
  },
  {
   "cell_type": "code",
   "execution_count": 11,
   "metadata": {},
   "outputs": [],
   "source": [
    "features_train, features_valid, target_train, target_valid = train_test_split(features, target, test_size=0.2, random_state=12345)\n",
    "features_valid, features_test, target_valid, target_test = train_test_split(features_valid, target_valid, test_size=0.2 , random_state=12345)"
   ]
  },
  {
   "cell_type": "markdown",
   "metadata": {},
   "source": [
    "## Исследуйте модели"
   ]
  },
  {
   "cell_type": "markdown",
   "metadata": {},
   "source": [
    "Для исследования исползуем 3 модели: Логистическая регрессия, Случайный лес и Дерево решений"
   ]
  },
  {
   "cell_type": "markdown",
   "metadata": {},
   "source": [
    "### Обучим модель с использованием Логической регресии"
   ]
  },
  {
   "cell_type": "code",
   "execution_count": 12,
   "metadata": {},
   "outputs": [
    {
     "name": "stdout",
     "output_type": "stream",
     "text": [
      "Accuracy: 0.7587548638132295\n"
     ]
    }
   ],
   "source": [
    "# Обучение модели логистической регрессии\n",
    "model_lr = LogisticRegression(random_state=12345)\n",
    "model_lr.fit(features_train, target_train)\n",
    "predictions_lr = model_lr.predict(features_valid)\n",
    "accuracy_lr = accuracy_score(target_valid, predictions_lr)\n",
    "print('Accuracy:', accuracy_lr)"
   ]
  },
  {
   "cell_type": "markdown",
   "metadata": {},
   "source": [
    "### Обучим модель с использованием Случайного леса"
   ]
  },
  {
   "cell_type": "code",
   "execution_count": 13,
   "metadata": {
    "scrolled": true
   },
   "outputs": [
    {
     "name": "stdout",
     "output_type": "stream",
     "text": [
      "Глубина: 1, Количество: 1, Точность: 0.7607003891050583\n",
      "Глубина: 1, Количество: 2, Точность: 0.7645914396887159\n",
      "Глубина: 1, Количество: 3, Точность: 0.7607003891050583\n",
      "Глубина: 1, Количество: 4, Точность: 0.7607003891050583\n",
      "Глубина: 1, Количество: 5, Точность: 0.7607003891050583\n",
      "Глубина: 1, Количество: 6, Точность: 0.7607003891050583\n",
      "Глубина: 1, Количество: 7, Точность: 0.7587548638132295\n",
      "Глубина: 1, Количество: 8, Точность: 0.7587548638132295\n",
      "Глубина: 1, Количество: 9, Точность: 0.7587548638132295\n",
      "Глубина: 2, Количество: 1, Точность: 0.7898832684824902\n",
      "Глубина: 2, Количество: 2, Точность: 0.7879377431906615\n",
      "Глубина: 2, Количество: 3, Точность: 0.7898832684824902\n",
      "Глубина: 2, Количество: 4, Точность: 0.7937743190661478\n",
      "Глубина: 2, Количество: 5, Точность: 0.7645914396887159\n",
      "Глубина: 2, Количество: 6, Точность: 0.791828793774319\n",
      "Глубина: 2, Количество: 7, Точность: 0.7782101167315175\n",
      "Глубина: 2, Количество: 8, Точность: 0.7898832684824902\n",
      "Глубина: 2, Количество: 9, Точность: 0.7782101167315175\n",
      "Глубина: 3, Количество: 1, Точность: 0.7957198443579766\n",
      "Глубина: 3, Количество: 2, Точность: 0.791828793774319\n",
      "Глубина: 3, Количество: 3, Точность: 0.7937743190661478\n",
      "Глубина: 3, Количество: 4, Точность: 0.7937743190661478\n",
      "Глубина: 3, Количество: 5, Точность: 0.791828793774319\n",
      "Глубина: 3, Количество: 6, Точность: 0.791828793774319\n",
      "Глубина: 3, Количество: 7, Точность: 0.791828793774319\n",
      "Глубина: 3, Количество: 8, Точность: 0.7957198443579766\n",
      "Глубина: 3, Количество: 9, Точность: 0.791828793774319\n",
      "Глубина: 4, Количество: 1, Точность: 0.7782101167315175\n",
      "Глубина: 4, Количество: 2, Точность: 0.7937743190661478\n",
      "Глубина: 4, Количество: 3, Точность: 0.77431906614786\n",
      "Глубина: 4, Количество: 4, Точность: 0.7821011673151751\n",
      "Глубина: 4, Количество: 5, Точность: 0.7821011673151751\n",
      "Глубина: 4, Количество: 6, Точность: 0.7821011673151751\n",
      "Глубина: 4, Количество: 7, Точность: 0.791828793774319\n",
      "Глубина: 4, Количество: 8, Точность: 0.791828793774319\n",
      "Глубина: 4, Количество: 9, Точность: 0.791828793774319\n",
      "Глубина: 5, Количество: 1, Точность: 0.7898832684824902\n",
      "Глубина: 5, Количество: 2, Точность: 0.7996108949416343\n",
      "Глубина: 5, Количество: 3, Точность: 0.7976653696498055\n",
      "Глубина: 5, Количество: 4, Точность: 0.7976653696498055\n",
      "Глубина: 5, Количество: 5, Точность: 0.7976653696498055\n",
      "Глубина: 5, Количество: 6, Точность: 0.7937743190661478\n",
      "Глубина: 5, Количество: 7, Точность: 0.7937743190661478\n",
      "Глубина: 5, Количество: 8, Точность: 0.791828793774319\n",
      "Глубина: 5, Количество: 9, Точность: 0.7937743190661478\n",
      "Глубина: 6, Количество: 1, Точность: 0.791828793774319\n",
      "Глубина: 6, Количество: 2, Точность: 0.8054474708171206\n",
      "Глубина: 6, Количество: 3, Точность: 0.7898832684824902\n",
      "Глубина: 6, Количество: 4, Точность: 0.791828793774319\n",
      "Глубина: 6, Количество: 5, Точность: 0.7996108949416343\n",
      "Глубина: 6, Количество: 6, Точность: 0.7957198443579766\n",
      "Глубина: 6, Количество: 7, Точность: 0.7976653696498055\n",
      "Глубина: 6, Количество: 8, Точность: 0.8035019455252919\n",
      "Глубина: 6, Количество: 9, Точность: 0.7937743190661478\n",
      "Глубина: 7, Количество: 1, Точность: 0.8054474708171206\n",
      "Глубина: 7, Количество: 2, Точность: 0.8015564202334631\n",
      "Глубина: 7, Количество: 3, Точность: 0.791828793774319\n",
      "Глубина: 7, Количество: 4, Точность: 0.7976653696498055\n",
      "Глубина: 7, Количество: 5, Точность: 0.7996108949416343\n",
      "Глубина: 7, Количество: 6, Точность: 0.7996108949416343\n",
      "Глубина: 7, Количество: 7, Точность: 0.8073929961089494\n",
      "Глубина: 7, Количество: 8, Точность: 0.7996108949416343\n",
      "Глубина: 7, Количество: 9, Точность: 0.7976653696498055\n",
      "Глубина: 8, Количество: 1, Точность: 0.7684824902723736\n",
      "Глубина: 8, Количество: 2, Точность: 0.7704280155642024\n",
      "Глубина: 8, Количество: 3, Точность: 0.7879377431906615\n",
      "Глубина: 8, Количество: 4, Точность: 0.7957198443579766\n",
      "Глубина: 8, Количество: 5, Точность: 0.8035019455252919\n",
      "Глубина: 8, Количество: 6, Точность: 0.8015564202334631\n",
      "Глубина: 8, Количество: 7, Точность: 0.8035019455252919\n",
      "Глубина: 8, Количество: 8, Точность: 0.8054474708171206\n",
      "Глубина: 8, Количество: 9, Точность: 0.8054474708171206\n",
      "Глубина: 9, Количество: 1, Точность: 0.7937743190661478\n",
      "Глубина: 9, Количество: 2, Точность: 0.7704280155642024\n",
      "Глубина: 9, Количество: 3, Точность: 0.7937743190661478\n",
      "Глубина: 9, Количество: 4, Точность: 0.7879377431906615\n",
      "Глубина: 9, Количество: 5, Точность: 0.7976653696498055\n",
      "Глубина: 9, Количество: 6, Точность: 0.8035019455252919\n",
      "Глубина: 9, Количество: 7, Точность: 0.8073929961089494\n",
      "Глубина: 9, Количество: 8, Точность: 0.8073929961089494\n",
      "Глубина: 9, Количество: 9, Точность: 0.8073929961089494\n",
      "Лучшая модель: RandomForestClassifier(max_depth=7, n_estimators=7, random_state=12345)\n",
      "Лучшая точность: 0.8073929961089494\n",
      "Лучшая глубина: 7\n",
      "Лучшее количество: 7\n"
     ]
    }
   ],
   "source": [
    "best_result_rf = 0\n",
    "best_depth_rf = 0\n",
    "best_model_rf = None\n",
    "\n",
    "for depth in range(1, 10):\n",
    "    for quantity in range(1, 10):\n",
    "        model_rf = RandomForestClassifier(random_state=12345,max_depth=depth,n_estimators=quantity) \n",
    "        model_rf.fit(features_train,target_train)\n",
    "        predictions_valid = model_rf.predict(features_valid)\n",
    "        result_rf = accuracy_score(predictions_valid, target_valid)\n",
    "        print(f\"Глубина: {depth}, Количество: {quantity}, Точность: {result_rf}\")\n",
    "        if result_rf > best_result_rf:\n",
    "            best_model_rf = model_rf\n",
    "            best_result_rf = result_rf\n",
    "            best_depth_rf = depth\n",
    "            best_quantity_rf = quantity\n",
    "\n",
    "print(f\"Лучшая модель: {best_model_rf}\")\n",
    "print(f\"Лучшая точность: {best_result_rf}\")\n",
    "print(f\"Лучшая глубина: {best_depth_rf}\")\n",
    "print(f\"Лучшее количество: {best_quantity_rf}\")"
   ]
  },
  {
   "cell_type": "markdown",
   "metadata": {},
   "source": [
    "### Обучим модель с использованием Дерева решений"
   ]
  },
  {
   "cell_type": "code",
   "execution_count": 14,
   "metadata": {},
   "outputs": [
    {
     "name": "stdout",
     "output_type": "stream",
     "text": [
      "Глубина: 1, Точность: 0.7431906614785992\n",
      "Глубина: 2, Точность: 0.7840466926070039\n",
      "Глубина: 3, Точность: 0.7879377431906615\n",
      "Глубина: 4, Точность: 0.7801556420233463\n",
      "Глубина: 5, Точность: 0.7879377431906615\n",
      "Глубина: 6, Точность: 0.7898832684824902\n",
      "Глубина: 7, Точность: 0.7859922178988327\n",
      "Глубина: 8, Точность: 0.7821011673151751\n",
      "Глубина: 9, Точность: 0.7821011673151751\n",
      "Лучшая модель: DecisionTreeClassifier(max_depth=6, random_state=12345)\n",
      "Лучшая точность: 0.7898832684824902\n",
      "Лучшая глубина: 6\n"
     ]
    }
   ],
   "source": [
    "best_result_dt = 0\n",
    "best_depth_dt = 0\n",
    "best_model_dt = None\n",
    "\n",
    "for depth in range(1, 10):\n",
    "    model_dt = DecisionTreeClassifier(random_state=12345,max_depth=depth)\n",
    "    model_dt.fit(features_train,target_train)\n",
    "    predictions_valid = model_dt.predict(features_valid)\n",
    "    result_dt = accuracy_score(predictions_valid, target_valid)\n",
    "    print(f\"Глубина: {depth}, Точность: {result_dt}\")\n",
    "    \n",
    "    if result_dt > best_result_dt:\n",
    "        best_model_dt = model_dt\n",
    "        best_result_dt = result_dt\n",
    "        best_depth_dt = depth\n",
    "\n",
    "print(f\"Лучшая модель: {best_model_dt}\")\n",
    "print(f\"Лучшая точность: {best_result_dt}\")\n",
    "print(f\"Лучшая глубина: {best_depth_dt}\")"
   ]
  },
  {
   "cell_type": "markdown",
   "metadata": {},
   "source": [
    "### Вывод\n",
    "Лучшая точность у модели Случайного леса, больше 80% с глубиной 7 и количеством 6"
   ]
  },
  {
   "cell_type": "markdown",
   "metadata": {},
   "source": [
    "## Проверьте модель на тестовой выборке"
   ]
  },
  {
   "cell_type": "markdown",
   "metadata": {},
   "source": [
    "Используем данные лучшей модели"
   ]
  },
  {
   "cell_type": "code",
   "execution_count": 15,
   "metadata": {},
   "outputs": [
    {
     "data": {
      "text/plain": [
       "0.813953488372093"
      ]
     },
     "execution_count": 15,
     "metadata": {},
     "output_type": "execute_result"
    }
   ],
   "source": [
    "model = RandomForestClassifier(random_state=12345, n_estimators=best_quantity_rf,max_depth=best_depth_rf)\n",
    "model.fit(features_train,target_train)\n",
    "model.score(features_test, target_test)"
   ]
  },
  {
   "cell_type": "markdown",
   "metadata": {},
   "source": [
    "## (бонус) Проверьте модели на адекватность"
   ]
  },
  {
   "cell_type": "code",
   "execution_count": 16,
   "metadata": {},
   "outputs": [
    {
     "name": "stdout",
     "output_type": "stream",
     "text": [
      "Оценка точности случайной модели: 0.7286821705426356\n"
     ]
    }
   ],
   "source": [
    "dummy = DummyClassifier(strategy='most_frequent', random_state=12345)\n",
    "dummy.fit(features_train, target_train)\n",
    "dummy_score = dummy.score(features_test, target_test)\n",
    "\n",
    "print(f\"Оценка точности случайной модели: {dummy_score}\")"
   ]
  },
  {
   "cell_type": "markdown",
   "metadata": {},
   "source": [
    "Точность у проверочной модели ниже чем у нашей"
   ]
  },
  {
   "cell_type": "markdown",
   "metadata": {},
   "source": [
    "## Вывод\n",
    "Таким образом компании Мегалайн для анализа и предложения клиентам нового тарифа следует использовать модель случайного леса. Эта модель имеет точность выше 80% и проходит проверку на адекватность "
   ]
  }
 ],
 "metadata": {
  "ExecuteTimeLog": [
   {
    "duration": 1674,
    "start_time": "2023-06-14T22:27:12.430Z"
   },
   {
    "duration": 211,
    "start_time": "2023-06-14T22:27:24.634Z"
   },
   {
    "duration": 3,
    "start_time": "2023-06-14T22:27:29.060Z"
   },
   {
    "duration": 52,
    "start_time": "2023-06-14T22:27:30.064Z"
   },
   {
    "duration": 178,
    "start_time": "2023-06-14T22:27:51.031Z"
   },
   {
    "duration": 28,
    "start_time": "2023-06-14T22:29:02.978Z"
   },
   {
    "duration": 16,
    "start_time": "2023-06-14T22:29:03.360Z"
   },
   {
    "duration": 11,
    "start_time": "2023-06-14T22:29:04.446Z"
   },
   {
    "duration": 19,
    "start_time": "2023-06-14T22:29:05.430Z"
   },
   {
    "duration": 9,
    "start_time": "2023-06-14T22:30:56.688Z"
   },
   {
    "duration": 10,
    "start_time": "2023-06-14T22:30:57.344Z"
   },
   {
    "duration": 8,
    "start_time": "2023-06-14T22:31:05.130Z"
   },
   {
    "duration": 16,
    "start_time": "2023-06-14T22:31:15.135Z"
   },
   {
    "duration": 10,
    "start_time": "2023-06-14T22:31:15.723Z"
   },
   {
    "duration": 4,
    "start_time": "2023-06-14T22:33:23.408Z"
   },
   {
    "duration": 3,
    "start_time": "2023-06-14T22:33:23.788Z"
   },
   {
    "duration": 6,
    "start_time": "2023-06-14T22:34:42.738Z"
   },
   {
    "duration": 8,
    "start_time": "2023-06-14T22:35:11.004Z"
   },
   {
    "duration": 4,
    "start_time": "2023-06-14T22:46:45.535Z"
   },
   {
    "duration": 3,
    "start_time": "2023-06-14T22:46:45.925Z"
   },
   {
    "duration": 9,
    "start_time": "2023-06-14T22:46:46.806Z"
   },
   {
    "duration": 4,
    "start_time": "2023-06-14T22:46:47.690Z"
   },
   {
    "duration": 3,
    "start_time": "2023-06-14T22:46:48.166Z"
   },
   {
    "duration": 6,
    "start_time": "2023-06-14T22:46:48.598Z"
   },
   {
    "duration": 8,
    "start_time": "2023-06-14T22:49:32.755Z"
   },
   {
    "duration": 9,
    "start_time": "2023-06-14T22:50:05.028Z"
   },
   {
    "duration": 714,
    "start_time": "2023-06-14T22:58:32.626Z"
   },
   {
    "duration": 474,
    "start_time": "2023-06-14T22:58:33.532Z"
   },
   {
    "duration": 16,
    "start_time": "2023-06-14T22:58:34.008Z"
   },
   {
    "duration": 4,
    "start_time": "2023-06-14T22:58:34.595Z"
   },
   {
    "duration": 320,
    "start_time": "2023-06-14T23:11:50.622Z"
   },
   {
    "duration": 569,
    "start_time": "2023-06-14T23:11:51.034Z"
   },
   {
    "duration": 1348,
    "start_time": "2023-06-14T23:11:51.605Z"
   },
   {
    "duration": 18,
    "start_time": "2023-06-14T23:11:52.955Z"
   },
   {
    "duration": 1332,
    "start_time": "2023-06-14T23:11:54.700Z"
   },
   {
    "duration": 88,
    "start_time": "2023-06-15T23:09:47.295Z"
   },
   {
    "duration": 7,
    "start_time": "2023-06-15T23:09:50.386Z"
   },
   {
    "duration": 1650,
    "start_time": "2023-06-15T23:10:04.110Z"
   },
   {
    "duration": 122,
    "start_time": "2023-06-15T23:10:05.762Z"
   },
   {
    "duration": 16,
    "start_time": "2023-06-15T23:10:05.886Z"
   },
   {
    "duration": 20,
    "start_time": "2023-06-15T23:10:05.905Z"
   },
   {
    "duration": 26,
    "start_time": "2023-06-15T23:10:05.927Z"
   },
   {
    "duration": 26,
    "start_time": "2023-06-15T23:10:05.956Z"
   },
   {
    "duration": 25,
    "start_time": "2023-06-15T23:10:05.984Z"
   },
   {
    "duration": 23,
    "start_time": "2023-06-15T23:10:06.011Z"
   },
   {
    "duration": 47,
    "start_time": "2023-06-15T23:10:06.036Z"
   },
   {
    "duration": 6,
    "start_time": "2023-06-15T23:10:06.086Z"
   },
   {
    "duration": 10,
    "start_time": "2023-06-15T23:10:06.094Z"
   },
   {
    "duration": 1167,
    "start_time": "2023-06-15T23:10:06.106Z"
   },
   {
    "duration": 706,
    "start_time": "2023-06-15T23:10:07.275Z"
   },
   {
    "duration": 1638,
    "start_time": "2023-06-15T23:10:07.982Z"
   },
   {
    "duration": 31,
    "start_time": "2023-06-15T23:10:09.623Z"
   },
   {
    "duration": 84,
    "start_time": "2023-06-15T23:10:09.658Z"
   },
   {
    "duration": 17,
    "start_time": "2023-06-15T23:10:09.744Z"
   },
   {
    "duration": 125,
    "start_time": "2023-06-15T23:16:40.016Z"
   },
   {
    "duration": 1750,
    "start_time": "2023-06-15T23:36:28.051Z"
   },
   {
    "duration": 1571,
    "start_time": "2023-06-15T23:37:10.743Z"
   },
   {
    "duration": 1560,
    "start_time": "2023-06-15T23:38:39.010Z"
   },
   {
    "duration": 75,
    "start_time": "2023-06-15T23:41:03.441Z"
   },
   {
    "duration": 78,
    "start_time": "2023-06-15T23:41:08.604Z"
   },
   {
    "duration": 1414,
    "start_time": "2023-06-15T23:43:21.495Z"
   },
   {
    "duration": 30,
    "start_time": "2023-06-15T23:43:22.911Z"
   },
   {
    "duration": 24,
    "start_time": "2023-06-15T23:43:22.942Z"
   },
   {
    "duration": 12,
    "start_time": "2023-06-15T23:43:22.968Z"
   },
   {
    "duration": 15,
    "start_time": "2023-06-15T23:43:22.982Z"
   },
   {
    "duration": 7,
    "start_time": "2023-06-15T23:43:22.998Z"
   },
   {
    "duration": 8,
    "start_time": "2023-06-15T23:43:23.006Z"
   },
   {
    "duration": 20,
    "start_time": "2023-06-15T23:43:23.016Z"
   },
   {
    "duration": 6,
    "start_time": "2023-06-15T23:43:23.038Z"
   },
   {
    "duration": 11,
    "start_time": "2023-06-15T23:43:23.046Z"
   },
   {
    "duration": 27,
    "start_time": "2023-06-15T23:43:23.058Z"
   },
   {
    "duration": 1289,
    "start_time": "2023-06-15T23:43:23.087Z"
   },
   {
    "duration": 86,
    "start_time": "2023-06-15T23:43:24.379Z"
   },
   {
    "duration": 1714,
    "start_time": "2023-06-15T23:43:24.468Z"
   },
   {
    "duration": 19,
    "start_time": "2023-06-15T23:43:26.184Z"
   },
   {
    "duration": 129,
    "start_time": "2023-06-15T23:43:26.204Z"
   },
   {
    "duration": 0,
    "start_time": "2023-06-15T23:43:26.335Z"
   },
   {
    "duration": 25,
    "start_time": "2023-06-15T23:43:54.548Z"
   },
   {
    "duration": 18,
    "start_time": "2023-06-15T23:44:17.870Z"
   },
   {
    "duration": 72,
    "start_time": "2023-06-15T23:44:23.263Z"
   },
   {
    "duration": 68,
    "start_time": "2023-06-15T23:45:48.237Z"
   },
   {
    "duration": 33,
    "start_time": "2023-06-15T23:47:50.139Z"
   },
   {
    "duration": 1404,
    "start_time": "2023-06-15T23:50:50.789Z"
   },
   {
    "duration": 30,
    "start_time": "2023-06-15T23:50:52.195Z"
   },
   {
    "duration": 13,
    "start_time": "2023-06-15T23:50:52.227Z"
   },
   {
    "duration": 43,
    "start_time": "2023-06-15T23:50:52.242Z"
   },
   {
    "duration": 34,
    "start_time": "2023-06-15T23:50:52.288Z"
   },
   {
    "duration": 13,
    "start_time": "2023-06-15T23:50:52.324Z"
   },
   {
    "duration": 14,
    "start_time": "2023-06-15T23:50:52.339Z"
   },
   {
    "duration": 30,
    "start_time": "2023-06-15T23:50:52.354Z"
   },
   {
    "duration": 15,
    "start_time": "2023-06-15T23:50:52.385Z"
   },
   {
    "duration": 7,
    "start_time": "2023-06-15T23:50:52.401Z"
   },
   {
    "duration": 10,
    "start_time": "2023-06-15T23:50:52.409Z"
   },
   {
    "duration": 1631,
    "start_time": "2023-06-15T23:50:52.421Z"
   },
   {
    "duration": 5,
    "start_time": "2023-06-15T23:50:54.054Z"
   },
   {
    "duration": 1564,
    "start_time": "2023-06-15T23:50:54.062Z"
   },
   {
    "duration": 40,
    "start_time": "2023-06-15T23:50:55.627Z"
   },
   {
    "duration": 72,
    "start_time": "2023-06-15T23:50:55.668Z"
   },
   {
    "duration": 34,
    "start_time": "2023-06-15T23:50:55.742Z"
   },
   {
    "duration": 5,
    "start_time": "2023-06-15T23:50:55.778Z"
   },
   {
    "duration": 6,
    "start_time": "2023-06-16T00:01:33.471Z"
   },
   {
    "duration": 1481,
    "start_time": "2023-06-16T00:06:09.174Z"
   },
   {
    "duration": 229,
    "start_time": "2023-06-16T00:10:00.482Z"
   },
   {
    "duration": 1799,
    "start_time": "2023-06-16T00:10:12.163Z"
   },
   {
    "duration": 3478,
    "start_time": "2023-06-16T00:14:21.784Z"
   },
   {
    "duration": 1832,
    "start_time": "2023-06-16T00:14:25.265Z"
   },
   {
    "duration": 91,
    "start_time": "2023-06-16T00:14:27.099Z"
   },
   {
    "duration": 42,
    "start_time": "2023-06-16T00:15:26.531Z"
   },
   {
    "duration": 1459,
    "start_time": "2023-06-16T00:31:07.078Z"
   },
   {
    "duration": 41,
    "start_time": "2023-06-16T00:31:08.539Z"
   },
   {
    "duration": 16,
    "start_time": "2023-06-16T00:31:08.582Z"
   },
   {
    "duration": 13,
    "start_time": "2023-06-16T00:31:08.600Z"
   },
   {
    "duration": 16,
    "start_time": "2023-06-16T00:31:08.615Z"
   },
   {
    "duration": 10,
    "start_time": "2023-06-16T00:31:08.633Z"
   },
   {
    "duration": 20,
    "start_time": "2023-06-16T00:31:08.645Z"
   },
   {
    "duration": 10,
    "start_time": "2023-06-16T00:31:08.667Z"
   },
   {
    "duration": 5,
    "start_time": "2023-06-16T00:31:08.679Z"
   },
   {
    "duration": 5,
    "start_time": "2023-06-16T00:31:08.687Z"
   },
   {
    "duration": 13,
    "start_time": "2023-06-16T00:31:08.694Z"
   },
   {
    "duration": 867,
    "start_time": "2023-06-16T00:31:08.709Z"
   },
   {
    "duration": 6972,
    "start_time": "2023-06-16T06:16:43.610Z"
   },
   {
    "duration": 278,
    "start_time": "2023-06-16T06:16:50.588Z"
   },
   {
    "duration": 34,
    "start_time": "2023-06-16T06:16:50.870Z"
   },
   {
    "duration": 49,
    "start_time": "2023-06-16T06:16:50.912Z"
   },
   {
    "duration": 85,
    "start_time": "2023-06-16T06:16:50.971Z"
   },
   {
    "duration": 89,
    "start_time": "2023-06-16T06:16:51.068Z"
   },
   {
    "duration": 66,
    "start_time": "2023-06-16T06:16:51.167Z"
   },
   {
    "duration": 27,
    "start_time": "2023-06-16T06:16:51.235Z"
   },
   {
    "duration": 31,
    "start_time": "2023-06-16T06:16:51.264Z"
   },
   {
    "duration": 94,
    "start_time": "2023-06-16T06:16:51.297Z"
   },
   {
    "duration": 51,
    "start_time": "2023-06-16T06:16:51.396Z"
   },
   {
    "duration": 3074,
    "start_time": "2023-06-16T06:16:51.451Z"
   },
   {
    "duration": 2236,
    "start_time": "2023-06-16T06:16:54.538Z"
   },
   {
    "duration": 139,
    "start_time": "2023-06-16T06:16:56.783Z"
   },
   {
    "duration": 180,
    "start_time": "2023-06-16T06:16:56.937Z"
   },
   {
    "duration": 262,
    "start_time": "2023-06-16T06:16:57.123Z"
   },
   {
    "duration": 1563,
    "start_time": "2023-06-16T23:16:13.836Z"
   },
   {
    "duration": 113,
    "start_time": "2023-06-16T23:16:15.402Z"
   },
   {
    "duration": 13,
    "start_time": "2023-06-16T23:16:15.517Z"
   },
   {
    "duration": 10,
    "start_time": "2023-06-16T23:16:15.711Z"
   },
   {
    "duration": 12,
    "start_time": "2023-06-16T23:16:16.395Z"
   },
   {
    "duration": 4,
    "start_time": "2023-06-16T23:16:17.430Z"
   },
   {
    "duration": 3,
    "start_time": "2023-06-16T23:16:18.038Z"
   },
   {
    "duration": 6,
    "start_time": "2023-06-16T23:16:18.856Z"
   },
   {
    "duration": 5,
    "start_time": "2023-06-16T23:16:19.746Z"
   },
   {
    "duration": 3,
    "start_time": "2023-06-16T23:16:19.954Z"
   },
   {
    "duration": 7,
    "start_time": "2023-06-16T23:16:20.367Z"
   },
   {
    "duration": 713,
    "start_time": "2023-06-16T23:16:22.526Z"
   },
   {
    "duration": 1328,
    "start_time": "2023-06-16T23:16:27.961Z"
   },
   {
    "duration": 64,
    "start_time": "2023-06-16T23:16:34.424Z"
   },
   {
    "duration": 30,
    "start_time": "2023-06-16T23:16:55.904Z"
   },
   {
    "duration": 5,
    "start_time": "2023-06-16T23:17:10.480Z"
   }
  ],
  "kernelspec": {
   "display_name": "Python 3 (ipykernel)",
   "language": "python",
   "name": "python3"
  },
  "language_info": {
   "codemirror_mode": {
    "name": "ipython",
    "version": 3
   },
   "file_extension": ".py",
   "mimetype": "text/x-python",
   "name": "python",
   "nbconvert_exporter": "python",
   "pygments_lexer": "ipython3",
   "version": "3.10.9"
  },
  "toc": {
   "base_numbering": 1,
   "nav_menu": {},
   "number_sections": true,
   "sideBar": true,
   "skip_h1_title": true,
   "title_cell": "Table of Contents",
   "title_sidebar": "Contents",
   "toc_cell": false,
   "toc_position": {},
   "toc_section_display": true,
   "toc_window_display": false
  }
 },
 "nbformat": 4,
 "nbformat_minor": 2
}
