{
 "cells": [
  {
   "cell_type": "markdown",
   "metadata": {},
   "source": [
    "# Выбор локации для скважины"
   ]
  },
  {
   "cell_type": "markdown",
   "metadata": {},
   "source": [
    "Допустим, вы работаете в добывающей компании «ГлавРосГосНефть». Нужно решить, где бурить новую скважину.\n",
    "\n",
    "Вам предоставлены пробы нефти в трёх регионах: в каждом 10 000 месторождений, где измерили качество нефти и объём её запасов. Постройте модель машинного обучения, которая поможет определить регион, где добыча принесёт наибольшую прибыль. Проанализируйте возможную прибыль и риски техникой *Bootstrap.*\n",
    "\n",
    "Шаги для выбора локации:\n",
    "\n",
    "- В избранном регионе ищут месторождения, для каждого определяют значения признаков;\n",
    "- Строят модель и оценивают объём запасов;\n",
    "- Выбирают месторождения с самым высокими оценками значений. Количество месторождений зависит от бюджета компании и стоимости разработки одной скважины;\n",
    "- Прибыль равна суммарной прибыли отобранных месторождений."
   ]
  },
  {
   "cell_type": "markdown",
   "metadata": {},
   "source": [
    "## Загрузка и подготовка данных"
   ]
  },
  {
   "cell_type": "code",
   "execution_count": 1,
   "metadata": {},
   "outputs": [],
   "source": [
    "import pandas as pd\n",
    "import numpy as np\n",
    "from scipy import stats as st\n",
    "from sklearn.metrics import mean_squared_error, accuracy_score\n",
    "from sklearn.model_selection import train_test_split\n",
    "from sklearn.linear_model import LinearRegression"
   ]
  },
  {
   "cell_type": "markdown",
   "metadata": {},
   "source": [
    "Дадим кодовые названия регионам: Альфа, Браво и Чарли"
   ]
  },
  {
   "cell_type": "code",
   "execution_count": 2,
   "metadata": {},
   "outputs": [],
   "source": [
    "try:\n",
    "    alpha = pd.read_csv('/datasets/geo_data_0.csv')\n",
    "    bravo = pd.read_csv('/datasets/geo_data_1.csv')  \n",
    "    charlie = pd.read_csv('/datasets/geo_data_2.csv')\n",
    "except FileNotFoundError:\n",
    "    alpha = pd.read_csv(r'C:\\Users\\ASUS\\Desktop\\Практикум\\Data\\geo_data_0.csv')\n",
    "    bravo = pd.read_csv(r'C:\\Users\\ASUS\\Desktop\\Практикум\\Data\\geo_data_1.csv')  \n",
    "    charlie = pd.read_csv(r'C:\\Users\\ASUS\\Desktop\\Практикум\\Data\\geo_data_2.csv')"
   ]
  },
  {
   "cell_type": "code",
   "execution_count": 3,
   "metadata": {},
   "outputs": [
    {
     "name": "stdout",
     "output_type": "stream",
     "text": [
      "      id        f0        f1        f2     product\n",
      "0  txEyH  0.705745 -0.497823  1.221170  105.280062\n",
      "1  2acmU  1.334711 -0.340164  4.365080   73.037750\n",
      "2  409Wp  1.022732  0.151990  1.419926   85.265647\n",
      "3  iJLyR -0.032172  0.139033  2.978566  168.620776\n",
      "4  Xdl7t  1.988431  0.155413  4.751769  154.036647\n",
      "\n",
      "      id         f0         f1        f2     product\n",
      "0  kBEdx -15.001348  -8.276000 -0.005876    3.179103\n",
      "1  62mP7  14.272088  -3.475083  0.999183   26.953261\n",
      "2  vyE1P   6.263187  -5.948386  5.001160  134.766305\n",
      "3  KcrkZ -13.081196 -11.506057  4.999415  137.945408\n",
      "4  AHL4O  12.702195  -8.147433  5.004363  134.766305\n",
      "\n",
      "      id        f0        f1        f2     product\n",
      "0  fwXo0 -1.146987  0.963328 -0.828965   27.758673\n",
      "1  WJtFt  0.262778  0.269839 -2.530187   56.069697\n",
      "2  ovLUW  0.194587  0.289035 -5.586433   62.871910\n",
      "3  q6cA6  2.236060 -0.553760  0.930038  114.572842\n",
      "4  WPMUX -0.515993  1.716266  5.899011  149.600746\n",
      "\n"
     ]
    }
   ],
   "source": [
    "for data in [alpha, bravo, charlie]: \n",
    "    print(data.head(), end='\\n\\n')"
   ]
  },
  {
   "cell_type": "code",
   "execution_count": 4,
   "metadata": {},
   "outputs": [
    {
     "name": "stdout",
     "output_type": "stream",
     "text": [
      "Количество дубликатов:  0\n",
      "\n",
      "Количество дубликатов:  0\n",
      "\n",
      "Количество дубликатов:  0\n",
      "\n"
     ]
    }
   ],
   "source": [
    "for data in [alpha, bravo, charlie]: \n",
    "    print('Количество дубликатов: ',data.duplicated().sum(), end='\\n\\n')"
   ]
  },
  {
   "cell_type": "code",
   "execution_count": 5,
   "metadata": {},
   "outputs": [
    {
     "name": "stdout",
     "output_type": "stream",
     "text": [
      "Количество дубликатов по регионам:  10\n",
      "\n",
      "Количество дубликатов по регионам:  4\n",
      "\n",
      "Количество дубликатов по регионам:  4\n",
      "\n"
     ]
    }
   ],
   "source": [
    "for data in [alpha, bravo, charlie]: \n",
    "    print('Количество дубликатов по регионам: ',data['id'].duplicated().sum(), end='\\n\\n')"
   ]
  },
  {
   "cell_type": "code",
   "execution_count": 6,
   "metadata": {},
   "outputs": [],
   "source": [
    "for data in [alpha, bravo, charlie]: \n",
    "    data.drop(data.query('id.duplicated()==True').index, inplace=True)"
   ]
  },
  {
   "cell_type": "markdown",
   "metadata": {},
   "source": [
    "Избавимся от столбца \"id\" так как он не влияет на данные "
   ]
  },
  {
   "cell_type": "code",
   "execution_count": 7,
   "metadata": {},
   "outputs": [],
   "source": [
    "for data in [alpha, bravo, charlie]: \n",
    "    data = data.drop(['id'], axis=1,inplace = True)"
   ]
  },
  {
   "cell_type": "markdown",
   "metadata": {},
   "source": [
    "Вывод \n",
    "* Открыты и изученны данные \n",
    "* Данны кодовые названия регионам \"Альфа\", \"Браво\" и \"Чарли\"\n",
    "* Удаленны дубликаты\n",
    "* Удаленн столбец с идентификатором скважины"
   ]
  },
  {
   "cell_type": "markdown",
   "metadata": {},
   "source": [
    "## Обучение и проверка модели"
   ]
  },
  {
   "cell_type": "code",
   "execution_count": 8,
   "metadata": {},
   "outputs": [],
   "source": [
    "model = LinearRegression() "
   ]
  },
  {
   "cell_type": "code",
   "execution_count": 9,
   "metadata": {},
   "outputs": [],
   "source": [
    "def model_n (data):\n",
    "    features = data.drop(['product'], axis = 1)\n",
    "    target = data['product']\n",
    "    features_train, features_valid, target_train, target_valid = train_test_split(features, target, test_size=0.25, random_state=12345)\n",
    "    model.fit(features_train, target_train)\n",
    "    return pd.Series(model.predict(features_valid)), target_valid"
   ]
  },
  {
   "cell_type": "code",
   "execution_count": 10,
   "metadata": {},
   "outputs": [],
   "source": [
    "predicted_a, target_a = model_n(alpha)"
   ]
  },
  {
   "cell_type": "code",
   "execution_count": 11,
   "metadata": {},
   "outputs": [],
   "source": [
    "predicted_b, target_b = model_n(bravo)"
   ]
  },
  {
   "cell_type": "code",
   "execution_count": 12,
   "metadata": {},
   "outputs": [],
   "source": [
    "predicted_c, target_c = model_n(charlie)"
   ]
  },
  {
   "cell_type": "code",
   "execution_count": 13,
   "metadata": {},
   "outputs": [],
   "source": [
    "def meanrmse (answers, predictions):\n",
    "    mse = mean_squared_error(answers, predictions)\n",
    "    print('Cредний запас предсказанного сырья, тыс. барр:', predictions.mean())\n",
    "    print('RMSE:', mse ** 0.5)"
   ]
  },
  {
   "cell_type": "code",
   "execution_count": 14,
   "metadata": {},
   "outputs": [
    {
     "name": "stdout",
     "output_type": "stream",
     "text": [
      "Регион \"Альфа\"\n",
      "Cредний запас предсказанного сырья, тыс. барр: 92.78915638280621\n",
      "RMSE: 37.853527328872964\n",
      "\n",
      " Регион \"Браво\"\n",
      "Cредний запас предсказанного сырья, тыс. барр: 69.1783195703043\n",
      "RMSE: 0.892059264771703\n",
      "\n",
      " Регион \"Чарли\"\n",
      "Cредний запас предсказанного сырья, тыс. барр: 94.86572480562035\n",
      "RMSE: 40.07585073246016\n"
     ]
    }
   ],
   "source": [
    "print('Регион \"Альфа\"')\n",
    "meanrmse(target_a, predicted_a)\n",
    "print('\\n','Регион \"Браво\"')\n",
    "meanrmse(target_b, predicted_b)\n",
    "print('\\n','Регион \"Чарли\"')\n",
    "meanrmse(target_c, predicted_c)"
   ]
  },
  {
   "cell_type": "markdown",
   "metadata": {},
   "source": [
    "* Данные каждого региона разделенны на обучающую и валидационную выборки.\n",
    "* Модель линейной регрессии обученна на тренировочных данных каждого региона.\n",
    "* Посчитали среднее количество предсказанных запасов в каждом регионе, и нашли корень из среднеквадратической ошибки:\n",
    "  * В регионе \"Альфа\". Средний запас предсказанного сырья: 92.592 тыс.баррелей, RMSE = 37.579.\n",
    "  * В регионе \"Браво\". Средний запас предсказанного сырья: 68.728 тыс.баррелей, RMSE = 0.893.\n",
    "  * В регионе \"Чарли\". Средний запас предсказанного сырья: 94.965 тыс.баррелей, RMSE = 40.029."
   ]
  },
  {
   "cell_type": "markdown",
   "metadata": {},
   "source": [
    "## Подготовка к расчёту прибыли"
   ]
  },
  {
   "cell_type": "code",
   "execution_count": 15,
   "metadata": {},
   "outputs": [],
   "source": [
    "budget = 10000000000 \n",
    "income_per_barrel = 450  \n",
    "income_per_unit = 450000 \n",
    "oil_rigs = 200"
   ]
  },
  {
   "cell_type": "code",
   "execution_count": 16,
   "metadata": {},
   "outputs": [],
   "source": [
    "budget_per_rig = budget/oil_rigs\n",
    "min_amount = budget/income_per_unit\n",
    "prod_per_rig = min_amount/200"
   ]
  },
  {
   "cell_type": "code",
   "execution_count": 17,
   "metadata": {},
   "outputs": [
    {
     "name": "stdout",
     "output_type": "stream",
     "text": [
      "Кол-во нефти необходимое для окупаемости разработки в регионе: 22222.2 тыс.барр.\n",
      "Кол-ва нефти необходимое для окупаемости разработки одной скважины из 200 в регионе: 111.11 тыс.барр.\n"
     ]
    }
   ],
   "source": [
    "print('Кол-во нефти необходимое для окупаемости разработки в регионе:',round(min_amount,1),'тыс.барр.')\n",
    "print('Кол-ва нефти необходимое для окупаемости разработки одной скважины из 200 в регионе:',round(prod_per_rig,2),'тыс.барр.')"
   ]
  },
  {
   "cell_type": "code",
   "execution_count": 18,
   "metadata": {},
   "outputs": [
    {
     "name": "stdout",
     "output_type": "stream",
     "text": [
      " Регион \"Альфа\" имеет средний запас нефти по скважине: 92.15820490940044\n",
      "\n",
      " Регион \"Браво\" имеет средний запас нефти по скважине: 69.18604400957675\n",
      "\n",
      " Регион \"Чарли\" имеет средний запас нефти по скважине: 94.7851093536914\n"
     ]
    }
   ],
   "source": [
    "print(' Регион \"Альфа\" имеет средний запас нефти по скважине:', target_a.mean())\n",
    "print('\\n','Регион \"Браво\" имеет средний запас нефти по скважине:',target_b.mean())\n",
    "print('\\n','Регион \"Чарли\" имеет средний запас нефти по скважине:',target_c.mean())"
   ]
  },
  {
   "cell_type": "markdown",
   "metadata": {},
   "source": [
    "Вывод \n",
    "* Для окупаемости разработки в регионе необходимый запас нефти равен 22222 тыс.барр.\n",
    "* Для окупаемости разработки одной скважины необходимый запас нефти равен 111.11 тыс.барр.\n",
    "* Средний запас нефти в скважинаж во всех регионов не дотягивает до окупаемости, это значит что случайно выбрать скважину не выйдет"
   ]
  },
  {
   "cell_type": "markdown",
   "metadata": {},
   "source": [
    "## Расчёт прибыли и рисков "
   ]
  },
  {
   "cell_type": "code",
   "execution_count": 19,
   "metadata": {},
   "outputs": [],
   "source": [
    "def rev(target, probabilities):\n",
    "    target = pd.Series(target).reset_index(drop=True)\n",
    "    probabilities = pd.Series(probabilities).reset_index(drop=True)\n",
    "    probs_sorted = probabilities.sort_values(ascending=False)\n",
    "    selected = target[probs_sorted.index][:oil_rigs]\n",
    "    return ((income_per_unit * selected.sum()) - budget)"
   ]
  },
  {
   "cell_type": "code",
   "execution_count": 20,
   "metadata": {},
   "outputs": [
    {
     "data": {
      "text/plain": [
       "3365187237.700287"
      ]
     },
     "execution_count": 20,
     "metadata": {},
     "output_type": "execute_result"
    }
   ],
   "source": [
    "rev(target_a, predicted_a)"
   ]
  },
  {
   "cell_type": "code",
   "execution_count": 21,
   "metadata": {},
   "outputs": [
    {
     "data": {
      "text/plain": [
       "2415086696.681511"
      ]
     },
     "execution_count": 21,
     "metadata": {},
     "output_type": "execute_result"
    }
   ],
   "source": [
    "rev(target_b, predicted_b)"
   ]
  },
  {
   "cell_type": "code",
   "execution_count": 22,
   "metadata": {},
   "outputs": [
    {
     "data": {
      "text/plain": [
       "2501283853.2820625"
      ]
     },
     "execution_count": 22,
     "metadata": {},
     "output_type": "execute_result"
    }
   ],
   "source": [
    "rev(target_c, predicted_c)"
   ]
  },
  {
   "cell_type": "code",
   "execution_count": 23,
   "metadata": {},
   "outputs": [],
   "source": [
    "state = np.random.RandomState(12345)\n",
    "def bs (target, predictions):\n",
    "    values = []\n",
    "    for i in range(1000):\n",
    "        target_subsample = target.reset_index(drop=True).sample(n=500, replace=True, random_state=state)\n",
    "        probs_subsample = predictions[target_subsample.index]\n",
    "        revenue = rev(target_subsample, probs_subsample)\n",
    "        values.append(revenue)\n",
    "\n",
    "    values = pd.Series(values)\n",
    "    lower = values.quantile(0.025)\n",
    "    upper = values.quantile(0.975)\n",
    "    quantile_interval = (lower, upper)\n",
    "    conf_int = st.t.interval(0.975, len(values)-1, values.mean(), values.sem())\n",
    "    mean = values.mean()\n",
    "\n",
    "    print(\"Средняя выручка:\", mean)\n",
    "    print(\"2.5%-квантиль:\", lower)\n",
    "    print(\"Доверительный интервал:\", conf_int)\n",
    "    print(\"Доверительный интервал распределения прибыли:\",quantile_interval)\n",
    "    print(\"Риски убытка:\", (values < 0).mean())"
   ]
  },
  {
   "cell_type": "code",
   "execution_count": 24,
   "metadata": {},
   "outputs": [
    {
     "name": "stdout",
     "output_type": "stream",
     "text": [
      "Средняя выручка: 380613470.0175977\n",
      "2.5%-квантиль: -142942739.74041605\n",
      "Доверительный интервал: (362250091.5904023, 398976848.44479305)\n",
      "Доверительный интервал распределения прибыли: (-142942739.74041605, 890976833.8485551)\n",
      "Риски убытка: 0.077\n"
     ]
    }
   ],
   "source": [
    "bs(target_a, predicted_a)"
   ]
  },
  {
   "cell_type": "code",
   "execution_count": 25,
   "metadata": {},
   "outputs": [
    {
     "name": "stdout",
     "output_type": "stream",
     "text": [
      "Средняя выручка: 479159869.981588\n",
      "2.5%-квантиль: 73849212.0224793\n",
      "Доверительный интервал: (464568457.3735609, 493751282.5896151)\n",
      "Доверительный интервал распределения прибыли: (73849212.0224793, 917953817.7221825)\n",
      "Риски убытка: 0.006\n"
     ]
    }
   ],
   "source": [
    "bs(target_b, predicted_b)"
   ]
  },
  {
   "cell_type": "code",
   "execution_count": 26,
   "metadata": {},
   "outputs": [
    {
     "name": "stdout",
     "output_type": "stream",
     "text": [
      "Средняя выручка: 315441916.0234899\n",
      "2.5%-квантиль: -216265050.0341763\n",
      "Доверительный интервал: (296402795.5028957, 334481036.54408413)\n",
      "Доверительный интервал распределения прибыли: (-216265050.0341763, 811060708.2365634)\n",
      "Риски убытка: 0.124\n"
     ]
    }
   ],
   "source": [
    "bs(target_c, predicted_c)"
   ]
  },
  {
   "cell_type": "markdown",
   "metadata": {},
   "source": [
    "Вывод \n",
    "\n",
    "    Проведены расчеты прибыли нефтедобычи в регионах  \"Альфа\", \"Браво\" и \"Чарли\", были оценнены риски убытков в регионах.\n",
    "    По полученным результатам регион \"Браво\" является максимально выгодным для разработки нефти .\n",
    "    Регион \"Браво\" имеет наименьшие риски 0.6% и наивысшую среднюю выручку 479159869.981588"
   ]
  }
 ],
 "metadata": {
  "ExecuteTimeLog": [
   {
    "duration": 43,
    "start_time": "2023-08-06T01:16:42.412Z"
   },
   {
    "duration": 1459,
    "start_time": "2023-08-06T01:16:46.329Z"
   },
   {
    "duration": 891,
    "start_time": "2023-08-06T01:16:47.790Z"
   },
   {
    "duration": 16,
    "start_time": "2023-08-06T01:16:48.683Z"
   },
   {
    "duration": 9,
    "start_time": "2023-08-06T01:17:08.075Z"
   },
   {
    "duration": 8,
    "start_time": "2023-08-06T01:17:30.915Z"
   },
   {
    "duration": 76,
    "start_time": "2023-08-06T01:18:44.331Z"
   },
   {
    "duration": 12,
    "start_time": "2023-08-06T01:19:06.143Z"
   },
   {
    "duration": 17,
    "start_time": "2023-08-06T01:25:40.196Z"
   },
   {
    "duration": 109,
    "start_time": "2023-08-06T01:26:21.011Z"
   },
   {
    "duration": 122,
    "start_time": "2023-08-06T01:26:57.896Z"
   },
   {
    "duration": 10,
    "start_time": "2023-08-06T01:35:40.667Z"
   },
   {
    "duration": 11,
    "start_time": "2023-08-06T01:35:57.412Z"
   },
   {
    "duration": 7,
    "start_time": "2023-08-06T01:36:08.096Z"
   },
   {
    "duration": 11,
    "start_time": "2023-08-06T01:36:09.482Z"
   },
   {
    "duration": 6,
    "start_time": "2023-08-06T01:36:32.275Z"
   },
   {
    "duration": 12,
    "start_time": "2023-08-06T01:36:33.373Z"
   },
   {
    "duration": 7,
    "start_time": "2023-08-06T01:36:56.799Z"
   },
   {
    "duration": 12,
    "start_time": "2023-08-06T01:36:57.945Z"
   },
   {
    "duration": 11,
    "start_time": "2023-08-06T01:37:23.349Z"
   },
   {
    "duration": 12,
    "start_time": "2023-08-06T01:37:24.106Z"
   },
   {
    "duration": 15,
    "start_time": "2023-08-06T01:37:31.920Z"
   },
   {
    "duration": 20,
    "start_time": "2023-08-06T01:37:47.859Z"
   },
   {
    "duration": 1418,
    "start_time": "2023-08-06T01:38:12.156Z"
   },
   {
    "duration": 391,
    "start_time": "2023-08-06T01:38:13.576Z"
   },
   {
    "duration": 14,
    "start_time": "2023-08-06T01:38:13.969Z"
   },
   {
    "duration": 137,
    "start_time": "2023-08-06T01:38:13.986Z"
   },
   {
    "duration": 15,
    "start_time": "2023-08-06T01:38:14.125Z"
   },
   {
    "duration": 25,
    "start_time": "2023-08-06T01:38:14.142Z"
   },
   {
    "duration": 89,
    "start_time": "2023-08-06T01:39:53.823Z"
   },
   {
    "duration": 82,
    "start_time": "2023-08-06T01:40:03.815Z"
   },
   {
    "duration": 78,
    "start_time": "2023-08-06T01:40:19.737Z"
   },
   {
    "duration": 211,
    "start_time": "2023-08-06T01:40:29.288Z"
   },
   {
    "duration": 1407,
    "start_time": "2023-08-06T01:52:22.102Z"
   },
   {
    "duration": 391,
    "start_time": "2023-08-06T01:52:23.511Z"
   },
   {
    "duration": 13,
    "start_time": "2023-08-06T01:52:23.904Z"
   },
   {
    "duration": 199,
    "start_time": "2023-08-06T01:52:23.919Z"
   },
   {
    "duration": 16,
    "start_time": "2023-08-06T01:52:24.119Z"
   },
   {
    "duration": 41,
    "start_time": "2023-08-06T01:52:24.136Z"
   },
   {
    "duration": 17,
    "start_time": "2023-08-06T01:52:24.179Z"
   },
   {
    "duration": 9,
    "start_time": "2023-08-06T01:52:24.197Z"
   },
   {
    "duration": 14,
    "start_time": "2023-08-06T01:52:24.208Z"
   },
   {
    "duration": 241,
    "start_time": "2023-08-06T02:01:52.096Z"
   },
   {
    "duration": 3,
    "start_time": "2023-08-06T02:06:07.696Z"
   },
   {
    "duration": 10,
    "start_time": "2023-08-06T02:11:30.057Z"
   },
   {
    "duration": 3,
    "start_time": "2023-08-06T02:11:42.996Z"
   },
   {
    "duration": 10,
    "start_time": "2023-08-06T02:12:31.495Z"
   },
   {
    "duration": 3,
    "start_time": "2023-08-06T02:12:34.748Z"
   },
   {
    "duration": 10,
    "start_time": "2023-08-06T02:12:35.893Z"
   },
   {
    "duration": 10,
    "start_time": "2023-08-06T02:13:58.642Z"
   },
   {
    "duration": 1491,
    "start_time": "2023-08-06T02:14:08.284Z"
   },
   {
    "duration": 396,
    "start_time": "2023-08-06T02:14:09.777Z"
   },
   {
    "duration": 14,
    "start_time": "2023-08-06T02:14:10.174Z"
   },
   {
    "duration": 135,
    "start_time": "2023-08-06T02:14:10.189Z"
   },
   {
    "duration": 17,
    "start_time": "2023-08-06T02:14:10.327Z"
   },
   {
    "duration": 7,
    "start_time": "2023-08-06T02:14:10.345Z"
   },
   {
    "duration": 7,
    "start_time": "2023-08-06T02:14:10.354Z"
   },
   {
    "duration": 47,
    "start_time": "2023-08-06T02:14:10.363Z"
   },
   {
    "duration": 194,
    "start_time": "2023-08-06T02:14:10.412Z"
   },
   {
    "duration": 196,
    "start_time": "2023-08-06T02:14:10.609Z"
   },
   {
    "duration": 4,
    "start_time": "2023-08-06T02:14:10.807Z"
   },
   {
    "duration": 110,
    "start_time": "2023-08-06T02:14:10.896Z"
   },
   {
    "duration": 13,
    "start_time": "2023-08-06T02:14:11.007Z"
   },
   {
    "duration": 11,
    "start_time": "2023-08-06T02:14:11.022Z"
   },
   {
    "duration": 5,
    "start_time": "2023-08-06T02:15:36.228Z"
   },
   {
    "duration": 6,
    "start_time": "2023-08-06T02:15:42.672Z"
   },
   {
    "duration": 115,
    "start_time": "2023-08-06T03:03:08.666Z"
   },
   {
    "duration": 9,
    "start_time": "2023-08-06T03:03:15.678Z"
   },
   {
    "duration": 4,
    "start_time": "2023-08-06T03:03:18.455Z"
   },
   {
    "duration": 3,
    "start_time": "2023-08-06T03:03:20.676Z"
   },
   {
    "duration": 14,
    "start_time": "2023-08-06T03:03:20.681Z"
   },
   {
    "duration": 5,
    "start_time": "2023-08-06T03:04:56.314Z"
   },
   {
    "duration": 5,
    "start_time": "2023-08-06T03:08:51.632Z"
   },
   {
    "duration": 9,
    "start_time": "2023-08-06T03:14:42.369Z"
   },
   {
    "duration": 3,
    "start_time": "2023-08-06T03:14:45.259Z"
   },
   {
    "duration": 3,
    "start_time": "2023-08-06T03:14:45.573Z"
   },
   {
    "duration": 5,
    "start_time": "2023-08-06T03:14:45.861Z"
   },
   {
    "duration": 12,
    "start_time": "2023-08-06T03:14:50.241Z"
   },
   {
    "duration": 5,
    "start_time": "2023-08-06T03:18:10.642Z"
   },
   {
    "duration": 5,
    "start_time": "2023-08-06T03:18:11.924Z"
   },
   {
    "duration": 4,
    "start_time": "2023-08-06T03:19:43.491Z"
   },
   {
    "duration": 4,
    "start_time": "2023-08-06T03:20:07.192Z"
   },
   {
    "duration": 4,
    "start_time": "2023-08-06T03:21:29.270Z"
   },
   {
    "duration": 87,
    "start_time": "2023-08-06T03:46:35.924Z"
   },
   {
    "duration": 3,
    "start_time": "2023-08-06T03:46:44.026Z"
   },
   {
    "duration": 10,
    "start_time": "2023-08-06T03:47:21.894Z"
   },
   {
    "duration": 4,
    "start_time": "2023-08-06T03:47:47.851Z"
   },
   {
    "duration": 8,
    "start_time": "2023-08-06T03:47:49.326Z"
   },
   {
    "duration": 3,
    "start_time": "2023-08-06T03:48:07.975Z"
   },
   {
    "duration": 9,
    "start_time": "2023-08-06T03:48:09.819Z"
   },
   {
    "duration": 4,
    "start_time": "2023-08-06T03:49:47.891Z"
   },
   {
    "duration": 9,
    "start_time": "2023-08-06T03:49:48.607Z"
   },
   {
    "duration": 10,
    "start_time": "2023-08-06T03:49:50.203Z"
   },
   {
    "duration": 10,
    "start_time": "2023-08-06T03:49:50.922Z"
   },
   {
    "duration": 5,
    "start_time": "2023-08-06T03:53:55.602Z"
   },
   {
    "duration": 5,
    "start_time": "2023-08-06T03:54:01.087Z"
   },
   {
    "duration": 6,
    "start_time": "2023-08-06T03:55:25.252Z"
   },
   {
    "duration": 1372,
    "start_time": "2023-08-06T03:55:25.780Z"
   },
   {
    "duration": 5,
    "start_time": "2023-08-06T03:56:06.920Z"
   },
   {
    "duration": 1317,
    "start_time": "2023-08-06T03:56:07.686Z"
   },
   {
    "duration": 1196,
    "start_time": "2023-08-06T03:56:10.612Z"
   },
   {
    "duration": 1175,
    "start_time": "2023-08-06T03:56:12.840Z"
   },
   {
    "duration": 3,
    "start_time": "2023-08-06T04:05:02.915Z"
   },
   {
    "duration": 18,
    "start_time": "2023-08-06T04:07:26.409Z"
   },
   {
    "duration": 3146,
    "start_time": "2023-08-06T04:10:02.569Z"
   },
   {
    "duration": 382,
    "start_time": "2023-08-06T04:10:05.718Z"
   },
   {
    "duration": 12,
    "start_time": "2023-08-06T04:10:06.102Z"
   },
   {
    "duration": 138,
    "start_time": "2023-08-06T04:10:06.116Z"
   },
   {
    "duration": 15,
    "start_time": "2023-08-06T04:10:06.256Z"
   },
   {
    "duration": 30,
    "start_time": "2023-08-06T04:10:06.273Z"
   },
   {
    "duration": 26,
    "start_time": "2023-08-06T04:10:06.306Z"
   },
   {
    "duration": 62,
    "start_time": "2023-08-06T04:10:06.334Z"
   },
   {
    "duration": 196,
    "start_time": "2023-08-06T04:10:06.399Z"
   },
   {
    "duration": 115,
    "start_time": "2023-08-06T04:10:06.597Z"
   },
   {
    "duration": 4,
    "start_time": "2023-08-06T04:10:06.715Z"
   },
   {
    "duration": 182,
    "start_time": "2023-08-06T04:10:06.720Z"
   },
   {
    "duration": 11,
    "start_time": "2023-08-06T04:10:06.904Z"
   },
   {
    "duration": 6,
    "start_time": "2023-08-06T04:10:06.917Z"
   },
   {
    "duration": 11,
    "start_time": "2023-08-06T04:10:06.924Z"
   },
   {
    "duration": 14,
    "start_time": "2023-08-06T04:10:06.937Z"
   },
   {
    "duration": 8,
    "start_time": "2023-08-06T04:10:06.952Z"
   },
   {
    "duration": 6,
    "start_time": "2023-08-06T04:10:06.962Z"
   },
   {
    "duration": 10,
    "start_time": "2023-08-06T04:10:06.969Z"
   },
   {
    "duration": 18,
    "start_time": "2023-08-06T04:10:06.980Z"
   },
   {
    "duration": 8,
    "start_time": "2023-08-06T04:10:07.000Z"
   },
   {
    "duration": 7,
    "start_time": "2023-08-06T04:10:07.010Z"
   },
   {
    "duration": 5,
    "start_time": "2023-08-06T04:10:07.019Z"
   },
   {
    "duration": 1323,
    "start_time": "2023-08-06T04:10:07.026Z"
   },
   {
    "duration": 1260,
    "start_time": "2023-08-06T04:10:08.352Z"
   },
   {
    "duration": 1273,
    "start_time": "2023-08-06T04:10:09.614Z"
   },
   {
    "duration": 5,
    "start_time": "2023-08-06T04:10:56.840Z"
   },
   {
    "duration": 4,
    "start_time": "2023-08-06T04:11:08.843Z"
   },
   {
    "duration": 8,
    "start_time": "2023-08-06T04:11:39.752Z"
   },
   {
    "duration": 8,
    "start_time": "2023-08-06T04:12:04.115Z"
   },
   {
    "duration": 9,
    "start_time": "2023-08-06T04:12:22.108Z"
   },
   {
    "duration": 8,
    "start_time": "2023-08-06T04:12:34.351Z"
   },
   {
    "duration": 99,
    "start_time": "2023-08-06T04:13:03.780Z"
   },
   {
    "duration": 11,
    "start_time": "2023-08-06T04:13:29.867Z"
   },
   {
    "duration": 11,
    "start_time": "2023-08-06T04:13:38.000Z"
   },
   {
    "duration": 9,
    "start_time": "2023-08-06T04:23:46.696Z"
   },
   {
    "duration": 6,
    "start_time": "2023-08-06T04:24:43.858Z"
   },
   {
    "duration": 6,
    "start_time": "2023-08-06T04:24:55.548Z"
   },
   {
    "duration": 5,
    "start_time": "2023-08-06T04:25:00.474Z"
   },
   {
    "duration": 6,
    "start_time": "2023-08-06T04:27:46.139Z"
   },
   {
    "duration": 1389,
    "start_time": "2023-08-06T04:27:46.588Z"
   },
   {
    "duration": 1342,
    "start_time": "2023-08-06T04:27:47.979Z"
   },
   {
    "duration": 1254,
    "start_time": "2023-08-06T04:27:49.323Z"
   },
   {
    "duration": 1068,
    "start_time": "2023-08-06T04:35:43.841Z"
   },
   {
    "duration": 391,
    "start_time": "2023-08-06T04:35:44.911Z"
   },
   {
    "duration": 13,
    "start_time": "2023-08-06T04:35:45.304Z"
   },
   {
    "duration": 159,
    "start_time": "2023-08-06T04:35:45.319Z"
   },
   {
    "duration": 21,
    "start_time": "2023-08-06T04:35:45.480Z"
   },
   {
    "duration": 14,
    "start_time": "2023-08-06T04:35:45.503Z"
   },
   {
    "duration": 14,
    "start_time": "2023-08-06T04:35:45.519Z"
   },
   {
    "duration": 54,
    "start_time": "2023-08-06T04:35:45.535Z"
   },
   {
    "duration": 204,
    "start_time": "2023-08-06T04:35:45.597Z"
   },
   {
    "duration": 199,
    "start_time": "2023-08-06T04:35:45.804Z"
   },
   {
    "duration": 5,
    "start_time": "2023-08-06T04:35:46.005Z"
   },
   {
    "duration": 110,
    "start_time": "2023-08-06T04:35:46.095Z"
   },
   {
    "duration": 3,
    "start_time": "2023-08-06T04:35:46.206Z"
   },
   {
    "duration": 15,
    "start_time": "2023-08-06T04:35:46.211Z"
   },
   {
    "duration": 13,
    "start_time": "2023-08-06T04:35:46.227Z"
   },
   {
    "duration": 9,
    "start_time": "2023-08-06T04:35:46.242Z"
   },
   {
    "duration": 17,
    "start_time": "2023-08-06T04:35:46.252Z"
   },
   {
    "duration": 15,
    "start_time": "2023-08-06T04:35:46.271Z"
   },
   {
    "duration": 32,
    "start_time": "2023-08-06T04:35:46.288Z"
   },
   {
    "duration": 19,
    "start_time": "2023-08-06T04:35:46.322Z"
   },
   {
    "duration": 33,
    "start_time": "2023-08-06T04:35:46.343Z"
   },
   {
    "duration": 18,
    "start_time": "2023-08-06T04:35:46.378Z"
   },
   {
    "duration": 1349,
    "start_time": "2023-08-06T04:35:46.398Z"
   },
   {
    "duration": 1232,
    "start_time": "2023-08-06T04:35:47.749Z"
   },
   {
    "duration": 1218,
    "start_time": "2023-08-06T04:35:48.983Z"
   },
   {
    "duration": 5,
    "start_time": "2023-08-06T04:37:17.680Z"
   },
   {
    "duration": 1304,
    "start_time": "2023-08-06T04:37:18.989Z"
   },
   {
    "duration": 1258,
    "start_time": "2023-08-06T04:37:24.771Z"
   },
   {
    "duration": 1209,
    "start_time": "2023-08-06T04:37:32.814Z"
   },
   {
    "duration": 1089,
    "start_time": "2023-08-06T04:37:51.598Z"
   },
   {
    "duration": 379,
    "start_time": "2023-08-06T04:37:52.689Z"
   },
   {
    "duration": 12,
    "start_time": "2023-08-06T04:37:53.070Z"
   },
   {
    "duration": 122,
    "start_time": "2023-08-06T04:37:53.084Z"
   },
   {
    "duration": 17,
    "start_time": "2023-08-06T04:37:53.209Z"
   },
   {
    "duration": 12,
    "start_time": "2023-08-06T04:37:53.227Z"
   },
   {
    "duration": 8,
    "start_time": "2023-08-06T04:37:53.241Z"
   },
   {
    "duration": 44,
    "start_time": "2023-08-06T04:37:53.251Z"
   },
   {
    "duration": 203,
    "start_time": "2023-08-06T04:37:53.297Z"
   },
   {
    "duration": 203,
    "start_time": "2023-08-06T04:37:53.502Z"
   },
   {
    "duration": 89,
    "start_time": "2023-08-06T04:37:53.708Z"
   },
   {
    "duration": 107,
    "start_time": "2023-08-06T04:37:53.799Z"
   },
   {
    "duration": 4,
    "start_time": "2023-08-06T04:37:53.907Z"
   },
   {
    "duration": 9,
    "start_time": "2023-08-06T04:37:53.913Z"
   },
   {
    "duration": 6,
    "start_time": "2023-08-06T04:37:53.923Z"
   },
   {
    "duration": 10,
    "start_time": "2023-08-06T04:37:53.931Z"
   },
   {
    "duration": 7,
    "start_time": "2023-08-06T04:37:53.942Z"
   },
   {
    "duration": 6,
    "start_time": "2023-08-06T04:37:53.950Z"
   },
   {
    "duration": 14,
    "start_time": "2023-08-06T04:37:53.957Z"
   },
   {
    "duration": 8,
    "start_time": "2023-08-06T04:37:53.972Z"
   },
   {
    "duration": 20,
    "start_time": "2023-08-06T04:37:53.981Z"
   },
   {
    "duration": 5,
    "start_time": "2023-08-06T04:37:54.002Z"
   },
   {
    "duration": 1207,
    "start_time": "2023-08-06T04:37:54.008Z"
   },
   {
    "duration": 1285,
    "start_time": "2023-08-06T04:37:55.217Z"
   },
   {
    "duration": 1303,
    "start_time": "2023-08-06T04:37:56.503Z"
   },
   {
    "duration": 1747,
    "start_time": "2023-08-06T10:58:59.184Z"
   },
   {
    "duration": 723,
    "start_time": "2023-08-06T10:59:00.933Z"
   },
   {
    "duration": 12,
    "start_time": "2023-08-06T10:59:01.657Z"
   },
   {
    "duration": 213,
    "start_time": "2023-08-06T10:59:01.671Z"
   },
   {
    "duration": 13,
    "start_time": "2023-08-06T10:59:01.886Z"
   },
   {
    "duration": 39,
    "start_time": "2023-08-06T10:59:01.901Z"
   },
   {
    "duration": 21,
    "start_time": "2023-08-06T10:59:01.942Z"
   },
   {
    "duration": 72,
    "start_time": "2023-08-06T10:59:01.965Z"
   },
   {
    "duration": 168,
    "start_time": "2023-08-06T10:59:02.039Z"
   },
   {
    "duration": 178,
    "start_time": "2023-08-06T10:59:02.212Z"
   },
   {
    "duration": 3,
    "start_time": "2023-08-06T10:59:02.392Z"
   },
   {
    "duration": 103,
    "start_time": "2023-08-06T10:59:02.398Z"
   },
   {
    "duration": 2,
    "start_time": "2023-08-06T10:59:02.588Z"
   },
   {
    "duration": 4,
    "start_time": "2023-08-06T10:59:02.593Z"
   },
   {
    "duration": 23,
    "start_time": "2023-08-06T10:59:02.599Z"
   },
   {
    "duration": 9,
    "start_time": "2023-08-06T10:59:02.624Z"
   },
   {
    "duration": 8,
    "start_time": "2023-08-06T10:59:02.635Z"
   },
   {
    "duration": 17,
    "start_time": "2023-08-06T10:59:02.645Z"
   },
   {
    "duration": 24,
    "start_time": "2023-08-06T10:59:02.664Z"
   },
   {
    "duration": 15,
    "start_time": "2023-08-06T10:59:02.689Z"
   },
   {
    "duration": 22,
    "start_time": "2023-08-06T10:59:02.705Z"
   },
   {
    "duration": 5,
    "start_time": "2023-08-06T10:59:02.729Z"
   },
   {
    "duration": 1176,
    "start_time": "2023-08-06T10:59:02.735Z"
   },
   {
    "duration": 1282,
    "start_time": "2023-08-06T10:59:03.912Z"
   },
   {
    "duration": 1225,
    "start_time": "2023-08-06T10:59:05.195Z"
   },
   {
    "duration": 63,
    "start_time": "2023-08-07T02:20:00.312Z"
   },
   {
    "duration": 1148,
    "start_time": "2023-08-07T02:20:21.873Z"
   },
   {
    "duration": 1919,
    "start_time": "2023-08-07T02:20:23.024Z"
   },
   {
    "duration": 14,
    "start_time": "2023-08-07T02:20:24.945Z"
   },
   {
    "duration": 150,
    "start_time": "2023-08-07T02:20:24.961Z"
   },
   {
    "duration": 16,
    "start_time": "2023-08-07T02:20:25.114Z"
   },
   {
    "duration": 4,
    "start_time": "2023-08-07T02:20:25.132Z"
   },
   {
    "duration": 6,
    "start_time": "2023-08-07T02:20:25.137Z"
   },
   {
    "duration": 46,
    "start_time": "2023-08-07T02:20:25.145Z"
   },
   {
    "duration": 191,
    "start_time": "2023-08-07T02:20:25.193Z"
   },
   {
    "duration": 191,
    "start_time": "2023-08-07T02:20:25.386Z"
   },
   {
    "duration": 5,
    "start_time": "2023-08-07T02:20:25.579Z"
   },
   {
    "duration": 190,
    "start_time": "2023-08-07T02:20:25.586Z"
   },
   {
    "duration": 3,
    "start_time": "2023-08-07T02:20:25.778Z"
   },
   {
    "duration": 3,
    "start_time": "2023-08-07T02:20:25.783Z"
   },
   {
    "duration": 24,
    "start_time": "2023-08-07T02:20:25.788Z"
   },
   {
    "duration": 4,
    "start_time": "2023-08-07T02:20:25.813Z"
   },
   {
    "duration": 11,
    "start_time": "2023-08-07T02:20:25.819Z"
   },
   {
    "duration": 6,
    "start_time": "2023-08-07T02:20:25.831Z"
   },
   {
    "duration": 23,
    "start_time": "2023-08-07T02:20:25.838Z"
   },
   {
    "duration": 9,
    "start_time": "2023-08-07T02:20:25.875Z"
   },
   {
    "duration": 10,
    "start_time": "2023-08-07T02:20:25.886Z"
   },
   {
    "duration": 12,
    "start_time": "2023-08-07T02:20:25.897Z"
   },
   {
    "duration": 1293,
    "start_time": "2023-08-07T02:20:25.910Z"
   },
   {
    "duration": 1235,
    "start_time": "2023-08-07T02:20:27.205Z"
   },
   {
    "duration": 1233,
    "start_time": "2023-08-07T02:20:28.442Z"
   },
   {
    "duration": 5,
    "start_time": "2023-08-07T02:22:42.886Z"
   },
   {
    "duration": 1133,
    "start_time": "2023-08-07T02:27:59.364Z"
   },
   {
    "duration": 371,
    "start_time": "2023-08-07T02:28:05.056Z"
   },
   {
    "duration": 13,
    "start_time": "2023-08-07T02:28:06.139Z"
   },
   {
    "duration": 130,
    "start_time": "2023-08-07T02:28:08.994Z"
   },
   {
    "duration": 43,
    "start_time": "2023-08-07T02:28:11.332Z"
   },
   {
    "duration": 34,
    "start_time": "2023-08-07T02:29:47.561Z"
   },
   {
    "duration": 64,
    "start_time": "2023-08-07T02:29:48.796Z"
   },
   {
    "duration": 38,
    "start_time": "2023-08-07T02:29:49.758Z"
   },
   {
    "duration": 18,
    "start_time": "2023-08-07T02:31:45.495Z"
   },
   {
    "duration": 3,
    "start_time": "2023-08-07T02:31:46.825Z"
   },
   {
    "duration": 3,
    "start_time": "2023-08-07T02:31:47.051Z"
   },
   {
    "duration": 22,
    "start_time": "2023-08-07T02:31:47.552Z"
   },
   {
    "duration": 20,
    "start_time": "2023-08-07T02:31:48.016Z"
   },
   {
    "duration": 27,
    "start_time": "2023-08-07T02:31:48.219Z"
   },
   {
    "duration": 3,
    "start_time": "2023-08-07T02:31:48.433Z"
   },
   {
    "duration": 10,
    "start_time": "2023-08-07T02:31:48.876Z"
   },
   {
    "duration": 2,
    "start_time": "2023-08-07T02:31:49.730Z"
   },
   {
    "duration": 3,
    "start_time": "2023-08-07T02:31:50.216Z"
   },
   {
    "duration": 6,
    "start_time": "2023-08-07T02:31:50.476Z"
   },
   {
    "duration": 4,
    "start_time": "2023-08-07T02:31:50.722Z"
   },
   {
    "duration": 6,
    "start_time": "2023-08-07T02:31:50.994Z"
   },
   {
    "duration": 4,
    "start_time": "2023-08-07T02:31:52.000Z"
   },
   {
    "duration": 17,
    "start_time": "2023-08-07T02:31:52.708Z"
   },
   {
    "duration": 9,
    "start_time": "2023-08-07T02:31:53.027Z"
   },
   {
    "duration": 10,
    "start_time": "2023-08-07T02:31:53.416Z"
   },
   {
    "duration": 6,
    "start_time": "2023-08-07T02:31:53.722Z"
   },
   {
    "duration": 1264,
    "start_time": "2023-08-07T02:31:54.893Z"
   },
   {
    "duration": 1230,
    "start_time": "2023-08-07T02:31:56.158Z"
   },
   {
    "duration": 1248,
    "start_time": "2023-08-07T02:31:57.390Z"
   },
   {
    "duration": 1155,
    "start_time": "2023-08-07T02:52:56.368Z"
   },
   {
    "duration": 377,
    "start_time": "2023-08-07T02:52:57.524Z"
   },
   {
    "duration": 13,
    "start_time": "2023-08-07T02:52:57.903Z"
   },
   {
    "duration": 142,
    "start_time": "2023-08-07T02:52:57.918Z"
   },
   {
    "duration": 54,
    "start_time": "2023-08-07T02:52:58.062Z"
   },
   {
    "duration": 91,
    "start_time": "2023-08-07T02:52:58.118Z"
   },
   {
    "duration": 18,
    "start_time": "2023-08-07T02:52:58.211Z"
   },
   {
    "duration": 7,
    "start_time": "2023-08-07T02:52:58.231Z"
   },
   {
    "duration": 5,
    "start_time": "2023-08-07T02:52:58.240Z"
   },
   {
    "duration": 50,
    "start_time": "2023-08-07T02:52:58.247Z"
   },
   {
    "duration": 181,
    "start_time": "2023-08-07T02:52:58.300Z"
   },
   {
    "duration": 196,
    "start_time": "2023-08-07T02:52:58.483Z"
   },
   {
    "duration": 4,
    "start_time": "2023-08-07T02:52:58.681Z"
   },
   {
    "duration": 87,
    "start_time": "2023-08-07T02:52:58.690Z"
   },
   {
    "duration": 3,
    "start_time": "2023-08-07T02:52:58.780Z"
   },
   {
    "duration": 90,
    "start_time": "2023-08-07T02:52:58.785Z"
   },
   {
    "duration": 7,
    "start_time": "2023-08-07T02:52:58.876Z"
   },
   {
    "duration": 6,
    "start_time": "2023-08-07T02:52:58.885Z"
   },
   {
    "duration": 4,
    "start_time": "2023-08-07T02:52:58.893Z"
   },
   {
    "duration": 19,
    "start_time": "2023-08-07T02:52:58.898Z"
   },
   {
    "duration": 9,
    "start_time": "2023-08-07T02:52:58.919Z"
   },
   {
    "duration": 45,
    "start_time": "2023-08-07T02:52:58.929Z"
   },
   {
    "duration": 6,
    "start_time": "2023-08-07T02:52:58.976Z"
   },
   {
    "duration": 1283,
    "start_time": "2023-08-07T02:52:58.983Z"
   },
   {
    "duration": 1353,
    "start_time": "2023-08-07T02:53:00.267Z"
   },
   {
    "duration": 1309,
    "start_time": "2023-08-07T02:53:01.622Z"
   }
  ],
  "kernelspec": {
   "display_name": "Python 3 (ipykernel)",
   "language": "python",
   "name": "python3"
  },
  "language_info": {
   "codemirror_mode": {
    "name": "ipython",
    "version": 3
   },
   "file_extension": ".py",
   "mimetype": "text/x-python",
   "name": "python",
   "nbconvert_exporter": "python",
   "pygments_lexer": "ipython3",
   "version": "3.10.9"
  },
  "toc": {
   "base_numbering": 1,
   "nav_menu": {},
   "number_sections": true,
   "sideBar": true,
   "skip_h1_title": true,
   "title_cell": "Table of Contents",
   "title_sidebar": "Contents",
   "toc_cell": false,
   "toc_position": {},
   "toc_section_display": true,
   "toc_window_display": false
  }
 },
 "nbformat": 4,
 "nbformat_minor": 2
}
