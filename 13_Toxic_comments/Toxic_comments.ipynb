{
 "cells": [
  {
   "cell_type": "markdown",
   "metadata": {
    "toc": true
   },
   "source": [
    "<h1>Содержание<span class=\"tocSkip\"></span></h1>\n",
    "<div class=\"toc\"><ul class=\"toc-item\"><li><span><a href=\"#Подготовка\" data-toc-modified-id=\"Подготовка-1\"><span class=\"toc-item-num\">1&nbsp;&nbsp;</span>Подготовка</a></span></li><li><span><a href=\"#Обучение\" data-toc-modified-id=\"Обучение-2\"><span class=\"toc-item-num\">2&nbsp;&nbsp;</span>Обучение</a></span></li><li><span><a href=\"#Выводы\" data-toc-modified-id=\"Выводы-3\"><span class=\"toc-item-num\">3&nbsp;&nbsp;</span>Выводы</a></span></li><li><span><a href=\"#Чек-лист-проверки\" data-toc-modified-id=\"Чек-лист-проверки-4\"><span class=\"toc-item-num\">4&nbsp;&nbsp;</span>Чек-лист проверки</a></span></li></ul></div>"
   ]
  },
  {
   "cell_type": "markdown",
   "metadata": {},
   "source": [
    "# Проект для «Викишоп»"
   ]
  },
  {
   "cell_type": "markdown",
   "metadata": {},
   "source": [
    "Интернет-магазин «Викишоп» запускает новый сервис. Теперь пользователи могут редактировать и дополнять описания товаров, как в вики-сообществах. То есть клиенты предлагают свои правки и комментируют изменения других. Магазину нужен инструмент, который будет искать токсичные комментарии и отправлять их на модерацию. \n",
    "\n",
    "Обучите модель классифицировать комментарии на позитивные и негативные. В вашем распоряжении набор данных с разметкой о токсичности правок.\n",
    "\n",
    "Постройте модель со значением метрики качества *F1* не меньше 0.75. \n",
    "\n",
    "**Инструкция по выполнению проекта**\n",
    "\n",
    "1. Загрузите и подготовьте данные.\n",
    "2. Обучите разные модели. \n",
    "3. Сделайте выводы.\n",
    "\n",
    "Для выполнения проекта применять *BERT* необязательно, но вы можете попробовать.\n",
    "\n",
    "**Описание данных**\n",
    "\n",
    "Данные находятся в файле `toxic_comments.csv`. Столбец *text* в нём содержит текст комментария, а *toxic* — целевой признак."
   ]
  },
  {
   "cell_type": "markdown",
   "metadata": {},
   "source": [
    "## Подготовка"
   ]
  },
  {
   "cell_type": "code",
   "execution_count": 1,
   "metadata": {},
   "outputs": [],
   "source": [
    "import pandas as pd\n",
    "import numpy as np\n",
    "import nltk\n",
    "import re\n",
    "from nltk.corpus import stopwords as nltk_stopwords\n",
    "from nltk.corpus import wordnet\n",
    "from nltk.stem import WordNetLemmatizer\n",
    "from nltk.tokenize import word_tokenize\n",
    "from sklearn.model_selection import train_test_split\n",
    "from sklearn.linear_model import LogisticRegression\n",
    "from sklearn.feature_extraction.text import TfidfVectorizer, CountVectorizer, TfidfTransformer\n",
    "from sklearn.metrics import f1_score\n",
    "from sklearn.model_selection import GridSearchCV, RandomizedSearchCV\n",
    "from sklearn.ensemble import RandomForestClassifier\n",
    "from sklearn.pipeline import Pipeline"
   ]
  },
  {
   "cell_type": "code",
   "execution_count": 2,
   "metadata": {},
   "outputs": [],
   "source": [
    "data = pd.read_csv('/datasets/toxic_comments.csv',index_col=0)"
   ]
  },
  {
   "cell_type": "code",
   "execution_count": 3,
   "metadata": {},
   "outputs": [],
   "source": [
    "corpus = data['text']"
   ]
  },
  {
   "cell_type": "code",
   "execution_count": 4,
   "metadata": {},
   "outputs": [
    {
     "data": {
      "text/html": [
       "<div>\n",
       "<style scoped>\n",
       "    .dataframe tbody tr th:only-of-type {\n",
       "        vertical-align: middle;\n",
       "    }\n",
       "\n",
       "    .dataframe tbody tr th {\n",
       "        vertical-align: top;\n",
       "    }\n",
       "\n",
       "    .dataframe thead th {\n",
       "        text-align: right;\n",
       "    }\n",
       "</style>\n",
       "<table border=\"1\" class=\"dataframe\">\n",
       "  <thead>\n",
       "    <tr style=\"text-align: right;\">\n",
       "      <th></th>\n",
       "      <th>text</th>\n",
       "      <th>toxic</th>\n",
       "    </tr>\n",
       "  </thead>\n",
       "  <tbody>\n",
       "    <tr>\n",
       "      <th>0</th>\n",
       "      <td>Explanation\\nWhy the edits made under my usern...</td>\n",
       "      <td>0</td>\n",
       "    </tr>\n",
       "    <tr>\n",
       "      <th>1</th>\n",
       "      <td>D'aww! He matches this background colour I'm s...</td>\n",
       "      <td>0</td>\n",
       "    </tr>\n",
       "    <tr>\n",
       "      <th>2</th>\n",
       "      <td>Hey man, I'm really not trying to edit war. It...</td>\n",
       "      <td>0</td>\n",
       "    </tr>\n",
       "    <tr>\n",
       "      <th>3</th>\n",
       "      <td>\"\\nMore\\nI can't make any real suggestions on ...</td>\n",
       "      <td>0</td>\n",
       "    </tr>\n",
       "    <tr>\n",
       "      <th>4</th>\n",
       "      <td>You, sir, are my hero. Any chance you remember...</td>\n",
       "      <td>0</td>\n",
       "    </tr>\n",
       "    <tr>\n",
       "      <th>5</th>\n",
       "      <td>\"\\n\\nCongratulations from me as well, use the ...</td>\n",
       "      <td>0</td>\n",
       "    </tr>\n",
       "    <tr>\n",
       "      <th>6</th>\n",
       "      <td>COCKSUCKER BEFORE YOU PISS AROUND ON MY WORK</td>\n",
       "      <td>1</td>\n",
       "    </tr>\n",
       "    <tr>\n",
       "      <th>7</th>\n",
       "      <td>Your vandalism to the Matt Shirvington article...</td>\n",
       "      <td>0</td>\n",
       "    </tr>\n",
       "    <tr>\n",
       "      <th>8</th>\n",
       "      <td>Sorry if the word 'nonsense' was offensive to ...</td>\n",
       "      <td>0</td>\n",
       "    </tr>\n",
       "    <tr>\n",
       "      <th>9</th>\n",
       "      <td>alignment on this subject and which are contra...</td>\n",
       "      <td>0</td>\n",
       "    </tr>\n",
       "  </tbody>\n",
       "</table>\n",
       "</div>"
      ],
      "text/plain": [
       "                                                text  toxic\n",
       "0  Explanation\\nWhy the edits made under my usern...      0\n",
       "1  D'aww! He matches this background colour I'm s...      0\n",
       "2  Hey man, I'm really not trying to edit war. It...      0\n",
       "3  \"\\nMore\\nI can't make any real suggestions on ...      0\n",
       "4  You, sir, are my hero. Any chance you remember...      0\n",
       "5  \"\\n\\nCongratulations from me as well, use the ...      0\n",
       "6       COCKSUCKER BEFORE YOU PISS AROUND ON MY WORK      1\n",
       "7  Your vandalism to the Matt Shirvington article...      0\n",
       "8  Sorry if the word 'nonsense' was offensive to ...      0\n",
       "9  alignment on this subject and which are contra...      0"
      ]
     },
     "execution_count": 4,
     "metadata": {},
     "output_type": "execute_result"
    }
   ],
   "source": [
    "data.head(10)"
   ]
  },
  {
   "cell_type": "code",
   "execution_count": 5,
   "metadata": {},
   "outputs": [
    {
     "name": "stdout",
     "output_type": "stream",
     "text": [
      "<class 'pandas.core.frame.DataFrame'>\n",
      "Int64Index: 159292 entries, 0 to 159450\n",
      "Data columns (total 2 columns):\n",
      " #   Column  Non-Null Count   Dtype \n",
      "---  ------  --------------   ----- \n",
      " 0   text    159292 non-null  object\n",
      " 1   toxic   159292 non-null  int64 \n",
      "dtypes: int64(1), object(1)\n",
      "memory usage: 3.6+ MB\n"
     ]
    }
   ],
   "source": [
    "data.info()"
   ]
  },
  {
   "cell_type": "code",
   "execution_count": 6,
   "metadata": {},
   "outputs": [
    {
     "data": {
      "text/plain": [
       "0"
      ]
     },
     "execution_count": 6,
     "metadata": {},
     "output_type": "execute_result"
    }
   ],
   "source": [
    "data.duplicated().sum()"
   ]
  },
  {
   "cell_type": "markdown",
   "metadata": {},
   "source": [
    "m = Mystem()\n",
    "def clear_text(text):\n",
    "    text = text.lower()\n",
    "    text = \"\".join(m.lemmatize(text))  \n",
    "    text = re.sub(r'[^a-zA-Z ]', ' ', text)\n",
    "    text = text.split()\n",
    "    return \" \".join(text)"
   ]
  },
  {
   "cell_type": "code",
   "execution_count": 7,
   "metadata": {},
   "outputs": [
    {
     "name": "stderr",
     "output_type": "stream",
     "text": [
      "[nltk_data] Downloading package averaged_perceptron_tagger to\n",
      "[nltk_data]     /home/jovyan/nltk_data...\n",
      "[nltk_data]   Package averaged_perceptron_tagger is already up-to-\n",
      "[nltk_data]       date!\n",
      "[nltk_data] Downloading package wordnet to /home/jovyan/nltk_data...\n",
      "[nltk_data]   Package wordnet is already up-to-date!\n"
     ]
    }
   ],
   "source": [
    "nltk.download('averaged_perceptron_tagger')\n",
    "nltk.download('wordnet')\n",
    "\n",
    "def get_wordnet_pos(word):\n",
    "    \"\"\"Map POS tag to first character lemmatize() accepts\"\"\"\n",
    "    tag = nltk.pos_tag([word])[0][1][0].upper()\n",
    "    tag_dict = {\"J\": wordnet.ADJ,\n",
    "                \"N\": wordnet.NOUN,\n",
    "                \"V\": wordnet.VERB,\n",
    "                \"R\": wordnet.ADV}\n",
    "\n",
    "    return tag_dict.get(tag, wordnet.NOUN)\n",
    "\n",
    "def clear_text(text):\n",
    "    lemmatizer = WordNetLemmatizer()\n",
    "    text = text.lower()\n",
    "    text = re.sub(r'[^a-zA-Z ]', ' ', text)\n",
    "    text = word_tokenize(text)\n",
    "    text = [lemmatizer.lemmatize(w, get_wordnet_pos(w)) for w in text]\n",
    "    return \" \".join(text)"
   ]
  },
  {
   "cell_type": "code",
   "execution_count": 8,
   "metadata": {},
   "outputs": [
    {
     "name": "stderr",
     "output_type": "stream",
     "text": [
      "[nltk_data] Downloading package stopwords to /home/jovyan/nltk_data...\n",
      "[nltk_data]   Package stopwords is already up-to-date!\n"
     ]
    }
   ],
   "source": [
    "nltk.download('stopwords')\n",
    "stopwords = set(nltk_stopwords.words('english'))"
   ]
  },
  {
   "cell_type": "code",
   "execution_count": 9,
   "metadata": {},
   "outputs": [
    {
     "name": "stdout",
     "output_type": "stream",
     "text": [
      "                                                text\n",
      "0  The striped bats are hanging on their feet for...\n",
      "1      you should be ashamed of yourself went worked\n",
      "0    the strip bat be hang on their foot for best\n",
      "1       you should be ashamed of yourself go work\n",
      "Name: text, dtype: object\n"
     ]
    }
   ],
   "source": [
    "sentence1 = \"The striped bats are hanging on their feet for best\"\n",
    "sentence2 = \"you should be ashamed of yourself went worked\"\n",
    "df_my = pd.DataFrame([sentence1, sentence2], columns = ['text'])\n",
    "print(df_my)\n",
    "print(df_my['text'].apply(clear_text))"
   ]
  },
  {
   "cell_type": "code",
   "execution_count": 10,
   "metadata": {},
   "outputs": [
    {
     "name": "stdout",
     "output_type": "stream",
     "text": [
      "CPU times: user 18min 32s, sys: 1min 38s, total: 20min 11s\n",
      "Wall time: 20min 11s\n"
     ]
    }
   ],
   "source": [
    "%%time\n",
    "data['text'] = data['text'].apply(clear_text)"
   ]
  },
  {
   "cell_type": "code",
   "execution_count": 11,
   "metadata": {},
   "outputs": [
    {
     "data": {
      "text/plain": [
       "84849     vandalism why do you revert someone work on my...\n",
       "5654      i wan na beeeeeeeeeeeeeer why wan na you give ...\n",
       "149656    see no objection i m balance advertised number...\n",
       "113265    easily divergent banias be about the spring an...\n",
       "154241    overgrown outline the original article be inte...\n",
       "88662     jimbo glad to see you comment here regardless ...\n",
       "137822                with my finger up my nose just messin\n",
       "74128     recent edits please remain civil and do not ma...\n",
       "52382     welcome hello and welcome to wikipedia thank y...\n",
       "119259    britton july be there some rule i m unaware of...\n",
       "Name: text, dtype: object"
      ]
     },
     "execution_count": 11,
     "metadata": {},
     "output_type": "execute_result"
    }
   ],
   "source": [
    "data['text'].sample(10)"
   ]
  },
  {
   "cell_type": "markdown",
   "metadata": {},
   "source": [
    "## Обучение"
   ]
  },
  {
   "cell_type": "markdown",
   "metadata": {},
   "source": [
    "Постройте модель со значением метрики качества F1 не меньше 0.75. "
   ]
  },
  {
   "cell_type": "code",
   "execution_count": 12,
   "metadata": {},
   "outputs": [],
   "source": [
    "features = data.drop('toxic', axis=1)\n",
    "target = data['toxic']"
   ]
  },
  {
   "cell_type": "code",
   "execution_count": 13,
   "metadata": {},
   "outputs": [],
   "source": [
    "features_train, features_test, target_train, target_test = train_test_split(\n",
    "    features, target, test_size=0.2, stratify=target, random_state=12345)\n"
   ]
  },
  {
   "cell_type": "code",
   "execution_count": 14,
   "metadata": {},
   "outputs": [
    {
     "name": "stdout",
     "output_type": "stream",
     "text": [
      "(127433, 1)\n",
      "(127433,)\n",
      "(31859, 1)\n",
      "(31859,)\n"
     ]
    }
   ],
   "source": [
    "print(features_train.shape)\n",
    "print(target_train.shape)\n",
    "print(features_test.shape)\n",
    "print(target_test.shape)"
   ]
  },
  {
   "cell_type": "code",
   "execution_count": 15,
   "metadata": {},
   "outputs": [
    {
     "name": "stdout",
     "output_type": "stream",
     "text": [
      "F1 на CV равен: 0.7627054023188515\n",
      "CPU times: user 7min 59s, sys: 8min 25s, total: 16min 24s\n",
      "Wall time: 16min 25s\n"
     ]
    }
   ],
   "source": [
    "%%time\n",
    "features_train = features_train['text']\n",
    "params_lr = {'clf__C':[0.1, 1, 10]}\n",
    "\n",
    "pipe_lr = Pipeline([('vect', CountVectorizer(stop_words=stopwords, binary=True)),\n",
    "                 ('tfidf', TfidfTransformer()),\n",
    "                 ('clf', LogisticRegression(class_weight='balanced', solver='lbfgs', max_iter=1000, random_state=12345))])\n",
    "\n",
    "grid_lr = GridSearchCV(pipe_lr, params_lr, n_jobs = -1, cv=5, scoring = 'f1')\n",
    "grid_lr.fit(features_train, target_train)\n",
    "print(\"F1 на CV равен:\", grid_lr.best_score_)"
   ]
  },
  {
   "cell_type": "code",
   "execution_count": 16,
   "metadata": {},
   "outputs": [
    {
     "name": "stdout",
     "output_type": "stream",
     "text": [
      "F1 на CV равен: 0.20547082489498458\n",
      "CPU times: user 36.7 s, sys: 475 ms, total: 37.2 s\n",
      "Wall time: 37.3 s\n"
     ]
    }
   ],
   "source": [
    "%%time\n",
    "param_rf = {'rf__max_depth': range(1,5),'rf__n_estimators': range(1,100,10)}\n",
    "\n",
    "pipe_rf = Pipeline([('vect', CountVectorizer(stop_words=stopwords)),\n",
    "                  ('tfidf', TfidfTransformer()),\n",
    "                  ('rf', RandomForestClassifier(class_weight='balanced'))])\n",
    "\n",
    "grid_rf = RandomizedSearchCV(pipe_rf, param_rf, n_jobs = -1, cv=5,\n",
    "                               n_iter=1, scoring = 'f1')\n",
    "grid_rf.fit(features_train, target_train)\n",
    "print(\"F1 на CV равен:\", grid_rf.best_score_)"
   ]
  },
  {
   "cell_type": "markdown",
   "metadata": {},
   "source": [
    "Лучшей себя показала модель логической регресии. Проверим модель на тетсовых данных."
   ]
  },
  {
   "cell_type": "code",
   "execution_count": 17,
   "metadata": {},
   "outputs": [
    {
     "name": "stdout",
     "output_type": "stream",
     "text": [
      "F1 на тестовых данных равен: 0.7648983074953776\n"
     ]
    }
   ],
   "source": [
    "features_test_transformed = features_test['text']\n",
    "target_pred = grid_lr.predict(features_test_transformed)\n",
    "\n",
    "f1_test = f1_score(target_test, target_pred)\n",
    "print(\"F1 на тестовых данных равен:\", f1_test)"
   ]
  },
  {
   "cell_type": "markdown",
   "metadata": {},
   "source": [
    "Модель проходит критерий качества в F1 > 0.75 "
   ]
  },
  {
   "cell_type": "markdown",
   "metadata": {},
   "source": [
    "## Выводы"
   ]
  },
  {
   "cell_type": "markdown",
   "metadata": {},
   "source": [
    "В ходе выполнения проекта были выполнены основные операции:\n",
    "\n",
    "Загруженны и расмотренны данные. Проведена предобработка текста комментариев, а так же датасет разделен на обучающую и тестовую выборку.\n",
    "\n",
    "Проведено обучение моделей:\n",
    "- LogisticRegression.\n",
    "- RandomForestClassifier.\n",
    "\n",
    "Рассчитано значение метрики F1 \n",
    "Найдена лучшая модель и проверена на тестовой выборке.\n",
    "Лучше всего себя показала модель LogisticRegression\n",
    "\n",
    "Значение метрики F1 модели на тестовой выборке показало отличный результат (0.7648983074953776). Модель предсказывает со значением метрики качества F1 не меньше 0.75 и это значит что она подходит по критериям Заказчику."
   ]
  }
 ],
 "metadata": {
  "ExecuteTimeLog": [
   {
    "duration": 403,
    "start_time": "2023-09-15T12:28:28.908Z"
   },
   {
    "duration": 3253,
    "start_time": "2023-09-15T12:28:29.313Z"
   },
   {
    "duration": 23,
    "start_time": "2023-09-15T13:34:22.246Z"
   },
   {
    "duration": 33,
    "start_time": "2023-09-15T13:34:53.684Z"
   },
   {
    "duration": 82,
    "start_time": "2023-09-15T13:35:59.572Z"
   },
   {
    "duration": 1026,
    "start_time": "2023-09-15T13:36:15.017Z"
   },
   {
    "duration": 19,
    "start_time": "2023-09-15T13:36:16.045Z"
   },
   {
    "duration": 35,
    "start_time": "2023-09-15T13:36:19.592Z"
   },
   {
    "duration": 289,
    "start_time": "2023-09-15T13:38:15.981Z"
   },
   {
    "duration": 39,
    "start_time": "2023-09-15T13:38:52.917Z"
   },
   {
    "duration": 3,
    "start_time": "2023-09-15T13:47:46.375Z"
   },
   {
    "duration": 432,
    "start_time": "2023-09-15T14:14:34.812Z"
   },
   {
    "duration": 1075,
    "start_time": "2023-09-15T14:14:35.272Z"
   },
   {
    "duration": 1990,
    "start_time": "2023-09-15T14:14:36.355Z"
   },
   {
    "duration": 21,
    "start_time": "2023-09-15T14:14:38.346Z"
   },
   {
    "duration": 32,
    "start_time": "2023-09-15T14:14:38.369Z"
   },
   {
    "duration": 268,
    "start_time": "2023-09-15T14:14:38.403Z"
   },
   {
    "duration": 111,
    "start_time": "2023-09-15T14:14:38.673Z"
   },
   {
    "duration": 10,
    "start_time": "2023-09-15T14:14:38.786Z"
   },
   {
    "duration": 1055,
    "start_time": "2023-09-15T14:15:59.853Z"
   },
   {
    "duration": 2058,
    "start_time": "2023-09-15T14:16:00.911Z"
   },
   {
    "duration": 8,
    "start_time": "2023-09-15T14:16:03.770Z"
   },
   {
    "duration": 42,
    "start_time": "2023-09-15T14:16:07.796Z"
   },
   {
    "duration": 239,
    "start_time": "2023-09-15T14:16:10.167Z"
   },
   {
    "duration": 116,
    "start_time": "2023-09-15T14:16:10.574Z"
   },
   {
    "duration": 1436,
    "start_time": "2023-09-15T14:21:22.980Z"
   },
   {
    "duration": 1319,
    "start_time": "2023-09-15T14:21:25.230Z"
   },
   {
    "duration": 2705,
    "start_time": "2023-09-15T14:21:27.499Z"
   },
   {
    "duration": 28,
    "start_time": "2023-09-15T14:21:30.212Z"
   },
   {
    "duration": 93,
    "start_time": "2023-09-15T14:21:30.246Z"
   },
   {
    "duration": 390,
    "start_time": "2023-09-15T14:21:30.344Z"
   },
   {
    "duration": 273,
    "start_time": "2023-09-15T14:21:30.736Z"
   },
   {
    "duration": 54,
    "start_time": "2023-09-15T14:21:31.013Z"
   },
   {
    "duration": 242,
    "start_time": "2023-09-15T14:21:31.074Z"
   },
   {
    "duration": 0,
    "start_time": "2023-09-15T14:21:31.318Z"
   },
   {
    "duration": 8,
    "start_time": "2023-09-15T14:22:04.101Z"
   },
   {
    "duration": 266,
    "start_time": "2023-09-15T14:22:08.577Z"
   },
   {
    "duration": 5,
    "start_time": "2023-09-15T14:22:34.571Z"
   },
   {
    "duration": 10,
    "start_time": "2023-09-15T14:22:36.361Z"
   },
   {
    "duration": 1805,
    "start_time": "2023-09-15T14:22:56.890Z"
   },
   {
    "duration": 1248,
    "start_time": "2023-09-15T14:22:58.697Z"
   },
   {
    "duration": 2392,
    "start_time": "2023-09-15T14:22:59.948Z"
   },
   {
    "duration": 27,
    "start_time": "2023-09-15T14:23:02.342Z"
   },
   {
    "duration": 349,
    "start_time": "2023-09-15T14:23:02.371Z"
   },
   {
    "duration": 496,
    "start_time": "2023-09-15T14:23:02.722Z"
   },
   {
    "duration": 197,
    "start_time": "2023-09-15T14:23:03.220Z"
   },
   {
    "duration": 157,
    "start_time": "2023-09-15T14:23:03.419Z"
   },
   {
    "duration": 536,
    "start_time": "2023-09-15T14:23:03.577Z"
   },
   {
    "duration": 1710,
    "start_time": "2023-09-15T14:24:09.488Z"
   },
   {
    "duration": 1374,
    "start_time": "2023-09-15T14:24:11.200Z"
   },
   {
    "duration": 2273,
    "start_time": "2023-09-15T14:24:12.578Z"
   },
   {
    "duration": 33,
    "start_time": "2023-09-15T14:24:14.853Z"
   },
   {
    "duration": 46,
    "start_time": "2023-09-15T14:24:14.889Z"
   },
   {
    "duration": 311,
    "start_time": "2023-09-15T14:24:14.937Z"
   },
   {
    "duration": 5,
    "start_time": "2023-09-15T14:24:15.254Z"
   },
   {
    "duration": 266,
    "start_time": "2023-09-15T14:24:15.263Z"
   },
   {
    "duration": 184,
    "start_time": "2023-09-15T14:24:42.676Z"
   },
   {
    "duration": 1724,
    "start_time": "2023-09-15T14:25:06.994Z"
   },
   {
    "duration": 3,
    "start_time": "2023-09-15T14:25:38.900Z"
   },
   {
    "duration": 130303,
    "start_time": "2023-09-15T14:25:43.399Z"
   },
   {
    "duration": 20,
    "start_time": "2023-09-15T14:29:34.746Z"
   },
   {
    "duration": 4,
    "start_time": "2023-09-15T14:30:26.252Z"
   },
   {
    "duration": 139,
    "start_time": "2023-09-15T14:30:29.389Z"
   },
   {
    "duration": 13,
    "start_time": "2023-09-15T14:34:10.755Z"
   },
   {
    "duration": 2,
    "start_time": "2023-09-15T14:34:16.387Z"
   },
   {
    "duration": 21,
    "start_time": "2023-09-15T14:34:20.912Z"
   },
   {
    "duration": 18,
    "start_time": "2023-09-15T14:43:30.502Z"
   },
   {
    "duration": 10,
    "start_time": "2023-09-15T14:44:52.420Z"
   },
   {
    "duration": 1943,
    "start_time": "2023-09-15T14:44:56.607Z"
   },
   {
    "duration": 14,
    "start_time": "2023-09-15T14:45:26.162Z"
   },
   {
    "duration": 187,
    "start_time": "2023-09-15T14:45:59.296Z"
   },
   {
    "duration": 7,
    "start_time": "2023-09-15T14:46:04.482Z"
   },
   {
    "duration": 0,
    "start_time": "2023-09-15T14:46:23.538Z"
   },
   {
    "duration": 0,
    "start_time": "2023-09-15T14:47:26.989Z"
   },
   {
    "duration": 2410,
    "start_time": "2023-09-15T14:48:15.399Z"
   },
   {
    "duration": 1473,
    "start_time": "2023-09-15T14:48:17.811Z"
   },
   {
    "duration": 2617,
    "start_time": "2023-09-15T14:48:19.292Z"
   },
   {
    "duration": 18,
    "start_time": "2023-09-15T14:48:21.910Z"
   },
   {
    "duration": 79,
    "start_time": "2023-09-15T14:48:21.934Z"
   },
   {
    "duration": 359,
    "start_time": "2023-09-15T14:48:22.015Z"
   },
   {
    "duration": 6,
    "start_time": "2023-09-15T14:48:22.377Z"
   },
   {
    "duration": 288,
    "start_time": "2023-09-15T14:48:22.385Z"
   },
   {
    "duration": 138476,
    "start_time": "2023-09-15T14:48:22.676Z"
   },
   {
    "duration": 15,
    "start_time": "2023-09-15T14:50:41.155Z"
   },
   {
    "duration": 148,
    "start_time": "2023-09-15T14:50:41.172Z"
   },
   {
    "duration": 285,
    "start_time": "2023-09-15T14:50:41.322Z"
   },
   {
    "duration": 11,
    "start_time": "2023-09-15T14:56:33.550Z"
   },
   {
    "duration": 5,
    "start_time": "2023-09-15T14:59:48.325Z"
   },
   {
    "duration": 155,
    "start_time": "2023-09-15T15:02:00.666Z"
   },
   {
    "duration": 190,
    "start_time": "2023-09-15T15:05:51.446Z"
   },
   {
    "duration": 5,
    "start_time": "2023-09-15T15:06:16.978Z"
   },
   {
    "duration": 2012,
    "start_time": "2023-09-15T15:06:17.300Z"
   },
   {
    "duration": 1085504,
    "start_time": "2023-09-15T15:06:30.571Z"
   },
   {
    "duration": 940555,
    "start_time": "2023-09-15T16:25:55.174Z"
   },
   {
    "duration": 42,
    "start_time": "2023-09-15T16:46:29.879Z"
   },
   {
    "duration": 39226,
    "start_time": "2023-09-15T16:48:30.362Z"
   },
   {
    "duration": 143,
    "start_time": "2023-09-15T16:50:29.573Z"
   },
   {
    "duration": 9838,
    "start_time": "2023-09-15T16:50:36.514Z"
   },
   {
    "duration": 150627,
    "start_time": "2023-09-15T16:51:05.027Z"
   },
   {
    "duration": 1058,
    "start_time": "2023-09-15T17:04:24.022Z"
   },
   {
    "duration": 910,
    "start_time": "2023-09-15T17:05:56.198Z"
   },
   {
    "duration": 1435,
    "start_time": "2023-09-15T17:16:01.961Z"
   },
   {
    "duration": 2910,
    "start_time": "2023-09-15T17:16:03.398Z"
   },
   {
    "duration": 2006,
    "start_time": "2023-09-15T17:16:06.310Z"
   },
   {
    "duration": 24,
    "start_time": "2023-09-15T17:16:08.317Z"
   },
   {
    "duration": 31,
    "start_time": "2023-09-15T17:16:08.347Z"
   },
   {
    "duration": 230,
    "start_time": "2023-09-15T17:16:08.379Z"
   },
   {
    "duration": 4,
    "start_time": "2023-09-15T17:16:08.611Z"
   },
   {
    "duration": 161,
    "start_time": "2023-09-15T17:16:08.627Z"
   },
   {
    "duration": 93997,
    "start_time": "2023-09-15T17:16:08.790Z"
   },
   {
    "duration": 9,
    "start_time": "2023-09-15T17:17:42.790Z"
   },
   {
    "duration": 23,
    "start_time": "2023-09-15T17:17:42.801Z"
   },
   {
    "duration": 68,
    "start_time": "2023-09-15T17:17:42.826Z"
   },
   {
    "duration": 9,
    "start_time": "2023-09-15T17:17:42.896Z"
   },
   {
    "duration": 3,
    "start_time": "2023-09-15T17:17:42.908Z"
   },
   {
    "duration": 24,
    "start_time": "2023-09-15T17:17:42.913Z"
   },
   {
    "duration": 248,
    "start_time": "2023-09-15T17:17:42.939Z"
   },
   {
    "duration": 101,
    "start_time": "2023-09-15T17:17:43.189Z"
   },
   {
    "duration": 266,
    "start_time": "2023-09-15T17:17:43.291Z"
   },
   {
    "duration": 4,
    "start_time": "2023-09-15T17:19:19.712Z"
   },
   {
    "duration": 4,
    "start_time": "2023-09-15T17:19:44.206Z"
   },
   {
    "duration": 105,
    "start_time": "2023-09-15T17:22:40.374Z"
   },
   {
    "duration": 6,
    "start_time": "2023-09-15T17:23:24.090Z"
   },
   {
    "duration": 17,
    "start_time": "2023-09-15T17:23:36.143Z"
   },
   {
    "duration": 5,
    "start_time": "2023-09-15T17:23:41.507Z"
   },
   {
    "duration": 11,
    "start_time": "2023-09-15T17:23:41.869Z"
   },
   {
    "duration": 97,
    "start_time": "2023-09-15T17:25:43.419Z"
   },
   {
    "duration": 34,
    "start_time": "2023-09-15T17:25:45.657Z"
   },
   {
    "duration": 139,
    "start_time": "2023-09-15T17:25:46.117Z"
   },
   {
    "duration": 4,
    "start_time": "2023-09-15T17:25:46.385Z"
   },
   {
    "duration": 3,
    "start_time": "2023-09-15T17:25:47.067Z"
   },
   {
    "duration": 11,
    "start_time": "2023-09-15T17:25:47.620Z"
   },
   {
    "duration": 5,
    "start_time": "2023-09-15T17:25:52.497Z"
   },
   {
    "duration": 195,
    "start_time": "2023-09-15T17:25:54.469Z"
   },
   {
    "duration": 13,
    "start_time": "2023-09-15T17:27:17.307Z"
   },
   {
    "duration": 111,
    "start_time": "2023-09-15T17:27:31.953Z"
   },
   {
    "duration": 111,
    "start_time": "2023-09-15T17:27:32.593Z"
   },
   {
    "duration": 5,
    "start_time": "2023-09-15T17:28:56.477Z"
   },
   {
    "duration": 190,
    "start_time": "2023-09-15T17:28:57.113Z"
   },
   {
    "duration": 14,
    "start_time": "2023-09-15T17:29:31.364Z"
   },
   {
    "duration": 1480,
    "start_time": "2023-09-15T17:29:57.506Z"
   },
   {
    "duration": 1063,
    "start_time": "2023-09-15T17:29:58.988Z"
   },
   {
    "duration": 2173,
    "start_time": "2023-09-15T17:30:00.054Z"
   },
   {
    "duration": 218,
    "start_time": "2023-09-15T17:30:02.236Z"
   },
   {
    "duration": 132,
    "start_time": "2023-09-15T17:30:02.460Z"
   },
   {
    "duration": 361,
    "start_time": "2023-09-15T17:30:02.594Z"
   },
   {
    "duration": 5,
    "start_time": "2023-09-15T17:30:02.957Z"
   },
   {
    "duration": 201,
    "start_time": "2023-09-15T17:30:02.964Z"
   },
   {
    "duration": 104568,
    "start_time": "2023-09-15T17:30:03.167Z"
   },
   {
    "duration": 23,
    "start_time": "2023-09-15T17:31:47.743Z"
   },
   {
    "duration": 39,
    "start_time": "2023-09-15T17:31:47.767Z"
   },
   {
    "duration": 109,
    "start_time": "2023-09-15T17:31:47.807Z"
   },
   {
    "duration": 4,
    "start_time": "2023-09-15T17:31:47.917Z"
   },
   {
    "duration": 71,
    "start_time": "2023-09-15T17:31:47.923Z"
   },
   {
    "duration": 181,
    "start_time": "2023-09-15T17:31:47.995Z"
   },
   {
    "duration": 1,
    "start_time": "2023-09-15T17:31:48.177Z"
   },
   {
    "duration": 0,
    "start_time": "2023-09-15T17:31:48.179Z"
   },
   {
    "duration": 0,
    "start_time": "2023-09-15T17:31:48.180Z"
   },
   {
    "duration": 262,
    "start_time": "2023-09-15T17:32:29.974Z"
   },
   {
    "duration": 138,
    "start_time": "2023-09-15T17:35:51.954Z"
   },
   {
    "duration": 5,
    "start_time": "2023-09-15T17:36:30.011Z"
   },
   {
    "duration": 413,
    "start_time": "2023-09-15T17:36:30.481Z"
   },
   {
    "duration": 960993,
    "start_time": "2023-09-15T17:37:09.843Z"
   },
   {
    "duration": 861839,
    "start_time": "2023-09-15T17:53:18.795Z"
   },
   {
    "duration": 84307,
    "start_time": "2023-09-15T18:07:44.867Z"
   },
   {
    "duration": 51,
    "start_time": "2023-09-15T18:09:36.756Z"
   },
   {
    "duration": 43,
    "start_time": "2023-09-15T18:09:42.649Z"
   },
   {
    "duration": 49254,
    "start_time": "2023-09-15T18:13:43.667Z"
   },
   {
    "duration": 219057,
    "start_time": "2023-09-15T18:18:10.798Z"
   },
   {
    "duration": 6,
    "start_time": "2023-09-15T18:21:49.857Z"
   },
   {
    "duration": 176,
    "start_time": "2023-09-15T18:21:49.864Z"
   },
   {
    "duration": 0,
    "start_time": "2023-09-15T18:21:50.044Z"
   },
   {
    "duration": 18035,
    "start_time": "2023-09-15T18:21:53.874Z"
   },
   {
    "duration": 1552,
    "start_time": "2023-09-15T18:22:19.554Z"
   },
   {
    "duration": 1039,
    "start_time": "2023-09-15T18:22:21.108Z"
   },
   {
    "duration": 2063,
    "start_time": "2023-09-15T18:22:22.150Z"
   },
   {
    "duration": 35,
    "start_time": "2023-09-15T18:22:24.216Z"
   },
   {
    "duration": 33,
    "start_time": "2023-09-15T18:22:24.253Z"
   },
   {
    "duration": 247,
    "start_time": "2023-09-15T18:22:24.287Z"
   },
   {
    "duration": 13,
    "start_time": "2023-09-15T18:22:24.535Z"
   },
   {
    "duration": 151,
    "start_time": "2023-09-15T18:22:24.551Z"
   },
   {
    "duration": 95178,
    "start_time": "2023-09-15T18:22:24.704Z"
   },
   {
    "duration": 8,
    "start_time": "2023-09-15T18:23:59.885Z"
   },
   {
    "duration": 53,
    "start_time": "2023-09-15T18:23:59.895Z"
   },
   {
    "duration": 106,
    "start_time": "2023-09-15T18:23:59.951Z"
   },
   {
    "duration": 5,
    "start_time": "2023-09-15T18:24:00.059Z"
   },
   {
    "duration": 960173,
    "start_time": "2023-09-15T18:24:00.067Z"
   },
   {
    "duration": 50134,
    "start_time": "2023-09-15T18:40:00.249Z"
   },
   {
    "duration": 1762,
    "start_time": "2023-09-15T20:01:47.450Z"
   },
   {
    "duration": 2605,
    "start_time": "2023-09-15T20:01:49.214Z"
   },
   {
    "duration": 4,
    "start_time": "2023-09-15T20:01:51.821Z"
   },
   {
    "duration": 21,
    "start_time": "2023-09-15T20:01:51.827Z"
   },
   {
    "duration": 41,
    "start_time": "2023-09-15T20:01:51.850Z"
   },
   {
    "duration": 254,
    "start_time": "2023-09-15T20:01:51.892Z"
   },
   {
    "duration": 516,
    "start_time": "2023-09-15T20:01:59.138Z"
   },
   {
    "duration": 21,
    "start_time": "2023-09-15T20:02:19.345Z"
   },
   {
    "duration": 11,
    "start_time": "2023-09-15T20:02:21.036Z"
   },
   {
    "duration": 1497,
    "start_time": "2023-09-15T20:02:23.098Z"
   },
   {
    "duration": 1299772,
    "start_time": "2023-09-15T20:05:15.360Z"
   },
   {
    "duration": 17,
    "start_time": "2023-09-15T20:36:16.700Z"
   },
   {
    "duration": 12,
    "start_time": "2023-09-15T20:36:17.361Z"
   },
   {
    "duration": 80,
    "start_time": "2023-09-15T20:36:17.539Z"
   },
   {
    "duration": 7,
    "start_time": "2023-09-15T20:36:17.694Z"
   },
   {
    "duration": 1045887,
    "start_time": "2023-09-15T20:36:19.828Z"
   },
   {
    "duration": 44511,
    "start_time": "2023-09-15T20:53:45.721Z"
   },
   {
    "duration": 1567,
    "start_time": "2023-09-15T20:54:30.234Z"
   },
   {
    "duration": 139,
    "start_time": "2023-09-15T21:22:51.524Z"
   },
   {
    "duration": 3,
    "start_time": "2023-09-15T21:23:14.241Z"
   },
   {
    "duration": 304,
    "start_time": "2023-09-15T21:23:14.589Z"
   },
   {
    "duration": 5,
    "start_time": "2023-09-15T21:43:02.544Z"
   },
   {
    "duration": 1405,
    "start_time": "2023-09-15T21:49:58.099Z"
   },
   {
    "duration": 1016,
    "start_time": "2023-09-15T21:49:59.507Z"
   },
   {
    "duration": 2,
    "start_time": "2023-09-15T21:50:00.525Z"
   },
   {
    "duration": 103,
    "start_time": "2023-09-15T21:50:00.529Z"
   },
   {
    "duration": 50,
    "start_time": "2023-09-15T21:50:00.634Z"
   },
   {
    "duration": 241,
    "start_time": "2023-09-15T21:50:00.686Z"
   },
   {
    "duration": 272,
    "start_time": "2023-09-15T21:50:00.929Z"
   },
   {
    "duration": 5,
    "start_time": "2023-09-15T21:50:01.203Z"
   },
   {
    "duration": 1548,
    "start_time": "2023-09-15T21:50:01.210Z"
   },
   {
    "duration": 1211897,
    "start_time": "2023-09-15T21:50:02.760Z"
   },
   {
    "duration": 9,
    "start_time": "2023-09-15T22:10:14.660Z"
   },
   {
    "duration": 14,
    "start_time": "2023-09-15T22:10:14.670Z"
   },
   {
    "duration": 81,
    "start_time": "2023-09-15T22:10:14.686Z"
   },
   {
    "duration": 5,
    "start_time": "2023-09-15T22:10:14.769Z"
   },
   {
    "duration": 985638,
    "start_time": "2023-09-15T22:10:14.775Z"
   },
   {
    "duration": 37306,
    "start_time": "2023-09-15T22:26:40.416Z"
   },
   {
    "duration": 1414,
    "start_time": "2023-09-15T22:27:17.724Z"
   }
  ],
  "kernelspec": {
   "display_name": "Python 3 (ipykernel)",
   "language": "python",
   "name": "python3"
  },
  "language_info": {
   "codemirror_mode": {
    "name": "ipython",
    "version": 3
   },
   "file_extension": ".py",
   "mimetype": "text/x-python",
   "name": "python",
   "nbconvert_exporter": "python",
   "pygments_lexer": "ipython3",
   "version": "3.10.9"
  },
  "toc": {
   "base_numbering": 1,
   "nav_menu": {},
   "number_sections": true,
   "sideBar": true,
   "skip_h1_title": true,
   "title_cell": "Содержание",
   "title_sidebar": "Contents",
   "toc_cell": true,
   "toc_position": {
    "height": "calc(100% - 180px)",
    "left": "10px",
    "top": "150px",
    "width": "302.391px"
   },
   "toc_section_display": true,
   "toc_window_display": false
  }
 },
 "nbformat": 4,
 "nbformat_minor": 2
}
